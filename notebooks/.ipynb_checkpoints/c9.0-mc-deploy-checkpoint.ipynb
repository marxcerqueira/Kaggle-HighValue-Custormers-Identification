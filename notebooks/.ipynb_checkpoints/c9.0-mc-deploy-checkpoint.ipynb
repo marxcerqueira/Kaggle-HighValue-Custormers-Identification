{
 "cells": [
  {
   "cell_type": "markdown",
   "id": "french-dollar",
   "metadata": {},
   "source": [
    "# High Value Customers Identification (Insiders) #\n",
    "**By: Marx Cerqueira**"
   ]
  },
  {
   "cell_type": "markdown",
   "id": "homeless-heading",
   "metadata": {},
   "source": [
    "# IMPORTS"
   ]
  },
  {
   "cell_type": "code",
   "execution_count": 80,
   "id": "lovely-guess",
   "metadata": {
    "ExecuteTime": {
     "end_time": "2022-03-15T20:11:55.193690Z",
     "start_time": "2022-03-15T20:11:55.185990Z"
    },
    "scrolled": true
   },
   "outputs": [],
   "source": [
    "import re\n",
    "import os\n",
    "import inflection\n",
    "\n",
    "import numpy   as np\n",
    "import pandas  as pd\n",
    "import seaborn as sns\n",
    "\n",
    "import umap.umap_ as umap\n",
    "\n",
    "from matplotlib import pyplot as plt\n",
    "\n",
    "from sklearn import metrics       as m\n",
    "from sklearn import preprocessing as pp\n",
    "from sklearn import decomposition as dd\n",
    "from sklearn import ensemble      as en\n",
    "from sklearn import manifold      as mn\n",
    "from sklearn import mixture       as mx\n",
    "from sklearn import cluster       as c\n",
    "\n",
    "from scipy.cluster import hierarchy as hc\n",
    "\n",
    "from plotly import express as px\n",
    "from sqlalchemy import create_engine"
   ]
  },
  {
   "cell_type": "markdown",
   "id": "satisfied-catholic",
   "metadata": {},
   "source": [
    "## Loading Data"
   ]
  },
  {
   "cell_type": "code",
   "execution_count": 2,
   "id": "front-edinburgh",
   "metadata": {
    "ExecuteTime": {
     "end_time": "2022-03-15T19:24:54.305668Z",
     "start_time": "2022-03-15T19:24:53.711782Z"
    },
    "scrolled": true
   },
   "outputs": [],
   "source": [
    "# load data\n",
    "df_ecomm_raw = pd.read_csv('/home/marxcerqueira/repos/Kaggle-HighValue-Custormers-Identification/data/raw/Ecommerce.csv',\n",
    "                           encoding='iso-8859-1',\n",
    "                           low_memory=False)\n",
    "\n",
    "#drop extra column\n",
    "df_ecomm_raw = df_ecomm_raw.drop(columns = ['Unnamed: 8'], axis = 1)"
   ]
  },
  {
   "cell_type": "markdown",
   "id": "respiratory-seattle",
   "metadata": {},
   "source": [
    "# DATA DISCRIPTION"
   ]
  },
  {
   "cell_type": "code",
   "execution_count": 3,
   "id": "italian-wayne",
   "metadata": {
    "ExecuteTime": {
     "end_time": "2022-03-15T19:25:09.216449Z",
     "start_time": "2022-03-15T19:25:09.202400Z"
    }
   },
   "outputs": [],
   "source": [
    "# Copy dataset\n",
    "df0 = df_ecomm_raw.copy()"
   ]
  },
  {
   "cell_type": "markdown",
   "id": "linear-haiti",
   "metadata": {},
   "source": [
    "## Rename Columns"
   ]
  },
  {
   "cell_type": "code",
   "execution_count": 4,
   "id": "compressed-sword",
   "metadata": {
    "ExecuteTime": {
     "end_time": "2022-03-15T19:25:15.658079Z",
     "start_time": "2022-03-15T19:25:15.653678Z"
    }
   },
   "outputs": [],
   "source": [
    "cols_old = ['InvoiceNo','StockCode','Description','Quantity', 'InvoiceDate','UnitPrice','CustomerID','Country']\n",
    "\n",
    "snakecase = lambda x: inflection.underscore(x)\n",
    "col_news = list(map(snakecase, cols_old))\n",
    "\n",
    "# Rename columns\n",
    "df0.columns = col_news"
   ]
  },
  {
   "cell_type": "markdown",
   "id": "growing-arrival",
   "metadata": {},
   "source": [
    "## Data Dimension"
   ]
  },
  {
   "cell_type": "code",
   "execution_count": 5,
   "id": "stone-immigration",
   "metadata": {
    "ExecuteTime": {
     "end_time": "2022-03-15T19:25:20.859836Z",
     "start_time": "2022-03-15T19:25:20.851793Z"
    }
   },
   "outputs": [
    {
     "name": "stdout",
     "output_type": "stream",
     "text": [
      "Number of rows: 541909.\n",
      "Number of cols: 8.\n"
     ]
    }
   ],
   "source": [
    "print('Number of rows: {}.'.format(df0.shape[0]))\n",
    "print('Number of cols: {}.'.format(df0.shape[1]))"
   ]
  },
  {
   "cell_type": "markdown",
   "id": "covered-offset",
   "metadata": {},
   "source": [
    "## Data Types"
   ]
  },
  {
   "cell_type": "code",
   "execution_count": 6,
   "id": "conditional-triangle",
   "metadata": {
    "ExecuteTime": {
     "end_time": "2022-03-15T19:25:29.507377Z",
     "start_time": "2022-03-15T19:25:29.390727Z"
    }
   },
   "outputs": [
    {
     "name": "stdout",
     "output_type": "stream",
     "text": [
      "<class 'pandas.core.frame.DataFrame'>\n",
      "RangeIndex: 541909 entries, 0 to 541908\n",
      "Data columns (total 8 columns):\n",
      " #   Column        Non-Null Count   Dtype  \n",
      "---  ------        --------------   -----  \n",
      " 0   invoice_no    541909 non-null  object \n",
      " 1   stock_code    541909 non-null  object \n",
      " 2   description   540455 non-null  object \n",
      " 3   quantity      541909 non-null  int64  \n",
      " 4   invoice_date  541909 non-null  object \n",
      " 5   unit_price    541909 non-null  float64\n",
      " 6   customer_id   406829 non-null  float64\n",
      " 7   country       541909 non-null  object \n",
      "dtypes: float64(2), int64(1), object(5)\n",
      "memory usage: 33.1+ MB\n"
     ]
    }
   ],
   "source": [
    "df0.info()"
   ]
  },
  {
   "cell_type": "markdown",
   "id": "naval-annual",
   "metadata": {},
   "source": [
    "## Check NA Values"
   ]
  },
  {
   "cell_type": "code",
   "execution_count": 7,
   "id": "important-appendix",
   "metadata": {
    "ExecuteTime": {
     "end_time": "2022-03-15T19:25:34.322243Z",
     "start_time": "2022-03-15T19:25:34.144506Z"
    }
   },
   "outputs": [
    {
     "data": {
      "text/html": [
       "<div>\n",
       "<style scoped>\n",
       "    .dataframe tbody tr th:only-of-type {\n",
       "        vertical-align: middle;\n",
       "    }\n",
       "\n",
       "    .dataframe tbody tr th {\n",
       "        vertical-align: top;\n",
       "    }\n",
       "\n",
       "    .dataframe thead th {\n",
       "        text-align: right;\n",
       "    }\n",
       "</style>\n",
       "<table border=\"1\" class=\"dataframe\">\n",
       "  <thead>\n",
       "    <tr style=\"text-align: right;\">\n",
       "      <th></th>\n",
       "      <th>missing value count</th>\n",
       "      <th>percentage</th>\n",
       "    </tr>\n",
       "  </thead>\n",
       "  <tbody>\n",
       "    <tr>\n",
       "      <th>invoice_no</th>\n",
       "      <td>0</td>\n",
       "      <td>0.00</td>\n",
       "    </tr>\n",
       "    <tr>\n",
       "      <th>stock_code</th>\n",
       "      <td>0</td>\n",
       "      <td>0.00</td>\n",
       "    </tr>\n",
       "    <tr>\n",
       "      <th>description</th>\n",
       "      <td>1454</td>\n",
       "      <td>0.27</td>\n",
       "    </tr>\n",
       "    <tr>\n",
       "      <th>quantity</th>\n",
       "      <td>0</td>\n",
       "      <td>0.00</td>\n",
       "    </tr>\n",
       "    <tr>\n",
       "      <th>invoice_date</th>\n",
       "      <td>0</td>\n",
       "      <td>0.00</td>\n",
       "    </tr>\n",
       "    <tr>\n",
       "      <th>unit_price</th>\n",
       "      <td>0</td>\n",
       "      <td>0.00</td>\n",
       "    </tr>\n",
       "    <tr>\n",
       "      <th>customer_id</th>\n",
       "      <td>135080</td>\n",
       "      <td>24.93</td>\n",
       "    </tr>\n",
       "    <tr>\n",
       "      <th>country</th>\n",
       "      <td>0</td>\n",
       "      <td>0.00</td>\n",
       "    </tr>\n",
       "  </tbody>\n",
       "</table>\n",
       "</div>"
      ],
      "text/plain": [
       "              missing value count  percentage\n",
       "invoice_no                      0        0.00\n",
       "stock_code                      0        0.00\n",
       "description                  1454        0.27\n",
       "quantity                        0        0.00\n",
       "invoice_date                    0        0.00\n",
       "unit_price                      0        0.00\n",
       "customer_id                135080       24.93\n",
       "country                         0        0.00"
      ]
     },
     "execution_count": 7,
     "metadata": {},
     "output_type": "execute_result"
    }
   ],
   "source": [
    "missing_count = df0.isnull().sum() # the count of missing values\n",
    "value_count = df0.isnull().count() # the total values count\n",
    "\n",
    "missing_percentage = round(missing_count/value_count*100,2) # the percentage of missing values\n",
    "missing_df = pd.DataFrame({'missing value count': missing_count, 'percentage': missing_percentage})\n",
    "missing_df"
   ]
  },
  {
   "cell_type": "code",
   "execution_count": 8,
   "id": "floral-transportation",
   "metadata": {
    "ExecuteTime": {
     "end_time": "2022-03-15T19:25:42.538509Z",
     "start_time": "2022-03-15T19:25:42.392202Z"
    }
   },
   "outputs": [
    {
     "data": {
      "image/png": "[encoded data removed]",
      "text/plain": [
       "<Figure size 432x288 with 1 Axes>"
      ]
     },
     "metadata": {
      "needs_background": "light"
     },
     "output_type": "display_data"
    }
   ],
   "source": [
    "barchart = missing_df.plot.bar(y='percentage')\n",
    "for index, percentage in enumerate( missing_percentage ):\n",
    "    barchart.text( index, percentage, str(percentage)+'%')"
   ]
  },
  {
   "cell_type": "markdown",
   "id": "unique-charlotte",
   "metadata": {},
   "source": [
    "## Fillout NA"
   ]
  },
  {
   "cell_type": "code",
   "execution_count": 9,
   "id": "coral-leone",
   "metadata": {
    "ExecuteTime": {
     "end_time": "2022-03-15T19:25:54.817698Z",
     "start_time": "2022-03-15T19:25:54.772409Z"
    }
   },
   "outputs": [],
   "source": [
    "# separate NA's in two different dataframe, one with NAs and other without it\n",
    "df_missing = df0.loc[df0['customer_id'].isna(), :]\n",
    "df_not_missing = df0.loc[~df0['customer_id'].isna(), :]"
   ]
  },
  {
   "cell_type": "code",
   "execution_count": 10,
   "id": "basic-invite",
   "metadata": {
    "ExecuteTime": {
     "end_time": "2022-03-15T19:26:01.570568Z",
     "start_time": "2022-03-15T19:26:01.365098Z"
    }
   },
   "outputs": [],
   "source": [
    "# create reference\n",
    "df_backup = pd.DataFrame( df_missing['invoice_no'].drop_duplicates().copy() )\n",
    "df_backup['customer_id'] = np.arange( 19000, 19000+len( df_backup ), 1) # Fillout NA stratety: creating customers_id to keep their behavior (25% of the database)\n",
    "\n",
    "# merge original with reference dataframe\n",
    "df0 = pd.merge( df0, df_backup, on='invoice_no', how='left' )\n",
    "\n",
    "# coalesce \n",
    "df0['customer_id'] = df0['customer_id_x'].combine_first( df0['customer_id_y'] )\n",
    "\n",
    "# drop extra columns\n",
    "df0 = df0.drop( columns=['customer_id_x', 'customer_id_y'], axis=1 )"
   ]
  },
  {
   "cell_type": "code",
   "execution_count": 11,
   "id": "critical-front",
   "metadata": {
    "ExecuteTime": {
     "end_time": "2022-03-15T19:26:04.493479Z",
     "start_time": "2022-03-15T19:26:04.393443Z"
    }
   },
   "outputs": [
    {
     "data": {
      "text/plain": [
       "invoice_no         0\n",
       "stock_code         0\n",
       "description     1454\n",
       "quantity           0\n",
       "invoice_date       0\n",
       "unit_price         0\n",
       "country            0\n",
       "customer_id        0\n",
       "dtype: int64"
      ]
     },
     "execution_count": 11,
     "metadata": {},
     "output_type": "execute_result"
    }
   ],
   "source": [
    "df0.isna().sum()"
   ]
  },
  {
   "cell_type": "markdown",
   "id": "baking-paragraph",
   "metadata": {},
   "source": [
    "## Change Types"
   ]
  },
  {
   "cell_type": "code",
   "execution_count": 12,
   "id": "second-brunei",
   "metadata": {
    "ExecuteTime": {
     "end_time": "2022-03-15T19:26:12.560570Z",
     "start_time": "2022-03-15T19:26:12.471248Z"
    }
   },
   "outputs": [],
   "source": [
    "# Transforme datatype of variable invoice_date to datetime\n",
    "df0['invoice_date'] = pd.to_datetime(df0['invoice_date'])"
   ]
  },
  {
   "cell_type": "code",
   "execution_count": 13,
   "id": "cellular-jurisdiction",
   "metadata": {
    "ExecuteTime": {
     "end_time": "2022-03-15T19:26:17.549948Z",
     "start_time": "2022-03-15T19:26:17.543985Z"
    }
   },
   "outputs": [],
   "source": [
    "df0['customer_id'] = df0['customer_id'].astype('int64')"
   ]
  },
  {
   "cell_type": "code",
   "execution_count": 14,
   "id": "rotary-providence",
   "metadata": {
    "ExecuteTime": {
     "end_time": "2022-03-15T19:26:18.669518Z",
     "start_time": "2022-03-15T19:26:18.661353Z"
    }
   },
   "outputs": [
    {
     "data": {
      "text/plain": [
       "invoice_no              object\n",
       "stock_code              object\n",
       "description             object\n",
       "quantity                 int64\n",
       "invoice_date    datetime64[ns]\n",
       "unit_price             float64\n",
       "country                 object\n",
       "customer_id              int64\n",
       "dtype: object"
      ]
     },
     "execution_count": 14,
     "metadata": {},
     "output_type": "execute_result"
    }
   ],
   "source": [
    "df0.dtypes"
   ]
  },
  {
   "cell_type": "markdown",
   "id": "severe-puppy",
   "metadata": {},
   "source": [
    "## Descriptive Statistics"
   ]
  },
  {
   "cell_type": "code",
   "execution_count": 15,
   "id": "wrong-nothing",
   "metadata": {
    "ExecuteTime": {
     "end_time": "2022-03-15T19:26:47.325183Z",
     "start_time": "2022-03-15T19:26:47.273141Z"
    },
    "scrolled": false
   },
   "outputs": [
    {
     "data": {
      "text/html": [
       "<div>\n",
       "<style scoped>\n",
       "    .dataframe tbody tr th:only-of-type {\n",
       "        vertical-align: middle;\n",
       "    }\n",
       "\n",
       "    .dataframe tbody tr th {\n",
       "        vertical-align: top;\n",
       "    }\n",
       "\n",
       "    .dataframe thead th {\n",
       "        text-align: right;\n",
       "    }\n",
       "</style>\n",
       "<table border=\"1\" class=\"dataframe\">\n",
       "  <thead>\n",
       "    <tr style=\"text-align: right;\">\n",
       "      <th></th>\n",
       "      <th>count</th>\n",
       "      <th>mean</th>\n",
       "      <th>std</th>\n",
       "      <th>min</th>\n",
       "      <th>25%</th>\n",
       "      <th>50%</th>\n",
       "      <th>75%</th>\n",
       "      <th>max</th>\n",
       "    </tr>\n",
       "  </thead>\n",
       "  <tbody>\n",
       "    <tr>\n",
       "      <th>quantity</th>\n",
       "      <td>541909.0</td>\n",
       "      <td>9.552250</td>\n",
       "      <td>218.081158</td>\n",
       "      <td>-80995.00</td>\n",
       "      <td>1.00</td>\n",
       "      <td>3.00</td>\n",
       "      <td>10.00</td>\n",
       "      <td>80995.0</td>\n",
       "    </tr>\n",
       "    <tr>\n",
       "      <th>unit_price</th>\n",
       "      <td>541909.0</td>\n",
       "      <td>4.611114</td>\n",
       "      <td>96.759853</td>\n",
       "      <td>-11062.06</td>\n",
       "      <td>1.25</td>\n",
       "      <td>2.08</td>\n",
       "      <td>4.13</td>\n",
       "      <td>38970.0</td>\n",
       "    </tr>\n",
       "    <tr>\n",
       "      <th>customer_id</th>\n",
       "      <td>541909.0</td>\n",
       "      <td>16688.840453</td>\n",
       "      <td>2911.411352</td>\n",
       "      <td>12346.00</td>\n",
       "      <td>14367.00</td>\n",
       "      <td>16249.00</td>\n",
       "      <td>18283.00</td>\n",
       "      <td>22709.0</td>\n",
       "    </tr>\n",
       "  </tbody>\n",
       "</table>\n",
       "</div>"
      ],
      "text/plain": [
       "                count          mean          std       min       25%  \\\n",
       "quantity     541909.0      9.552250   218.081158 -80995.00      1.00   \n",
       "unit_price   541909.0      4.611114    96.759853 -11062.06      1.25   \n",
       "customer_id  541909.0  16688.840453  2911.411352  12346.00  14367.00   \n",
       "\n",
       "                  50%       75%      max  \n",
       "quantity         3.00     10.00  80995.0  \n",
       "unit_price       2.08      4.13  38970.0  \n",
       "customer_id  16249.00  18283.00  22709.0  "
      ]
     },
     "execution_count": 15,
     "metadata": {},
     "output_type": "execute_result"
    }
   ],
   "source": [
    "df0.describe().T"
   ]
  },
  {
   "cell_type": "code",
   "execution_count": 16,
   "id": "f38213f9",
   "metadata": {
    "ExecuteTime": {
     "end_time": "2022-03-15T19:26:48.656166Z",
     "start_time": "2022-03-15T19:26:48.502134Z"
    }
   },
   "outputs": [
    {
     "data": {
      "text/html": [
       "<div>\n",
       "<style scoped>\n",
       "    .dataframe tbody tr th:only-of-type {\n",
       "        vertical-align: middle;\n",
       "    }\n",
       "\n",
       "    .dataframe tbody tr th {\n",
       "        vertical-align: top;\n",
       "    }\n",
       "\n",
       "    .dataframe thead th {\n",
       "        text-align: right;\n",
       "    }\n",
       "</style>\n",
       "<table border=\"1\" class=\"dataframe\">\n",
       "  <thead>\n",
       "    <tr style=\"text-align: right;\">\n",
       "      <th></th>\n",
       "      <th>count</th>\n",
       "      <th>unique</th>\n",
       "      <th>top</th>\n",
       "      <th>freq</th>\n",
       "    </tr>\n",
       "  </thead>\n",
       "  <tbody>\n",
       "    <tr>\n",
       "      <th>invoice_no</th>\n",
       "      <td>541909</td>\n",
       "      <td>25900</td>\n",
       "      <td>573585</td>\n",
       "      <td>1114</td>\n",
       "    </tr>\n",
       "    <tr>\n",
       "      <th>stock_code</th>\n",
       "      <td>541909</td>\n",
       "      <td>4070</td>\n",
       "      <td>85123A</td>\n",
       "      <td>2313</td>\n",
       "    </tr>\n",
       "    <tr>\n",
       "      <th>description</th>\n",
       "      <td>540455</td>\n",
       "      <td>4223</td>\n",
       "      <td>WHITE HANGING HEART T-LIGHT HOLDER</td>\n",
       "      <td>2369</td>\n",
       "    </tr>\n",
       "    <tr>\n",
       "      <th>country</th>\n",
       "      <td>541909</td>\n",
       "      <td>38</td>\n",
       "      <td>United Kingdom</td>\n",
       "      <td>495478</td>\n",
       "    </tr>\n",
       "  </tbody>\n",
       "</table>\n",
       "</div>"
      ],
      "text/plain": [
       "              count unique                                 top    freq\n",
       "invoice_no   541909  25900                              573585    1114\n",
       "stock_code   541909   4070                              85123A    2313\n",
       "description  540455   4223  WHITE HANGING HEART T-LIGHT HOLDER    2369\n",
       "country      541909     38                      United Kingdom  495478"
      ]
     },
     "execution_count": 16,
     "metadata": {},
     "output_type": "execute_result"
    }
   ],
   "source": [
    "df0.describe(include = object).T"
   ]
  },
  {
   "cell_type": "code",
   "execution_count": 19,
   "id": "heated-growing",
   "metadata": {
    "ExecuteTime": {
     "end_time": "2022-03-15T19:28:03.328994Z",
     "start_time": "2022-03-15T19:28:03.297342Z"
    }
   },
   "outputs": [],
   "source": [
    "num_attributes = df0.select_dtypes(include = np.number)\n",
    "cat_attributes = df0.select_dtypes(exclude = [np.number, np.datetime64])"
   ]
  },
  {
   "cell_type": "markdown",
   "id": "decimal-recipient",
   "metadata": {},
   "source": [
    "### Numerical Attributes"
   ]
  },
  {
   "cell_type": "code",
   "execution_count": 20,
   "id": "hungry-durham",
   "metadata": {
    "ExecuteTime": {
     "end_time": "2022-03-15T19:28:08.192792Z",
     "start_time": "2022-03-15T19:28:08.104768Z"
    },
    "scrolled": true
   },
   "outputs": [
    {
     "data": {
      "text/html": [
       "<div>\n",
       "<style scoped>\n",
       "    .dataframe tbody tr th:only-of-type {\n",
       "        vertical-align: middle;\n",
       "    }\n",
       "\n",
       "    .dataframe tbody tr th {\n",
       "        vertical-align: top;\n",
       "    }\n",
       "\n",
       "    .dataframe thead th {\n",
       "        text-align: right;\n",
       "    }\n",
       "</style>\n",
       "<table border=\"1\" class=\"dataframe\">\n",
       "  <thead>\n",
       "    <tr style=\"text-align: right;\">\n",
       "      <th></th>\n",
       "      <th>attributes</th>\n",
       "      <th>min</th>\n",
       "      <th>max</th>\n",
       "      <th>range</th>\n",
       "      <th>mean</th>\n",
       "      <th>mediana</th>\n",
       "      <th>std</th>\n",
       "      <th>skew</th>\n",
       "      <th>kurtosis</th>\n",
       "    </tr>\n",
       "  </thead>\n",
       "  <tbody>\n",
       "    <tr>\n",
       "      <th>0</th>\n",
       "      <td>quantity</td>\n",
       "      <td>-80995.00</td>\n",
       "      <td>80995.0</td>\n",
       "      <td>161990.00</td>\n",
       "      <td>9.552250</td>\n",
       "      <td>3.00</td>\n",
       "      <td>218.080957</td>\n",
       "      <td>-0.264076</td>\n",
       "      <td>119769.160031</td>\n",
       "    </tr>\n",
       "    <tr>\n",
       "      <th>1</th>\n",
       "      <td>unit_price</td>\n",
       "      <td>-11062.06</td>\n",
       "      <td>38970.0</td>\n",
       "      <td>50032.06</td>\n",
       "      <td>4.611114</td>\n",
       "      <td>2.08</td>\n",
       "      <td>96.759764</td>\n",
       "      <td>186.506972</td>\n",
       "      <td>59005.719097</td>\n",
       "    </tr>\n",
       "    <tr>\n",
       "      <th>2</th>\n",
       "      <td>customer_id</td>\n",
       "      <td>12346.00</td>\n",
       "      <td>22709.0</td>\n",
       "      <td>10363.00</td>\n",
       "      <td>16688.840453</td>\n",
       "      <td>16249.00</td>\n",
       "      <td>2911.408666</td>\n",
       "      <td>0.487449</td>\n",
       "      <td>-0.804287</td>\n",
       "    </tr>\n",
       "  </tbody>\n",
       "</table>\n",
       "</div>"
      ],
      "text/plain": [
       "    attributes       min      max      range          mean   mediana  \\\n",
       "0     quantity -80995.00  80995.0  161990.00      9.552250      3.00   \n",
       "1   unit_price -11062.06  38970.0   50032.06      4.611114      2.08   \n",
       "2  customer_id  12346.00  22709.0   10363.00  16688.840453  16249.00   \n",
       "\n",
       "           std        skew       kurtosis  \n",
       "0   218.080957   -0.264076  119769.160031  \n",
       "1    96.759764  186.506972   59005.719097  \n",
       "2  2911.408666    0.487449      -0.804287  "
      ]
     },
     "execution_count": 20,
     "metadata": {},
     "output_type": "execute_result"
    }
   ],
   "source": [
    "# central tendency - mean, median\n",
    "ct1 = pd.DataFrame(num_attributes.apply(np.mean)).T\n",
    "ct2 = pd.DataFrame(num_attributes.apply(np.median)).T\n",
    "\n",
    "# dispersion - desvio padrão, min, max, range, skew, kurtosis\n",
    "d1 = pd.DataFrame(num_attributes.apply(np.std)).T\n",
    "d2 = pd.DataFrame(num_attributes.apply(np.min)).T\n",
    "d3 = pd.DataFrame(num_attributes.apply(np.max)).T\n",
    "d4 = pd.DataFrame(num_attributes.apply(lambda x: x.max()-x.min())).T\n",
    "d5 = pd.DataFrame(num_attributes.apply(lambda x: x.skew())).T\n",
    "d6 = pd.DataFrame(num_attributes.apply(lambda x: x.kurtosis())).T\n",
    "\n",
    "#concatenate\n",
    "\n",
    "m1 = pd.concat([d2,d3,d4,ct1,ct2,d1,d5,d6]).T.reset_index()\n",
    "m1.columns = ['attributes', 'min', 'max', 'range', 'mean', 'mediana','std', 'skew','kurtosis']\n",
    "m1"
   ]
  },
  {
   "cell_type": "markdown",
   "id": "geological-incident",
   "metadata": {},
   "source": [
    "### Categorical Attributes"
   ]
  },
  {
   "cell_type": "markdown",
   "id": "seeing-louisville",
   "metadata": {},
   "source": [
    "#### Invoice_No"
   ]
  },
  {
   "cell_type": "code",
   "execution_count": 23,
   "id": "parental-syndicate",
   "metadata": {
    "ExecuteTime": {
     "end_time": "2022-03-15T19:28:46.511488Z",
     "start_time": "2022-03-15T19:28:46.165759Z"
    }
   },
   "outputs": [
    {
     "name": "stdout",
     "output_type": "stream",
     "text": [
      "Total number of invoices: 9291\n",
      "Total number of negative quantity: 9288\n"
     ]
    }
   ],
   "source": [
    "# problem: We got letters and numbers in invoice_no\n",
    "#df1['invoice_no'].astype( int )\n",
    "\n",
    "# identification: \n",
    "df_letter_invoices = df0.loc[df0['invoice_no'].apply( lambda x: bool( re.search( '[^0-9]+', x ) ) ), :]\n",
    "df_letter_invoices.head()\n",
    "\n",
    "print( 'Total number of invoices: {}'.format( len( df_letter_invoices ) ) )\n",
    "print( 'Total number of negative quantity: {}'.format( len( df_letter_invoices[ df_letter_invoices['quantity'] < 0 ] ) ) )"
   ]
  },
  {
   "cell_type": "markdown",
   "id": "official-monday",
   "metadata": {},
   "source": [
    "#### Stock_Code"
   ]
  },
  {
   "cell_type": "code",
   "execution_count": 24,
   "id": "stuck-proportion",
   "metadata": {
    "ExecuteTime": {
     "end_time": "2022-03-15T19:28:48.145016Z",
     "start_time": "2022-03-15T19:28:47.827183Z"
    }
   },
   "outputs": [
    {
     "data": {
      "text/plain": [
       "array(['POST', 'D', 'DOT', 'M', 'S', 'AMAZONFEE', 'm', 'DCGSSBOY',\n",
       "       'DCGSSGIRL', 'PADS', 'B', 'CRUK'], dtype=object)"
      ]
     },
     "execution_count": 24,
     "metadata": {},
     "output_type": "execute_result"
    }
   ],
   "source": [
    "# check stock codes only characters\n",
    "df0.loc[df0['stock_code'].apply( lambda x: bool( re.search( '^[a-zA-Z]+$', x ) ) ), 'stock_code'].unique()\n",
    "\n",
    "# Acão:\n",
    "## 1. Remove stock_code in ['POST', 'D', 'M', 'PADS', 'DOT', 'CRUK']"
   ]
  },
  {
   "cell_type": "markdown",
   "id": "prime-prior",
   "metadata": {},
   "source": [
    "# VARIABLE FILTERING"
   ]
  },
  {
   "cell_type": "code",
   "execution_count": 25,
   "id": "flying-palace",
   "metadata": {
    "ExecuteTime": {
     "end_time": "2022-03-15T19:29:12.981622Z",
     "start_time": "2022-03-15T19:29:12.964967Z"
    }
   },
   "outputs": [],
   "source": [
    "df1 = df0.copy()"
   ]
  },
  {
   "cell_type": "code",
   "execution_count": 26,
   "id": "backed-fortune",
   "metadata": {
    "ExecuteTime": {
     "end_time": "2022-03-15T19:29:27.637020Z",
     "start_time": "2022-03-15T19:29:27.437069Z"
    }
   },
   "outputs": [],
   "source": [
    " # === Numerical attributes ====\n",
    "df1 = df1.loc[df1['unit_price'] >= 0.04, :]\n",
    "\n",
    "# === Categorical attributes ====\n",
    "df1 = df1[~df1['stock_code'].isin( ['POST', 'D', 'DOT', 'M', 'S', 'AMAZONFEE', 'm', 'DCGSSBOY',\n",
    "                                    'DCGSSGIRL', 'PADS', 'B', 'CRUK'] )]\n",
    "\n",
    "# description\n",
    "df1 = df1.drop( columns='description', axis=1 )\n",
    "\n",
    "# country \n",
    "df1 = df1[~df1['country'].isin( ['European Community', 'Unspecified' ] ) ] #assuming this risk so we can use lat long parameters\n",
    "\n",
    "# bad customers\n",
    "df1 = df1[~df1['customer_id'].isin([16446])]\n",
    "\n",
    "# quantity \n",
    "df1_returns = df1.loc[df1['quantity'] < 0, :].copy()\n",
    "df1_purchases = df1.loc[df1['quantity'] >= 0, :].copy()"
   ]
  },
  {
   "cell_type": "markdown",
   "id": "coastal-pakistan",
   "metadata": {},
   "source": [
    "# FEATURE ENGINEERING"
   ]
  },
  {
   "cell_type": "code",
   "execution_count": 40,
   "id": "military-porcelain",
   "metadata": {
    "ExecuteTime": {
     "end_time": "2022-03-15T19:37:27.585128Z",
     "start_time": "2022-03-15T19:37:27.570802Z"
    }
   },
   "outputs": [],
   "source": [
    "df2 = df1.copy()"
   ]
  },
  {
   "cell_type": "markdown",
   "id": "happy-witness",
   "metadata": {},
   "source": [
    "## Feature Creation"
   ]
  },
  {
   "cell_type": "code",
   "execution_count": 41,
   "id": "intimate-convergence",
   "metadata": {
    "ExecuteTime": {
     "end_time": "2022-03-15T19:37:29.586496Z",
     "start_time": "2022-03-15T19:37:29.560894Z"
    },
    "scrolled": false
   },
   "outputs": [],
   "source": [
    "# data reference\n",
    "# RFM Model, creating feature for it\n",
    "\n",
    "df_ref = df2.drop(['invoice_no', 'stock_code',\n",
    "                   'quantity', 'invoice_date', 'unit_price',\n",
    "                   'country'], axis = 1).drop_duplicates(ignore_index = True).copy()"
   ]
  },
  {
   "cell_type": "markdown",
   "id": "graduate-score",
   "metadata": {},
   "source": [
    "### Gross Revenue"
   ]
  },
  {
   "cell_type": "code",
   "execution_count": 42,
   "id": "removed-collector",
   "metadata": {
    "ExecuteTime": {
     "end_time": "2022-03-15T19:37:32.486481Z",
     "start_time": "2022-03-15T19:37:32.450801Z"
    },
    "scrolled": true
   },
   "outputs": [
    {
     "data": {
      "text/plain": [
       "customer_id       0\n",
       "gross_revenue    91\n",
       "dtype: int64"
      ]
     },
     "execution_count": 42,
     "metadata": {},
     "output_type": "execute_result"
    }
   ],
   "source": [
    "# Gross Revenue ( Faturamento ) quantity * price\n",
    "df1_purchases.loc[:, 'gross_revenue'] = df1_purchases.loc[:,'quantity'] * df1_purchases.loc[:, 'unit_price']\n",
    "\n",
    "# Monetary (How much money a customer spends on purchases)\n",
    "df_monetary = df1_purchases.loc[:, ['customer_id', 'gross_revenue']].groupby( 'customer_id' ).sum().reset_index()\n",
    "df_ref = pd.merge( df_ref, df_monetary, on='customer_id', how='left' )\n",
    "df_ref.isna().sum()"
   ]
  },
  {
   "cell_type": "markdown",
   "id": "ideal-spencer",
   "metadata": {},
   "source": [
    "### Recency"
   ]
  },
  {
   "cell_type": "code",
   "execution_count": 43,
   "id": "minus-damage",
   "metadata": {
    "ExecuteTime": {
     "end_time": "2022-03-15T19:37:33.307038Z",
     "start_time": "2022-03-15T19:37:33.270948Z"
    },
    "scrolled": true
   },
   "outputs": [
    {
     "data": {
      "text/plain": [
       "customer_id       0\n",
       "gross_revenue    91\n",
       "recency_days     91\n",
       "dtype: int64"
      ]
     },
     "execution_count": 43,
     "metadata": {},
     "output_type": "execute_result"
    }
   ],
   "source": [
    "# Recency - Day from last purchase\n",
    "df_recency = df1_purchases.loc[:, ['customer_id', 'invoice_date']].groupby( 'customer_id' ).max().reset_index()\n",
    "df_recency['recency_days'] = ( df1['invoice_date'].max() - df_recency['invoice_date'] ).dt.days\n",
    "df_recency = df_recency[['customer_id', 'recency_days']].copy()\n",
    "\n",
    "df_ref = pd.merge( df_ref, df_recency, on='customer_id', how='left' )\n",
    "df_ref.isna().sum()"
   ]
  },
  {
   "cell_type": "markdown",
   "id": "according-pittsburgh",
   "metadata": {},
   "source": [
    "### Qty Products  (different stock codes by customer)"
   ]
  },
  {
   "cell_type": "code",
   "execution_count": 44,
   "id": "understanding-syria",
   "metadata": {
    "ExecuteTime": {
     "end_time": "2022-03-15T19:37:38.707346Z",
     "start_time": "2022-03-15T19:37:38.652378Z"
    }
   },
   "outputs": [
    {
     "data": {
      "text/plain": [
       "customer_id       0\n",
       "gross_revenue    91\n",
       "recency_days     91\n",
       "qty_products     91\n",
       "dtype: int64"
      ]
     },
     "execution_count": 44,
     "metadata": {},
     "output_type": "execute_result"
    }
   ],
   "source": [
    "# Quantity of unique products purchased (Frequency: qntd of products over time)\n",
    "\n",
    "# Number of products (different stock codes by customer)\n",
    "df_freq = (df1_purchases.loc[:, ['customer_id', 'stock_code']].groupby( 'customer_id' ).count()\n",
    "                                                           .reset_index()\n",
    "                                                           .rename( columns={'stock_code': 'qty_products'} ) )\n",
    "df_ref = pd.merge( df_ref, df_freq, on='customer_id', how='left' )\n",
    "df_ref.isna().sum()"
   ]
  },
  {
   "cell_type": "markdown",
   "id": "nuclear-virgin",
   "metadata": {},
   "source": [
    "### Frequency"
   ]
  },
  {
   "cell_type": "code",
   "execution_count": 45,
   "id": "convenient-contents",
   "metadata": {
    "ExecuteTime": {
     "end_time": "2022-03-15T19:37:40.684429Z",
     "start_time": "2022-03-15T19:37:39.965223Z"
    }
   },
   "outputs": [
    {
     "data": {
      "text/plain": [
       "customer_id       0\n",
       "gross_revenue    91\n",
       "recency_days     91\n",
       "qty_products     91\n",
       "frequency        91\n",
       "dtype: int64"
      ]
     },
     "execution_count": 45,
     "metadata": {},
     "output_type": "execute_result"
    }
   ],
   "source": [
    "#Frequency Purchase (rate: purchases by day)\n",
    "df_aux = ( df1_purchases[['customer_id', 'invoice_no', 'invoice_date']].drop_duplicates()\n",
    "                                                             .groupby( 'customer_id')\n",
    "                                                             .agg( max_ = ( 'invoice_date', 'max' ), \n",
    "                                                                   min_ = ( 'invoice_date', 'min' ),\n",
    "                                                                   days_= ( 'invoice_date', lambda x: ( ( x.max() - x.min() ).days ) + 1 ),\n",
    "                                                                   buy_ = ( 'invoice_no', 'count' ) ) ).reset_index()\n",
    "# Frequency\n",
    "df_aux['frequency'] = df_aux[['buy_', 'days_']].apply( lambda x: x['buy_'] / x['days_'] if  x['days_'] != 0 else 0, axis=1 )\n",
    "\n",
    "# Merge\n",
    "df_ref = pd.merge( df_ref, df_aux[['customer_id', 'frequency']], on='customer_id', how='left' )\n",
    "df_ref.isna().sum()"
   ]
  },
  {
   "cell_type": "markdown",
   "id": "improving-species",
   "metadata": {},
   "source": [
    "### Number of Returns"
   ]
  },
  {
   "cell_type": "code",
   "execution_count": 46,
   "id": "aquatic-symbol",
   "metadata": {
    "ExecuteTime": {
     "end_time": "2022-03-15T19:37:42.733104Z",
     "start_time": "2022-03-15T19:37:42.712771Z"
    },
    "scrolled": true
   },
   "outputs": [
    {
     "data": {
      "text/plain": [
       "customer_id       0\n",
       "gross_revenue    91\n",
       "recency_days     91\n",
       "qty_products     91\n",
       "frequency        91\n",
       "qty_returns       0\n",
       "dtype: int64"
      ]
     },
     "execution_count": 46,
     "metadata": {},
     "output_type": "execute_result"
    }
   ],
   "source": [
    "#Number of Returns\n",
    "df_returns = df1_returns[['customer_id', 'quantity']].groupby( 'customer_id' ).sum().reset_index().rename( columns={'quantity':'qty_returns'} )\n",
    "df_returns['qty_returns'] = df_returns['qty_returns'] * -1\n",
    "\n",
    "df_ref = pd.merge( df_ref, df_returns, how='left', on='customer_id' )\n",
    "df_ref.loc[df_ref['qty_returns'].isna(), 'qty_returns'] = 0 #customers with 0 returned items\n",
    "\n",
    "df_ref.isna().sum()"
   ]
  },
  {
   "cell_type": "markdown",
   "id": "collaborative-baker",
   "metadata": {},
   "source": [
    "# EXPLORATORY DATA ANALYSIS (EDA)"
   ]
  },
  {
   "cell_type": "code",
   "execution_count": 48,
   "id": "roman-spice",
   "metadata": {
    "ExecuteTime": {
     "end_time": "2022-03-15T19:38:07.427429Z",
     "start_time": "2022-03-15T19:38:07.412772Z"
    }
   },
   "outputs": [
    {
     "data": {
      "text/plain": [
       "customer_id      0\n",
       "gross_revenue    0\n",
       "recency_days     0\n",
       "qty_products     0\n",
       "frequency        0\n",
       "qty_returns      0\n",
       "dtype: int64"
      ]
     },
     "execution_count": 48,
     "metadata": {},
     "output_type": "execute_result"
    }
   ],
   "source": [
    "df3 = df_ref.dropna().copy()\n",
    "df3.isna().sum()"
   ]
  },
  {
   "cell_type": "markdown",
   "id": "statistical-vietnamese",
   "metadata": {},
   "source": [
    "## Space Study"
   ]
  },
  {
   "cell_type": "code",
   "execution_count": 51,
   "id": "growing-platform",
   "metadata": {
    "ExecuteTime": {
     "end_time": "2022-03-15T19:39:22.922386Z",
     "start_time": "2022-03-15T19:39:22.914397Z"
    }
   },
   "outputs": [],
   "source": [
    "# Original dataset\n",
    "#df33 = df3.drop(columns = ['customer_id'], axis = '').copy()\n",
    "\n",
    "# dataset with selected columns due feature selection based on its importance\n",
    "cols_selected = ['customer_id', 'gross_revenue', 'recency_days', 'qty_products', 'frequency', 'qty_returns']\n",
    "df33 = df3[cols_selected].drop(columns = 'customer_id', axis = 1)"
   ]
  },
  {
   "cell_type": "code",
   "execution_count": 53,
   "id": "israeli-congress",
   "metadata": {
    "ExecuteTime": {
     "end_time": "2022-03-15T19:39:30.141926Z",
     "start_time": "2022-03-15T19:39:30.123080Z"
    }
   },
   "outputs": [
    {
     "data": {
      "text/html": [
       "<div>\n",
       "<style scoped>\n",
       "    .dataframe tbody tr th:only-of-type {\n",
       "        vertical-align: middle;\n",
       "    }\n",
       "\n",
       "    .dataframe tbody tr th {\n",
       "        vertical-align: top;\n",
       "    }\n",
       "\n",
       "    .dataframe thead th {\n",
       "        text-align: right;\n",
       "    }\n",
       "</style>\n",
       "<table border=\"1\" class=\"dataframe\">\n",
       "  <thead>\n",
       "    <tr style=\"text-align: right;\">\n",
       "      <th></th>\n",
       "      <th>gross_revenue</th>\n",
       "      <th>recency_days</th>\n",
       "      <th>qty_products</th>\n",
       "      <th>frequency</th>\n",
       "      <th>qty_returns</th>\n",
       "    </tr>\n",
       "  </thead>\n",
       "  <tbody>\n",
       "    <tr>\n",
       "      <th>0</th>\n",
       "      <td>5391.21</td>\n",
       "      <td>372.0</td>\n",
       "      <td>297.0</td>\n",
       "      <td>17.000000</td>\n",
       "      <td>40.0</td>\n",
       "    </tr>\n",
       "    <tr>\n",
       "      <th>1</th>\n",
       "      <td>3232.59</td>\n",
       "      <td>56.0</td>\n",
       "      <td>171.0</td>\n",
       "      <td>0.028302</td>\n",
       "      <td>35.0</td>\n",
       "    </tr>\n",
       "    <tr>\n",
       "      <th>2</th>\n",
       "      <td>6705.38</td>\n",
       "      <td>2.0</td>\n",
       "      <td>232.0</td>\n",
       "      <td>0.040323</td>\n",
       "      <td>50.0</td>\n",
       "    </tr>\n",
       "    <tr>\n",
       "      <th>3</th>\n",
       "      <td>948.25</td>\n",
       "      <td>95.0</td>\n",
       "      <td>28.0</td>\n",
       "      <td>0.017921</td>\n",
       "      <td>0.0</td>\n",
       "    </tr>\n",
       "    <tr>\n",
       "      <th>4</th>\n",
       "      <td>876.00</td>\n",
       "      <td>333.0</td>\n",
       "      <td>3.0</td>\n",
       "      <td>0.073171</td>\n",
       "      <td>22.0</td>\n",
       "    </tr>\n",
       "  </tbody>\n",
       "</table>\n",
       "</div>"
      ],
      "text/plain": [
       "   gross_revenue  recency_days  qty_products  frequency  qty_returns\n",
       "0        5391.21         372.0         297.0  17.000000         40.0\n",
       "1        3232.59          56.0         171.0   0.028302         35.0\n",
       "2        6705.38           2.0         232.0   0.040323         50.0\n",
       "3         948.25          95.0          28.0   0.017921          0.0\n",
       "4         876.00         333.0           3.0   0.073171         22.0"
      ]
     },
     "execution_count": 53,
     "metadata": {},
     "output_type": "execute_result"
    }
   ],
   "source": [
    "df33.head()"
   ]
  },
  {
   "cell_type": "code",
   "execution_count": 54,
   "id": "changing-revelation",
   "metadata": {
    "ExecuteTime": {
     "end_time": "2022-03-15T19:40:17.198414Z",
     "start_time": "2022-03-15T19:40:17.170376Z"
    }
   },
   "outputs": [],
   "source": [
    "mm = pp.MinMaxScaler()\n",
    "\n",
    "df33['gross_revenue'] = mm.fit_transform(df33[['gross_revenue']])\n",
    "df33['recency_days']  = mm.fit_transform(df33[['recency_days']])\n",
    "df33['qty_products']  = mm.fit_transform(df33[['qty_products']])\n",
    "df33['frequency']     = mm.fit_transform(df33[['frequency']])\n",
    "df33['qty_returns']   = mm.fit_transform(df33[['qty_returns']])\n",
    "\n",
    "X = df33.copy()"
   ]
  },
  {
   "cell_type": "code",
   "execution_count": 55,
   "id": "alternative-reynolds",
   "metadata": {
    "ExecuteTime": {
     "end_time": "2022-03-15T19:40:22.650580Z",
     "start_time": "2022-03-15T19:40:22.644164Z"
    }
   },
   "outputs": [
    {
     "data": {
      "text/plain": [
       "(5695, 5)"
      ]
     },
     "execution_count": 55,
     "metadata": {},
     "output_type": "execute_result"
    }
   ],
   "source": [
    "X.shape"
   ]
  },
  {
   "cell_type": "markdown",
   "id": "national-flooring",
   "metadata": {},
   "source": [
    "#### PCA"
   ]
  },
  {
   "cell_type": "code",
   "execution_count": 56,
   "id": "hired-jumping",
   "metadata": {
    "ExecuteTime": {
     "end_time": "2022-03-15T19:40:37.172210Z",
     "start_time": "2022-03-15T19:40:37.062455Z"
    },
    "scrolled": false
   },
   "outputs": [
    {
     "data": {
      "image/png": "[encoded data removed]",
      "text/plain": [
       "<Figure size 432x288 with 1 Axes>"
      ]
     },
     "metadata": {
      "needs_background": "light"
     },
     "output_type": "display_data"
    }
   ],
   "source": [
    "pca = dd.PCA( n_components = X.shape[1])\n",
    "\n",
    "\n",
    "principal_components = pca.fit_transform(X)\n",
    "\n",
    "# plot explained variables\n",
    "features = range(pca.n_components_)\n",
    "\n",
    "plt.bar(features, pca.explained_variance_ratio_, color = 'black') #quais componentes principais com a maior variação de dados\n",
    "\n",
    "# pca component\n",
    "df_pca = pd.DataFrame( principal_components )"
   ]
  },
  {
   "cell_type": "code",
   "execution_count": 57,
   "id": "terminal-steps",
   "metadata": {
    "ExecuteTime": {
     "end_time": "2022-03-15T19:40:39.234703Z",
     "start_time": "2022-03-15T19:40:39.137766Z"
    }
   },
   "outputs": [
    {
     "data": {
      "image/png": "[encoded data removed]",
      "text/plain": [
       "<Figure size 432x288 with 1 Axes>"
      ]
     },
     "metadata": {
      "needs_background": "light"
     },
     "output_type": "display_data"
    }
   ],
   "source": [
    "sns.scatterplot(x = 0, y = 1, data = df_pca);"
   ]
  },
  {
   "cell_type": "markdown",
   "id": "possible-teens",
   "metadata": {},
   "source": [
    "#### UMAP"
   ]
  },
  {
   "cell_type": "code",
   "execution_count": 58,
   "id": "southwest-blowing",
   "metadata": {
    "ExecuteTime": {
     "end_time": "2022-03-15T19:43:01.400578Z",
     "start_time": "2022-03-15T19:42:46.681414Z"
    }
   },
   "outputs": [
    {
     "data": {
      "image/png": "[encoded data removed]",
      "text/plain": [
       "<Figure size 432x288 with 1 Axes>"
      ]
     },
     "metadata": {
      "needs_background": "light"
     },
     "output_type": "display_data"
    }
   ],
   "source": [
    "reducer = umap.UMAP(random_state = 42)\n",
    "embedding = reducer.fit_transform(X) #gera o espaço projetado - embedding é a projeção gerada em outro espaço\n",
    "\n",
    "#embedding\n",
    "df_umap = pd.DataFrame()\n",
    "df_umap['embedding_X'] = embedding[:, 0]\n",
    "df_umap['embedding_y'] = embedding[:, 1]\n",
    "\n",
    "#plot UMAP - cluster projetado de alta dimencionalidade\n",
    "sns.scatterplot(x = 'embedding_X', y = 'embedding_y',\n",
    "                data = df_umap);"
   ]
  },
  {
   "cell_type": "markdown",
   "id": "limited-degree",
   "metadata": {},
   "source": [
    "#### t-SNE"
   ]
  },
  {
   "cell_type": "code",
   "execution_count": 59,
   "id": "chubby-enlargement",
   "metadata": {
    "ExecuteTime": {
     "end_time": "2022-03-15T19:43:15.188703Z",
     "start_time": "2022-03-15T19:43:01.402115Z"
    },
    "scrolled": false
   },
   "outputs": [
    {
     "name": "stderr",
     "output_type": "stream",
     "text": [
      "/home/marxcerqueira/.local/lib/python3.8/site-packages/sklearn/manifold/_t_sne.py:780: FutureWarning: The default initialization in TSNE will change from 'random' to 'pca' in 1.2.\n",
      "  warnings.warn(\n",
      "/home/marxcerqueira/.local/lib/python3.8/site-packages/sklearn/manifold/_t_sne.py:790: FutureWarning: The default learning rate in TSNE will change from 200.0 to 'auto' in 1.2.\n",
      "  warnings.warn(\n"
     ]
    },
    {
     "data": {
      "image/png": "[encoded data removed]",
      "text/plain": [
       "<Figure size 432x288 with 1 Axes>"
      ]
     },
     "metadata": {
      "needs_background": "light"
     },
     "output_type": "display_data"
    }
   ],
   "source": [
    "reducer = mn.TSNE( n_components = 2, n_jobs = -1, random_state = 42)\n",
    "embedding = reducer.fit_transform(X) #gera o espaço projetado - embedding é a projeção gerada em outro espaço\n",
    "\n",
    "#embedding\n",
    "df_tsne = pd.DataFrame()\n",
    "df_tsne['embedding_X'] = embedding[:, 0]\n",
    "df_tsne['embedding_y'] = embedding[:, 1]\n",
    "\n",
    "#plot UMAP - cluster projetado de alta dimencionalidade\n",
    "sns.scatterplot(x = 'embedding_X', y = 'embedding_y',\n",
    "                data = df_tsne);"
   ]
  },
  {
   "cell_type": "markdown",
   "id": "substantial-inquiry",
   "metadata": {},
   "source": [
    "#### Tree-Based Embedding"
   ]
  },
  {
   "cell_type": "code",
   "execution_count": 60,
   "id": "8c708ff2",
   "metadata": {
    "ExecuteTime": {
     "end_time": "2022-03-15T19:44:05.714294Z",
     "start_time": "2022-03-15T19:44:05.696743Z"
    }
   },
   "outputs": [
    {
     "data": {
      "text/html": [
       "<div>\n",
       "<style scoped>\n",
       "    .dataframe tbody tr th:only-of-type {\n",
       "        vertical-align: middle;\n",
       "    }\n",
       "\n",
       "    .dataframe tbody tr th {\n",
       "        vertical-align: top;\n",
       "    }\n",
       "\n",
       "    .dataframe thead th {\n",
       "        text-align: right;\n",
       "    }\n",
       "</style>\n",
       "<table border=\"1\" class=\"dataframe\">\n",
       "  <thead>\n",
       "    <tr style=\"text-align: right;\">\n",
       "      <th></th>\n",
       "      <th>customer_id</th>\n",
       "      <th>gross_revenue</th>\n",
       "      <th>recency_days</th>\n",
       "      <th>qty_products</th>\n",
       "      <th>frequency</th>\n",
       "      <th>qty_returns</th>\n",
       "    </tr>\n",
       "  </thead>\n",
       "  <tbody>\n",
       "    <tr>\n",
       "      <th>0</th>\n",
       "      <td>17850</td>\n",
       "      <td>5391.21</td>\n",
       "      <td>372.0</td>\n",
       "      <td>297.0</td>\n",
       "      <td>17.000000</td>\n",
       "      <td>40.0</td>\n",
       "    </tr>\n",
       "    <tr>\n",
       "      <th>1</th>\n",
       "      <td>13047</td>\n",
       "      <td>3232.59</td>\n",
       "      <td>56.0</td>\n",
       "      <td>171.0</td>\n",
       "      <td>0.028302</td>\n",
       "      <td>35.0</td>\n",
       "    </tr>\n",
       "    <tr>\n",
       "      <th>2</th>\n",
       "      <td>12583</td>\n",
       "      <td>6705.38</td>\n",
       "      <td>2.0</td>\n",
       "      <td>232.0</td>\n",
       "      <td>0.040323</td>\n",
       "      <td>50.0</td>\n",
       "    </tr>\n",
       "    <tr>\n",
       "      <th>3</th>\n",
       "      <td>13748</td>\n",
       "      <td>948.25</td>\n",
       "      <td>95.0</td>\n",
       "      <td>28.0</td>\n",
       "      <td>0.017921</td>\n",
       "      <td>0.0</td>\n",
       "    </tr>\n",
       "    <tr>\n",
       "      <th>4</th>\n",
       "      <td>15100</td>\n",
       "      <td>876.00</td>\n",
       "      <td>333.0</td>\n",
       "      <td>3.0</td>\n",
       "      <td>0.073171</td>\n",
       "      <td>22.0</td>\n",
       "    </tr>\n",
       "  </tbody>\n",
       "</table>\n",
       "</div>"
      ],
      "text/plain": [
       "   customer_id  gross_revenue  recency_days  qty_products  frequency  \\\n",
       "0        17850        5391.21         372.0         297.0  17.000000   \n",
       "1        13047        3232.59          56.0         171.0   0.028302   \n",
       "2        12583        6705.38           2.0         232.0   0.040323   \n",
       "3        13748         948.25          95.0          28.0   0.017921   \n",
       "4        15100         876.00         333.0           3.0   0.073171   \n",
       "\n",
       "   qty_returns  \n",
       "0         40.0  \n",
       "1         35.0  \n",
       "2         50.0  \n",
       "3          0.0  \n",
       "4         22.0  "
      ]
     },
     "execution_count": 60,
     "metadata": {},
     "output_type": "execute_result"
    }
   ],
   "source": [
    "df3.head()"
   ]
  },
  {
   "cell_type": "code",
   "execution_count": 61,
   "id": "connected-wonder",
   "metadata": {
    "ExecuteTime": {
     "end_time": "2022-03-15T19:46:56.890448Z",
     "start_time": "2022-03-15T19:46:55.889772Z"
    }
   },
   "outputs": [],
   "source": [
    "# training dataset \n",
    "X = df33.drop(columns = ['gross_revenue'], axis = 1) #target variable\n",
    "y = df33['gross_revenue']\n",
    "\n",
    "# I could use boruta to select features to build a better embedding space\n",
    "\n",
    "# model definition\n",
    "rf_model = en.RandomForestRegressor(n_estimators = 100, random_state = 42)\n",
    "\n",
    "# model training\n",
    "rf_model.fit(X,y)\n",
    "\n",
    "# leaf\n",
    "df_leaf = pd.DataFrame(rf_model.apply( X ))"
   ]
  },
  {
   "cell_type": "code",
   "execution_count": 62,
   "id": "fleet-ozone",
   "metadata": {
    "ExecuteTime": {
     "end_time": "2022-03-15T19:47:20.452976Z",
     "start_time": "2022-03-15T19:47:10.832825Z"
    },
    "scrolled": true
   },
   "outputs": [
    {
     "name": "stderr",
     "output_type": "stream",
     "text": [
      "/home/marxcerqueira/.local/lib/python3.8/site-packages/sklearn/manifold/_spectral_embedding.py:260: UserWarning: Graph is not fully connected, spectral embedding may not work as expected.\n",
      "  warnings.warn(\n"
     ]
    },
    {
     "data": {
      "image/png": "[encoded data removed]",
      "text/plain": [
       "<Figure size 432x288 with 1 Axes>"
      ]
     },
     "metadata": {
      "needs_background": "light"
     },
     "output_type": "display_data"
    }
   ],
   "source": [
    "# using UMAP to reduce the space study from 100 to 2\n",
    "reducer = umap.UMAP(random_state = 42)\n",
    "embedding = reducer.fit_transform(df_leaf) #gera o espaço projetado - embedding é a projeção gerada em outro espaço\n",
    "\n",
    "#embedding\n",
    "df_tree = pd.DataFrame()\n",
    "df_tree['embedding_X'] = embedding[:, 0]\n",
    "df_tree['embedding_y'] = embedding[:, 1]\n",
    "\n",
    "#plot UMAP - cluster projetado de alta dimencionalidade\n",
    "sns.scatterplot(x = 'embedding_X', y = 'embedding_y',\n",
    "                data = df_tree);"
   ]
  },
  {
   "cell_type": "markdown",
   "id": "distributed-rebate",
   "metadata": {},
   "source": [
    "# DATA PREPARATION"
   ]
  },
  {
   "cell_type": "code",
   "execution_count": 120,
   "id": "single-camera",
   "metadata": {
    "ExecuteTime": {
     "end_time": "2022-03-15T21:51:35.741093Z",
     "start_time": "2022-03-15T21:51:35.724015Z"
    }
   },
   "outputs": [],
   "source": [
    "# Tree-Based Embbeding\n",
    "df4 = df_tree.copy()\n",
    "df4.to_csv('../src/data/tree_based_embbeding.csv', index = False)\n",
    "\n",
    "# # UMAP Embbeding\n",
    "# df4 = df_umap.copy()\n",
    "\n",
    "# # TSNE Embedding\n",
    "# df4 = df_tsne.copy()"
   ]
  },
  {
   "cell_type": "markdown",
   "id": "decimal-editing",
   "metadata": {},
   "source": [
    "# HYPERPARAMETER FINE-TUNNING"
   ]
  },
  {
   "cell_type": "code",
   "execution_count": 110,
   "id": "herbal-internet",
   "metadata": {
    "ExecuteTime": {
     "end_time": "2022-03-15T20:59:09.411426Z",
     "start_time": "2022-03-15T20:59:09.405310Z"
    }
   },
   "outputs": [],
   "source": [
    "X = df4.copy()"
   ]
  },
  {
   "cell_type": "code",
   "execution_count": 111,
   "id": "elect-looking",
   "metadata": {
    "ExecuteTime": {
     "end_time": "2022-03-15T20:59:10.986447Z",
     "start_time": "2022-03-15T20:59:10.973806Z"
    },
    "scrolled": true
   },
   "outputs": [
    {
     "data": {
      "text/html": [
       "<div>\n",
       "<style scoped>\n",
       "    .dataframe tbody tr th:only-of-type {\n",
       "        vertical-align: middle;\n",
       "    }\n",
       "\n",
       "    .dataframe tbody tr th {\n",
       "        vertical-align: top;\n",
       "    }\n",
       "\n",
       "    .dataframe thead th {\n",
       "        text-align: right;\n",
       "    }\n",
       "</style>\n",
       "<table border=\"1\" class=\"dataframe\">\n",
       "  <thead>\n",
       "    <tr style=\"text-align: right;\">\n",
       "      <th></th>\n",
       "      <th>embedding_X</th>\n",
       "      <th>embedding_y</th>\n",
       "    </tr>\n",
       "  </thead>\n",
       "  <tbody>\n",
       "    <tr>\n",
       "      <th>0</th>\n",
       "      <td>6.347655</td>\n",
       "      <td>5.236121</td>\n",
       "    </tr>\n",
       "    <tr>\n",
       "      <th>1</th>\n",
       "      <td>7.887172</td>\n",
       "      <td>1.857367</td>\n",
       "    </tr>\n",
       "    <tr>\n",
       "      <th>2</th>\n",
       "      <td>6.405646</td>\n",
       "      <td>4.692932</td>\n",
       "    </tr>\n",
       "    <tr>\n",
       "      <th>3</th>\n",
       "      <td>-6.816030</td>\n",
       "      <td>13.552685</td>\n",
       "    </tr>\n",
       "    <tr>\n",
       "      <th>4</th>\n",
       "      <td>18.769855</td>\n",
       "      <td>-7.854446</td>\n",
       "    </tr>\n",
       "  </tbody>\n",
       "</table>\n",
       "</div>"
      ],
      "text/plain": [
       "   embedding_X  embedding_y\n",
       "0     6.347655     5.236121\n",
       "1     7.887172     1.857367\n",
       "2     6.405646     4.692932\n",
       "3    -6.816030    13.552685\n",
       "4    18.769855    -7.854446"
      ]
     },
     "execution_count": 111,
     "metadata": {},
     "output_type": "execute_result"
    }
   ],
   "source": [
    "X.head()"
   ]
  },
  {
   "cell_type": "code",
   "execution_count": 112,
   "id": "missing-scholar",
   "metadata": {
    "ExecuteTime": {
     "end_time": "2022-03-15T20:59:13.020279Z",
     "start_time": "2022-03-15T20:59:13.012946Z"
    }
   },
   "outputs": [
    {
     "data": {
      "text/plain": [
       "array([ 2,  3,  4,  5,  6,  7,  8,  9, 10, 11, 12, 13, 14, 15, 16, 17, 18,\n",
       "       19, 20, 21, 22, 23, 24, 25, 26, 27, 28, 29, 30])"
      ]
     },
     "execution_count": 112,
     "metadata": {},
     "output_type": "execute_result"
    }
   ],
   "source": [
    "clusters = np.arange(2, 31, 1) #silhouette was increasing, so we put more k points\n",
    "clusters"
   ]
  },
  {
   "cell_type": "markdown",
   "id": "tired-sword",
   "metadata": {},
   "source": [
    "## K-Means"
   ]
  },
  {
   "cell_type": "code",
   "execution_count": 113,
   "id": "excited-registrar",
   "metadata": {
    "ExecuteTime": {
     "end_time": "2022-03-15T21:00:15.726282Z",
     "start_time": "2022-03-15T20:59:15.454431Z"
    }
   },
   "outputs": [],
   "source": [
    "kmeans_sil = []\n",
    "\n",
    "for k in clusters:\n",
    "    # model definition\n",
    "    kmeans_model = c.KMeans( n_clusters = k, n_init = 100, random_state = 42 )\n",
    "\n",
    "    # model training\n",
    "    kmeans_model.fit(X)\n",
    "\n",
    "    # model predict\n",
    "    labels = kmeans_model.predict(X)\n",
    "\n",
    "    # model performance\n",
    "    sil = m.silhouette_score( X, labels, metric = 'euclidean')\n",
    "    kmeans_sil.append(sil)  "
   ]
  },
  {
   "cell_type": "code",
   "execution_count": 114,
   "id": "stainless-stationery",
   "metadata": {
    "ExecuteTime": {
     "end_time": "2022-03-15T21:00:15.807840Z",
     "start_time": "2022-03-15T21:00:15.727678Z"
    }
   },
   "outputs": [
    {
     "data": {
      "image/png": "[encoded data removed]",
      "text/plain": [
       "<Figure size 432x288 with 1 Axes>"
      ]
     },
     "metadata": {
      "needs_background": "light"
     },
     "output_type": "display_data"
    }
   ],
   "source": [
    "plt.plot( clusters, kmeans_sil, linestyle = '--', marker = 'o', color = 'b' )\n",
    "plt.xlabel( 'K' );\n",
    "plt.ylabel('Silhouette Score');\n",
    "plt.title('KMeans Silhouette Score per K ');"
   ]
  },
  {
   "cell_type": "markdown",
   "id": "korean-black",
   "metadata": {},
   "source": [
    "## GMM"
   ]
  },
  {
   "cell_type": "code",
   "execution_count": 103,
   "id": "intelligent-confirmation",
   "metadata": {
    "ExecuteTime": {
     "end_time": "2022-03-15T20:47:10.743157Z",
     "start_time": "2022-03-15T20:30:03.697606Z"
    }
   },
   "outputs": [],
   "source": [
    "gmm_sil = []\n",
    "for k in clusters:\n",
    "    # model definition\n",
    "    gmm_model = mx.GaussianMixture(n_components = k, n_init = 100, random_state = 42)\n",
    "    \n",
    "    # model training\n",
    "    gmm_model.fit(X)\n",
    "    \n",
    "    # model prediction\n",
    "    labels = gmm_model.predict(X)\n",
    "    \n",
    "    # model performance\n",
    "    sil = m.silhouette_score(X, labels, metric = 'euclidean')\n",
    "    gmm_sil.append(sil)"
   ]
  },
  {
   "cell_type": "code",
   "execution_count": 104,
   "id": "unusual-landing",
   "metadata": {
    "ExecuteTime": {
     "end_time": "2022-03-15T20:47:10.860990Z",
     "start_time": "2022-03-15T20:47:10.744777Z"
    }
   },
   "outputs": [
    {
     "data": {
      "image/png": "[encoded data removed]",
      "text/plain": [
       "<Figure size 432x288 with 1 Axes>"
      ]
     },
     "metadata": {
      "needs_background": "light"
     },
     "output_type": "display_data"
    }
   ],
   "source": [
    "plt.plot(clusters, gmm_sil, linestyle = '--', marker = 'o', color = 'b')\n",
    "plt.xlabel( 'K' );\n",
    "plt.ylabel('Silhouette Score');\n",
    "plt.title('GMM Silhouette Score per K ');"
   ]
  },
  {
   "cell_type": "markdown",
   "id": "contrary-casino",
   "metadata": {},
   "source": [
    "## Hierarchical Clustering"
   ]
  },
  {
   "cell_type": "code",
   "execution_count": 105,
   "id": "incorrect-still",
   "metadata": {
    "ExecuteTime": {
     "end_time": "2022-03-15T20:47:11.487548Z",
     "start_time": "2022-03-15T20:47:10.862488Z"
    }
   },
   "outputs": [],
   "source": [
    "# model definition and training\n",
    "hc_model = hc.linkage(X, 'ward')"
   ]
  },
  {
   "cell_type": "markdown",
   "id": "lined-selection",
   "metadata": {},
   "source": [
    "### H-Clustering Silhouette Score"
   ]
  },
  {
   "cell_type": "code",
   "execution_count": 106,
   "id": "wound-hopkins",
   "metadata": {
    "ExecuteTime": {
     "end_time": "2022-03-15T20:47:39.738935Z",
     "start_time": "2022-03-15T20:47:11.488737Z"
    },
    "code_folding": []
   },
   "outputs": [],
   "source": [
    "hc_sil = []\n",
    "for k in clusters:\n",
    "    #model definition and training\n",
    "    hc_model = hc.linkage(X, 'ward')\n",
    "\n",
    "    # model predict\n",
    "    labels = hc.fcluster(hc_model, k, criterion = 'maxclust')\n",
    "\n",
    "    # metrics\n",
    "    sil = m.silhouette_score(X, labels, metric = 'euclidean')\n",
    "    hc_sil.append(sil)"
   ]
  },
  {
   "cell_type": "code",
   "execution_count": 107,
   "id": "modified-sapphire",
   "metadata": {
    "ExecuteTime": {
     "end_time": "2022-03-15T20:47:39.827544Z",
     "start_time": "2022-03-15T20:47:39.739912Z"
    }
   },
   "outputs": [
    {
     "data": {
      "text/plain": [
       "[<matplotlib.lines.Line2D at 0x7f8ac1befa00>]"
      ]
     },
     "execution_count": 107,
     "metadata": {},
     "output_type": "execute_result"
    },
    {
     "data": {
      "image/png": "[encoded data removed]",
      "text/plain": [
       "<Figure size 432x288 with 1 Axes>"
      ]
     },
     "metadata": {
      "needs_background": "light"
     },
     "output_type": "display_data"
    }
   ],
   "source": [
    "plt.plot(clusters, hc_sil, linestyle = '--', marker = 'o', color = 'b')"
   ]
  },
  {
   "cell_type": "markdown",
   "id": "joined-eclipse",
   "metadata": {},
   "source": [
    "## Results"
   ]
  },
  {
   "cell_type": "code",
   "execution_count": 84,
   "id": "multiple-intro",
   "metadata": {
    "ExecuteTime": {
     "end_time": "2022-03-15T20:12:34.731037Z",
     "start_time": "2022-03-15T20:12:34.665038Z"
    },
    "cell_style": "split",
    "scrolled": true
   },
   "outputs": [
    {
     "data": {
      "text/html": [
       "<style type=\"text/css\">\n",
       "#T_2d298_row0_col28, #T_2d298_row1_col27, #T_2d298_row2_col28 {\n",
       "  background-color: lightgreen;\n",
       "}\n",
       "</style>\n",
       "<table id=\"T_2d298_\">\n",
       "  <thead>\n",
       "    <tr>\n",
       "      <th class=\"blank level0\" >&nbsp;</th>\n",
       "      <th class=\"col_heading level0 col0\" >2</th>\n",
       "      <th class=\"col_heading level0 col1\" >3</th>\n",
       "      <th class=\"col_heading level0 col2\" >4</th>\n",
       "      <th class=\"col_heading level0 col3\" >5</th>\n",
       "      <th class=\"col_heading level0 col4\" >6</th>\n",
       "      <th class=\"col_heading level0 col5\" >7</th>\n",
       "      <th class=\"col_heading level0 col6\" >8</th>\n",
       "      <th class=\"col_heading level0 col7\" >9</th>\n",
       "      <th class=\"col_heading level0 col8\" >10</th>\n",
       "      <th class=\"col_heading level0 col9\" >11</th>\n",
       "      <th class=\"col_heading level0 col10\" >12</th>\n",
       "      <th class=\"col_heading level0 col11\" >13</th>\n",
       "      <th class=\"col_heading level0 col12\" >14</th>\n",
       "      <th class=\"col_heading level0 col13\" >15</th>\n",
       "      <th class=\"col_heading level0 col14\" >16</th>\n",
       "      <th class=\"col_heading level0 col15\" >17</th>\n",
       "      <th class=\"col_heading level0 col16\" >18</th>\n",
       "      <th class=\"col_heading level0 col17\" >19</th>\n",
       "      <th class=\"col_heading level0 col18\" >20</th>\n",
       "      <th class=\"col_heading level0 col19\" >21</th>\n",
       "      <th class=\"col_heading level0 col20\" >22</th>\n",
       "      <th class=\"col_heading level0 col21\" >23</th>\n",
       "      <th class=\"col_heading level0 col22\" >24</th>\n",
       "      <th class=\"col_heading level0 col23\" >25</th>\n",
       "      <th class=\"col_heading level0 col24\" >26</th>\n",
       "      <th class=\"col_heading level0 col25\" >27</th>\n",
       "      <th class=\"col_heading level0 col26\" >28</th>\n",
       "      <th class=\"col_heading level0 col27\" >29</th>\n",
       "      <th class=\"col_heading level0 col28\" >30</th>\n",
       "    </tr>\n",
       "  </thead>\n",
       "  <tbody>\n",
       "    <tr>\n",
       "      <th id=\"T_2d298_level0_row0\" class=\"row_heading level0 row0\" >KMeans:</th>\n",
       "      <td id=\"T_2d298_row0_col0\" class=\"data row0 col0\" >0.397273</td>\n",
       "      <td id=\"T_2d298_row0_col1\" class=\"data row0 col1\" >0.390809</td>\n",
       "      <td id=\"T_2d298_row0_col2\" class=\"data row0 col2\" >0.387837</td>\n",
       "      <td id=\"T_2d298_row0_col3\" class=\"data row0 col3\" >0.402415</td>\n",
       "      <td id=\"T_2d298_row0_col4\" class=\"data row0 col4\" >0.437765</td>\n",
       "      <td id=\"T_2d298_row0_col5\" class=\"data row0 col5\" >0.453167</td>\n",
       "      <td id=\"T_2d298_row0_col6\" class=\"data row0 col6\" >0.470256</td>\n",
       "      <td id=\"T_2d298_row0_col7\" class=\"data row0 col7\" >0.481311</td>\n",
       "      <td id=\"T_2d298_row0_col8\" class=\"data row0 col8\" >0.482699</td>\n",
       "      <td id=\"T_2d298_row0_col9\" class=\"data row0 col9\" >0.488347</td>\n",
       "      <td id=\"T_2d298_row0_col10\" class=\"data row0 col10\" >0.491137</td>\n",
       "      <td id=\"T_2d298_row0_col11\" class=\"data row0 col11\" >0.493993</td>\n",
       "      <td id=\"T_2d298_row0_col12\" class=\"data row0 col12\" >0.500497</td>\n",
       "      <td id=\"T_2d298_row0_col13\" class=\"data row0 col13\" >0.509091</td>\n",
       "      <td id=\"T_2d298_row0_col14\" class=\"data row0 col14\" >0.514306</td>\n",
       "      <td id=\"T_2d298_row0_col15\" class=\"data row0 col15\" >0.520842</td>\n",
       "      <td id=\"T_2d298_row0_col16\" class=\"data row0 col16\" >0.532350</td>\n",
       "      <td id=\"T_2d298_row0_col17\" class=\"data row0 col17\" >0.541748</td>\n",
       "      <td id=\"T_2d298_row0_col18\" class=\"data row0 col18\" >0.545524</td>\n",
       "      <td id=\"T_2d298_row0_col19\" class=\"data row0 col19\" >0.539952</td>\n",
       "      <td id=\"T_2d298_row0_col20\" class=\"data row0 col20\" >0.541827</td>\n",
       "      <td id=\"T_2d298_row0_col21\" class=\"data row0 col21\" >0.551342</td>\n",
       "      <td id=\"T_2d298_row0_col22\" class=\"data row0 col22\" >0.548313</td>\n",
       "      <td id=\"T_2d298_row0_col23\" class=\"data row0 col23\" >0.541517</td>\n",
       "      <td id=\"T_2d298_row0_col24\" class=\"data row0 col24\" >0.551840</td>\n",
       "      <td id=\"T_2d298_row0_col25\" class=\"data row0 col25\" >0.555114</td>\n",
       "      <td id=\"T_2d298_row0_col26\" class=\"data row0 col26\" >0.559298</td>\n",
       "      <td id=\"T_2d298_row0_col27\" class=\"data row0 col27\" >0.563386</td>\n",
       "      <td id=\"T_2d298_row0_col28\" class=\"data row0 col28\" >0.565485</td>\n",
       "    </tr>\n",
       "    <tr>\n",
       "      <th id=\"T_2d298_level0_row1\" class=\"row_heading level0 row1\" >GMM</th>\n",
       "      <td id=\"T_2d298_row1_col0\" class=\"data row1 col0\" >0.382738</td>\n",
       "      <td id=\"T_2d298_row1_col1\" class=\"data row1 col1\" >0.381996</td>\n",
       "      <td id=\"T_2d298_row1_col2\" class=\"data row1 col2\" >0.334559</td>\n",
       "      <td id=\"T_2d298_row1_col3\" class=\"data row1 col3\" >0.345486</td>\n",
       "      <td id=\"T_2d298_row1_col4\" class=\"data row1 col4\" >0.319066</td>\n",
       "      <td id=\"T_2d298_row1_col5\" class=\"data row1 col5\" >0.372767</td>\n",
       "      <td id=\"T_2d298_row1_col6\" class=\"data row1 col6\" >0.344725</td>\n",
       "      <td id=\"T_2d298_row1_col7\" class=\"data row1 col7\" >0.341679</td>\n",
       "      <td id=\"T_2d298_row1_col8\" class=\"data row1 col8\" >0.439450</td>\n",
       "      <td id=\"T_2d298_row1_col9\" class=\"data row1 col9\" >0.307384</td>\n",
       "      <td id=\"T_2d298_row1_col10\" class=\"data row1 col10\" >0.380051</td>\n",
       "      <td id=\"T_2d298_row1_col11\" class=\"data row1 col11\" >0.440913</td>\n",
       "      <td id=\"T_2d298_row1_col12\" class=\"data row1 col12\" >0.459110</td>\n",
       "      <td id=\"T_2d298_row1_col13\" class=\"data row1 col13\" >0.424609</td>\n",
       "      <td id=\"T_2d298_row1_col14\" class=\"data row1 col14\" >0.487255</td>\n",
       "      <td id=\"T_2d298_row1_col15\" class=\"data row1 col15\" >0.483451</td>\n",
       "      <td id=\"T_2d298_row1_col16\" class=\"data row1 col16\" >0.478360</td>\n",
       "      <td id=\"T_2d298_row1_col17\" class=\"data row1 col17\" >0.452262</td>\n",
       "      <td id=\"T_2d298_row1_col18\" class=\"data row1 col18\" >0.493736</td>\n",
       "      <td id=\"T_2d298_row1_col19\" class=\"data row1 col19\" >0.513988</td>\n",
       "      <td id=\"T_2d298_row1_col20\" class=\"data row1 col20\" >0.527199</td>\n",
       "      <td id=\"T_2d298_row1_col21\" class=\"data row1 col21\" >0.471992</td>\n",
       "      <td id=\"T_2d298_row1_col22\" class=\"data row1 col22\" >0.495709</td>\n",
       "      <td id=\"T_2d298_row1_col23\" class=\"data row1 col23\" >0.518081</td>\n",
       "      <td id=\"T_2d298_row1_col24\" class=\"data row1 col24\" >0.497071</td>\n",
       "      <td id=\"T_2d298_row1_col25\" class=\"data row1 col25\" >0.545431</td>\n",
       "      <td id=\"T_2d298_row1_col26\" class=\"data row1 col26\" >0.535065</td>\n",
       "      <td id=\"T_2d298_row1_col27\" class=\"data row1 col27\" >0.548759</td>\n",
       "      <td id=\"T_2d298_row1_col28\" class=\"data row1 col28\" >0.517943</td>\n",
       "    </tr>\n",
       "    <tr>\n",
       "      <th id=\"T_2d298_level0_row2\" class=\"row_heading level0 row2\" >HC</th>\n",
       "      <td id=\"T_2d298_row2_col0\" class=\"data row2 col0\" >0.382208</td>\n",
       "      <td id=\"T_2d298_row2_col1\" class=\"data row2 col1\" >0.387695</td>\n",
       "      <td id=\"T_2d298_row2_col2\" class=\"data row2 col2\" >0.388542</td>\n",
       "      <td id=\"T_2d298_row2_col3\" class=\"data row2 col3\" >0.370647</td>\n",
       "      <td id=\"T_2d298_row2_col4\" class=\"data row2 col4\" >0.392526</td>\n",
       "      <td id=\"T_2d298_row2_col5\" class=\"data row2 col5\" >0.411098</td>\n",
       "      <td id=\"T_2d298_row2_col6\" class=\"data row2 col6\" >0.426202</td>\n",
       "      <td id=\"T_2d298_row2_col7\" class=\"data row2 col7\" >0.424827</td>\n",
       "      <td id=\"T_2d298_row2_col8\" class=\"data row2 col8\" >0.446030</td>\n",
       "      <td id=\"T_2d298_row2_col9\" class=\"data row2 col9\" >0.444135</td>\n",
       "      <td id=\"T_2d298_row2_col10\" class=\"data row2 col10\" >0.455251</td>\n",
       "      <td id=\"T_2d298_row2_col11\" class=\"data row2 col11\" >0.466304</td>\n",
       "      <td id=\"T_2d298_row2_col12\" class=\"data row2 col12\" >0.482755</td>\n",
       "      <td id=\"T_2d298_row2_col13\" class=\"data row2 col13\" >0.497136</td>\n",
       "      <td id=\"T_2d298_row2_col14\" class=\"data row2 col14\" >0.503866</td>\n",
       "      <td id=\"T_2d298_row2_col15\" class=\"data row2 col15\" >0.496925</td>\n",
       "      <td id=\"T_2d298_row2_col16\" class=\"data row2 col16\" >0.504082</td>\n",
       "      <td id=\"T_2d298_row2_col17\" class=\"data row2 col17\" >0.510954</td>\n",
       "      <td id=\"T_2d298_row2_col18\" class=\"data row2 col18\" >0.518886</td>\n",
       "      <td id=\"T_2d298_row2_col19\" class=\"data row2 col19\" >0.530542</td>\n",
       "      <td id=\"T_2d298_row2_col20\" class=\"data row2 col20\" >0.539466</td>\n",
       "      <td id=\"T_2d298_row2_col21\" class=\"data row2 col21\" >0.541104</td>\n",
       "      <td id=\"T_2d298_row2_col22\" class=\"data row2 col22\" >0.541492</td>\n",
       "      <td id=\"T_2d298_row2_col23\" class=\"data row2 col23\" >0.546961</td>\n",
       "      <td id=\"T_2d298_row2_col24\" class=\"data row2 col24\" >0.549711</td>\n",
       "      <td id=\"T_2d298_row2_col25\" class=\"data row2 col25\" >0.559094</td>\n",
       "      <td id=\"T_2d298_row2_col26\" class=\"data row2 col26\" >0.553651</td>\n",
       "      <td id=\"T_2d298_row2_col27\" class=\"data row2 col27\" >0.552344</td>\n",
       "      <td id=\"T_2d298_row2_col28\" class=\"data row2 col28\" >0.561121</td>\n",
       "    </tr>\n",
       "  </tbody>\n",
       "</table>\n"
      ],
      "text/plain": [
       "<pandas.io.formats.style.Styler at 0x7f8abd6d7880>"
      ]
     },
     "execution_count": 84,
     "metadata": {},
     "output_type": "execute_result"
    }
   ],
   "source": [
    "## Results - Tree Based Embedding\n",
    "df_results = pd.DataFrame({'KMeans:': kmeans_sil,\n",
    "                           'GMM': gmm_sil,\n",
    "                           'HC': hc_sil}\n",
    "                           ).T\n",
    "\n",
    "df_results.columns = clusters\n",
    "df_results.style.highlight_max(color = 'lightgreen', axis = 1)"
   ]
  },
  {
   "cell_type": "code",
   "execution_count": 96,
   "id": "8093ebf9",
   "metadata": {
    "ExecuteTime": {
     "end_time": "2022-03-15T20:47:39.856410Z",
     "start_time": "2022-03-15T20:47:39.828674Z"
    },
    "cell_style": "split"
   },
   "outputs": [
    {
     "data": {
      "text/html": [
       "<style type=\"text/css\">\n",
       "#T_b5ba8_row0_col28, #T_b5ba8_row1_col27, #T_b5ba8_row2_col28 {\n",
       "  background-color: lightgreen;\n",
       "}\n",
       "</style>\n",
       "<table id=\"T_b5ba8_\">\n",
       "  <thead>\n",
       "    <tr>\n",
       "      <th class=\"blank level0\" >&nbsp;</th>\n",
       "      <th class=\"col_heading level0 col0\" >2</th>\n",
       "      <th class=\"col_heading level0 col1\" >3</th>\n",
       "      <th class=\"col_heading level0 col2\" >4</th>\n",
       "      <th class=\"col_heading level0 col3\" >5</th>\n",
       "      <th class=\"col_heading level0 col4\" >6</th>\n",
       "      <th class=\"col_heading level0 col5\" >7</th>\n",
       "      <th class=\"col_heading level0 col6\" >8</th>\n",
       "      <th class=\"col_heading level0 col7\" >9</th>\n",
       "      <th class=\"col_heading level0 col8\" >10</th>\n",
       "      <th class=\"col_heading level0 col9\" >11</th>\n",
       "      <th class=\"col_heading level0 col10\" >12</th>\n",
       "      <th class=\"col_heading level0 col11\" >13</th>\n",
       "      <th class=\"col_heading level0 col12\" >14</th>\n",
       "      <th class=\"col_heading level0 col13\" >15</th>\n",
       "      <th class=\"col_heading level0 col14\" >16</th>\n",
       "      <th class=\"col_heading level0 col15\" >17</th>\n",
       "      <th class=\"col_heading level0 col16\" >18</th>\n",
       "      <th class=\"col_heading level0 col17\" >19</th>\n",
       "      <th class=\"col_heading level0 col18\" >20</th>\n",
       "      <th class=\"col_heading level0 col19\" >21</th>\n",
       "      <th class=\"col_heading level0 col20\" >22</th>\n",
       "      <th class=\"col_heading level0 col21\" >23</th>\n",
       "      <th class=\"col_heading level0 col22\" >24</th>\n",
       "      <th class=\"col_heading level0 col23\" >25</th>\n",
       "      <th class=\"col_heading level0 col24\" >26</th>\n",
       "      <th class=\"col_heading level0 col25\" >27</th>\n",
       "      <th class=\"col_heading level0 col26\" >28</th>\n",
       "      <th class=\"col_heading level0 col27\" >29</th>\n",
       "      <th class=\"col_heading level0 col28\" >30</th>\n",
       "    </tr>\n",
       "  </thead>\n",
       "  <tbody>\n",
       "    <tr>\n",
       "      <th id=\"T_b5ba8_level0_row0\" class=\"row_heading level0 row0\" >KMeans:</th>\n",
       "      <td id=\"T_b5ba8_row0_col0\" class=\"data row0 col0\" >0.434188</td>\n",
       "      <td id=\"T_b5ba8_row0_col1\" class=\"data row0 col1\" >0.461667</td>\n",
       "      <td id=\"T_b5ba8_row0_col2\" class=\"data row0 col2\" >0.467631</td>\n",
       "      <td id=\"T_b5ba8_row0_col3\" class=\"data row0 col3\" >0.473294</td>\n",
       "      <td id=\"T_b5ba8_row0_col4\" class=\"data row0 col4\" >0.479076</td>\n",
       "      <td id=\"T_b5ba8_row0_col5\" class=\"data row0 col5\" >0.488139</td>\n",
       "      <td id=\"T_b5ba8_row0_col6\" class=\"data row0 col6\" >0.478399</td>\n",
       "      <td id=\"T_b5ba8_row0_col7\" class=\"data row0 col7\" >0.489523</td>\n",
       "      <td id=\"T_b5ba8_row0_col8\" class=\"data row0 col8\" >0.491395</td>\n",
       "      <td id=\"T_b5ba8_row0_col9\" class=\"data row0 col9\" >0.508429</td>\n",
       "      <td id=\"T_b5ba8_row0_col10\" class=\"data row0 col10\" >0.512935</td>\n",
       "      <td id=\"T_b5ba8_row0_col11\" class=\"data row0 col11\" >0.530075</td>\n",
       "      <td id=\"T_b5ba8_row0_col12\" class=\"data row0 col12\" >0.525300</td>\n",
       "      <td id=\"T_b5ba8_row0_col13\" class=\"data row0 col13\" >0.536216</td>\n",
       "      <td id=\"T_b5ba8_row0_col14\" class=\"data row0 col14\" >0.540463</td>\n",
       "      <td id=\"T_b5ba8_row0_col15\" class=\"data row0 col15\" >0.546688</td>\n",
       "      <td id=\"T_b5ba8_row0_col16\" class=\"data row0 col16\" >0.545563</td>\n",
       "      <td id=\"T_b5ba8_row0_col17\" class=\"data row0 col17\" >0.552721</td>\n",
       "      <td id=\"T_b5ba8_row0_col18\" class=\"data row0 col18\" >0.556921</td>\n",
       "      <td id=\"T_b5ba8_row0_col19\" class=\"data row0 col19\" >0.571297</td>\n",
       "      <td id=\"T_b5ba8_row0_col20\" class=\"data row0 col20\" >0.570916</td>\n",
       "      <td id=\"T_b5ba8_row0_col21\" class=\"data row0 col21\" >0.574803</td>\n",
       "      <td id=\"T_b5ba8_row0_col22\" class=\"data row0 col22\" >0.584755</td>\n",
       "      <td id=\"T_b5ba8_row0_col23\" class=\"data row0 col23\" >0.582813</td>\n",
       "      <td id=\"T_b5ba8_row0_col24\" class=\"data row0 col24\" >0.592046</td>\n",
       "      <td id=\"T_b5ba8_row0_col25\" class=\"data row0 col25\" >0.583956</td>\n",
       "      <td id=\"T_b5ba8_row0_col26\" class=\"data row0 col26\" >0.596123</td>\n",
       "      <td id=\"T_b5ba8_row0_col27\" class=\"data row0 col27\" >0.587257</td>\n",
       "      <td id=\"T_b5ba8_row0_col28\" class=\"data row0 col28\" >0.608935</td>\n",
       "    </tr>\n",
       "    <tr>\n",
       "      <th id=\"T_b5ba8_level0_row1\" class=\"row_heading level0 row1\" >GMM</th>\n",
       "      <td id=\"T_b5ba8_row1_col0\" class=\"data row1 col0\" >0.373302</td>\n",
       "      <td id=\"T_b5ba8_row1_col1\" class=\"data row1 col1\" >0.383396</td>\n",
       "      <td id=\"T_b5ba8_row1_col2\" class=\"data row1 col2\" >0.442552</td>\n",
       "      <td id=\"T_b5ba8_row1_col3\" class=\"data row1 col3\" >0.396003</td>\n",
       "      <td id=\"T_b5ba8_row1_col4\" class=\"data row1 col4\" >0.437944</td>\n",
       "      <td id=\"T_b5ba8_row1_col5\" class=\"data row1 col5\" >0.406467</td>\n",
       "      <td id=\"T_b5ba8_row1_col6\" class=\"data row1 col6\" >0.377207</td>\n",
       "      <td id=\"T_b5ba8_row1_col7\" class=\"data row1 col7\" >0.395432</td>\n",
       "      <td id=\"T_b5ba8_row1_col8\" class=\"data row1 col8\" >0.459601</td>\n",
       "      <td id=\"T_b5ba8_row1_col9\" class=\"data row1 col9\" >0.434810</td>\n",
       "      <td id=\"T_b5ba8_row1_col10\" class=\"data row1 col10\" >0.461152</td>\n",
       "      <td id=\"T_b5ba8_row1_col11\" class=\"data row1 col11\" >0.439482</td>\n",
       "      <td id=\"T_b5ba8_row1_col12\" class=\"data row1 col12\" >0.455490</td>\n",
       "      <td id=\"T_b5ba8_row1_col13\" class=\"data row1 col13\" >0.478211</td>\n",
       "      <td id=\"T_b5ba8_row1_col14\" class=\"data row1 col14\" >0.454768</td>\n",
       "      <td id=\"T_b5ba8_row1_col15\" class=\"data row1 col15\" >0.471883</td>\n",
       "      <td id=\"T_b5ba8_row1_col16\" class=\"data row1 col16\" >0.513554</td>\n",
       "      <td id=\"T_b5ba8_row1_col17\" class=\"data row1 col17\" >0.481192</td>\n",
       "      <td id=\"T_b5ba8_row1_col18\" class=\"data row1 col18\" >0.481738</td>\n",
       "      <td id=\"T_b5ba8_row1_col19\" class=\"data row1 col19\" >0.487697</td>\n",
       "      <td id=\"T_b5ba8_row1_col20\" class=\"data row1 col20\" >0.511406</td>\n",
       "      <td id=\"T_b5ba8_row1_col21\" class=\"data row1 col21\" >0.523875</td>\n",
       "      <td id=\"T_b5ba8_row1_col22\" class=\"data row1 col22\" >0.499404</td>\n",
       "      <td id=\"T_b5ba8_row1_col23\" class=\"data row1 col23\" >0.531591</td>\n",
       "      <td id=\"T_b5ba8_row1_col24\" class=\"data row1 col24\" >0.528955</td>\n",
       "      <td id=\"T_b5ba8_row1_col25\" class=\"data row1 col25\" >0.523460</td>\n",
       "      <td id=\"T_b5ba8_row1_col26\" class=\"data row1 col26\" >0.532482</td>\n",
       "      <td id=\"T_b5ba8_row1_col27\" class=\"data row1 col27\" >0.554229</td>\n",
       "      <td id=\"T_b5ba8_row1_col28\" class=\"data row1 col28\" >0.513576</td>\n",
       "    </tr>\n",
       "    <tr>\n",
       "      <th id=\"T_b5ba8_level0_row2\" class=\"row_heading level0 row2\" >HC</th>\n",
       "      <td id=\"T_b5ba8_row2_col0\" class=\"data row2 col0\" >0.415990</td>\n",
       "      <td id=\"T_b5ba8_row2_col1\" class=\"data row2 col1\" >0.462891</td>\n",
       "      <td id=\"T_b5ba8_row2_col2\" class=\"data row2 col2\" >0.454392</td>\n",
       "      <td id=\"T_b5ba8_row2_col3\" class=\"data row2 col3\" >0.438368</td>\n",
       "      <td id=\"T_b5ba8_row2_col4\" class=\"data row2 col4\" >0.426970</td>\n",
       "      <td id=\"T_b5ba8_row2_col5\" class=\"data row2 col5\" >0.463247</td>\n",
       "      <td id=\"T_b5ba8_row2_col6\" class=\"data row2 col6\" >0.441976</td>\n",
       "      <td id=\"T_b5ba8_row2_col7\" class=\"data row2 col7\" >0.462877</td>\n",
       "      <td id=\"T_b5ba8_row2_col8\" class=\"data row2 col8\" >0.477453</td>\n",
       "      <td id=\"T_b5ba8_row2_col9\" class=\"data row2 col9\" >0.488990</td>\n",
       "      <td id=\"T_b5ba8_row2_col10\" class=\"data row2 col10\" >0.505191</td>\n",
       "      <td id=\"T_b5ba8_row2_col11\" class=\"data row2 col11\" >0.520371</td>\n",
       "      <td id=\"T_b5ba8_row2_col12\" class=\"data row2 col12\" >0.525646</td>\n",
       "      <td id=\"T_b5ba8_row2_col13\" class=\"data row2 col13\" >0.526332</td>\n",
       "      <td id=\"T_b5ba8_row2_col14\" class=\"data row2 col14\" >0.533185</td>\n",
       "      <td id=\"T_b5ba8_row2_col15\" class=\"data row2 col15\" >0.540040</td>\n",
       "      <td id=\"T_b5ba8_row2_col16\" class=\"data row2 col16\" >0.545107</td>\n",
       "      <td id=\"T_b5ba8_row2_col17\" class=\"data row2 col17\" >0.543333</td>\n",
       "      <td id=\"T_b5ba8_row2_col18\" class=\"data row2 col18\" >0.548529</td>\n",
       "      <td id=\"T_b5ba8_row2_col19\" class=\"data row2 col19\" >0.558711</td>\n",
       "      <td id=\"T_b5ba8_row2_col20\" class=\"data row2 col20\" >0.560767</td>\n",
       "      <td id=\"T_b5ba8_row2_col21\" class=\"data row2 col21\" >0.570522</td>\n",
       "      <td id=\"T_b5ba8_row2_col22\" class=\"data row2 col22\" >0.577206</td>\n",
       "      <td id=\"T_b5ba8_row2_col23\" class=\"data row2 col23\" >0.577360</td>\n",
       "      <td id=\"T_b5ba8_row2_col24\" class=\"data row2 col24\" >0.588404</td>\n",
       "      <td id=\"T_b5ba8_row2_col25\" class=\"data row2 col25\" >0.590476</td>\n",
       "      <td id=\"T_b5ba8_row2_col26\" class=\"data row2 col26\" >0.591984</td>\n",
       "      <td id=\"T_b5ba8_row2_col27\" class=\"data row2 col27\" >0.595684</td>\n",
       "      <td id=\"T_b5ba8_row2_col28\" class=\"data row2 col28\" >0.604319</td>\n",
       "    </tr>\n",
       "  </tbody>\n",
       "</table>\n"
      ],
      "text/plain": [
       "<pandas.io.formats.style.Styler at 0x7f8abd809520>"
      ]
     },
     "execution_count": 96,
     "metadata": {},
     "output_type": "execute_result"
    }
   ],
   "source": [
    "## Results - UMAP Embedding\n",
    "df_results = pd.DataFrame({'KMeans:': kmeans_sil,\n",
    "                           'GMM': gmm_sil,\n",
    "                           'HC': hc_sil}\n",
    "                           ).T\n",
    "\n",
    "df_results.columns = clusters\n",
    "df_results.style.highlight_max(color = 'lightgreen', axis = 1)"
   ]
  },
  {
   "cell_type": "code",
   "execution_count": 108,
   "id": "eabbf43a",
   "metadata": {
    "ExecuteTime": {
     "end_time": "2022-03-15T20:47:39.856410Z",
     "start_time": "2022-03-15T20:47:39.828674Z"
    },
    "cell_style": "split"
   },
   "outputs": [
    {
     "data": {
      "text/html": [
       "<style type=\"text/css\">\n",
       "#T_cd352_row0_col28, #T_cd352_row1_col25, #T_cd352_row2_col28 {\n",
       "  background-color: lightgreen;\n",
       "}\n",
       "</style>\n",
       "<table id=\"T_cd352_\">\n",
       "  <thead>\n",
       "    <tr>\n",
       "      <th class=\"blank level0\" >&nbsp;</th>\n",
       "      <th class=\"col_heading level0 col0\" >2</th>\n",
       "      <th class=\"col_heading level0 col1\" >3</th>\n",
       "      <th class=\"col_heading level0 col2\" >4</th>\n",
       "      <th class=\"col_heading level0 col3\" >5</th>\n",
       "      <th class=\"col_heading level0 col4\" >6</th>\n",
       "      <th class=\"col_heading level0 col5\" >7</th>\n",
       "      <th class=\"col_heading level0 col6\" >8</th>\n",
       "      <th class=\"col_heading level0 col7\" >9</th>\n",
       "      <th class=\"col_heading level0 col8\" >10</th>\n",
       "      <th class=\"col_heading level0 col9\" >11</th>\n",
       "      <th class=\"col_heading level0 col10\" >12</th>\n",
       "      <th class=\"col_heading level0 col11\" >13</th>\n",
       "      <th class=\"col_heading level0 col12\" >14</th>\n",
       "      <th class=\"col_heading level0 col13\" >15</th>\n",
       "      <th class=\"col_heading level0 col14\" >16</th>\n",
       "      <th class=\"col_heading level0 col15\" >17</th>\n",
       "      <th class=\"col_heading level0 col16\" >18</th>\n",
       "      <th class=\"col_heading level0 col17\" >19</th>\n",
       "      <th class=\"col_heading level0 col18\" >20</th>\n",
       "      <th class=\"col_heading level0 col19\" >21</th>\n",
       "      <th class=\"col_heading level0 col20\" >22</th>\n",
       "      <th class=\"col_heading level0 col21\" >23</th>\n",
       "      <th class=\"col_heading level0 col22\" >24</th>\n",
       "      <th class=\"col_heading level0 col23\" >25</th>\n",
       "      <th class=\"col_heading level0 col24\" >26</th>\n",
       "      <th class=\"col_heading level0 col25\" >27</th>\n",
       "      <th class=\"col_heading level0 col26\" >28</th>\n",
       "      <th class=\"col_heading level0 col27\" >29</th>\n",
       "      <th class=\"col_heading level0 col28\" >30</th>\n",
       "    </tr>\n",
       "  </thead>\n",
       "  <tbody>\n",
       "    <tr>\n",
       "      <th id=\"T_cd352_level0_row0\" class=\"row_heading level0 row0\" >KMeans:</th>\n",
       "      <td id=\"T_cd352_row0_col0\" class=\"data row0 col0\" >0.342093</td>\n",
       "      <td id=\"T_cd352_row0_col1\" class=\"data row0 col1\" >0.373005</td>\n",
       "      <td id=\"T_cd352_row0_col2\" class=\"data row0 col2\" >0.390715</td>\n",
       "      <td id=\"T_cd352_row0_col3\" class=\"data row0 col3\" >0.390334</td>\n",
       "      <td id=\"T_cd352_row0_col4\" class=\"data row0 col4\" >0.384927</td>\n",
       "      <td id=\"T_cd352_row0_col5\" class=\"data row0 col5\" >0.408150</td>\n",
       "      <td id=\"T_cd352_row0_col6\" class=\"data row0 col6\" >0.433561</td>\n",
       "      <td id=\"T_cd352_row0_col7\" class=\"data row0 col7\" >0.439983</td>\n",
       "      <td id=\"T_cd352_row0_col8\" class=\"data row0 col8\" >0.437354</td>\n",
       "      <td id=\"T_cd352_row0_col9\" class=\"data row0 col9\" >0.442795</td>\n",
       "      <td id=\"T_cd352_row0_col10\" class=\"data row0 col10\" >0.451469</td>\n",
       "      <td id=\"T_cd352_row0_col11\" class=\"data row0 col11\" >0.454327</td>\n",
       "      <td id=\"T_cd352_row0_col12\" class=\"data row0 col12\" >0.453446</td>\n",
       "      <td id=\"T_cd352_row0_col13\" class=\"data row0 col13\" >0.450766</td>\n",
       "      <td id=\"T_cd352_row0_col14\" class=\"data row0 col14\" >0.453930</td>\n",
       "      <td id=\"T_cd352_row0_col15\" class=\"data row0 col15\" >0.456274</td>\n",
       "      <td id=\"T_cd352_row0_col16\" class=\"data row0 col16\" >0.460465</td>\n",
       "      <td id=\"T_cd352_row0_col17\" class=\"data row0 col17\" >0.463111</td>\n",
       "      <td id=\"T_cd352_row0_col18\" class=\"data row0 col18\" >0.475786</td>\n",
       "      <td id=\"T_cd352_row0_col19\" class=\"data row0 col19\" >0.481137</td>\n",
       "      <td id=\"T_cd352_row0_col20\" class=\"data row0 col20\" >0.484380</td>\n",
       "      <td id=\"T_cd352_row0_col21\" class=\"data row0 col21\" >0.496711</td>\n",
       "      <td id=\"T_cd352_row0_col22\" class=\"data row0 col22\" >0.507195</td>\n",
       "      <td id=\"T_cd352_row0_col23\" class=\"data row0 col23\" >0.507849</td>\n",
       "      <td id=\"T_cd352_row0_col24\" class=\"data row0 col24\" >0.513170</td>\n",
       "      <td id=\"T_cd352_row0_col25\" class=\"data row0 col25\" >0.512420</td>\n",
       "      <td id=\"T_cd352_row0_col26\" class=\"data row0 col26\" >0.512057</td>\n",
       "      <td id=\"T_cd352_row0_col27\" class=\"data row0 col27\" >0.517001</td>\n",
       "      <td id=\"T_cd352_row0_col28\" class=\"data row0 col28\" >0.518793</td>\n",
       "    </tr>\n",
       "    <tr>\n",
       "      <th id=\"T_cd352_level0_row1\" class=\"row_heading level0 row1\" >GMM</th>\n",
       "      <td id=\"T_cd352_row1_col0\" class=\"data row1 col0\" >0.347766</td>\n",
       "      <td id=\"T_cd352_row1_col1\" class=\"data row1 col1\" >0.373682</td>\n",
       "      <td id=\"T_cd352_row1_col2\" class=\"data row1 col2\" >0.303883</td>\n",
       "      <td id=\"T_cd352_row1_col3\" class=\"data row1 col3\" >0.214666</td>\n",
       "      <td id=\"T_cd352_row1_col4\" class=\"data row1 col4\" >0.150865</td>\n",
       "      <td id=\"T_cd352_row1_col5\" class=\"data row1 col5\" >0.315627</td>\n",
       "      <td id=\"T_cd352_row1_col6\" class=\"data row1 col6\" >0.302690</td>\n",
       "      <td id=\"T_cd352_row1_col7\" class=\"data row1 col7\" >0.422712</td>\n",
       "      <td id=\"T_cd352_row1_col8\" class=\"data row1 col8\" >0.395463</td>\n",
       "      <td id=\"T_cd352_row1_col9\" class=\"data row1 col9\" >0.399778</td>\n",
       "      <td id=\"T_cd352_row1_col10\" class=\"data row1 col10\" >0.367965</td>\n",
       "      <td id=\"T_cd352_row1_col11\" class=\"data row1 col11\" >0.369555</td>\n",
       "      <td id=\"T_cd352_row1_col12\" class=\"data row1 col12\" >0.332533</td>\n",
       "      <td id=\"T_cd352_row1_col13\" class=\"data row1 col13\" >0.334476</td>\n",
       "      <td id=\"T_cd352_row1_col14\" class=\"data row1 col14\" >0.328516</td>\n",
       "      <td id=\"T_cd352_row1_col15\" class=\"data row1 col15\" >0.360207</td>\n",
       "      <td id=\"T_cd352_row1_col16\" class=\"data row1 col16\" >0.360419</td>\n",
       "      <td id=\"T_cd352_row1_col17\" class=\"data row1 col17\" >0.345580</td>\n",
       "      <td id=\"T_cd352_row1_col18\" class=\"data row1 col18\" >0.326704</td>\n",
       "      <td id=\"T_cd352_row1_col19\" class=\"data row1 col19\" >0.370543</td>\n",
       "      <td id=\"T_cd352_row1_col20\" class=\"data row1 col20\" >0.398163</td>\n",
       "      <td id=\"T_cd352_row1_col21\" class=\"data row1 col21\" >0.416901</td>\n",
       "      <td id=\"T_cd352_row1_col22\" class=\"data row1 col22\" >0.410421</td>\n",
       "      <td id=\"T_cd352_row1_col23\" class=\"data row1 col23\" >0.369517</td>\n",
       "      <td id=\"T_cd352_row1_col24\" class=\"data row1 col24\" >0.401934</td>\n",
       "      <td id=\"T_cd352_row1_col25\" class=\"data row1 col25\" >0.438769</td>\n",
       "      <td id=\"T_cd352_row1_col26\" class=\"data row1 col26\" >0.384692</td>\n",
       "      <td id=\"T_cd352_row1_col27\" class=\"data row1 col27\" >0.422919</td>\n",
       "      <td id=\"T_cd352_row1_col28\" class=\"data row1 col28\" >0.416103</td>\n",
       "    </tr>\n",
       "    <tr>\n",
       "      <th id=\"T_cd352_level0_row2\" class=\"row_heading level0 row2\" >HC</th>\n",
       "      <td id=\"T_cd352_row2_col0\" class=\"data row2 col0\" >0.347380</td>\n",
       "      <td id=\"T_cd352_row2_col1\" class=\"data row2 col1\" >0.362450</td>\n",
       "      <td id=\"T_cd352_row2_col2\" class=\"data row2 col2\" >0.384699</td>\n",
       "      <td id=\"T_cd352_row2_col3\" class=\"data row2 col3\" >0.375093</td>\n",
       "      <td id=\"T_cd352_row2_col4\" class=\"data row2 col4\" >0.378396</td>\n",
       "      <td id=\"T_cd352_row2_col5\" class=\"data row2 col5\" >0.386503</td>\n",
       "      <td id=\"T_cd352_row2_col6\" class=\"data row2 col6\" >0.395405</td>\n",
       "      <td id=\"T_cd352_row2_col7\" class=\"data row2 col7\" >0.411523</td>\n",
       "      <td id=\"T_cd352_row2_col8\" class=\"data row2 col8\" >0.406230</td>\n",
       "      <td id=\"T_cd352_row2_col9\" class=\"data row2 col9\" >0.410849</td>\n",
       "      <td id=\"T_cd352_row2_col10\" class=\"data row2 col10\" >0.416915</td>\n",
       "      <td id=\"T_cd352_row2_col11\" class=\"data row2 col11\" >0.427577</td>\n",
       "      <td id=\"T_cd352_row2_col12\" class=\"data row2 col12\" >0.432724</td>\n",
       "      <td id=\"T_cd352_row2_col13\" class=\"data row2 col13\" >0.435282</td>\n",
       "      <td id=\"T_cd352_row2_col14\" class=\"data row2 col14\" >0.440924</td>\n",
       "      <td id=\"T_cd352_row2_col15\" class=\"data row2 col15\" >0.447670</td>\n",
       "      <td id=\"T_cd352_row2_col16\" class=\"data row2 col16\" >0.452129</td>\n",
       "      <td id=\"T_cd352_row2_col17\" class=\"data row2 col17\" >0.456358</td>\n",
       "      <td id=\"T_cd352_row2_col18\" class=\"data row2 col18\" >0.464571</td>\n",
       "      <td id=\"T_cd352_row2_col19\" class=\"data row2 col19\" >0.472315</td>\n",
       "      <td id=\"T_cd352_row2_col20\" class=\"data row2 col20\" >0.481384</td>\n",
       "      <td id=\"T_cd352_row2_col21\" class=\"data row2 col21\" >0.490641</td>\n",
       "      <td id=\"T_cd352_row2_col22\" class=\"data row2 col22\" >0.489527</td>\n",
       "      <td id=\"T_cd352_row2_col23\" class=\"data row2 col23\" >0.493636</td>\n",
       "      <td id=\"T_cd352_row2_col24\" class=\"data row2 col24\" >0.492372</td>\n",
       "      <td id=\"T_cd352_row2_col25\" class=\"data row2 col25\" >0.504097</td>\n",
       "      <td id=\"T_cd352_row2_col26\" class=\"data row2 col26\" >0.505008</td>\n",
       "      <td id=\"T_cd352_row2_col27\" class=\"data row2 col27\" >0.505185</td>\n",
       "      <td id=\"T_cd352_row2_col28\" class=\"data row2 col28\" >0.506409</td>\n",
       "    </tr>\n",
       "  </tbody>\n",
       "</table>\n"
      ],
      "text/plain": [
       "<pandas.io.formats.style.Styler at 0x7f8abe5fdb50>"
      ]
     },
     "execution_count": 108,
     "metadata": {},
     "output_type": "execute_result"
    }
   ],
   "source": [
    "## Results - TSNE Embedding\n",
    "df_results = pd.DataFrame({'KMeans:': kmeans_sil,\n",
    "                           'GMM': gmm_sil,\n",
    "                           'HC': hc_sil}\n",
    "                           ).T\n",
    "\n",
    "df_results.columns = clusters\n",
    "df_results.style.highlight_max(color = 'lightgreen', axis = 1)"
   ]
  },
  {
   "cell_type": "markdown",
   "id": "electronic-release",
   "metadata": {},
   "source": [
    "# MACHINE LEARNING MODEL TRAINING"
   ]
  },
  {
   "cell_type": "markdown",
   "id": "stuffed-rally",
   "metadata": {},
   "source": [
    "## K-Means"
   ]
  },
  {
   "cell_type": "code",
   "execution_count": 115,
   "id": "recreational-talent",
   "metadata": {
    "ExecuteTime": {
     "end_time": "2022-03-15T21:10:05.071592Z",
     "start_time": "2022-03-15T21:10:04.227205Z"
    }
   },
   "outputs": [],
   "source": [
    "# model definition\n",
    "k = 8;\n",
    "kmeans = c.KMeans(init = 'random', n_clusters = k, n_init = 100, max_iter = 300, random_state = 42)\n",
    "\n",
    "# model training\n",
    "kmeans.fit(X)\n",
    "\n",
    "# clustering\n",
    "labels = kmeans.labels_"
   ]
  },
  {
   "cell_type": "code",
   "execution_count": null,
   "id": "photographic-space",
   "metadata": {
    "ExecuteTime": {
     "end_time": "2022-03-14T18:24:46.085489Z",
     "start_time": "2022-03-14T18:24:44.733942Z"
    }
   },
   "outputs": [],
   "source": [
    "# # trying with GMM beacuse of its approach in the embedding space\n",
    "# # k=11 ;\n",
    "# # model definition\n",
    "# gmm_model = mx.GaussianMixture(n_components = k,n_init = 10 ,random_state=42)\n",
    "\n",
    "# # model training\n",
    "# gmm_model.fit(X)\n",
    "\n",
    "# # model prediction\n",
    "# labels = gmm_model.predict(X)"
   ]
  },
  {
   "cell_type": "markdown",
   "id": "veterinary-oxford",
   "metadata": {},
   "source": [
    "## Cluster Validation"
   ]
  },
  {
   "cell_type": "code",
   "execution_count": 116,
   "id": "recovered-algorithm",
   "metadata": {
    "ExecuteTime": {
     "end_time": "2022-03-15T21:10:08.145652Z",
     "start_time": "2022-03-15T21:10:07.766042Z"
    }
   },
   "outputs": [
    {
     "name": "stdout",
     "output_type": "stream",
     "text": [
      "SS score: 0.47025561332702637\n"
     ]
    }
   ],
   "source": [
    "# WSS (Within-cluster Sum of Square )\n",
    "# print('WSS score: {}'.format(kmeans.inertia_))\n",
    "\n",
    "# SS (Silhouette Score)\n",
    "print('SS score: {}'.format(m.silhouette_score(X, labels, metric = 'euclidean')))"
   ]
  },
  {
   "cell_type": "markdown",
   "id": "frequent-brooklyn",
   "metadata": {},
   "source": [
    "# CLUSTER ANALYSIS"
   ]
  },
  {
   "cell_type": "code",
   "execution_count": 122,
   "id": "2f06adc5",
   "metadata": {
    "ExecuteTime": {
     "end_time": "2022-03-15T21:52:13.910871Z",
     "start_time": "2022-03-15T21:52:13.902163Z"
    }
   },
   "outputs": [],
   "source": [
    "df9 = X.copy()\n",
    "df9['cluster'] = labels"
   ]
  },
  {
   "cell_type": "markdown",
   "id": "metric-genetics",
   "metadata": {},
   "source": [
    "## Visualization Inspection"
   ]
  },
  {
   "cell_type": "code",
   "execution_count": 123,
   "id": "2e4876a0",
   "metadata": {
    "ExecuteTime": {
     "end_time": "2022-03-15T21:52:20.941973Z",
     "start_time": "2022-03-15T21:52:20.560552Z"
    }
   },
   "outputs": [
    {
     "data": {
      "text/plain": [
       "<AxesSubplot:xlabel='embedding_X', ylabel='embedding_y'>"
      ]
     },
     "execution_count": 123,
     "metadata": {},
     "output_type": "execute_result"
    },
    {
     "data": {
      "image/png": "[encoded data removed]",
      "text/plain": [
       "<Figure size 432x288 with 1 Axes>"
      ]
     },
     "metadata": {
      "needs_background": "light"
     },
     "output_type": "display_data"
    }
   ],
   "source": [
    "# k = 8 for  KMeans\n",
    "sns.scatterplot(x = 'embedding_X', y = 'embedding_y', hue = 'cluster', data = df9, palette = 'deep')"
   ]
  },
  {
   "cell_type": "markdown",
   "id": "herbal-theology",
   "metadata": {},
   "source": [
    "## Cluster Profile"
   ]
  },
  {
   "cell_type": "code",
   "execution_count": 124,
   "id": "dental-nickname",
   "metadata": {
    "ExecuteTime": {
     "end_time": "2022-03-15T21:53:04.304812Z",
     "start_time": "2022-03-15T21:53:04.280957Z"
    }
   },
   "outputs": [
    {
     "data": {
      "text/html": [
       "<div>\n",
       "<style scoped>\n",
       "    .dataframe tbody tr th:only-of-type {\n",
       "        vertical-align: middle;\n",
       "    }\n",
       "\n",
       "    .dataframe tbody tr th {\n",
       "        vertical-align: top;\n",
       "    }\n",
       "\n",
       "    .dataframe thead th {\n",
       "        text-align: right;\n",
       "    }\n",
       "</style>\n",
       "<table border=\"1\" class=\"dataframe\">\n",
       "  <thead>\n",
       "    <tr style=\"text-align: right;\">\n",
       "      <th></th>\n",
       "      <th>customer_id</th>\n",
       "      <th>gross_revenue</th>\n",
       "      <th>recency_days</th>\n",
       "      <th>qty_products</th>\n",
       "      <th>frequency</th>\n",
       "      <th>qty_returns</th>\n",
       "      <th>cluster</th>\n",
       "    </tr>\n",
       "  </thead>\n",
       "  <tbody>\n",
       "    <tr>\n",
       "      <th>0</th>\n",
       "      <td>17850</td>\n",
       "      <td>5391.21</td>\n",
       "      <td>372.0</td>\n",
       "      <td>297.0</td>\n",
       "      <td>17.000000</td>\n",
       "      <td>40.0</td>\n",
       "      <td>5</td>\n",
       "    </tr>\n",
       "    <tr>\n",
       "      <th>1</th>\n",
       "      <td>13047</td>\n",
       "      <td>3232.59</td>\n",
       "      <td>56.0</td>\n",
       "      <td>171.0</td>\n",
       "      <td>0.028302</td>\n",
       "      <td>35.0</td>\n",
       "      <td>5</td>\n",
       "    </tr>\n",
       "    <tr>\n",
       "      <th>2</th>\n",
       "      <td>12583</td>\n",
       "      <td>6705.38</td>\n",
       "      <td>2.0</td>\n",
       "      <td>232.0</td>\n",
       "      <td>0.040323</td>\n",
       "      <td>50.0</td>\n",
       "      <td>5</td>\n",
       "    </tr>\n",
       "    <tr>\n",
       "      <th>3</th>\n",
       "      <td>13748</td>\n",
       "      <td>948.25</td>\n",
       "      <td>95.0</td>\n",
       "      <td>28.0</td>\n",
       "      <td>0.017921</td>\n",
       "      <td>0.0</td>\n",
       "      <td>2</td>\n",
       "    </tr>\n",
       "    <tr>\n",
       "      <th>4</th>\n",
       "      <td>15100</td>\n",
       "      <td>876.00</td>\n",
       "      <td>333.0</td>\n",
       "      <td>3.0</td>\n",
       "      <td>0.073171</td>\n",
       "      <td>22.0</td>\n",
       "      <td>4</td>\n",
       "    </tr>\n",
       "  </tbody>\n",
       "</table>\n",
       "</div>"
      ],
      "text/plain": [
       "   customer_id  gross_revenue  recency_days  qty_products  frequency  \\\n",
       "0        17850        5391.21         372.0         297.0  17.000000   \n",
       "1        13047        3232.59          56.0         171.0   0.028302   \n",
       "2        12583        6705.38           2.0         232.0   0.040323   \n",
       "3        13748         948.25          95.0          28.0   0.017921   \n",
       "4        15100         876.00         333.0           3.0   0.073171   \n",
       "\n",
       "   qty_returns  cluster  \n",
       "0         40.0        5  \n",
       "1         35.0        5  \n",
       "2         50.0        5  \n",
       "3          0.0        2  \n",
       "4         22.0        4  "
      ]
     },
     "execution_count": 124,
     "metadata": {},
     "output_type": "execute_result"
    }
   ],
   "source": [
    "df92 = df3[cols_selected].copy()\n",
    "df92['cluster'] = labels\n",
    "df92.head()"
   ]
  },
  {
   "cell_type": "code",
   "execution_count": 125,
   "id": "organizational-hawaii",
   "metadata": {
    "ExecuteTime": {
     "end_time": "2022-03-15T21:53:08.618551Z",
     "start_time": "2022-03-15T21:53:08.562211Z"
    },
    "scrolled": true
   },
   "outputs": [
    {
     "data": {
      "text/html": [
       "<div>\n",
       "<style scoped>\n",
       "    .dataframe tbody tr th:only-of-type {\n",
       "        vertical-align: middle;\n",
       "    }\n",
       "\n",
       "    .dataframe tbody tr th {\n",
       "        vertical-align: top;\n",
       "    }\n",
       "\n",
       "    .dataframe thead th {\n",
       "        text-align: right;\n",
       "    }\n",
       "</style>\n",
       "<table border=\"1\" class=\"dataframe\">\n",
       "  <thead>\n",
       "    <tr style=\"text-align: right;\">\n",
       "      <th></th>\n",
       "      <th>cluster</th>\n",
       "      <th>customer_id</th>\n",
       "      <th>perc_customer</th>\n",
       "      <th>gross_revenue</th>\n",
       "      <th>recency_days</th>\n",
       "      <th>qty_products</th>\n",
       "      <th>frequency</th>\n",
       "      <th>qty_returns</th>\n",
       "    </tr>\n",
       "  </thead>\n",
       "  <tbody>\n",
       "    <tr>\n",
       "      <th>0</th>\n",
       "      <td>0</td>\n",
       "      <td>932</td>\n",
       "      <td>16.365233</td>\n",
       "      <td>1885.016727</td>\n",
       "      <td>89.737124</td>\n",
       "      <td>109.946352</td>\n",
       "      <td>0.470317</td>\n",
       "      <td>3.866953</td>\n",
       "    </tr>\n",
       "    <tr>\n",
       "      <th>1</th>\n",
       "      <td>1</td>\n",
       "      <td>824</td>\n",
       "      <td>14.468832</td>\n",
       "      <td>520.506226</td>\n",
       "      <td>101.617718</td>\n",
       "      <td>19.453883</td>\n",
       "      <td>0.526490</td>\n",
       "      <td>8.688107</td>\n",
       "    </tr>\n",
       "    <tr>\n",
       "      <th>2</th>\n",
       "      <td>2</td>\n",
       "      <td>573</td>\n",
       "      <td>10.061457</td>\n",
       "      <td>812.687260</td>\n",
       "      <td>87.371728</td>\n",
       "      <td>31.687609</td>\n",
       "      <td>0.234573</td>\n",
       "      <td>4.390925</td>\n",
       "    </tr>\n",
       "    <tr>\n",
       "      <th>3</th>\n",
       "      <td>3</td>\n",
       "      <td>584</td>\n",
       "      <td>10.254609</td>\n",
       "      <td>1009.013151</td>\n",
       "      <td>106.171233</td>\n",
       "      <td>46.373288</td>\n",
       "      <td>0.407422</td>\n",
       "      <td>5.803082</td>\n",
       "    </tr>\n",
       "    <tr>\n",
       "      <th>4</th>\n",
       "      <td>4</td>\n",
       "      <td>362</td>\n",
       "      <td>6.356453</td>\n",
       "      <td>669.358508</td>\n",
       "      <td>214.535912</td>\n",
       "      <td>57.831492</td>\n",
       "      <td>0.809241</td>\n",
       "      <td>5.196133</td>\n",
       "    </tr>\n",
       "    <tr>\n",
       "      <th>5</th>\n",
       "      <td>5</td>\n",
       "      <td>1120</td>\n",
       "      <td>19.666374</td>\n",
       "      <td>5169.648795</td>\n",
       "      <td>83.030357</td>\n",
       "      <td>280.933929</td>\n",
       "      <td>0.334542</td>\n",
       "      <td>139.514286</td>\n",
       "    </tr>\n",
       "    <tr>\n",
       "      <th>6</th>\n",
       "      <td>6</td>\n",
       "      <td>509</td>\n",
       "      <td>8.937665</td>\n",
       "      <td>226.436483</td>\n",
       "      <td>177.251473</td>\n",
       "      <td>9.047151</td>\n",
       "      <td>0.839523</td>\n",
       "      <td>1.438114</td>\n",
       "    </tr>\n",
       "    <tr>\n",
       "      <th>7</th>\n",
       "      <td>7</td>\n",
       "      <td>791</td>\n",
       "      <td>13.889377</td>\n",
       "      <td>905.716245</td>\n",
       "      <td>158.773704</td>\n",
       "      <td>29.691530</td>\n",
       "      <td>0.982803</td>\n",
       "      <td>3.206068</td>\n",
       "    </tr>\n",
       "  </tbody>\n",
       "</table>\n",
       "</div>"
      ],
      "text/plain": [
       "   cluster  customer_id  perc_customer  gross_revenue  recency_days  \\\n",
       "0        0          932      16.365233    1885.016727     89.737124   \n",
       "1        1          824      14.468832     520.506226    101.617718   \n",
       "2        2          573      10.061457     812.687260     87.371728   \n",
       "3        3          584      10.254609    1009.013151    106.171233   \n",
       "4        4          362       6.356453     669.358508    214.535912   \n",
       "5        5         1120      19.666374    5169.648795     83.030357   \n",
       "6        6          509       8.937665     226.436483    177.251473   \n",
       "7        7          791      13.889377     905.716245    158.773704   \n",
       "\n",
       "   qty_products  frequency  qty_returns  \n",
       "0    109.946352   0.470317     3.866953  \n",
       "1     19.453883   0.526490     8.688107  \n",
       "2     31.687609   0.234573     4.390925  \n",
       "3     46.373288   0.407422     5.803082  \n",
       "4     57.831492   0.809241     5.196133  \n",
       "5    280.933929   0.334542   139.514286  \n",
       "6      9.047151   0.839523     1.438114  \n",
       "7     29.691530   0.982803     3.206068  "
      ]
     },
     "execution_count": 125,
     "metadata": {},
     "output_type": "execute_result"
    }
   ],
   "source": [
    "# Explaining clusters profile based on this averages\n",
    "# Number of customer\n",
    "df_cluster = df92[['customer_id', 'cluster']].groupby( 'cluster' ).count().reset_index()\n",
    "df_cluster['perc_customer'] = 100*( df_cluster['customer_id'] / df_cluster['customer_id'].sum() )\n",
    "\n",
    "# Avg Gross revenue\n",
    "df_avg_gross_revenue = df92[['gross_revenue', 'cluster']].groupby( 'cluster' ).mean().reset_index()\n",
    "df_cluster = pd.merge( df_cluster, df_avg_gross_revenue, how='inner', on='cluster' )\n",
    "\n",
    "# Avg recency days\n",
    "df_avg_recency_days = df92[['recency_days', 'cluster']].groupby( 'cluster' ).mean().reset_index()\n",
    "df_cluster = pd.merge( df_cluster, df_avg_recency_days, how='inner', on='cluster' )\n",
    "\n",
    "# Avg qty products\n",
    "df_qty_products = df92[['qty_products', 'cluster']].groupby( 'cluster' ).mean().reset_index()\n",
    "df_cluster = pd.merge( df_cluster, df_qty_products, how='inner', on='cluster' )\n",
    "\n",
    "# Frequency\n",
    "df_frequency = df92[['frequency', 'cluster']].groupby( 'cluster' ).mean().reset_index()\n",
    "df_cluster = pd.merge( df_cluster, df_frequency, how='inner', on='cluster' )\n",
    "\n",
    "# Avg qty returns\n",
    "df_qty_returns = df92[['qty_returns', 'cluster']].groupby( 'cluster' ).mean().reset_index()\n",
    "df_cluster = pd.merge( df_cluster, df_qty_returns, how='inner', on='cluster' )\n",
    "\n",
    "df_cluster"
   ]
  },
  {
   "cell_type": "code",
   "execution_count": null,
   "id": "wireless-index",
   "metadata": {
    "ExecuteTime": {
     "end_time": "2022-03-13T19:05:52.836567Z",
     "start_time": "2022-03-13T19:05:52.832235Z"
    }
   },
   "outputs": [],
   "source": [
    "# during the new EDA we can do a analyse inside each cluster"
   ]
  },
  {
   "cell_type": "markdown",
   "id": "abstract-painting",
   "metadata": {},
   "source": [
    "Cluster Insiders (04):\n",
    "\n",
    "- Number of customers: 551 (9.67% of costumers)\n",
    "- Avg Gross Revenue: $10410,00\n",
    "- Recency Average: 45 days\n",
    "- Avg of Qty Products Purchased: 366 un\n",
    "- Purchase Frequency: 0.21 products per day"
   ]
  },
  {
   "cell_type": "markdown",
   "id": "ee05ffc7",
   "metadata": {},
   "source": [
    "# Exploratory Dada Analysis"
   ]
  },
  {
   "cell_type": "code",
   "execution_count": 126,
   "id": "0400833a",
   "metadata": {
    "ExecuteTime": {
     "end_time": "2022-03-15T21:53:16.040064Z",
     "start_time": "2022-03-15T21:53:16.035373Z"
    }
   },
   "outputs": [],
   "source": [
    "df10 = df92.copy()"
   ]
  },
  {
   "cell_type": "code",
   "execution_count": 127,
   "id": "5688cd9f",
   "metadata": {
    "ExecuteTime": {
     "end_time": "2022-03-15T21:53:17.105471Z",
     "start_time": "2022-03-15T21:53:17.090721Z"
    }
   },
   "outputs": [
    {
     "data": {
      "text/html": [
       "<div>\n",
       "<style scoped>\n",
       "    .dataframe tbody tr th:only-of-type {\n",
       "        vertical-align: middle;\n",
       "    }\n",
       "\n",
       "    .dataframe tbody tr th {\n",
       "        vertical-align: top;\n",
       "    }\n",
       "\n",
       "    .dataframe thead th {\n",
       "        text-align: right;\n",
       "    }\n",
       "</style>\n",
       "<table border=\"1\" class=\"dataframe\">\n",
       "  <thead>\n",
       "    <tr style=\"text-align: right;\">\n",
       "      <th></th>\n",
       "      <th>customer_id</th>\n",
       "      <th>gross_revenue</th>\n",
       "      <th>recency_days</th>\n",
       "      <th>qty_products</th>\n",
       "      <th>frequency</th>\n",
       "      <th>qty_returns</th>\n",
       "      <th>cluster</th>\n",
       "    </tr>\n",
       "  </thead>\n",
       "  <tbody>\n",
       "    <tr>\n",
       "      <th>0</th>\n",
       "      <td>17850</td>\n",
       "      <td>5391.21</td>\n",
       "      <td>372.0</td>\n",
       "      <td>297.0</td>\n",
       "      <td>17.000000</td>\n",
       "      <td>40.0</td>\n",
       "      <td>5</td>\n",
       "    </tr>\n",
       "    <tr>\n",
       "      <th>1</th>\n",
       "      <td>13047</td>\n",
       "      <td>3232.59</td>\n",
       "      <td>56.0</td>\n",
       "      <td>171.0</td>\n",
       "      <td>0.028302</td>\n",
       "      <td>35.0</td>\n",
       "      <td>5</td>\n",
       "    </tr>\n",
       "    <tr>\n",
       "      <th>2</th>\n",
       "      <td>12583</td>\n",
       "      <td>6705.38</td>\n",
       "      <td>2.0</td>\n",
       "      <td>232.0</td>\n",
       "      <td>0.040323</td>\n",
       "      <td>50.0</td>\n",
       "      <td>5</td>\n",
       "    </tr>\n",
       "    <tr>\n",
       "      <th>3</th>\n",
       "      <td>13748</td>\n",
       "      <td>948.25</td>\n",
       "      <td>95.0</td>\n",
       "      <td>28.0</td>\n",
       "      <td>0.017921</td>\n",
       "      <td>0.0</td>\n",
       "      <td>2</td>\n",
       "    </tr>\n",
       "    <tr>\n",
       "      <th>4</th>\n",
       "      <td>15100</td>\n",
       "      <td>876.00</td>\n",
       "      <td>333.0</td>\n",
       "      <td>3.0</td>\n",
       "      <td>0.073171</td>\n",
       "      <td>22.0</td>\n",
       "      <td>4</td>\n",
       "    </tr>\n",
       "  </tbody>\n",
       "</table>\n",
       "</div>"
      ],
      "text/plain": [
       "   customer_id  gross_revenue  recency_days  qty_products  frequency  \\\n",
       "0        17850        5391.21         372.0         297.0  17.000000   \n",
       "1        13047        3232.59          56.0         171.0   0.028302   \n",
       "2        12583        6705.38           2.0         232.0   0.040323   \n",
       "3        13748         948.25          95.0          28.0   0.017921   \n",
       "4        15100         876.00         333.0           3.0   0.073171   \n",
       "\n",
       "   qty_returns  cluster  \n",
       "0         40.0        5  \n",
       "1         35.0        5  \n",
       "2         50.0        5  \n",
       "3          0.0        2  \n",
       "4         22.0        4  "
      ]
     },
     "execution_count": 127,
     "metadata": {},
     "output_type": "execute_result"
    }
   ],
   "source": [
    "df10.head()"
   ]
  },
  {
   "cell_type": "markdown",
   "id": "fifth-tooth",
   "metadata": {},
   "source": [
    "# MODEL DEPLOYMENT"
   ]
  },
  {
   "cell_type": "code",
   "execution_count": 128,
   "id": "695d0948",
   "metadata": {
    "ExecuteTime": {
     "end_time": "2022-03-15T21:53:20.444445Z",
     "start_time": "2022-03-15T21:53:20.438697Z"
    }
   },
   "outputs": [
    {
     "data": {
      "text/plain": [
       "customer_id        int64\n",
       "gross_revenue    float64\n",
       "recency_days     float64\n",
       "qty_products     float64\n",
       "frequency        float64\n",
       "qty_returns      float64\n",
       "cluster            int32\n",
       "dtype: object"
      ]
     },
     "execution_count": 128,
     "metadata": {},
     "output_type": "execute_result"
    }
   ],
   "source": [
    "df92.dtypes"
   ]
  },
  {
   "cell_type": "code",
   "execution_count": 129,
   "id": "fdab27f8",
   "metadata": {
    "ExecuteTime": {
     "end_time": "2022-03-15T21:53:24.927405Z",
     "start_time": "2022-03-15T21:53:24.919010Z"
    }
   },
   "outputs": [],
   "source": [
    "df92['recency_days'] = df92['recency_days'].astype(int)\n",
    "df92['qty_products'] = df92['qty_products'].astype(int)\n",
    "df92['qty_returns'] = df92['qty_returns'].astype(int)"
   ]
  },
  {
   "cell_type": "code",
   "execution_count": null,
   "id": "ac86f3ab",
   "metadata": {},
   "outputs": [],
   "source": [
    "# database connection\n",
    "conn = create_engine('sqlite:///insiders_db.sqlite')\n",
    "\n",
    "# drop table\n",
    "query_drop_insiders = \"\"\"\n",
    "    DROP TABLE insiders\n",
    "\n",
    "\"\"\"\n",
    "\n",
    "#create table\n",
    "query_create_insiders = \"\"\"\n",
    "    CREATE TABLE (\n",
    "        custer_id     INTEGER,\n",
    "        gross_revenue REAL,\n",
    "        recency_days  INTEGER,\n",
    "        qty_products  INTEGER\n",
    "        frequency     INTEGER\n",
    "        qty_returns   INTEGER\n",
    "        cluster       INTEGER\n",
    "    )\n",
    "\"\"\"\n",
    "\n",
    "conn.execute(query_drop_insiders)"
   ]
  },
  {
   "cell_type": "code",
   "execution_count": null,
   "id": "4aaa9653",
   "metadata": {},
   "outputs": [],
   "source": [
    "# insert into data\n",
    "df92.to_sql('insiders', con = conn, if_exists = 'append', index = False)"
   ]
  },
  {
   "cell_type": "code",
   "execution_count": null,
   "id": "47b9ce74",
   "metadata": {},
   "outputs": [],
   "source": [
    "# get query\n",
    "query_collect = \"\"\"\n",
    "    SELECT * from insiders\n",
    "\"\"\"\n",
    "\n",
    "df = pd.read_sql_query(query_collect, conn)\n",
    "df.head()"
   ]
  },
  {
   "cell_type": "code",
   "execution_count": null,
   "id": "6495b9a5",
   "metadata": {},
   "outputs": [],
   "source": []
  },
  {
   "cell_type": "code",
   "execution_count": null,
   "id": "2c68c756",
   "metadata": {},
   "outputs": [],
   "source": []
  }
 ],
 "metadata": {
  "kernelspec": {
   "display_name": "Python 3 (ipykernel)",
   "language": "python",
   "name": "python3"
  },
  "language_info": {
   "codemirror_mode": {
    "name": "ipython",
    "version": 3
   },
   "file_extension": ".py",
   "mimetype": "text/x-python",
   "name": "python",
   "nbconvert_exporter": "python",
   "pygments_lexer": "ipython3",
   "version": "3.8.10"
  },
  "nbTranslate": {
   "displayLangs": [
    "*"
   ],
   "hotkey": "alt-t",
   "langInMainMenu": true,
   "sourceLang": "en",
   "targetLang": "fr",
   "useGoogleTranslate": true
  },
  "toc": {
   "base_numbering": 1,
   "nav_menu": {},
   "number_sections": true,
   "sideBar": true,
   "skip_h1_title": false,
   "title_cell": "Table of Contents",
   "title_sidebar": "Contents",
   "toc_cell": false,
   "toc_position": {},
   "toc_section_display": true,
   "toc_window_display": false
  }
 },
 "nbformat": 4,
 "nbformat_minor": 5
}
