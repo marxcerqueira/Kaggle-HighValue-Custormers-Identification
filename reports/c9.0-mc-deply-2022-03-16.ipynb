{
 "cells": [
  {
   "cell_type": "markdown",
   "id": "b1717c53",
   "metadata": {
    "tags": [
     "papermill-error-cell-tag"
    ]
   },
   "source": [
    "<span style=\"color:red; font-family:Helvetica Neue, Helvetica, Arial, sans-serif; font-size:2em;\">An Exception was encountered at '<a href=\"#papermill-error-cell\">In [42]</a>'.</span>"
   ]
  },
  {
   "cell_type": "markdown",
   "id": "french-dollar",
   "metadata": {
    "papermill": {
     "duration": 0.07604,
     "end_time": "2022-03-16T21:40:20.314374",
     "exception": false,
     "start_time": "2022-03-16T21:40:20.238334",
     "status": "completed"
    },
    "tags": []
   },
   "source": [
    "# High Value Customers Identification (Insiders) #\n",
    "**By: Marx Cerqueira**"
   ]
  },
  {
   "cell_type": "markdown",
   "id": "homeless-heading",
   "metadata": {
    "papermill": {
     "duration": 0.037898,
     "end_time": "2022-03-16T21:40:20.389063",
     "exception": false,
     "start_time": "2022-03-16T21:40:20.351165",
     "status": "completed"
    },
    "tags": []
   },
   "source": [
    "# IMPORTS"
   ]
  },
  {
   "cell_type": "code",
   "execution_count": 1,
   "id": "lovely-guess",
   "metadata": {
    "ExecuteTime": {
     "end_time": "2022-03-16T18:52:22.251366Z",
     "start_time": "2022-03-16T18:52:22.246832Z"
    },
    "execution": {
     "iopub.execute_input": "2022-03-16T21:40:20.465153Z",
     "iopub.status.busy": "2022-03-16T21:40:20.465001Z",
     "iopub.status.idle": "2022-03-16T21:40:25.540875Z",
     "shell.execute_reply": "2022-03-16T21:40:25.540444Z"
    },
    "papermill": {
     "duration": 5.115778,
     "end_time": "2022-03-16T21:40:25.542023",
     "exception": false,
     "start_time": "2022-03-16T21:40:20.426245",
     "status": "completed"
    },
    "scrolled": true,
    "tags": []
   },
   "outputs": [],
   "source": [
    "import re\n",
    "import os\n",
    "import inflection\n",
    "import sqlite3\n",
    "\n",
    "import numpy   as np\n",
    "import pandas  as pd\n",
    "import seaborn as sns\n",
    "\n",
    "import umap.umap_ as umap\n",
    "\n",
    "from matplotlib import pyplot as plt\n",
    "\n",
    "from sklearn import metrics       as m\n",
    "from sklearn import preprocessing as pp\n",
    "from sklearn import decomposition as dd\n",
    "from sklearn import ensemble      as en\n",
    "from sklearn import manifold      as mn\n",
    "from sklearn import mixture       as mx\n",
    "from sklearn import cluster       as c\n",
    "\n",
    "from scipy.cluster import hierarchy as hc\n",
    "\n",
    "from plotly import express as px\n",
    "from sqlalchemy import create_engine"
   ]
  },
  {
   "cell_type": "markdown",
   "id": "satisfied-catholic",
   "metadata": {
    "papermill": {
     "duration": 0.038466,
     "end_time": "2022-03-16T21:40:25.621234",
     "exception": false,
     "start_time": "2022-03-16T21:40:25.582768",
     "status": "completed"
    },
    "tags": []
   },
   "source": [
    "## Loading Data"
   ]
  },
  {
   "cell_type": "code",
   "execution_count": 2,
   "id": "front-edinburgh",
   "metadata": {
    "ExecuteTime": {
     "end_time": "2022-03-15T19:24:54.305668Z",
     "start_time": "2022-03-15T19:24:53.711782Z"
    },
    "execution": {
     "iopub.execute_input": "2022-03-16T21:40:25.700498Z",
     "iopub.status.busy": "2022-03-16T21:40:25.700369Z",
     "iopub.status.idle": "2022-03-16T21:40:26.200914Z",
     "shell.execute_reply": "2022-03-16T21:40:26.200462Z"
    },
    "papermill": {
     "duration": 0.542495,
     "end_time": "2022-03-16T21:40:26.202338",
     "exception": false,
     "start_time": "2022-03-16T21:40:25.659843",
     "status": "completed"
    },
    "scrolled": true,
    "tags": []
   },
   "outputs": [],
   "source": [
    "# load data\n",
    "df_ecomm_raw = pd.read_csv('/home/marxcerqueira/repos/Kaggle-HighValue-Custormers-Identification/data/raw/Ecommerce.csv',\n",
    "                           encoding='iso-8859-1',\n",
    "                           low_memory=False)\n",
    "\n",
    "#drop extra column\n",
    "df_ecomm_raw = df_ecomm_raw.drop(columns = ['Unnamed: 8'], axis = 1)"
   ]
  },
  {
   "cell_type": "markdown",
   "id": "respiratory-seattle",
   "metadata": {
    "papermill": {
     "duration": 0.041932,
     "end_time": "2022-03-16T21:40:26.287336",
     "exception": false,
     "start_time": "2022-03-16T21:40:26.245404",
     "status": "completed"
    },
    "tags": []
   },
   "source": [
    "# DATA DISCRIPTION"
   ]
  },
  {
   "cell_type": "code",
   "execution_count": 3,
   "id": "italian-wayne",
   "metadata": {
    "ExecuteTime": {
     "end_time": "2022-03-15T19:25:09.216449Z",
     "start_time": "2022-03-15T19:25:09.202400Z"
    },
    "execution": {
     "iopub.execute_input": "2022-03-16T21:40:26.380888Z",
     "iopub.status.busy": "2022-03-16T21:40:26.380666Z",
     "iopub.status.idle": "2022-03-16T21:40:26.393662Z",
     "shell.execute_reply": "2022-03-16T21:40:26.393201Z"
    },
    "papermill": {
     "duration": 0.058637,
     "end_time": "2022-03-16T21:40:26.394781",
     "exception": false,
     "start_time": "2022-03-16T21:40:26.336144",
     "status": "completed"
    },
    "tags": []
   },
   "outputs": [],
   "source": [
    "# Copy dataset\n",
    "df0 = df_ecomm_raw.copy()"
   ]
  },
  {
   "cell_type": "markdown",
   "id": "linear-haiti",
   "metadata": {
    "papermill": {
     "duration": 0.061427,
     "end_time": "2022-03-16T21:40:26.495869",
     "exception": false,
     "start_time": "2022-03-16T21:40:26.434442",
     "status": "completed"
    },
    "tags": []
   },
   "source": [
    "## Rename Columns"
   ]
  },
  {
   "cell_type": "code",
   "execution_count": 4,
   "id": "compressed-sword",
   "metadata": {
    "ExecuteTime": {
     "end_time": "2022-03-15T19:25:15.658079Z",
     "start_time": "2022-03-15T19:25:15.653678Z"
    },
    "execution": {
     "iopub.execute_input": "2022-03-16T21:40:26.572953Z",
     "iopub.status.busy": "2022-03-16T21:40:26.572818Z",
     "iopub.status.idle": "2022-03-16T21:40:26.575820Z",
     "shell.execute_reply": "2022-03-16T21:40:26.575526Z"
    },
    "papermill": {
     "duration": 0.042631,
     "end_time": "2022-03-16T21:40:26.576619",
     "exception": false,
     "start_time": "2022-03-16T21:40:26.533988",
     "status": "completed"
    },
    "tags": []
   },
   "outputs": [],
   "source": [
    "cols_old = ['InvoiceNo','StockCode','Description','Quantity', 'InvoiceDate','UnitPrice','CustomerID','Country']\n",
    "\n",
    "snakecase = lambda x: inflection.underscore(x)\n",
    "col_news = list(map(snakecase, cols_old))\n",
    "\n",
    "# Rename columns\n",
    "df0.columns = col_news"
   ]
  },
  {
   "cell_type": "markdown",
   "id": "growing-arrival",
   "metadata": {
    "papermill": {
     "duration": 0.040487,
     "end_time": "2022-03-16T21:40:26.659219",
     "exception": false,
     "start_time": "2022-03-16T21:40:26.618732",
     "status": "completed"
    },
    "tags": []
   },
   "source": [
    "## Data Dimension"
   ]
  },
  {
   "cell_type": "code",
   "execution_count": 5,
   "id": "stone-immigration",
   "metadata": {
    "ExecuteTime": {
     "end_time": "2022-03-15T19:25:20.859836Z",
     "start_time": "2022-03-15T19:25:20.851793Z"
    },
    "execution": {
     "iopub.execute_input": "2022-03-16T21:40:26.757578Z",
     "iopub.status.busy": "2022-03-16T21:40:26.757448Z",
     "iopub.status.idle": "2022-03-16T21:40:26.760182Z",
     "shell.execute_reply": "2022-03-16T21:40:26.759892Z"
    },
    "papermill": {
     "duration": 0.047689,
     "end_time": "2022-03-16T21:40:26.761222",
     "exception": false,
     "start_time": "2022-03-16T21:40:26.713533",
     "status": "completed"
    },
    "tags": []
   },
   "outputs": [
    {
     "name": "stdout",
     "output_type": "stream",
     "text": [
      "Number of rows: 541909.\n",
      "Number of cols: 8.\n"
     ]
    }
   ],
   "source": [
    "print('Number of rows: {}.'.format(df0.shape[0]))\n",
    "print('Number of cols: {}.'.format(df0.shape[1]))"
   ]
  },
  {
   "cell_type": "markdown",
   "id": "covered-offset",
   "metadata": {
    "papermill": {
     "duration": 0.042297,
     "end_time": "2022-03-16T21:40:26.850028",
     "exception": false,
     "start_time": "2022-03-16T21:40:26.807731",
     "status": "completed"
    },
    "tags": []
   },
   "source": [
    "## Data Types"
   ]
  },
  {
   "cell_type": "code",
   "execution_count": 6,
   "id": "conditional-triangle",
   "metadata": {
    "ExecuteTime": {
     "end_time": "2022-03-15T19:25:29.507377Z",
     "start_time": "2022-03-15T19:25:29.390727Z"
    },
    "execution": {
     "iopub.execute_input": "2022-03-16T21:40:26.932394Z",
     "iopub.status.busy": "2022-03-16T21:40:26.932258Z",
     "iopub.status.idle": "2022-03-16T21:40:27.017548Z",
     "shell.execute_reply": "2022-03-16T21:40:27.017170Z"
    },
    "papermill": {
     "duration": 0.126668,
     "end_time": "2022-03-16T21:40:27.018425",
     "exception": false,
     "start_time": "2022-03-16T21:40:26.891757",
     "status": "completed"
    },
    "tags": []
   },
   "outputs": [
    {
     "name": "stdout",
     "output_type": "stream",
     "text": [
      "<class 'pandas.core.frame.DataFrame'>\n",
      "RangeIndex: 541909 entries, 0 to 541908\n",
      "Data columns (total 8 columns):\n",
      " #   Column        Non-Null Count   Dtype  \n",
      "---  ------        --------------   -----  \n",
      " 0   invoice_no    541909 non-null  object \n",
      " 1   stock_code    541909 non-null  object \n",
      " 2   description   540455 non-null  object \n",
      " 3   quantity      541909 non-null  int64  \n",
      " 4   invoice_date  541909 non-null  object \n",
      " 5   unit_price    541909 non-null  float64\n",
      " 6   customer_id   406829 non-null  float64\n",
      " 7   country       541909 non-null  object \n",
      "dtypes: float64(2), int64(1), object(5)\n",
      "memory usage: 33.1+ MB\n"
     ]
    }
   ],
   "source": [
    "df0.info()"
   ]
  },
  {
   "cell_type": "markdown",
   "id": "naval-annual",
   "metadata": {
    "papermill": {
     "duration": 0.038885,
     "end_time": "2022-03-16T21:40:27.097621",
     "exception": false,
     "start_time": "2022-03-16T21:40:27.058736",
     "status": "completed"
    },
    "tags": []
   },
   "source": [
    "## Check NA Values"
   ]
  },
  {
   "cell_type": "code",
   "execution_count": 7,
   "id": "important-appendix",
   "metadata": {
    "ExecuteTime": {
     "end_time": "2022-03-15T19:25:34.322243Z",
     "start_time": "2022-03-15T19:25:34.144506Z"
    },
    "execution": {
     "iopub.execute_input": "2022-03-16T21:40:27.177030Z",
     "iopub.status.busy": "2022-03-16T21:40:27.176902Z",
     "iopub.status.idle": "2022-03-16T21:40:27.346536Z",
     "shell.execute_reply": "2022-03-16T21:40:27.346133Z"
    },
    "papermill": {
     "duration": 0.210673,
     "end_time": "2022-03-16T21:40:27.347492",
     "exception": false,
     "start_time": "2022-03-16T21:40:27.136819",
     "status": "completed"
    },
    "tags": []
   },
   "outputs": [
    {
     "data": {
      "text/html": [
       "<div>\n",
       "<style scoped>\n",
       "    .dataframe tbody tr th:only-of-type {\n",
       "        vertical-align: middle;\n",
       "    }\n",
       "\n",
       "    .dataframe tbody tr th {\n",
       "        vertical-align: top;\n",
       "    }\n",
       "\n",
       "    .dataframe thead th {\n",
       "        text-align: right;\n",
       "    }\n",
       "</style>\n",
       "<table border=\"1\" class=\"dataframe\">\n",
       "  <thead>\n",
       "    <tr style=\"text-align: right;\">\n",
       "      <th></th>\n",
       "      <th>missing value count</th>\n",
       "      <th>percentage</th>\n",
       "    </tr>\n",
       "  </thead>\n",
       "  <tbody>\n",
       "    <tr>\n",
       "      <th>invoice_no</th>\n",
       "      <td>0</td>\n",
       "      <td>0.00</td>\n",
       "    </tr>\n",
       "    <tr>\n",
       "      <th>stock_code</th>\n",
       "      <td>0</td>\n",
       "      <td>0.00</td>\n",
       "    </tr>\n",
       "    <tr>\n",
       "      <th>description</th>\n",
       "      <td>1454</td>\n",
       "      <td>0.27</td>\n",
       "    </tr>\n",
       "    <tr>\n",
       "      <th>quantity</th>\n",
       "      <td>0</td>\n",
       "      <td>0.00</td>\n",
       "    </tr>\n",
       "    <tr>\n",
       "      <th>invoice_date</th>\n",
       "      <td>0</td>\n",
       "      <td>0.00</td>\n",
       "    </tr>\n",
       "    <tr>\n",
       "      <th>unit_price</th>\n",
       "      <td>0</td>\n",
       "      <td>0.00</td>\n",
       "    </tr>\n",
       "    <tr>\n",
       "      <th>customer_id</th>\n",
       "      <td>135080</td>\n",
       "      <td>24.93</td>\n",
       "    </tr>\n",
       "    <tr>\n",
       "      <th>country</th>\n",
       "      <td>0</td>\n",
       "      <td>0.00</td>\n",
       "    </tr>\n",
       "  </tbody>\n",
       "</table>\n",
       "</div>"
      ],
      "text/plain": [
       "              missing value count  percentage\n",
       "invoice_no                      0        0.00\n",
       "stock_code                      0        0.00\n",
       "description                  1454        0.27\n",
       "quantity                        0        0.00\n",
       "invoice_date                    0        0.00\n",
       "unit_price                      0        0.00\n",
       "customer_id                135080       24.93\n",
       "country                         0        0.00"
      ]
     },
     "execution_count": 7,
     "metadata": {},
     "output_type": "execute_result"
    }
   ],
   "source": [
    "missing_count = df0.isnull().sum() # the count of missing values\n",
    "value_count = df0.isnull().count() # the total values count\n",
    "\n",
    "missing_percentage = round(missing_count/value_count*100,2) # the percentage of missing values\n",
    "missing_df = pd.DataFrame({'missing value count': missing_count, 'percentage': missing_percentage})\n",
    "missing_df"
   ]
  },
  {
   "cell_type": "code",
   "execution_count": 8,
   "id": "floral-transportation",
   "metadata": {
    "ExecuteTime": {
     "end_time": "2022-03-15T19:25:42.538509Z",
     "start_time": "2022-03-15T19:25:42.392202Z"
    },
    "execution": {
     "iopub.execute_input": "2022-03-16T21:40:27.429199Z",
     "iopub.status.busy": "2022-03-16T21:40:27.428845Z",
     "iopub.status.idle": "2022-03-16T21:40:27.572428Z",
     "shell.execute_reply": "2022-03-16T21:40:27.572076Z"
    },
    "papermill": {
     "duration": 0.185249,
     "end_time": "2022-03-16T21:40:27.573403",
     "exception": false,
     "start_time": "2022-03-16T21:40:27.388154",
     "status": "completed"
    },
    "tags": []
   },
   "outputs": [
    {
     "data": {
      "image/png": "[encoded data removed]",
      "text/plain": [
       "<Figure size 432x288 with 1 Axes>"
      ]
     },
     "metadata": {
      "needs_background": "light"
     },
     "output_type": "display_data"
    }
   ],
   "source": [
    "barchart = missing_df.plot.bar(y='percentage')\n",
    "for index, percentage in enumerate( missing_percentage ):\n",
    "    barchart.text( index, percentage, str(percentage)+'%')"
   ]
  },
  {
   "cell_type": "markdown",
   "id": "unique-charlotte",
   "metadata": {
    "papermill": {
     "duration": 0.044595,
     "end_time": "2022-03-16T21:40:27.661019",
     "exception": false,
     "start_time": "2022-03-16T21:40:27.616424",
     "status": "completed"
    },
    "tags": []
   },
   "source": [
    "## Fillout NA"
   ]
  },
  {
   "cell_type": "code",
   "execution_count": 9,
   "id": "coral-leone",
   "metadata": {
    "ExecuteTime": {
     "end_time": "2022-03-15T19:25:54.817698Z",
     "start_time": "2022-03-15T19:25:54.772409Z"
    },
    "execution": {
     "iopub.execute_input": "2022-03-16T21:40:27.747143Z",
     "iopub.status.busy": "2022-03-16T21:40:27.747000Z",
     "iopub.status.idle": "2022-03-16T21:40:27.780189Z",
     "shell.execute_reply": "2022-03-16T21:40:27.779799Z"
    },
    "papermill": {
     "duration": 0.078311,
     "end_time": "2022-03-16T21:40:27.781250",
     "exception": false,
     "start_time": "2022-03-16T21:40:27.702939",
     "status": "completed"
    },
    "tags": []
   },
   "outputs": [],
   "source": [
    "# separate NA's in two different dataframe, one with NAs and other without it\n",
    "df_missing = df0.loc[df0['customer_id'].isna(), :]\n",
    "df_not_missing = df0.loc[~df0['customer_id'].isna(), :]"
   ]
  },
  {
   "cell_type": "code",
   "execution_count": 10,
   "id": "basic-invite",
   "metadata": {
    "ExecuteTime": {
     "end_time": "2022-03-15T19:26:01.570568Z",
     "start_time": "2022-03-15T19:26:01.365098Z"
    },
    "execution": {
     "iopub.execute_input": "2022-03-16T21:40:27.869363Z",
     "iopub.status.busy": "2022-03-16T21:40:27.869234Z",
     "iopub.status.idle": "2022-03-16T21:40:28.070796Z",
     "shell.execute_reply": "2022-03-16T21:40:28.070459Z"
    },
    "papermill": {
     "duration": 0.244528,
     "end_time": "2022-03-16T21:40:28.071836",
     "exception": false,
     "start_time": "2022-03-16T21:40:27.827308",
     "status": "completed"
    },
    "tags": []
   },
   "outputs": [],
   "source": [
    "# create reference\n",
    "df_backup = pd.DataFrame( df_missing['invoice_no'].drop_duplicates().copy() )\n",
    "df_backup['customer_id'] = np.arange( 19000, 19000+len( df_backup ), 1) # Fillout NA stratety: creating customers_id to keep their behavior (25% of the database)\n",
    "\n",
    "# merge original with reference dataframe\n",
    "df0 = pd.merge( df0, df_backup, on='invoice_no', how='left' )\n",
    "\n",
    "# coalesce \n",
    "df0['customer_id'] = df0['customer_id_x'].combine_first( df0['customer_id_y'] )\n",
    "\n",
    "# drop extra columns\n",
    "df0 = df0.drop( columns=['customer_id_x', 'customer_id_y'], axis=1 )"
   ]
  },
  {
   "cell_type": "code",
   "execution_count": 11,
   "id": "critical-front",
   "metadata": {
    "ExecuteTime": {
     "end_time": "2022-03-15T19:26:04.493479Z",
     "start_time": "2022-03-15T19:26:04.393443Z"
    },
    "execution": {
     "iopub.execute_input": "2022-03-16T21:40:28.155863Z",
     "iopub.status.busy": "2022-03-16T21:40:28.155734Z",
     "iopub.status.idle": "2022-03-16T21:40:28.234885Z",
     "shell.execute_reply": "2022-03-16T21:40:28.234505Z"
    },
    "papermill": {
     "duration": 0.122995,
     "end_time": "2022-03-16T21:40:28.235775",
     "exception": false,
     "start_time": "2022-03-16T21:40:28.112780",
     "status": "completed"
    },
    "tags": []
   },
   "outputs": [
    {
     "data": {
      "text/plain": [
       "invoice_no         0\n",
       "stock_code         0\n",
       "description     1454\n",
       "quantity           0\n",
       "invoice_date       0\n",
       "unit_price         0\n",
       "country            0\n",
       "customer_id        0\n",
       "dtype: int64"
      ]
     },
     "execution_count": 11,
     "metadata": {},
     "output_type": "execute_result"
    }
   ],
   "source": [
    "df0.isna().sum()"
   ]
  },
  {
   "cell_type": "markdown",
   "id": "baking-paragraph",
   "metadata": {
    "papermill": {
     "duration": 0.042621,
     "end_time": "2022-03-16T21:40:28.318172",
     "exception": false,
     "start_time": "2022-03-16T21:40:28.275551",
     "status": "completed"
    },
    "tags": []
   },
   "source": [
    "## Change Types"
   ]
  },
  {
   "cell_type": "code",
   "execution_count": 12,
   "id": "second-brunei",
   "metadata": {
    "ExecuteTime": {
     "end_time": "2022-03-15T19:26:12.560570Z",
     "start_time": "2022-03-15T19:26:12.471248Z"
    },
    "execution": {
     "iopub.execute_input": "2022-03-16T21:40:28.398291Z",
     "iopub.status.busy": "2022-03-16T21:40:28.398158Z",
     "iopub.status.idle": "2022-03-16T21:40:28.462972Z",
     "shell.execute_reply": "2022-03-16T21:40:28.462437Z"
    },
    "papermill": {
     "duration": 0.106579,
     "end_time": "2022-03-16T21:40:28.464331",
     "exception": false,
     "start_time": "2022-03-16T21:40:28.357752",
     "status": "completed"
    },
    "tags": []
   },
   "outputs": [],
   "source": [
    "# Transforme datatype of variable invoice_date to datetime\n",
    "df0['invoice_date'] = pd.to_datetime(df0['invoice_date'])"
   ]
  },
  {
   "cell_type": "code",
   "execution_count": 13,
   "id": "cellular-jurisdiction",
   "metadata": {
    "ExecuteTime": {
     "end_time": "2022-03-15T19:26:17.549948Z",
     "start_time": "2022-03-15T19:26:17.543985Z"
    },
    "execution": {
     "iopub.execute_input": "2022-03-16T21:40:28.545464Z",
     "iopub.status.busy": "2022-03-16T21:40:28.545330Z",
     "iopub.status.idle": "2022-03-16T21:40:28.550186Z",
     "shell.execute_reply": "2022-03-16T21:40:28.549771Z"
    },
    "papermill": {
     "duration": 0.047008,
     "end_time": "2022-03-16T21:40:28.551215",
     "exception": false,
     "start_time": "2022-03-16T21:40:28.504207",
     "status": "completed"
    },
    "tags": []
   },
   "outputs": [],
   "source": [
    "df0['customer_id'] = df0['customer_id'].astype('int64')"
   ]
  },
  {
   "cell_type": "code",
   "execution_count": 14,
   "id": "rotary-providence",
   "metadata": {
    "ExecuteTime": {
     "end_time": "2022-03-15T19:26:18.669518Z",
     "start_time": "2022-03-15T19:26:18.661353Z"
    },
    "execution": {
     "iopub.execute_input": "2022-03-16T21:40:28.632816Z",
     "iopub.status.busy": "2022-03-16T21:40:28.632361Z",
     "iopub.status.idle": "2022-03-16T21:40:28.635960Z",
     "shell.execute_reply": "2022-03-16T21:40:28.635624Z"
    },
    "papermill": {
     "duration": 0.045441,
     "end_time": "2022-03-16T21:40:28.636865",
     "exception": false,
     "start_time": "2022-03-16T21:40:28.591424",
     "status": "completed"
    },
    "tags": []
   },
   "outputs": [
    {
     "data": {
      "text/plain": [
       "invoice_no              object\n",
       "stock_code              object\n",
       "description             object\n",
       "quantity                 int64\n",
       "invoice_date    datetime64[ns]\n",
       "unit_price             float64\n",
       "country                 object\n",
       "customer_id              int64\n",
       "dtype: object"
      ]
     },
     "execution_count": 14,
     "metadata": {},
     "output_type": "execute_result"
    }
   ],
   "source": [
    "df0.dtypes"
   ]
  },
  {
   "cell_type": "markdown",
   "id": "severe-puppy",
   "metadata": {
    "papermill": {
     "duration": 0.0427,
     "end_time": "2022-03-16T21:40:28.720054",
     "exception": false,
     "start_time": "2022-03-16T21:40:28.677354",
     "status": "completed"
    },
    "tags": []
   },
   "source": [
    "## Descriptive Statistics"
   ]
  },
  {
   "cell_type": "code",
   "execution_count": 15,
   "id": "wrong-nothing",
   "metadata": {
    "ExecuteTime": {
     "end_time": "2022-03-15T19:26:47.325183Z",
     "start_time": "2022-03-15T19:26:47.273141Z"
    },
    "execution": {
     "iopub.execute_input": "2022-03-16T21:40:28.801013Z",
     "iopub.status.busy": "2022-03-16T21:40:28.800884Z",
     "iopub.status.idle": "2022-03-16T21:40:28.854982Z",
     "shell.execute_reply": "2022-03-16T21:40:28.854575Z"
    },
    "papermill": {
     "duration": 0.09572,
     "end_time": "2022-03-16T21:40:28.855949",
     "exception": false,
     "start_time": "2022-03-16T21:40:28.760229",
     "status": "completed"
    },
    "scrolled": false,
    "tags": []
   },
   "outputs": [
    {
     "data": {
      "text/html": [
       "<div>\n",
       "<style scoped>\n",
       "    .dataframe tbody tr th:only-of-type {\n",
       "        vertical-align: middle;\n",
       "    }\n",
       "\n",
       "    .dataframe tbody tr th {\n",
       "        vertical-align: top;\n",
       "    }\n",
       "\n",
       "    .dataframe thead th {\n",
       "        text-align: right;\n",
       "    }\n",
       "</style>\n",
       "<table border=\"1\" class=\"dataframe\">\n",
       "  <thead>\n",
       "    <tr style=\"text-align: right;\">\n",
       "      <th></th>\n",
       "      <th>count</th>\n",
       "      <th>mean</th>\n",
       "      <th>std</th>\n",
       "      <th>min</th>\n",
       "      <th>25%</th>\n",
       "      <th>50%</th>\n",
       "      <th>75%</th>\n",
       "      <th>max</th>\n",
       "    </tr>\n",
       "  </thead>\n",
       "  <tbody>\n",
       "    <tr>\n",
       "      <th>quantity</th>\n",
       "      <td>541909.0</td>\n",
       "      <td>9.552250</td>\n",
       "      <td>218.081158</td>\n",
       "      <td>-80995.00</td>\n",
       "      <td>1.00</td>\n",
       "      <td>3.00</td>\n",
       "      <td>10.00</td>\n",
       "      <td>80995.0</td>\n",
       "    </tr>\n",
       "    <tr>\n",
       "      <th>unit_price</th>\n",
       "      <td>541909.0</td>\n",
       "      <td>4.611114</td>\n",
       "      <td>96.759853</td>\n",
       "      <td>-11062.06</td>\n",
       "      <td>1.25</td>\n",
       "      <td>2.08</td>\n",
       "      <td>4.13</td>\n",
       "      <td>38970.0</td>\n",
       "    </tr>\n",
       "    <tr>\n",
       "      <th>customer_id</th>\n",
       "      <td>541909.0</td>\n",
       "      <td>16688.840453</td>\n",
       "      <td>2911.411352</td>\n",
       "      <td>12346.00</td>\n",
       "      <td>14367.00</td>\n",
       "      <td>16249.00</td>\n",
       "      <td>18283.00</td>\n",
       "      <td>22709.0</td>\n",
       "    </tr>\n",
       "  </tbody>\n",
       "</table>\n",
       "</div>"
      ],
      "text/plain": [
       "                count          mean          std       min       25%  \\\n",
       "quantity     541909.0      9.552250   218.081158 -80995.00      1.00   \n",
       "unit_price   541909.0      4.611114    96.759853 -11062.06      1.25   \n",
       "customer_id  541909.0  16688.840453  2911.411352  12346.00  14367.00   \n",
       "\n",
       "                  50%       75%      max  \n",
       "quantity         3.00     10.00  80995.0  \n",
       "unit_price       2.08      4.13  38970.0  \n",
       "customer_id  16249.00  18283.00  22709.0  "
      ]
     },
     "execution_count": 15,
     "metadata": {},
     "output_type": "execute_result"
    }
   ],
   "source": [
    "df0.describe().T"
   ]
  },
  {
   "cell_type": "code",
   "execution_count": 16,
   "id": "f38213f9",
   "metadata": {
    "ExecuteTime": {
     "end_time": "2022-03-15T19:26:48.656166Z",
     "start_time": "2022-03-15T19:26:48.502134Z"
    },
    "execution": {
     "iopub.execute_input": "2022-03-16T21:40:28.946612Z",
     "iopub.status.busy": "2022-03-16T21:40:28.946460Z",
     "iopub.status.idle": "2022-03-16T21:40:29.097848Z",
     "shell.execute_reply": "2022-03-16T21:40:29.097323Z"
    },
    "papermill": {
     "duration": 0.201108,
     "end_time": "2022-03-16T21:40:29.099280",
     "exception": false,
     "start_time": "2022-03-16T21:40:28.898172",
     "status": "completed"
    },
    "tags": []
   },
   "outputs": [
    {
     "data": {
      "text/html": [
       "<div>\n",
       "<style scoped>\n",
       "    .dataframe tbody tr th:only-of-type {\n",
       "        vertical-align: middle;\n",
       "    }\n",
       "\n",
       "    .dataframe tbody tr th {\n",
       "        vertical-align: top;\n",
       "    }\n",
       "\n",
       "    .dataframe thead th {\n",
       "        text-align: right;\n",
       "    }\n",
       "</style>\n",
       "<table border=\"1\" class=\"dataframe\">\n",
       "  <thead>\n",
       "    <tr style=\"text-align: right;\">\n",
       "      <th></th>\n",
       "      <th>count</th>\n",
       "      <th>unique</th>\n",
       "      <th>top</th>\n",
       "      <th>freq</th>\n",
       "    </tr>\n",
       "  </thead>\n",
       "  <tbody>\n",
       "    <tr>\n",
       "      <th>invoice_no</th>\n",
       "      <td>541909</td>\n",
       "      <td>25900</td>\n",
       "      <td>573585</td>\n",
       "      <td>1114</td>\n",
       "    </tr>\n",
       "    <tr>\n",
       "      <th>stock_code</th>\n",
       "      <td>541909</td>\n",
       "      <td>4070</td>\n",
       "      <td>85123A</td>\n",
       "      <td>2313</td>\n",
       "    </tr>\n",
       "    <tr>\n",
       "      <th>description</th>\n",
       "      <td>540455</td>\n",
       "      <td>4223</td>\n",
       "      <td>WHITE HANGING HEART T-LIGHT HOLDER</td>\n",
       "      <td>2369</td>\n",
       "    </tr>\n",
       "    <tr>\n",
       "      <th>country</th>\n",
       "      <td>541909</td>\n",
       "      <td>38</td>\n",
       "      <td>United Kingdom</td>\n",
       "      <td>495478</td>\n",
       "    </tr>\n",
       "  </tbody>\n",
       "</table>\n",
       "</div>"
      ],
      "text/plain": [
       "              count unique                                 top    freq\n",
       "invoice_no   541909  25900                              573585    1114\n",
       "stock_code   541909   4070                              85123A    2313\n",
       "description  540455   4223  WHITE HANGING HEART T-LIGHT HOLDER    2369\n",
       "country      541909     38                      United Kingdom  495478"
      ]
     },
     "execution_count": 16,
     "metadata": {},
     "output_type": "execute_result"
    }
   ],
   "source": [
    "df0.describe(include = object).T"
   ]
  },
  {
   "cell_type": "code",
   "execution_count": 17,
   "id": "heated-growing",
   "metadata": {
    "ExecuteTime": {
     "end_time": "2022-03-15T19:28:03.328994Z",
     "start_time": "2022-03-15T19:28:03.297342Z"
    },
    "execution": {
     "iopub.execute_input": "2022-03-16T21:40:29.210938Z",
     "iopub.status.busy": "2022-03-16T21:40:29.210809Z",
     "iopub.status.idle": "2022-03-16T21:40:29.225701Z",
     "shell.execute_reply": "2022-03-16T21:40:29.225304Z"
    },
    "papermill": {
     "duration": 0.075117,
     "end_time": "2022-03-16T21:40:29.227687",
     "exception": false,
     "start_time": "2022-03-16T21:40:29.152570",
     "status": "completed"
    },
    "tags": []
   },
   "outputs": [],
   "source": [
    "num_attributes = df0.select_dtypes(include = np.number)\n",
    "cat_attributes = df0.select_dtypes(exclude = [np.number, np.datetime64])"
   ]
  },
  {
   "cell_type": "markdown",
   "id": "decimal-recipient",
   "metadata": {
    "papermill": {
     "duration": 0.040993,
     "end_time": "2022-03-16T21:40:29.309615",
     "exception": false,
     "start_time": "2022-03-16T21:40:29.268622",
     "status": "completed"
    },
    "tags": []
   },
   "source": [
    "### Numerical Attributes"
   ]
  },
  {
   "cell_type": "code",
   "execution_count": 18,
   "id": "hungry-durham",
   "metadata": {
    "ExecuteTime": {
     "end_time": "2022-03-15T19:28:08.192792Z",
     "start_time": "2022-03-15T19:28:08.104768Z"
    },
    "execution": {
     "iopub.execute_input": "2022-03-16T21:40:29.398986Z",
     "iopub.status.busy": "2022-03-16T21:40:29.398857Z",
     "iopub.status.idle": "2022-03-16T21:40:29.472493Z",
     "shell.execute_reply": "2022-03-16T21:40:29.472033Z"
    },
    "papermill": {
     "duration": 0.120501,
     "end_time": "2022-03-16T21:40:29.473490",
     "exception": false,
     "start_time": "2022-03-16T21:40:29.352989",
     "status": "completed"
    },
    "scrolled": true,
    "tags": []
   },
   "outputs": [
    {
     "data": {
      "text/html": [
       "<div>\n",
       "<style scoped>\n",
       "    .dataframe tbody tr th:only-of-type {\n",
       "        vertical-align: middle;\n",
       "    }\n",
       "\n",
       "    .dataframe tbody tr th {\n",
       "        vertical-align: top;\n",
       "    }\n",
       "\n",
       "    .dataframe thead th {\n",
       "        text-align: right;\n",
       "    }\n",
       "</style>\n",
       "<table border=\"1\" class=\"dataframe\">\n",
       "  <thead>\n",
       "    <tr style=\"text-align: right;\">\n",
       "      <th></th>\n",
       "      <th>attributes</th>\n",
       "      <th>min</th>\n",
       "      <th>max</th>\n",
       "      <th>range</th>\n",
       "      <th>mean</th>\n",
       "      <th>mediana</th>\n",
       "      <th>std</th>\n",
       "      <th>skew</th>\n",
       "      <th>kurtosis</th>\n",
       "    </tr>\n",
       "  </thead>\n",
       "  <tbody>\n",
       "    <tr>\n",
       "      <th>0</th>\n",
       "      <td>quantity</td>\n",
       "      <td>-80995.00</td>\n",
       "      <td>80995.0</td>\n",
       "      <td>161990.00</td>\n",
       "      <td>9.552250</td>\n",
       "      <td>3.00</td>\n",
       "      <td>218.080957</td>\n",
       "      <td>-0.264076</td>\n",
       "      <td>119769.160031</td>\n",
       "    </tr>\n",
       "    <tr>\n",
       "      <th>1</th>\n",
       "      <td>unit_price</td>\n",
       "      <td>-11062.06</td>\n",
       "      <td>38970.0</td>\n",
       "      <td>50032.06</td>\n",
       "      <td>4.611114</td>\n",
       "      <td>2.08</td>\n",
       "      <td>96.759764</td>\n",
       "      <td>186.506972</td>\n",
       "      <td>59005.719097</td>\n",
       "    </tr>\n",
       "    <tr>\n",
       "      <th>2</th>\n",
       "      <td>customer_id</td>\n",
       "      <td>12346.00</td>\n",
       "      <td>22709.0</td>\n",
       "      <td>10363.00</td>\n",
       "      <td>16688.840453</td>\n",
       "      <td>16249.00</td>\n",
       "      <td>2911.408666</td>\n",
       "      <td>0.487449</td>\n",
       "      <td>-0.804287</td>\n",
       "    </tr>\n",
       "  </tbody>\n",
       "</table>\n",
       "</div>"
      ],
      "text/plain": [
       "    attributes       min      max      range          mean   mediana  \\\n",
       "0     quantity -80995.00  80995.0  161990.00      9.552250      3.00   \n",
       "1   unit_price -11062.06  38970.0   50032.06      4.611114      2.08   \n",
       "2  customer_id  12346.00  22709.0   10363.00  16688.840453  16249.00   \n",
       "\n",
       "           std        skew       kurtosis  \n",
       "0   218.080957   -0.264076  119769.160031  \n",
       "1    96.759764  186.506972   59005.719097  \n",
       "2  2911.408666    0.487449      -0.804287  "
      ]
     },
     "execution_count": 18,
     "metadata": {},
     "output_type": "execute_result"
    }
   ],
   "source": [
    "# central tendency - mean, median\n",
    "ct1 = pd.DataFrame(num_attributes.apply(np.mean)).T\n",
    "ct2 = pd.DataFrame(num_attributes.apply(np.median)).T\n",
    "\n",
    "# dispersion - desvio padrão, min, max, range, skew, kurtosis\n",
    "d1 = pd.DataFrame(num_attributes.apply(np.std)).T\n",
    "d2 = pd.DataFrame(num_attributes.apply(np.min)).T\n",
    "d3 = pd.DataFrame(num_attributes.apply(np.max)).T\n",
    "d4 = pd.DataFrame(num_attributes.apply(lambda x: x.max()-x.min())).T\n",
    "d5 = pd.DataFrame(num_attributes.apply(lambda x: x.skew())).T\n",
    "d6 = pd.DataFrame(num_attributes.apply(lambda x: x.kurtosis())).T\n",
    "\n",
    "#concatenate\n",
    "\n",
    "m1 = pd.concat([d2,d3,d4,ct1,ct2,d1,d5,d6]).T.reset_index()\n",
    "m1.columns = ['attributes', 'min', 'max', 'range', 'mean', 'mediana','std', 'skew','kurtosis']\n",
    "m1"
   ]
  },
  {
   "cell_type": "markdown",
   "id": "geological-incident",
   "metadata": {
    "papermill": {
     "duration": 0.046571,
     "end_time": "2022-03-16T21:40:29.563315",
     "exception": false,
     "start_time": "2022-03-16T21:40:29.516744",
     "status": "completed"
    },
    "tags": []
   },
   "source": [
    "### Categorical Attributes"
   ]
  },
  {
   "cell_type": "markdown",
   "id": "seeing-louisville",
   "metadata": {
    "papermill": {
     "duration": 0.044856,
     "end_time": "2022-03-16T21:40:29.650875",
     "exception": false,
     "start_time": "2022-03-16T21:40:29.606019",
     "status": "completed"
    },
    "tags": []
   },
   "source": [
    "#### Invoice_No"
   ]
  },
  {
   "cell_type": "code",
   "execution_count": 19,
   "id": "parental-syndicate",
   "metadata": {
    "ExecuteTime": {
     "end_time": "2022-03-15T19:28:46.511488Z",
     "start_time": "2022-03-15T19:28:46.165759Z"
    },
    "execution": {
     "iopub.execute_input": "2022-03-16T21:40:29.739761Z",
     "iopub.status.busy": "2022-03-16T21:40:29.739585Z",
     "iopub.status.idle": "2022-03-16T21:40:30.079872Z",
     "shell.execute_reply": "2022-03-16T21:40:30.079562Z"
    },
    "papermill": {
     "duration": 0.386881,
     "end_time": "2022-03-16T21:40:30.081029",
     "exception": false,
     "start_time": "2022-03-16T21:40:29.694148",
     "status": "completed"
    },
    "tags": []
   },
   "outputs": [
    {
     "name": "stdout",
     "output_type": "stream",
     "text": [
      "Total number of invoices: 9291\n",
      "Total number of negative quantity: 9288\n"
     ]
    }
   ],
   "source": [
    "# problem: We got letters and numbers in invoice_no\n",
    "#df1['invoice_no'].astype( int )\n",
    "\n",
    "# identification: \n",
    "df_letter_invoices = df0.loc[df0['invoice_no'].apply( lambda x: bool( re.search( '[^0-9]+', x ) ) ), :]\n",
    "df_letter_invoices.head()\n",
    "\n",
    "print( 'Total number of invoices: {}'.format( len( df_letter_invoices ) ) )\n",
    "print( 'Total number of negative quantity: {}'.format( len( df_letter_invoices[ df_letter_invoices['quantity'] < 0 ] ) ) )"
   ]
  },
  {
   "cell_type": "markdown",
   "id": "official-monday",
   "metadata": {
    "papermill": {
     "duration": 0.040638,
     "end_time": "2022-03-16T21:40:30.163371",
     "exception": false,
     "start_time": "2022-03-16T21:40:30.122733",
     "status": "completed"
    },
    "tags": []
   },
   "source": [
    "#### Stock_Code"
   ]
  },
  {
   "cell_type": "code",
   "execution_count": 20,
   "id": "stuck-proportion",
   "metadata": {
    "ExecuteTime": {
     "end_time": "2022-03-15T19:28:48.145016Z",
     "start_time": "2022-03-15T19:28:47.827183Z"
    },
    "execution": {
     "iopub.execute_input": "2022-03-16T21:40:30.248151Z",
     "iopub.status.busy": "2022-03-16T21:40:30.247967Z",
     "iopub.status.idle": "2022-03-16T21:40:30.573472Z",
     "shell.execute_reply": "2022-03-16T21:40:30.573180Z"
    },
    "papermill": {
     "duration": 0.369696,
     "end_time": "2022-03-16T21:40:30.574377",
     "exception": false,
     "start_time": "2022-03-16T21:40:30.204681",
     "status": "completed"
    },
    "tags": []
   },
   "outputs": [
    {
     "data": {
      "text/plain": [
       "array(['POST', 'D', 'DOT', 'M', 'S', 'AMAZONFEE', 'm', 'DCGSSBOY',\n",
       "       'DCGSSGIRL', 'PADS', 'B', 'CRUK'], dtype=object)"
      ]
     },
     "execution_count": 20,
     "metadata": {},
     "output_type": "execute_result"
    }
   ],
   "source": [
    "# check stock codes only characters\n",
    "df0.loc[df0['stock_code'].apply( lambda x: bool( re.search( '^[a-zA-Z]+$', x ) ) ), 'stock_code'].unique()\n",
    "\n",
    "# Acão:\n",
    "## 1. Remove stock_code in ['POST', 'D', 'M', 'PADS', 'DOT', 'CRUK']"
   ]
  },
  {
   "cell_type": "markdown",
   "id": "prime-prior",
   "metadata": {
    "papermill": {
     "duration": 0.041258,
     "end_time": "2022-03-16T21:40:30.656272",
     "exception": false,
     "start_time": "2022-03-16T21:40:30.615014",
     "status": "completed"
    },
    "tags": []
   },
   "source": [
    "# VARIABLE FILTERING"
   ]
  },
  {
   "cell_type": "code",
   "execution_count": 21,
   "id": "flying-palace",
   "metadata": {
    "ExecuteTime": {
     "end_time": "2022-03-15T19:29:12.981622Z",
     "start_time": "2022-03-15T19:29:12.964967Z"
    },
    "execution": {
     "iopub.execute_input": "2022-03-16T21:40:30.739604Z",
     "iopub.status.busy": "2022-03-16T21:40:30.739442Z",
     "iopub.status.idle": "2022-03-16T21:40:30.753449Z",
     "shell.execute_reply": "2022-03-16T21:40:30.752388Z"
    },
    "papermill": {
     "duration": 0.05879,
     "end_time": "2022-03-16T21:40:30.756311",
     "exception": false,
     "start_time": "2022-03-16T21:40:30.697521",
     "status": "completed"
    },
    "tags": []
   },
   "outputs": [],
   "source": [
    "df1 = df0.copy()"
   ]
  },
  {
   "cell_type": "code",
   "execution_count": 22,
   "id": "backed-fortune",
   "metadata": {
    "ExecuteTime": {
     "end_time": "2022-03-15T19:29:27.637020Z",
     "start_time": "2022-03-15T19:29:27.437069Z"
    },
    "execution": {
     "iopub.execute_input": "2022-03-16T21:40:30.869575Z",
     "iopub.status.busy": "2022-03-16T21:40:30.869417Z",
     "iopub.status.idle": "2022-03-16T21:40:31.044213Z",
     "shell.execute_reply": "2022-03-16T21:40:31.043755Z"
    },
    "papermill": {
     "duration": 0.221172,
     "end_time": "2022-03-16T21:40:31.045339",
     "exception": false,
     "start_time": "2022-03-16T21:40:30.824167",
     "status": "completed"
    },
    "tags": []
   },
   "outputs": [],
   "source": [
    " # === Numerical attributes ====\n",
    "df1 = df1.loc[df1['unit_price'] >= 0.04, :]\n",
    "\n",
    "# === Categorical attributes ====\n",
    "df1 = df1[~df1['stock_code'].isin( ['POST', 'D', 'DOT', 'M', 'S', 'AMAZONFEE', 'm', 'DCGSSBOY',\n",
    "                                    'DCGSSGIRL', 'PADS', 'B', 'CRUK'] )]\n",
    "\n",
    "# description\n",
    "df1 = df1.drop( columns='description', axis=1 )\n",
    "\n",
    "# country \n",
    "df1 = df1[~df1['country'].isin( ['European Community', 'Unspecified' ] ) ] #assuming this risk so we can use lat long parameters\n",
    "\n",
    "# bad customers\n",
    "df1 = df1[~df1['customer_id'].isin([16446])]\n",
    "\n",
    "# quantity \n",
    "df1_returns = df1.loc[df1['quantity'] < 0, :].copy()\n",
    "df1_purchases = df1.loc[df1['quantity'] >= 0, :].copy()"
   ]
  },
  {
   "cell_type": "markdown",
   "id": "coastal-pakistan",
   "metadata": {
    "papermill": {
     "duration": 0.043697,
     "end_time": "2022-03-16T21:40:31.131197",
     "exception": false,
     "start_time": "2022-03-16T21:40:31.087500",
     "status": "completed"
    },
    "tags": []
   },
   "source": [
    "# FEATURE ENGINEERING"
   ]
  },
  {
   "cell_type": "code",
   "execution_count": 23,
   "id": "military-porcelain",
   "metadata": {
    "ExecuteTime": {
     "end_time": "2022-03-15T19:37:27.585128Z",
     "start_time": "2022-03-15T19:37:27.570802Z"
    },
    "execution": {
     "iopub.execute_input": "2022-03-16T21:40:31.215354Z",
     "iopub.status.busy": "2022-03-16T21:40:31.215226Z",
     "iopub.status.idle": "2022-03-16T21:40:31.222723Z",
     "shell.execute_reply": "2022-03-16T21:40:31.222306Z"
    },
    "papermill": {
     "duration": 0.050764,
     "end_time": "2022-03-16T21:40:31.223786",
     "exception": false,
     "start_time": "2022-03-16T21:40:31.173022",
     "status": "completed"
    },
    "tags": []
   },
   "outputs": [],
   "source": [
    "df2 = df1.copy()"
   ]
  },
  {
   "cell_type": "markdown",
   "id": "happy-witness",
   "metadata": {
    "papermill": {
     "duration": 0.041881,
     "end_time": "2022-03-16T21:40:31.307728",
     "exception": false,
     "start_time": "2022-03-16T21:40:31.265847",
     "status": "completed"
    },
    "tags": []
   },
   "source": [
    "## Feature Creation"
   ]
  },
  {
   "cell_type": "code",
   "execution_count": 24,
   "id": "intimate-convergence",
   "metadata": {
    "ExecuteTime": {
     "end_time": "2022-03-15T19:37:29.586496Z",
     "start_time": "2022-03-15T19:37:29.560894Z"
    },
    "execution": {
     "iopub.execute_input": "2022-03-16T21:40:31.396986Z",
     "iopub.status.busy": "2022-03-16T21:40:31.396858Z",
     "iopub.status.idle": "2022-03-16T21:40:31.412884Z",
     "shell.execute_reply": "2022-03-16T21:40:31.412529Z"
    },
    "papermill": {
     "duration": 0.061974,
     "end_time": "2022-03-16T21:40:31.413955",
     "exception": false,
     "start_time": "2022-03-16T21:40:31.351981",
     "status": "completed"
    },
    "scrolled": false,
    "tags": []
   },
   "outputs": [],
   "source": [
    "# data reference\n",
    "# RFM Model, creating feature for it\n",
    "\n",
    "df_ref = df2.drop(['invoice_no', 'stock_code',\n",
    "                   'quantity', 'invoice_date', 'unit_price',\n",
    "                   'country'], axis = 1).drop_duplicates(ignore_index = True).copy()"
   ]
  },
  {
   "cell_type": "markdown",
   "id": "graduate-score",
   "metadata": {
    "papermill": {
     "duration": 0.045069,
     "end_time": "2022-03-16T21:40:31.501441",
     "exception": false,
     "start_time": "2022-03-16T21:40:31.456372",
     "status": "completed"
    },
    "tags": []
   },
   "source": [
    "### Gross Revenue"
   ]
  },
  {
   "cell_type": "code",
   "execution_count": 25,
   "id": "removed-collector",
   "metadata": {
    "ExecuteTime": {
     "end_time": "2022-03-15T19:37:32.486481Z",
     "start_time": "2022-03-15T19:37:32.450801Z"
    },
    "execution": {
     "iopub.execute_input": "2022-03-16T21:40:31.589014Z",
     "iopub.status.busy": "2022-03-16T21:40:31.588880Z",
     "iopub.status.idle": "2022-03-16T21:40:31.614571Z",
     "shell.execute_reply": "2022-03-16T21:40:31.614227Z"
    },
    "papermill": {
     "duration": 0.071544,
     "end_time": "2022-03-16T21:40:31.615567",
     "exception": false,
     "start_time": "2022-03-16T21:40:31.544023",
     "status": "completed"
    },
    "scrolled": true,
    "tags": []
   },
   "outputs": [
    {
     "data": {
      "text/plain": [
       "customer_id       0\n",
       "gross_revenue    91\n",
       "dtype: int64"
      ]
     },
     "execution_count": 25,
     "metadata": {},
     "output_type": "execute_result"
    }
   ],
   "source": [
    "# Gross Revenue ( Faturamento ) quantity * price\n",
    "df1_purchases.loc[:, 'gross_revenue'] = df1_purchases.loc[:,'quantity'] * df1_purchases.loc[:, 'unit_price']\n",
    "\n",
    "# Monetary (How much money a customer spends on purchases)\n",
    "df_monetary = df1_purchases.loc[:, ['customer_id', 'gross_revenue']].groupby( 'customer_id' ).sum().reset_index()\n",
    "df_ref = pd.merge( df_ref, df_monetary, on='customer_id', how='left' )\n",
    "df_ref.isna().sum()"
   ]
  },
  {
   "cell_type": "markdown",
   "id": "ideal-spencer",
   "metadata": {
    "papermill": {
     "duration": 0.042984,
     "end_time": "2022-03-16T21:40:31.703890",
     "exception": false,
     "start_time": "2022-03-16T21:40:31.660906",
     "status": "completed"
    },
    "tags": []
   },
   "source": [
    "### Recency"
   ]
  },
  {
   "cell_type": "code",
   "execution_count": 26,
   "id": "minus-damage",
   "metadata": {
    "ExecuteTime": {
     "end_time": "2022-03-15T19:37:33.307038Z",
     "start_time": "2022-03-15T19:37:33.270948Z"
    },
    "execution": {
     "iopub.execute_input": "2022-03-16T21:40:31.790567Z",
     "iopub.status.busy": "2022-03-16T21:40:31.790365Z",
     "iopub.status.idle": "2022-03-16T21:40:31.809620Z",
     "shell.execute_reply": "2022-03-16T21:40:31.809221Z"
    },
    "papermill": {
     "duration": 0.063925,
     "end_time": "2022-03-16T21:40:31.810540",
     "exception": false,
     "start_time": "2022-03-16T21:40:31.746615",
     "status": "completed"
    },
    "scrolled": true,
    "tags": []
   },
   "outputs": [
    {
     "data": {
      "text/plain": [
       "customer_id       0\n",
       "gross_revenue    91\n",
       "recency_days     91\n",
       "dtype: int64"
      ]
     },
     "execution_count": 26,
     "metadata": {},
     "output_type": "execute_result"
    }
   ],
   "source": [
    "# Recency - Day from last purchase\n",
    "df_recency = df1_purchases.loc[:, ['customer_id', 'invoice_date']].groupby( 'customer_id' ).max().reset_index()\n",
    "df_recency['recency_days'] = ( df1['invoice_date'].max() - df_recency['invoice_date'] ).dt.days\n",
    "df_recency = df_recency[['customer_id', 'recency_days']].copy()\n",
    "\n",
    "df_ref = pd.merge( df_ref, df_recency, on='customer_id', how='left' )\n",
    "df_ref.isna().sum()"
   ]
  },
  {
   "cell_type": "markdown",
   "id": "according-pittsburgh",
   "metadata": {
    "papermill": {
     "duration": 0.042931,
     "end_time": "2022-03-16T21:40:31.895797",
     "exception": false,
     "start_time": "2022-03-16T21:40:31.852866",
     "status": "completed"
    },
    "tags": []
   },
   "source": [
    "### Qty Products  (different stock codes by customer)"
   ]
  },
  {
   "cell_type": "code",
   "execution_count": 27,
   "id": "understanding-syria",
   "metadata": {
    "ExecuteTime": {
     "end_time": "2022-03-15T19:37:38.707346Z",
     "start_time": "2022-03-15T19:37:38.652378Z"
    },
    "execution": {
     "iopub.execute_input": "2022-03-16T21:40:31.987109Z",
     "iopub.status.busy": "2022-03-16T21:40:31.986981Z",
     "iopub.status.idle": "2022-03-16T21:40:32.020944Z",
     "shell.execute_reply": "2022-03-16T21:40:32.020555Z"
    },
    "papermill": {
     "duration": 0.084145,
     "end_time": "2022-03-16T21:40:32.021886",
     "exception": false,
     "start_time": "2022-03-16T21:40:31.937741",
     "status": "completed"
    },
    "tags": []
   },
   "outputs": [
    {
     "data": {
      "text/plain": [
       "customer_id       0\n",
       "gross_revenue    91\n",
       "recency_days     91\n",
       "qty_products     91\n",
       "dtype: int64"
      ]
     },
     "execution_count": 27,
     "metadata": {},
     "output_type": "execute_result"
    }
   ],
   "source": [
    "# Quantity of unique products purchased (Frequency: qntd of products over time)\n",
    "\n",
    "# Number of products (different stock codes by customer)\n",
    "df_freq = (df1_purchases.loc[:, ['customer_id', 'stock_code']].groupby( 'customer_id' ).count()\n",
    "                                                           .reset_index()\n",
    "                                                           .rename( columns={'stock_code': 'qty_products'} ) )\n",
    "df_ref = pd.merge( df_ref, df_freq, on='customer_id', how='left' )\n",
    "df_ref.isna().sum()"
   ]
  },
  {
   "cell_type": "markdown",
   "id": "nuclear-virgin",
   "metadata": {
    "papermill": {
     "duration": 0.043216,
     "end_time": "2022-03-16T21:40:32.111958",
     "exception": false,
     "start_time": "2022-03-16T21:40:32.068742",
     "status": "completed"
    },
    "tags": []
   },
   "source": [
    "### Frequency"
   ]
  },
  {
   "cell_type": "code",
   "execution_count": 28,
   "id": "convenient-contents",
   "metadata": {
    "ExecuteTime": {
     "end_time": "2022-03-15T19:37:40.684429Z",
     "start_time": "2022-03-15T19:37:39.965223Z"
    },
    "execution": {
     "iopub.execute_input": "2022-03-16T21:40:32.198594Z",
     "iopub.status.busy": "2022-03-16T21:40:32.198433Z",
     "iopub.status.idle": "2022-03-16T21:40:32.926874Z",
     "shell.execute_reply": "2022-03-16T21:40:32.926541Z"
    },
    "papermill": {
     "duration": 0.772964,
     "end_time": "2022-03-16T21:40:32.927766",
     "exception": false,
     "start_time": "2022-03-16T21:40:32.154802",
     "status": "completed"
    },
    "tags": []
   },
   "outputs": [
    {
     "data": {
      "text/plain": [
       "customer_id       0\n",
       "gross_revenue    91\n",
       "recency_days     91\n",
       "qty_products     91\n",
       "frequency        91\n",
       "dtype: int64"
      ]
     },
     "execution_count": 28,
     "metadata": {},
     "output_type": "execute_result"
    }
   ],
   "source": [
    "#Frequency Purchase (rate: purchases by day)\n",
    "df_aux = ( df1_purchases[['customer_id', 'invoice_no', 'invoice_date']].drop_duplicates()\n",
    "                                                             .groupby( 'customer_id')\n",
    "                                                             .agg( max_ = ( 'invoice_date', 'max' ), \n",
    "                                                                   min_ = ( 'invoice_date', 'min' ),\n",
    "                                                                   days_= ( 'invoice_date', lambda x: ( ( x.max() - x.min() ).days ) + 1 ),\n",
    "                                                                   buy_ = ( 'invoice_no', 'count' ) ) ).reset_index()\n",
    "# Frequency\n",
    "df_aux['frequency'] = df_aux[['buy_', 'days_']].apply( lambda x: x['buy_'] / x['days_'] if  x['days_'] != 0 else 0, axis=1 )\n",
    "\n",
    "# Merge\n",
    "df_ref = pd.merge( df_ref, df_aux[['customer_id', 'frequency']], on='customer_id', how='left' )\n",
    "df_ref.isna().sum()"
   ]
  },
  {
   "cell_type": "markdown",
   "id": "improving-species",
   "metadata": {
    "papermill": {
     "duration": 0.042129,
     "end_time": "2022-03-16T21:40:33.013257",
     "exception": false,
     "start_time": "2022-03-16T21:40:32.971128",
     "status": "completed"
    },
    "tags": []
   },
   "source": [
    "### Number of Returns"
   ]
  },
  {
   "cell_type": "code",
   "execution_count": 29,
   "id": "aquatic-symbol",
   "metadata": {
    "ExecuteTime": {
     "end_time": "2022-03-15T19:37:42.733104Z",
     "start_time": "2022-03-15T19:37:42.712771Z"
    },
    "execution": {
     "iopub.execute_input": "2022-03-16T21:40:33.099151Z",
     "iopub.status.busy": "2022-03-16T21:40:33.099006Z",
     "iopub.status.idle": "2022-03-16T21:40:33.109368Z",
     "shell.execute_reply": "2022-03-16T21:40:33.109025Z"
    },
    "papermill": {
     "duration": 0.055092,
     "end_time": "2022-03-16T21:40:33.110795",
     "exception": false,
     "start_time": "2022-03-16T21:40:33.055703",
     "status": "completed"
    },
    "scrolled": true,
    "tags": []
   },
   "outputs": [
    {
     "data": {
      "text/plain": [
       "customer_id       0\n",
       "gross_revenue    91\n",
       "recency_days     91\n",
       "qty_products     91\n",
       "frequency        91\n",
       "qty_returns       0\n",
       "dtype: int64"
      ]
     },
     "execution_count": 29,
     "metadata": {},
     "output_type": "execute_result"
    }
   ],
   "source": [
    "#Number of Returns\n",
    "df_returns = df1_returns[['customer_id', 'quantity']].groupby( 'customer_id' ).sum().reset_index().rename( columns={'quantity':'qty_returns'} )\n",
    "df_returns['qty_returns'] = df_returns['qty_returns'] * -1\n",
    "\n",
    "df_ref = pd.merge( df_ref, df_returns, how='left', on='customer_id' )\n",
    "df_ref.loc[df_ref['qty_returns'].isna(), 'qty_returns'] = 0 #customers with 0 returned items\n",
    "\n",
    "df_ref.isna().sum()"
   ]
  },
  {
   "cell_type": "markdown",
   "id": "collaborative-baker",
   "metadata": {
    "papermill": {
     "duration": 0.044657,
     "end_time": "2022-03-16T21:40:33.199105",
     "exception": false,
     "start_time": "2022-03-16T21:40:33.154448",
     "status": "completed"
    },
    "tags": []
   },
   "source": [
    "# EXPLORATORY DATA ANALYSIS (EDA)"
   ]
  },
  {
   "cell_type": "code",
   "execution_count": 30,
   "id": "roman-spice",
   "metadata": {
    "ExecuteTime": {
     "end_time": "2022-03-15T19:38:07.427429Z",
     "start_time": "2022-03-15T19:38:07.412772Z"
    },
    "execution": {
     "iopub.execute_input": "2022-03-16T21:40:33.286803Z",
     "iopub.status.busy": "2022-03-16T21:40:33.286676Z",
     "iopub.status.idle": "2022-03-16T21:40:33.292430Z",
     "shell.execute_reply": "2022-03-16T21:40:33.292149Z"
    },
    "papermill": {
     "duration": 0.051358,
     "end_time": "2022-03-16T21:40:33.293285",
     "exception": false,
     "start_time": "2022-03-16T21:40:33.241927",
     "status": "completed"
    },
    "tags": []
   },
   "outputs": [
    {
     "data": {
      "text/plain": [
       "customer_id      0\n",
       "gross_revenue    0\n",
       "recency_days     0\n",
       "qty_products     0\n",
       "frequency        0\n",
       "qty_returns      0\n",
       "dtype: int64"
      ]
     },
     "execution_count": 30,
     "metadata": {},
     "output_type": "execute_result"
    }
   ],
   "source": [
    "df3 = df_ref.dropna().copy()\n",
    "df3.isna().sum()"
   ]
  },
  {
   "cell_type": "markdown",
   "id": "statistical-vietnamese",
   "metadata": {
    "papermill": {
     "duration": 0.04474,
     "end_time": "2022-03-16T21:40:33.381362",
     "exception": false,
     "start_time": "2022-03-16T21:40:33.336622",
     "status": "completed"
    },
    "tags": []
   },
   "source": [
    "## Space Study"
   ]
  },
  {
   "cell_type": "code",
   "execution_count": 31,
   "id": "growing-platform",
   "metadata": {
    "ExecuteTime": {
     "end_time": "2022-03-15T19:39:22.922386Z",
     "start_time": "2022-03-15T19:39:22.914397Z"
    },
    "execution": {
     "iopub.execute_input": "2022-03-16T21:40:33.468183Z",
     "iopub.status.busy": "2022-03-16T21:40:33.468054Z",
     "iopub.status.idle": "2022-03-16T21:40:33.472419Z",
     "shell.execute_reply": "2022-03-16T21:40:33.472069Z"
    },
    "papermill": {
     "duration": 0.048503,
     "end_time": "2022-03-16T21:40:33.473331",
     "exception": false,
     "start_time": "2022-03-16T21:40:33.424828",
     "status": "completed"
    },
    "tags": []
   },
   "outputs": [],
   "source": [
    "# Original dataset\n",
    "#df33 = df3.drop(columns = ['customer_id'], axis = '').copy()\n",
    "\n",
    "# dataset with selected columns due feature selection based on its importance\n",
    "cols_selected = ['customer_id', 'gross_revenue', 'recency_days', 'qty_products', 'frequency', 'qty_returns']\n",
    "df33 = df3[cols_selected].drop(columns = 'customer_id', axis = 1)"
   ]
  },
  {
   "cell_type": "code",
   "execution_count": 32,
   "id": "israeli-congress",
   "metadata": {
    "ExecuteTime": {
     "end_time": "2022-03-15T19:39:30.141926Z",
     "start_time": "2022-03-15T19:39:30.123080Z"
    },
    "execution": {
     "iopub.execute_input": "2022-03-16T21:40:33.568242Z",
     "iopub.status.busy": "2022-03-16T21:40:33.568077Z",
     "iopub.status.idle": "2022-03-16T21:40:33.574872Z",
     "shell.execute_reply": "2022-03-16T21:40:33.574245Z"
    },
    "papermill": {
     "duration": 0.058887,
     "end_time": "2022-03-16T21:40:33.576000",
     "exception": false,
     "start_time": "2022-03-16T21:40:33.517113",
     "status": "completed"
    },
    "tags": []
   },
   "outputs": [
    {
     "data": {
      "text/html": [
       "<div>\n",
       "<style scoped>\n",
       "    .dataframe tbody tr th:only-of-type {\n",
       "        vertical-align: middle;\n",
       "    }\n",
       "\n",
       "    .dataframe tbody tr th {\n",
       "        vertical-align: top;\n",
       "    }\n",
       "\n",
       "    .dataframe thead th {\n",
       "        text-align: right;\n",
       "    }\n",
       "</style>\n",
       "<table border=\"1\" class=\"dataframe\">\n",
       "  <thead>\n",
       "    <tr style=\"text-align: right;\">\n",
       "      <th></th>\n",
       "      <th>gross_revenue</th>\n",
       "      <th>recency_days</th>\n",
       "      <th>qty_products</th>\n",
       "      <th>frequency</th>\n",
       "      <th>qty_returns</th>\n",
       "    </tr>\n",
       "  </thead>\n",
       "  <tbody>\n",
       "    <tr>\n",
       "      <th>0</th>\n",
       "      <td>5391.21</td>\n",
       "      <td>372.0</td>\n",
       "      <td>297.0</td>\n",
       "      <td>17.000000</td>\n",
       "      <td>40.0</td>\n",
       "    </tr>\n",
       "    <tr>\n",
       "      <th>1</th>\n",
       "      <td>3232.59</td>\n",
       "      <td>56.0</td>\n",
       "      <td>171.0</td>\n",
       "      <td>0.028302</td>\n",
       "      <td>35.0</td>\n",
       "    </tr>\n",
       "    <tr>\n",
       "      <th>2</th>\n",
       "      <td>6705.38</td>\n",
       "      <td>2.0</td>\n",
       "      <td>232.0</td>\n",
       "      <td>0.040323</td>\n",
       "      <td>50.0</td>\n",
       "    </tr>\n",
       "    <tr>\n",
       "      <th>3</th>\n",
       "      <td>948.25</td>\n",
       "      <td>95.0</td>\n",
       "      <td>28.0</td>\n",
       "      <td>0.017921</td>\n",
       "      <td>0.0</td>\n",
       "    </tr>\n",
       "    <tr>\n",
       "      <th>4</th>\n",
       "      <td>876.00</td>\n",
       "      <td>333.0</td>\n",
       "      <td>3.0</td>\n",
       "      <td>0.073171</td>\n",
       "      <td>22.0</td>\n",
       "    </tr>\n",
       "  </tbody>\n",
       "</table>\n",
       "</div>"
      ],
      "text/plain": [
       "   gross_revenue  recency_days  qty_products  frequency  qty_returns\n",
       "0        5391.21         372.0         297.0  17.000000         40.0\n",
       "1        3232.59          56.0         171.0   0.028302         35.0\n",
       "2        6705.38           2.0         232.0   0.040323         50.0\n",
       "3         948.25          95.0          28.0   0.017921          0.0\n",
       "4         876.00         333.0           3.0   0.073171         22.0"
      ]
     },
     "execution_count": 32,
     "metadata": {},
     "output_type": "execute_result"
    }
   ],
   "source": [
    "df33.head()"
   ]
  },
  {
   "cell_type": "code",
   "execution_count": 33,
   "id": "changing-revelation",
   "metadata": {
    "ExecuteTime": {
     "end_time": "2022-03-15T19:40:17.198414Z",
     "start_time": "2022-03-15T19:40:17.170376Z"
    },
    "execution": {
     "iopub.execute_input": "2022-03-16T21:40:33.665927Z",
     "iopub.status.busy": "2022-03-16T21:40:33.665790Z",
     "iopub.status.idle": "2022-03-16T21:40:33.678884Z",
     "shell.execute_reply": "2022-03-16T21:40:33.678562Z"
    },
    "papermill": {
     "duration": 0.058958,
     "end_time": "2022-03-16T21:40:33.679922",
     "exception": false,
     "start_time": "2022-03-16T21:40:33.620964",
     "status": "completed"
    },
    "tags": []
   },
   "outputs": [],
   "source": [
    "mm = pp.MinMaxScaler()\n",
    "\n",
    "df33['gross_revenue'] = mm.fit_transform(df33[['gross_revenue']])\n",
    "df33['recency_days']  = mm.fit_transform(df33[['recency_days']])\n",
    "df33['qty_products']  = mm.fit_transform(df33[['qty_products']])\n",
    "df33['frequency']     = mm.fit_transform(df33[['frequency']])\n",
    "df33['qty_returns']   = mm.fit_transform(df33[['qty_returns']])\n",
    "\n",
    "X = df33.copy()"
   ]
  },
  {
   "cell_type": "code",
   "execution_count": 34,
   "id": "alternative-reynolds",
   "metadata": {
    "ExecuteTime": {
     "end_time": "2022-03-15T19:40:22.650580Z",
     "start_time": "2022-03-15T19:40:22.644164Z"
    },
    "execution": {
     "iopub.execute_input": "2022-03-16T21:40:33.777183Z",
     "iopub.status.busy": "2022-03-16T21:40:33.777050Z",
     "iopub.status.idle": "2022-03-16T21:40:33.779890Z",
     "shell.execute_reply": "2022-03-16T21:40:33.779586Z"
    },
    "papermill": {
     "duration": 0.048382,
     "end_time": "2022-03-16T21:40:33.780748",
     "exception": false,
     "start_time": "2022-03-16T21:40:33.732366",
     "status": "completed"
    },
    "tags": []
   },
   "outputs": [
    {
     "data": {
      "text/plain": [
       "(5695, 5)"
      ]
     },
     "execution_count": 34,
     "metadata": {},
     "output_type": "execute_result"
    }
   ],
   "source": [
    "X.shape"
   ]
  },
  {
   "cell_type": "markdown",
   "id": "national-flooring",
   "metadata": {
    "papermill": {
     "duration": 0.044333,
     "end_time": "2022-03-16T21:40:33.870778",
     "exception": false,
     "start_time": "2022-03-16T21:40:33.826445",
     "status": "completed"
    },
    "tags": []
   },
   "source": [
    "#### PCA"
   ]
  },
  {
   "cell_type": "code",
   "execution_count": 35,
   "id": "hired-jumping",
   "metadata": {
    "ExecuteTime": {
     "end_time": "2022-03-15T19:40:37.172210Z",
     "start_time": "2022-03-15T19:40:37.062455Z"
    },
    "execution": {
     "iopub.execute_input": "2022-03-16T21:40:33.961039Z",
     "iopub.status.busy": "2022-03-16T21:40:33.960913Z",
     "iopub.status.idle": "2022-03-16T21:40:34.029327Z",
     "shell.execute_reply": "2022-03-16T21:40:34.029040Z"
    },
    "papermill": {
     "duration": 0.114535,
     "end_time": "2022-03-16T21:40:34.030754",
     "exception": false,
     "start_time": "2022-03-16T21:40:33.916219",
     "status": "completed"
    },
    "scrolled": false,
    "tags": []
   },
   "outputs": [
    {
     "data": {
      "image/png": "[encoded data removed]",
      "text/plain": [
       "<Figure size 432x288 with 1 Axes>"
      ]
     },
     "metadata": {
      "needs_background": "light"
     },
     "output_type": "display_data"
    }
   ],
   "source": [
    "pca = dd.PCA( n_components = X.shape[1])\n",
    "\n",
    "\n",
    "principal_components = pca.fit_transform(X)\n",
    "\n",
    "# plot explained variables\n",
    "features = range(pca.n_components_)\n",
    "\n",
    "plt.bar(features, pca.explained_variance_ratio_, color = 'black') #quais componentes principais com a maior variação de dados\n",
    "\n",
    "# pca component\n",
    "df_pca = pd.DataFrame( principal_components )"
   ]
  },
  {
   "cell_type": "code",
   "execution_count": 36,
   "id": "terminal-steps",
   "metadata": {
    "ExecuteTime": {
     "end_time": "2022-03-15T19:40:39.234703Z",
     "start_time": "2022-03-15T19:40:39.137766Z"
    },
    "execution": {
     "iopub.execute_input": "2022-03-16T21:40:34.126820Z",
     "iopub.status.busy": "2022-03-16T21:40:34.126621Z",
     "iopub.status.idle": "2022-03-16T21:40:34.235454Z",
     "shell.execute_reply": "2022-03-16T21:40:34.235074Z"
    },
    "papermill": {
     "duration": 0.154459,
     "end_time": "2022-03-16T21:40:34.236311",
     "exception": false,
     "start_time": "2022-03-16T21:40:34.081852",
     "status": "completed"
    },
    "tags": []
   },
   "outputs": [
    {
     "data": {
      "image/png": "[encoded data removed]",
      "text/plain": [
       "<Figure size 432x288 with 1 Axes>"
      ]
     },
     "metadata": {
      "needs_background": "light"
     },
     "output_type": "display_data"
    }
   ],
   "source": [
    "sns.scatterplot(x = 0, y = 1, data = df_pca);"
   ]
  },
  {
   "cell_type": "markdown",
   "id": "possible-teens",
   "metadata": {
    "papermill": {
     "duration": 0.045262,
     "end_time": "2022-03-16T21:40:34.326807",
     "exception": false,
     "start_time": "2022-03-16T21:40:34.281545",
     "status": "completed"
    },
    "tags": []
   },
   "source": [
    "#### UMAP"
   ]
  },
  {
   "cell_type": "code",
   "execution_count": 37,
   "id": "southwest-blowing",
   "metadata": {
    "ExecuteTime": {
     "end_time": "2022-03-15T19:43:01.400578Z",
     "start_time": "2022-03-15T19:42:46.681414Z"
    },
    "execution": {
     "iopub.execute_input": "2022-03-16T21:40:34.421167Z",
     "iopub.status.busy": "2022-03-16T21:40:34.420744Z",
     "iopub.status.idle": "2022-03-16T21:40:48.797086Z",
     "shell.execute_reply": "2022-03-16T21:40:48.796631Z"
    },
    "papermill": {
     "duration": 14.424848,
     "end_time": "2022-03-16T21:40:48.798012",
     "exception": false,
     "start_time": "2022-03-16T21:40:34.373164",
     "status": "completed"
    },
    "tags": []
   },
   "outputs": [
    {
     "data": {
      "image/png": "[encoded data removed]",
      "text/plain": [
       "<Figure size 432x288 with 1 Axes>"
      ]
     },
     "metadata": {
      "needs_background": "light"
     },
     "output_type": "display_data"
    }
   ],
   "source": [
    "reducer = umap.UMAP(random_state = 42)\n",
    "embedding = reducer.fit_transform(X) #gera o espaço projetado - embedding é a projeção gerada em outro espaço\n",
    "\n",
    "#embedding\n",
    "df_umap = pd.DataFrame()\n",
    "df_umap['embedding_X'] = embedding[:, 0]\n",
    "df_umap['embedding_y'] = embedding[:, 1]\n",
    "\n",
    "#plot UMAP - cluster projetado de alta dimencionalidade\n",
    "sns.scatterplot(x = 'embedding_X', y = 'embedding_y',\n",
    "                data = df_umap);"
   ]
  },
  {
   "cell_type": "markdown",
   "id": "limited-degree",
   "metadata": {
    "papermill": {
     "duration": 0.04843,
     "end_time": "2022-03-16T21:40:48.895468",
     "exception": false,
     "start_time": "2022-03-16T21:40:48.847038",
     "status": "completed"
    },
    "tags": []
   },
   "source": [
    "#### t-SNE"
   ]
  },
  {
   "cell_type": "code",
   "execution_count": 38,
   "id": "chubby-enlargement",
   "metadata": {
    "ExecuteTime": {
     "end_time": "2022-03-15T19:43:15.188703Z",
     "start_time": "2022-03-15T19:43:01.402115Z"
    },
    "execution": {
     "iopub.execute_input": "2022-03-16T21:40:49.002237Z",
     "iopub.status.busy": "2022-03-16T21:40:49.002107Z",
     "iopub.status.idle": "2022-03-16T21:41:00.999806Z",
     "shell.execute_reply": "2022-03-16T21:41:00.999509Z"
    },
    "papermill": {
     "duration": 12.051588,
     "end_time": "2022-03-16T21:41:01.000713",
     "exception": false,
     "start_time": "2022-03-16T21:40:48.949125",
     "status": "completed"
    },
    "scrolled": false,
    "tags": []
   },
   "outputs": [
    {
     "name": "stderr",
     "output_type": "stream",
     "text": [
      "/home/marxcerqueira/.local/lib/python3.8/site-packages/sklearn/manifold/_t_sne.py:780: FutureWarning: The default initialization in TSNE will change from 'random' to 'pca' in 1.2.\n",
      "  warnings.warn(\n",
      "/home/marxcerqueira/.local/lib/python3.8/site-packages/sklearn/manifold/_t_sne.py:790: FutureWarning: The default learning rate in TSNE will change from 200.0 to 'auto' in 1.2.\n",
      "  warnings.warn(\n"
     ]
    },
    {
     "data": {
      "image/png": "[encoded data removed]",
      "text/plain": [
       "<Figure size 432x288 with 1 Axes>"
      ]
     },
     "metadata": {
      "needs_background": "light"
     },
     "output_type": "display_data"
    }
   ],
   "source": [
    "reducer = mn.TSNE( n_components = 2, n_jobs = -1, random_state = 42)\n",
    "embedding = reducer.fit_transform(X) #gera o espaço projetado - embedding é a projeção gerada em outro espaço\n",
    "\n",
    "#embedding\n",
    "df_tsne = pd.DataFrame()\n",
    "df_tsne['embedding_X'] = embedding[:, 0]\n",
    "df_tsne['embedding_y'] = embedding[:, 1]\n",
    "\n",
    "#plot UMAP - cluster projetado de alta dimencionalidade\n",
    "sns.scatterplot(x = 'embedding_X', y = 'embedding_y',\n",
    "                data = df_tsne);"
   ]
  },
  {
   "cell_type": "markdown",
   "id": "substantial-inquiry",
   "metadata": {
    "papermill": {
     "duration": 0.047664,
     "end_time": "2022-03-16T21:41:01.096909",
     "exception": false,
     "start_time": "2022-03-16T21:41:01.049245",
     "status": "completed"
    },
    "tags": []
   },
   "source": [
    "#### Tree-Based Embedding"
   ]
  },
  {
   "cell_type": "code",
   "execution_count": 39,
   "id": "f9352bf4",
   "metadata": {
    "ExecuteTime": {
     "end_time": "2022-03-15T19:44:05.714294Z",
     "start_time": "2022-03-15T19:44:05.696743Z"
    },
    "execution": {
     "iopub.execute_input": "2022-03-16T21:41:01.190909Z",
     "iopub.status.busy": "2022-03-16T21:41:01.190780Z",
     "iopub.status.idle": "2022-03-16T21:41:01.197272Z",
     "shell.execute_reply": "2022-03-16T21:41:01.196903Z"
    },
    "papermill": {
     "duration": 0.054761,
     "end_time": "2022-03-16T21:41:01.198120",
     "exception": false,
     "start_time": "2022-03-16T21:41:01.143359",
     "status": "completed"
    },
    "tags": []
   },
   "outputs": [
    {
     "data": {
      "text/html": [
       "<div>\n",
       "<style scoped>\n",
       "    .dataframe tbody tr th:only-of-type {\n",
       "        vertical-align: middle;\n",
       "    }\n",
       "\n",
       "    .dataframe tbody tr th {\n",
       "        vertical-align: top;\n",
       "    }\n",
       "\n",
       "    .dataframe thead th {\n",
       "        text-align: right;\n",
       "    }\n",
       "</style>\n",
       "<table border=\"1\" class=\"dataframe\">\n",
       "  <thead>\n",
       "    <tr style=\"text-align: right;\">\n",
       "      <th></th>\n",
       "      <th>customer_id</th>\n",
       "      <th>gross_revenue</th>\n",
       "      <th>recency_days</th>\n",
       "      <th>qty_products</th>\n",
       "      <th>frequency</th>\n",
       "      <th>qty_returns</th>\n",
       "    </tr>\n",
       "  </thead>\n",
       "  <tbody>\n",
       "    <tr>\n",
       "      <th>0</th>\n",
       "      <td>17850</td>\n",
       "      <td>5391.21</td>\n",
       "      <td>372.0</td>\n",
       "      <td>297.0</td>\n",
       "      <td>17.000000</td>\n",
       "      <td>40.0</td>\n",
       "    </tr>\n",
       "    <tr>\n",
       "      <th>1</th>\n",
       "      <td>13047</td>\n",
       "      <td>3232.59</td>\n",
       "      <td>56.0</td>\n",
       "      <td>171.0</td>\n",
       "      <td>0.028302</td>\n",
       "      <td>35.0</td>\n",
       "    </tr>\n",
       "    <tr>\n",
       "      <th>2</th>\n",
       "      <td>12583</td>\n",
       "      <td>6705.38</td>\n",
       "      <td>2.0</td>\n",
       "      <td>232.0</td>\n",
       "      <td>0.040323</td>\n",
       "      <td>50.0</td>\n",
       "    </tr>\n",
       "    <tr>\n",
       "      <th>3</th>\n",
       "      <td>13748</td>\n",
       "      <td>948.25</td>\n",
       "      <td>95.0</td>\n",
       "      <td>28.0</td>\n",
       "      <td>0.017921</td>\n",
       "      <td>0.0</td>\n",
       "    </tr>\n",
       "    <tr>\n",
       "      <th>4</th>\n",
       "      <td>15100</td>\n",
       "      <td>876.00</td>\n",
       "      <td>333.0</td>\n",
       "      <td>3.0</td>\n",
       "      <td>0.073171</td>\n",
       "      <td>22.0</td>\n",
       "    </tr>\n",
       "  </tbody>\n",
       "</table>\n",
       "</div>"
      ],
      "text/plain": [
       "   customer_id  gross_revenue  recency_days  qty_products  frequency  \\\n",
       "0        17850        5391.21         372.0         297.0  17.000000   \n",
       "1        13047        3232.59          56.0         171.0   0.028302   \n",
       "2        12583        6705.38           2.0         232.0   0.040323   \n",
       "3        13748         948.25          95.0          28.0   0.017921   \n",
       "4        15100         876.00         333.0           3.0   0.073171   \n",
       "\n",
       "   qty_returns  \n",
       "0         40.0  \n",
       "1         35.0  \n",
       "2         50.0  \n",
       "3          0.0  \n",
       "4         22.0  "
      ]
     },
     "execution_count": 39,
     "metadata": {},
     "output_type": "execute_result"
    }
   ],
   "source": [
    "df3.head()"
   ]
  },
  {
   "cell_type": "code",
   "execution_count": 40,
   "id": "connected-wonder",
   "metadata": {
    "ExecuteTime": {
     "end_time": "2022-03-15T19:46:56.890448Z",
     "start_time": "2022-03-15T19:46:55.889772Z"
    },
    "execution": {
     "iopub.execute_input": "2022-03-16T21:41:01.297417Z",
     "iopub.status.busy": "2022-03-16T21:41:01.296980Z",
     "iopub.status.idle": "2022-03-16T21:41:02.294423Z",
     "shell.execute_reply": "2022-03-16T21:41:02.293994Z"
    },
    "papermill": {
     "duration": 1.047794,
     "end_time": "2022-03-16T21:41:02.295479",
     "exception": false,
     "start_time": "2022-03-16T21:41:01.247685",
     "status": "completed"
    },
    "tags": []
   },
   "outputs": [],
   "source": [
    "# training dataset \n",
    "X = df33.drop(columns = ['gross_revenue'], axis = 1) #target variable\n",
    "y = df33['gross_revenue']\n",
    "\n",
    "# I could use boruta to select features to build a better embedding space\n",
    "\n",
    "# model definition\n",
    "rf_model = en.RandomForestRegressor(n_estimators = 100, random_state = 42)\n",
    "\n",
    "# model training\n",
    "rf_model.fit(X,y)\n",
    "\n",
    "# leaf\n",
    "df_leaf = pd.DataFrame(rf_model.apply( X ))"
   ]
  },
  {
   "cell_type": "code",
   "execution_count": 41,
   "id": "fleet-ozone",
   "metadata": {
    "ExecuteTime": {
     "end_time": "2022-03-15T19:47:20.452976Z",
     "start_time": "2022-03-15T19:47:10.832825Z"
    },
    "execution": {
     "iopub.execute_input": "2022-03-16T21:41:02.395289Z",
     "iopub.status.busy": "2022-03-16T21:41:02.395158Z",
     "iopub.status.idle": "2022-03-16T21:41:10.517634Z",
     "shell.execute_reply": "2022-03-16T21:41:10.517233Z"
    },
    "papermill": {
     "duration": 8.175693,
     "end_time": "2022-03-16T21:41:10.518986",
     "exception": false,
     "start_time": "2022-03-16T21:41:02.343293",
     "status": "completed"
    },
    "scrolled": true,
    "tags": []
   },
   "outputs": [
    {
     "name": "stderr",
     "output_type": "stream",
     "text": [
      "/home/marxcerqueira/.local/lib/python3.8/site-packages/sklearn/manifold/_spectral_embedding.py:260: UserWarning: Graph is not fully connected, spectral embedding may not work as expected.\n",
      "  warnings.warn(\n"
     ]
    },
    {
     "data": {
      "image/png": "[encoded data removed]",
      "text/plain": [
       "<Figure size 432x288 with 1 Axes>"
      ]
     },
     "metadata": {
      "needs_background": "light"
     },
     "output_type": "display_data"
    }
   ],
   "source": [
    "# using UMAP to reduce the space study from 100 to 2\n",
    "reducer = umap.UMAP(random_state = 42)\n",
    "embedding = reducer.fit_transform(df_leaf) #gera o espaço projetado - embedding é a projeção gerada em outro espaço\n",
    "\n",
    "#embedding\n",
    "df_tree = pd.DataFrame()\n",
    "df_tree['embedding_X'] = embedding[:, 0]\n",
    "df_tree['embedding_y'] = embedding[:, 1]\n",
    "\n",
    "#plot UMAP - cluster projetado de alta dimencionalidade\n",
    "sns.scatterplot(x = 'embedding_X', y = 'embedding_y',\n",
    "                data = df_tree);"
   ]
  },
  {
   "cell_type": "markdown",
   "id": "distributed-rebate",
   "metadata": {
    "papermill": {
     "duration": 0.050066,
     "end_time": "2022-03-16T21:41:10.621189",
     "exception": false,
     "start_time": "2022-03-16T21:41:10.571123",
     "status": "completed"
    },
    "tags": []
   },
   "source": [
    "# DATA PREPARATION"
   ]
  },
  {
   "cell_type": "markdown",
   "id": "a58d6677",
   "metadata": {
    "tags": [
     "papermill-error-cell-tag"
    ]
   },
   "source": [
    "<span id=\"papermill-error-cell\" style=\"color:red; font-family:Helvetica Neue, Helvetica, Arial, sans-serif; font-size:2em;\">Execution using papermill encountered an exception here and stopped:</span>"
   ]
  },
  {
   "cell_type": "code",
   "execution_count": 42,
   "id": "single-camera",
   "metadata": {
    "ExecuteTime": {
     "end_time": "2022-03-15T21:51:35.741093Z",
     "start_time": "2022-03-15T21:51:35.724015Z"
    },
    "execution": {
     "iopub.execute_input": "2022-03-16T21:41:10.723023Z",
     "iopub.status.busy": "2022-03-16T21:41:10.722856Z",
     "iopub.status.idle": "2022-03-16T21:41:11.921555Z",
     "shell.execute_reply": "2022-03-16T21:41:11.920873Z"
    },
    "papermill": {
     "duration": 1.252079,
     "end_time": "2022-03-16T21:41:11.922402",
     "exception": true,
     "start_time": "2022-03-16T21:41:10.670323",
     "status": "failed"
    },
    "tags": []
   },
   "outputs": [
    {
     "ename": "FileNotFoundError",
     "evalue": "[Errno 2] No such file or directory: '../src/data/tree_based_embbeding.csv'",
     "output_type": "error",
     "traceback": [
      "\u001b[0;31m---------------------------------------------------------------------------\u001b[0m",
      "\u001b[0;31mFileNotFoundError\u001b[0m                         Traceback (most recent call last)",
      "Input \u001b[0;32mIn [42]\u001b[0m, in \u001b[0;36m<cell line: 3>\u001b[0;34m()\u001b[0m\n\u001b[1;32m      1\u001b[0m \u001b[38;5;66;03m# Tree-Based Embbeding\u001b[39;00m\n\u001b[1;32m      2\u001b[0m df4 \u001b[38;5;241m=\u001b[39m df_tree\u001b[38;5;241m.\u001b[39mcopy()\n\u001b[0;32m----> 3\u001b[0m \u001b[43mdf4\u001b[49m\u001b[38;5;241;43m.\u001b[39;49m\u001b[43mto_csv\u001b[49m\u001b[43m(\u001b[49m\u001b[38;5;124;43m'\u001b[39;49m\u001b[38;5;124;43m../src/data/tree_based_embbeding.csv\u001b[39;49m\u001b[38;5;124;43m'\u001b[39;49m\u001b[43m,\u001b[49m\u001b[43m \u001b[49m\u001b[43mindex\u001b[49m\u001b[43m \u001b[49m\u001b[38;5;241;43m=\u001b[39;49m\u001b[43m \u001b[49m\u001b[38;5;28;43;01mFalse\u001b[39;49;00m\u001b[43m)\u001b[49m\n",
      "File \u001b[0;32m~/.local/lib/python3.8/site-packages/pandas/core/generic.py:3466\u001b[0m, in \u001b[0;36mNDFrame.to_csv\u001b[0;34m(self, path_or_buf, sep, na_rep, float_format, columns, header, index, index_label, mode, encoding, compression, quoting, quotechar, line_terminator, chunksize, date_format, doublequote, escapechar, decimal, errors, storage_options)\u001b[0m\n\u001b[1;32m   3455\u001b[0m df \u001b[38;5;241m=\u001b[39m \u001b[38;5;28mself\u001b[39m \u001b[38;5;28;01mif\u001b[39;00m \u001b[38;5;28misinstance\u001b[39m(\u001b[38;5;28mself\u001b[39m, ABCDataFrame) \u001b[38;5;28;01melse\u001b[39;00m \u001b[38;5;28mself\u001b[39m\u001b[38;5;241m.\u001b[39mto_frame()\n\u001b[1;32m   3457\u001b[0m formatter \u001b[38;5;241m=\u001b[39m DataFrameFormatter(\n\u001b[1;32m   3458\u001b[0m     frame\u001b[38;5;241m=\u001b[39mdf,\n\u001b[1;32m   3459\u001b[0m     header\u001b[38;5;241m=\u001b[39mheader,\n\u001b[0;32m   (...)\u001b[0m\n\u001b[1;32m   3463\u001b[0m     decimal\u001b[38;5;241m=\u001b[39mdecimal,\n\u001b[1;32m   3464\u001b[0m )\n\u001b[0;32m-> 3466\u001b[0m \u001b[38;5;28;01mreturn\u001b[39;00m \u001b[43mDataFrameRenderer\u001b[49m\u001b[43m(\u001b[49m\u001b[43mformatter\u001b[49m\u001b[43m)\u001b[49m\u001b[38;5;241;43m.\u001b[39;49m\u001b[43mto_csv\u001b[49m\u001b[43m(\u001b[49m\n\u001b[1;32m   3467\u001b[0m \u001b[43m    \u001b[49m\u001b[43mpath_or_buf\u001b[49m\u001b[43m,\u001b[49m\n\u001b[1;32m   3468\u001b[0m \u001b[43m    \u001b[49m\u001b[43mline_terminator\u001b[49m\u001b[38;5;241;43m=\u001b[39;49m\u001b[43mline_terminator\u001b[49m\u001b[43m,\u001b[49m\n\u001b[1;32m   3469\u001b[0m \u001b[43m    \u001b[49m\u001b[43msep\u001b[49m\u001b[38;5;241;43m=\u001b[39;49m\u001b[43msep\u001b[49m\u001b[43m,\u001b[49m\n\u001b[1;32m   3470\u001b[0m \u001b[43m    \u001b[49m\u001b[43mencoding\u001b[49m\u001b[38;5;241;43m=\u001b[39;49m\u001b[43mencoding\u001b[49m\u001b[43m,\u001b[49m\n\u001b[1;32m   3471\u001b[0m \u001b[43m    \u001b[49m\u001b[43merrors\u001b[49m\u001b[38;5;241;43m=\u001b[39;49m\u001b[43merrors\u001b[49m\u001b[43m,\u001b[49m\n\u001b[1;32m   3472\u001b[0m \u001b[43m    \u001b[49m\u001b[43mcompression\u001b[49m\u001b[38;5;241;43m=\u001b[39;49m\u001b[43mcompression\u001b[49m\u001b[43m,\u001b[49m\n\u001b[1;32m   3473\u001b[0m \u001b[43m    \u001b[49m\u001b[43mquoting\u001b[49m\u001b[38;5;241;43m=\u001b[39;49m\u001b[43mquoting\u001b[49m\u001b[43m,\u001b[49m\n\u001b[1;32m   3474\u001b[0m \u001b[43m    \u001b[49m\u001b[43mcolumns\u001b[49m\u001b[38;5;241;43m=\u001b[39;49m\u001b[43mcolumns\u001b[49m\u001b[43m,\u001b[49m\n\u001b[1;32m   3475\u001b[0m \u001b[43m    \u001b[49m\u001b[43mindex_label\u001b[49m\u001b[38;5;241;43m=\u001b[39;49m\u001b[43mindex_label\u001b[49m\u001b[43m,\u001b[49m\n\u001b[1;32m   3476\u001b[0m \u001b[43m    \u001b[49m\u001b[43mmode\u001b[49m\u001b[38;5;241;43m=\u001b[39;49m\u001b[43mmode\u001b[49m\u001b[43m,\u001b[49m\n\u001b[1;32m   3477\u001b[0m \u001b[43m    \u001b[49m\u001b[43mchunksize\u001b[49m\u001b[38;5;241;43m=\u001b[39;49m\u001b[43mchunksize\u001b[49m\u001b[43m,\u001b[49m\n\u001b[1;32m   3478\u001b[0m \u001b[43m    \u001b[49m\u001b[43mquotechar\u001b[49m\u001b[38;5;241;43m=\u001b[39;49m\u001b[43mquotechar\u001b[49m\u001b[43m,\u001b[49m\n\u001b[1;32m   3479\u001b[0m \u001b[43m    \u001b[49m\u001b[43mdate_format\u001b[49m\u001b[38;5;241;43m=\u001b[39;49m\u001b[43mdate_format\u001b[49m\u001b[43m,\u001b[49m\n\u001b[1;32m   3480\u001b[0m \u001b[43m    \u001b[49m\u001b[43mdoublequote\u001b[49m\u001b[38;5;241;43m=\u001b[39;49m\u001b[43mdoublequote\u001b[49m\u001b[43m,\u001b[49m\n\u001b[1;32m   3481\u001b[0m \u001b[43m    \u001b[49m\u001b[43mescapechar\u001b[49m\u001b[38;5;241;43m=\u001b[39;49m\u001b[43mescapechar\u001b[49m\u001b[43m,\u001b[49m\n\u001b[1;32m   3482\u001b[0m \u001b[43m    \u001b[49m\u001b[43mstorage_options\u001b[49m\u001b[38;5;241;43m=\u001b[39;49m\u001b[43mstorage_options\u001b[49m\u001b[43m,\u001b[49m\n\u001b[1;32m   3483\u001b[0m \u001b[43m\u001b[49m\u001b[43m)\u001b[49m\n",
      "File \u001b[0;32m~/.local/lib/python3.8/site-packages/pandas/io/formats/format.py:1105\u001b[0m, in \u001b[0;36mDataFrameRenderer.to_csv\u001b[0;34m(self, path_or_buf, encoding, sep, columns, index_label, mode, compression, quoting, quotechar, line_terminator, chunksize, date_format, doublequote, escapechar, errors, storage_options)\u001b[0m\n\u001b[1;32m   1084\u001b[0m     created_buffer \u001b[38;5;241m=\u001b[39m \u001b[38;5;28;01mFalse\u001b[39;00m\n\u001b[1;32m   1086\u001b[0m csv_formatter \u001b[38;5;241m=\u001b[39m CSVFormatter(\n\u001b[1;32m   1087\u001b[0m     path_or_buf\u001b[38;5;241m=\u001b[39mpath_or_buf,\n\u001b[1;32m   1088\u001b[0m     line_terminator\u001b[38;5;241m=\u001b[39mline_terminator,\n\u001b[0;32m   (...)\u001b[0m\n\u001b[1;32m   1103\u001b[0m     formatter\u001b[38;5;241m=\u001b[39m\u001b[38;5;28mself\u001b[39m\u001b[38;5;241m.\u001b[39mfmt,\n\u001b[1;32m   1104\u001b[0m )\n\u001b[0;32m-> 1105\u001b[0m \u001b[43mcsv_formatter\u001b[49m\u001b[38;5;241;43m.\u001b[39;49m\u001b[43msave\u001b[49m\u001b[43m(\u001b[49m\u001b[43m)\u001b[49m\n\u001b[1;32m   1107\u001b[0m \u001b[38;5;28;01mif\u001b[39;00m created_buffer:\n\u001b[1;32m   1108\u001b[0m     \u001b[38;5;28;01massert\u001b[39;00m \u001b[38;5;28misinstance\u001b[39m(path_or_buf, StringIO)\n",
      "File \u001b[0;32m~/.local/lib/python3.8/site-packages/pandas/io/formats/csvs.py:237\u001b[0m, in \u001b[0;36mCSVFormatter.save\u001b[0;34m(self)\u001b[0m\n\u001b[1;32m    233\u001b[0m \u001b[38;5;124;03m\"\"\"\u001b[39;00m\n\u001b[1;32m    234\u001b[0m \u001b[38;5;124;03mCreate the writer & save.\u001b[39;00m\n\u001b[1;32m    235\u001b[0m \u001b[38;5;124;03m\"\"\"\u001b[39;00m\n\u001b[1;32m    236\u001b[0m \u001b[38;5;66;03m# apply compression and byte/text conversion\u001b[39;00m\n\u001b[0;32m--> 237\u001b[0m \u001b[38;5;28;01mwith\u001b[39;00m \u001b[43mget_handle\u001b[49m\u001b[43m(\u001b[49m\n\u001b[1;32m    238\u001b[0m \u001b[43m    \u001b[49m\u001b[38;5;28;43mself\u001b[39;49m\u001b[38;5;241;43m.\u001b[39;49m\u001b[43mfilepath_or_buffer\u001b[49m\u001b[43m,\u001b[49m\n\u001b[1;32m    239\u001b[0m \u001b[43m    \u001b[49m\u001b[38;5;28;43mself\u001b[39;49m\u001b[38;5;241;43m.\u001b[39;49m\u001b[43mmode\u001b[49m\u001b[43m,\u001b[49m\n\u001b[1;32m    240\u001b[0m \u001b[43m    \u001b[49m\u001b[43mencoding\u001b[49m\u001b[38;5;241;43m=\u001b[39;49m\u001b[38;5;28;43mself\u001b[39;49m\u001b[38;5;241;43m.\u001b[39;49m\u001b[43mencoding\u001b[49m\u001b[43m,\u001b[49m\n\u001b[1;32m    241\u001b[0m \u001b[43m    \u001b[49m\u001b[43merrors\u001b[49m\u001b[38;5;241;43m=\u001b[39;49m\u001b[38;5;28;43mself\u001b[39;49m\u001b[38;5;241;43m.\u001b[39;49m\u001b[43merrors\u001b[49m\u001b[43m,\u001b[49m\n\u001b[1;32m    242\u001b[0m \u001b[43m    \u001b[49m\u001b[43mcompression\u001b[49m\u001b[38;5;241;43m=\u001b[39;49m\u001b[38;5;28;43mself\u001b[39;49m\u001b[38;5;241;43m.\u001b[39;49m\u001b[43mcompression\u001b[49m\u001b[43m,\u001b[49m\n\u001b[1;32m    243\u001b[0m \u001b[43m    \u001b[49m\u001b[43mstorage_options\u001b[49m\u001b[38;5;241;43m=\u001b[39;49m\u001b[38;5;28;43mself\u001b[39;49m\u001b[38;5;241;43m.\u001b[39;49m\u001b[43mstorage_options\u001b[49m\u001b[43m,\u001b[49m\n\u001b[1;32m    244\u001b[0m \u001b[43m\u001b[49m\u001b[43m)\u001b[49m \u001b[38;5;28;01mas\u001b[39;00m handles:\n\u001b[1;32m    245\u001b[0m \n\u001b[1;32m    246\u001b[0m     \u001b[38;5;66;03m# Note: self.encoding is irrelevant here\u001b[39;00m\n\u001b[1;32m    247\u001b[0m     \u001b[38;5;28mself\u001b[39m\u001b[38;5;241m.\u001b[39mwriter \u001b[38;5;241m=\u001b[39m csvlib\u001b[38;5;241m.\u001b[39mwriter(\n\u001b[1;32m    248\u001b[0m         handles\u001b[38;5;241m.\u001b[39mhandle,  \u001b[38;5;66;03m# type: ignore[arg-type]\u001b[39;00m\n\u001b[1;32m    249\u001b[0m         lineterminator\u001b[38;5;241m=\u001b[39m\u001b[38;5;28mself\u001b[39m\u001b[38;5;241m.\u001b[39mline_terminator,\n\u001b[0;32m   (...)\u001b[0m\n\u001b[1;32m    254\u001b[0m         quotechar\u001b[38;5;241m=\u001b[39m\u001b[38;5;28mself\u001b[39m\u001b[38;5;241m.\u001b[39mquotechar,\n\u001b[1;32m    255\u001b[0m     )\n\u001b[1;32m    257\u001b[0m     \u001b[38;5;28mself\u001b[39m\u001b[38;5;241m.\u001b[39m_save()\n",
      "File \u001b[0;32m~/.local/lib/python3.8/site-packages/pandas/io/common.py:701\u001b[0m, in \u001b[0;36mget_handle\u001b[0;34m(path_or_buf, mode, encoding, compression, memory_map, is_text, errors, storage_options)\u001b[0m\n\u001b[1;32m    696\u001b[0m \u001b[38;5;28;01melif\u001b[39;00m \u001b[38;5;28misinstance\u001b[39m(handle, \u001b[38;5;28mstr\u001b[39m):\n\u001b[1;32m    697\u001b[0m     \u001b[38;5;66;03m# Check whether the filename is to be opened in binary mode.\u001b[39;00m\n\u001b[1;32m    698\u001b[0m     \u001b[38;5;66;03m# Binary mode does not support 'encoding' and 'newline'.\u001b[39;00m\n\u001b[1;32m    699\u001b[0m     \u001b[38;5;28;01mif\u001b[39;00m ioargs\u001b[38;5;241m.\u001b[39mencoding \u001b[38;5;129;01mand\u001b[39;00m \u001b[38;5;124m\"\u001b[39m\u001b[38;5;124mb\u001b[39m\u001b[38;5;124m\"\u001b[39m \u001b[38;5;129;01mnot\u001b[39;00m \u001b[38;5;129;01min\u001b[39;00m ioargs\u001b[38;5;241m.\u001b[39mmode:\n\u001b[1;32m    700\u001b[0m         \u001b[38;5;66;03m# Encoding\u001b[39;00m\n\u001b[0;32m--> 701\u001b[0m         handle \u001b[38;5;241m=\u001b[39m \u001b[38;5;28;43mopen\u001b[39;49m\u001b[43m(\u001b[49m\n\u001b[1;32m    702\u001b[0m \u001b[43m            \u001b[49m\u001b[43mhandle\u001b[49m\u001b[43m,\u001b[49m\n\u001b[1;32m    703\u001b[0m \u001b[43m            \u001b[49m\u001b[43mioargs\u001b[49m\u001b[38;5;241;43m.\u001b[39;49m\u001b[43mmode\u001b[49m\u001b[43m,\u001b[49m\n\u001b[1;32m    704\u001b[0m \u001b[43m            \u001b[49m\u001b[43mencoding\u001b[49m\u001b[38;5;241;43m=\u001b[39;49m\u001b[43mioargs\u001b[49m\u001b[38;5;241;43m.\u001b[39;49m\u001b[43mencoding\u001b[49m\u001b[43m,\u001b[49m\n\u001b[1;32m    705\u001b[0m \u001b[43m            \u001b[49m\u001b[43merrors\u001b[49m\u001b[38;5;241;43m=\u001b[39;49m\u001b[43merrors\u001b[49m\u001b[43m,\u001b[49m\n\u001b[1;32m    706\u001b[0m \u001b[43m            \u001b[49m\u001b[43mnewline\u001b[49m\u001b[38;5;241;43m=\u001b[39;49m\u001b[38;5;124;43m\"\u001b[39;49m\u001b[38;5;124;43m\"\u001b[39;49m\u001b[43m,\u001b[49m\n\u001b[1;32m    707\u001b[0m \u001b[43m        \u001b[49m\u001b[43m)\u001b[49m\n\u001b[1;32m    708\u001b[0m     \u001b[38;5;28;01melse\u001b[39;00m:\n\u001b[1;32m    709\u001b[0m         \u001b[38;5;66;03m# Binary mode\u001b[39;00m\n\u001b[1;32m    710\u001b[0m         handle \u001b[38;5;241m=\u001b[39m \u001b[38;5;28mopen\u001b[39m(handle, ioargs\u001b[38;5;241m.\u001b[39mmode)\n",
      "\u001b[0;31mFileNotFoundError\u001b[0m: [Errno 2] No such file or directory: '../src/data/tree_based_embbeding.csv'"
     ]
    }
   ],
   "source": [
    "# Tree-Based Embbeding\n",
    "df4 = df_tree.copy()\n",
    "df4.to_csv('../src/data/tree_based_embbeding.csv', index = False)\n",
    "\n",
    "# # UMAP Embbeding\n",
    "# df4 = df_umap.copy()\n",
    "\n",
    "# # TSNE Embedding\n",
    "# df4 = df_tsne.copy()"
   ]
  },
  {
   "cell_type": "markdown",
   "id": "decimal-editing",
   "metadata": {
    "papermill": {
     "duration": null,
     "end_time": null,
     "exception": null,
     "start_time": null,
     "status": "pending"
    },
    "tags": []
   },
   "source": [
    "# HYPERPARAMETER FINE-TUNNING"
   ]
  },
  {
   "cell_type": "code",
   "execution_count": null,
   "id": "herbal-internet",
   "metadata": {
    "ExecuteTime": {
     "end_time": "2022-03-15T20:59:09.411426Z",
     "start_time": "2022-03-15T20:59:09.405310Z"
    },
    "papermill": {
     "duration": null,
     "end_time": null,
     "exception": null,
     "start_time": null,
     "status": "pending"
    },
    "tags": []
   },
   "outputs": [],
   "source": [
    "X = df4.copy()"
   ]
  },
  {
   "cell_type": "code",
   "execution_count": null,
   "id": "elect-looking",
   "metadata": {
    "ExecuteTime": {
     "end_time": "2022-03-15T20:59:10.986447Z",
     "start_time": "2022-03-15T20:59:10.973806Z"
    },
    "papermill": {
     "duration": null,
     "end_time": null,
     "exception": null,
     "start_time": null,
     "status": "pending"
    },
    "scrolled": true,
    "tags": []
   },
   "outputs": [],
   "source": [
    "X.head()"
   ]
  },
  {
   "cell_type": "code",
   "execution_count": null,
   "id": "missing-scholar",
   "metadata": {
    "ExecuteTime": {
     "end_time": "2022-03-15T20:59:13.020279Z",
     "start_time": "2022-03-15T20:59:13.012946Z"
    },
    "papermill": {
     "duration": null,
     "end_time": null,
     "exception": null,
     "start_time": null,
     "status": "pending"
    },
    "tags": []
   },
   "outputs": [],
   "source": [
    "clusters = np.arange(2, 31, 1) #silhouette was increasing, so we put more k points\n",
    "clusters"
   ]
  },
  {
   "cell_type": "markdown",
   "id": "tired-sword",
   "metadata": {
    "papermill": {
     "duration": null,
     "end_time": null,
     "exception": null,
     "start_time": null,
     "status": "pending"
    },
    "tags": []
   },
   "source": [
    "## K-Means"
   ]
  },
  {
   "cell_type": "code",
   "execution_count": null,
   "id": "excited-registrar",
   "metadata": {
    "ExecuteTime": {
     "end_time": "2022-03-15T21:00:15.726282Z",
     "start_time": "2022-03-15T20:59:15.454431Z"
    },
    "papermill": {
     "duration": null,
     "end_time": null,
     "exception": null,
     "start_time": null,
     "status": "pending"
    },
    "tags": []
   },
   "outputs": [],
   "source": [
    "kmeans_sil = []\n",
    "\n",
    "for k in clusters:\n",
    "    # model definition\n",
    "    kmeans_model = c.KMeans( n_clusters = k, n_init = 100, random_state = 42 )\n",
    "\n",
    "    # model training\n",
    "    kmeans_model.fit(X)\n",
    "\n",
    "    # model predict\n",
    "    labels = kmeans_model.predict(X)\n",
    "\n",
    "    # model performance\n",
    "    sil = m.silhouette_score( X, labels, metric = 'euclidean')\n",
    "    kmeans_sil.append(sil)  "
   ]
  },
  {
   "cell_type": "code",
   "execution_count": null,
   "id": "stainless-stationery",
   "metadata": {
    "ExecuteTime": {
     "end_time": "2022-03-15T21:00:15.807840Z",
     "start_time": "2022-03-15T21:00:15.727678Z"
    },
    "papermill": {
     "duration": null,
     "end_time": null,
     "exception": null,
     "start_time": null,
     "status": "pending"
    },
    "tags": []
   },
   "outputs": [],
   "source": [
    "plt.plot( clusters, kmeans_sil, linestyle = '--', marker = 'o', color = 'b' )\n",
    "plt.xlabel( 'K' );\n",
    "plt.ylabel('Silhouette Score');\n",
    "plt.title('KMeans Silhouette Score per K ');"
   ]
  },
  {
   "cell_type": "markdown",
   "id": "korean-black",
   "metadata": {
    "papermill": {
     "duration": null,
     "end_time": null,
     "exception": null,
     "start_time": null,
     "status": "pending"
    },
    "tags": []
   },
   "source": [
    "## GMM"
   ]
  },
  {
   "cell_type": "code",
   "execution_count": null,
   "id": "intelligent-confirmation",
   "metadata": {
    "ExecuteTime": {
     "end_time": "2022-03-15T20:47:10.743157Z",
     "start_time": "2022-03-15T20:30:03.697606Z"
    },
    "papermill": {
     "duration": null,
     "end_time": null,
     "exception": null,
     "start_time": null,
     "status": "pending"
    },
    "tags": []
   },
   "outputs": [],
   "source": [
    "gmm_sil = []\n",
    "for k in clusters:\n",
    "    # model definition\n",
    "    gmm_model = mx.GaussianMixture(n_components = k, n_init = 100, random_state = 42)\n",
    "    \n",
    "    # model training\n",
    "    \n",
    "    gmm_model.fit(X)\n",
    "    \n",
    "    # model prediction\n",
    "    \n",
    "    labels = gmm_model.predict(X)\n",
    "    \n",
    "    # model performance\n",
    "    sil = m.silhouette_score(X, labels, metric = 'euclidean')\n",
    "    gmm_sil.append(sil)"
   ]
  },
  {
   "cell_type": "code",
   "execution_count": null,
   "id": "unusual-landing",
   "metadata": {
    "ExecuteTime": {
     "end_time": "2022-03-15T20:47:10.860990Z",
     "start_time": "2022-03-15T20:47:10.744777Z"
    },
    "papermill": {
     "duration": null,
     "end_time": null,
     "exception": null,
     "start_time": null,
     "status": "pending"
    },
    "tags": []
   },
   "outputs": [],
   "source": [
    "plt.plot(clusters, gmm_sil, linestyle = '--', marker = 'o', color = 'b')\n",
    "plt.xlabel( 'K' );\n",
    "plt.ylabel('Silhouette Score');\n",
    "plt.title('GMM Silhouette Score per K ');"
   ]
  },
  {
   "cell_type": "markdown",
   "id": "contrary-casino",
   "metadata": {
    "papermill": {
     "duration": null,
     "end_time": null,
     "exception": null,
     "start_time": null,
     "status": "pending"
    },
    "tags": []
   },
   "source": [
    "## Hierarchical Clustering"
   ]
  },
  {
   "cell_type": "code",
   "execution_count": null,
   "id": "incorrect-still",
   "metadata": {
    "ExecuteTime": {
     "end_time": "2022-03-15T20:47:11.487548Z",
     "start_time": "2022-03-15T20:47:10.862488Z"
    },
    "papermill": {
     "duration": null,
     "end_time": null,
     "exception": null,
     "start_time": null,
     "status": "pending"
    },
    "tags": []
   },
   "outputs": [],
   "source": [
    "# model definition and training\n",
    "hc_model = hc.linkage(X, 'ward')"
   ]
  },
  {
   "cell_type": "markdown",
   "id": "lined-selection",
   "metadata": {
    "papermill": {
     "duration": null,
     "end_time": null,
     "exception": null,
     "start_time": null,
     "status": "pending"
    },
    "tags": []
   },
   "source": [
    "### H-Clustering Silhouette Score"
   ]
  },
  {
   "cell_type": "code",
   "execution_count": null,
   "id": "wound-hopkins",
   "metadata": {
    "ExecuteTime": {
     "end_time": "2022-03-15T20:47:39.738935Z",
     "start_time": "2022-03-15T20:47:11.488737Z"
    },
    "code_folding": [],
    "papermill": {
     "duration": null,
     "end_time": null,
     "exception": null,
     "start_time": null,
     "status": "pending"
    },
    "tags": []
   },
   "outputs": [],
   "source": [
    "hc_sil = []\n",
    "for k in clusters:\n",
    "    #model definition and training\n",
    "    hc_model = hc.linkage(X, 'ward')\n",
    "\n",
    "    # model predict\n",
    "    labels = hc.fcluster(hc_model, k, criterion = 'maxclust')\n",
    "\n",
    "    # metrics\n",
    "    sil = m.silhouette_score(X, labels, metric = 'euclidean')\n",
    "    hc_sil.append(sil)"
   ]
  },
  {
   "cell_type": "code",
   "execution_count": null,
   "id": "modified-sapphire",
   "metadata": {
    "ExecuteTime": {
     "end_time": "2022-03-15T20:47:39.827544Z",
     "start_time": "2022-03-15T20:47:39.739912Z"
    },
    "papermill": {
     "duration": null,
     "end_time": null,
     "exception": null,
     "start_time": null,
     "status": "pending"
    },
    "tags": []
   },
   "outputs": [],
   "source": [
    "plt.plot(clusters, hc_sil, linestyle = '--', marker = 'o', color = 'b')"
   ]
  },
  {
   "cell_type": "markdown",
   "id": "joined-eclipse",
   "metadata": {
    "papermill": {
     "duration": null,
     "end_time": null,
     "exception": null,
     "start_time": null,
     "status": "pending"
    },
    "tags": []
   },
   "source": [
    "## Results"
   ]
  },
  {
   "cell_type": "code",
   "execution_count": null,
   "id": "multiple-intro",
   "metadata": {
    "ExecuteTime": {
     "end_time": "2022-03-15T20:12:34.731037Z",
     "start_time": "2022-03-15T20:12:34.665038Z"
    },
    "cell_style": "split",
    "papermill": {
     "duration": null,
     "end_time": null,
     "exception": null,
     "start_time": null,
     "status": "pending"
    },
    "scrolled": true,
    "tags": []
   },
   "outputs": [],
   "source": [
    "## Results - Tree Based Embedding\n",
    "df_results = pd.DataFrame({'KMeans:': kmeans_sil,\n",
    "                           'GMM': gmm_sil,\n",
    "                           'HC': hc_sil}\n",
    "                           ).T\n",
    "\n",
    "df_results.columns = clusters\n",
    "df_results.style.highlight_max(color = 'lightgreen', axis = 1)"
   ]
  },
  {
   "cell_type": "code",
   "execution_count": null,
   "id": "696406b7",
   "metadata": {
    "ExecuteTime": {
     "end_time": "2022-03-15T20:47:39.856410Z",
     "start_time": "2022-03-15T20:47:39.828674Z"
    },
    "cell_style": "split",
    "papermill": {
     "duration": null,
     "end_time": null,
     "exception": null,
     "start_time": null,
     "status": "pending"
    },
    "tags": []
   },
   "outputs": [],
   "source": [
    "## Results - UMAP Embedding\n",
    "df_results = pd.DataFrame({'KMeans:': kmeans_sil,\n",
    "                           'GMM': gmm_sil,\n",
    "                           'HC': hc_sil}\n",
    "                           ).T\n",
    "\n",
    "df_results.columns = clusters\n",
    "df_results.style.highlight_max(color = 'lightgreen', axis = 1)"
   ]
  },
  {
   "cell_type": "code",
   "execution_count": null,
   "id": "40fdcb5d",
   "metadata": {
    "ExecuteTime": {
     "end_time": "2022-03-15T20:47:39.856410Z",
     "start_time": "2022-03-15T20:47:39.828674Z"
    },
    "cell_style": "split",
    "papermill": {
     "duration": null,
     "end_time": null,
     "exception": null,
     "start_time": null,
     "status": "pending"
    },
    "tags": []
   },
   "outputs": [],
   "source": [
    "## Results - TSNE Embedding\n",
    "df_results = pd.DataFrame({'KMeans:': kmeans_sil,\n",
    "                           'GMM': gmm_sil,\n",
    "                           'HC': hc_sil}\n",
    "                           ).T\n",
    "\n",
    "df_results.columns = clusters\n",
    "df_results.style.highlight_max(color = 'lightgreen', axis = 1)"
   ]
  },
  {
   "cell_type": "markdown",
   "id": "electronic-release",
   "metadata": {
    "papermill": {
     "duration": null,
     "end_time": null,
     "exception": null,
     "start_time": null,
     "status": "pending"
    },
    "tags": []
   },
   "source": [
    "# MACHINE LEARNING MODEL TRAINING"
   ]
  },
  {
   "cell_type": "markdown",
   "id": "stuffed-rally",
   "metadata": {
    "papermill": {
     "duration": null,
     "end_time": null,
     "exception": null,
     "start_time": null,
     "status": "pending"
    },
    "tags": []
   },
   "source": [
    "## K-Means"
   ]
  },
  {
   "cell_type": "code",
   "execution_count": null,
   "id": "recreational-talent",
   "metadata": {
    "ExecuteTime": {
     "end_time": "2022-03-15T21:10:05.071592Z",
     "start_time": "2022-03-15T21:10:04.227205Z"
    },
    "papermill": {
     "duration": null,
     "end_time": null,
     "exception": null,
     "start_time": null,
     "status": "pending"
    },
    "tags": []
   },
   "outputs": [],
   "source": [
    "# model definition\n",
    "k = 8;\n",
    "kmeans = c.KMeans(init = 'random', n_clusters = k, n_init = 100, max_iter = 300, random_state = 42)\n",
    "\n",
    "# model training\n",
    "kmeans.fit(X)\n",
    "\n",
    "# clustering\n",
    "labels = kmeans.labels_"
   ]
  },
  {
   "cell_type": "code",
   "execution_count": null,
   "id": "photographic-space",
   "metadata": {
    "ExecuteTime": {
     "end_time": "2022-03-14T18:24:46.085489Z",
     "start_time": "2022-03-14T18:24:44.733942Z"
    },
    "papermill": {
     "duration": null,
     "end_time": null,
     "exception": null,
     "start_time": null,
     "status": "pending"
    },
    "tags": []
   },
   "outputs": [],
   "source": [
    "# # trying with GMM beacuse of its approach in the embedding space\n",
    "# # k=11 ;\n",
    "# # model definition\n",
    "# gmm_model = mx.GaussianMixture(n_components = k,n_init = 10 ,random_state=42)\n",
    "\n",
    "# # model training\n",
    "# gmm_model.fit(X)\n",
    "\n",
    "# # model prediction\n",
    "# labels = gmm_model.predict(X)"
   ]
  },
  {
   "cell_type": "markdown",
   "id": "veterinary-oxford",
   "metadata": {
    "papermill": {
     "duration": null,
     "end_time": null,
     "exception": null,
     "start_time": null,
     "status": "pending"
    },
    "tags": []
   },
   "source": [
    "## Cluster Validation"
   ]
  },
  {
   "cell_type": "code",
   "execution_count": null,
   "id": "recovered-algorithm",
   "metadata": {
    "ExecuteTime": {
     "end_time": "2022-03-15T21:10:08.145652Z",
     "start_time": "2022-03-15T21:10:07.766042Z"
    },
    "papermill": {
     "duration": null,
     "end_time": null,
     "exception": null,
     "start_time": null,
     "status": "pending"
    },
    "tags": []
   },
   "outputs": [],
   "source": [
    "# WSS (Within-cluster Sum of Square )\n",
    "# print('WSS score: {}'.format(kmeans.inertia_))\n",
    "\n",
    "# SS (Silhouette Score)\n",
    "print('SS score: {}'.format(m.silhouette_score(X, labels, metric = 'euclidean')))"
   ]
  },
  {
   "cell_type": "markdown",
   "id": "frequent-brooklyn",
   "metadata": {
    "papermill": {
     "duration": null,
     "end_time": null,
     "exception": null,
     "start_time": null,
     "status": "pending"
    },
    "tags": []
   },
   "source": [
    "# CLUSTER ANALYSIS"
   ]
  },
  {
   "cell_type": "code",
   "execution_count": null,
   "id": "2f06adc5",
   "metadata": {
    "ExecuteTime": {
     "end_time": "2022-03-15T21:52:13.910871Z",
     "start_time": "2022-03-15T21:52:13.902163Z"
    },
    "papermill": {
     "duration": null,
     "end_time": null,
     "exception": null,
     "start_time": null,
     "status": "pending"
    },
    "tags": []
   },
   "outputs": [],
   "source": [
    "df9 = X.copy()\n",
    "df9['cluster'] = labels"
   ]
  },
  {
   "cell_type": "markdown",
   "id": "metric-genetics",
   "metadata": {
    "papermill": {
     "duration": null,
     "end_time": null,
     "exception": null,
     "start_time": null,
     "status": "pending"
    },
    "tags": []
   },
   "source": [
    "## Visualization Inspection"
   ]
  },
  {
   "cell_type": "code",
   "execution_count": null,
   "id": "2e4876a0",
   "metadata": {
    "ExecuteTime": {
     "end_time": "2022-03-15T21:52:20.941973Z",
     "start_time": "2022-03-15T21:52:20.560552Z"
    },
    "papermill": {
     "duration": null,
     "end_time": null,
     "exception": null,
     "start_time": null,
     "status": "pending"
    },
    "tags": []
   },
   "outputs": [],
   "source": [
    "# k = 8 for  KMeans\n",
    "sns.scatterplot(x = 'embedding_X', y = 'embedding_y', hue = 'cluster', data = df9, palette = 'deep')"
   ]
  },
  {
   "cell_type": "markdown",
   "id": "herbal-theology",
   "metadata": {
    "papermill": {
     "duration": null,
     "end_time": null,
     "exception": null,
     "start_time": null,
     "status": "pending"
    },
    "tags": []
   },
   "source": [
    "## Cluster Profile"
   ]
  },
  {
   "cell_type": "code",
   "execution_count": null,
   "id": "dental-nickname",
   "metadata": {
    "ExecuteTime": {
     "end_time": "2022-03-15T21:53:04.304812Z",
     "start_time": "2022-03-15T21:53:04.280957Z"
    },
    "papermill": {
     "duration": null,
     "end_time": null,
     "exception": null,
     "start_time": null,
     "status": "pending"
    },
    "tags": []
   },
   "outputs": [],
   "source": [
    "df92 = df3[cols_selected].copy()\n",
    "df92['cluster'] = labels\n",
    "df92.head()"
   ]
  },
  {
   "cell_type": "code",
   "execution_count": null,
   "id": "organizational-hawaii",
   "metadata": {
    "ExecuteTime": {
     "end_time": "2022-03-15T21:53:08.618551Z",
     "start_time": "2022-03-15T21:53:08.562211Z"
    },
    "papermill": {
     "duration": null,
     "end_time": null,
     "exception": null,
     "start_time": null,
     "status": "pending"
    },
    "scrolled": true,
    "tags": []
   },
   "outputs": [],
   "source": [
    "# Explaining clusters profile based on this averages\n",
    "# Number of customer\n",
    "df_cluster = df92[['customer_id', 'cluster']].groupby( 'cluster' ).count().reset_index()\n",
    "df_cluster['perc_customer'] = 100*( df_cluster['customer_id'] / df_cluster['customer_id'].sum() )\n",
    "\n",
    "# Avg Gross revenue\n",
    "df_avg_gross_revenue = df92[['gross_revenue', 'cluster']].groupby( 'cluster' ).mean().reset_index()\n",
    "df_cluster = pd.merge( df_cluster, df_avg_gross_revenue, how='inner', on='cluster' )\n",
    "\n",
    "# Avg recency days\n",
    "df_avg_recency_days = df92[['recency_days', 'cluster']].groupby( 'cluster' ).mean().reset_index()\n",
    "df_cluster = pd.merge( df_cluster, df_avg_recency_days, how='inner', on='cluster' )\n",
    "\n",
    "# Avg qty products\n",
    "df_qty_products = df92[['qty_products', 'cluster']].groupby( 'cluster' ).mean().reset_index()\n",
    "df_cluster = pd.merge( df_cluster, df_qty_products, how='inner', on='cluster' )\n",
    "\n",
    "# Frequency\n",
    "df_frequency = df92[['frequency', 'cluster']].groupby( 'cluster' ).mean().reset_index()\n",
    "df_cluster = pd.merge( df_cluster, df_frequency, how='inner', on='cluster' )\n",
    "\n",
    "# Avg qty returns\n",
    "df_qty_returns = df92[['qty_returns', 'cluster']].groupby( 'cluster' ).mean().reset_index()\n",
    "df_cluster = pd.merge( df_cluster, df_qty_returns, how='inner', on='cluster' )\n",
    "\n",
    "df_cluster"
   ]
  },
  {
   "cell_type": "code",
   "execution_count": null,
   "id": "wireless-index",
   "metadata": {
    "ExecuteTime": {
     "end_time": "2022-03-13T19:05:52.836567Z",
     "start_time": "2022-03-13T19:05:52.832235Z"
    },
    "papermill": {
     "duration": null,
     "end_time": null,
     "exception": null,
     "start_time": null,
     "status": "pending"
    },
    "tags": []
   },
   "outputs": [],
   "source": [
    "# during the new EDA we can do a analyse inside each cluster"
   ]
  },
  {
   "cell_type": "markdown",
   "id": "abstract-painting",
   "metadata": {
    "papermill": {
     "duration": null,
     "end_time": null,
     "exception": null,
     "start_time": null,
     "status": "pending"
    },
    "tags": []
   },
   "source": [
    "Cluster Insiders (04):\n",
    "\n",
    "- Number of customers: 551 (9.67% of costumers)\n",
    "- Avg Gross Revenue: $10410,00\n",
    "- Recency Average: 45 days\n",
    "- Avg of Qty Products Purchased: 366 un\n",
    "- Purchase Frequency: 0.21 products per day"
   ]
  },
  {
   "cell_type": "markdown",
   "id": "ee05ffc7",
   "metadata": {
    "papermill": {
     "duration": null,
     "end_time": null,
     "exception": null,
     "start_time": null,
     "status": "pending"
    },
    "tags": []
   },
   "source": [
    "# Exploratory Dada Analysis"
   ]
  },
  {
   "cell_type": "code",
   "execution_count": null,
   "id": "0400833a",
   "metadata": {
    "ExecuteTime": {
     "end_time": "2022-03-15T21:53:16.040064Z",
     "start_time": "2022-03-15T21:53:16.035373Z"
    },
    "papermill": {
     "duration": null,
     "end_time": null,
     "exception": null,
     "start_time": null,
     "status": "pending"
    },
    "tags": []
   },
   "outputs": [],
   "source": [
    "df10 = df92.copy()"
   ]
  },
  {
   "cell_type": "code",
   "execution_count": null,
   "id": "98d8cf28",
   "metadata": {
    "ExecuteTime": {
     "end_time": "2022-03-15T21:53:17.105471Z",
     "start_time": "2022-03-15T21:53:17.090721Z"
    },
    "papermill": {
     "duration": null,
     "end_time": null,
     "exception": null,
     "start_time": null,
     "status": "pending"
    },
    "tags": []
   },
   "outputs": [],
   "source": [
    "df10.head()"
   ]
  },
  {
   "cell_type": "markdown",
   "id": "fifth-tooth",
   "metadata": {
    "papermill": {
     "duration": null,
     "end_time": null,
     "exception": null,
     "start_time": null,
     "status": "pending"
    },
    "tags": []
   },
   "source": [
    "# MODEL DEPLOYMENT"
   ]
  },
  {
   "cell_type": "code",
   "execution_count": null,
   "id": "419c8d38",
   "metadata": {
    "ExecuteTime": {
     "end_time": "2022-03-15T21:53:20.444445Z",
     "start_time": "2022-03-15T21:53:20.438697Z"
    },
    "papermill": {
     "duration": null,
     "end_time": null,
     "exception": null,
     "start_time": null,
     "status": "pending"
    },
    "tags": []
   },
   "outputs": [],
   "source": [
    "df92.dtypes"
   ]
  },
  {
   "cell_type": "code",
   "execution_count": null,
   "id": "047d5f0c",
   "metadata": {
    "ExecuteTime": {
     "end_time": "2022-03-15T21:53:24.927405Z",
     "start_time": "2022-03-15T21:53:24.919010Z"
    },
    "papermill": {
     "duration": null,
     "end_time": null,
     "exception": null,
     "start_time": null,
     "status": "pending"
    },
    "tags": []
   },
   "outputs": [],
   "source": [
    "df92['recency_days'] = df92['recency_days'].astype(int)\n",
    "df92['qty_products'] = df92['qty_products'].astype(int)\n",
    "df92['qty_returns'] = df92['qty_returns'].astype(int)"
   ]
  },
  {
   "cell_type": "code",
   "execution_count": null,
   "id": "54083e95",
   "metadata": {
    "ExecuteTime": {
     "end_time": "2022-03-16T18:54:02.500882Z",
     "start_time": "2022-03-16T18:54:02.487148Z"
    },
    "papermill": {
     "duration": null,
     "end_time": null,
     "exception": null,
     "start_time": null,
     "status": "pending"
    },
    "tags": []
   },
   "outputs": [],
   "source": [
    "# # create database\n",
    "# conn = sqlite3.connect('insiders_db.sqlite')\n",
    "\n",
    "# # create table\n",
    "# query_create_insiders = \"\"\"\n",
    "#     CREATE TABLE insiders (\n",
    "#         custer_id     INTEGER,\n",
    "#         gross_revenue REAL,\n",
    "#         recency_days  INTEGER,\n",
    "#         qty_products  INTEGER,\n",
    "#         frequency     INTEGER,\n",
    "#         qty_returns   INTEGER,\n",
    "#         cluster       INTEGER\n",
    "#         )\n",
    "# \"\"\"\n",
    "\n",
    "# conn.execute(query_create_insiders)\n",
    "# conn.commit()\n",
    "# conn.close()"
   ]
  },
  {
   "cell_type": "code",
   "execution_count": null,
   "id": "89444c1c",
   "metadata": {
    "ExecuteTime": {
     "end_time": "2022-03-16T18:57:33.727304Z",
     "start_time": "2022-03-16T18:57:33.712364Z"
    },
    "papermill": {
     "duration": null,
     "end_time": null,
     "exception": null,
     "start_time": null,
     "status": "pending"
    },
    "tags": []
   },
   "outputs": [],
   "source": [
    "# database connection\n",
    "conn = create_engine('sqlite:///insiders_db.sqlite')\n",
    "\n",
    "# # drop table\n",
    "# query_drop_insiders = \"\"\"\n",
    "#     DROP TABLE insiders\n",
    "\n",
    "# \"\"\"\n",
    "\n",
    "#create table\n",
    "query_create_insiders = \"\"\"\n",
    "    CREATE TABLE insiders (\n",
    "        customer_id   INTEGER,\n",
    "        gross_revenue REAL,\n",
    "        recency_days  INTEGER,\n",
    "        qty_products  INTEGER,\n",
    "        frequency     INTEGER,\n",
    "        qty_returns   INTEGER,\n",
    "        cluster       INTEGER\n",
    "    )\n",
    "\"\"\"\n",
    "\n",
    "conn.execute(query_create_insiders)"
   ]
  },
  {
   "cell_type": "code",
   "execution_count": null,
   "id": "47792204",
   "metadata": {
    "ExecuteTime": {
     "end_time": "2022-03-16T18:57:53.126299Z",
     "start_time": "2022-03-16T18:57:53.091413Z"
    },
    "papermill": {
     "duration": null,
     "end_time": null,
     "exception": null,
     "start_time": null,
     "status": "pending"
    },
    "tags": []
   },
   "outputs": [],
   "source": [
    "# insert into data\n",
    "df92.to_sql('insiders', con = conn, if_exists = 'append', index = False)"
   ]
  },
  {
   "cell_type": "code",
   "execution_count": null,
   "id": "43ac3fde",
   "metadata": {
    "ExecuteTime": {
     "end_time": "2022-03-16T18:57:55.812306Z",
     "start_time": "2022-03-16T18:57:55.781571Z"
    },
    "papermill": {
     "duration": null,
     "end_time": null,
     "exception": null,
     "start_time": null,
     "status": "pending"
    },
    "tags": []
   },
   "outputs": [],
   "source": [
    "# consulting database\n",
    "# get query\n",
    "query_collect = \"\"\"\n",
    "    SELECT * from insiders\n",
    "\"\"\"\n",
    "\n",
    "df = pd.read_sql_query(query_collect, conn)\n",
    "df.head()"
   ]
  }
 ],
 "metadata": {
  "kernelspec": {
   "display_name": "Python 3 (ipykernel)",
   "language": "python",
   "name": "python3"
  },
  "language_info": {
   "codemirror_mode": {
    "name": "ipython",
    "version": 3
   },
   "file_extension": ".py",
   "mimetype": "text/x-python",
   "name": "python",
   "nbconvert_exporter": "python",
   "pygments_lexer": "ipython3",
   "version": "3.8.10"
  },
  "nbTranslate": {
   "displayLangs": [
    "*"
   ],
   "hotkey": "alt-t",
   "langInMainMenu": true,
   "sourceLang": "en",
   "targetLang": "fr",
   "useGoogleTranslate": true
  },
  "papermill": {
   "default_parameters": {},
   "duration": 53.669456,
   "end_time": "2022-03-16T21:41:12.688045",
   "environment_variables": {},
   "exception": true,
   "input_path": "src/models/c9.0-mc-deploy.ipynb",
   "output_path": "reports/c9.0-mc-deply-2022-03-16.ipynb",
   "parameters": {},
   "start_time": "2022-03-16T21:40:19.018589",
   "version": "2.3.4"
  },
  "toc": {
   "base_numbering": 1,
   "nav_menu": {},
   "number_sections": true,
   "sideBar": true,
   "skip_h1_title": false,
   "title_cell": "Table of Contents",
   "title_sidebar": "Contents",
   "toc_cell": false,
   "toc_position": {},
   "toc_section_display": true,
   "toc_window_display": false
  }
 },
 "nbformat": 4,
 "nbformat_minor": 5
}