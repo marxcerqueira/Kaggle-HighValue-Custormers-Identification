{
 "cells": [
  {
   "cell_type": "markdown",
   "id": "french-dollar",
   "metadata": {},
   "source": [
    "# High Value Customers Identification (Insiders) #\n",
    "**By: Marx Cerqueira**"
   ]
  },
  {
   "cell_type": "markdown",
   "id": "homeless-heading",
   "metadata": {},
   "source": [
    "# IMPORTS"
   ]
  },
  {
   "cell_type": "code",
   "execution_count": 1,
   "id": "lovely-guess",
   "metadata": {
    "ExecuteTime": {
     "end_time": "2022-04-24T13:16:50.101975Z",
     "start_time": "2022-04-24T13:16:45.404876Z"
    },
    "scrolled": true
   },
   "outputs": [],
   "source": [
    "import re\n",
    "import os\n",
    "import s3fs\n",
    "import inflection\n",
    "import sqlite3\n",
    "import pickle\n",
    "\n",
    "import numpy   as np\n",
    "import pandas  as pd\n",
    "import seaborn as sns\n",
    "\n",
    "import umap.umap_ as umap\n",
    "\n",
    "from matplotlib import pyplot as plt\n",
    "\n",
    "from sklearn import metrics       as m\n",
    "from sklearn import preprocessing as pp\n",
    "from sklearn import decomposition as dd\n",
    "from sklearn import ensemble      as en\n",
    "from sklearn import manifold      as mn\n",
    "from sklearn import mixture       as mx\n",
    "from sklearn import cluster       as c\n",
    "\n",
    "from scipy.cluster import hierarchy as hc\n",
    "\n",
    "from plotly import express as px\n",
    "from sqlalchemy import create_engine"
   ]
  },
  {
   "cell_type": "markdown",
   "id": "satisfied-catholic",
   "metadata": {},
   "source": [
    "## Loading Data"
   ]
  },
  {
   "cell_type": "code",
   "execution_count": 2,
   "id": "9ef643ef",
   "metadata": {
    "ExecuteTime": {
     "end_time": "2022-04-24T13:16:50.106272Z",
     "start_time": "2022-04-24T13:16:50.103351Z"
    }
   },
   "outputs": [],
   "source": [
    "# get AWS environmnet access keys\n",
    "AWS_ACCESS_KEY_ID     = os.environ.get('AWS_ACCESS_KEY_ID')\n",
    "AWS_SECRET_ACCESS_KEY = os.environ.get('AWS_SECRET_ACCESS_KEY')"
   ]
  },
  {
   "cell_type": "code",
   "execution_count": 3,
   "id": "front-edinburgh",
   "metadata": {
    "ExecuteTime": {
     "end_time": "2022-04-24T13:17:00.760886Z",
     "start_time": "2022-04-24T13:16:50.107883Z"
    },
    "scrolled": true
   },
   "outputs": [],
   "source": [
    "# load data\n",
    "# path_local = '/home/marxcerqueira/repos/Kaggle-HighValue-Custormers-Identification\n",
    "path_s3 = 's3://mc-insiders-dataset/'\n",
    "\n",
    "df_ecomm_raw = pd.read_csv(path_s3 + 'Ecommerce.csv',\n",
    "                           encoding='iso-8859-1',\n",
    "                           low_memory=False)\n",
    "\n",
    "#drop extra column\n",
    "df_ecomm_raw = df_ecomm_raw.drop(columns = ['Unnamed: 8'], axis = 1)"
   ]
  },
  {
   "cell_type": "markdown",
   "id": "respiratory-seattle",
   "metadata": {},
   "source": [
    "# DATA DISCRIPTION"
   ]
  },
  {
   "cell_type": "code",
   "execution_count": 4,
   "id": "italian-wayne",
   "metadata": {
    "ExecuteTime": {
     "end_time": "2022-04-24T13:17:00.784426Z",
     "start_time": "2022-04-24T13:17:00.762313Z"
    }
   },
   "outputs": [],
   "source": [
    "# Copy dataset\n",
    "df0 = df_ecomm_raw.copy()"
   ]
  },
  {
   "cell_type": "markdown",
   "id": "linear-haiti",
   "metadata": {},
   "source": [
    "## Rename Columns"
   ]
  },
  {
   "cell_type": "code",
   "execution_count": 5,
   "id": "compressed-sword",
   "metadata": {
    "ExecuteTime": {
     "end_time": "2022-04-24T13:17:00.801071Z",
     "start_time": "2022-04-24T13:17:00.786100Z"
    }
   },
   "outputs": [],
   "source": [
    "cols_old = ['InvoiceNo','StockCode','Description','Quantity', 'InvoiceDate','UnitPrice','CustomerID','Country']\n",
    "\n",
    "snakecase = lambda x: inflection.underscore(x)\n",
    "col_news = list(map(snakecase, cols_old))\n",
    "\n",
    "# Rename columns\n",
    "df0.columns = col_news"
   ]
  },
  {
   "cell_type": "markdown",
   "id": "growing-arrival",
   "metadata": {},
   "source": [
    "## Data Dimension"
   ]
  },
  {
   "cell_type": "code",
   "execution_count": 6,
   "id": "stone-immigration",
   "metadata": {
    "ExecuteTime": {
     "end_time": "2022-04-24T13:17:00.805330Z",
     "start_time": "2022-04-24T13:17:00.802364Z"
    }
   },
   "outputs": [
    {
     "name": "stdout",
     "output_type": "stream",
     "text": [
      "Number of rows: 541909.\n",
      "Number of cols: 8.\n"
     ]
    }
   ],
   "source": [
    "print('Number of rows: {}.'.format(df0.shape[0]))\n",
    "print('Number of cols: {}.'.format(df0.shape[1]))"
   ]
  },
  {
   "cell_type": "markdown",
   "id": "covered-offset",
   "metadata": {},
   "source": [
    "## Data Types"
   ]
  },
  {
   "cell_type": "code",
   "execution_count": 7,
   "id": "conditional-triangle",
   "metadata": {
    "ExecuteTime": {
     "end_time": "2022-04-24T13:17:01.101089Z",
     "start_time": "2022-04-24T13:17:00.806407Z"
    }
   },
   "outputs": [
    {
     "name": "stdout",
     "output_type": "stream",
     "text": [
      "<class 'pandas.core.frame.DataFrame'>\n",
      "RangeIndex: 541909 entries, 0 to 541908\n",
      "Data columns (total 8 columns):\n",
      " #   Column        Non-Null Count   Dtype  \n",
      "---  ------        --------------   -----  \n",
      " 0   invoice_no    541909 non-null  object \n",
      " 1   stock_code    541909 non-null  object \n",
      " 2   description   540455 non-null  object \n",
      " 3   quantity      541909 non-null  int64  \n",
      " 4   invoice_date  541909 non-null  object \n",
      " 5   unit_price    541909 non-null  float64\n",
      " 6   customer_id   406829 non-null  float64\n",
      " 7   country       541909 non-null  object \n",
      "dtypes: float64(2), int64(1), object(5)\n",
      "memory usage: 33.1+ MB\n"
     ]
    }
   ],
   "source": [
    "df0.info()"
   ]
  },
  {
   "cell_type": "markdown",
   "id": "naval-annual",
   "metadata": {},
   "source": [
    "## Check NA Values"
   ]
  },
  {
   "cell_type": "code",
   "execution_count": 8,
   "id": "important-appendix",
   "metadata": {
    "ExecuteTime": {
     "end_time": "2022-04-24T13:17:01.611995Z",
     "start_time": "2022-04-24T13:17:01.102031Z"
    }
   },
   "outputs": [
    {
     "data": {
      "text/html": [
       "<div>\n",
       "<style scoped>\n",
       "    .dataframe tbody tr th:only-of-type {\n",
       "        vertical-align: middle;\n",
       "    }\n",
       "\n",
       "    .dataframe tbody tr th {\n",
       "        vertical-align: top;\n",
       "    }\n",
       "\n",
       "    .dataframe thead th {\n",
       "        text-align: right;\n",
       "    }\n",
       "</style>\n",
       "<table border=\"1\" class=\"dataframe\">\n",
       "  <thead>\n",
       "    <tr style=\"text-align: right;\">\n",
       "      <th></th>\n",
       "      <th>missing value count</th>\n",
       "      <th>percentage</th>\n",
       "    </tr>\n",
       "  </thead>\n",
       "  <tbody>\n",
       "    <tr>\n",
       "      <th>invoice_no</th>\n",
       "      <td>0</td>\n",
       "      <td>0.00</td>\n",
       "    </tr>\n",
       "    <tr>\n",
       "      <th>stock_code</th>\n",
       "      <td>0</td>\n",
       "      <td>0.00</td>\n",
       "    </tr>\n",
       "    <tr>\n",
       "      <th>description</th>\n",
       "      <td>1454</td>\n",
       "      <td>0.27</td>\n",
       "    </tr>\n",
       "    <tr>\n",
       "      <th>quantity</th>\n",
       "      <td>0</td>\n",
       "      <td>0.00</td>\n",
       "    </tr>\n",
       "    <tr>\n",
       "      <th>invoice_date</th>\n",
       "      <td>0</td>\n",
       "      <td>0.00</td>\n",
       "    </tr>\n",
       "    <tr>\n",
       "      <th>unit_price</th>\n",
       "      <td>0</td>\n",
       "      <td>0.00</td>\n",
       "    </tr>\n",
       "    <tr>\n",
       "      <th>customer_id</th>\n",
       "      <td>135080</td>\n",
       "      <td>24.93</td>\n",
       "    </tr>\n",
       "    <tr>\n",
       "      <th>country</th>\n",
       "      <td>0</td>\n",
       "      <td>0.00</td>\n",
       "    </tr>\n",
       "  </tbody>\n",
       "</table>\n",
       "</div>"
      ],
      "text/plain": [
       "              missing value count  percentage\n",
       "invoice_no                      0        0.00\n",
       "stock_code                      0        0.00\n",
       "description                  1454        0.27\n",
       "quantity                        0        0.00\n",
       "invoice_date                    0        0.00\n",
       "unit_price                      0        0.00\n",
       "customer_id                135080       24.93\n",
       "country                         0        0.00"
      ]
     },
     "execution_count": 8,
     "metadata": {},
     "output_type": "execute_result"
    }
   ],
   "source": [
    "missing_count = df0.isnull().sum() # the count of missing values\n",
    "value_count = df0.isnull().count() # the total values count\n",
    "\n",
    "missing_percentage = round(missing_count/value_count*100,2) # the percentage of missing values\n",
    "missing_df = pd.DataFrame({'missing value count': missing_count, 'percentage': missing_percentage})\n",
    "missing_df"
   ]
  },
  {
   "cell_type": "code",
   "execution_count": 9,
   "id": "floral-transportation",
   "metadata": {
    "ExecuteTime": {
     "end_time": "2022-04-24T13:17:01.769447Z",
     "start_time": "2022-04-24T13:17:01.613287Z"
    }
   },
   "outputs": [
    {
     "data": {
      "image/png": "[encoded data removed]",
      "text/plain": [
       "<Figure size 432x288 with 1 Axes>"
      ]
     },
     "metadata": {
      "needs_background": "light"
     },
     "output_type": "display_data"
    }
   ],
   "source": [
    "barchart = missing_df.plot.bar(y='percentage')\n",
    "for index, percentage in enumerate( missing_percentage ):\n",
    "    barchart.text( index, percentage, str(percentage)+'%')"
   ]
  },
  {
   "cell_type": "markdown",
   "id": "unique-charlotte",
   "metadata": {},
   "source": [
    "## Fillout NA"
   ]
  },
  {
   "cell_type": "code",
   "execution_count": 10,
   "id": "coral-leone",
   "metadata": {
    "ExecuteTime": {
     "end_time": "2022-04-24T13:17:01.805497Z",
     "start_time": "2022-04-24T13:17:01.771432Z"
    }
   },
   "outputs": [],
   "source": [
    "# separate NA's in two different dataframe, one with NAs and other without it\n",
    "df_missing = df0.loc[df0['customer_id'].isna(), :]\n",
    "df_not_missing = df0.loc[~df0['customer_id'].isna(), :]"
   ]
  },
  {
   "cell_type": "code",
   "execution_count": 11,
   "id": "basic-invite",
   "metadata": {
    "ExecuteTime": {
     "end_time": "2022-04-24T13:17:01.995149Z",
     "start_time": "2022-04-24T13:17:01.806588Z"
    }
   },
   "outputs": [],
   "source": [
    "# create reference\n",
    "df_backup = pd.DataFrame( df_missing['invoice_no'].drop_duplicates().copy() )\n",
    "df_backup['customer_id'] = np.arange( 19000, 19000+len( df_backup ), 1) # Fillout NA stratety: creating customers_id to keep their behavior (25% of the database)\n",
    "\n",
    "# merge original with reference dataframe\n",
    "df0 = pd.merge( df0, df_backup, on='invoice_no', how='left' )\n",
    "\n",
    "# coalesce \n",
    "df0['customer_id'] = df0['customer_id_x'].combine_first( df0['customer_id_y'] )\n",
    "\n",
    "# drop extra columns\n",
    "df0 = df0.drop( columns=['customer_id_x', 'customer_id_y'], axis=1 )"
   ]
  },
  {
   "cell_type": "markdown",
   "id": "baking-paragraph",
   "metadata": {},
   "source": [
    "## Change Types"
   ]
  },
  {
   "cell_type": "code",
   "execution_count": 12,
   "id": "second-brunei",
   "metadata": {
    "ExecuteTime": {
     "end_time": "2022-04-24T13:17:02.055232Z",
     "start_time": "2022-04-24T13:17:01.997225Z"
    }
   },
   "outputs": [],
   "source": [
    "# Transforme datatype of variable invoice_date to datetime\n",
    "df0['invoice_date'] = pd.to_datetime(df0['invoice_date'])"
   ]
  },
  {
   "cell_type": "code",
   "execution_count": 13,
   "id": "cellular-jurisdiction",
   "metadata": {
    "ExecuteTime": {
     "end_time": "2022-04-24T13:17:02.061524Z",
     "start_time": "2022-04-24T13:17:02.056390Z"
    }
   },
   "outputs": [],
   "source": [
    "df0['customer_id'] = df0['customer_id'].astype('int64')"
   ]
  },
  {
   "cell_type": "markdown",
   "id": "severe-puppy",
   "metadata": {},
   "source": [
    "## Descriptive Statistics"
   ]
  },
  {
   "cell_type": "code",
   "execution_count": 14,
   "id": "wrong-nothing",
   "metadata": {
    "ExecuteTime": {
     "end_time": "2022-04-24T13:17:02.103768Z",
     "start_time": "2022-04-24T13:17:02.062596Z"
    },
    "scrolled": false
   },
   "outputs": [
    {
     "data": {
      "text/html": [
       "<div>\n",
       "<style scoped>\n",
       "    .dataframe tbody tr th:only-of-type {\n",
       "        vertical-align: middle;\n",
       "    }\n",
       "\n",
       "    .dataframe tbody tr th {\n",
       "        vertical-align: top;\n",
       "    }\n",
       "\n",
       "    .dataframe thead th {\n",
       "        text-align: right;\n",
       "    }\n",
       "</style>\n",
       "<table border=\"1\" class=\"dataframe\">\n",
       "  <thead>\n",
       "    <tr style=\"text-align: right;\">\n",
       "      <th></th>\n",
       "      <th>count</th>\n",
       "      <th>mean</th>\n",
       "      <th>std</th>\n",
       "      <th>min</th>\n",
       "      <th>25%</th>\n",
       "      <th>50%</th>\n",
       "      <th>75%</th>\n",
       "      <th>max</th>\n",
       "    </tr>\n",
       "  </thead>\n",
       "  <tbody>\n",
       "    <tr>\n",
       "      <th>quantity</th>\n",
       "      <td>541909.0</td>\n",
       "      <td>9.552250</td>\n",
       "      <td>218.081158</td>\n",
       "      <td>-80995.00</td>\n",
       "      <td>1.00</td>\n",
       "      <td>3.00</td>\n",
       "      <td>10.00</td>\n",
       "      <td>80995.0</td>\n",
       "    </tr>\n",
       "    <tr>\n",
       "      <th>unit_price</th>\n",
       "      <td>541909.0</td>\n",
       "      <td>4.611114</td>\n",
       "      <td>96.759853</td>\n",
       "      <td>-11062.06</td>\n",
       "      <td>1.25</td>\n",
       "      <td>2.08</td>\n",
       "      <td>4.13</td>\n",
       "      <td>38970.0</td>\n",
       "    </tr>\n",
       "    <tr>\n",
       "      <th>customer_id</th>\n",
       "      <td>541909.0</td>\n",
       "      <td>16688.840453</td>\n",
       "      <td>2911.411352</td>\n",
       "      <td>12346.00</td>\n",
       "      <td>14367.00</td>\n",
       "      <td>16249.00</td>\n",
       "      <td>18283.00</td>\n",
       "      <td>22709.0</td>\n",
       "    </tr>\n",
       "  </tbody>\n",
       "</table>\n",
       "</div>"
      ],
      "text/plain": [
       "                count          mean          std       min       25%  \\\n",
       "quantity     541909.0      9.552250   218.081158 -80995.00      1.00   \n",
       "unit_price   541909.0      4.611114    96.759853 -11062.06      1.25   \n",
       "customer_id  541909.0  16688.840453  2911.411352  12346.00  14367.00   \n",
       "\n",
       "                  50%       75%      max  \n",
       "quantity         3.00     10.00  80995.0  \n",
       "unit_price       2.08      4.13  38970.0  \n",
       "customer_id  16249.00  18283.00  22709.0  "
      ]
     },
     "execution_count": 14,
     "metadata": {},
     "output_type": "execute_result"
    }
   ],
   "source": [
    "df0.describe().T"
   ]
  },
  {
   "cell_type": "code",
   "execution_count": 15,
   "id": "f38213f9",
   "metadata": {
    "ExecuteTime": {
     "end_time": "2022-04-24T13:17:02.264897Z",
     "start_time": "2022-04-24T13:17:02.105007Z"
    }
   },
   "outputs": [
    {
     "data": {
      "text/html": [
       "<div>\n",
       "<style scoped>\n",
       "    .dataframe tbody tr th:only-of-type {\n",
       "        vertical-align: middle;\n",
       "    }\n",
       "\n",
       "    .dataframe tbody tr th {\n",
       "        vertical-align: top;\n",
       "    }\n",
       "\n",
       "    .dataframe thead th {\n",
       "        text-align: right;\n",
       "    }\n",
       "</style>\n",
       "<table border=\"1\" class=\"dataframe\">\n",
       "  <thead>\n",
       "    <tr style=\"text-align: right;\">\n",
       "      <th></th>\n",
       "      <th>count</th>\n",
       "      <th>unique</th>\n",
       "      <th>top</th>\n",
       "      <th>freq</th>\n",
       "    </tr>\n",
       "  </thead>\n",
       "  <tbody>\n",
       "    <tr>\n",
       "      <th>invoice_no</th>\n",
       "      <td>541909</td>\n",
       "      <td>25900</td>\n",
       "      <td>573585</td>\n",
       "      <td>1114</td>\n",
       "    </tr>\n",
       "    <tr>\n",
       "      <th>stock_code</th>\n",
       "      <td>541909</td>\n",
       "      <td>4070</td>\n",
       "      <td>85123A</td>\n",
       "      <td>2313</td>\n",
       "    </tr>\n",
       "    <tr>\n",
       "      <th>description</th>\n",
       "      <td>540455</td>\n",
       "      <td>4223</td>\n",
       "      <td>WHITE HANGING HEART T-LIGHT HOLDER</td>\n",
       "      <td>2369</td>\n",
       "    </tr>\n",
       "    <tr>\n",
       "      <th>country</th>\n",
       "      <td>541909</td>\n",
       "      <td>38</td>\n",
       "      <td>United Kingdom</td>\n",
       "      <td>495478</td>\n",
       "    </tr>\n",
       "  </tbody>\n",
       "</table>\n",
       "</div>"
      ],
      "text/plain": [
       "              count unique                                 top    freq\n",
       "invoice_no   541909  25900                              573585    1114\n",
       "stock_code   541909   4070                              85123A    2313\n",
       "description  540455   4223  WHITE HANGING HEART T-LIGHT HOLDER    2369\n",
       "country      541909     38                      United Kingdom  495478"
      ]
     },
     "execution_count": 15,
     "metadata": {},
     "output_type": "execute_result"
    }
   ],
   "source": [
    "df0.describe(include = object).T"
   ]
  },
  {
   "cell_type": "code",
   "execution_count": 16,
   "id": "heated-growing",
   "metadata": {
    "ExecuteTime": {
     "end_time": "2022-04-24T13:17:02.269624Z",
     "start_time": "2022-04-24T13:17:02.266227Z"
    }
   },
   "outputs": [],
   "source": [
    "num_attributes = df0.select_dtypes(include = np.number)\n",
    "cat_attributes = df0.select_dtypes(exclude = [np.number, np.datetime64])"
   ]
  },
  {
   "cell_type": "markdown",
   "id": "decimal-recipient",
   "metadata": {},
   "source": [
    "### Numerical Attributes"
   ]
  },
  {
   "cell_type": "code",
   "execution_count": 17,
   "id": "hungry-durham",
   "metadata": {
    "ExecuteTime": {
     "end_time": "2022-04-24T13:17:02.351075Z",
     "start_time": "2022-04-24T13:17:02.271165Z"
    },
    "scrolled": true
   },
   "outputs": [
    {
     "data": {
      "text/html": [
       "<div>\n",
       "<style scoped>\n",
       "    .dataframe tbody tr th:only-of-type {\n",
       "        vertical-align: middle;\n",
       "    }\n",
       "\n",
       "    .dataframe tbody tr th {\n",
       "        vertical-align: top;\n",
       "    }\n",
       "\n",
       "    .dataframe thead th {\n",
       "        text-align: right;\n",
       "    }\n",
       "</style>\n",
       "<table border=\"1\" class=\"dataframe\">\n",
       "  <thead>\n",
       "    <tr style=\"text-align: right;\">\n",
       "      <th></th>\n",
       "      <th>attributes</th>\n",
       "      <th>min</th>\n",
       "      <th>max</th>\n",
       "      <th>range</th>\n",
       "      <th>mean</th>\n",
       "      <th>mediana</th>\n",
       "      <th>std</th>\n",
       "      <th>skew</th>\n",
       "      <th>kurtosis</th>\n",
       "    </tr>\n",
       "  </thead>\n",
       "  <tbody>\n",
       "    <tr>\n",
       "      <th>0</th>\n",
       "      <td>quantity</td>\n",
       "      <td>-80995.00</td>\n",
       "      <td>80995.0</td>\n",
       "      <td>161990.00</td>\n",
       "      <td>9.552250</td>\n",
       "      <td>3.00</td>\n",
       "      <td>218.080957</td>\n",
       "      <td>-0.264076</td>\n",
       "      <td>119769.160031</td>\n",
       "    </tr>\n",
       "    <tr>\n",
       "      <th>1</th>\n",
       "      <td>unit_price</td>\n",
       "      <td>-11062.06</td>\n",
       "      <td>38970.0</td>\n",
       "      <td>50032.06</td>\n",
       "      <td>4.611114</td>\n",
       "      <td>2.08</td>\n",
       "      <td>96.759764</td>\n",
       "      <td>186.506972</td>\n",
       "      <td>59005.719097</td>\n",
       "    </tr>\n",
       "    <tr>\n",
       "      <th>2</th>\n",
       "      <td>customer_id</td>\n",
       "      <td>12346.00</td>\n",
       "      <td>22709.0</td>\n",
       "      <td>10363.00</td>\n",
       "      <td>16688.840453</td>\n",
       "      <td>16249.00</td>\n",
       "      <td>2911.408666</td>\n",
       "      <td>0.487449</td>\n",
       "      <td>-0.804287</td>\n",
       "    </tr>\n",
       "  </tbody>\n",
       "</table>\n",
       "</div>"
      ],
      "text/plain": [
       "    attributes       min      max      range          mean   mediana  \\\n",
       "0     quantity -80995.00  80995.0  161990.00      9.552250      3.00   \n",
       "1   unit_price -11062.06  38970.0   50032.06      4.611114      2.08   \n",
       "2  customer_id  12346.00  22709.0   10363.00  16688.840453  16249.00   \n",
       "\n",
       "           std        skew       kurtosis  \n",
       "0   218.080957   -0.264076  119769.160031  \n",
       "1    96.759764  186.506972   59005.719097  \n",
       "2  2911.408666    0.487449      -0.804287  "
      ]
     },
     "execution_count": 17,
     "metadata": {},
     "output_type": "execute_result"
    }
   ],
   "source": [
    "# central tendency - mean, median\n",
    "ct1 = pd.DataFrame(num_attributes.apply(np.mean)).T\n",
    "ct2 = pd.DataFrame(num_attributes.apply(np.median)).T\n",
    "\n",
    "# dispersion - desvio padrão, min, max, range, skew, kurtosis\n",
    "d1 = pd.DataFrame(num_attributes.apply(np.std)).T\n",
    "d2 = pd.DataFrame(num_attributes.apply(np.min)).T\n",
    "d3 = pd.DataFrame(num_attributes.apply(np.max)).T\n",
    "d4 = pd.DataFrame(num_attributes.apply(lambda x: x.max()-x.min())).T\n",
    "d5 = pd.DataFrame(num_attributes.apply(lambda x: x.skew())).T\n",
    "d6 = pd.DataFrame(num_attributes.apply(lambda x: x.kurtosis())).T\n",
    "\n",
    "#concatenate\n",
    "\n",
    "m1 = pd.concat([d2,d3,d4,ct1,ct2,d1,d5,d6]).T.reset_index()\n",
    "m1.columns = ['attributes', 'min', 'max', 'range', 'mean', 'mediana','std', 'skew','kurtosis']\n",
    "m1"
   ]
  },
  {
   "cell_type": "markdown",
   "id": "geological-incident",
   "metadata": {},
   "source": [
    "### Categorical Attributes"
   ]
  },
  {
   "cell_type": "markdown",
   "id": "seeing-louisville",
   "metadata": {},
   "source": [
    "#### Invoice_No"
   ]
  },
  {
   "cell_type": "code",
   "execution_count": 18,
   "id": "parental-syndicate",
   "metadata": {
    "ExecuteTime": {
     "end_time": "2022-04-24T13:17:02.767460Z",
     "start_time": "2022-04-24T13:17:02.352202Z"
    }
   },
   "outputs": [
    {
     "name": "stdout",
     "output_type": "stream",
     "text": [
      "Total number of invoices: 9291\n",
      "Total number of negative quantity: 9288\n"
     ]
    }
   ],
   "source": [
    "# problem: We got letters and numbers in invoice_no\n",
    "#df1['invoice_no'].astype( int )\n",
    "\n",
    "# identification: \n",
    "df_letter_invoices = df0.loc[df0['invoice_no'].apply( lambda x: bool( re.search( '[^0-9]+', x ) ) ), :]\n",
    "df_letter_invoices.head()\n",
    "\n",
    "print( 'Total number of invoices: {}'.format( len( df_letter_invoices ) ) )\n",
    "print( 'Total number of negative quantity: {}'.format( len( df_letter_invoices[ df_letter_invoices['quantity'] < 0 ] ) ) )"
   ]
  },
  {
   "cell_type": "markdown",
   "id": "official-monday",
   "metadata": {},
   "source": [
    "#### Stock_Code"
   ]
  },
  {
   "cell_type": "code",
   "execution_count": 19,
   "id": "stuck-proportion",
   "metadata": {
    "ExecuteTime": {
     "end_time": "2022-04-24T13:17:03.174048Z",
     "start_time": "2022-04-24T13:17:02.769551Z"
    }
   },
   "outputs": [
    {
     "data": {
      "text/plain": [
       "array(['POST', 'D', 'DOT', 'M', 'S', 'AMAZONFEE', 'm', 'DCGSSBOY',\n",
       "       'DCGSSGIRL', 'PADS', 'B', 'CRUK'], dtype=object)"
      ]
     },
     "execution_count": 19,
     "metadata": {},
     "output_type": "execute_result"
    }
   ],
   "source": [
    "# check stock codes only characters\n",
    "df0.loc[df0['stock_code'].apply( lambda x: bool( re.search( '^[a-zA-Z]+$', x ) ) ), 'stock_code'].unique()\n",
    "\n",
    "# Acão:\n",
    "## 1. Remove stock_code in ['POST', 'D', 'M', 'PADS', 'DOT', 'CRUK']"
   ]
  },
  {
   "cell_type": "markdown",
   "id": "prime-prior",
   "metadata": {},
   "source": [
    "# VARIABLE FILTERING"
   ]
  },
  {
   "cell_type": "code",
   "execution_count": 20,
   "id": "flying-palace",
   "metadata": {
    "ExecuteTime": {
     "end_time": "2022-04-24T13:17:03.185362Z",
     "start_time": "2022-04-24T13:17:03.175317Z"
    }
   },
   "outputs": [],
   "source": [
    "df1 = df0.copy()"
   ]
  },
  {
   "cell_type": "code",
   "execution_count": 21,
   "id": "backed-fortune",
   "metadata": {
    "ExecuteTime": {
     "end_time": "2022-04-24T13:17:03.374717Z",
     "start_time": "2022-04-24T13:17:03.186481Z"
    }
   },
   "outputs": [],
   "source": [
    " # === Numerical attributes ====\n",
    "df1 = df1.loc[df1['unit_price'] >= 0.04, :]\n",
    "\n",
    "# === Categorical attributes ====\n",
    "df1 = df1[~df1['stock_code'].isin( ['POST', 'D', 'DOT', 'M', 'S', 'AMAZONFEE', 'm', 'DCGSSBOY',\n",
    "                                    'DCGSSGIRL', 'PADS', 'B', 'CRUK'] )]\n",
    "\n",
    "# description\n",
    "df1 = df1.drop( columns='description', axis=1 )\n",
    "\n",
    "# country \n",
    "df1 = df1[~df1['country'].isin( ['European Community', 'Unspecified' ] ) ] #assuming this risk so we can use lat long parameters\n",
    "\n",
    "# bad customers\n",
    "df1 = df1[~df1['customer_id'].isin([16446, 12346, 15098])]\n",
    "\n",
    "# quantity \n",
    "df1_returns = df1.loc[df1['quantity'] < 0, :].copy()\n",
    "df1_purchases = df1.loc[df1['quantity'] >= 0, :].copy()"
   ]
  },
  {
   "cell_type": "markdown",
   "id": "coastal-pakistan",
   "metadata": {},
   "source": [
    "# FEATURE ENGINEERING"
   ]
  },
  {
   "cell_type": "code",
   "execution_count": 22,
   "id": "military-porcelain",
   "metadata": {
    "ExecuteTime": {
     "end_time": "2022-04-24T13:17:03.385517Z",
     "start_time": "2022-04-24T13:17:03.375935Z"
    }
   },
   "outputs": [],
   "source": [
    "df2 = df1.copy()"
   ]
  },
  {
   "cell_type": "markdown",
   "id": "happy-witness",
   "metadata": {},
   "source": [
    "## Feature Creation"
   ]
  },
  {
   "cell_type": "code",
   "execution_count": 23,
   "id": "intimate-convergence",
   "metadata": {
    "ExecuteTime": {
     "end_time": "2022-04-24T13:17:03.414134Z",
     "start_time": "2022-04-24T13:17:03.386848Z"
    },
    "scrolled": false
   },
   "outputs": [],
   "source": [
    "# data reference\n",
    "# RFM Model, creating feature for it\n",
    "\n",
    "df_ref = df2.drop(['invoice_no', 'stock_code',\n",
    "                   'quantity', 'invoice_date', 'unit_price',\n",
    "                   'country'], axis = 1).drop_duplicates(ignore_index = True).copy()"
   ]
  },
  {
   "cell_type": "markdown",
   "id": "graduate-score",
   "metadata": {},
   "source": [
    "### Gross Revenue"
   ]
  },
  {
   "cell_type": "code",
   "execution_count": 24,
   "id": "removed-collector",
   "metadata": {
    "ExecuteTime": {
     "end_time": "2022-04-24T13:17:03.441947Z",
     "start_time": "2022-04-24T13:17:03.415388Z"
    },
    "scrolled": true
   },
   "outputs": [
    {
     "data": {
      "text/plain": [
       "customer_id       0\n",
       "gross_revenue    91\n",
       "dtype: int64"
      ]
     },
     "execution_count": 24,
     "metadata": {},
     "output_type": "execute_result"
    }
   ],
   "source": [
    "# Gross Revenue ( Faturamento ) quantity * price\n",
    "df1_purchases.loc[:, 'gross_revenue'] = df1_purchases.loc[:,'quantity'] * df1_purchases.loc[:, 'unit_price']\n",
    "\n",
    "# Monetary (How much money a customer spends on purchases)\n",
    "df_monetary = df1_purchases.loc[:, ['customer_id', 'gross_revenue']].groupby( 'customer_id' ).sum().reset_index()\n",
    "df_ref = pd.merge( df_ref, df_monetary, on='customer_id', how='left' )\n",
    "df_ref.isna().sum()"
   ]
  },
  {
   "cell_type": "markdown",
   "id": "ideal-spencer",
   "metadata": {},
   "source": [
    "### Recency"
   ]
  },
  {
   "cell_type": "code",
   "execution_count": 25,
   "id": "minus-damage",
   "metadata": {
    "ExecuteTime": {
     "end_time": "2022-04-24T13:17:03.462907Z",
     "start_time": "2022-04-24T13:17:03.443199Z"
    },
    "scrolled": false
   },
   "outputs": [
    {
     "data": {
      "text/plain": [
       "customer_id       0\n",
       "gross_revenue    91\n",
       "recency_days     91\n",
       "dtype: int64"
      ]
     },
     "execution_count": 25,
     "metadata": {},
     "output_type": "execute_result"
    }
   ],
   "source": [
    "# Recency - Day from last purchase\n",
    "df_recency = df1_purchases.loc[:, ['customer_id', 'invoice_date']].groupby( 'customer_id' ).max().reset_index()\n",
    "df_recency['recency_days'] = ( df1['invoice_date'].max() - df_recency['invoice_date'] ).dt.days\n",
    "df_recency = df_recency[['customer_id', 'recency_days']].copy()\n",
    "\n",
    "df_ref = pd.merge( df_ref, df_recency, on='customer_id', how='left' )\n",
    "df_ref.isna().sum()"
   ]
  },
  {
   "cell_type": "markdown",
   "id": "dfd80a66",
   "metadata": {},
   "source": [
    "### Qty Invoice No"
   ]
  },
  {
   "cell_type": "code",
   "execution_count": 26,
   "id": "e465fb4e",
   "metadata": {
    "ExecuteTime": {
     "end_time": "2022-04-24T13:17:03.510944Z",
     "start_time": "2022-04-24T13:17:03.464158Z"
    }
   },
   "outputs": [
    {
     "data": {
      "text/plain": [
       "customer_id        0\n",
       "gross_revenue     91\n",
       "recency_days      91\n",
       "qty_invoice_no    91\n",
       "dtype: int64"
      ]
     },
     "execution_count": 26,
     "metadata": {},
     "output_type": "execute_result"
    }
   ],
   "source": [
    "# Qty of invoice no per customer\n",
    "df_invoice_no = df1_purchases[['customer_id', 'invoice_no']].drop_duplicates().groupby('customer_id').count().reset_index().rename(columns = {'invoice_no': 'qty_invoice_no'})\n",
    "\n",
    "df_ref = pd.merge(df_ref, df_invoice_no, on = 'customer_id', how = 'left')\n",
    "df_ref.isna().sum()"
   ]
  },
  {
   "cell_type": "markdown",
   "id": "039c06e2",
   "metadata": {},
   "source": [
    "### Qty Items"
   ]
  },
  {
   "cell_type": "code",
   "execution_count": 27,
   "id": "07f2b4e2",
   "metadata": {
    "ExecuteTime": {
     "end_time": "2022-04-24T13:17:03.532793Z",
     "start_time": "2022-04-24T13:17:03.512107Z"
    }
   },
   "outputs": [
    {
     "data": {
      "text/plain": [
       "customer_id        0\n",
       "gross_revenue     91\n",
       "recency_days      91\n",
       "qty_invoice_no    91\n",
       "qty_items         91\n",
       "dtype: int64"
      ]
     },
     "execution_count": 27,
     "metadata": {},
     "output_type": "execute_result"
    }
   ],
   "source": [
    "# Quantity of items purchased by customer\n",
    "df_freq = (df1_purchases.loc[:, ['customer_id', 'quantity']].groupby( 'customer_id' ).sum()\n",
    "                                                           .reset_index()\n",
    "                                                           .rename( columns={'quantity': 'qty_items'} ) )\n",
    "df_ref = pd.merge( df_ref, df_freq, on='customer_id', how='left' )\n",
    "df_ref.isna().sum()"
   ]
  },
  {
   "cell_type": "markdown",
   "id": "according-pittsburgh",
   "metadata": {},
   "source": [
    "### Qty Products  (different stock codes by customer)"
   ]
  },
  {
   "cell_type": "code",
   "execution_count": 28,
   "id": "understanding-syria",
   "metadata": {
    "ExecuteTime": {
     "end_time": "2022-04-24T13:17:03.601991Z",
     "start_time": "2022-04-24T13:17:03.536168Z"
    }
   },
   "outputs": [
    {
     "data": {
      "text/plain": [
       "customer_id        0\n",
       "gross_revenue     91\n",
       "recency_days      91\n",
       "qty_invoice_no    91\n",
       "qty_items         91\n",
       "qty_products      91\n",
       "dtype: int64"
      ]
     },
     "execution_count": 28,
     "metadata": {},
     "output_type": "execute_result"
    }
   ],
   "source": [
    "# Quantity of unique products purchased (Frequency: qntd of products over time)\n",
    "\n",
    "# Number of products (different stock codes by customer)\n",
    "df_freq = (df1_purchases.loc[:, ['customer_id', 'stock_code']].groupby( 'customer_id' ).count()\n",
    "                                                           .reset_index()\n",
    "                                                           .rename( columns={'stock_code': 'qty_products'} ) )\n",
    "df_ref = pd.merge( df_ref, df_freq, on='customer_id', how='left' )\n",
    "df_ref.isna().sum()"
   ]
  },
  {
   "cell_type": "markdown",
   "id": "nuclear-virgin",
   "metadata": {},
   "source": [
    "### Frequency"
   ]
  },
  {
   "cell_type": "code",
   "execution_count": 29,
   "id": "convenient-contents",
   "metadata": {
    "ExecuteTime": {
     "end_time": "2022-04-24T13:17:04.513062Z",
     "start_time": "2022-04-24T13:17:03.603253Z"
    }
   },
   "outputs": [
    {
     "data": {
      "text/plain": [
       "customer_id        0\n",
       "gross_revenue     91\n",
       "recency_days      91\n",
       "qty_invoice_no    91\n",
       "qty_items         91\n",
       "qty_products      91\n",
       "frequency         91\n",
       "dtype: int64"
      ]
     },
     "execution_count": 29,
     "metadata": {},
     "output_type": "execute_result"
    }
   ],
   "source": [
    "#Frequency Purchase (rate: purchases by day)\n",
    "df_aux = ( df1_purchases[['customer_id', 'invoice_no', 'invoice_date']].drop_duplicates()\n",
    "                                                             .groupby( 'customer_id')\n",
    "                                                             .agg( max_ = ( 'invoice_date', 'max' ), \n",
    "                                                                   min_ = ( 'invoice_date', 'min' ),\n",
    "                                                                   days_= ( 'invoice_date', lambda x: ( ( x.max() - x.min() ).days ) + 1 ),\n",
    "                                                                   buy_ = ( 'invoice_no', 'count' ) ) ).reset_index()\n",
    "# Frequency\n",
    "df_aux['frequency'] = df_aux[['buy_', 'days_']].apply( lambda x: x['buy_'] / x['days_'] if  x['days_'] != 0 else 0, axis=1 )\n",
    "\n",
    "# Merge\n",
    "df_ref = pd.merge( df_ref, df_aux[['customer_id', 'frequency']], on='customer_id', how='left' )\n",
    "df_ref.isna().sum()"
   ]
  },
  {
   "cell_type": "markdown",
   "id": "improving-species",
   "metadata": {},
   "source": [
    "### Number of Returns"
   ]
  },
  {
   "cell_type": "code",
   "execution_count": 30,
   "id": "aquatic-symbol",
   "metadata": {
    "ExecuteTime": {
     "end_time": "2022-04-24T13:17:04.525231Z",
     "start_time": "2022-04-24T13:17:04.514134Z"
    },
    "scrolled": true
   },
   "outputs": [
    {
     "data": {
      "text/plain": [
       "customer_id        0\n",
       "gross_revenue     91\n",
       "recency_days      91\n",
       "qty_invoice_no    91\n",
       "qty_items         91\n",
       "qty_products      91\n",
       "frequency         91\n",
       "qty_returns        0\n",
       "dtype: int64"
      ]
     },
     "execution_count": 30,
     "metadata": {},
     "output_type": "execute_result"
    }
   ],
   "source": [
    "#Number of Returns\n",
    "df_returns = df1_returns[['customer_id', 'quantity']].groupby( 'customer_id' ).sum().reset_index().rename( columns={'quantity':'qty_returns'} )\n",
    "df_returns['qty_returns'] = df_returns['qty_returns'] * -1\n",
    "\n",
    "df_ref = pd.merge( df_ref, df_returns, how='left', on='customer_id' )\n",
    "df_ref.loc[df_ref['qty_returns'].isna(), 'qty_returns'] = 0 #customers with 0 returned items\n",
    "\n",
    "df_ref.isna().sum()"
   ]
  },
  {
   "cell_type": "markdown",
   "id": "collaborative-baker",
   "metadata": {},
   "source": [
    "# EXPLORATORY DATA ANALYSIS (EDA)"
   ]
  },
  {
   "cell_type": "code",
   "execution_count": 31,
   "id": "roman-spice",
   "metadata": {
    "ExecuteTime": {
     "end_time": "2022-04-24T13:17:04.540396Z",
     "start_time": "2022-04-24T13:17:04.526324Z"
    }
   },
   "outputs": [],
   "source": [
    "df3 = df_ref.dropna().copy()"
   ]
  },
  {
   "cell_type": "markdown",
   "id": "statistical-vietnamese",
   "metadata": {},
   "source": [
    "## Space Study"
   ]
  },
  {
   "cell_type": "code",
   "execution_count": 32,
   "id": "807067d7",
   "metadata": {
    "ExecuteTime": {
     "end_time": "2022-04-24T13:17:04.554115Z",
     "start_time": "2022-04-24T13:17:04.541589Z"
    }
   },
   "outputs": [
    {
     "data": {
      "text/html": [
       "<div>\n",
       "<style scoped>\n",
       "    .dataframe tbody tr th:only-of-type {\n",
       "        vertical-align: middle;\n",
       "    }\n",
       "\n",
       "    .dataframe tbody tr th {\n",
       "        vertical-align: top;\n",
       "    }\n",
       "\n",
       "    .dataframe thead th {\n",
       "        text-align: right;\n",
       "    }\n",
       "</style>\n",
       "<table border=\"1\" class=\"dataframe\">\n",
       "  <thead>\n",
       "    <tr style=\"text-align: right;\">\n",
       "      <th></th>\n",
       "      <th>customer_id</th>\n",
       "      <th>gross_revenue</th>\n",
       "      <th>recency_days</th>\n",
       "      <th>qty_invoice_no</th>\n",
       "      <th>qty_items</th>\n",
       "      <th>qty_products</th>\n",
       "      <th>frequency</th>\n",
       "      <th>qty_returns</th>\n",
       "    </tr>\n",
       "  </thead>\n",
       "  <tbody>\n",
       "    <tr>\n",
       "      <th>0</th>\n",
       "      <td>17850</td>\n",
       "      <td>5391.21</td>\n",
       "      <td>372.0</td>\n",
       "      <td>34.0</td>\n",
       "      <td>1733.0</td>\n",
       "      <td>297.0</td>\n",
       "      <td>17.000000</td>\n",
       "      <td>40.0</td>\n",
       "    </tr>\n",
       "    <tr>\n",
       "      <th>1</th>\n",
       "      <td>13047</td>\n",
       "      <td>3232.59</td>\n",
       "      <td>56.0</td>\n",
       "      <td>9.0</td>\n",
       "      <td>1390.0</td>\n",
       "      <td>171.0</td>\n",
       "      <td>0.028302</td>\n",
       "      <td>35.0</td>\n",
       "    </tr>\n",
       "    <tr>\n",
       "      <th>2</th>\n",
       "      <td>12583</td>\n",
       "      <td>6705.38</td>\n",
       "      <td>2.0</td>\n",
       "      <td>15.0</td>\n",
       "      <td>5028.0</td>\n",
       "      <td>232.0</td>\n",
       "      <td>0.040323</td>\n",
       "      <td>50.0</td>\n",
       "    </tr>\n",
       "    <tr>\n",
       "      <th>3</th>\n",
       "      <td>13748</td>\n",
       "      <td>948.25</td>\n",
       "      <td>95.0</td>\n",
       "      <td>5.0</td>\n",
       "      <td>439.0</td>\n",
       "      <td>28.0</td>\n",
       "      <td>0.017921</td>\n",
       "      <td>0.0</td>\n",
       "    </tr>\n",
       "    <tr>\n",
       "      <th>4</th>\n",
       "      <td>15100</td>\n",
       "      <td>876.00</td>\n",
       "      <td>333.0</td>\n",
       "      <td>3.0</td>\n",
       "      <td>80.0</td>\n",
       "      <td>3.0</td>\n",
       "      <td>0.073171</td>\n",
       "      <td>22.0</td>\n",
       "    </tr>\n",
       "  </tbody>\n",
       "</table>\n",
       "</div>"
      ],
      "text/plain": [
       "   customer_id  gross_revenue  recency_days  qty_invoice_no  qty_items  \\\n",
       "0        17850        5391.21         372.0            34.0     1733.0   \n",
       "1        13047        3232.59          56.0             9.0     1390.0   \n",
       "2        12583        6705.38           2.0            15.0     5028.0   \n",
       "3        13748         948.25          95.0             5.0      439.0   \n",
       "4        15100         876.00         333.0             3.0       80.0   \n",
       "\n",
       "   qty_products  frequency  qty_returns  \n",
       "0         297.0  17.000000         40.0  \n",
       "1         171.0   0.028302         35.0  \n",
       "2         232.0   0.040323         50.0  \n",
       "3          28.0   0.017921          0.0  \n",
       "4           3.0   0.073171         22.0  "
      ]
     },
     "execution_count": 32,
     "metadata": {},
     "output_type": "execute_result"
    }
   ],
   "source": [
    "df3.head()"
   ]
  },
  {
   "cell_type": "code",
   "execution_count": 33,
   "id": "growing-platform",
   "metadata": {
    "ExecuteTime": {
     "end_time": "2022-04-24T13:17:04.559094Z",
     "start_time": "2022-04-24T13:17:04.555431Z"
    }
   },
   "outputs": [],
   "source": [
    "# Original dataset\n",
    "#df33 = df3.drop(columns = ['customer_id'], axis = '').copy()\n",
    "\n",
    "# dataset with selected columns due feature selection based on its importance\n",
    "cols_selected = ['customer_id', 'gross_revenue', 'recency_days', 'qty_invoice_no', 'qty_items' ,'qty_products', 'frequency', 'qty_returns']\n",
    "df33 = df3[cols_selected].drop(columns = 'customer_id', axis = 1)"
   ]
  },
  {
   "cell_type": "code",
   "execution_count": 34,
   "id": "changing-revelation",
   "metadata": {
    "ExecuteTime": {
     "end_time": "2022-04-24T13:17:07.802329Z",
     "start_time": "2022-04-24T13:17:04.560529Z"
    }
   },
   "outputs": [],
   "source": [
    "mm = pp.MinMaxScaler()\n",
    "fs = s3fs.S3FileSystem(anon = False, key = AWS_ACCESS_KEY_ID, secret = AWS_SECRET_ACCESS_KEY)\n",
    "\n",
    "df33['gross_revenue'] = mm.fit_transform(df33[['gross_revenue']])\n",
    "pickle.dump(mm, open('../src/features/gross_revenue_scaler.pkl', 'wb') ) #dump local\n",
    "pickle.dump(mm, fs.open('s3://mc-insiders-dataset/gross_revenue_scaler.pkl', 'wb')) #dump to S3\n",
    "\n",
    "df33['recency_days']  = mm.fit_transform(df33[['recency_days']])\n",
    "pickle.dump(mm, open('../src/features/recency_days_scaler.pkl', 'wb') )\n",
    "pickle.dump(mm, fs.open('s3://mc-insiders-dataset/recency_days_scaler.pkl', 'wb'))\n",
    "\n",
    "df33['qty_invoice_no']  = mm.fit_transform(df33[['qty_invoice_no']])\n",
    "pickle.dump(mm, open('../src/features/qty_invoice_no_scaler.pkl', 'wb') )\n",
    "pickle.dump(mm, fs.open('s3://mc-insiders-dataset/qty_invoice_no_scaler.pkl', 'wb'))\n",
    "\n",
    "df33['qty_items']  = mm.fit_transform(df33[['qty_items']])\n",
    "pickle.dump(mm, open('../src/features/qty_items_scaler.pkl', 'wb') )\n",
    "pickle.dump(mm, fs.open('s3://mc-insiders-dataset/qty_items_scaler.pkl', 'wb'))\n",
    "\n",
    "df33['qty_products']  = mm.fit_transform(df33[['qty_products']])\n",
    "pickle.dump(mm, open('../src/features/qty_products_scaler.pkl', 'wb') )\n",
    "pickle.dump(mm, fs.open('s3://mc-insiders-dataset/qty_products_scaler.pkl', 'wb'))\n",
    "\n",
    "df33['frequency']     = mm.fit_transform(df33[['frequency']])\n",
    "pickle.dump(mm, open('../src/features/frequency_scaler.pkl', 'wb') )\n",
    "pickle.dump(mm, fs.open('s3://mc-insiders-dataset/frequency_scaler.pkl', 'wb'))\n",
    "\n",
    "df33['qty_returns']   = mm.fit_transform(df33[['qty_returns']])\n",
    "pickle.dump(mm, open('../src/features/qty_returns_scaler.pkl', 'wb') )\n",
    "pickle.dump(mm, fs.open('s3://mc-insiders-dataset/qty_returns_scaler.pkl', 'wb'))\n",
    "\n",
    "# X = df33.copy()"
   ]
  },
  {
   "cell_type": "markdown",
   "id": "substantial-inquiry",
   "metadata": {},
   "source": [
    "#### Tree-Based Embedding"
   ]
  },
  {
   "cell_type": "code",
   "execution_count": 35,
   "id": "connected-wonder",
   "metadata": {
    "ExecuteTime": {
     "end_time": "2022-04-24T13:17:21.469285Z",
     "start_time": "2022-04-24T13:17:07.805533Z"
    }
   },
   "outputs": [],
   "source": [
    "# training dataset \n",
    "X = df33.drop(columns = ['gross_revenue'], axis = 1) #target variable\n",
    "y = df33['gross_revenue']\n",
    "\n",
    "# model definition\n",
    "rf_model = en.RandomForestRegressor(n_estimators = 100, random_state = 42)\n",
    "\n",
    "# model training\n",
    "rf_model.fit(X,y)\n",
    "\n",
    "pickle.dump(rf_model, open('../src/models/rf_model.pkl', 'wb')) #dump local\n",
    "pickle.dump(rf_model, fs.open('s3://mc-insiders-dataset/rf_model.pkl', 'wb')) #dump to S3\n",
    "\n",
    "# leaf\n",
    "df_leaf = pd.DataFrame(rf_model.apply( X ))"
   ]
  },
  {
   "cell_type": "code",
   "execution_count": 36,
   "id": "fleet-ozone",
   "metadata": {
    "ExecuteTime": {
     "end_time": "2022-04-24T13:17:48.337813Z",
     "start_time": "2022-04-24T13:17:21.470501Z"
    },
    "scrolled": true
   },
   "outputs": [],
   "source": [
    "# using UMAP to reduce the space study from 100 to 2\n",
    "reducer = umap.UMAP(random_state = 42)\n",
    "embedding = reducer.fit_transform(df_leaf) #gera o espaço projetado - embedding é a projeção gerada em outro espaço\n",
    "\n",
    "pickle.dump(reducer, open('../src/features/umap_reducer.pkl', 'wb')) #saving embedding to apply into new customers\n",
    "pickle.dump(reducer, fs.open('s3://mc-insiders-dataset/umap_reducer.pkl', 'wb'))\n",
    "\n",
    "#embedding\n",
    "df_tree = pd.DataFrame()\n",
    "df_tree['embedding_X'] = embedding[:, 0]\n",
    "df_tree['embedding_y'] = embedding[:, 1]"
   ]
  },
  {
   "cell_type": "markdown",
   "id": "distributed-rebate",
   "metadata": {},
   "source": [
    "# DATA PREPARATION"
   ]
  },
  {
   "cell_type": "code",
   "execution_count": 37,
   "id": "single-camera",
   "metadata": {
    "ExecuteTime": {
     "end_time": "2022-04-24T13:17:48.348942Z",
     "start_time": "2022-04-24T13:17:48.342251Z"
    }
   },
   "outputs": [],
   "source": [
    "# Tree-Based Embbeding\n",
    "df4 = df_tree.copy()\n",
    "\n",
    "# # UMAP Embbeding\n",
    "# df4 = df_umap.copy()\n",
    "\n",
    "# # TSNE Embedding\n",
    "# df4 = df_tsne.copy()"
   ]
  },
  {
   "cell_type": "markdown",
   "id": "decimal-editing",
   "metadata": {},
   "source": [
    "# HYPERPARAMETER FINE-TUNNING"
   ]
  },
  {
   "cell_type": "code",
   "execution_count": 38,
   "id": "herbal-internet",
   "metadata": {
    "ExecuteTime": {
     "end_time": "2022-04-24T13:17:48.369334Z",
     "start_time": "2022-04-24T13:17:48.353765Z"
    }
   },
   "outputs": [],
   "source": [
    "X = df4.copy()"
   ]
  },
  {
   "cell_type": "code",
   "execution_count": 39,
   "id": "elect-looking",
   "metadata": {
    "ExecuteTime": {
     "end_time": "2022-04-24T13:17:48.377396Z",
     "start_time": "2022-04-24T13:17:48.371216Z"
    },
    "scrolled": true
   },
   "outputs": [
    {
     "data": {
      "text/html": [
       "<div>\n",
       "<style scoped>\n",
       "    .dataframe tbody tr th:only-of-type {\n",
       "        vertical-align: middle;\n",
       "    }\n",
       "\n",
       "    .dataframe tbody tr th {\n",
       "        vertical-align: top;\n",
       "    }\n",
       "\n",
       "    .dataframe thead th {\n",
       "        text-align: right;\n",
       "    }\n",
       "</style>\n",
       "<table border=\"1\" class=\"dataframe\">\n",
       "  <thead>\n",
       "    <tr style=\"text-align: right;\">\n",
       "      <th></th>\n",
       "      <th>embedding_X</th>\n",
       "      <th>embedding_y</th>\n",
       "    </tr>\n",
       "  </thead>\n",
       "  <tbody>\n",
       "    <tr>\n",
       "      <th>0</th>\n",
       "      <td>5.217471</td>\n",
       "      <td>9.462402</td>\n",
       "    </tr>\n",
       "    <tr>\n",
       "      <th>1</th>\n",
       "      <td>3.348260</td>\n",
       "      <td>8.671559</td>\n",
       "    </tr>\n",
       "    <tr>\n",
       "      <th>2</th>\n",
       "      <td>-0.171162</td>\n",
       "      <td>20.161715</td>\n",
       "    </tr>\n",
       "    <tr>\n",
       "      <th>3</th>\n",
       "      <td>8.738938</td>\n",
       "      <td>-8.936374</td>\n",
       "    </tr>\n",
       "    <tr>\n",
       "      <th>4</th>\n",
       "      <td>19.068232</td>\n",
       "      <td>9.256424</td>\n",
       "    </tr>\n",
       "  </tbody>\n",
       "</table>\n",
       "</div>"
      ],
      "text/plain": [
       "   embedding_X  embedding_y\n",
       "0     5.217471     9.462402\n",
       "1     3.348260     8.671559\n",
       "2    -0.171162    20.161715\n",
       "3     8.738938    -8.936374\n",
       "4    19.068232     9.256424"
      ]
     },
     "execution_count": 39,
     "metadata": {},
     "output_type": "execute_result"
    }
   ],
   "source": [
    "X.head()"
   ]
  },
  {
   "cell_type": "code",
   "execution_count": 40,
   "id": "missing-scholar",
   "metadata": {
    "ExecuteTime": {
     "end_time": "2022-04-24T13:17:48.387826Z",
     "start_time": "2022-04-24T13:17:48.378922Z"
    }
   },
   "outputs": [
    {
     "data": {
      "text/plain": [
       "array([ 2,  3,  4,  5,  6,  7,  8,  9, 10, 11, 12, 13, 14, 15, 16, 17, 18,\n",
       "       19, 20, 21, 22, 23, 24, 25, 26, 27, 28, 29, 30])"
      ]
     },
     "execution_count": 40,
     "metadata": {},
     "output_type": "execute_result"
    }
   ],
   "source": [
    "clusters = np.arange(2, 31, 1) #silhouette was increasing, so we put more k points\n",
    "clusters"
   ]
  },
  {
   "cell_type": "markdown",
   "id": "tired-sword",
   "metadata": {},
   "source": [
    "## K-Means"
   ]
  },
  {
   "cell_type": "code",
   "execution_count": 41,
   "id": "excited-registrar",
   "metadata": {
    "ExecuteTime": {
     "end_time": "2022-04-24T13:18:49.680716Z",
     "start_time": "2022-04-24T13:17:48.389270Z"
    }
   },
   "outputs": [],
   "source": [
    "kmeans_sil = []\n",
    "\n",
    "for k in clusters:\n",
    "    # model definition\n",
    "    kmeans_model = c.KMeans( n_clusters = k, n_init = 100, random_state = 42 )\n",
    "\n",
    "    # model training\n",
    "    kmeans_model.fit(X)\n",
    "\n",
    "    # model predict\n",
    "    labels = kmeans_model.predict(X)\n",
    "\n",
    "    # model performance\n",
    "    sil = m.silhouette_score( X, labels, metric = 'euclidean')\n",
    "    kmeans_sil.append(sil)  "
   ]
  },
  {
   "cell_type": "code",
   "execution_count": 42,
   "id": "stainless-stationery",
   "metadata": {
    "ExecuteTime": {
     "end_time": "2022-04-24T13:18:49.779326Z",
     "start_time": "2022-04-24T13:18:49.682050Z"
    }
   },
   "outputs": [
    {
     "data": {
      "image/png": "[encoded data removed]",
      "text/plain": [
       "<Figure size 432x288 with 1 Axes>"
      ]
     },
     "metadata": {
      "needs_background": "light"
     },
     "output_type": "display_data"
    }
   ],
   "source": [
    "plt.plot( clusters, kmeans_sil, linestyle = '--', marker = 'o', color = 'b' )\n",
    "plt.xlabel( 'K' );\n",
    "plt.ylabel('Silhouette Score');\n",
    "plt.title('KMeans Silhouette Score per K ');"
   ]
  },
  {
   "cell_type": "markdown",
   "id": "korean-black",
   "metadata": {},
   "source": [
    "## GMM"
   ]
  },
  {
   "cell_type": "code",
   "execution_count": 43,
   "id": "intelligent-confirmation",
   "metadata": {
    "ExecuteTime": {
     "end_time": "2022-04-24T13:29:39.825752Z",
     "start_time": "2022-04-24T13:18:49.780505Z"
    }
   },
   "outputs": [],
   "source": [
    "gmm_sil = []\n",
    "for k in clusters:\n",
    "    # model definition\n",
    "    gmm_model = mx.GaussianMixture(n_components = k, n_init = 100, random_state = 42)\n",
    "    \n",
    "    # model training\n",
    "    \n",
    "    gmm_model.fit(X)\n",
    "    \n",
    "    # model prediction\n",
    "    \n",
    "    labels = gmm_model.predict(X)\n",
    "    \n",
    "    # model performance\n",
    "    sil = m.silhouette_score(X, labels, metric = 'euclidean')\n",
    "    gmm_sil.append(sil)"
   ]
  },
  {
   "cell_type": "code",
   "execution_count": 44,
   "id": "unusual-landing",
   "metadata": {
    "ExecuteTime": {
     "end_time": "2022-04-24T13:29:39.965741Z",
     "start_time": "2022-04-24T13:29:39.826967Z"
    }
   },
   "outputs": [
    {
     "data": {
      "image/png": "[encoded data removed]",
      "text/plain": [
       "<Figure size 432x288 with 1 Axes>"
      ]
     },
     "metadata": {
      "needs_background": "light"
     },
     "output_type": "display_data"
    }
   ],
   "source": [
    "plt.plot(clusters, gmm_sil, linestyle = '--', marker = 'o', color = 'b')\n",
    "plt.xlabel( 'K' );\n",
    "plt.ylabel('Silhouette Score');\n",
    "plt.title('GMM Silhouette Score per K ');"
   ]
  },
  {
   "cell_type": "markdown",
   "id": "contrary-casino",
   "metadata": {},
   "source": [
    "## Hierarchical Clustering"
   ]
  },
  {
   "cell_type": "code",
   "execution_count": 45,
   "id": "incorrect-still",
   "metadata": {
    "ExecuteTime": {
     "end_time": "2022-04-24T13:29:40.729811Z",
     "start_time": "2022-04-24T13:29:39.967245Z"
    }
   },
   "outputs": [],
   "source": [
    "# model definition and training\n",
    "hc_model = hc.linkage(X, 'ward')"
   ]
  },
  {
   "cell_type": "markdown",
   "id": "lined-selection",
   "metadata": {},
   "source": [
    "### H-Clustering Silhouette Score"
   ]
  },
  {
   "cell_type": "code",
   "execution_count": 46,
   "id": "wound-hopkins",
   "metadata": {
    "ExecuteTime": {
     "end_time": "2022-04-24T13:30:12.162076Z",
     "start_time": "2022-04-24T13:29:40.730980Z"
    },
    "code_folding": []
   },
   "outputs": [],
   "source": [
    "hc_sil = []\n",
    "for k in clusters:\n",
    "    #model definition and training\n",
    "    hc_model = hc.linkage(X, 'ward')\n",
    "\n",
    "    # model predict\n",
    "    labels = hc.fcluster(hc_model, k, criterion = 'maxclust')\n",
    "\n",
    "    # metrics\n",
    "    sil = m.silhouette_score(X, labels, metric = 'euclidean')\n",
    "    hc_sil.append(sil)"
   ]
  },
  {
   "cell_type": "code",
   "execution_count": 47,
   "id": "modified-sapphire",
   "metadata": {
    "ExecuteTime": {
     "end_time": "2022-04-24T13:30:12.259041Z",
     "start_time": "2022-04-24T13:30:12.163213Z"
    }
   },
   "outputs": [
    {
     "data": {
      "text/plain": [
       "[<matplotlib.lines.Line2D at 0x7fd9481af160>]"
      ]
     },
     "execution_count": 47,
     "metadata": {},
     "output_type": "execute_result"
    },
    {
     "data": {
      "image/png": "[encoded data removed]",
      "text/plain": [
       "<Figure size 432x288 with 1 Axes>"
      ]
     },
     "metadata": {
      "needs_background": "light"
     },
     "output_type": "display_data"
    }
   ],
   "source": [
    "plt.plot(clusters, hc_sil, linestyle = '--', marker = 'o', color = 'b')"
   ]
  },
  {
   "cell_type": "markdown",
   "id": "joined-eclipse",
   "metadata": {},
   "source": [
    "## Results"
   ]
  },
  {
   "cell_type": "code",
   "execution_count": 48,
   "id": "multiple-intro",
   "metadata": {
    "ExecuteTime": {
     "end_time": "2022-04-24T13:30:12.331393Z",
     "start_time": "2022-04-24T13:30:12.260435Z"
    },
    "cell_style": "split",
    "scrolled": true
   },
   "outputs": [
    {
     "data": {
      "text/html": [
       "<style type=\"text/css\">\n",
       "#T_ef8c2_row0_col27, #T_ef8c2_row1_col27, #T_ef8c2_row2_col26 {\n",
       "  background-color: lightgreen;\n",
       "}\n",
       "</style>\n",
       "<table id=\"T_ef8c2\">\n",
       "  <thead>\n",
       "    <tr>\n",
       "      <th class=\"blank level0\" >&nbsp;</th>\n",
       "      <th id=\"T_ef8c2_level0_col0\" class=\"col_heading level0 col0\" >2</th>\n",
       "      <th id=\"T_ef8c2_level0_col1\" class=\"col_heading level0 col1\" >3</th>\n",
       "      <th id=\"T_ef8c2_level0_col2\" class=\"col_heading level0 col2\" >4</th>\n",
       "      <th id=\"T_ef8c2_level0_col3\" class=\"col_heading level0 col3\" >5</th>\n",
       "      <th id=\"T_ef8c2_level0_col4\" class=\"col_heading level0 col4\" >6</th>\n",
       "      <th id=\"T_ef8c2_level0_col5\" class=\"col_heading level0 col5\" >7</th>\n",
       "      <th id=\"T_ef8c2_level0_col6\" class=\"col_heading level0 col6\" >8</th>\n",
       "      <th id=\"T_ef8c2_level0_col7\" class=\"col_heading level0 col7\" >9</th>\n",
       "      <th id=\"T_ef8c2_level0_col8\" class=\"col_heading level0 col8\" >10</th>\n",
       "      <th id=\"T_ef8c2_level0_col9\" class=\"col_heading level0 col9\" >11</th>\n",
       "      <th id=\"T_ef8c2_level0_col10\" class=\"col_heading level0 col10\" >12</th>\n",
       "      <th id=\"T_ef8c2_level0_col11\" class=\"col_heading level0 col11\" >13</th>\n",
       "      <th id=\"T_ef8c2_level0_col12\" class=\"col_heading level0 col12\" >14</th>\n",
       "      <th id=\"T_ef8c2_level0_col13\" class=\"col_heading level0 col13\" >15</th>\n",
       "      <th id=\"T_ef8c2_level0_col14\" class=\"col_heading level0 col14\" >16</th>\n",
       "      <th id=\"T_ef8c2_level0_col15\" class=\"col_heading level0 col15\" >17</th>\n",
       "      <th id=\"T_ef8c2_level0_col16\" class=\"col_heading level0 col16\" >18</th>\n",
       "      <th id=\"T_ef8c2_level0_col17\" class=\"col_heading level0 col17\" >19</th>\n",
       "      <th id=\"T_ef8c2_level0_col18\" class=\"col_heading level0 col18\" >20</th>\n",
       "      <th id=\"T_ef8c2_level0_col19\" class=\"col_heading level0 col19\" >21</th>\n",
       "      <th id=\"T_ef8c2_level0_col20\" class=\"col_heading level0 col20\" >22</th>\n",
       "      <th id=\"T_ef8c2_level0_col21\" class=\"col_heading level0 col21\" >23</th>\n",
       "      <th id=\"T_ef8c2_level0_col22\" class=\"col_heading level0 col22\" >24</th>\n",
       "      <th id=\"T_ef8c2_level0_col23\" class=\"col_heading level0 col23\" >25</th>\n",
       "      <th id=\"T_ef8c2_level0_col24\" class=\"col_heading level0 col24\" >26</th>\n",
       "      <th id=\"T_ef8c2_level0_col25\" class=\"col_heading level0 col25\" >27</th>\n",
       "      <th id=\"T_ef8c2_level0_col26\" class=\"col_heading level0 col26\" >28</th>\n",
       "      <th id=\"T_ef8c2_level0_col27\" class=\"col_heading level0 col27\" >29</th>\n",
       "      <th id=\"T_ef8c2_level0_col28\" class=\"col_heading level0 col28\" >30</th>\n",
       "    </tr>\n",
       "  </thead>\n",
       "  <tbody>\n",
       "    <tr>\n",
       "      <th id=\"T_ef8c2_level0_row0\" class=\"row_heading level0 row0\" >KMeans:</th>\n",
       "      <td id=\"T_ef8c2_row0_col0\" class=\"data row0 col0\" >0.382024</td>\n",
       "      <td id=\"T_ef8c2_row0_col1\" class=\"data row0 col1\" >0.437862</td>\n",
       "      <td id=\"T_ef8c2_row0_col2\" class=\"data row0 col2\" >0.441842</td>\n",
       "      <td id=\"T_ef8c2_row0_col3\" class=\"data row0 col3\" >0.468124</td>\n",
       "      <td id=\"T_ef8c2_row0_col4\" class=\"data row0 col4\" >0.491189</td>\n",
       "      <td id=\"T_ef8c2_row0_col5\" class=\"data row0 col5\" >0.516383</td>\n",
       "      <td id=\"T_ef8c2_row0_col6\" class=\"data row0 col6\" >0.511427</td>\n",
       "      <td id=\"T_ef8c2_row0_col7\" class=\"data row0 col7\" >0.522348</td>\n",
       "      <td id=\"T_ef8c2_row0_col8\" class=\"data row0 col8\" >0.529936</td>\n",
       "      <td id=\"T_ef8c2_row0_col9\" class=\"data row0 col9\" >0.525791</td>\n",
       "      <td id=\"T_ef8c2_row0_col10\" class=\"data row0 col10\" >0.521021</td>\n",
       "      <td id=\"T_ef8c2_row0_col11\" class=\"data row0 col11\" >0.525206</td>\n",
       "      <td id=\"T_ef8c2_row0_col12\" class=\"data row0 col12\" >0.514086</td>\n",
       "      <td id=\"T_ef8c2_row0_col13\" class=\"data row0 col13\" >0.526977</td>\n",
       "      <td id=\"T_ef8c2_row0_col14\" class=\"data row0 col14\" >0.539219</td>\n",
       "      <td id=\"T_ef8c2_row0_col15\" class=\"data row0 col15\" >0.551204</td>\n",
       "      <td id=\"T_ef8c2_row0_col16\" class=\"data row0 col16\" >0.542952</td>\n",
       "      <td id=\"T_ef8c2_row0_col17\" class=\"data row0 col17\" >0.547281</td>\n",
       "      <td id=\"T_ef8c2_row0_col18\" class=\"data row0 col18\" >0.556083</td>\n",
       "      <td id=\"T_ef8c2_row0_col19\" class=\"data row0 col19\" >0.564909</td>\n",
       "      <td id=\"T_ef8c2_row0_col20\" class=\"data row0 col20\" >0.568417</td>\n",
       "      <td id=\"T_ef8c2_row0_col21\" class=\"data row0 col21\" >0.581803</td>\n",
       "      <td id=\"T_ef8c2_row0_col22\" class=\"data row0 col22\" >0.584986</td>\n",
       "      <td id=\"T_ef8c2_row0_col23\" class=\"data row0 col23\" >0.592242</td>\n",
       "      <td id=\"T_ef8c2_row0_col24\" class=\"data row0 col24\" >0.585421</td>\n",
       "      <td id=\"T_ef8c2_row0_col25\" class=\"data row0 col25\" >0.572000</td>\n",
       "      <td id=\"T_ef8c2_row0_col26\" class=\"data row0 col26\" >0.579310</td>\n",
       "      <td id=\"T_ef8c2_row0_col27\" class=\"data row0 col27\" >0.597869</td>\n",
       "      <td id=\"T_ef8c2_row0_col28\" class=\"data row0 col28\" >0.582951</td>\n",
       "    </tr>\n",
       "    <tr>\n",
       "      <th id=\"T_ef8c2_level0_row1\" class=\"row_heading level0 row1\" >GMM</th>\n",
       "      <td id=\"T_ef8c2_row1_col0\" class=\"data row1 col0\" >0.344133</td>\n",
       "      <td id=\"T_ef8c2_row1_col1\" class=\"data row1 col1\" >0.408239</td>\n",
       "      <td id=\"T_ef8c2_row1_col2\" class=\"data row1 col2\" >0.383221</td>\n",
       "      <td id=\"T_ef8c2_row1_col3\" class=\"data row1 col3\" >0.397906</td>\n",
       "      <td id=\"T_ef8c2_row1_col4\" class=\"data row1 col4\" >0.439133</td>\n",
       "      <td id=\"T_ef8c2_row1_col5\" class=\"data row1 col5\" >0.453193</td>\n",
       "      <td id=\"T_ef8c2_row1_col6\" class=\"data row1 col6\" >0.408371</td>\n",
       "      <td id=\"T_ef8c2_row1_col7\" class=\"data row1 col7\" >0.412431</td>\n",
       "      <td id=\"T_ef8c2_row1_col8\" class=\"data row1 col8\" >0.495997</td>\n",
       "      <td id=\"T_ef8c2_row1_col9\" class=\"data row1 col9\" >0.487362</td>\n",
       "      <td id=\"T_ef8c2_row1_col10\" class=\"data row1 col10\" >0.426587</td>\n",
       "      <td id=\"T_ef8c2_row1_col11\" class=\"data row1 col11\" >0.456332</td>\n",
       "      <td id=\"T_ef8c2_row1_col12\" class=\"data row1 col12\" >0.453063</td>\n",
       "      <td id=\"T_ef8c2_row1_col13\" class=\"data row1 col13\" >0.475974</td>\n",
       "      <td id=\"T_ef8c2_row1_col14\" class=\"data row1 col14\" >0.442685</td>\n",
       "      <td id=\"T_ef8c2_row1_col15\" class=\"data row1 col15\" >0.437730</td>\n",
       "      <td id=\"T_ef8c2_row1_col16\" class=\"data row1 col16\" >0.450556</td>\n",
       "      <td id=\"T_ef8c2_row1_col17\" class=\"data row1 col17\" >0.489890</td>\n",
       "      <td id=\"T_ef8c2_row1_col18\" class=\"data row1 col18\" >0.475667</td>\n",
       "      <td id=\"T_ef8c2_row1_col19\" class=\"data row1 col19\" >0.512089</td>\n",
       "      <td id=\"T_ef8c2_row1_col20\" class=\"data row1 col20\" >0.515198</td>\n",
       "      <td id=\"T_ef8c2_row1_col21\" class=\"data row1 col21\" >0.518774</td>\n",
       "      <td id=\"T_ef8c2_row1_col22\" class=\"data row1 col22\" >0.534382</td>\n",
       "      <td id=\"T_ef8c2_row1_col23\" class=\"data row1 col23\" >0.546374</td>\n",
       "      <td id=\"T_ef8c2_row1_col24\" class=\"data row1 col24\" >0.554246</td>\n",
       "      <td id=\"T_ef8c2_row1_col25\" class=\"data row1 col25\" >0.506184</td>\n",
       "      <td id=\"T_ef8c2_row1_col26\" class=\"data row1 col26\" >0.564443</td>\n",
       "      <td id=\"T_ef8c2_row1_col27\" class=\"data row1 col27\" >0.569910</td>\n",
       "      <td id=\"T_ef8c2_row1_col28\" class=\"data row1 col28\" >0.527885</td>\n",
       "    </tr>\n",
       "    <tr>\n",
       "      <th id=\"T_ef8c2_level0_row2\" class=\"row_heading level0 row2\" >HC</th>\n",
       "      <td id=\"T_ef8c2_row2_col0\" class=\"data row2 col0\" >0.380203</td>\n",
       "      <td id=\"T_ef8c2_row2_col1\" class=\"data row2 col1\" >0.403636</td>\n",
       "      <td id=\"T_ef8c2_row2_col2\" class=\"data row2 col2\" >0.443598</td>\n",
       "      <td id=\"T_ef8c2_row2_col3\" class=\"data row2 col3\" >0.450081</td>\n",
       "      <td id=\"T_ef8c2_row2_col4\" class=\"data row2 col4\" >0.474936</td>\n",
       "      <td id=\"T_ef8c2_row2_col5\" class=\"data row2 col5\" >0.483351</td>\n",
       "      <td id=\"T_ef8c2_row2_col6\" class=\"data row2 col6\" >0.472340</td>\n",
       "      <td id=\"T_ef8c2_row2_col7\" class=\"data row2 col7\" >0.484496</td>\n",
       "      <td id=\"T_ef8c2_row2_col8\" class=\"data row2 col8\" >0.511369</td>\n",
       "      <td id=\"T_ef8c2_row2_col9\" class=\"data row2 col9\" >0.522224</td>\n",
       "      <td id=\"T_ef8c2_row2_col10\" class=\"data row2 col10\" >0.509800</td>\n",
       "      <td id=\"T_ef8c2_row2_col11\" class=\"data row2 col11\" >0.493302</td>\n",
       "      <td id=\"T_ef8c2_row2_col12\" class=\"data row2 col12\" >0.500512</td>\n",
       "      <td id=\"T_ef8c2_row2_col13\" class=\"data row2 col13\" >0.518540</td>\n",
       "      <td id=\"T_ef8c2_row2_col14\" class=\"data row2 col14\" >0.530405</td>\n",
       "      <td id=\"T_ef8c2_row2_col15\" class=\"data row2 col15\" >0.540374</td>\n",
       "      <td id=\"T_ef8c2_row2_col16\" class=\"data row2 col16\" >0.546310</td>\n",
       "      <td id=\"T_ef8c2_row2_col17\" class=\"data row2 col17\" >0.551858</td>\n",
       "      <td id=\"T_ef8c2_row2_col18\" class=\"data row2 col18\" >0.562549</td>\n",
       "      <td id=\"T_ef8c2_row2_col19\" class=\"data row2 col19\" >0.552073</td>\n",
       "      <td id=\"T_ef8c2_row2_col20\" class=\"data row2 col20\" >0.557595</td>\n",
       "      <td id=\"T_ef8c2_row2_col21\" class=\"data row2 col21\" >0.570773</td>\n",
       "      <td id=\"T_ef8c2_row2_col22\" class=\"data row2 col22\" >0.569033</td>\n",
       "      <td id=\"T_ef8c2_row2_col23\" class=\"data row2 col23\" >0.574820</td>\n",
       "      <td id=\"T_ef8c2_row2_col24\" class=\"data row2 col24\" >0.580765</td>\n",
       "      <td id=\"T_ef8c2_row2_col25\" class=\"data row2 col25\" >0.587373</td>\n",
       "      <td id=\"T_ef8c2_row2_col26\" class=\"data row2 col26\" >0.593393</td>\n",
       "      <td id=\"T_ef8c2_row2_col27\" class=\"data row2 col27\" >0.576684</td>\n",
       "      <td id=\"T_ef8c2_row2_col28\" class=\"data row2 col28\" >0.584593</td>\n",
       "    </tr>\n",
       "  </tbody>\n",
       "</table>\n"
      ],
      "text/plain": [
       "<pandas.io.formats.style.Styler at 0x7fd94819ac10>"
      ]
     },
     "execution_count": 48,
     "metadata": {},
     "output_type": "execute_result"
    }
   ],
   "source": [
    "## Results - Tree Based Embedding\n",
    "df_results = pd.DataFrame({'KMeans:': kmeans_sil,\n",
    "                           'GMM': gmm_sil,\n",
    "                           'HC': hc_sil}\n",
    "                           ).T\n",
    "\n",
    "df_results.columns = clusters\n",
    "df_results.style.highlight_max(color = 'lightgreen', axis = 1)"
   ]
  },
  {
   "cell_type": "code",
   "execution_count": 49,
   "id": "01e3a7ab",
   "metadata": {
    "ExecuteTime": {
     "end_time": "2022-04-24T13:30:12.345693Z",
     "start_time": "2022-04-24T13:30:12.333527Z"
    },
    "cell_style": "split"
   },
   "outputs": [
    {
     "data": {
      "text/html": [
       "<style type=\"text/css\">\n",
       "#T_ddd12_row0_col27, #T_ddd12_row1_col27, #T_ddd12_row2_col26 {\n",
       "  background-color: lightgreen;\n",
       "}\n",
       "</style>\n",
       "<table id=\"T_ddd12\">\n",
       "  <thead>\n",
       "    <tr>\n",
       "      <th class=\"blank level0\" >&nbsp;</th>\n",
       "      <th id=\"T_ddd12_level0_col0\" class=\"col_heading level0 col0\" >2</th>\n",
       "      <th id=\"T_ddd12_level0_col1\" class=\"col_heading level0 col1\" >3</th>\n",
       "      <th id=\"T_ddd12_level0_col2\" class=\"col_heading level0 col2\" >4</th>\n",
       "      <th id=\"T_ddd12_level0_col3\" class=\"col_heading level0 col3\" >5</th>\n",
       "      <th id=\"T_ddd12_level0_col4\" class=\"col_heading level0 col4\" >6</th>\n",
       "      <th id=\"T_ddd12_level0_col5\" class=\"col_heading level0 col5\" >7</th>\n",
       "      <th id=\"T_ddd12_level0_col6\" class=\"col_heading level0 col6\" >8</th>\n",
       "      <th id=\"T_ddd12_level0_col7\" class=\"col_heading level0 col7\" >9</th>\n",
       "      <th id=\"T_ddd12_level0_col8\" class=\"col_heading level0 col8\" >10</th>\n",
       "      <th id=\"T_ddd12_level0_col9\" class=\"col_heading level0 col9\" >11</th>\n",
       "      <th id=\"T_ddd12_level0_col10\" class=\"col_heading level0 col10\" >12</th>\n",
       "      <th id=\"T_ddd12_level0_col11\" class=\"col_heading level0 col11\" >13</th>\n",
       "      <th id=\"T_ddd12_level0_col12\" class=\"col_heading level0 col12\" >14</th>\n",
       "      <th id=\"T_ddd12_level0_col13\" class=\"col_heading level0 col13\" >15</th>\n",
       "      <th id=\"T_ddd12_level0_col14\" class=\"col_heading level0 col14\" >16</th>\n",
       "      <th id=\"T_ddd12_level0_col15\" class=\"col_heading level0 col15\" >17</th>\n",
       "      <th id=\"T_ddd12_level0_col16\" class=\"col_heading level0 col16\" >18</th>\n",
       "      <th id=\"T_ddd12_level0_col17\" class=\"col_heading level0 col17\" >19</th>\n",
       "      <th id=\"T_ddd12_level0_col18\" class=\"col_heading level0 col18\" >20</th>\n",
       "      <th id=\"T_ddd12_level0_col19\" class=\"col_heading level0 col19\" >21</th>\n",
       "      <th id=\"T_ddd12_level0_col20\" class=\"col_heading level0 col20\" >22</th>\n",
       "      <th id=\"T_ddd12_level0_col21\" class=\"col_heading level0 col21\" >23</th>\n",
       "      <th id=\"T_ddd12_level0_col22\" class=\"col_heading level0 col22\" >24</th>\n",
       "      <th id=\"T_ddd12_level0_col23\" class=\"col_heading level0 col23\" >25</th>\n",
       "      <th id=\"T_ddd12_level0_col24\" class=\"col_heading level0 col24\" >26</th>\n",
       "      <th id=\"T_ddd12_level0_col25\" class=\"col_heading level0 col25\" >27</th>\n",
       "      <th id=\"T_ddd12_level0_col26\" class=\"col_heading level0 col26\" >28</th>\n",
       "      <th id=\"T_ddd12_level0_col27\" class=\"col_heading level0 col27\" >29</th>\n",
       "      <th id=\"T_ddd12_level0_col28\" class=\"col_heading level0 col28\" >30</th>\n",
       "    </tr>\n",
       "  </thead>\n",
       "  <tbody>\n",
       "    <tr>\n",
       "      <th id=\"T_ddd12_level0_row0\" class=\"row_heading level0 row0\" >KMeans:</th>\n",
       "      <td id=\"T_ddd12_row0_col0\" class=\"data row0 col0\" >0.382024</td>\n",
       "      <td id=\"T_ddd12_row0_col1\" class=\"data row0 col1\" >0.437862</td>\n",
       "      <td id=\"T_ddd12_row0_col2\" class=\"data row0 col2\" >0.441842</td>\n",
       "      <td id=\"T_ddd12_row0_col3\" class=\"data row0 col3\" >0.468124</td>\n",
       "      <td id=\"T_ddd12_row0_col4\" class=\"data row0 col4\" >0.491189</td>\n",
       "      <td id=\"T_ddd12_row0_col5\" class=\"data row0 col5\" >0.516383</td>\n",
       "      <td id=\"T_ddd12_row0_col6\" class=\"data row0 col6\" >0.511427</td>\n",
       "      <td id=\"T_ddd12_row0_col7\" class=\"data row0 col7\" >0.522348</td>\n",
       "      <td id=\"T_ddd12_row0_col8\" class=\"data row0 col8\" >0.529936</td>\n",
       "      <td id=\"T_ddd12_row0_col9\" class=\"data row0 col9\" >0.525791</td>\n",
       "      <td id=\"T_ddd12_row0_col10\" class=\"data row0 col10\" >0.521021</td>\n",
       "      <td id=\"T_ddd12_row0_col11\" class=\"data row0 col11\" >0.525206</td>\n",
       "      <td id=\"T_ddd12_row0_col12\" class=\"data row0 col12\" >0.514086</td>\n",
       "      <td id=\"T_ddd12_row0_col13\" class=\"data row0 col13\" >0.526977</td>\n",
       "      <td id=\"T_ddd12_row0_col14\" class=\"data row0 col14\" >0.539219</td>\n",
       "      <td id=\"T_ddd12_row0_col15\" class=\"data row0 col15\" >0.551204</td>\n",
       "      <td id=\"T_ddd12_row0_col16\" class=\"data row0 col16\" >0.542952</td>\n",
       "      <td id=\"T_ddd12_row0_col17\" class=\"data row0 col17\" >0.547281</td>\n",
       "      <td id=\"T_ddd12_row0_col18\" class=\"data row0 col18\" >0.556083</td>\n",
       "      <td id=\"T_ddd12_row0_col19\" class=\"data row0 col19\" >0.564909</td>\n",
       "      <td id=\"T_ddd12_row0_col20\" class=\"data row0 col20\" >0.568417</td>\n",
       "      <td id=\"T_ddd12_row0_col21\" class=\"data row0 col21\" >0.581803</td>\n",
       "      <td id=\"T_ddd12_row0_col22\" class=\"data row0 col22\" >0.584986</td>\n",
       "      <td id=\"T_ddd12_row0_col23\" class=\"data row0 col23\" >0.592242</td>\n",
       "      <td id=\"T_ddd12_row0_col24\" class=\"data row0 col24\" >0.585421</td>\n",
       "      <td id=\"T_ddd12_row0_col25\" class=\"data row0 col25\" >0.572000</td>\n",
       "      <td id=\"T_ddd12_row0_col26\" class=\"data row0 col26\" >0.579310</td>\n",
       "      <td id=\"T_ddd12_row0_col27\" class=\"data row0 col27\" >0.597869</td>\n",
       "      <td id=\"T_ddd12_row0_col28\" class=\"data row0 col28\" >0.582951</td>\n",
       "    </tr>\n",
       "    <tr>\n",
       "      <th id=\"T_ddd12_level0_row1\" class=\"row_heading level0 row1\" >GMM</th>\n",
       "      <td id=\"T_ddd12_row1_col0\" class=\"data row1 col0\" >0.344133</td>\n",
       "      <td id=\"T_ddd12_row1_col1\" class=\"data row1 col1\" >0.408239</td>\n",
       "      <td id=\"T_ddd12_row1_col2\" class=\"data row1 col2\" >0.383221</td>\n",
       "      <td id=\"T_ddd12_row1_col3\" class=\"data row1 col3\" >0.397906</td>\n",
       "      <td id=\"T_ddd12_row1_col4\" class=\"data row1 col4\" >0.439133</td>\n",
       "      <td id=\"T_ddd12_row1_col5\" class=\"data row1 col5\" >0.453193</td>\n",
       "      <td id=\"T_ddd12_row1_col6\" class=\"data row1 col6\" >0.408371</td>\n",
       "      <td id=\"T_ddd12_row1_col7\" class=\"data row1 col7\" >0.412431</td>\n",
       "      <td id=\"T_ddd12_row1_col8\" class=\"data row1 col8\" >0.495997</td>\n",
       "      <td id=\"T_ddd12_row1_col9\" class=\"data row1 col9\" >0.487362</td>\n",
       "      <td id=\"T_ddd12_row1_col10\" class=\"data row1 col10\" >0.426587</td>\n",
       "      <td id=\"T_ddd12_row1_col11\" class=\"data row1 col11\" >0.456332</td>\n",
       "      <td id=\"T_ddd12_row1_col12\" class=\"data row1 col12\" >0.453063</td>\n",
       "      <td id=\"T_ddd12_row1_col13\" class=\"data row1 col13\" >0.475974</td>\n",
       "      <td id=\"T_ddd12_row1_col14\" class=\"data row1 col14\" >0.442685</td>\n",
       "      <td id=\"T_ddd12_row1_col15\" class=\"data row1 col15\" >0.437730</td>\n",
       "      <td id=\"T_ddd12_row1_col16\" class=\"data row1 col16\" >0.450556</td>\n",
       "      <td id=\"T_ddd12_row1_col17\" class=\"data row1 col17\" >0.489890</td>\n",
       "      <td id=\"T_ddd12_row1_col18\" class=\"data row1 col18\" >0.475667</td>\n",
       "      <td id=\"T_ddd12_row1_col19\" class=\"data row1 col19\" >0.512089</td>\n",
       "      <td id=\"T_ddd12_row1_col20\" class=\"data row1 col20\" >0.515198</td>\n",
       "      <td id=\"T_ddd12_row1_col21\" class=\"data row1 col21\" >0.518774</td>\n",
       "      <td id=\"T_ddd12_row1_col22\" class=\"data row1 col22\" >0.534382</td>\n",
       "      <td id=\"T_ddd12_row1_col23\" class=\"data row1 col23\" >0.546374</td>\n",
       "      <td id=\"T_ddd12_row1_col24\" class=\"data row1 col24\" >0.554246</td>\n",
       "      <td id=\"T_ddd12_row1_col25\" class=\"data row1 col25\" >0.506184</td>\n",
       "      <td id=\"T_ddd12_row1_col26\" class=\"data row1 col26\" >0.564443</td>\n",
       "      <td id=\"T_ddd12_row1_col27\" class=\"data row1 col27\" >0.569910</td>\n",
       "      <td id=\"T_ddd12_row1_col28\" class=\"data row1 col28\" >0.527885</td>\n",
       "    </tr>\n",
       "    <tr>\n",
       "      <th id=\"T_ddd12_level0_row2\" class=\"row_heading level0 row2\" >HC</th>\n",
       "      <td id=\"T_ddd12_row2_col0\" class=\"data row2 col0\" >0.380203</td>\n",
       "      <td id=\"T_ddd12_row2_col1\" class=\"data row2 col1\" >0.403636</td>\n",
       "      <td id=\"T_ddd12_row2_col2\" class=\"data row2 col2\" >0.443598</td>\n",
       "      <td id=\"T_ddd12_row2_col3\" class=\"data row2 col3\" >0.450081</td>\n",
       "      <td id=\"T_ddd12_row2_col4\" class=\"data row2 col4\" >0.474936</td>\n",
       "      <td id=\"T_ddd12_row2_col5\" class=\"data row2 col5\" >0.483351</td>\n",
       "      <td id=\"T_ddd12_row2_col6\" class=\"data row2 col6\" >0.472340</td>\n",
       "      <td id=\"T_ddd12_row2_col7\" class=\"data row2 col7\" >0.484496</td>\n",
       "      <td id=\"T_ddd12_row2_col8\" class=\"data row2 col8\" >0.511369</td>\n",
       "      <td id=\"T_ddd12_row2_col9\" class=\"data row2 col9\" >0.522224</td>\n",
       "      <td id=\"T_ddd12_row2_col10\" class=\"data row2 col10\" >0.509800</td>\n",
       "      <td id=\"T_ddd12_row2_col11\" class=\"data row2 col11\" >0.493302</td>\n",
       "      <td id=\"T_ddd12_row2_col12\" class=\"data row2 col12\" >0.500512</td>\n",
       "      <td id=\"T_ddd12_row2_col13\" class=\"data row2 col13\" >0.518540</td>\n",
       "      <td id=\"T_ddd12_row2_col14\" class=\"data row2 col14\" >0.530405</td>\n",
       "      <td id=\"T_ddd12_row2_col15\" class=\"data row2 col15\" >0.540374</td>\n",
       "      <td id=\"T_ddd12_row2_col16\" class=\"data row2 col16\" >0.546310</td>\n",
       "      <td id=\"T_ddd12_row2_col17\" class=\"data row2 col17\" >0.551858</td>\n",
       "      <td id=\"T_ddd12_row2_col18\" class=\"data row2 col18\" >0.562549</td>\n",
       "      <td id=\"T_ddd12_row2_col19\" class=\"data row2 col19\" >0.552073</td>\n",
       "      <td id=\"T_ddd12_row2_col20\" class=\"data row2 col20\" >0.557595</td>\n",
       "      <td id=\"T_ddd12_row2_col21\" class=\"data row2 col21\" >0.570773</td>\n",
       "      <td id=\"T_ddd12_row2_col22\" class=\"data row2 col22\" >0.569033</td>\n",
       "      <td id=\"T_ddd12_row2_col23\" class=\"data row2 col23\" >0.574820</td>\n",
       "      <td id=\"T_ddd12_row2_col24\" class=\"data row2 col24\" >0.580765</td>\n",
       "      <td id=\"T_ddd12_row2_col25\" class=\"data row2 col25\" >0.587373</td>\n",
       "      <td id=\"T_ddd12_row2_col26\" class=\"data row2 col26\" >0.593393</td>\n",
       "      <td id=\"T_ddd12_row2_col27\" class=\"data row2 col27\" >0.576684</td>\n",
       "      <td id=\"T_ddd12_row2_col28\" class=\"data row2 col28\" >0.584593</td>\n",
       "    </tr>\n",
       "  </tbody>\n",
       "</table>\n"
      ],
      "text/plain": [
       "<pandas.io.formats.style.Styler at 0x7fd948a24ac0>"
      ]
     },
     "execution_count": 49,
     "metadata": {},
     "output_type": "execute_result"
    }
   ],
   "source": [
    "## Results - UMAP Embedding\n",
    "df_results = pd.DataFrame({'KMeans:': kmeans_sil,\n",
    "                           'GMM': gmm_sil,\n",
    "                           'HC': hc_sil}\n",
    "                           ).T\n",
    "\n",
    "df_results.columns = clusters\n",
    "df_results.style.highlight_max(color = 'lightgreen', axis = 1)"
   ]
  },
  {
   "cell_type": "code",
   "execution_count": 50,
   "id": "51d2e6ba",
   "metadata": {
    "ExecuteTime": {
     "end_time": "2022-04-24T13:30:12.357446Z",
     "start_time": "2022-04-24T13:30:12.347262Z"
    },
    "cell_style": "split"
   },
   "outputs": [
    {
     "data": {
      "text/html": [
       "<style type=\"text/css\">\n",
       "#T_2be24_row0_col27, #T_2be24_row1_col27, #T_2be24_row2_col26 {\n",
       "  background-color: lightgreen;\n",
       "}\n",
       "</style>\n",
       "<table id=\"T_2be24\">\n",
       "  <thead>\n",
       "    <tr>\n",
       "      <th class=\"blank level0\" >&nbsp;</th>\n",
       "      <th id=\"T_2be24_level0_col0\" class=\"col_heading level0 col0\" >2</th>\n",
       "      <th id=\"T_2be24_level0_col1\" class=\"col_heading level0 col1\" >3</th>\n",
       "      <th id=\"T_2be24_level0_col2\" class=\"col_heading level0 col2\" >4</th>\n",
       "      <th id=\"T_2be24_level0_col3\" class=\"col_heading level0 col3\" >5</th>\n",
       "      <th id=\"T_2be24_level0_col4\" class=\"col_heading level0 col4\" >6</th>\n",
       "      <th id=\"T_2be24_level0_col5\" class=\"col_heading level0 col5\" >7</th>\n",
       "      <th id=\"T_2be24_level0_col6\" class=\"col_heading level0 col6\" >8</th>\n",
       "      <th id=\"T_2be24_level0_col7\" class=\"col_heading level0 col7\" >9</th>\n",
       "      <th id=\"T_2be24_level0_col8\" class=\"col_heading level0 col8\" >10</th>\n",
       "      <th id=\"T_2be24_level0_col9\" class=\"col_heading level0 col9\" >11</th>\n",
       "      <th id=\"T_2be24_level0_col10\" class=\"col_heading level0 col10\" >12</th>\n",
       "      <th id=\"T_2be24_level0_col11\" class=\"col_heading level0 col11\" >13</th>\n",
       "      <th id=\"T_2be24_level0_col12\" class=\"col_heading level0 col12\" >14</th>\n",
       "      <th id=\"T_2be24_level0_col13\" class=\"col_heading level0 col13\" >15</th>\n",
       "      <th id=\"T_2be24_level0_col14\" class=\"col_heading level0 col14\" >16</th>\n",
       "      <th id=\"T_2be24_level0_col15\" class=\"col_heading level0 col15\" >17</th>\n",
       "      <th id=\"T_2be24_level0_col16\" class=\"col_heading level0 col16\" >18</th>\n",
       "      <th id=\"T_2be24_level0_col17\" class=\"col_heading level0 col17\" >19</th>\n",
       "      <th id=\"T_2be24_level0_col18\" class=\"col_heading level0 col18\" >20</th>\n",
       "      <th id=\"T_2be24_level0_col19\" class=\"col_heading level0 col19\" >21</th>\n",
       "      <th id=\"T_2be24_level0_col20\" class=\"col_heading level0 col20\" >22</th>\n",
       "      <th id=\"T_2be24_level0_col21\" class=\"col_heading level0 col21\" >23</th>\n",
       "      <th id=\"T_2be24_level0_col22\" class=\"col_heading level0 col22\" >24</th>\n",
       "      <th id=\"T_2be24_level0_col23\" class=\"col_heading level0 col23\" >25</th>\n",
       "      <th id=\"T_2be24_level0_col24\" class=\"col_heading level0 col24\" >26</th>\n",
       "      <th id=\"T_2be24_level0_col25\" class=\"col_heading level0 col25\" >27</th>\n",
       "      <th id=\"T_2be24_level0_col26\" class=\"col_heading level0 col26\" >28</th>\n",
       "      <th id=\"T_2be24_level0_col27\" class=\"col_heading level0 col27\" >29</th>\n",
       "      <th id=\"T_2be24_level0_col28\" class=\"col_heading level0 col28\" >30</th>\n",
       "    </tr>\n",
       "  </thead>\n",
       "  <tbody>\n",
       "    <tr>\n",
       "      <th id=\"T_2be24_level0_row0\" class=\"row_heading level0 row0\" >KMeans:</th>\n",
       "      <td id=\"T_2be24_row0_col0\" class=\"data row0 col0\" >0.382024</td>\n",
       "      <td id=\"T_2be24_row0_col1\" class=\"data row0 col1\" >0.437862</td>\n",
       "      <td id=\"T_2be24_row0_col2\" class=\"data row0 col2\" >0.441842</td>\n",
       "      <td id=\"T_2be24_row0_col3\" class=\"data row0 col3\" >0.468124</td>\n",
       "      <td id=\"T_2be24_row0_col4\" class=\"data row0 col4\" >0.491189</td>\n",
       "      <td id=\"T_2be24_row0_col5\" class=\"data row0 col5\" >0.516383</td>\n",
       "      <td id=\"T_2be24_row0_col6\" class=\"data row0 col6\" >0.511427</td>\n",
       "      <td id=\"T_2be24_row0_col7\" class=\"data row0 col7\" >0.522348</td>\n",
       "      <td id=\"T_2be24_row0_col8\" class=\"data row0 col8\" >0.529936</td>\n",
       "      <td id=\"T_2be24_row0_col9\" class=\"data row0 col9\" >0.525791</td>\n",
       "      <td id=\"T_2be24_row0_col10\" class=\"data row0 col10\" >0.521021</td>\n",
       "      <td id=\"T_2be24_row0_col11\" class=\"data row0 col11\" >0.525206</td>\n",
       "      <td id=\"T_2be24_row0_col12\" class=\"data row0 col12\" >0.514086</td>\n",
       "      <td id=\"T_2be24_row0_col13\" class=\"data row0 col13\" >0.526977</td>\n",
       "      <td id=\"T_2be24_row0_col14\" class=\"data row0 col14\" >0.539219</td>\n",
       "      <td id=\"T_2be24_row0_col15\" class=\"data row0 col15\" >0.551204</td>\n",
       "      <td id=\"T_2be24_row0_col16\" class=\"data row0 col16\" >0.542952</td>\n",
       "      <td id=\"T_2be24_row0_col17\" class=\"data row0 col17\" >0.547281</td>\n",
       "      <td id=\"T_2be24_row0_col18\" class=\"data row0 col18\" >0.556083</td>\n",
       "      <td id=\"T_2be24_row0_col19\" class=\"data row0 col19\" >0.564909</td>\n",
       "      <td id=\"T_2be24_row0_col20\" class=\"data row0 col20\" >0.568417</td>\n",
       "      <td id=\"T_2be24_row0_col21\" class=\"data row0 col21\" >0.581803</td>\n",
       "      <td id=\"T_2be24_row0_col22\" class=\"data row0 col22\" >0.584986</td>\n",
       "      <td id=\"T_2be24_row0_col23\" class=\"data row0 col23\" >0.592242</td>\n",
       "      <td id=\"T_2be24_row0_col24\" class=\"data row0 col24\" >0.585421</td>\n",
       "      <td id=\"T_2be24_row0_col25\" class=\"data row0 col25\" >0.572000</td>\n",
       "      <td id=\"T_2be24_row0_col26\" class=\"data row0 col26\" >0.579310</td>\n",
       "      <td id=\"T_2be24_row0_col27\" class=\"data row0 col27\" >0.597869</td>\n",
       "      <td id=\"T_2be24_row0_col28\" class=\"data row0 col28\" >0.582951</td>\n",
       "    </tr>\n",
       "    <tr>\n",
       "      <th id=\"T_2be24_level0_row1\" class=\"row_heading level0 row1\" >GMM</th>\n",
       "      <td id=\"T_2be24_row1_col0\" class=\"data row1 col0\" >0.344133</td>\n",
       "      <td id=\"T_2be24_row1_col1\" class=\"data row1 col1\" >0.408239</td>\n",
       "      <td id=\"T_2be24_row1_col2\" class=\"data row1 col2\" >0.383221</td>\n",
       "      <td id=\"T_2be24_row1_col3\" class=\"data row1 col3\" >0.397906</td>\n",
       "      <td id=\"T_2be24_row1_col4\" class=\"data row1 col4\" >0.439133</td>\n",
       "      <td id=\"T_2be24_row1_col5\" class=\"data row1 col5\" >0.453193</td>\n",
       "      <td id=\"T_2be24_row1_col6\" class=\"data row1 col6\" >0.408371</td>\n",
       "      <td id=\"T_2be24_row1_col7\" class=\"data row1 col7\" >0.412431</td>\n",
       "      <td id=\"T_2be24_row1_col8\" class=\"data row1 col8\" >0.495997</td>\n",
       "      <td id=\"T_2be24_row1_col9\" class=\"data row1 col9\" >0.487362</td>\n",
       "      <td id=\"T_2be24_row1_col10\" class=\"data row1 col10\" >0.426587</td>\n",
       "      <td id=\"T_2be24_row1_col11\" class=\"data row1 col11\" >0.456332</td>\n",
       "      <td id=\"T_2be24_row1_col12\" class=\"data row1 col12\" >0.453063</td>\n",
       "      <td id=\"T_2be24_row1_col13\" class=\"data row1 col13\" >0.475974</td>\n",
       "      <td id=\"T_2be24_row1_col14\" class=\"data row1 col14\" >0.442685</td>\n",
       "      <td id=\"T_2be24_row1_col15\" class=\"data row1 col15\" >0.437730</td>\n",
       "      <td id=\"T_2be24_row1_col16\" class=\"data row1 col16\" >0.450556</td>\n",
       "      <td id=\"T_2be24_row1_col17\" class=\"data row1 col17\" >0.489890</td>\n",
       "      <td id=\"T_2be24_row1_col18\" class=\"data row1 col18\" >0.475667</td>\n",
       "      <td id=\"T_2be24_row1_col19\" class=\"data row1 col19\" >0.512089</td>\n",
       "      <td id=\"T_2be24_row1_col20\" class=\"data row1 col20\" >0.515198</td>\n",
       "      <td id=\"T_2be24_row1_col21\" class=\"data row1 col21\" >0.518774</td>\n",
       "      <td id=\"T_2be24_row1_col22\" class=\"data row1 col22\" >0.534382</td>\n",
       "      <td id=\"T_2be24_row1_col23\" class=\"data row1 col23\" >0.546374</td>\n",
       "      <td id=\"T_2be24_row1_col24\" class=\"data row1 col24\" >0.554246</td>\n",
       "      <td id=\"T_2be24_row1_col25\" class=\"data row1 col25\" >0.506184</td>\n",
       "      <td id=\"T_2be24_row1_col26\" class=\"data row1 col26\" >0.564443</td>\n",
       "      <td id=\"T_2be24_row1_col27\" class=\"data row1 col27\" >0.569910</td>\n",
       "      <td id=\"T_2be24_row1_col28\" class=\"data row1 col28\" >0.527885</td>\n",
       "    </tr>\n",
       "    <tr>\n",
       "      <th id=\"T_2be24_level0_row2\" class=\"row_heading level0 row2\" >HC</th>\n",
       "      <td id=\"T_2be24_row2_col0\" class=\"data row2 col0\" >0.380203</td>\n",
       "      <td id=\"T_2be24_row2_col1\" class=\"data row2 col1\" >0.403636</td>\n",
       "      <td id=\"T_2be24_row2_col2\" class=\"data row2 col2\" >0.443598</td>\n",
       "      <td id=\"T_2be24_row2_col3\" class=\"data row2 col3\" >0.450081</td>\n",
       "      <td id=\"T_2be24_row2_col4\" class=\"data row2 col4\" >0.474936</td>\n",
       "      <td id=\"T_2be24_row2_col5\" class=\"data row2 col5\" >0.483351</td>\n",
       "      <td id=\"T_2be24_row2_col6\" class=\"data row2 col6\" >0.472340</td>\n",
       "      <td id=\"T_2be24_row2_col7\" class=\"data row2 col7\" >0.484496</td>\n",
       "      <td id=\"T_2be24_row2_col8\" class=\"data row2 col8\" >0.511369</td>\n",
       "      <td id=\"T_2be24_row2_col9\" class=\"data row2 col9\" >0.522224</td>\n",
       "      <td id=\"T_2be24_row2_col10\" class=\"data row2 col10\" >0.509800</td>\n",
       "      <td id=\"T_2be24_row2_col11\" class=\"data row2 col11\" >0.493302</td>\n",
       "      <td id=\"T_2be24_row2_col12\" class=\"data row2 col12\" >0.500512</td>\n",
       "      <td id=\"T_2be24_row2_col13\" class=\"data row2 col13\" >0.518540</td>\n",
       "      <td id=\"T_2be24_row2_col14\" class=\"data row2 col14\" >0.530405</td>\n",
       "      <td id=\"T_2be24_row2_col15\" class=\"data row2 col15\" >0.540374</td>\n",
       "      <td id=\"T_2be24_row2_col16\" class=\"data row2 col16\" >0.546310</td>\n",
       "      <td id=\"T_2be24_row2_col17\" class=\"data row2 col17\" >0.551858</td>\n",
       "      <td id=\"T_2be24_row2_col18\" class=\"data row2 col18\" >0.562549</td>\n",
       "      <td id=\"T_2be24_row2_col19\" class=\"data row2 col19\" >0.552073</td>\n",
       "      <td id=\"T_2be24_row2_col20\" class=\"data row2 col20\" >0.557595</td>\n",
       "      <td id=\"T_2be24_row2_col21\" class=\"data row2 col21\" >0.570773</td>\n",
       "      <td id=\"T_2be24_row2_col22\" class=\"data row2 col22\" >0.569033</td>\n",
       "      <td id=\"T_2be24_row2_col23\" class=\"data row2 col23\" >0.574820</td>\n",
       "      <td id=\"T_2be24_row2_col24\" class=\"data row2 col24\" >0.580765</td>\n",
       "      <td id=\"T_2be24_row2_col25\" class=\"data row2 col25\" >0.587373</td>\n",
       "      <td id=\"T_2be24_row2_col26\" class=\"data row2 col26\" >0.593393</td>\n",
       "      <td id=\"T_2be24_row2_col27\" class=\"data row2 col27\" >0.576684</td>\n",
       "      <td id=\"T_2be24_row2_col28\" class=\"data row2 col28\" >0.584593</td>\n",
       "    </tr>\n",
       "  </tbody>\n",
       "</table>\n"
      ],
      "text/plain": [
       "<pandas.io.formats.style.Styler at 0x7fd948aa8070>"
      ]
     },
     "execution_count": 50,
     "metadata": {},
     "output_type": "execute_result"
    }
   ],
   "source": [
    "## Results - TSNE Embedding\n",
    "df_results = pd.DataFrame({'KMeans:': kmeans_sil,\n",
    "                           'GMM': gmm_sil,\n",
    "                           'HC': hc_sil}\n",
    "                           ).T\n",
    "\n",
    "df_results.columns = clusters\n",
    "df_results.style.highlight_max(color = 'lightgreen', axis = 1)"
   ]
  },
  {
   "cell_type": "markdown",
   "id": "electronic-release",
   "metadata": {},
   "source": [
    "# MACHINE LEARNING MODEL TRAINING"
   ]
  },
  {
   "cell_type": "code",
   "execution_count": 51,
   "id": "e1cb681f",
   "metadata": {
    "ExecuteTime": {
     "end_time": "2022-04-24T13:30:12.361759Z",
     "start_time": "2022-04-24T13:30:12.359593Z"
    }
   },
   "outputs": [],
   "source": [
    "# definition of the number of clusters K\n",
    "k = 9;"
   ]
  },
  {
   "cell_type": "markdown",
   "id": "stuffed-rally",
   "metadata": {},
   "source": [
    "## K-Means"
   ]
  },
  {
   "cell_type": "code",
   "execution_count": 52,
   "id": "recreational-talent",
   "metadata": {
    "ExecuteTime": {
     "end_time": "2022-04-24T13:30:12.364584Z",
     "start_time": "2022-04-24T13:30:12.362820Z"
    }
   },
   "outputs": [],
   "source": [
    "# # model definition\n",
    "# kmeans = c.KMeans(init = 'random', n_clusters = k, n_init = 100, max_iter = 300, random_state = 42)\n",
    "\n",
    "# # model training\n",
    "# kmeans.fit(X)\n",
    "\n",
    "# # clustering\n",
    "# labels = kmeans.labels_"
   ]
  },
  {
   "cell_type": "markdown",
   "id": "14b3fb9d",
   "metadata": {},
   "source": [
    "## GMM"
   ]
  },
  {
   "cell_type": "code",
   "execution_count": 53,
   "id": "photographic-space",
   "metadata": {
    "ExecuteTime": {
     "end_time": "2022-04-24T13:30:19.153109Z",
     "start_time": "2022-04-24T13:30:12.365934Z"
    }
   },
   "outputs": [],
   "source": [
    "# trying with GMM beacuse of its approach in the embedding space\n",
    "\n",
    "# model definition\n",
    "gmm_model = mx.GaussianMixture(n_components = k,n_init = 50, max_iter = 300 ,random_state=42)\n",
    "\n",
    "# model training\n",
    "gmm_model.fit(X)\n",
    "\n",
    "# model prediction\n",
    "labels = gmm_model.predict(X)"
   ]
  },
  {
   "cell_type": "markdown",
   "id": "veterinary-oxford",
   "metadata": {},
   "source": [
    "## Cluster Validation"
   ]
  },
  {
   "cell_type": "code",
   "execution_count": 54,
   "id": "recovered-algorithm",
   "metadata": {
    "ExecuteTime": {
     "end_time": "2022-04-24T13:30:19.666818Z",
     "start_time": "2022-04-24T13:30:19.154402Z"
    }
   },
   "outputs": [
    {
     "name": "stdout",
     "output_type": "stream",
     "text": [
      "SS score: 0.4598197638988495\n"
     ]
    }
   ],
   "source": [
    "# WSS (Within-cluster Sum of Square )\n",
    "# print('WSS score: {}'.format(kmeans.inertia_))\n",
    "\n",
    "# SS (Silhouette Score)\n",
    "print('SS score: {}'.format(m.silhouette_score(X, labels, metric = 'euclidean')))"
   ]
  },
  {
   "cell_type": "markdown",
   "id": "frequent-brooklyn",
   "metadata": {},
   "source": [
    "# CLUSTER ANALYSIS"
   ]
  },
  {
   "cell_type": "code",
   "execution_count": 55,
   "id": "2f06adc5",
   "metadata": {
    "ExecuteTime": {
     "end_time": "2022-04-24T13:30:19.670364Z",
     "start_time": "2022-04-24T13:30:19.668004Z"
    }
   },
   "outputs": [],
   "source": [
    "df9 = X.copy()\n",
    "df9['cluster'] = labels"
   ]
  },
  {
   "cell_type": "markdown",
   "id": "metric-genetics",
   "metadata": {},
   "source": [
    "## Visualization Inspection"
   ]
  },
  {
   "cell_type": "code",
   "execution_count": 56,
   "id": "2e4876a0",
   "metadata": {
    "ExecuteTime": {
     "end_time": "2022-04-24T13:30:20.126911Z",
     "start_time": "2022-04-24T13:30:19.671850Z"
    }
   },
   "outputs": [
    {
     "data": {
      "text/plain": [
       "<AxesSubplot:xlabel='embedding_X', ylabel='embedding_y'>"
      ]
     },
     "execution_count": 56,
     "metadata": {},
     "output_type": "execute_result"
    },
    {
     "data": {
      "image/png": "[encoded data removed]",
      "text/plain": [
       "<Figure size 432x288 with 1 Axes>"
      ]
     },
     "metadata": {
      "needs_background": "light"
     },
     "output_type": "display_data"
    }
   ],
   "source": [
    "# k = 9 for  KMeans\n",
    "sns.scatterplot(x = 'embedding_X', y = 'embedding_y', hue = 'cluster', data = df9, palette = 'deep')"
   ]
  },
  {
   "cell_type": "markdown",
   "id": "herbal-theology",
   "metadata": {},
   "source": [
    "## Cluster Profile"
   ]
  },
  {
   "cell_type": "code",
   "execution_count": 57,
   "id": "dental-nickname",
   "metadata": {
    "ExecuteTime": {
     "end_time": "2022-04-24T13:30:20.138833Z",
     "start_time": "2022-04-24T13:30:20.128168Z"
    }
   },
   "outputs": [
    {
     "data": {
      "text/html": [
       "<div>\n",
       "<style scoped>\n",
       "    .dataframe tbody tr th:only-of-type {\n",
       "        vertical-align: middle;\n",
       "    }\n",
       "\n",
       "    .dataframe tbody tr th {\n",
       "        vertical-align: top;\n",
       "    }\n",
       "\n",
       "    .dataframe thead th {\n",
       "        text-align: right;\n",
       "    }\n",
       "</style>\n",
       "<table border=\"1\" class=\"dataframe\">\n",
       "  <thead>\n",
       "    <tr style=\"text-align: right;\">\n",
       "      <th></th>\n",
       "      <th>customer_id</th>\n",
       "      <th>gross_revenue</th>\n",
       "      <th>recency_days</th>\n",
       "      <th>qty_invoice_no</th>\n",
       "      <th>qty_items</th>\n",
       "      <th>qty_products</th>\n",
       "      <th>frequency</th>\n",
       "      <th>qty_returns</th>\n",
       "      <th>cluster</th>\n",
       "    </tr>\n",
       "  </thead>\n",
       "  <tbody>\n",
       "    <tr>\n",
       "      <th>0</th>\n",
       "      <td>17850</td>\n",
       "      <td>5391.21</td>\n",
       "      <td>372.0</td>\n",
       "      <td>34.0</td>\n",
       "      <td>1733.0</td>\n",
       "      <td>297.0</td>\n",
       "      <td>17.000000</td>\n",
       "      <td>40.0</td>\n",
       "      <td>4</td>\n",
       "    </tr>\n",
       "    <tr>\n",
       "      <th>1</th>\n",
       "      <td>13047</td>\n",
       "      <td>3232.59</td>\n",
       "      <td>56.0</td>\n",
       "      <td>9.0</td>\n",
       "      <td>1390.0</td>\n",
       "      <td>171.0</td>\n",
       "      <td>0.028302</td>\n",
       "      <td>35.0</td>\n",
       "      <td>4</td>\n",
       "    </tr>\n",
       "    <tr>\n",
       "      <th>2</th>\n",
       "      <td>12583</td>\n",
       "      <td>6705.38</td>\n",
       "      <td>2.0</td>\n",
       "      <td>15.0</td>\n",
       "      <td>5028.0</td>\n",
       "      <td>232.0</td>\n",
       "      <td>0.040323</td>\n",
       "      <td>50.0</td>\n",
       "      <td>6</td>\n",
       "    </tr>\n",
       "    <tr>\n",
       "      <th>3</th>\n",
       "      <td>13748</td>\n",
       "      <td>948.25</td>\n",
       "      <td>95.0</td>\n",
       "      <td>5.0</td>\n",
       "      <td>439.0</td>\n",
       "      <td>28.0</td>\n",
       "      <td>0.017921</td>\n",
       "      <td>0.0</td>\n",
       "      <td>2</td>\n",
       "    </tr>\n",
       "    <tr>\n",
       "      <th>4</th>\n",
       "      <td>15100</td>\n",
       "      <td>876.00</td>\n",
       "      <td>333.0</td>\n",
       "      <td>3.0</td>\n",
       "      <td>80.0</td>\n",
       "      <td>3.0</td>\n",
       "      <td>0.073171</td>\n",
       "      <td>22.0</td>\n",
       "      <td>0</td>\n",
       "    </tr>\n",
       "  </tbody>\n",
       "</table>\n",
       "</div>"
      ],
      "text/plain": [
       "   customer_id  gross_revenue  recency_days  qty_invoice_no  qty_items  \\\n",
       "0        17850        5391.21         372.0            34.0     1733.0   \n",
       "1        13047        3232.59          56.0             9.0     1390.0   \n",
       "2        12583        6705.38           2.0            15.0     5028.0   \n",
       "3        13748         948.25          95.0             5.0      439.0   \n",
       "4        15100         876.00         333.0             3.0       80.0   \n",
       "\n",
       "   qty_products  frequency  qty_returns  cluster  \n",
       "0         297.0  17.000000         40.0        4  \n",
       "1         171.0   0.028302         35.0        4  \n",
       "2         232.0   0.040323         50.0        6  \n",
       "3          28.0   0.017921          0.0        2  \n",
       "4           3.0   0.073171         22.0        0  "
      ]
     },
     "execution_count": 57,
     "metadata": {},
     "output_type": "execute_result"
    }
   ],
   "source": [
    "df92 = df3[cols_selected].copy()\n",
    "df92['cluster'] = labels\n",
    "df92.head()"
   ]
  },
  {
   "cell_type": "code",
   "execution_count": 58,
   "id": "organizational-hawaii",
   "metadata": {
    "ExecuteTime": {
     "end_time": "2022-04-24T13:30:20.191912Z",
     "start_time": "2022-04-24T13:30:20.140080Z"
    },
    "scrolled": true
   },
   "outputs": [
    {
     "data": {
      "text/html": [
       "<div>\n",
       "<style scoped>\n",
       "    .dataframe tbody tr th:only-of-type {\n",
       "        vertical-align: middle;\n",
       "    }\n",
       "\n",
       "    .dataframe tbody tr th {\n",
       "        vertical-align: top;\n",
       "    }\n",
       "\n",
       "    .dataframe thead th {\n",
       "        text-align: right;\n",
       "    }\n",
       "</style>\n",
       "<table border=\"1\" class=\"dataframe\">\n",
       "  <thead>\n",
       "    <tr style=\"text-align: right;\">\n",
       "      <th></th>\n",
       "      <th>cluster</th>\n",
       "      <th>qty_customers</th>\n",
       "      <th>perc_customer</th>\n",
       "      <th>gross_revenue</th>\n",
       "      <th>recency_days</th>\n",
       "      <th>qty_invoice_no</th>\n",
       "      <th>qty_items</th>\n",
       "      <th>qty_products</th>\n",
       "      <th>frequency</th>\n",
       "      <th>qty_returns</th>\n",
       "    </tr>\n",
       "  </thead>\n",
       "  <tbody>\n",
       "    <tr>\n",
       "      <th>6</th>\n",
       "      <td>6</td>\n",
       "      <td>492</td>\n",
       "      <td>8.642192</td>\n",
       "      <td>10932.727561</td>\n",
       "      <td>29.932927</td>\n",
       "      <td>14.853659</td>\n",
       "      <td>6429.219512</td>\n",
       "      <td>354.298780</td>\n",
       "      <td>0.114133</td>\n",
       "      <td>147.386179</td>\n",
       "    </tr>\n",
       "    <tr>\n",
       "      <th>4</th>\n",
       "      <td>4</td>\n",
       "      <td>441</td>\n",
       "      <td>7.746355</td>\n",
       "      <td>2846.196893</td>\n",
       "      <td>57.585034</td>\n",
       "      <td>5.879819</td>\n",
       "      <td>1562.013605</td>\n",
       "      <td>201.986395</td>\n",
       "      <td>0.219047</td>\n",
       "      <td>18.981859</td>\n",
       "    </tr>\n",
       "    <tr>\n",
       "      <th>1</th>\n",
       "      <td>1</td>\n",
       "      <td>801</td>\n",
       "      <td>14.069910</td>\n",
       "      <td>1762.174370</td>\n",
       "      <td>66.725343</td>\n",
       "      <td>4.078652</td>\n",
       "      <td>890.731586</td>\n",
       "      <td>121.353308</td>\n",
       "      <td>0.235948</td>\n",
       "      <td>14.742821</td>\n",
       "    </tr>\n",
       "    <tr>\n",
       "      <th>7</th>\n",
       "      <td>7</td>\n",
       "      <td>540</td>\n",
       "      <td>9.485333</td>\n",
       "      <td>1046.922870</td>\n",
       "      <td>96.105556</td>\n",
       "      <td>2.822222</td>\n",
       "      <td>482.085185</td>\n",
       "      <td>101.818519</td>\n",
       "      <td>0.370125</td>\n",
       "      <td>8.801852</td>\n",
       "    </tr>\n",
       "    <tr>\n",
       "      <th>2</th>\n",
       "      <td>2</td>\n",
       "      <td>1015</td>\n",
       "      <td>17.828913</td>\n",
       "      <td>770.024266</td>\n",
       "      <td>123.681773</td>\n",
       "      <td>1.887685</td>\n",
       "      <td>340.243350</td>\n",
       "      <td>61.985222</td>\n",
       "      <td>0.570043</td>\n",
       "      <td>3.222660</td>\n",
       "    </tr>\n",
       "    <tr>\n",
       "      <th>8</th>\n",
       "      <td>8</td>\n",
       "      <td>549</td>\n",
       "      <td>9.643422</td>\n",
       "      <td>440.091548</td>\n",
       "      <td>132.185792</td>\n",
       "      <td>1.721311</td>\n",
       "      <td>180.863388</td>\n",
       "      <td>44.990893</td>\n",
       "      <td>0.629429</td>\n",
       "      <td>1.670310</td>\n",
       "    </tr>\n",
       "    <tr>\n",
       "      <th>0</th>\n",
       "      <td>0</td>\n",
       "      <td>574</td>\n",
       "      <td>10.082558</td>\n",
       "      <td>278.275401</td>\n",
       "      <td>146.479094</td>\n",
       "      <td>1.461672</td>\n",
       "      <td>124.428571</td>\n",
       "      <td>12.996516</td>\n",
       "      <td>0.691504</td>\n",
       "      <td>2.341463</td>\n",
       "    </tr>\n",
       "    <tr>\n",
       "      <th>5</th>\n",
       "      <td>5</td>\n",
       "      <td>574</td>\n",
       "      <td>10.082558</td>\n",
       "      <td>272.509495</td>\n",
       "      <td>177.909408</td>\n",
       "      <td>1.113240</td>\n",
       "      <td>116.247387</td>\n",
       "      <td>21.947735</td>\n",
       "      <td>0.961863</td>\n",
       "      <td>1.329268</td>\n",
       "    </tr>\n",
       "    <tr>\n",
       "      <th>3</th>\n",
       "      <td>3</td>\n",
       "      <td>707</td>\n",
       "      <td>12.418760</td>\n",
       "      <td>52.769477</td>\n",
       "      <td>191.830269</td>\n",
       "      <td>1.038190</td>\n",
       "      <td>13.371994</td>\n",
       "      <td>5.879774</td>\n",
       "      <td>0.987351</td>\n",
       "      <td>0.079208</td>\n",
       "    </tr>\n",
       "  </tbody>\n",
       "</table>\n",
       "</div>"
      ],
      "text/plain": [
       "   cluster  qty_customers  perc_customer  gross_revenue  recency_days  \\\n",
       "6        6            492       8.642192   10932.727561     29.932927   \n",
       "4        4            441       7.746355    2846.196893     57.585034   \n",
       "1        1            801      14.069910    1762.174370     66.725343   \n",
       "7        7            540       9.485333    1046.922870     96.105556   \n",
       "2        2           1015      17.828913     770.024266    123.681773   \n",
       "8        8            549       9.643422     440.091548    132.185792   \n",
       "0        0            574      10.082558     278.275401    146.479094   \n",
       "5        5            574      10.082558     272.509495    177.909408   \n",
       "3        3            707      12.418760      52.769477    191.830269   \n",
       "\n",
       "   qty_invoice_no    qty_items  qty_products  frequency  qty_returns  \n",
       "6       14.853659  6429.219512    354.298780   0.114133   147.386179  \n",
       "4        5.879819  1562.013605    201.986395   0.219047    18.981859  \n",
       "1        4.078652   890.731586    121.353308   0.235948    14.742821  \n",
       "7        2.822222   482.085185    101.818519   0.370125     8.801852  \n",
       "2        1.887685   340.243350     61.985222   0.570043     3.222660  \n",
       "8        1.721311   180.863388     44.990893   0.629429     1.670310  \n",
       "0        1.461672   124.428571     12.996516   0.691504     2.341463  \n",
       "5        1.113240   116.247387     21.947735   0.961863     1.329268  \n",
       "3        1.038190    13.371994      5.879774   0.987351     0.079208  "
      ]
     },
     "execution_count": 58,
     "metadata": {},
     "output_type": "execute_result"
    }
   ],
   "source": [
    "# Explaining clusters profile based on this averages\n",
    "# Number of customer\n",
    "df_cluster = df92[['customer_id', 'cluster']].groupby( 'cluster' ).count().reset_index().rename(columns = {'customer_id': 'qty_customers'})\n",
    "df_cluster['perc_customer'] = 100*( df_cluster['qty_customers'] / df_cluster['qty_customers'].sum() )\n",
    "\n",
    "# Avg Gross revenue\n",
    "df_avg_gross_revenue = df92[['gross_revenue', 'cluster']].groupby( 'cluster' ).mean().reset_index()\n",
    "df_cluster = pd.merge( df_cluster, df_avg_gross_revenue, how='inner', on='cluster' )\n",
    "\n",
    "# Avg recency days\n",
    "df_avg_recency_days = df92[['recency_days', 'cluster']].groupby( 'cluster' ).mean().reset_index()\n",
    "df_cluster = pd.merge( df_cluster, df_avg_recency_days, how='inner', on='cluster' )\n",
    "\n",
    "# Qty invoice number\n",
    "df_avg_invoice_no = df92[['qty_invoice_no', 'cluster']].groupby( 'cluster' ).mean().reset_index()\n",
    "df_cluster = pd.merge( df_cluster, df_avg_invoice_no, how='inner', on='cluster' )\n",
    "\n",
    "# Avg qty items\n",
    "df_avg_qty_items = df92[['qty_items', 'cluster']].groupby( 'cluster' ).mean().reset_index()\n",
    "df_cluster = pd.merge( df_cluster, df_avg_qty_items, how='inner', on='cluster' )\n",
    "\n",
    "# Avg qty products\n",
    "df_qty_products = df92[['qty_products', 'cluster']].groupby( 'cluster' ).mean().reset_index()\n",
    "df_cluster = pd.merge( df_cluster, df_qty_products, how='inner', on='cluster' )\n",
    "\n",
    "# Frequency\n",
    "df_frequency = df92[['frequency', 'cluster']].groupby( 'cluster' ).mean().reset_index()\n",
    "df_cluster = pd.merge( df_cluster, df_frequency, how='inner', on='cluster' )\n",
    "\n",
    "# Avg qty returns\n",
    "df_qty_returns = df92[['qty_returns', 'cluster']].groupby( 'cluster' ).mean().reset_index()\n",
    "df_cluster = pd.merge( df_cluster, df_qty_returns, how='inner', on='cluster' )\n",
    "\n",
    "df_cluster.sort_values('gross_revenue', ascending = False)"
   ]
  },
  {
   "cell_type": "code",
   "execution_count": 59,
   "id": "d5e30828",
   "metadata": {
    "ExecuteTime": {
     "end_time": "2022-04-24T13:30:20.655021Z",
     "start_time": "2022-04-24T13:30:20.193347Z"
    }
   },
   "outputs": [
    {
     "ename": "NameError",
     "evalue": "name 'aa' is not defined",
     "output_type": "error",
     "traceback": [
      "\u001b[0;31m---------------------------------------------------------------------------\u001b[0m",
      "\u001b[0;31mNameError\u001b[0m                                 Traceback (most recent call last)",
      "Input \u001b[0;32mIn [59]\u001b[0m, in \u001b[0;36m<cell line: 1>\u001b[0;34m()\u001b[0m\n\u001b[0;32m----> 1\u001b[0m \u001b[43maa\u001b[49m\n",
      "\u001b[0;31mNameError\u001b[0m: name 'aa' is not defined"
     ]
    }
   ],
   "source": [
    "aa"
   ]
  },
  {
   "cell_type": "code",
   "execution_count": null,
   "id": "wireless-index",
   "metadata": {
    "ExecuteTime": {
     "end_time": "2022-04-24T13:30:20.656062Z",
     "start_time": "2022-04-24T13:30:20.656051Z"
    }
   },
   "outputs": [],
   "source": [
    "# during the new EDA we can do a analyse inside each cluster"
   ]
  },
  {
   "cell_type": "markdown",
   "id": "465ec78b",
   "metadata": {},
   "source": [
    "* Cluster 6: Champions\n",
    "* Cluster 4: Almost Champions\n",
    "* Cluster 1: Must buy more frequently and more products\n",
    "* Cluster 7: Must buy more expensive products\n",
    "* Cluster 2: Must buy more items and different products\n",
    "* Cluster 8: Churn 1\n",
    "* Cluster 0: Churn 2\n",
    "* Cluster 5: Churn 3\n",
    "* Cluster 3: Churn 4"
   ]
  },
  {
   "cell_type": "markdown",
   "id": "8ac320da",
   "metadata": {},
   "source": [
    "# Business Questions"
   ]
  },
  {
   "cell_type": "code",
   "execution_count": 61,
   "id": "e65637a8",
   "metadata": {
    "ExecuteTime": {
     "end_time": "2022-04-24T14:10:47.190575Z",
     "start_time": "2022-04-24T14:10:47.183087Z"
    }
   },
   "outputs": [],
   "source": [
    "df10 = df92.copy()"
   ]
  },
  {
   "cell_type": "code",
   "execution_count": 62,
   "id": "02156397",
   "metadata": {
    "ExecuteTime": {
     "end_time": "2022-04-24T14:10:48.259038Z",
     "start_time": "2022-04-24T14:10:48.221558Z"
    }
   },
   "outputs": [
    {
     "data": {
      "text/html": [
       "<div>\n",
       "<style scoped>\n",
       "    .dataframe tbody tr th:only-of-type {\n",
       "        vertical-align: middle;\n",
       "    }\n",
       "\n",
       "    .dataframe tbody tr th {\n",
       "        vertical-align: top;\n",
       "    }\n",
       "\n",
       "    .dataframe thead th {\n",
       "        text-align: right;\n",
       "    }\n",
       "</style>\n",
       "<table border=\"1\" class=\"dataframe\">\n",
       "  <thead>\n",
       "    <tr style=\"text-align: right;\">\n",
       "      <th></th>\n",
       "      <th>customer_id</th>\n",
       "      <th>gross_revenue</th>\n",
       "      <th>recency_days</th>\n",
       "      <th>qty_invoice_no</th>\n",
       "      <th>qty_items</th>\n",
       "      <th>qty_products</th>\n",
       "      <th>frequency</th>\n",
       "      <th>qty_returns</th>\n",
       "      <th>cluster</th>\n",
       "    </tr>\n",
       "  </thead>\n",
       "  <tbody>\n",
       "    <tr>\n",
       "      <th>0</th>\n",
       "      <td>17850</td>\n",
       "      <td>5391.21</td>\n",
       "      <td>372.0</td>\n",
       "      <td>34.0</td>\n",
       "      <td>1733.0</td>\n",
       "      <td>297.0</td>\n",
       "      <td>17.000000</td>\n",
       "      <td>40.0</td>\n",
       "      <td>4</td>\n",
       "    </tr>\n",
       "    <tr>\n",
       "      <th>1</th>\n",
       "      <td>13047</td>\n",
       "      <td>3232.59</td>\n",
       "      <td>56.0</td>\n",
       "      <td>9.0</td>\n",
       "      <td>1390.0</td>\n",
       "      <td>171.0</td>\n",
       "      <td>0.028302</td>\n",
       "      <td>35.0</td>\n",
       "      <td>4</td>\n",
       "    </tr>\n",
       "    <tr>\n",
       "      <th>2</th>\n",
       "      <td>12583</td>\n",
       "      <td>6705.38</td>\n",
       "      <td>2.0</td>\n",
       "      <td>15.0</td>\n",
       "      <td>5028.0</td>\n",
       "      <td>232.0</td>\n",
       "      <td>0.040323</td>\n",
       "      <td>50.0</td>\n",
       "      <td>6</td>\n",
       "    </tr>\n",
       "    <tr>\n",
       "      <th>3</th>\n",
       "      <td>13748</td>\n",
       "      <td>948.25</td>\n",
       "      <td>95.0</td>\n",
       "      <td>5.0</td>\n",
       "      <td>439.0</td>\n",
       "      <td>28.0</td>\n",
       "      <td>0.017921</td>\n",
       "      <td>0.0</td>\n",
       "      <td>2</td>\n",
       "    </tr>\n",
       "    <tr>\n",
       "      <th>4</th>\n",
       "      <td>15100</td>\n",
       "      <td>876.00</td>\n",
       "      <td>333.0</td>\n",
       "      <td>3.0</td>\n",
       "      <td>80.0</td>\n",
       "      <td>3.0</td>\n",
       "      <td>0.073171</td>\n",
       "      <td>22.0</td>\n",
       "      <td>0</td>\n",
       "    </tr>\n",
       "  </tbody>\n",
       "</table>\n",
       "</div>"
      ],
      "text/plain": [
       "   customer_id  gross_revenue  recency_days  qty_invoice_no  qty_items  \\\n",
       "0        17850        5391.21         372.0            34.0     1733.0   \n",
       "1        13047        3232.59          56.0             9.0     1390.0   \n",
       "2        12583        6705.38           2.0            15.0     5028.0   \n",
       "3        13748         948.25          95.0             5.0      439.0   \n",
       "4        15100         876.00         333.0             3.0       80.0   \n",
       "\n",
       "   qty_products  frequency  qty_returns  cluster  \n",
       "0         297.0  17.000000         40.0        4  \n",
       "1         171.0   0.028302         35.0        4  \n",
       "2         232.0   0.040323         50.0        6  \n",
       "3          28.0   0.017921          0.0        2  \n",
       "4           3.0   0.073171         22.0        0  "
      ]
     },
     "execution_count": 62,
     "metadata": {},
     "output_type": "execute_result"
    }
   ],
   "source": [
    "df10.head()"
   ]
  },
  {
   "cell_type": "markdown",
   "id": "408adf6f",
   "metadata": {},
   "source": [
    "## 1. Who are the eligible people to participate in the Champions program?"
   ]
  },
  {
   "cell_type": "code",
   "execution_count": 63,
   "id": "9fdb2aac",
   "metadata": {
    "ExecuteTime": {
     "end_time": "2022-04-24T14:10:56.938568Z",
     "start_time": "2022-04-24T14:10:56.913691Z"
    }
   },
   "outputs": [],
   "source": [
    "df_champions = df10.loc[df10['cluster'] == 6, 'customer_id']"
   ]
  },
  {
   "cell_type": "markdown",
   "id": "1d405f2c",
   "metadata": {},
   "source": [
    "## 2. How many customers will be part of the loyalty group?"
   ]
  },
  {
   "cell_type": "code",
   "execution_count": 64,
   "id": "4065adb2",
   "metadata": {
    "ExecuteTime": {
     "end_time": "2022-04-24T14:10:58.828722Z",
     "start_time": "2022-04-24T14:10:58.820738Z"
    }
   },
   "outputs": [
    {
     "data": {
      "text/plain": [
       "492"
      ]
     },
     "execution_count": 64,
     "metadata": {},
     "output_type": "execute_result"
    }
   ],
   "source": [
    "df_champions.size"
   ]
  },
  {
   "cell_type": "markdown",
   "id": "f22210de",
   "metadata": {},
   "source": [
    "## 3.What are the main characteristics of these customers?"
   ]
  },
  {
   "cell_type": "code",
   "execution_count": 65,
   "id": "8b660750",
   "metadata": {
    "ExecuteTime": {
     "end_time": "2022-04-24T14:12:35.192726Z",
     "start_time": "2022-04-24T14:12:35.183479Z"
    }
   },
   "outputs": [
    {
     "data": {
      "text/html": [
       "<div>\n",
       "<style scoped>\n",
       "    .dataframe tbody tr th:only-of-type {\n",
       "        vertical-align: middle;\n",
       "    }\n",
       "\n",
       "    .dataframe tbody tr th {\n",
       "        vertical-align: top;\n",
       "    }\n",
       "\n",
       "    .dataframe thead th {\n",
       "        text-align: right;\n",
       "    }\n",
       "</style>\n",
       "<table border=\"1\" class=\"dataframe\">\n",
       "  <thead>\n",
       "    <tr style=\"text-align: right;\">\n",
       "      <th></th>\n",
       "      <th>cluster</th>\n",
       "      <th>qty_customers</th>\n",
       "      <th>perc_customer</th>\n",
       "      <th>gross_revenue</th>\n",
       "      <th>recency_days</th>\n",
       "      <th>qty_invoice_no</th>\n",
       "      <th>qty_items</th>\n",
       "      <th>qty_products</th>\n",
       "      <th>frequency</th>\n",
       "      <th>qty_returns</th>\n",
       "    </tr>\n",
       "  </thead>\n",
       "  <tbody>\n",
       "    <tr>\n",
       "      <th>6</th>\n",
       "      <td>6</td>\n",
       "      <td>492</td>\n",
       "      <td>8.642192</td>\n",
       "      <td>10932.727561</td>\n",
       "      <td>29.932927</td>\n",
       "      <td>14.853659</td>\n",
       "      <td>6429.219512</td>\n",
       "      <td>354.298780</td>\n",
       "      <td>0.114133</td>\n",
       "      <td>147.386179</td>\n",
       "    </tr>\n",
       "    <tr>\n",
       "      <th>4</th>\n",
       "      <td>4</td>\n",
       "      <td>441</td>\n",
       "      <td>7.746355</td>\n",
       "      <td>2846.196893</td>\n",
       "      <td>57.585034</td>\n",
       "      <td>5.879819</td>\n",
       "      <td>1562.013605</td>\n",
       "      <td>201.986395</td>\n",
       "      <td>0.219047</td>\n",
       "      <td>18.981859</td>\n",
       "    </tr>\n",
       "    <tr>\n",
       "      <th>1</th>\n",
       "      <td>1</td>\n",
       "      <td>801</td>\n",
       "      <td>14.069910</td>\n",
       "      <td>1762.174370</td>\n",
       "      <td>66.725343</td>\n",
       "      <td>4.078652</td>\n",
       "      <td>890.731586</td>\n",
       "      <td>121.353308</td>\n",
       "      <td>0.235948</td>\n",
       "      <td>14.742821</td>\n",
       "    </tr>\n",
       "    <tr>\n",
       "      <th>7</th>\n",
       "      <td>7</td>\n",
       "      <td>540</td>\n",
       "      <td>9.485333</td>\n",
       "      <td>1046.922870</td>\n",
       "      <td>96.105556</td>\n",
       "      <td>2.822222</td>\n",
       "      <td>482.085185</td>\n",
       "      <td>101.818519</td>\n",
       "      <td>0.370125</td>\n",
       "      <td>8.801852</td>\n",
       "    </tr>\n",
       "    <tr>\n",
       "      <th>2</th>\n",
       "      <td>2</td>\n",
       "      <td>1015</td>\n",
       "      <td>17.828913</td>\n",
       "      <td>770.024266</td>\n",
       "      <td>123.681773</td>\n",
       "      <td>1.887685</td>\n",
       "      <td>340.243350</td>\n",
       "      <td>61.985222</td>\n",
       "      <td>0.570043</td>\n",
       "      <td>3.222660</td>\n",
       "    </tr>\n",
       "    <tr>\n",
       "      <th>8</th>\n",
       "      <td>8</td>\n",
       "      <td>549</td>\n",
       "      <td>9.643422</td>\n",
       "      <td>440.091548</td>\n",
       "      <td>132.185792</td>\n",
       "      <td>1.721311</td>\n",
       "      <td>180.863388</td>\n",
       "      <td>44.990893</td>\n",
       "      <td>0.629429</td>\n",
       "      <td>1.670310</td>\n",
       "    </tr>\n",
       "    <tr>\n",
       "      <th>0</th>\n",
       "      <td>0</td>\n",
       "      <td>574</td>\n",
       "      <td>10.082558</td>\n",
       "      <td>278.275401</td>\n",
       "      <td>146.479094</td>\n",
       "      <td>1.461672</td>\n",
       "      <td>124.428571</td>\n",
       "      <td>12.996516</td>\n",
       "      <td>0.691504</td>\n",
       "      <td>2.341463</td>\n",
       "    </tr>\n",
       "    <tr>\n",
       "      <th>5</th>\n",
       "      <td>5</td>\n",
       "      <td>574</td>\n",
       "      <td>10.082558</td>\n",
       "      <td>272.509495</td>\n",
       "      <td>177.909408</td>\n",
       "      <td>1.113240</td>\n",
       "      <td>116.247387</td>\n",
       "      <td>21.947735</td>\n",
       "      <td>0.961863</td>\n",
       "      <td>1.329268</td>\n",
       "    </tr>\n",
       "    <tr>\n",
       "      <th>3</th>\n",
       "      <td>3</td>\n",
       "      <td>707</td>\n",
       "      <td>12.418760</td>\n",
       "      <td>52.769477</td>\n",
       "      <td>191.830269</td>\n",
       "      <td>1.038190</td>\n",
       "      <td>13.371994</td>\n",
       "      <td>5.879774</td>\n",
       "      <td>0.987351</td>\n",
       "      <td>0.079208</td>\n",
       "    </tr>\n",
       "  </tbody>\n",
       "</table>\n",
       "</div>"
      ],
      "text/plain": [
       "   cluster  qty_customers  perc_customer  gross_revenue  recency_days  \\\n",
       "6        6            492       8.642192   10932.727561     29.932927   \n",
       "4        4            441       7.746355    2846.196893     57.585034   \n",
       "1        1            801      14.069910    1762.174370     66.725343   \n",
       "7        7            540       9.485333    1046.922870     96.105556   \n",
       "2        2           1015      17.828913     770.024266    123.681773   \n",
       "8        8            549       9.643422     440.091548    132.185792   \n",
       "0        0            574      10.082558     278.275401    146.479094   \n",
       "5        5            574      10.082558     272.509495    177.909408   \n",
       "3        3            707      12.418760      52.769477    191.830269   \n",
       "\n",
       "   qty_invoice_no    qty_items  qty_products  frequency  qty_returns  \n",
       "6       14.853659  6429.219512    354.298780   0.114133   147.386179  \n",
       "4        5.879819  1562.013605    201.986395   0.219047    18.981859  \n",
       "1        4.078652   890.731586    121.353308   0.235948    14.742821  \n",
       "7        2.822222   482.085185    101.818519   0.370125     8.801852  \n",
       "2        1.887685   340.243350     61.985222   0.570043     3.222660  \n",
       "8        1.721311   180.863388     44.990893   0.629429     1.670310  \n",
       "0        1.461672   124.428571     12.996516   0.691504     2.341463  \n",
       "5        1.113240   116.247387     21.947735   0.961863     1.329268  \n",
       "3        1.038190    13.371994      5.879774   0.987351     0.079208  "
      ]
     },
     "execution_count": 65,
     "metadata": {},
     "output_type": "execute_result"
    }
   ],
   "source": [
    "df_cluster.sort_values('gross_revenue', ascending = False)"
   ]
  },
  {
   "cell_type": "markdown",
   "id": "ead8465d",
   "metadata": {},
   "source": [
    "**High Value Customers Cluster(06):**\n",
    "\n",
    "- Number of customers: 492 (8.64% of costumers)\n",
    "- Avg Gross Revenue: **$10932.72**\n",
    "- Avg Recency Average: **29 days**\n",
    "- Avq of Qty of invoice no: **14.85**\n",
    "- Avg of Qty of Items: **6429**\n",
    "- Avg of Qty Products Purchased: **354 un**\n",
    "- Purchase Frequency: **0.114 products per day**\n",
    "- Avg of Qty of Retuned Items: **147 un**"
   ]
  },
  {
   "cell_type": "markdown",
   "id": "e72f197a",
   "metadata": {},
   "source": [
    "## 4.What is the percentage of revenue contribution that comes from the Champions?"
   ]
  },
  {
   "cell_type": "code",
   "execution_count": 66,
   "id": "ced04a3f",
   "metadata": {
    "ExecuteTime": {
     "end_time": "2022-04-24T14:14:39.831391Z",
     "start_time": "2022-04-24T14:14:39.803660Z"
    },
    "scrolled": false
   },
   "outputs": [
    {
     "data": {
      "text/html": [
       "<div>\n",
       "<style scoped>\n",
       "    .dataframe tbody tr th:only-of-type {\n",
       "        vertical-align: middle;\n",
       "    }\n",
       "\n",
       "    .dataframe tbody tr th {\n",
       "        vertical-align: top;\n",
       "    }\n",
       "\n",
       "    .dataframe thead th {\n",
       "        text-align: right;\n",
       "    }\n",
       "</style>\n",
       "<table border=\"1\" class=\"dataframe\">\n",
       "  <thead>\n",
       "    <tr style=\"text-align: right;\">\n",
       "      <th></th>\n",
       "      <th>cluster</th>\n",
       "      <th>gross_revenue</th>\n",
       "      <th>perc_%</th>\n",
       "    </tr>\n",
       "  </thead>\n",
       "  <tbody>\n",
       "    <tr>\n",
       "      <th>6</th>\n",
       "      <td>6</td>\n",
       "      <td>5378901.96</td>\n",
       "      <td>53.86</td>\n",
       "    </tr>\n",
       "    <tr>\n",
       "      <th>1</th>\n",
       "      <td>1</td>\n",
       "      <td>1411501.67</td>\n",
       "      <td>14.13</td>\n",
       "    </tr>\n",
       "    <tr>\n",
       "      <th>4</th>\n",
       "      <td>4</td>\n",
       "      <td>1255172.83</td>\n",
       "      <td>12.57</td>\n",
       "    </tr>\n",
       "    <tr>\n",
       "      <th>2</th>\n",
       "      <td>2</td>\n",
       "      <td>781574.63</td>\n",
       "      <td>7.83</td>\n",
       "    </tr>\n",
       "    <tr>\n",
       "      <th>7</th>\n",
       "      <td>7</td>\n",
       "      <td>565338.35</td>\n",
       "      <td>5.66</td>\n",
       "    </tr>\n",
       "    <tr>\n",
       "      <th>8</th>\n",
       "      <td>8</td>\n",
       "      <td>241610.26</td>\n",
       "      <td>2.42</td>\n",
       "    </tr>\n",
       "    <tr>\n",
       "      <th>0</th>\n",
       "      <td>0</td>\n",
       "      <td>159730.08</td>\n",
       "      <td>1.60</td>\n",
       "    </tr>\n",
       "    <tr>\n",
       "      <th>5</th>\n",
       "      <td>5</td>\n",
       "      <td>156420.45</td>\n",
       "      <td>1.57</td>\n",
       "    </tr>\n",
       "    <tr>\n",
       "      <th>3</th>\n",
       "      <td>3</td>\n",
       "      <td>37308.02</td>\n",
       "      <td>0.37</td>\n",
       "    </tr>\n",
       "  </tbody>\n",
       "</table>\n",
       "</div>"
      ],
      "text/plain": [
       "   cluster  gross_revenue  perc_%\n",
       "6        6     5378901.96   53.86\n",
       "1        1     1411501.67   14.13\n",
       "4        4     1255172.83   12.57\n",
       "2        2      781574.63    7.83\n",
       "7        7      565338.35    5.66\n",
       "8        8      241610.26    2.42\n",
       "0        0      159730.08    1.60\n",
       "5        5      156420.45    1.57\n",
       "3        3       37308.02    0.37"
      ]
     },
     "execution_count": 66,
     "metadata": {},
     "output_type": "execute_result"
    }
   ],
   "source": [
    "total_gmv_by_cluster = df10[['cluster', 'gross_revenue']].groupby('cluster').sum().reset_index()\n",
    "total_gmv_by_cluster['perc_%'] =  round(100*total_gmv_by_cluster['gross_revenue']/total_gmv_by_cluster['gross_revenue'].sum(), 2)\n",
    "total_gmv_by_cluster.sort_values('gross_revenue', ascending = False)"
   ]
  },
  {
   "cell_type": "code",
   "execution_count": 72,
   "id": "13b3230e",
   "metadata": {
    "ExecuteTime": {
     "end_time": "2022-04-24T14:16:09.548429Z",
     "start_time": "2022-04-24T14:16:09.146986Z"
    }
   },
   "outputs": [
    {
     "data": {
      "image/png": "[encoded data removed]",
      "text/plain": [
       "<Figure size 1800x864 with 2 Axes>"
      ]
     },
     "metadata": {},
     "output_type": "display_data"
    },
    {
     "data": {
      "text/html": [
       "<style type=\"text/css\">\n",
       "</style>\n",
       "<table id=\"T_c6f91\">\n",
       "  <thead>\n",
       "    <tr>\n",
       "      <th class=\"blank level0\" >&nbsp;</th>\n",
       "      <th id=\"T_c6f91_level0_col0\" class=\"col_heading level0 col0\" >cluster</th>\n",
       "      <th id=\"T_c6f91_level0_col1\" class=\"col_heading level0 col1\" >gross_revenue</th>\n",
       "      <th id=\"T_c6f91_level0_col2\" class=\"col_heading level0 col2\" >perc_%</th>\n",
       "    </tr>\n",
       "  </thead>\n",
       "  <tbody>\n",
       "    <tr>\n",
       "      <th id=\"T_c6f91_level0_row0\" class=\"row_heading level0 row0\" >0</th>\n",
       "      <td id=\"T_c6f91_row0_col0\" class=\"data row0 col0\" >0</td>\n",
       "      <td id=\"T_c6f91_row0_col1\" class=\"data row0 col1\" >$159,730.08</td>\n",
       "      <td id=\"T_c6f91_row0_col2\" class=\"data row0 col2\" >1.60</td>\n",
       "    </tr>\n",
       "    <tr>\n",
       "      <th id=\"T_c6f91_level0_row1\" class=\"row_heading level0 row1\" >1</th>\n",
       "      <td id=\"T_c6f91_row1_col0\" class=\"data row1 col0\" >1</td>\n",
       "      <td id=\"T_c6f91_row1_col1\" class=\"data row1 col1\" >$1,411,501.67</td>\n",
       "      <td id=\"T_c6f91_row1_col2\" class=\"data row1 col2\" >14.13</td>\n",
       "    </tr>\n",
       "    <tr>\n",
       "      <th id=\"T_c6f91_level0_row2\" class=\"row_heading level0 row2\" >2</th>\n",
       "      <td id=\"T_c6f91_row2_col0\" class=\"data row2 col0\" >2</td>\n",
       "      <td id=\"T_c6f91_row2_col1\" class=\"data row2 col1\" >$781,574.63</td>\n",
       "      <td id=\"T_c6f91_row2_col2\" class=\"data row2 col2\" >7.83</td>\n",
       "    </tr>\n",
       "    <tr>\n",
       "      <th id=\"T_c6f91_level0_row3\" class=\"row_heading level0 row3\" >3</th>\n",
       "      <td id=\"T_c6f91_row3_col0\" class=\"data row3 col0\" >3</td>\n",
       "      <td id=\"T_c6f91_row3_col1\" class=\"data row3 col1\" >$37,308.02</td>\n",
       "      <td id=\"T_c6f91_row3_col2\" class=\"data row3 col2\" >0.37</td>\n",
       "    </tr>\n",
       "    <tr>\n",
       "      <th id=\"T_c6f91_level0_row4\" class=\"row_heading level0 row4\" >4</th>\n",
       "      <td id=\"T_c6f91_row4_col0\" class=\"data row4 col0\" >4</td>\n",
       "      <td id=\"T_c6f91_row4_col1\" class=\"data row4 col1\" >$1,255,172.83</td>\n",
       "      <td id=\"T_c6f91_row4_col2\" class=\"data row4 col2\" >12.57</td>\n",
       "    </tr>\n",
       "    <tr>\n",
       "      <th id=\"T_c6f91_level0_row5\" class=\"row_heading level0 row5\" >5</th>\n",
       "      <td id=\"T_c6f91_row5_col0\" class=\"data row5 col0\" >5</td>\n",
       "      <td id=\"T_c6f91_row5_col1\" class=\"data row5 col1\" >$156,420.45</td>\n",
       "      <td id=\"T_c6f91_row5_col2\" class=\"data row5 col2\" >1.57</td>\n",
       "    </tr>\n",
       "    <tr>\n",
       "      <th id=\"T_c6f91_level0_row6\" class=\"row_heading level0 row6\" >6</th>\n",
       "      <td id=\"T_c6f91_row6_col0\" class=\"data row6 col0\" >6</td>\n",
       "      <td id=\"T_c6f91_row6_col1\" class=\"data row6 col1\" >$5,378,901.96</td>\n",
       "      <td id=\"T_c6f91_row6_col2\" class=\"data row6 col2\" >53.86</td>\n",
       "    </tr>\n",
       "    <tr>\n",
       "      <th id=\"T_c6f91_level0_row7\" class=\"row_heading level0 row7\" >7</th>\n",
       "      <td id=\"T_c6f91_row7_col0\" class=\"data row7 col0\" >7</td>\n",
       "      <td id=\"T_c6f91_row7_col1\" class=\"data row7 col1\" >$565,338.35</td>\n",
       "      <td id=\"T_c6f91_row7_col2\" class=\"data row7 col2\" >5.66</td>\n",
       "    </tr>\n",
       "    <tr>\n",
       "      <th id=\"T_c6f91_level0_row8\" class=\"row_heading level0 row8\" >8</th>\n",
       "      <td id=\"T_c6f91_row8_col0\" class=\"data row8 col0\" >8</td>\n",
       "      <td id=\"T_c6f91_row8_col1\" class=\"data row8 col1\" >$241,610.26</td>\n",
       "      <td id=\"T_c6f91_row8_col2\" class=\"data row8 col2\" >2.42</td>\n",
       "    </tr>\n",
       "  </tbody>\n",
       "</table>\n"
      ],
      "text/plain": [
       "<pandas.io.formats.style.Styler at 0x7fd948b954f0>"
      ]
     },
     "metadata": {},
     "output_type": "display_data"
    }
   ],
   "source": [
    "fig = plt.figure() # creating matplotlib figure\n",
    "\n",
    "ax = fig.add_subplot() # creating matplotlib axes\n",
    "ax2 = ax.twinx() # creating another axes that shares the same x-axis as ax.\n",
    "\n",
    "ax.bar(total_gmv_by_cluster['cluster'], total_gmv_by_cluster['gross_revenue'], color='orange', width=0.5)\n",
    "ax2.plot(total_gmv_by_cluster['cluster'], total_gmv_by_cluster['perc_%'], color='red')\n",
    "\n",
    "for index, percentage in enumerate( total_gmv_by_cluster['perc_%'] ):\n",
    "    ax2.text( index, np.around(percentage), str(percentage)+'%')\n",
    "\n",
    "plt.xticks(total_gmv_by_cluster['cluster'])\n",
    "ax.set_ylabel('Avg Gross Revenue', fontsize=20)\n",
    "ax.yaxis.set_major_formatter(mticker.StrMethodFormatter('${x:,.0f}'))\n",
    "                                                                                                                       \n",
    "ax2.set_ylabel('Percentage of Total Gross Revenue %',fontsize=20)\n",
    "ax2.yaxis.set_major_formatter(mticker.StrMethodFormatter('{x:.0f}%'))\n",
    "ax2.set_ylim([0,110])\n",
    "ax2.grid(visible=False)\n",
    "\n",
    "\n",
    "\n",
    "plt.title('Average Gross Revenue distribution by Clusters', fontdict= {'fontsize': 25})\n",
    "\n",
    "plt.show()\n",
    "mpl.rcParams['font.size']=20\n",
    "display(total_gmv_by_cluster[['cluster', 'gross_revenue', 'perc_%']].style.format({'gross_revenue': '${0:,.2f}', 'perc_%': '{:.2f}'}))"
   ]
  },
  {
   "cell_type": "code",
   "execution_count": null,
   "id": "b1cf27ec",
   "metadata": {},
   "outputs": [],
   "source": []
  },
  {
   "cell_type": "markdown",
   "id": "26c6ff08",
   "metadata": {},
   "source": [
    "## 5.What is the percentage of products volume purchased contribution that comes from the Champions?"
   ]
  },
  {
   "cell_type": "code",
   "execution_count": 73,
   "id": "29777e35",
   "metadata": {
    "ExecuteTime": {
     "end_time": "2022-04-24T14:20:50.599129Z",
     "start_time": "2022-04-24T14:20:50.591097Z"
    },
    "scrolled": true
   },
   "outputs": [
    {
     "data": {
      "text/html": [
       "<style type=\"text/css\">\n",
       "</style>\n",
       "<table id=\"T_65d26\">\n",
       "  <thead>\n",
       "    <tr>\n",
       "      <th class=\"blank level0\" >&nbsp;</th>\n",
       "      <th id=\"T_65d26_level0_col0\" class=\"col_heading level0 col0\" >cluster</th>\n",
       "      <th id=\"T_65d26_level0_col1\" class=\"col_heading level0 col1\" >qty_products</th>\n",
       "      <th id=\"T_65d26_level0_col2\" class=\"col_heading level0 col2\" >perc_%</th>\n",
       "    </tr>\n",
       "  </thead>\n",
       "  <tbody>\n",
       "    <tr>\n",
       "      <th id=\"T_65d26_level0_row0\" class=\"row_heading level0 row0\" >0</th>\n",
       "      <td id=\"T_65d26_row0_col0\" class=\"data row0 col0\" >0</td>\n",
       "      <td id=\"T_65d26_row0_col1\" class=\"data row0 col1\" >7,460.00</td>\n",
       "      <td id=\"T_65d26_row0_col2\" class=\"data row0 col2\" >1.41</td>\n",
       "    </tr>\n",
       "    <tr>\n",
       "      <th id=\"T_65d26_level0_row1\" class=\"row_heading level0 row1\" >1</th>\n",
       "      <td id=\"T_65d26_row1_col0\" class=\"data row1 col0\" >1</td>\n",
       "      <td id=\"T_65d26_row1_col1\" class=\"data row1 col1\" >97,204.00</td>\n",
       "      <td id=\"T_65d26_row1_col2\" class=\"data row1 col2\" >18.43</td>\n",
       "    </tr>\n",
       "    <tr>\n",
       "      <th id=\"T_65d26_level0_row2\" class=\"row_heading level0 row2\" >2</th>\n",
       "      <td id=\"T_65d26_row2_col0\" class=\"data row2 col0\" >2</td>\n",
       "      <td id=\"T_65d26_row2_col1\" class=\"data row2 col1\" >62,915.00</td>\n",
       "      <td id=\"T_65d26_row2_col2\" class=\"data row2 col2\" >11.93</td>\n",
       "    </tr>\n",
       "    <tr>\n",
       "      <th id=\"T_65d26_level0_row3\" class=\"row_heading level0 row3\" >3</th>\n",
       "      <td id=\"T_65d26_row3_col0\" class=\"data row3 col0\" >3</td>\n",
       "      <td id=\"T_65d26_row3_col1\" class=\"data row3 col1\" >4,157.00</td>\n",
       "      <td id=\"T_65d26_row3_col2\" class=\"data row3 col2\" >0.79</td>\n",
       "    </tr>\n",
       "    <tr>\n",
       "      <th id=\"T_65d26_level0_row4\" class=\"row_heading level0 row4\" >4</th>\n",
       "      <td id=\"T_65d26_row4_col0\" class=\"data row4 col0\" >4</td>\n",
       "      <td id=\"T_65d26_row4_col1\" class=\"data row4 col1\" >89,076.00</td>\n",
       "      <td id=\"T_65d26_row4_col2\" class=\"data row4 col2\" >16.89</td>\n",
       "    </tr>\n",
       "    <tr>\n",
       "      <th id=\"T_65d26_level0_row5\" class=\"row_heading level0 row5\" >5</th>\n",
       "      <td id=\"T_65d26_row5_col0\" class=\"data row5 col0\" >5</td>\n",
       "      <td id=\"T_65d26_row5_col1\" class=\"data row5 col1\" >12,598.00</td>\n",
       "      <td id=\"T_65d26_row5_col2\" class=\"data row5 col2\" >2.39</td>\n",
       "    </tr>\n",
       "    <tr>\n",
       "      <th id=\"T_65d26_level0_row6\" class=\"row_heading level0 row6\" >6</th>\n",
       "      <td id=\"T_65d26_row6_col0\" class=\"data row6 col0\" >6</td>\n",
       "      <td id=\"T_65d26_row6_col1\" class=\"data row6 col1\" >174,315.00</td>\n",
       "      <td id=\"T_65d26_row6_col2\" class=\"data row6 col2\" >33.05</td>\n",
       "    </tr>\n",
       "    <tr>\n",
       "      <th id=\"T_65d26_level0_row7\" class=\"row_heading level0 row7\" >7</th>\n",
       "      <td id=\"T_65d26_row7_col0\" class=\"data row7 col0\" >7</td>\n",
       "      <td id=\"T_65d26_row7_col1\" class=\"data row7 col1\" >54,982.00</td>\n",
       "      <td id=\"T_65d26_row7_col2\" class=\"data row7 col2\" >10.42</td>\n",
       "    </tr>\n",
       "    <tr>\n",
       "      <th id=\"T_65d26_level0_row8\" class=\"row_heading level0 row8\" >8</th>\n",
       "      <td id=\"T_65d26_row8_col0\" class=\"data row8 col0\" >8</td>\n",
       "      <td id=\"T_65d26_row8_col1\" class=\"data row8 col1\" >24,700.00</td>\n",
       "      <td id=\"T_65d26_row8_col2\" class=\"data row8 col2\" >4.68</td>\n",
       "    </tr>\n",
       "  </tbody>\n",
       "</table>\n"
      ],
      "text/plain": [
       "<pandas.io.formats.style.Styler at 0x7fd8edd6abb0>"
      ]
     },
     "execution_count": 73,
     "metadata": {},
     "output_type": "execute_result"
    }
   ],
   "source": [
    "total_products_by_cluster = df10[['cluster', 'qty_products']].groupby('cluster').sum().reset_index()\n",
    "total_products_by_cluster['perc_%'] =  100*total_products_by_cluster['qty_products']/total_products_by_cluster['qty_products'].sum()\n",
    "total_products_by_cluster.style.format({'qty_products': '{0:,.2f}', 'perc_%': '{:.2f}'})"
   ]
  },
  {
   "cell_type": "code",
   "execution_count": 74,
   "id": "e81744aa",
   "metadata": {
    "ExecuteTime": {
     "end_time": "2022-04-24T14:20:52.672599Z",
     "start_time": "2022-04-24T14:20:52.339042Z"
    }
   },
   "outputs": [
    {
     "data": {
      "image/png": "[encoded data removed]",
      "text/plain": [
       "<Figure size 1800x864 with 2 Axes>"
      ]
     },
     "metadata": {},
     "output_type": "display_data"
    },
    {
     "data": {
      "text/html": [
       "<style type=\"text/css\">\n",
       "</style>\n",
       "<table id=\"T_4e31a\">\n",
       "  <thead>\n",
       "    <tr>\n",
       "      <th class=\"blank level0\" >&nbsp;</th>\n",
       "      <th id=\"T_4e31a_level0_col0\" class=\"col_heading level0 col0\" >cluster</th>\n",
       "      <th id=\"T_4e31a_level0_col1\" class=\"col_heading level0 col1\" >qty_products</th>\n",
       "      <th id=\"T_4e31a_level0_col2\" class=\"col_heading level0 col2\" >perc_%</th>\n",
       "    </tr>\n",
       "  </thead>\n",
       "  <tbody>\n",
       "    <tr>\n",
       "      <th id=\"T_4e31a_level0_row0\" class=\"row_heading level0 row0\" >0</th>\n",
       "      <td id=\"T_4e31a_row0_col0\" class=\"data row0 col0\" >0</td>\n",
       "      <td id=\"T_4e31a_row0_col1\" class=\"data row0 col1\" >7,460.00</td>\n",
       "      <td id=\"T_4e31a_row0_col2\" class=\"data row0 col2\" >1.41</td>\n",
       "    </tr>\n",
       "    <tr>\n",
       "      <th id=\"T_4e31a_level0_row1\" class=\"row_heading level0 row1\" >1</th>\n",
       "      <td id=\"T_4e31a_row1_col0\" class=\"data row1 col0\" >1</td>\n",
       "      <td id=\"T_4e31a_row1_col1\" class=\"data row1 col1\" >97,204.00</td>\n",
       "      <td id=\"T_4e31a_row1_col2\" class=\"data row1 col2\" >18.43</td>\n",
       "    </tr>\n",
       "    <tr>\n",
       "      <th id=\"T_4e31a_level0_row2\" class=\"row_heading level0 row2\" >2</th>\n",
       "      <td id=\"T_4e31a_row2_col0\" class=\"data row2 col0\" >2</td>\n",
       "      <td id=\"T_4e31a_row2_col1\" class=\"data row2 col1\" >62,915.00</td>\n",
       "      <td id=\"T_4e31a_row2_col2\" class=\"data row2 col2\" >11.93</td>\n",
       "    </tr>\n",
       "    <tr>\n",
       "      <th id=\"T_4e31a_level0_row3\" class=\"row_heading level0 row3\" >3</th>\n",
       "      <td id=\"T_4e31a_row3_col0\" class=\"data row3 col0\" >3</td>\n",
       "      <td id=\"T_4e31a_row3_col1\" class=\"data row3 col1\" >4,157.00</td>\n",
       "      <td id=\"T_4e31a_row3_col2\" class=\"data row3 col2\" >0.79</td>\n",
       "    </tr>\n",
       "    <tr>\n",
       "      <th id=\"T_4e31a_level0_row4\" class=\"row_heading level0 row4\" >4</th>\n",
       "      <td id=\"T_4e31a_row4_col0\" class=\"data row4 col0\" >4</td>\n",
       "      <td id=\"T_4e31a_row4_col1\" class=\"data row4 col1\" >89,076.00</td>\n",
       "      <td id=\"T_4e31a_row4_col2\" class=\"data row4 col2\" >16.89</td>\n",
       "    </tr>\n",
       "    <tr>\n",
       "      <th id=\"T_4e31a_level0_row5\" class=\"row_heading level0 row5\" >5</th>\n",
       "      <td id=\"T_4e31a_row5_col0\" class=\"data row5 col0\" >5</td>\n",
       "      <td id=\"T_4e31a_row5_col1\" class=\"data row5 col1\" >12,598.00</td>\n",
       "      <td id=\"T_4e31a_row5_col2\" class=\"data row5 col2\" >2.39</td>\n",
       "    </tr>\n",
       "    <tr>\n",
       "      <th id=\"T_4e31a_level0_row6\" class=\"row_heading level0 row6\" >6</th>\n",
       "      <td id=\"T_4e31a_row6_col0\" class=\"data row6 col0\" >6</td>\n",
       "      <td id=\"T_4e31a_row6_col1\" class=\"data row6 col1\" >174,315.00</td>\n",
       "      <td id=\"T_4e31a_row6_col2\" class=\"data row6 col2\" >33.05</td>\n",
       "    </tr>\n",
       "    <tr>\n",
       "      <th id=\"T_4e31a_level0_row7\" class=\"row_heading level0 row7\" >7</th>\n",
       "      <td id=\"T_4e31a_row7_col0\" class=\"data row7 col0\" >7</td>\n",
       "      <td id=\"T_4e31a_row7_col1\" class=\"data row7 col1\" >54,982.00</td>\n",
       "      <td id=\"T_4e31a_row7_col2\" class=\"data row7 col2\" >10.42</td>\n",
       "    </tr>\n",
       "    <tr>\n",
       "      <th id=\"T_4e31a_level0_row8\" class=\"row_heading level0 row8\" >8</th>\n",
       "      <td id=\"T_4e31a_row8_col0\" class=\"data row8 col0\" >8</td>\n",
       "      <td id=\"T_4e31a_row8_col1\" class=\"data row8 col1\" >24,700.00</td>\n",
       "      <td id=\"T_4e31a_row8_col2\" class=\"data row8 col2\" >4.68</td>\n",
       "    </tr>\n",
       "  </tbody>\n",
       "</table>\n"
      ],
      "text/plain": [
       "<pandas.io.formats.style.Styler at 0x7fd948599430>"
      ]
     },
     "metadata": {},
     "output_type": "display_data"
    }
   ],
   "source": [
    "fig = plt.figure() # creating matplotlib figure\n",
    "\n",
    "ax = fig.add_subplot() # creating matplotlib axes\n",
    "ax2 = ax.twinx() # creating another axes that shares the same x-axis as ax.\n",
    "\n",
    "ax.bar(total_products_by_cluster['cluster'], total_products_by_cluster['qty_products'], color='orange', width=0.5)\n",
    "ax2.plot(total_products_by_cluster['cluster'], total_products_by_cluster['perc_%'], color='red')\n",
    "\n",
    "for index, percentage in enumerate( round(total_products_by_cluster['perc_%'],2) ):\n",
    "    ax2.text( index, np.around(percentage,2), str(percentage)+'%')\n",
    "\n",
    "plt.xticks(total_products_by_cluster['cluster'])\n",
    "ax.set_ylabel('Qty of Products Purchased', fontsize=20)\n",
    "ax.yaxis.set_major_formatter(mticker.StrMethodFormatter('${x:,.0f}'))\n",
    "                                                                                                                       \n",
    "ax2.set_ylabel('Percentage of Total Products Purchased%',fontsize=20)\n",
    "ax2.yaxis.set_major_formatter(mticker.StrMethodFormatter('{x:.0f}%'))\n",
    "ax2.set_ylim([0,110])\n",
    "ax2.grid(visible=False)\n",
    "\n",
    "plt.title('Quantity of Products by Clusters', fontdict= {'fontsize': 25})\n",
    "plt.show()\n",
    "mpl.rcParams['font.size']=20\n",
    "display(total_products_by_cluster[['cluster', 'qty_products', 'perc_%']].style.format({'qty_products': '{0:,.2f}', 'perc_%': '{:.2f}'}))"
   ]
  },
  {
   "cell_type": "markdown",
   "id": "a13a23cb",
   "metadata": {},
   "source": [
    "## 6. What are the conditions for a person to be eligible for Champions?"
   ]
  },
  {
   "cell_type": "markdown",
   "id": "f99c6507",
   "metadata": {},
   "source": [
    "The model will tell us who will be in the inside"
   ]
  },
  {
   "cell_type": "markdown",
   "id": "bcf87c54",
   "metadata": {},
   "source": [
    "## 7. What are the conditions for a person to be removed from Champions?"
   ]
  },
  {
   "cell_type": "markdown",
   "id": "90765012",
   "metadata": {},
   "source": [
    "The model will tell us who will be in the inside"
   ]
  },
  {
   "cell_type": "markdown",
   "id": "81624f3a",
   "metadata": {},
   "source": [
    "## 8.What are the guarantees that the Champions program is better than the rest of the base?"
   ]
  },
  {
   "cell_type": "code",
   "execution_count": null,
   "id": "c7c448c3",
   "metadata": {},
   "outputs": [],
   "source": []
  },
  {
   "cell_type": "markdown",
   "id": "8654a145",
   "metadata": {},
   "source": [
    "## 9. What actions can the marketing team take to increase sales?"
   ]
  },
  {
   "cell_type": "code",
   "execution_count": null,
   "id": "6a6dc624",
   "metadata": {},
   "outputs": [],
   "source": []
  },
  {
   "cell_type": "markdown",
   "id": "ee05ffc7",
   "metadata": {},
   "source": [
    "# Exploratory Dada Analysis"
   ]
  },
  {
   "cell_type": "code",
   "execution_count": null,
   "id": "0400833a",
   "metadata": {
    "ExecuteTime": {
     "end_time": "2022-04-24T13:30:20.657310Z",
     "start_time": "2022-04-24T13:30:20.657292Z"
    }
   },
   "outputs": [],
   "source": [
    "df10 = df92.copy()"
   ]
  },
  {
   "cell_type": "code",
   "execution_count": null,
   "id": "666b91bc",
   "metadata": {
    "ExecuteTime": {
     "end_time": "2022-04-24T13:30:20.658441Z",
     "start_time": "2022-04-24T13:30:20.658429Z"
    }
   },
   "outputs": [],
   "source": [
    "df10.head()"
   ]
  },
  {
   "cell_type": "markdown",
   "id": "fifth-tooth",
   "metadata": {},
   "source": [
    "# MODEL DEPLOYMENT"
   ]
  },
  {
   "cell_type": "code",
   "execution_count": 78,
   "id": "330ad104",
   "metadata": {
    "ExecuteTime": {
     "end_time": "2022-04-24T15:16:45.895990Z",
     "start_time": "2022-04-24T15:16:45.850309Z"
    }
   },
   "outputs": [
    {
     "data": {
      "text/plain": [
       "customer_id         int64\n",
       "gross_revenue     float64\n",
       "recency_days      float64\n",
       "qty_invoice_no    float64\n",
       "qty_items         float64\n",
       "qty_products      float64\n",
       "frequency         float64\n",
       "qty_returns       float64\n",
       "cluster             int64\n",
       "dtype: object"
      ]
     },
     "execution_count": 78,
     "metadata": {},
     "output_type": "execute_result"
    }
   ],
   "source": [
    "df92.dtypes"
   ]
  },
  {
   "cell_type": "code",
   "execution_count": 79,
   "id": "cb5c4b15",
   "metadata": {
    "ExecuteTime": {
     "end_time": "2022-04-24T15:18:18.033057Z",
     "start_time": "2022-04-24T15:18:18.002057Z"
    }
   },
   "outputs": [],
   "source": [
    "df92['recency_days'] = df92['recency_days'].astype(int)\n",
    "df92['qty_invoice_no'] = df92['qty_invoice_no'].astype(int)\n",
    "df92['qty_items'] = df92['qty_items'].astype(int)\n",
    "df92['qty_products'] = df92['qty_products'].astype(int)\n",
    "df92['qty_returns'] = df92['qty_returns'].astype(int)"
   ]
  },
  {
   "cell_type": "code",
   "execution_count": 80,
   "id": "8639b5be",
   "metadata": {
    "ExecuteTime": {
     "end_time": "2022-04-24T15:18:23.968177Z",
     "start_time": "2022-04-24T15:18:23.961210Z"
    }
   },
   "outputs": [
    {
     "data": {
      "text/plain": [
       "customer_id         int64\n",
       "gross_revenue     float64\n",
       "recency_days        int64\n",
       "qty_invoice_no      int64\n",
       "qty_items           int64\n",
       "qty_products        int64\n",
       "frequency         float64\n",
       "qty_returns         int64\n",
       "cluster             int64\n",
       "dtype: object"
      ]
     },
     "execution_count": 80,
     "metadata": {},
     "output_type": "execute_result"
    }
   ],
   "source": [
    "df92.dtypes"
   ]
  },
  {
   "cell_type": "markdown",
   "id": "39783c59",
   "metadata": {
    "heading_collapsed": true
   },
   "source": [
    "## Local"
   ]
  },
  {
   "cell_type": "code",
   "execution_count": null,
   "id": "a6971fe6",
   "metadata": {
    "ExecuteTime": {
     "end_time": "2022-04-24T13:30:20.661380Z",
     "start_time": "2022-04-24T13:30:20.661369Z"
    },
    "hidden": true
   },
   "outputs": [],
   "source": [
    "# # create database\n",
    "# conn = sqlite3.connect('champions_db.sqlite')\n",
    "\n",
    "# # create table\n",
    "# query_create_champions = \"\"\"\n",
    "#     CREATE TABLE champions (\n",
    "#         customer_id      INTEGER,\n",
    "#         gross_revenue  REAL,\n",
    "#         recency_days   INTEGER,\n",
    "#         qty_invoice_no INTEGER,\n",
    "#         qty_items      INTEGER,\n",
    "#         qty_products   INTEGER,\n",
    "#         frequency      INTEGER,\n",
    "#         qty_returns    INTEGER,\n",
    "#         cluster        INTEGER\n",
    "#         )\n",
    "# \"\"\"\n",
    "\n",
    "# conn.execute(query_create_champions)\n",
    "# conn.commit()\n",
    "# conn.close()\n",
    "\n",
    "# # database connection\n",
    "# conn = create_engine('sqlite:///champions_db.sqlite')"
   ]
  },
  {
   "cell_type": "code",
   "execution_count": 90,
   "id": "d2f42ce3",
   "metadata": {
    "ExecuteTime": {
     "end_time": "2022-04-24T15:26:57.266114Z",
     "start_time": "2022-04-24T15:26:57.256118Z"
    },
    "hidden": true
   },
   "outputs": [
    {
     "data": {
      "text/plain": [
       "<sqlite3.Cursor at 0x7fd948893340>"
      ]
     },
     "execution_count": 90,
     "metadata": {},
     "output_type": "execute_result"
    }
   ],
   "source": [
    "# drop table\n",
    "# query_drop_champions = \"\"\"\n",
    "#     DROP TABLE champions\n",
    "\n",
    "# \"\"\"\n",
    "\n",
    "#create table\n",
    "query_create_champions = \"\"\"\n",
    "    CREATE TABLE champions (\n",
    "        customer_id      INTEGER,\n",
    "        gross_revenue  REAL,\n",
    "        recency_days   INTEGER,\n",
    "        qty_invoice_no INTEGER,\n",
    "        qty_items      INTEGER,\n",
    "        qty_products   INTEGER,\n",
    "        frequency      INTEGER,\n",
    "        qty_returns    INTEGER,\n",
    "        cluster        INTEGER\n",
    "        )\n",
    "\"\"\"\n",
    "\n",
    "conn.execute(query_create_champions)"
   ]
  },
  {
   "cell_type": "code",
   "execution_count": 92,
   "id": "f9b3481a",
   "metadata": {
    "ExecuteTime": {
     "end_time": "2022-04-24T15:27:33.634663Z",
     "start_time": "2022-04-24T15:27:33.613139Z"
    },
    "hidden": true
   },
   "outputs": [
    {
     "data": {
      "text/plain": [
       "5693"
      ]
     },
     "execution_count": 92,
     "metadata": {},
     "output_type": "execute_result"
    }
   ],
   "source": [
    "# insert into data\n",
    "df92.to_sql('champions', con = conn, if_exists = 'append', index = False)"
   ]
  },
  {
   "cell_type": "code",
   "execution_count": 84,
   "id": "a9c1e5ec",
   "metadata": {
    "ExecuteTime": {
     "end_time": "2022-04-24T15:21:52.320059Z",
     "start_time": "2022-04-24T15:21:52.311020Z"
    },
    "hidden": true
   },
   "outputs": [],
   "source": [
    "conn = sqlite3.connect('champions_db.sqlite')"
   ]
  },
  {
   "cell_type": "code",
   "execution_count": 93,
   "id": "9f0e4bf7",
   "metadata": {
    "ExecuteTime": {
     "end_time": "2022-04-24T15:27:38.176746Z",
     "start_time": "2022-04-24T15:27:38.146990Z"
    },
    "hidden": true,
    "scrolled": true
   },
   "outputs": [
    {
     "data": {
      "text/html": [
       "<div>\n",
       "<style scoped>\n",
       "    .dataframe tbody tr th:only-of-type {\n",
       "        vertical-align: middle;\n",
       "    }\n",
       "\n",
       "    .dataframe tbody tr th {\n",
       "        vertical-align: top;\n",
       "    }\n",
       "\n",
       "    .dataframe thead th {\n",
       "        text-align: right;\n",
       "    }\n",
       "</style>\n",
       "<table border=\"1\" class=\"dataframe\">\n",
       "  <thead>\n",
       "    <tr style=\"text-align: right;\">\n",
       "      <th></th>\n",
       "      <th>customer_id</th>\n",
       "      <th>gross_revenue</th>\n",
       "      <th>recency_days</th>\n",
       "      <th>qty_invoice_no</th>\n",
       "      <th>qty_items</th>\n",
       "      <th>qty_products</th>\n",
       "      <th>frequency</th>\n",
       "      <th>qty_returns</th>\n",
       "      <th>cluster</th>\n",
       "    </tr>\n",
       "  </thead>\n",
       "  <tbody>\n",
       "    <tr>\n",
       "      <th>0</th>\n",
       "      <td>17850</td>\n",
       "      <td>5391.21</td>\n",
       "      <td>372</td>\n",
       "      <td>34</td>\n",
       "      <td>1733</td>\n",
       "      <td>297</td>\n",
       "      <td>17.000000</td>\n",
       "      <td>40</td>\n",
       "      <td>4</td>\n",
       "    </tr>\n",
       "    <tr>\n",
       "      <th>1</th>\n",
       "      <td>13047</td>\n",
       "      <td>3232.59</td>\n",
       "      <td>56</td>\n",
       "      <td>9</td>\n",
       "      <td>1390</td>\n",
       "      <td>171</td>\n",
       "      <td>0.028302</td>\n",
       "      <td>35</td>\n",
       "      <td>4</td>\n",
       "    </tr>\n",
       "    <tr>\n",
       "      <th>2</th>\n",
       "      <td>12583</td>\n",
       "      <td>6705.38</td>\n",
       "      <td>2</td>\n",
       "      <td>15</td>\n",
       "      <td>5028</td>\n",
       "      <td>232</td>\n",
       "      <td>0.040323</td>\n",
       "      <td>50</td>\n",
       "      <td>6</td>\n",
       "    </tr>\n",
       "    <tr>\n",
       "      <th>3</th>\n",
       "      <td>13748</td>\n",
       "      <td>948.25</td>\n",
       "      <td>95</td>\n",
       "      <td>5</td>\n",
       "      <td>439</td>\n",
       "      <td>28</td>\n",
       "      <td>0.017921</td>\n",
       "      <td>0</td>\n",
       "      <td>2</td>\n",
       "    </tr>\n",
       "    <tr>\n",
       "      <th>4</th>\n",
       "      <td>15100</td>\n",
       "      <td>876.00</td>\n",
       "      <td>333</td>\n",
       "      <td>3</td>\n",
       "      <td>80</td>\n",
       "      <td>3</td>\n",
       "      <td>0.073171</td>\n",
       "      <td>22</td>\n",
       "      <td>0</td>\n",
       "    </tr>\n",
       "  </tbody>\n",
       "</table>\n",
       "</div>"
      ],
      "text/plain": [
       "   customer_id  gross_revenue  recency_days  qty_invoice_no  qty_items  qty_products  frequency  qty_returns  cluster\n",
       "0        17850        5391.21           372              34       1733           297  17.000000           40        4\n",
       "1        13047        3232.59            56               9       1390           171   0.028302           35        4\n",
       "2        12583        6705.38             2              15       5028           232   0.040323           50        6\n",
       "3        13748         948.25            95               5        439            28   0.017921            0        2\n",
       "4        15100         876.00           333               3         80             3   0.073171           22        0"
      ]
     },
     "execution_count": 93,
     "metadata": {},
     "output_type": "execute_result"
    }
   ],
   "source": [
    "# consulting database\n",
    "# get query\n",
    "query_collect = \"\"\"\n",
    "    SELECT * from champions\n",
    "\"\"\"\n",
    "\n",
    "df = pd.read_sql_query(query_collect, conn)\n",
    "df.head()"
   ]
  },
  {
   "cell_type": "markdown",
   "id": "1dc6f484",
   "metadata": {},
   "source": [
    "## AWS S3 / RDS / EC2"
   ]
  },
  {
   "cell_type": "code",
   "execution_count": 146,
   "id": "7042b12c",
   "metadata": {
    "ExecuteTime": {
     "end_time": "2022-04-24T15:51:46.991075Z",
     "start_time": "2022-04-24T15:51:46.984244Z"
    }
   },
   "outputs": [],
   "source": [
    "# get postgres RDS environmnet access keys\n",
    "user     = os.environ.get('user')\n",
    "pwd      = os.environ.get('pwd')\n",
    "host     = os.environ.get('host')\n",
    "port     = os.environ.get('port')\n",
    "database = os.environ.get('database')"
   ]
  },
  {
   "cell_type": "code",
   "execution_count": 147,
   "id": "c998fd5e",
   "metadata": {
    "ExecuteTime": {
     "end_time": "2022-04-24T15:51:48.150229Z",
     "start_time": "2022-04-24T15:51:48.147902Z"
    }
   },
   "outputs": [],
   "source": [
    "endpoint = 'postgresql' + '://' + user + ':' + pwd + '@' + host + '/' + database"
   ]
  },
  {
   "cell_type": "code",
   "execution_count": 148,
   "id": "4dccdc00",
   "metadata": {
    "ExecuteTime": {
     "end_time": "2022-04-24T15:51:49.032679Z",
     "start_time": "2022-04-24T15:51:49.024815Z"
    }
   },
   "outputs": [],
   "source": [
    "# database connection\n",
    "conn = create_engine(endpoint)\n",
    "\n",
    "\n",
    "# # drop table\n",
    "# query_drop_champions = \"\"\"\n",
    "#     DROP TABLE champions\n",
    "\n",
    "# \"\"\"\n",
    "\n",
    "# #create table\n",
    "# query_create_champions = \"\"\"\n",
    "#     CREATE TABLE champions (\n",
    "#         customer_id      INTEGER,\n",
    "#         gross_revenue  REAL,\n",
    "#         recency_days   INTEGER,\n",
    "#         qty_invoice_no INTEGER,\n",
    "#         qty_items      INTEGER,\n",
    "#         qty_products   INTEGER,\n",
    "#         frequency      INTEGER,\n",
    "#         qty_returns    INTEGER,\n",
    "#         cluster        INTEGER\n",
    "#         )\n",
    "# \"\"\"\n",
    "\n",
    "# conn.execute(query_create_champions)"
   ]
  },
  {
   "cell_type": "code",
   "execution_count": null,
   "id": "334bcfcd",
   "metadata": {
    "ExecuteTime": {
     "end_time": "2022-04-24T13:30:20.668155Z",
     "start_time": "2022-04-24T13:30:20.668144Z"
    }
   },
   "outputs": [],
   "source": [
    "# insert into data\n",
    "df92.to_sql('champions', con = conn, if_exists = 'append', index = False)"
   ]
  },
  {
   "cell_type": "code",
   "execution_count": 149,
   "id": "902413fc",
   "metadata": {
    "ExecuteTime": {
     "end_time": "2022-04-24T15:51:53.933438Z",
     "start_time": "2022-04-24T15:51:50.835701Z"
    }
   },
   "outputs": [
    {
     "data": {
      "text/html": [
       "<div>\n",
       "<style scoped>\n",
       "    .dataframe tbody tr th:only-of-type {\n",
       "        vertical-align: middle;\n",
       "    }\n",
       "\n",
       "    .dataframe tbody tr th {\n",
       "        vertical-align: top;\n",
       "    }\n",
       "\n",
       "    .dataframe thead th {\n",
       "        text-align: right;\n",
       "    }\n",
       "</style>\n",
       "<table border=\"1\" class=\"dataframe\">\n",
       "  <thead>\n",
       "    <tr style=\"text-align: right;\">\n",
       "      <th></th>\n",
       "      <th>customer_id</th>\n",
       "      <th>gross_revenue</th>\n",
       "      <th>recency_days</th>\n",
       "      <th>qty_invoice_no</th>\n",
       "      <th>qty_items</th>\n",
       "      <th>qty_products</th>\n",
       "      <th>frequency</th>\n",
       "      <th>qty_returns</th>\n",
       "      <th>cluster</th>\n",
       "    </tr>\n",
       "  </thead>\n",
       "  <tbody>\n",
       "  </tbody>\n",
       "</table>\n",
       "</div>"
      ],
      "text/plain": [
       "Empty DataFrame\n",
       "Columns: [customer_id, gross_revenue, recency_days, qty_invoice_no, qty_items, qty_products, frequency, qty_returns, cluster]\n",
       "Index: []"
      ]
     },
     "execution_count": 149,
     "metadata": {},
     "output_type": "execute_result"
    }
   ],
   "source": [
    "# # get query\n",
    "# query_collect = \"\"\"\n",
    "#     SELECT * FROM champions\n",
    "# \"\"\"\n",
    "\n",
    "# df = pd.read_sql_query(query_collect, conn)\n",
    "# df.head()"
   ]
  }
 ],
 "metadata": {
  "kernelspec": {
   "display_name": "Python 3 (ipykernel)",
   "language": "python",
   "name": "python3"
  },
  "language_info": {
   "codemirror_mode": {
    "name": "ipython",
    "version": 3
   },
   "file_extension": ".py",
   "mimetype": "text/x-python",
   "name": "python",
   "nbconvert_exporter": "python",
   "pygments_lexer": "ipython3",
   "version": "3.9.2"
  },
  "nbTranslate": {
   "displayLangs": [
    "*"
   ],
   "hotkey": "alt-t",
   "langInMainMenu": true,
   "sourceLang": "en",
   "targetLang": "fr",
   "useGoogleTranslate": true
  },
  "toc": {
   "base_numbering": 1,
   "nav_menu": {},
   "number_sections": true,
   "sideBar": true,
   "skip_h1_title": false,
   "title_cell": "Table of Contents",
   "title_sidebar": "Contents",
   "toc_cell": false,
   "toc_position": {},
   "toc_section_display": true,
   "toc_window_display": false
  }
 },
 "nbformat": 4,
 "nbformat_minor": 5
}
