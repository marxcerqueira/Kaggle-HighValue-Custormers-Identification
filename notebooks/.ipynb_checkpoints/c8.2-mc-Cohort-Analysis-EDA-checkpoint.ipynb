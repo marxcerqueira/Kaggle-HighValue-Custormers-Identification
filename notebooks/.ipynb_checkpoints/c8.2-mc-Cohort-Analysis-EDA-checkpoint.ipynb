{
 "cells": [
  {
   "cell_type": "markdown",
   "id": "french-dollar",
   "metadata": {},
   "source": [
    "# High Value Customers Identification (Insiders) #\n",
    "**By: Marx Cerqueira**"
   ]
  },
  {
   "cell_type": "markdown",
   "id": "important-recognition",
   "metadata": {
    "ExecuteTime": {
     "end_time": "2021-04-06T22:26:41.105101Z",
     "start_time": "2021-04-06T22:26:41.095519Z"
    }
   },
   "source": [
    "**Background of Problem Statement:**\n",
    "\n",
    "All-in-One-Place company is a online retail store based in UK, and has captured the sales data for different products for the period of one year (Nov 2016 to Dec 2017).\n",
    "\n",
    "Within just one year of operation, the marketing team realized that some customers buy more expensive products with high frequency and contribute to a significant portion of the company's revenue.\n",
    "\n",
    "Due to this, the marketing team will launch a loyalty program for the best customers in the company's database, called High Value Customers. However, the team does not have advanced knowledge of data analysis to select program participants.\n",
    "\n",
    "For this reason, the marketing team asked the data science team to select eligible customers for this loyalty program using advanced data manipulation and modeling techniques.\n",
    "\n",
    "**Project Objective:**\n",
    "Find significant customers for the business who make high purchases of their favourite products. The organization wants to roll out a loyalty program to the high-value customers after identification of segments. Use the clustering methodology to segment customers into groups."
   ]
  },
  {
   "cell_type": "markdown",
   "id": "blocked-craft",
   "metadata": {},
   "source": [
    "## Project Solution Planning"
   ]
  },
  {
   "cell_type": "markdown",
   "id": "violent-double",
   "metadata": {
    "ExecuteTime": {
     "end_time": "2021-04-07T12:44:04.386844Z",
     "start_time": "2021-04-07T12:44:04.384084Z"
    },
    "heading_collapsed": true
   },
   "source": [
    "### Input"
   ]
  },
  {
   "cell_type": "markdown",
   "id": "mobile-galaxy",
   "metadata": {
    "hidden": true
   },
   "source": [
    "1. Problema de Negócio\n",
    "    - Selecionar os clientes mais valiosos para integrar um programa de fidelização\n",
    "2. Conjunto de dados\n",
    "    - Vendas de um ecommerce, durante um período de um ano (nov 2015 to Dec 2017)"
   ]
  },
  {
   "cell_type": "markdown",
   "id": "floppy-springer",
   "metadata": {
    "heading_collapsed": true
   },
   "source": [
    "### Output\n"
   ]
  },
  {
   "cell_type": "markdown",
   "id": "false-renewal",
   "metadata": {
    "hidden": true
   },
   "source": [
    "1. Indicação das pessoas que farão parte do programa de fidelização (insiders)\n",
    "    - Lista: client_id > Is insider\n",
    "             11321     > yes/1\n",
    "             14332     > no/1\n",
    "             \n",
    "2. Relatório com as respostas das perguntas de negócio\n",
    "\n",
    "    - Quem são as pessoas elegíveis para participar do programa de Insiders ?\n",
    "    - Quantos clientes farão parte do grupo?\n",
    "    - Quais as principais características desses clientes ?\n",
    "    - Qual a porcentagem de contribuição do faturamento, vinda do Insiders ?\n",
    "    - Qual a expectativa de faturamento desse grupo para os próximos meses ?\n",
    "    - Quais as condições para uma pessoa ser elegível ao Insiders ?\n",
    "    - Quais as condições para uma pessoa ser removida do Insiders ?\n",
    "    - Qual a garantia que o programa Insiders é melhor que o restante da base ?\n",
    "    - Quais ações o time de marketing pode realizar para aumentar o faturamento?"
   ]
  },
  {
   "cell_type": "markdown",
   "id": "physical-command",
   "metadata": {
    "heading_collapsed": true
   },
   "source": [
    "### Tasks"
   ]
  },
  {
   "cell_type": "markdown",
   "id": "short-spank",
   "metadata": {
    "hidden": true
   },
   "source": [
    "1. **Quem são as pessoas elegíveis para participar do programa de Insiders ?**\n",
    "    - O que é ser elegível? O que são clientes de maior \"valor\"?\n",
    "    - Faturamento: ** criação de features **\n",
    "        - Alto Ticket Médio (média do valor gasto por cliente, quanto o cliente gasta na média com a empresa;\n",
    "        - Alto LTV (Life Time Value);\n",
    "        - Baixa Recência (tempo da última compra), queremos uma recência menor ou Alta Frequência (tempo entre as compras);\n",
    "        - Alto basket size;\n",
    "        - Baixa probabilidade de Churn;\n",
    "        - Alta previsão de LTV;\n",
    "        - Alta propensão de compra;\n",
    "        \n",
    "    - Custos:\n",
    "        - Baixa taxa de devolução; A empresa tem um custo por devolução, normalmente essa taxa é definida no modelo de negócio da empresa (business plan);        \n",
    "        \n",
    "    - Experiência de compra:\n",
    "        - Média alta das avaliações\n",
    "    \n",
    "2. **Quantos clientes farão parte do grupo?**\n",
    "    - Número total de clientes\n",
    "    - % do grupo Insiders\n",
    "    \n",
    "    \n",
    "3. **Quais as principais características desses clientes ?**\n",
    "    - Escrever as características do cliente:\n",
    "        - Idade\n",
    "        - Localização \n",
    "        - em resumo é o look a like\n",
    "    - Escrever características do consumo.\n",
    "        - Atributos da clusterização;\n",
    "\n",
    "4. **Qual a porcentagem de contribuição do faturamento, vinda do Insiders ?**\n",
    "    - Faturamento total do ano\n",
    "    - Faturamento do grupo Insiders (verificar quantos % da receita total vem desse grupo)\n",
    "    \n",
    "5. **Qual a expectativa de faturamento desse grupo para os próximos meses ?**\n",
    "    - LTV do grupo Insiders\n",
    "    - Análise de Cohort\n",
    "6. **Quais as condições para uma pessoa ser elegível ao Insiders ?**\n",
    "    - Definir a periodicidade do modelo (1 mes, 3 meses...)\n",
    "    - O \"desempenho\" do cliente está próximo da média do cluster Insiders\n",
    "    \n",
    "7. **Quais as condições para uma pessoa ser removida do Insiders ?**\n",
    "    - Definir a periodicidade do modelo (1 mes, 3 meses...)\n",
    "    - A pessoa precisa ser desimilar ou não-parecido com uma pessoa do grupo\n",
    "    \n",
    "8. **Qual a garantia que o programa Insiders é melhor que o restante da base ?**\n",
    "    - Teste A/B\n",
    "    - Teste A/B Bayesiano\n",
    "    - Teste de hipóteses.\n",
    "    \n",
    "9. **Quais ações o time de marketing pode realizar para aumentar o faturamento?**\n",
    "    - Desconto\n",
    "    - Preferencia de compra\n",
    "    - Frete\n",
    "    - Visita a empresa, etc."
   ]
  },
  {
   "cell_type": "code",
   "execution_count": 1,
   "id": "apart-twenty",
   "metadata": {
    "ExecuteTime": {
     "end_time": "2022-03-12T18:46:52.905976Z",
     "start_time": "2022-03-12T18:46:52.893677Z"
    },
    "hidden": true,
    "scrolled": true
   },
   "outputs": [
    {
     "data": {
      "image/png": "[encoded data removed]",
      "text/plain": [
       "<IPython.core.display.Image object>"
      ]
     },
     "execution_count": 1,
     "metadata": {},
     "output_type": "execute_result"
    }
   ],
   "source": [
    "from IPython.display import Image\n",
    "Image(filename='/home/marxcerqueira/repos/Kaggle-HighValue-Custormers-Identification/reports/figures/mapa_metricas_e_commerce.png')"
   ]
  },
  {
   "cell_type": "markdown",
   "id": "corrected-differential",
   "metadata": {
    "ExecuteTime": {
     "end_time": "2021-05-06T14:07:54.803472Z",
     "start_time": "2021-05-06T14:07:54.800869Z"
    },
    "heading_collapsed": true
   },
   "source": [
    "## E-commerce Metrics"
   ]
  },
  {
   "cell_type": "markdown",
   "id": "renewable-combat",
   "metadata": {
    "ExecuteTime": {
     "end_time": "2021-05-06T14:08:01.164752Z",
     "start_time": "2021-05-06T14:08:01.155180Z"
    },
    "hidden": true
   },
   "source": [
    "- **Growth Metrics**:\n",
    "    1. Porcentagem do Marketshare\n",
    "    2. Número de Clientes Novos\n",
    "- **Revenue Metrics**:\n",
    "    1. Número de Vendas\n",
    "    2. Ticket Médio\n",
    "    3. LTV ( Long Time Value )\n",
    "    4. Recência Média\n",
    "    5. Basket Size Médio\n",
    "    6. Markup médio\n",
    "- **Cost Metrics**:\n",
    "    1. CAC ( Custo de aquisição de Clientes )\n",
    "    2. Desconto médio\n",
    "    3. Custo de Produção\n",
    "    4. Taxa de devolução\n",
    "    5. Custos Fixos ( Folha de pagamento, escritório, softwares )\n",
    "    6. Impostos"
   ]
  },
  {
   "cell_type": "markdown",
   "id": "offshore-austin",
   "metadata": {
    "heading_collapsed": true
   },
   "source": [
    "## Benchmark de Soluções"
   ]
  },
  {
   "cell_type": "markdown",
   "id": "functioning-ebony",
   "metadata": {
    "hidden": true
   },
   "source": [
    "Desk Research\n",
    "1. Fazer pesquisas sobre o que as pessoas já fizeram, quais problemas de clusterização resolveram e como resolveram.\n",
    "2. Leitura dos artigos\n",
    "3. Resultado: 3 ou 4 soluções que você entendeu, e verificar o que da pra aproveitar para o nosso contexto."
   ]
  },
  {
   "cell_type": "markdown",
   "id": "homeless-heading",
   "metadata": {},
   "source": [
    "# IMPORTS"
   ]
  },
  {
   "cell_type": "code",
   "execution_count": 246,
   "id": "lovely-guess",
   "metadata": {
    "ExecuteTime": {
     "end_time": "2022-04-28T11:55:39.114419Z",
     "start_time": "2022-04-28T11:55:39.105776Z"
    },
    "scrolled": true
   },
   "outputs": [],
   "source": [
    "import os\n",
    "import inflection\n",
    "import sqlite3\n",
    "\n",
    "import numpy   as np\n",
    "import pandas  as pd\n",
    "import seaborn as sns\n",
    "\n",
    "import matplotlib.ticker   as mticker\n",
    "import matplotlib.colors   as mcolors\n",
    "\n",
    "from IPython.display import HTML\n",
    "from IPython.display import Image\n",
    "from matplotlib      import pyplot as plt\n",
    "from operator        import attrgetter\n",
    "\n",
    "from sqlalchemy import create_engine"
   ]
  },
  {
   "cell_type": "markdown",
   "id": "dressed-ukraine",
   "metadata": {},
   "source": [
    "## Helper Functions"
   ]
  },
  {
   "cell_type": "code",
   "execution_count": 4,
   "id": "cordless-people",
   "metadata": {
    "ExecuteTime": {
     "end_time": "2022-04-27T20:17:56.334075Z",
     "start_time": "2022-04-27T20:17:56.328104Z"
    }
   },
   "outputs": [],
   "source": [
    "def jupyter_settings():\n",
    "    %matplotlib inline\n",
    "    %pylab inline\n",
    "    \n",
    "    plt.style.use( 'bmh' )\n",
    "    plt.rcParams['figure.figsize'] = [25, 12]\n",
    "    plt.rcParams['font.size'] = 24\n",
    "    \n",
    "    display( HTML( '<style>.container { width:100% !important; }</style>') )\n",
    "    pd.options.display.max_columns = None\n",
    "    pd.options.display.max_rows = None\n",
    "    pd.set_option( 'display.expand_frame_repr', False )\n",
    "    \n",
    "    sns.set()"
   ]
  },
  {
   "cell_type": "code",
   "execution_count": 5,
   "id": "casual-ecology",
   "metadata": {
    "ExecuteTime": {
     "end_time": "2022-04-27T20:17:57.422339Z",
     "start_time": "2022-04-27T20:17:57.412876Z"
    },
    "scrolled": true
   },
   "outputs": [
    {
     "name": "stdout",
     "output_type": "stream",
     "text": [
      "%pylab is deprecated, use %matplotlib inline and import the required libraries.\n",
      "Populating the interactive namespace from numpy and matplotlib\n"
     ]
    },
    {
     "data": {
      "text/html": [
       "<style>.container { width:100% !important; }</style>"
      ],
      "text/plain": [
       "<IPython.core.display.HTML object>"
      ]
     },
     "metadata": {},
     "output_type": "display_data"
    }
   ],
   "source": [
    "jupyter_settings()"
   ]
  },
  {
   "cell_type": "markdown",
   "id": "satisfied-catholic",
   "metadata": {},
   "source": [
    "## Loading Data"
   ]
  },
  {
   "cell_type": "code",
   "execution_count": 6,
   "id": "25507923",
   "metadata": {
    "ExecuteTime": {
     "end_time": "2022-04-27T20:19:03.320234Z",
     "start_time": "2022-04-27T20:19:03.314731Z"
    }
   },
   "outputs": [],
   "source": [
    "# get AWS environmnet access keys\n",
    "AWS_ACCESS_KEY_ID     = os.environ.get('AWS_ACCESS_KEY_ID')\n",
    "AWS_SECRET_ACCESS_KEY = os.environ.get('AWS_SECRET_ACCESS_KEY')"
   ]
  },
  {
   "cell_type": "code",
   "execution_count": 7,
   "id": "front-edinburgh",
   "metadata": {
    "ExecuteTime": {
     "end_time": "2022-04-27T20:19:32.550381Z",
     "start_time": "2022-04-27T20:19:20.663598Z"
    },
    "scrolled": true
   },
   "outputs": [],
   "source": [
    "# load data\n",
    "path_s3 = 's3://mc-insiders-dataset/'\n",
    "\n",
    "df_ecomm_raw = pd.read_csv(path_s3 + 'Ecommerce.csv',\n",
    "                           encoding='iso-8859-1',\n",
    "                           low_memory=False)\n",
    "\n",
    "#drop extra column\n",
    "df_ecomm_raw = df_ecomm_raw.drop(columns = ['Unnamed: 8'], axis = 1)"
   ]
  },
  {
   "cell_type": "code",
   "execution_count": 8,
   "id": "light-collar",
   "metadata": {
    "ExecuteTime": {
     "end_time": "2022-04-27T20:19:32.561285Z",
     "start_time": "2022-04-27T20:19:32.551609Z"
    }
   },
   "outputs": [
    {
     "data": {
      "text/html": [
       "<div>\n",
       "<style scoped>\n",
       "    .dataframe tbody tr th:only-of-type {\n",
       "        vertical-align: middle;\n",
       "    }\n",
       "\n",
       "    .dataframe tbody tr th {\n",
       "        vertical-align: top;\n",
       "    }\n",
       "\n",
       "    .dataframe thead th {\n",
       "        text-align: right;\n",
       "    }\n",
       "</style>\n",
       "<table border=\"1\" class=\"dataframe\">\n",
       "  <thead>\n",
       "    <tr style=\"text-align: right;\">\n",
       "      <th></th>\n",
       "      <th>InvoiceNo</th>\n",
       "      <th>StockCode</th>\n",
       "      <th>Description</th>\n",
       "      <th>Quantity</th>\n",
       "      <th>InvoiceDate</th>\n",
       "      <th>UnitPrice</th>\n",
       "      <th>CustomerID</th>\n",
       "      <th>Country</th>\n",
       "    </tr>\n",
       "  </thead>\n",
       "  <tbody>\n",
       "    <tr>\n",
       "      <th>0</th>\n",
       "      <td>536365</td>\n",
       "      <td>85123A</td>\n",
       "      <td>WHITE HANGING HEART T-LIGHT HOLDER</td>\n",
       "      <td>6</td>\n",
       "      <td>29-Nov-16</td>\n",
       "      <td>2.55</td>\n",
       "      <td>17850.0</td>\n",
       "      <td>United Kingdom</td>\n",
       "    </tr>\n",
       "    <tr>\n",
       "      <th>1</th>\n",
       "      <td>536365</td>\n",
       "      <td>71053</td>\n",
       "      <td>WHITE METAL LANTERN</td>\n",
       "      <td>6</td>\n",
       "      <td>29-Nov-16</td>\n",
       "      <td>3.39</td>\n",
       "      <td>17850.0</td>\n",
       "      <td>United Kingdom</td>\n",
       "    </tr>\n",
       "    <tr>\n",
       "      <th>2</th>\n",
       "      <td>536365</td>\n",
       "      <td>84406B</td>\n",
       "      <td>CREAM CUPID HEARTS COAT HANGER</td>\n",
       "      <td>8</td>\n",
       "      <td>29-Nov-16</td>\n",
       "      <td>2.75</td>\n",
       "      <td>17850.0</td>\n",
       "      <td>United Kingdom</td>\n",
       "    </tr>\n",
       "    <tr>\n",
       "      <th>3</th>\n",
       "      <td>536365</td>\n",
       "      <td>84029G</td>\n",
       "      <td>KNITTED UNION FLAG HOT WATER BOTTLE</td>\n",
       "      <td>6</td>\n",
       "      <td>29-Nov-16</td>\n",
       "      <td>3.39</td>\n",
       "      <td>17850.0</td>\n",
       "      <td>United Kingdom</td>\n",
       "    </tr>\n",
       "    <tr>\n",
       "      <th>4</th>\n",
       "      <td>536365</td>\n",
       "      <td>84029E</td>\n",
       "      <td>RED WOOLLY HOTTIE WHITE HEART.</td>\n",
       "      <td>6</td>\n",
       "      <td>29-Nov-16</td>\n",
       "      <td>3.39</td>\n",
       "      <td>17850.0</td>\n",
       "      <td>United Kingdom</td>\n",
       "    </tr>\n",
       "  </tbody>\n",
       "</table>\n",
       "</div>"
      ],
      "text/plain": [
       "  InvoiceNo StockCode                          Description  Quantity InvoiceDate  UnitPrice  CustomerID         Country\n",
       "0    536365    85123A   WHITE HANGING HEART T-LIGHT HOLDER         6   29-Nov-16       2.55     17850.0  United Kingdom\n",
       "1    536365     71053                  WHITE METAL LANTERN         6   29-Nov-16       3.39     17850.0  United Kingdom\n",
       "2    536365    84406B       CREAM CUPID HEARTS COAT HANGER         8   29-Nov-16       2.75     17850.0  United Kingdom\n",
       "3    536365    84029G  KNITTED UNION FLAG HOT WATER BOTTLE         6   29-Nov-16       3.39     17850.0  United Kingdom\n",
       "4    536365    84029E       RED WOOLLY HOTTIE WHITE HEART.         6   29-Nov-16       3.39     17850.0  United Kingdom"
      ]
     },
     "execution_count": 8,
     "metadata": {},
     "output_type": "execute_result"
    }
   ],
   "source": [
    "df_ecomm_raw.head()"
   ]
  },
  {
   "cell_type": "markdown",
   "id": "respiratory-seattle",
   "metadata": {},
   "source": [
    "# DATA DISCRIPTION"
   ]
  },
  {
   "cell_type": "code",
   "execution_count": 9,
   "id": "italian-wayne",
   "metadata": {
    "ExecuteTime": {
     "end_time": "2022-04-27T21:04:50.343398Z",
     "start_time": "2022-04-27T21:04:50.312886Z"
    }
   },
   "outputs": [],
   "source": [
    "# Copy dataset\n",
    "df0 = df_ecomm_raw.copy()"
   ]
  },
  {
   "cell_type": "markdown",
   "id": "linear-haiti",
   "metadata": {},
   "source": [
    "## Rename Columns"
   ]
  },
  {
   "cell_type": "code",
   "execution_count": 10,
   "id": "compressed-sword",
   "metadata": {
    "ExecuteTime": {
     "end_time": "2022-04-27T21:04:53.585325Z",
     "start_time": "2022-04-27T21:04:53.557290Z"
    }
   },
   "outputs": [],
   "source": [
    "cols_old = ['InvoiceNo','StockCode','Description','Quantity', 'InvoiceDate','UnitPrice','CustomerID','Country']\n",
    "\n",
    "snakecase = lambda x: inflection.underscore(x)\n",
    "col_news = list(map(snakecase, cols_old))\n",
    "\n",
    "# Rename columns\n",
    "df0.columns = col_news"
   ]
  },
  {
   "cell_type": "markdown",
   "id": "radio-improvement",
   "metadata": {},
   "source": [
    "Attribute Description:\n",
    "\n",
    "    - InvoiceNo: Invoice number (A 6-digit integral number uniquely assigned to each transaction)\n",
    "    - StockCode: Product (item) code\n",
    "    - Description: Product (item) name\n",
    "    - Quantity The quantities of each product (item) per transaction\n",
    "    - InvoiceDate: The day when each transaction was generated\n",
    "    - UnitPrice: Unit price (Product price per unit)\n",
    "    - CustomerID: Customer number (Unique ID assigned to each customer)\n",
    "    - Country: Country name (The name of the country where each customer resides)"
   ]
  },
  {
   "cell_type": "markdown",
   "id": "growing-arrival",
   "metadata": {},
   "source": [
    "## Data Dimension"
   ]
  },
  {
   "cell_type": "code",
   "execution_count": 12,
   "id": "stone-immigration",
   "metadata": {
    "ExecuteTime": {
     "end_time": "2022-04-27T21:05:13.890101Z",
     "start_time": "2022-04-27T21:05:13.879593Z"
    }
   },
   "outputs": [
    {
     "name": "stdout",
     "output_type": "stream",
     "text": [
      "Number of rows: 541909.\n",
      "Number of cols: 8.\n"
     ]
    }
   ],
   "source": [
    "print('Number of rows: {}.'.format(df0.shape[0]))\n",
    "print('Number of cols: {}.'.format(df0.shape[1]))"
   ]
  },
  {
   "cell_type": "markdown",
   "id": "covered-offset",
   "metadata": {},
   "source": [
    "## Data Types"
   ]
  },
  {
   "cell_type": "code",
   "execution_count": 13,
   "id": "conditional-triangle",
   "metadata": {
    "ExecuteTime": {
     "end_time": "2022-04-27T21:05:17.812933Z",
     "start_time": "2022-04-27T21:05:17.477377Z"
    }
   },
   "outputs": [
    {
     "name": "stdout",
     "output_type": "stream",
     "text": [
      "<class 'pandas.core.frame.DataFrame'>\n",
      "RangeIndex: 541909 entries, 0 to 541908\n",
      "Data columns (total 8 columns):\n",
      " #   Column        Non-Null Count   Dtype  \n",
      "---  ------        --------------   -----  \n",
      " 0   invoice_no    541909 non-null  object \n",
      " 1   stock_code    541909 non-null  object \n",
      " 2   description   540455 non-null  object \n",
      " 3   quantity      541909 non-null  int64  \n",
      " 4   invoice_date  541909 non-null  object \n",
      " 5   unit_price    541909 non-null  float64\n",
      " 6   customer_id   406829 non-null  float64\n",
      " 7   country       541909 non-null  object \n",
      "dtypes: float64(2), int64(1), object(5)\n",
      "memory usage: 33.1+ MB\n"
     ]
    }
   ],
   "source": [
    "df0.info()"
   ]
  },
  {
   "cell_type": "markdown",
   "id": "naval-annual",
   "metadata": {},
   "source": [
    "## Check NA Values"
   ]
  },
  {
   "cell_type": "code",
   "execution_count": 14,
   "id": "important-appendix",
   "metadata": {
    "ExecuteTime": {
     "end_time": "2022-04-27T21:05:20.576706Z",
     "start_time": "2022-04-27T21:05:19.998507Z"
    },
    "scrolled": true
   },
   "outputs": [
    {
     "data": {
      "text/html": [
       "<div>\n",
       "<style scoped>\n",
       "    .dataframe tbody tr th:only-of-type {\n",
       "        vertical-align: middle;\n",
       "    }\n",
       "\n",
       "    .dataframe tbody tr th {\n",
       "        vertical-align: top;\n",
       "    }\n",
       "\n",
       "    .dataframe thead th {\n",
       "        text-align: right;\n",
       "    }\n",
       "</style>\n",
       "<table border=\"1\" class=\"dataframe\">\n",
       "  <thead>\n",
       "    <tr style=\"text-align: right;\">\n",
       "      <th></th>\n",
       "      <th>missing value count</th>\n",
       "      <th>percentage</th>\n",
       "    </tr>\n",
       "  </thead>\n",
       "  <tbody>\n",
       "    <tr>\n",
       "      <th>invoice_no</th>\n",
       "      <td>0</td>\n",
       "      <td>0.00</td>\n",
       "    </tr>\n",
       "    <tr>\n",
       "      <th>stock_code</th>\n",
       "      <td>0</td>\n",
       "      <td>0.00</td>\n",
       "    </tr>\n",
       "    <tr>\n",
       "      <th>description</th>\n",
       "      <td>1454</td>\n",
       "      <td>0.27</td>\n",
       "    </tr>\n",
       "    <tr>\n",
       "      <th>quantity</th>\n",
       "      <td>0</td>\n",
       "      <td>0.00</td>\n",
       "    </tr>\n",
       "    <tr>\n",
       "      <th>invoice_date</th>\n",
       "      <td>0</td>\n",
       "      <td>0.00</td>\n",
       "    </tr>\n",
       "    <tr>\n",
       "      <th>unit_price</th>\n",
       "      <td>0</td>\n",
       "      <td>0.00</td>\n",
       "    </tr>\n",
       "    <tr>\n",
       "      <th>customer_id</th>\n",
       "      <td>135080</td>\n",
       "      <td>24.93</td>\n",
       "    </tr>\n",
       "    <tr>\n",
       "      <th>country</th>\n",
       "      <td>0</td>\n",
       "      <td>0.00</td>\n",
       "    </tr>\n",
       "  </tbody>\n",
       "</table>\n",
       "</div>"
      ],
      "text/plain": [
       "              missing value count  percentage\n",
       "invoice_no                      0        0.00\n",
       "stock_code                      0        0.00\n",
       "description                  1454        0.27\n",
       "quantity                        0        0.00\n",
       "invoice_date                    0        0.00\n",
       "unit_price                      0        0.00\n",
       "customer_id                135080       24.93\n",
       "country                         0        0.00"
      ]
     },
     "execution_count": 14,
     "metadata": {},
     "output_type": "execute_result"
    }
   ],
   "source": [
    "missing_count = df0.isnull().sum() # the count of missing values\n",
    "value_count = df0.isnull().count() # the total values count\n",
    "\n",
    "missing_percentage = round(missing_count/value_count*100,2) # the percentage of missing values\n",
    "missing_df = pd.DataFrame({'missing value count': missing_count, 'percentage': missing_percentage})\n",
    "missing_df"
   ]
  },
  {
   "cell_type": "code",
   "execution_count": 15,
   "id": "floral-transportation",
   "metadata": {
    "ExecuteTime": {
     "end_time": "2022-04-27T21:05:26.996770Z",
     "start_time": "2022-04-27T21:05:26.648313Z"
    }
   },
   "outputs": [
    {
     "data": {
      "image/png": "[encoded data removed]",
      "text/plain": [
       "<Figure size 1800x864 with 1 Axes>"
      ]
     },
     "metadata": {},
     "output_type": "display_data"
    }
   ],
   "source": [
    "barchart = missing_df.plot.bar(y='percentage')\n",
    "for index, percentage in enumerate( missing_percentage ):\n",
    "    barchart.text( index, percentage, str(percentage)+'%')"
   ]
  },
  {
   "cell_type": "markdown",
   "id": "unique-charlotte",
   "metadata": {},
   "source": [
    "## Fillout NA"
   ]
  },
  {
   "cell_type": "code",
   "execution_count": 16,
   "id": "coral-leone",
   "metadata": {
    "ExecuteTime": {
     "end_time": "2022-04-27T21:05:39.254340Z",
     "start_time": "2022-04-27T21:05:39.177369Z"
    }
   },
   "outputs": [],
   "source": [
    "# separate NA's in two different dataframe, one with NAs and other without it\n",
    "df_missing = df0.loc[df0['customer_id'].isna(), :]\n",
    "df_not_missing = df0.loc[~df0['customer_id'].isna(), :]"
   ]
  },
  {
   "cell_type": "code",
   "execution_count": 18,
   "id": "bdd456b7",
   "metadata": {
    "ExecuteTime": {
     "end_time": "2022-04-27T21:08:09.040826Z",
     "start_time": "2022-04-27T21:08:09.033088Z"
    }
   },
   "outputs": [
    {
     "data": {
      "text/plain": [
       "(406829, 8)"
      ]
     },
     "execution_count": 18,
     "metadata": {},
     "output_type": "execute_result"
    }
   ],
   "source": [
    "df_not_missing.shape"
   ]
  },
  {
   "cell_type": "code",
   "execution_count": 19,
   "id": "78192b96",
   "metadata": {
    "ExecuteTime": {
     "end_time": "2022-04-27T21:08:24.933565Z",
     "start_time": "2022-04-27T21:08:24.913916Z"
    }
   },
   "outputs": [
    {
     "data": {
      "text/html": [
       "<div>\n",
       "<style scoped>\n",
       "    .dataframe tbody tr th:only-of-type {\n",
       "        vertical-align: middle;\n",
       "    }\n",
       "\n",
       "    .dataframe tbody tr th {\n",
       "        vertical-align: top;\n",
       "    }\n",
       "\n",
       "    .dataframe thead th {\n",
       "        text-align: right;\n",
       "    }\n",
       "</style>\n",
       "<table border=\"1\" class=\"dataframe\">\n",
       "  <thead>\n",
       "    <tr style=\"text-align: right;\">\n",
       "      <th></th>\n",
       "      <th>invoice_no</th>\n",
       "      <th>stock_code</th>\n",
       "      <th>description</th>\n",
       "      <th>quantity</th>\n",
       "      <th>invoice_date</th>\n",
       "      <th>unit_price</th>\n",
       "      <th>customer_id</th>\n",
       "      <th>country</th>\n",
       "    </tr>\n",
       "  </thead>\n",
       "  <tbody>\n",
       "    <tr>\n",
       "      <th>622</th>\n",
       "      <td>536414</td>\n",
       "      <td>22139</td>\n",
       "      <td>NaN</td>\n",
       "      <td>56</td>\n",
       "      <td>29-Nov-16</td>\n",
       "      <td>0.00</td>\n",
       "      <td>NaN</td>\n",
       "      <td>United Kingdom</td>\n",
       "    </tr>\n",
       "    <tr>\n",
       "      <th>1443</th>\n",
       "      <td>536544</td>\n",
       "      <td>21773</td>\n",
       "      <td>DECORATIVE ROSE BATHROOM BOTTLE</td>\n",
       "      <td>1</td>\n",
       "      <td>29-Nov-16</td>\n",
       "      <td>2.51</td>\n",
       "      <td>NaN</td>\n",
       "      <td>United Kingdom</td>\n",
       "    </tr>\n",
       "    <tr>\n",
       "      <th>1444</th>\n",
       "      <td>536544</td>\n",
       "      <td>21774</td>\n",
       "      <td>DECORATIVE CATS BATHROOM BOTTLE</td>\n",
       "      <td>2</td>\n",
       "      <td>29-Nov-16</td>\n",
       "      <td>2.51</td>\n",
       "      <td>NaN</td>\n",
       "      <td>United Kingdom</td>\n",
       "    </tr>\n",
       "    <tr>\n",
       "      <th>1445</th>\n",
       "      <td>536544</td>\n",
       "      <td>21786</td>\n",
       "      <td>POLKADOT RAIN HAT</td>\n",
       "      <td>4</td>\n",
       "      <td>29-Nov-16</td>\n",
       "      <td>0.85</td>\n",
       "      <td>NaN</td>\n",
       "      <td>United Kingdom</td>\n",
       "    </tr>\n",
       "    <tr>\n",
       "      <th>1446</th>\n",
       "      <td>536544</td>\n",
       "      <td>21787</td>\n",
       "      <td>RAIN PONCHO RETROSPOT</td>\n",
       "      <td>2</td>\n",
       "      <td>29-Nov-16</td>\n",
       "      <td>1.66</td>\n",
       "      <td>NaN</td>\n",
       "      <td>United Kingdom</td>\n",
       "    </tr>\n",
       "  </tbody>\n",
       "</table>\n",
       "</div>"
      ],
      "text/plain": [
       "     invoice_no stock_code                      description  quantity invoice_date  unit_price  customer_id         country\n",
       "622      536414      22139                              NaN        56    29-Nov-16        0.00          NaN  United Kingdom\n",
       "1443     536544      21773  DECORATIVE ROSE BATHROOM BOTTLE         1    29-Nov-16        2.51          NaN  United Kingdom\n",
       "1444     536544      21774  DECORATIVE CATS BATHROOM BOTTLE         2    29-Nov-16        2.51          NaN  United Kingdom\n",
       "1445     536544      21786               POLKADOT RAIN HAT          4    29-Nov-16        0.85          NaN  United Kingdom\n",
       "1446     536544      21787            RAIN PONCHO RETROSPOT         2    29-Nov-16        1.66          NaN  United Kingdom"
      ]
     },
     "execution_count": 19,
     "metadata": {},
     "output_type": "execute_result"
    }
   ],
   "source": [
    "df_missing.head()"
   ]
  },
  {
   "cell_type": "code",
   "execution_count": 17,
   "id": "democratic-documentation",
   "metadata": {
    "ExecuteTime": {
     "end_time": "2022-04-27T21:05:54.939282Z",
     "start_time": "2022-04-27T21:05:54.928981Z"
    }
   },
   "outputs": [
    {
     "data": {
      "text/plain": [
       "18287.0"
      ]
     },
     "execution_count": 17,
     "metadata": {},
     "output_type": "execute_result"
    }
   ],
   "source": [
    "## Fillout NA stratety, creating customers_id to keep their behavior (25% of the database)\n",
    "df_not_missing['customer_id'].max()"
   ]
  },
  {
   "cell_type": "code",
   "execution_count": 21,
   "id": "fb3a2ba9",
   "metadata": {
    "ExecuteTime": {
     "end_time": "2022-04-27T21:09:15.887236Z",
     "start_time": "2022-04-27T21:09:15.880615Z"
    }
   },
   "outputs": [
    {
     "data": {
      "text/html": [
       "<div>\n",
       "<style scoped>\n",
       "    .dataframe tbody tr th:only-of-type {\n",
       "        vertical-align: middle;\n",
       "    }\n",
       "\n",
       "    .dataframe tbody tr th {\n",
       "        vertical-align: top;\n",
       "    }\n",
       "\n",
       "    .dataframe thead th {\n",
       "        text-align: right;\n",
       "    }\n",
       "</style>\n",
       "<table border=\"1\" class=\"dataframe\">\n",
       "  <thead>\n",
       "    <tr style=\"text-align: right;\">\n",
       "      <th></th>\n",
       "      <th>invoice_no</th>\n",
       "      <th>customer_id</th>\n",
       "    </tr>\n",
       "  </thead>\n",
       "  <tbody>\n",
       "    <tr>\n",
       "      <th>622</th>\n",
       "      <td>536414</td>\n",
       "      <td>19000</td>\n",
       "    </tr>\n",
       "    <tr>\n",
       "      <th>1443</th>\n",
       "      <td>536544</td>\n",
       "      <td>19001</td>\n",
       "    </tr>\n",
       "    <tr>\n",
       "      <th>1970</th>\n",
       "      <td>536545</td>\n",
       "      <td>19002</td>\n",
       "    </tr>\n",
       "    <tr>\n",
       "      <th>1971</th>\n",
       "      <td>536546</td>\n",
       "      <td>19003</td>\n",
       "    </tr>\n",
       "    <tr>\n",
       "      <th>1972</th>\n",
       "      <td>536547</td>\n",
       "      <td>19004</td>\n",
       "    </tr>\n",
       "  </tbody>\n",
       "</table>\n",
       "</div>"
      ],
      "text/plain": [
       "     invoice_no  customer_id\n",
       "622      536414        19000\n",
       "1443     536544        19001\n",
       "1970     536545        19002\n",
       "1971     536546        19003\n",
       "1972     536547        19004"
      ]
     },
     "execution_count": 21,
     "metadata": {},
     "output_type": "execute_result"
    }
   ],
   "source": [
    "df_backup.head()"
   ]
  },
  {
   "cell_type": "code",
   "execution_count": 20,
   "id": "basic-invite",
   "metadata": {
    "ExecuteTime": {
     "end_time": "2022-04-27T21:09:10.694482Z",
     "start_time": "2022-04-27T21:09:10.572906Z"
    }
   },
   "outputs": [],
   "source": [
    "# create reference\n",
    "df_backup = pd.DataFrame( df_missing['invoice_no'].drop_duplicates().copy() )\n",
    "df_backup['customer_id'] = np.arange( 19000, 19000+len( df_backup ), 1) # Fillout NA stratety: creating customers_id to keep their behavior (25% of the database)\n",
    "\n",
    "# merge original with reference dataframe\n",
    "df0 = pd.merge( df0, df_backup, on='invoice_no', how='left' )\n",
    "\n",
    "# coalesce \n",
    "df0['customer_id'] = df0['customer_id_x'].combine_first( df0['customer_id_y'] )\n",
    "\n",
    "# drop extra columns\n",
    "df0 = df0.drop( columns=['customer_id_x', 'customer_id_y'], axis=1 )"
   ]
  },
  {
   "cell_type": "code",
   "execution_count": 18,
   "id": "critical-front",
   "metadata": {
    "ExecuteTime": {
     "end_time": "2022-04-24T16:22:19.824078Z",
     "start_time": "2022-04-24T16:22:19.579204Z"
    }
   },
   "outputs": [
    {
     "data": {
      "text/plain": [
       "invoice_no         0\n",
       "stock_code         0\n",
       "description     1454\n",
       "quantity           0\n",
       "invoice_date       0\n",
       "unit_price         0\n",
       "country            0\n",
       "customer_id        0\n",
       "dtype: int64"
      ]
     },
     "execution_count": 18,
     "metadata": {},
     "output_type": "execute_result"
    }
   ],
   "source": [
    "df0.isna().sum()"
   ]
  },
  {
   "cell_type": "markdown",
   "id": "baking-paragraph",
   "metadata": {},
   "source": [
    "## Change Types"
   ]
  },
  {
   "cell_type": "code",
   "execution_count": 37,
   "id": "second-brunei",
   "metadata": {
    "ExecuteTime": {
     "end_time": "2022-04-27T21:16:21.723274Z",
     "start_time": "2022-04-27T21:16:21.641613Z"
    }
   },
   "outputs": [],
   "source": [
    "# Transforme datatype of variable invoice_date to datetime\n",
    "df0['invoice_date'] = pd.to_datetime(df0['invoice_date'])"
   ]
  },
  {
   "cell_type": "code",
   "execution_count": 38,
   "id": "cellular-jurisdiction",
   "metadata": {
    "ExecuteTime": {
     "end_time": "2022-04-27T21:16:24.080603Z",
     "start_time": "2022-04-27T21:16:24.072382Z"
    }
   },
   "outputs": [],
   "source": [
    "df0['customer_id'] = df0['customer_id'].astype('int64')"
   ]
  },
  {
   "cell_type": "code",
   "execution_count": 39,
   "id": "rotary-providence",
   "metadata": {
    "ExecuteTime": {
     "end_time": "2022-04-27T21:16:25.461906Z",
     "start_time": "2022-04-27T21:16:25.451209Z"
    }
   },
   "outputs": [
    {
     "data": {
      "text/plain": [
       "invoice_no              object\n",
       "stock_code              object\n",
       "description             object\n",
       "quantity                 int64\n",
       "invoice_date    datetime64[ns]\n",
       "unit_price             float64\n",
       "country                 object\n",
       "customer_id              int64\n",
       "dtype: object"
      ]
     },
     "execution_count": 39,
     "metadata": {},
     "output_type": "execute_result"
    }
   ],
   "source": [
    "df0.dtypes"
   ]
  },
  {
   "cell_type": "markdown",
   "id": "severe-puppy",
   "metadata": {},
   "source": [
    "## Descriptive Statistics"
   ]
  },
  {
   "cell_type": "code",
   "execution_count": 40,
   "id": "wrong-nothing",
   "metadata": {
    "ExecuteTime": {
     "end_time": "2022-04-27T21:16:36.328102Z",
     "start_time": "2022-04-27T21:16:36.271111Z"
    },
    "scrolled": true
   },
   "outputs": [
    {
     "data": {
      "text/html": [
       "<div>\n",
       "<style scoped>\n",
       "    .dataframe tbody tr th:only-of-type {\n",
       "        vertical-align: middle;\n",
       "    }\n",
       "\n",
       "    .dataframe tbody tr th {\n",
       "        vertical-align: top;\n",
       "    }\n",
       "\n",
       "    .dataframe thead th {\n",
       "        text-align: right;\n",
       "    }\n",
       "</style>\n",
       "<table border=\"1\" class=\"dataframe\">\n",
       "  <thead>\n",
       "    <tr style=\"text-align: right;\">\n",
       "      <th></th>\n",
       "      <th>count</th>\n",
       "      <th>mean</th>\n",
       "      <th>std</th>\n",
       "      <th>min</th>\n",
       "      <th>25%</th>\n",
       "      <th>50%</th>\n",
       "      <th>75%</th>\n",
       "      <th>max</th>\n",
       "    </tr>\n",
       "  </thead>\n",
       "  <tbody>\n",
       "    <tr>\n",
       "      <th>quantity</th>\n",
       "      <td>541909.0</td>\n",
       "      <td>9.552250</td>\n",
       "      <td>218.081158</td>\n",
       "      <td>-80995.00</td>\n",
       "      <td>1.00</td>\n",
       "      <td>3.00</td>\n",
       "      <td>10.00</td>\n",
       "      <td>80995.0</td>\n",
       "    </tr>\n",
       "    <tr>\n",
       "      <th>unit_price</th>\n",
       "      <td>541909.0</td>\n",
       "      <td>4.611114</td>\n",
       "      <td>96.759853</td>\n",
       "      <td>-11062.06</td>\n",
       "      <td>1.25</td>\n",
       "      <td>2.08</td>\n",
       "      <td>4.13</td>\n",
       "      <td>38970.0</td>\n",
       "    </tr>\n",
       "    <tr>\n",
       "      <th>customer_id</th>\n",
       "      <td>541909.0</td>\n",
       "      <td>16688.840453</td>\n",
       "      <td>2911.411352</td>\n",
       "      <td>12346.00</td>\n",
       "      <td>14367.00</td>\n",
       "      <td>16249.00</td>\n",
       "      <td>18283.00</td>\n",
       "      <td>22709.0</td>\n",
       "    </tr>\n",
       "  </tbody>\n",
       "</table>\n",
       "</div>"
      ],
      "text/plain": [
       "                count          mean          std       min       25%       50%       75%      max\n",
       "quantity     541909.0      9.552250   218.081158 -80995.00      1.00      3.00     10.00  80995.0\n",
       "unit_price   541909.0      4.611114    96.759853 -11062.06      1.25      2.08      4.13  38970.0\n",
       "customer_id  541909.0  16688.840453  2911.411352  12346.00  14367.00  16249.00  18283.00  22709.0"
      ]
     },
     "execution_count": 40,
     "metadata": {},
     "output_type": "execute_result"
    }
   ],
   "source": [
    "df0.describe().T"
   ]
  },
  {
   "cell_type": "code",
   "execution_count": 41,
   "id": "f38213f9",
   "metadata": {
    "ExecuteTime": {
     "end_time": "2022-04-27T21:16:38.728598Z",
     "start_time": "2022-04-27T21:16:38.552987Z"
    }
   },
   "outputs": [
    {
     "data": {
      "text/html": [
       "<div>\n",
       "<style scoped>\n",
       "    .dataframe tbody tr th:only-of-type {\n",
       "        vertical-align: middle;\n",
       "    }\n",
       "\n",
       "    .dataframe tbody tr th {\n",
       "        vertical-align: top;\n",
       "    }\n",
       "\n",
       "    .dataframe thead th {\n",
       "        text-align: right;\n",
       "    }\n",
       "</style>\n",
       "<table border=\"1\" class=\"dataframe\">\n",
       "  <thead>\n",
       "    <tr style=\"text-align: right;\">\n",
       "      <th></th>\n",
       "      <th>count</th>\n",
       "      <th>unique</th>\n",
       "      <th>top</th>\n",
       "      <th>freq</th>\n",
       "    </tr>\n",
       "  </thead>\n",
       "  <tbody>\n",
       "    <tr>\n",
       "      <th>invoice_no</th>\n",
       "      <td>541909</td>\n",
       "      <td>25900</td>\n",
       "      <td>573585</td>\n",
       "      <td>1114</td>\n",
       "    </tr>\n",
       "    <tr>\n",
       "      <th>stock_code</th>\n",
       "      <td>541909</td>\n",
       "      <td>4070</td>\n",
       "      <td>85123A</td>\n",
       "      <td>2313</td>\n",
       "    </tr>\n",
       "    <tr>\n",
       "      <th>description</th>\n",
       "      <td>540455</td>\n",
       "      <td>4223</td>\n",
       "      <td>WHITE HANGING HEART T-LIGHT HOLDER</td>\n",
       "      <td>2369</td>\n",
       "    </tr>\n",
       "    <tr>\n",
       "      <th>country</th>\n",
       "      <td>541909</td>\n",
       "      <td>38</td>\n",
       "      <td>United Kingdom</td>\n",
       "      <td>495478</td>\n",
       "    </tr>\n",
       "  </tbody>\n",
       "</table>\n",
       "</div>"
      ],
      "text/plain": [
       "              count unique                                 top    freq\n",
       "invoice_no   541909  25900                              573585    1114\n",
       "stock_code   541909   4070                              85123A    2313\n",
       "description  540455   4223  WHITE HANGING HEART T-LIGHT HOLDER    2369\n",
       "country      541909     38                      United Kingdom  495478"
      ]
     },
     "execution_count": 41,
     "metadata": {},
     "output_type": "execute_result"
    }
   ],
   "source": [
    "df0.describe(include = object).T"
   ]
  },
  {
   "cell_type": "code",
   "execution_count": 42,
   "id": "heated-growing",
   "metadata": {
    "ExecuteTime": {
     "end_time": "2022-04-27T21:18:47.918244Z",
     "start_time": "2022-04-27T21:18:47.911838Z"
    }
   },
   "outputs": [],
   "source": [
    "num_attributes = df0.select_dtypes(include = number)\n",
    "cat_attributes = df0.select_dtypes(exclude = [number, np.datetime64])"
   ]
  },
  {
   "cell_type": "markdown",
   "id": "decimal-recipient",
   "metadata": {},
   "source": [
    "### Numerical Attributes"
   ]
  },
  {
   "cell_type": "code",
   "execution_count": 43,
   "id": "hungry-durham",
   "metadata": {
    "ExecuteTime": {
     "end_time": "2022-04-27T21:18:48.738710Z",
     "start_time": "2022-04-27T21:18:48.660444Z"
    },
    "scrolled": true
   },
   "outputs": [
    {
     "data": {
      "text/html": [
       "<div>\n",
       "<style scoped>\n",
       "    .dataframe tbody tr th:only-of-type {\n",
       "        vertical-align: middle;\n",
       "    }\n",
       "\n",
       "    .dataframe tbody tr th {\n",
       "        vertical-align: top;\n",
       "    }\n",
       "\n",
       "    .dataframe thead th {\n",
       "        text-align: right;\n",
       "    }\n",
       "</style>\n",
       "<table border=\"1\" class=\"dataframe\">\n",
       "  <thead>\n",
       "    <tr style=\"text-align: right;\">\n",
       "      <th></th>\n",
       "      <th>attributes</th>\n",
       "      <th>min</th>\n",
       "      <th>max</th>\n",
       "      <th>range</th>\n",
       "      <th>mean</th>\n",
       "      <th>mediana</th>\n",
       "      <th>std</th>\n",
       "      <th>skew</th>\n",
       "      <th>kurtosis</th>\n",
       "    </tr>\n",
       "  </thead>\n",
       "  <tbody>\n",
       "    <tr>\n",
       "      <th>0</th>\n",
       "      <td>quantity</td>\n",
       "      <td>-80995.00</td>\n",
       "      <td>80995.0</td>\n",
       "      <td>161990.00</td>\n",
       "      <td>9.552250</td>\n",
       "      <td>3.00</td>\n",
       "      <td>218.080957</td>\n",
       "      <td>-0.264076</td>\n",
       "      <td>119769.160031</td>\n",
       "    </tr>\n",
       "    <tr>\n",
       "      <th>1</th>\n",
       "      <td>unit_price</td>\n",
       "      <td>-11062.06</td>\n",
       "      <td>38970.0</td>\n",
       "      <td>50032.06</td>\n",
       "      <td>4.611114</td>\n",
       "      <td>2.08</td>\n",
       "      <td>96.759764</td>\n",
       "      <td>186.506972</td>\n",
       "      <td>59005.719097</td>\n",
       "    </tr>\n",
       "    <tr>\n",
       "      <th>2</th>\n",
       "      <td>customer_id</td>\n",
       "      <td>12346.00</td>\n",
       "      <td>22709.0</td>\n",
       "      <td>10363.00</td>\n",
       "      <td>16688.840453</td>\n",
       "      <td>16249.00</td>\n",
       "      <td>2911.408666</td>\n",
       "      <td>0.487449</td>\n",
       "      <td>-0.804287</td>\n",
       "    </tr>\n",
       "  </tbody>\n",
       "</table>\n",
       "</div>"
      ],
      "text/plain": [
       "    attributes       min      max      range          mean   mediana          std        skew       kurtosis\n",
       "0     quantity -80995.00  80995.0  161990.00      9.552250      3.00   218.080957   -0.264076  119769.160031\n",
       "1   unit_price -11062.06  38970.0   50032.06      4.611114      2.08    96.759764  186.506972   59005.719097\n",
       "2  customer_id  12346.00  22709.0   10363.00  16688.840453  16249.00  2911.408666    0.487449      -0.804287"
      ]
     },
     "execution_count": 43,
     "metadata": {},
     "output_type": "execute_result"
    }
   ],
   "source": [
    "# central tendency - mean, median\n",
    "ct1 = pd.DataFrame(num_attributes.apply(np.mean)).T\n",
    "ct2 = pd.DataFrame(num_attributes.apply(np.median)).T\n",
    "\n",
    "# dispersion - desvio padrão, min, max, range, skew, kurtosis\n",
    "d1 = pd.DataFrame(num_attributes.apply(np.std)).T\n",
    "d2 = pd.DataFrame(num_attributes.apply(np.min)).T\n",
    "d3 = pd.DataFrame(num_attributes.apply(np.max)).T\n",
    "d4 = pd.DataFrame(num_attributes.apply(lambda x: x.max()-x.min())).T\n",
    "d5 = pd.DataFrame(num_attributes.apply(lambda x: x.skew())).T\n",
    "d6 = pd.DataFrame(num_attributes.apply(lambda x: x.kurtosis())).T\n",
    "\n",
    "#concatenate\n",
    "\n",
    "m1 = pd.concat([d2,d3,d4,ct1,ct2,d1,d5,d6]).T.reset_index()\n",
    "m1.columns = ['attributes', 'min', 'max', 'range', 'mean', 'mediana','std', 'skew','kurtosis']\n",
    "m1"
   ]
  },
  {
   "cell_type": "markdown",
   "id": "planned-immigration",
   "metadata": {},
   "source": [
    "**Num Attributes Investigating**:\n",
    "\n",
    "    1. Quantity negativa (could it be returned items?)\n",
    "    2. Preço unitário igual a zero e negativo(could it be discount?)"
   ]
  },
  {
   "cell_type": "markdown",
   "id": "geological-incident",
   "metadata": {},
   "source": [
    "### Categorical Attributes"
   ]
  },
  {
   "cell_type": "code",
   "execution_count": 44,
   "id": "graduate-workshop",
   "metadata": {
    "ExecuteTime": {
     "end_time": "2022-04-27T21:19:00.961498Z",
     "start_time": "2022-04-27T21:19:00.952089Z"
    },
    "scrolled": false
   },
   "outputs": [
    {
     "data": {
      "text/html": [
       "<div>\n",
       "<style scoped>\n",
       "    .dataframe tbody tr th:only-of-type {\n",
       "        vertical-align: middle;\n",
       "    }\n",
       "\n",
       "    .dataframe tbody tr th {\n",
       "        vertical-align: top;\n",
       "    }\n",
       "\n",
       "    .dataframe thead th {\n",
       "        text-align: right;\n",
       "    }\n",
       "</style>\n",
       "<table border=\"1\" class=\"dataframe\">\n",
       "  <thead>\n",
       "    <tr style=\"text-align: right;\">\n",
       "      <th></th>\n",
       "      <th>invoice_no</th>\n",
       "      <th>stock_code</th>\n",
       "      <th>description</th>\n",
       "      <th>country</th>\n",
       "    </tr>\n",
       "  </thead>\n",
       "  <tbody>\n",
       "    <tr>\n",
       "      <th>0</th>\n",
       "      <td>536365</td>\n",
       "      <td>85123A</td>\n",
       "      <td>WHITE HANGING HEART T-LIGHT HOLDER</td>\n",
       "      <td>United Kingdom</td>\n",
       "    </tr>\n",
       "    <tr>\n",
       "      <th>1</th>\n",
       "      <td>536365</td>\n",
       "      <td>71053</td>\n",
       "      <td>WHITE METAL LANTERN</td>\n",
       "      <td>United Kingdom</td>\n",
       "    </tr>\n",
       "    <tr>\n",
       "      <th>2</th>\n",
       "      <td>536365</td>\n",
       "      <td>84406B</td>\n",
       "      <td>CREAM CUPID HEARTS COAT HANGER</td>\n",
       "      <td>United Kingdom</td>\n",
       "    </tr>\n",
       "    <tr>\n",
       "      <th>3</th>\n",
       "      <td>536365</td>\n",
       "      <td>84029G</td>\n",
       "      <td>KNITTED UNION FLAG HOT WATER BOTTLE</td>\n",
       "      <td>United Kingdom</td>\n",
       "    </tr>\n",
       "    <tr>\n",
       "      <th>4</th>\n",
       "      <td>536365</td>\n",
       "      <td>84029E</td>\n",
       "      <td>RED WOOLLY HOTTIE WHITE HEART.</td>\n",
       "      <td>United Kingdom</td>\n",
       "    </tr>\n",
       "  </tbody>\n",
       "</table>\n",
       "</div>"
      ],
      "text/plain": [
       "  invoice_no stock_code                          description         country\n",
       "0     536365     85123A   WHITE HANGING HEART T-LIGHT HOLDER  United Kingdom\n",
       "1     536365      71053                  WHITE METAL LANTERN  United Kingdom\n",
       "2     536365     84406B       CREAM CUPID HEARTS COAT HANGER  United Kingdom\n",
       "3     536365     84029G  KNITTED UNION FLAG HOT WATER BOTTLE  United Kingdom\n",
       "4     536365     84029E       RED WOOLLY HOTTIE WHITE HEART.  United Kingdom"
      ]
     },
     "execution_count": 44,
     "metadata": {},
     "output_type": "execute_result"
    }
   ],
   "source": [
    "cat_attributes.head()"
   ]
  },
  {
   "cell_type": "markdown",
   "id": "seeing-louisville",
   "metadata": {},
   "source": [
    "#### Invoice_No"
   ]
  },
  {
   "cell_type": "code",
   "execution_count": 45,
   "id": "parental-syndicate",
   "metadata": {
    "ExecuteTime": {
     "end_time": "2022-04-27T21:19:03.166554Z",
     "start_time": "2022-04-27T21:19:02.741329Z"
    }
   },
   "outputs": [
    {
     "name": "stdout",
     "output_type": "stream",
     "text": [
      "Total number of invoices with letter on it: 9291\n",
      "Total number of invoices with negative quantity: 9288\n"
     ]
    }
   ],
   "source": [
    "# problem: We got letters and numbers in invoice_no\n",
    "#df0['invoice_no'].astype( int )\n",
    "\n",
    "# identification: \n",
    "df_letter_invoices = df0.loc[df0['invoice_no'].apply( lambda x: bool( re.search( '[^0-9]+', x ) ) ), :]\n",
    "\n",
    "print( 'Total number of invoices with letter on it: {}'.format( len( df_letter_invoices ) ) )\n",
    "print( 'Total number of invoices with negative quantity: {}'.format( len( df_letter_invoices[ df_letter_invoices['quantity'] < 0 ] ) ) )"
   ]
  },
  {
   "cell_type": "markdown",
   "id": "official-monday",
   "metadata": {},
   "source": [
    "#### Stock_Code"
   ]
  },
  {
   "cell_type": "code",
   "execution_count": 46,
   "id": "stuck-proportion",
   "metadata": {
    "ExecuteTime": {
     "end_time": "2022-04-27T21:19:04.601372Z",
     "start_time": "2022-04-27T21:19:04.121946Z"
    }
   },
   "outputs": [
    {
     "data": {
      "text/plain": [
       "array(['POST', 'D', 'DOT', 'M', 'S', 'AMAZONFEE', 'm', 'DCGSSBOY',\n",
       "       'DCGSSGIRL', 'PADS', 'B', 'CRUK'], dtype=object)"
      ]
     },
     "execution_count": 46,
     "metadata": {},
     "output_type": "execute_result"
    }
   ],
   "source": [
    "# check stock codes only characters\n",
    "df0.loc[df0['stock_code'].apply( lambda x: bool( re.search( '^[a-zA-Z]+$', x ) ) ), 'stock_code'].unique()\n",
    "\n",
    "# Acão:\n",
    "## 1. Remove stock_code in ['POST', 'D', 'DOT', 'M', 'S', 'AMAZONFEE', 'm', 'DCGSSBOY', 'DCGSSGIRL', 'PADS', 'B', 'CRUK']"
   ]
  },
  {
   "cell_type": "markdown",
   "id": "accurate-glass",
   "metadata": {},
   "source": [
    "#### Description"
   ]
  },
  {
   "cell_type": "code",
   "execution_count": 47,
   "id": "heated-wisconsin",
   "metadata": {
    "ExecuteTime": {
     "end_time": "2022-04-27T21:19:09.035475Z",
     "start_time": "2022-04-27T21:19:09.005603Z"
    }
   },
   "outputs": [
    {
     "data": {
      "text/html": [
       "<div>\n",
       "<style scoped>\n",
       "    .dataframe tbody tr th:only-of-type {\n",
       "        vertical-align: middle;\n",
       "    }\n",
       "\n",
       "    .dataframe tbody tr th {\n",
       "        vertical-align: top;\n",
       "    }\n",
       "\n",
       "    .dataframe thead th {\n",
       "        text-align: right;\n",
       "    }\n",
       "</style>\n",
       "<table border=\"1\" class=\"dataframe\">\n",
       "  <thead>\n",
       "    <tr style=\"text-align: right;\">\n",
       "      <th></th>\n",
       "      <th>invoice_no</th>\n",
       "      <th>stock_code</th>\n",
       "      <th>description</th>\n",
       "      <th>quantity</th>\n",
       "      <th>invoice_date</th>\n",
       "      <th>unit_price</th>\n",
       "      <th>country</th>\n",
       "      <th>customer_id</th>\n",
       "    </tr>\n",
       "  </thead>\n",
       "  <tbody>\n",
       "    <tr>\n",
       "      <th>0</th>\n",
       "      <td>536365</td>\n",
       "      <td>85123A</td>\n",
       "      <td>WHITE HANGING HEART T-LIGHT HOLDER</td>\n",
       "      <td>6</td>\n",
       "      <td>2016-11-29</td>\n",
       "      <td>2.55</td>\n",
       "      <td>United Kingdom</td>\n",
       "      <td>17850</td>\n",
       "    </tr>\n",
       "    <tr>\n",
       "      <th>1</th>\n",
       "      <td>536365</td>\n",
       "      <td>71053</td>\n",
       "      <td>WHITE METAL LANTERN</td>\n",
       "      <td>6</td>\n",
       "      <td>2016-11-29</td>\n",
       "      <td>3.39</td>\n",
       "      <td>United Kingdom</td>\n",
       "      <td>17850</td>\n",
       "    </tr>\n",
       "    <tr>\n",
       "      <th>2</th>\n",
       "      <td>536365</td>\n",
       "      <td>84406B</td>\n",
       "      <td>CREAM CUPID HEARTS COAT HANGER</td>\n",
       "      <td>8</td>\n",
       "      <td>2016-11-29</td>\n",
       "      <td>2.75</td>\n",
       "      <td>United Kingdom</td>\n",
       "      <td>17850</td>\n",
       "    </tr>\n",
       "    <tr>\n",
       "      <th>3</th>\n",
       "      <td>536365</td>\n",
       "      <td>84029G</td>\n",
       "      <td>KNITTED UNION FLAG HOT WATER BOTTLE</td>\n",
       "      <td>6</td>\n",
       "      <td>2016-11-29</td>\n",
       "      <td>3.39</td>\n",
       "      <td>United Kingdom</td>\n",
       "      <td>17850</td>\n",
       "    </tr>\n",
       "    <tr>\n",
       "      <th>4</th>\n",
       "      <td>536365</td>\n",
       "      <td>84029E</td>\n",
       "      <td>RED WOOLLY HOTTIE WHITE HEART.</td>\n",
       "      <td>6</td>\n",
       "      <td>2016-11-29</td>\n",
       "      <td>3.39</td>\n",
       "      <td>United Kingdom</td>\n",
       "      <td>17850</td>\n",
       "    </tr>\n",
       "  </tbody>\n",
       "</table>\n",
       "</div>"
      ],
      "text/plain": [
       "  invoice_no stock_code                          description  quantity invoice_date  unit_price         country  customer_id\n",
       "0     536365     85123A   WHITE HANGING HEART T-LIGHT HOLDER         6   2016-11-29        2.55  United Kingdom        17850\n",
       "1     536365      71053                  WHITE METAL LANTERN         6   2016-11-29        3.39  United Kingdom        17850\n",
       "2     536365     84406B       CREAM CUPID HEARTS COAT HANGER         8   2016-11-29        2.75  United Kingdom        17850\n",
       "3     536365     84029G  KNITTED UNION FLAG HOT WATER BOTTLE         6   2016-11-29        3.39  United Kingdom        17850\n",
       "4     536365     84029E       RED WOOLLY HOTTIE WHITE HEART.         6   2016-11-29        3.39  United Kingdom        17850"
      ]
     },
     "execution_count": 47,
     "metadata": {},
     "output_type": "execute_result"
    }
   ],
   "source": [
    "df0.head()\n",
    "\n",
    "# Action: Delete description"
   ]
  },
  {
   "cell_type": "markdown",
   "id": "massive-saturday",
   "metadata": {},
   "source": [
    "#### Country"
   ]
  },
  {
   "cell_type": "code",
   "execution_count": 48,
   "id": "sweet-kenya",
   "metadata": {
    "ExecuteTime": {
     "end_time": "2022-04-27T21:19:10.257640Z",
     "start_time": "2022-04-27T21:19:10.219838Z"
    }
   },
   "outputs": [
    {
     "data": {
      "text/plain": [
       "array(['United Kingdom', 'France', 'Australia', 'Netherlands', 'Germany',\n",
       "       'Norway', 'EIRE', 'Switzerland', 'Spain', 'Poland', 'Portugal',\n",
       "       'Italy', 'Belgium', 'Lithuania', 'Japan', 'Iceland',\n",
       "       'Channel Islands', 'Denmark', 'Cyprus', 'Sweden', 'Austria',\n",
       "       'Israel', 'Finland', 'Bahrain', 'Greece', 'Hong Kong', 'Singapore',\n",
       "       'Lebanon', 'United Arab Emirates', 'Saudi Arabia',\n",
       "       'Czech Republic', 'Canada', 'Unspecified', 'Brazil', 'USA',\n",
       "       'European Community', 'Malta', 'RSA'], dtype=object)"
      ]
     },
     "execution_count": 48,
     "metadata": {},
     "output_type": "execute_result"
    }
   ],
   "source": [
    "df0['country'].unique()"
   ]
  },
  {
   "cell_type": "code",
   "execution_count": 49,
   "id": "varying-screw",
   "metadata": {
    "ExecuteTime": {
     "end_time": "2022-04-27T21:19:11.823024Z",
     "start_time": "2022-04-27T21:19:11.782254Z"
    },
    "scrolled": true
   },
   "outputs": [
    {
     "data": {
      "text/plain": [
       "United Kingdom          91.431956\n",
       "Germany                  1.752139\n",
       "France                   1.579047\n",
       "EIRE                     1.512431\n",
       "Spain                    0.467422\n",
       "Netherlands              0.437527\n",
       "Belgium                  0.381798\n",
       "Switzerland              0.369435\n",
       "Portugal                 0.280305\n",
       "Australia                0.232327\n",
       "Norway                   0.200403\n",
       "Italy                    0.148180\n",
       "Channel Islands          0.139876\n",
       "Finland                  0.128250\n",
       "Cyprus                   0.114779\n",
       "Sweden                   0.085254\n",
       "Unspecified              0.082302\n",
       "Austria                  0.073998\n",
       "Denmark                  0.071783\n",
       "Japan                    0.066063\n",
       "Poland                   0.062926\n",
       "Israel                   0.054806\n",
       "USA                      0.053699\n",
       "Hong Kong                0.053145\n",
       "Singapore                0.042258\n",
       "Iceland                  0.033585\n",
       "Canada                   0.027864\n",
       "Greece                   0.026942\n",
       "Malta                    0.023436\n",
       "United Arab Emirates     0.012548\n",
       "European Community       0.011257\n",
       "RSA                      0.010703\n",
       "Lebanon                  0.008304\n",
       "Lithuania                0.006459\n",
       "Brazil                   0.005905\n",
       "Czech Republic           0.005536\n",
       "Bahrain                  0.003506\n",
       "Saudi Arabia             0.001845\n",
       "Name: country, dtype: float64"
      ]
     },
     "execution_count": 49,
     "metadata": {},
     "output_type": "execute_result"
    }
   ],
   "source": [
    "# purchases per country (percentage)\n",
    "df0['country'].value_counts( normalize=True)*100"
   ]
  },
  {
   "cell_type": "code",
   "execution_count": 50,
   "id": "reduced-mechanism",
   "metadata": {
    "ExecuteTime": {
     "end_time": "2022-04-27T21:19:17.678025Z",
     "start_time": "2022-04-27T21:19:17.622225Z"
    },
    "scrolled": true
   },
   "outputs": [
    {
     "data": {
      "text/html": [
       "<div>\n",
       "<style scoped>\n",
       "    .dataframe tbody tr th:only-of-type {\n",
       "        vertical-align: middle;\n",
       "    }\n",
       "\n",
       "    .dataframe tbody tr th {\n",
       "        vertical-align: top;\n",
       "    }\n",
       "\n",
       "    .dataframe thead th {\n",
       "        text-align: right;\n",
       "    }\n",
       "</style>\n",
       "<table border=\"1\" class=\"dataframe\">\n",
       "  <thead>\n",
       "    <tr style=\"text-align: right;\">\n",
       "      <th></th>\n",
       "      <th>country</th>\n",
       "      <th>customer_id</th>\n",
       "    </tr>\n",
       "  </thead>\n",
       "  <tbody>\n",
       "    <tr>\n",
       "      <th>36</th>\n",
       "      <td>United Kingdom</td>\n",
       "      <td>7587</td>\n",
       "    </tr>\n",
       "    <tr>\n",
       "      <th>14</th>\n",
       "      <td>Germany</td>\n",
       "      <td>95</td>\n",
       "    </tr>\n",
       "    <tr>\n",
       "      <th>13</th>\n",
       "      <td>France</td>\n",
       "      <td>90</td>\n",
       "    </tr>\n",
       "    <tr>\n",
       "      <th>10</th>\n",
       "      <td>EIRE</td>\n",
       "      <td>44</td>\n",
       "    </tr>\n",
       "    <tr>\n",
       "      <th>31</th>\n",
       "      <td>Spain</td>\n",
       "      <td>31</td>\n",
       "    </tr>\n",
       "    <tr>\n",
       "      <th>3</th>\n",
       "      <td>Belgium</td>\n",
       "      <td>25</td>\n",
       "    </tr>\n",
       "    <tr>\n",
       "      <th>33</th>\n",
       "      <td>Switzerland</td>\n",
       "      <td>24</td>\n",
       "    </tr>\n",
       "    <tr>\n",
       "      <th>27</th>\n",
       "      <td>Portugal</td>\n",
       "      <td>20</td>\n",
       "    </tr>\n",
       "    <tr>\n",
       "      <th>19</th>\n",
       "      <td>Italy</td>\n",
       "      <td>15</td>\n",
       "    </tr>\n",
       "    <tr>\n",
       "      <th>16</th>\n",
       "      <td>Hong Kong</td>\n",
       "      <td>15</td>\n",
       "    </tr>\n",
       "    <tr>\n",
       "      <th>12</th>\n",
       "      <td>Finland</td>\n",
       "      <td>12</td>\n",
       "    </tr>\n",
       "    <tr>\n",
       "      <th>1</th>\n",
       "      <td>Austria</td>\n",
       "      <td>11</td>\n",
       "    </tr>\n",
       "    <tr>\n",
       "      <th>25</th>\n",
       "      <td>Norway</td>\n",
       "      <td>10</td>\n",
       "    </tr>\n",
       "    <tr>\n",
       "      <th>24</th>\n",
       "      <td>Netherlands</td>\n",
       "      <td>9</td>\n",
       "    </tr>\n",
       "    <tr>\n",
       "      <th>0</th>\n",
       "      <td>Australia</td>\n",
       "      <td>9</td>\n",
       "    </tr>\n",
       "    <tr>\n",
       "      <th>37</th>\n",
       "      <td>Unspecified</td>\n",
       "      <td>9</td>\n",
       "    </tr>\n",
       "    <tr>\n",
       "      <th>9</th>\n",
       "      <td>Denmark</td>\n",
       "      <td>9</td>\n",
       "    </tr>\n",
       "    <tr>\n",
       "      <th>6</th>\n",
       "      <td>Channel Islands</td>\n",
       "      <td>9</td>\n",
       "    </tr>\n",
       "    <tr>\n",
       "      <th>7</th>\n",
       "      <td>Cyprus</td>\n",
       "      <td>8</td>\n",
       "    </tr>\n",
       "    <tr>\n",
       "      <th>32</th>\n",
       "      <td>Sweden</td>\n",
       "      <td>8</td>\n",
       "    </tr>\n",
       "    <tr>\n",
       "      <th>20</th>\n",
       "      <td>Japan</td>\n",
       "      <td>8</td>\n",
       "    </tr>\n",
       "    <tr>\n",
       "      <th>18</th>\n",
       "      <td>Israel</td>\n",
       "      <td>7</td>\n",
       "    </tr>\n",
       "    <tr>\n",
       "      <th>26</th>\n",
       "      <td>Poland</td>\n",
       "      <td>6</td>\n",
       "    </tr>\n",
       "    <tr>\n",
       "      <th>5</th>\n",
       "      <td>Canada</td>\n",
       "      <td>4</td>\n",
       "    </tr>\n",
       "    <tr>\n",
       "      <th>34</th>\n",
       "      <td>USA</td>\n",
       "      <td>4</td>\n",
       "    </tr>\n",
       "    <tr>\n",
       "      <th>2</th>\n",
       "      <td>Bahrain</td>\n",
       "      <td>4</td>\n",
       "    </tr>\n",
       "    <tr>\n",
       "      <th>15</th>\n",
       "      <td>Greece</td>\n",
       "      <td>4</td>\n",
       "    </tr>\n",
       "    <tr>\n",
       "      <th>23</th>\n",
       "      <td>Malta</td>\n",
       "      <td>2</td>\n",
       "    </tr>\n",
       "    <tr>\n",
       "      <th>35</th>\n",
       "      <td>United Arab Emirates</td>\n",
       "      <td>2</td>\n",
       "    </tr>\n",
       "    <tr>\n",
       "      <th>8</th>\n",
       "      <td>Czech Republic</td>\n",
       "      <td>1</td>\n",
       "    </tr>\n",
       "    <tr>\n",
       "      <th>22</th>\n",
       "      <td>Lithuania</td>\n",
       "      <td>1</td>\n",
       "    </tr>\n",
       "    <tr>\n",
       "      <th>11</th>\n",
       "      <td>European Community</td>\n",
       "      <td>1</td>\n",
       "    </tr>\n",
       "    <tr>\n",
       "      <th>21</th>\n",
       "      <td>Lebanon</td>\n",
       "      <td>1</td>\n",
       "    </tr>\n",
       "    <tr>\n",
       "      <th>28</th>\n",
       "      <td>RSA</td>\n",
       "      <td>1</td>\n",
       "    </tr>\n",
       "    <tr>\n",
       "      <th>29</th>\n",
       "      <td>Saudi Arabia</td>\n",
       "      <td>1</td>\n",
       "    </tr>\n",
       "    <tr>\n",
       "      <th>30</th>\n",
       "      <td>Singapore</td>\n",
       "      <td>1</td>\n",
       "    </tr>\n",
       "    <tr>\n",
       "      <th>17</th>\n",
       "      <td>Iceland</td>\n",
       "      <td>1</td>\n",
       "    </tr>\n",
       "    <tr>\n",
       "      <th>4</th>\n",
       "      <td>Brazil</td>\n",
       "      <td>1</td>\n",
       "    </tr>\n",
       "  </tbody>\n",
       "</table>\n",
       "</div>"
      ],
      "text/plain": [
       "                 country  customer_id\n",
       "36        United Kingdom         7587\n",
       "14               Germany           95\n",
       "13                France           90\n",
       "10                  EIRE           44\n",
       "31                 Spain           31\n",
       "3                Belgium           25\n",
       "33           Switzerland           24\n",
       "27              Portugal           20\n",
       "19                 Italy           15\n",
       "16             Hong Kong           15\n",
       "12               Finland           12\n",
       "1                Austria           11\n",
       "25                Norway           10\n",
       "24           Netherlands            9\n",
       "0              Australia            9\n",
       "37           Unspecified            9\n",
       "9                Denmark            9\n",
       "6        Channel Islands            9\n",
       "7                 Cyprus            8\n",
       "32                Sweden            8\n",
       "20                 Japan            8\n",
       "18                Israel            7\n",
       "26                Poland            6\n",
       "5                 Canada            4\n",
       "34                   USA            4\n",
       "2                Bahrain            4\n",
       "15                Greece            4\n",
       "23                 Malta            2\n",
       "35  United Arab Emirates            2\n",
       "8         Czech Republic            1\n",
       "22             Lithuania            1\n",
       "11    European Community            1\n",
       "21               Lebanon            1\n",
       "28                   RSA            1\n",
       "29          Saudi Arabia            1\n",
       "30             Singapore            1\n",
       "17               Iceland            1\n",
       "4                 Brazil            1"
      ]
     },
     "execution_count": 50,
     "metadata": {},
     "output_type": "execute_result"
    }
   ],
   "source": [
    "# customers per country\n",
    "df0[['customer_id', 'country']].drop_duplicates().groupby( 'country' ).count().reset_index().sort_values( 'customer_id', ascending=False)"
   ]
  },
  {
   "cell_type": "markdown",
   "id": "prime-prior",
   "metadata": {},
   "source": [
    "# VARIABLE FILTERING"
   ]
  },
  {
   "cell_type": "code",
   "execution_count": 51,
   "id": "flying-palace",
   "metadata": {
    "ExecuteTime": {
     "end_time": "2022-04-27T22:38:47.188500Z",
     "start_time": "2022-04-27T22:38:47.173372Z"
    }
   },
   "outputs": [],
   "source": [
    "df1 = df0.copy()"
   ]
  },
  {
   "cell_type": "code",
   "execution_count": 52,
   "id": "backed-fortune",
   "metadata": {
    "ExecuteTime": {
     "end_time": "2022-04-27T22:38:50.268495Z",
     "start_time": "2022-04-27T22:38:50.062790Z"
    }
   },
   "outputs": [],
   "source": [
    " # === Numerical attributes ====\n",
    "df1 = df1.loc[df1['unit_price'] >= 0.04, :]\n",
    "\n",
    "# === Categorical attributes ====\n",
    "#stock code\n",
    "df1 = df1[~df1['stock_code'].isin( ['POST', 'D', 'DOT', 'M', 'S', 'AMAZONFEE', 'm', 'DCGSSBOY',\n",
    "                                    'DCGSSGIRL', 'PADS', 'B', 'CRUK'] )]\n",
    "\n",
    "# description\n",
    "df1 = df1.drop( columns='description', axis=1 )\n",
    "\n",
    "# country \n",
    "df1 = df1[~df1['country'].isin( ['European Community', 'Unspecified' ] ) ] #assuming this risk so we can use lat long parameters\n",
    "\n",
    "# bad customers\n",
    "df1 = df1[~df1['customer_id'].isin([16446, 12346, 15098])]\n",
    "\n",
    "# quantity \n",
    "df1_returns = df1.loc[df1['quantity'] < 0, :].copy() # considering negative quantity is equal returned items\n",
    "df1_purchases = df1.loc[df1['quantity'] >= 0, :].copy()"
   ]
  },
  {
   "cell_type": "markdown",
   "id": "coastal-pakistan",
   "metadata": {},
   "source": [
    "# Exploratory Data Analysis"
   ]
  },
  {
   "cell_type": "markdown",
   "id": "graduate-score",
   "metadata": {},
   "source": [
    "## Gross Revenue"
   ]
  },
  {
   "cell_type": "code",
   "execution_count": 129,
   "id": "removed-collector",
   "metadata": {
    "ExecuteTime": {
     "end_time": "2022-04-27T23:35:51.991621Z",
     "start_time": "2022-04-27T23:35:51.977113Z"
    },
    "scrolled": true
   },
   "outputs": [],
   "source": [
    "# Gross Revenue ( Faturamento ) quantity * price\n",
    "df1_purchases['gross_revenue'] = df1_purchases['quantity'] * df1_purchases['unit_price']\n",
    "\n",
    "#returned items\n",
    "df1_returns['quantity'] = df1_returns['quantity']* -1\n",
    "df1_returns['gross_revenue'] = df1_returns['quantity'] * aux['unit_price']"
   ]
  },
  {
   "cell_type": "code",
   "execution_count": 131,
   "id": "949a23e9",
   "metadata": {
    "ExecuteTime": {
     "end_time": "2022-04-27T23:36:03.061365Z",
     "start_time": "2022-04-27T23:36:03.055780Z"
    }
   },
   "outputs": [
    {
     "data": {
      "text/plain": [
       "2.4018915734483954"
      ]
     },
     "execution_count": 131,
     "metadata": {},
     "output_type": "execute_result"
    }
   ],
   "source": [
    "# percentage of gross revenue lost due returns\n",
    "df1_returns.gross_revenue.sum()/df1_purchases.gross_revenue.sum()*100"
   ]
  },
  {
   "cell_type": "markdown",
   "id": "143d5652",
   "metadata": {},
   "source": [
    "**Assumption**\n",
    "       \n",
    "1. We remove the returned items from the analysis even though it increase bias once we include the initial order and remove the return. However, total revenue lost by returned items impacts total revenue by 2.4%"
   ]
  },
  {
   "cell_type": "markdown",
   "id": "74aa1595",
   "metadata": {},
   "source": [
    "## Quantity of Purchases by Customer"
   ]
  },
  {
   "cell_type": "code",
   "execution_count": 138,
   "id": "f9a7eeb9",
   "metadata": {
    "ExecuteTime": {
     "end_time": "2022-04-27T23:45:27.579589Z",
     "start_time": "2022-04-27T23:45:27.525834Z"
    }
   },
   "outputs": [],
   "source": [
    "df_invoice_no = df1_purchases[['customer_id', 'invoice_no']].drop_duplicates().groupby('customer_id').count().reset_index().rename(columns = {'invoice_no': 'qty_invoice_no'})"
   ]
  },
  {
   "cell_type": "code",
   "execution_count": 160,
   "id": "49b5f5c6",
   "metadata": {
    "ExecuteTime": {
     "end_time": "2022-04-27T23:54:26.930132Z",
     "start_time": "2022-04-27T23:54:26.916645Z"
    },
    "scrolled": true
   },
   "outputs": [
    {
     "data": {
      "text/html": [
       "<div>\n",
       "<style scoped>\n",
       "    .dataframe tbody tr th:only-of-type {\n",
       "        vertical-align: middle;\n",
       "    }\n",
       "\n",
       "    .dataframe tbody tr th {\n",
       "        vertical-align: top;\n",
       "    }\n",
       "\n",
       "    .dataframe thead th {\n",
       "        text-align: right;\n",
       "    }\n",
       "</style>\n",
       "<table border=\"1\" class=\"dataframe\">\n",
       "  <thead>\n",
       "    <tr style=\"text-align: right;\">\n",
       "      <th></th>\n",
       "      <th>customer_id</th>\n",
       "      <th>qty_invoice_no</th>\n",
       "    </tr>\n",
       "  </thead>\n",
       "  <tbody>\n",
       "    <tr>\n",
       "      <th>0</th>\n",
       "      <td>12347</td>\n",
       "      <td>7</td>\n",
       "    </tr>\n",
       "    <tr>\n",
       "      <th>1</th>\n",
       "      <td>12348</td>\n",
       "      <td>4</td>\n",
       "    </tr>\n",
       "    <tr>\n",
       "      <th>2</th>\n",
       "      <td>12349</td>\n",
       "      <td>1</td>\n",
       "    </tr>\n",
       "    <tr>\n",
       "      <th>3</th>\n",
       "      <td>12350</td>\n",
       "      <td>1</td>\n",
       "    </tr>\n",
       "    <tr>\n",
       "      <th>4</th>\n",
       "      <td>12352</td>\n",
       "      <td>7</td>\n",
       "    </tr>\n",
       "  </tbody>\n",
       "</table>\n",
       "</div>"
      ],
      "text/plain": [
       "   customer_id  qty_invoice_no\n",
       "0        12347               7\n",
       "1        12348               4\n",
       "2        12349               1\n",
       "3        12350               1\n",
       "4        12352               7"
      ]
     },
     "execution_count": 160,
     "metadata": {},
     "output_type": "execute_result"
    }
   ],
   "source": [
    "df_invoice_no.head()"
   ]
  },
  {
   "cell_type": "code",
   "execution_count": 161,
   "id": "2e9108af",
   "metadata": {
    "ExecuteTime": {
     "end_time": "2022-04-27T23:54:46.122276Z",
     "start_time": "2022-04-27T23:54:46.114462Z"
    }
   },
   "outputs": [],
   "source": [
    "mult_orders_perc = np.sum(df_invoice_no > 1) / df_invoice_no['customer_id'].nunique()"
   ]
  },
  {
   "cell_type": "code",
   "execution_count": 167,
   "id": "fc33e3b2",
   "metadata": {
    "ExecuteTime": {
     "end_time": "2022-04-27T23:55:12.557331Z",
     "start_time": "2022-04-27T23:55:12.551655Z"
    }
   },
   "outputs": [
    {
     "data": {
      "text/plain": [
       "49.58721236606359"
      ]
     },
     "execution_count": 167,
     "metadata": {},
     "output_type": "execute_result"
    }
   ],
   "source": [
    "mult_orders_perc[1]*100"
   ]
  },
  {
   "cell_type": "markdown",
   "id": "fd302927",
   "metadata": {},
   "source": [
    "- We can state that 49.58% of customers ordered more than once. \n",
    "\n",
    "- This is already a valuable piece of information, as is seems that the customers are placing multiple orders. \n",
    "\n",
    "- This means that there will be at least some retention. \n",
    "\n",
    "- Given that the dataset has no sign-up/joined date, it would be problematic if the majority of the users only placed one order;"
   ]
  },
  {
   "cell_type": "code",
   "execution_count": 169,
   "id": "bb93b3f9",
   "metadata": {
    "ExecuteTime": {
     "end_time": "2022-04-27T23:59:20.992262Z",
     "start_time": "2022-04-27T23:59:20.742069Z"
    },
    "scrolled": false
   },
   "outputs": [
    {
     "data": {
      "image/png": "[encoded data removed]",
      "text/plain": [
       "<Figure size 1800x864 with 1 Axes>"
      ]
     },
     "metadata": {},
     "output_type": "display_data"
    }
   ],
   "source": [
    "ax = sns.distplot(df_invoice_no['qty_invoice_no'], kde=False, hist=True)\n",
    "ax.set(title='Distribution of number of orders per customer',\n",
    "       xlabel='Qty of Invoice No', \n",
    "       ylabel='Qty of customers');"
   ]
  },
  {
   "cell_type": "markdown",
   "id": "534aa659",
   "metadata": {},
   "source": [
    "## Cohort Analysis"
   ]
  },
  {
   "cell_type": "markdown",
   "id": "9691e25d",
   "metadata": {},
   "source": [
    "- Cohort Analysis is a very useful and relatively simple technique that helps in getting valuable insights about the behavior of any business’ customers/users. For the analysis, we can focus on different metrics (dependent on the business model) — conversion, retention, generated revenue, etc.\n",
    "\n",
    "- A cohort is a group of people sharing something in common, such as the sign-up date to an app, the month of the first purchase, geographical location, acquisition channel (organic users, coming from performance marketing, etc.) and so on. In Cohort Analysis, we track these groups of users over time, to identify some common patterns or behaviors.\n",
    "\n",
    "- In this notebook I cover the case of **user retention** and **gross revenue**. By understanding user retention, we can infer the stickiness/loyalty of the customers and evaluate the health of the business. It is important to remember that the expected retention values vary greatly between businesses, 3 purchases a year for one retailer might be a lot, while for another might be far too little.\n",
    "\n",
    "- Retaining customers is critical for any business, as it is far cheaper to keep the current customers (by using CRM tools, member discounts, etc.) than to acquire new ones.\n",
    "\n",
    "- Furthermore, cohort analysis can also help to observe the impact of changes to the product on the user behavior, be it design changes or entirely new features. By seeing how the groups behave over time, we can more or less observe if our efforts had some effects on the user"
   ]
  },
  {
   "cell_type": "code",
   "execution_count": 377,
   "id": "f8f83934",
   "metadata": {
    "ExecuteTime": {
     "end_time": "2022-04-28T14:23:57.541733Z",
     "start_time": "2022-04-28T14:23:57.454693Z"
    }
   },
   "outputs": [],
   "source": [
    "df_aux = df1_purchases[['customer_id', 'invoice_no','gross_revenue', 'invoice_date']].groupby(['customer_id','invoice_no', 'invoice_date']).sum().reset_index()"
   ]
  },
  {
   "cell_type": "code",
   "execution_count": 378,
   "id": "4c26aadb",
   "metadata": {
    "ExecuteTime": {
     "end_time": "2022-04-28T14:23:58.623311Z",
     "start_time": "2022-04-28T14:23:58.596035Z"
    },
    "scrolled": false
   },
   "outputs": [
    {
     "data": {
      "text/html": [
       "<div>\n",
       "<style scoped>\n",
       "    .dataframe tbody tr th:only-of-type {\n",
       "        vertical-align: middle;\n",
       "    }\n",
       "\n",
       "    .dataframe tbody tr th {\n",
       "        vertical-align: top;\n",
       "    }\n",
       "\n",
       "    .dataframe thead th {\n",
       "        text-align: right;\n",
       "    }\n",
       "</style>\n",
       "<table border=\"1\" class=\"dataframe\">\n",
       "  <thead>\n",
       "    <tr style=\"text-align: right;\">\n",
       "      <th></th>\n",
       "      <th>customer_id</th>\n",
       "      <th>invoice_no</th>\n",
       "      <th>invoice_date</th>\n",
       "      <th>gross_revenue</th>\n",
       "    </tr>\n",
       "  </thead>\n",
       "  <tbody>\n",
       "    <tr>\n",
       "      <th>0</th>\n",
       "      <td>12347</td>\n",
       "      <td>537626</td>\n",
       "      <td>2016-12-05</td>\n",
       "      <td>711.79</td>\n",
       "    </tr>\n",
       "    <tr>\n",
       "      <th>1</th>\n",
       "      <td>12347</td>\n",
       "      <td>542237</td>\n",
       "      <td>2017-01-24</td>\n",
       "      <td>475.39</td>\n",
       "    </tr>\n",
       "    <tr>\n",
       "      <th>2</th>\n",
       "      <td>12347</td>\n",
       "      <td>549222</td>\n",
       "      <td>2017-04-05</td>\n",
       "      <td>636.25</td>\n",
       "    </tr>\n",
       "    <tr>\n",
       "      <th>3</th>\n",
       "      <td>12347</td>\n",
       "      <td>556201</td>\n",
       "      <td>2017-06-07</td>\n",
       "      <td>382.52</td>\n",
       "    </tr>\n",
       "    <tr>\n",
       "      <th>4</th>\n",
       "      <td>12347</td>\n",
       "      <td>562032</td>\n",
       "      <td>2017-07-31</td>\n",
       "      <td>584.91</td>\n",
       "    </tr>\n",
       "  </tbody>\n",
       "</table>\n",
       "</div>"
      ],
      "text/plain": [
       "   customer_id invoice_no invoice_date  gross_revenue\n",
       "0        12347     537626   2016-12-05         711.79\n",
       "1        12347     542237   2017-01-24         475.39\n",
       "2        12347     549222   2017-04-05         636.25\n",
       "3        12347     556201   2017-06-07         382.52\n",
       "4        12347     562032   2017-07-31         584.91"
      ]
     },
     "execution_count": 378,
     "metadata": {},
     "output_type": "execute_result"
    }
   ],
   "source": [
    "df_aux.head()"
   ]
  },
  {
   "cell_type": "code",
   "execution_count": 389,
   "id": "a058a3f2",
   "metadata": {
    "ExecuteTime": {
     "end_time": "2022-04-28T14:35:12.264918Z",
     "start_time": "2022-04-28T14:35:12.251729Z"
    }
   },
   "outputs": [],
   "source": [
    "df_aux['invoice_month'] = df_aux['invoice_date'].dt.to_period('M')"
   ]
  },
  {
   "cell_type": "code",
   "execution_count": 390,
   "id": "adf63d03",
   "metadata": {
    "ExecuteTime": {
     "end_time": "2022-04-28T14:35:13.996390Z",
     "start_time": "2022-04-28T14:35:13.980194Z"
    }
   },
   "outputs": [],
   "source": [
    "df_aux['cohort'] = df_aux.groupby('customer_id')['invoice_date'].transform('min').dt.to_period('M') "
   ]
  },
  {
   "cell_type": "code",
   "execution_count": 391,
   "id": "14342900",
   "metadata": {
    "ExecuteTime": {
     "end_time": "2022-04-28T14:35:15.579521Z",
     "start_time": "2022-04-28T14:35:15.552212Z"
    },
    "scrolled": true
   },
   "outputs": [
    {
     "data": {
      "text/html": [
       "<div>\n",
       "<style scoped>\n",
       "    .dataframe tbody tr th:only-of-type {\n",
       "        vertical-align: middle;\n",
       "    }\n",
       "\n",
       "    .dataframe tbody tr th {\n",
       "        vertical-align: top;\n",
       "    }\n",
       "\n",
       "    .dataframe thead th {\n",
       "        text-align: right;\n",
       "    }\n",
       "</style>\n",
       "<table border=\"1\" class=\"dataframe\">\n",
       "  <thead>\n",
       "    <tr style=\"text-align: right;\">\n",
       "      <th></th>\n",
       "      <th>customer_id</th>\n",
       "      <th>invoice_no</th>\n",
       "      <th>invoice_date</th>\n",
       "      <th>gross_revenue</th>\n",
       "      <th>invoice_month</th>\n",
       "      <th>cohort</th>\n",
       "    </tr>\n",
       "  </thead>\n",
       "  <tbody>\n",
       "    <tr>\n",
       "      <th>7536</th>\n",
       "      <td>14692</td>\n",
       "      <td>543807</td>\n",
       "      <td>2017-02-11</td>\n",
       "      <td>121.25</td>\n",
       "      <td>2017-02</td>\n",
       "      <td>2017-01</td>\n",
       "    </tr>\n",
       "    <tr>\n",
       "      <th>8253</th>\n",
       "      <td>14911</td>\n",
       "      <td>556953</td>\n",
       "      <td>2017-06-14</td>\n",
       "      <td>1012.86</td>\n",
       "      <td>2017-06</td>\n",
       "      <td>2016-11</td>\n",
       "    </tr>\n",
       "    <tr>\n",
       "      <th>18500</th>\n",
       "      <td>19249</td>\n",
       "      <td>539480</td>\n",
       "      <td>2016-12-17</td>\n",
       "      <td>18.65</td>\n",
       "      <td>2016-12</td>\n",
       "      <td>2016-12</td>\n",
       "    </tr>\n",
       "    <tr>\n",
       "      <th>14136</th>\n",
       "      <td>16905</td>\n",
       "      <td>547712</td>\n",
       "      <td>2017-03-22</td>\n",
       "      <td>380.98</td>\n",
       "      <td>2017-03</td>\n",
       "      <td>2016-12</td>\n",
       "    </tr>\n",
       "    <tr>\n",
       "      <th>2114</th>\n",
       "      <td>12971</td>\n",
       "      <td>576237</td>\n",
       "      <td>2017-11-12</td>\n",
       "      <td>65.40</td>\n",
       "      <td>2017-11</td>\n",
       "      <td>2016-11</td>\n",
       "    </tr>\n",
       "    <tr>\n",
       "      <th>17038</th>\n",
       "      <td>17841</td>\n",
       "      <td>568227</td>\n",
       "      <td>2017-09-24</td>\n",
       "      <td>183.54</td>\n",
       "      <td>2017-09</td>\n",
       "      <td>2016-11</td>\n",
       "    </tr>\n",
       "    <tr>\n",
       "      <th>10991</th>\n",
       "      <td>15814</td>\n",
       "      <td>572108</td>\n",
       "      <td>2017-10-18</td>\n",
       "      <td>521.53</td>\n",
       "      <td>2017-10</td>\n",
       "      <td>2017-10</td>\n",
       "    </tr>\n",
       "    <tr>\n",
       "      <th>14389</th>\n",
       "      <td>16983</td>\n",
       "      <td>565407</td>\n",
       "      <td>2017-09-02</td>\n",
       "      <td>305.08</td>\n",
       "      <td>2017-09</td>\n",
       "      <td>2016-12</td>\n",
       "    </tr>\n",
       "    <tr>\n",
       "      <th>6154</th>\n",
       "      <td>14284</td>\n",
       "      <td>566724</td>\n",
       "      <td>2017-09-12</td>\n",
       "      <td>252.10</td>\n",
       "      <td>2017-09</td>\n",
       "      <td>2017-09</td>\n",
       "    </tr>\n",
       "    <tr>\n",
       "      <th>10081</th>\n",
       "      <td>15498</td>\n",
       "      <td>562940</td>\n",
       "      <td>2017-08-09</td>\n",
       "      <td>337.50</td>\n",
       "      <td>2017-08</td>\n",
       "      <td>2016-12</td>\n",
       "    </tr>\n",
       "  </tbody>\n",
       "</table>\n",
       "</div>"
      ],
      "text/plain": [
       "       customer_id invoice_no invoice_date  gross_revenue invoice_month   cohort\n",
       "7536         14692     543807   2017-02-11         121.25       2017-02  2017-01\n",
       "8253         14911     556953   2017-06-14        1012.86       2017-06  2016-11\n",
       "18500        19249     539480   2016-12-17          18.65       2016-12  2016-12\n",
       "14136        16905     547712   2017-03-22         380.98       2017-03  2016-12\n",
       "2114         12971     576237   2017-11-12          65.40       2017-11  2016-11\n",
       "17038        17841     568227   2017-09-24         183.54       2017-09  2016-11\n",
       "10991        15814     572108   2017-10-18         521.53       2017-10  2017-10\n",
       "14389        16983     565407   2017-09-02         305.08       2017-09  2016-12\n",
       "6154         14284     566724   2017-09-12         252.10       2017-09  2017-09\n",
       "10081        15498     562940   2017-08-09         337.50       2017-08  2016-12"
      ]
     },
     "execution_count": 391,
     "metadata": {},
     "output_type": "execute_result"
    }
   ],
   "source": [
    "df_aux.sample(10)"
   ]
  },
  {
   "cell_type": "code",
   "execution_count": 392,
   "id": "fe6de9c4",
   "metadata": {
    "ExecuteTime": {
     "end_time": "2022-04-28T14:35:35.015650Z",
     "start_time": "2022-04-28T14:35:34.992783Z"
    }
   },
   "outputs": [
    {
     "data": {
      "text/html": [
       "<div>\n",
       "<style scoped>\n",
       "    .dataframe tbody tr th:only-of-type {\n",
       "        vertical-align: middle;\n",
       "    }\n",
       "\n",
       "    .dataframe tbody tr th {\n",
       "        vertical-align: top;\n",
       "    }\n",
       "\n",
       "    .dataframe thead th {\n",
       "        text-align: right;\n",
       "    }\n",
       "</style>\n",
       "<table border=\"1\" class=\"dataframe\">\n",
       "  <thead>\n",
       "    <tr style=\"text-align: right;\">\n",
       "      <th></th>\n",
       "      <th>customer_id</th>\n",
       "      <th>invoice_no</th>\n",
       "      <th>invoice_date</th>\n",
       "      <th>gross_revenue</th>\n",
       "      <th>invoice_month</th>\n",
       "      <th>cohort</th>\n",
       "    </tr>\n",
       "  </thead>\n",
       "  <tbody>\n",
       "    <tr>\n",
       "      <th>12812</th>\n",
       "      <td>16460</td>\n",
       "      <td>567200</td>\n",
       "      <td>2017-09-17</td>\n",
       "      <td>258.84</td>\n",
       "      <td>2017-09</td>\n",
       "      <td>2017-09</td>\n",
       "    </tr>\n",
       "    <tr>\n",
       "      <th>12813</th>\n",
       "      <td>16460</td>\n",
       "      <td>568657</td>\n",
       "      <td>2017-09-26</td>\n",
       "      <td>253.26</td>\n",
       "      <td>2017-09</td>\n",
       "      <td>2017-09</td>\n",
       "    </tr>\n",
       "    <tr>\n",
       "      <th>12814</th>\n",
       "      <td>16460</td>\n",
       "      <td>575885</td>\n",
       "      <td>2017-11-09</td>\n",
       "      <td>302.62</td>\n",
       "      <td>2017-11</td>\n",
       "      <td>2017-09</td>\n",
       "    </tr>\n",
       "  </tbody>\n",
       "</table>\n",
       "</div>"
      ],
      "text/plain": [
       "       customer_id invoice_no invoice_date  gross_revenue invoice_month   cohort\n",
       "12812        16460     567200   2017-09-17         258.84       2017-09  2017-09\n",
       "12813        16460     568657   2017-09-26         253.26       2017-09  2017-09\n",
       "12814        16460     575885   2017-11-09         302.62       2017-11  2017-09"
      ]
     },
     "execution_count": 392,
     "metadata": {},
     "output_type": "execute_result"
    }
   ],
   "source": [
    "df_aux[df_aux['customer_id'] == 16460]"
   ]
  },
  {
   "cell_type": "code",
   "execution_count": 393,
   "id": "f8df55e6",
   "metadata": {
    "ExecuteTime": {
     "end_time": "2022-04-28T14:36:25.483952Z",
     "start_time": "2022-04-28T14:36:25.447839Z"
    }
   },
   "outputs": [],
   "source": [
    "# creating cohort dataset\n",
    "df_cohort = df_aux[['customer_id','invoice_month','gross_revenue', 'cohort']].groupby(['cohort', 'invoice_month']).agg(qty_customers = ('customer_id', 'nunique'), gross_revenue = ('gross_revenue', 'sum')).reset_index()"
   ]
  },
  {
   "cell_type": "code",
   "execution_count": 395,
   "id": "d1111221",
   "metadata": {
    "ExecuteTime": {
     "end_time": "2022-04-28T14:38:16.510682Z",
     "start_time": "2022-04-28T14:38:16.500842Z"
    }
   },
   "outputs": [],
   "source": [
    "# period_number, which indicates the number of periods between the cohort month and the month of the purchase.\n",
    "df_cohort['period_number'] = (df_cohort['invoice_month'] - df_cohort['cohort']).apply(attrgetter('n'))"
   ]
  },
  {
   "cell_type": "code",
   "execution_count": 396,
   "id": "097752d6",
   "metadata": {
    "ExecuteTime": {
     "end_time": "2022-04-28T14:38:21.897214Z",
     "start_time": "2022-04-28T14:38:21.871711Z"
    }
   },
   "outputs": [
    {
     "data": {
      "text/html": [
       "<div>\n",
       "<style scoped>\n",
       "    .dataframe tbody tr th:only-of-type {\n",
       "        vertical-align: middle;\n",
       "    }\n",
       "\n",
       "    .dataframe tbody tr th {\n",
       "        vertical-align: top;\n",
       "    }\n",
       "\n",
       "    .dataframe thead th {\n",
       "        text-align: right;\n",
       "    }\n",
       "</style>\n",
       "<table border=\"1\" class=\"dataframe\">\n",
       "  <thead>\n",
       "    <tr style=\"text-align: right;\">\n",
       "      <th></th>\n",
       "      <th>cohort</th>\n",
       "      <th>invoice_month</th>\n",
       "      <th>qty_customers</th>\n",
       "      <th>gross_revenue</th>\n",
       "      <th>period_number</th>\n",
       "    </tr>\n",
       "  </thead>\n",
       "  <tbody>\n",
       "    <tr>\n",
       "      <th>0</th>\n",
       "      <td>2016-11</td>\n",
       "      <td>2016-11</td>\n",
       "      <td>199</td>\n",
       "      <td>105406.71</td>\n",
       "      <td>0</td>\n",
       "    </tr>\n",
       "    <tr>\n",
       "      <th>1</th>\n",
       "      <td>2016-11</td>\n",
       "      <td>2016-12</td>\n",
       "      <td>71</td>\n",
       "      <td>85513.09</td>\n",
       "      <td>1</td>\n",
       "    </tr>\n",
       "    <tr>\n",
       "      <th>2</th>\n",
       "      <td>2016-11</td>\n",
       "      <td>2017-01</td>\n",
       "      <td>68</td>\n",
       "      <td>70762.53</td>\n",
       "      <td>2</td>\n",
       "    </tr>\n",
       "    <tr>\n",
       "      <th>3</th>\n",
       "      <td>2016-11</td>\n",
       "      <td>2017-02</td>\n",
       "      <td>62</td>\n",
       "      <td>51383.03</td>\n",
       "      <td>3</td>\n",
       "    </tr>\n",
       "    <tr>\n",
       "      <th>4</th>\n",
       "      <td>2016-11</td>\n",
       "      <td>2017-03</td>\n",
       "      <td>68</td>\n",
       "      <td>73834.40</td>\n",
       "      <td>4</td>\n",
       "    </tr>\n",
       "    <tr>\n",
       "      <th>5</th>\n",
       "      <td>2016-11</td>\n",
       "      <td>2017-04</td>\n",
       "      <td>69</td>\n",
       "      <td>46454.89</td>\n",
       "      <td>5</td>\n",
       "    </tr>\n",
       "    <tr>\n",
       "      <th>6</th>\n",
       "      <td>2016-11</td>\n",
       "      <td>2017-05</td>\n",
       "      <td>74</td>\n",
       "      <td>84965.09</td>\n",
       "      <td>6</td>\n",
       "    </tr>\n",
       "    <tr>\n",
       "      <th>7</th>\n",
       "      <td>2016-11</td>\n",
       "      <td>2017-06</td>\n",
       "      <td>71</td>\n",
       "      <td>69643.69</td>\n",
       "      <td>7</td>\n",
       "    </tr>\n",
       "    <tr>\n",
       "      <th>8</th>\n",
       "      <td>2016-11</td>\n",
       "      <td>2017-07</td>\n",
       "      <td>62</td>\n",
       "      <td>68411.52</td>\n",
       "      <td>8</td>\n",
       "    </tr>\n",
       "    <tr>\n",
       "      <th>9</th>\n",
       "      <td>2016-11</td>\n",
       "      <td>2017-08</td>\n",
       "      <td>69</td>\n",
       "      <td>87363.85</td>\n",
       "      <td>9</td>\n",
       "    </tr>\n",
       "    <tr>\n",
       "      <th>10</th>\n",
       "      <td>2016-11</td>\n",
       "      <td>2017-09</td>\n",
       "      <td>74</td>\n",
       "      <td>95958.92</td>\n",
       "      <td>10</td>\n",
       "    </tr>\n",
       "    <tr>\n",
       "      <th>11</th>\n",
       "      <td>2016-11</td>\n",
       "      <td>2017-10</td>\n",
       "      <td>72</td>\n",
       "      <td>124078.42</td>\n",
       "      <td>11</td>\n",
       "    </tr>\n",
       "    <tr>\n",
       "      <th>12</th>\n",
       "      <td>2016-11</td>\n",
       "      <td>2017-11</td>\n",
       "      <td>91</td>\n",
       "      <td>152474.32</td>\n",
       "      <td>12</td>\n",
       "    </tr>\n",
       "    <tr>\n",
       "      <th>13</th>\n",
       "      <td>2016-11</td>\n",
       "      <td>2017-12</td>\n",
       "      <td>33</td>\n",
       "      <td>41620.56</td>\n",
       "      <td>13</td>\n",
       "    </tr>\n",
       "  </tbody>\n",
       "</table>\n",
       "</div>"
      ],
      "text/plain": [
       "     cohort invoice_month  qty_customers  gross_revenue  period_number\n",
       "0   2016-11       2016-11            199      105406.71              0\n",
       "1   2016-11       2016-12             71       85513.09              1\n",
       "2   2016-11       2017-01             68       70762.53              2\n",
       "3   2016-11       2017-02             62       51383.03              3\n",
       "4   2016-11       2017-03             68       73834.40              4\n",
       "5   2016-11       2017-04             69       46454.89              5\n",
       "6   2016-11       2017-05             74       84965.09              6\n",
       "7   2016-11       2017-06             71       69643.69              7\n",
       "8   2016-11       2017-07             62       68411.52              8\n",
       "9   2016-11       2017-08             69       87363.85              9\n",
       "10  2016-11       2017-09             74       95958.92             10\n",
       "11  2016-11       2017-10             72      124078.42             11\n",
       "12  2016-11       2017-11             91      152474.32             12\n",
       "13  2016-11       2017-12             33       41620.56             13"
      ]
     },
     "execution_count": 396,
     "metadata": {},
     "output_type": "execute_result"
    }
   ],
   "source": [
    "df_cohort[df_cohort['cohort'] == '2016-11']"
   ]
  },
  {
   "cell_type": "markdown",
   "id": "7edfc03d",
   "metadata": {},
   "source": [
    "### Cohort for Retention"
   ]
  },
  {
   "cell_type": "code",
   "execution_count": 413,
   "id": "f7230b7f",
   "metadata": {
    "ExecuteTime": {
     "end_time": "2022-04-28T14:46:35.052910Z",
     "start_time": "2022-04-28T14:46:35.005579Z"
    }
   },
   "outputs": [
    {
     "data": {
      "text/html": [
       "<div>\n",
       "<style scoped>\n",
       "    .dataframe tbody tr th:only-of-type {\n",
       "        vertical-align: middle;\n",
       "    }\n",
       "\n",
       "    .dataframe tbody tr th {\n",
       "        vertical-align: top;\n",
       "    }\n",
       "\n",
       "    .dataframe thead th {\n",
       "        text-align: right;\n",
       "    }\n",
       "</style>\n",
       "<table border=\"1\" class=\"dataframe\">\n",
       "  <thead>\n",
       "    <tr style=\"text-align: right;\">\n",
       "      <th>period_number</th>\n",
       "      <th>0</th>\n",
       "      <th>1</th>\n",
       "      <th>2</th>\n",
       "      <th>3</th>\n",
       "      <th>4</th>\n",
       "      <th>5</th>\n",
       "      <th>6</th>\n",
       "      <th>7</th>\n",
       "      <th>8</th>\n",
       "      <th>9</th>\n",
       "      <th>10</th>\n",
       "      <th>11</th>\n",
       "      <th>12</th>\n",
       "      <th>13</th>\n",
       "    </tr>\n",
       "    <tr>\n",
       "      <th>cohort</th>\n",
       "      <th></th>\n",
       "      <th></th>\n",
       "      <th></th>\n",
       "      <th></th>\n",
       "      <th></th>\n",
       "      <th></th>\n",
       "      <th></th>\n",
       "      <th></th>\n",
       "      <th></th>\n",
       "      <th></th>\n",
       "      <th></th>\n",
       "      <th></th>\n",
       "      <th></th>\n",
       "      <th></th>\n",
       "    </tr>\n",
       "  </thead>\n",
       "  <tbody>\n",
       "    <tr>\n",
       "      <th>2016-11</th>\n",
       "      <td>199.0</td>\n",
       "      <td>71.0</td>\n",
       "      <td>68.0</td>\n",
       "      <td>62.0</td>\n",
       "      <td>68.0</td>\n",
       "      <td>69.0</td>\n",
       "      <td>74.0</td>\n",
       "      <td>71.0</td>\n",
       "      <td>62.0</td>\n",
       "      <td>69.0</td>\n",
       "      <td>74.0</td>\n",
       "      <td>72.0</td>\n",
       "      <td>91.0</td>\n",
       "      <td>33.0</td>\n",
       "    </tr>\n",
       "    <tr>\n",
       "      <th>2016-12</th>\n",
       "      <td>842.0</td>\n",
       "      <td>267.0</td>\n",
       "      <td>220.0</td>\n",
       "      <td>268.0</td>\n",
       "      <td>237.0</td>\n",
       "      <td>278.0</td>\n",
       "      <td>243.0</td>\n",
       "      <td>245.0</td>\n",
       "      <td>247.0</td>\n",
       "      <td>263.0</td>\n",
       "      <td>279.0</td>\n",
       "      <td>363.0</td>\n",
       "      <td>150.0</td>\n",
       "      <td>NaN</td>\n",
       "    </tr>\n",
       "    <tr>\n",
       "      <th>2017-01</th>\n",
       "      <td>580.0</td>\n",
       "      <td>94.0</td>\n",
       "      <td>126.0</td>\n",
       "      <td>107.0</td>\n",
       "      <td>152.0</td>\n",
       "      <td>132.0</td>\n",
       "      <td>121.0</td>\n",
       "      <td>119.0</td>\n",
       "      <td>136.0</td>\n",
       "      <td>150.0</td>\n",
       "      <td>172.0</td>\n",
       "      <td>38.0</td>\n",
       "      <td>NaN</td>\n",
       "      <td>NaN</td>\n",
       "    </tr>\n",
       "    <tr>\n",
       "      <th>2017-02</th>\n",
       "      <td>464.0</td>\n",
       "      <td>62.0</td>\n",
       "      <td>63.0</td>\n",
       "      <td>107.0</td>\n",
       "      <td>95.0</td>\n",
       "      <td>86.0</td>\n",
       "      <td>85.0</td>\n",
       "      <td>100.0</td>\n",
       "      <td>95.0</td>\n",
       "      <td>111.0</td>\n",
       "      <td>17.0</td>\n",
       "      <td>NaN</td>\n",
       "      <td>NaN</td>\n",
       "      <td>NaN</td>\n",
       "    </tr>\n",
       "    <tr>\n",
       "      <th>2017-03</th>\n",
       "      <td>553.0</td>\n",
       "      <td>61.0</td>\n",
       "      <td>112.0</td>\n",
       "      <td>83.0</td>\n",
       "      <td>101.0</td>\n",
       "      <td>75.0</td>\n",
       "      <td>107.0</td>\n",
       "      <td>107.0</td>\n",
       "      <td>112.0</td>\n",
       "      <td>32.0</td>\n",
       "      <td>NaN</td>\n",
       "      <td>NaN</td>\n",
       "      <td>NaN</td>\n",
       "      <td>NaN</td>\n",
       "    </tr>\n",
       "    <tr>\n",
       "      <th>2017-04</th>\n",
       "      <td>375.0</td>\n",
       "      <td>60.0</td>\n",
       "      <td>57.0</td>\n",
       "      <td>59.0</td>\n",
       "      <td>57.0</td>\n",
       "      <td>63.0</td>\n",
       "      <td>63.0</td>\n",
       "      <td>77.0</td>\n",
       "      <td>15.0</td>\n",
       "      <td>NaN</td>\n",
       "      <td>NaN</td>\n",
       "      <td>NaN</td>\n",
       "      <td>NaN</td>\n",
       "      <td>NaN</td>\n",
       "    </tr>\n",
       "    <tr>\n",
       "      <th>2017-05</th>\n",
       "      <td>433.0</td>\n",
       "      <td>59.0</td>\n",
       "      <td>49.0</td>\n",
       "      <td>49.0</td>\n",
       "      <td>61.0</td>\n",
       "      <td>71.0</td>\n",
       "      <td>84.0</td>\n",
       "      <td>15.0</td>\n",
       "      <td>NaN</td>\n",
       "      <td>NaN</td>\n",
       "      <td>NaN</td>\n",
       "      <td>NaN</td>\n",
       "      <td>NaN</td>\n",
       "      <td>NaN</td>\n",
       "    </tr>\n",
       "    <tr>\n",
       "      <th>2017-06</th>\n",
       "      <td>355.0</td>\n",
       "      <td>43.0</td>\n",
       "      <td>38.0</td>\n",
       "      <td>58.0</td>\n",
       "      <td>57.0</td>\n",
       "      <td>74.0</td>\n",
       "      <td>15.0</td>\n",
       "      <td>NaN</td>\n",
       "      <td>NaN</td>\n",
       "      <td>NaN</td>\n",
       "      <td>NaN</td>\n",
       "      <td>NaN</td>\n",
       "      <td>NaN</td>\n",
       "      <td>NaN</td>\n",
       "    </tr>\n",
       "    <tr>\n",
       "      <th>2017-07</th>\n",
       "      <td>328.0</td>\n",
       "      <td>34.0</td>\n",
       "      <td>38.0</td>\n",
       "      <td>45.0</td>\n",
       "      <td>53.0</td>\n",
       "      <td>18.0</td>\n",
       "      <td>NaN</td>\n",
       "      <td>NaN</td>\n",
       "      <td>NaN</td>\n",
       "      <td>NaN</td>\n",
       "      <td>NaN</td>\n",
       "      <td>NaN</td>\n",
       "      <td>NaN</td>\n",
       "      <td>NaN</td>\n",
       "    </tr>\n",
       "    <tr>\n",
       "      <th>2017-08</th>\n",
       "      <td>241.0</td>\n",
       "      <td>27.0</td>\n",
       "      <td>43.0</td>\n",
       "      <td>48.0</td>\n",
       "      <td>13.0</td>\n",
       "      <td>NaN</td>\n",
       "      <td>NaN</td>\n",
       "      <td>NaN</td>\n",
       "      <td>NaN</td>\n",
       "      <td>NaN</td>\n",
       "      <td>NaN</td>\n",
       "      <td>NaN</td>\n",
       "      <td>NaN</td>\n",
       "      <td>NaN</td>\n",
       "    </tr>\n",
       "    <tr>\n",
       "      <th>2017-09</th>\n",
       "      <td>359.0</td>\n",
       "      <td>68.0</td>\n",
       "      <td>91.0</td>\n",
       "      <td>31.0</td>\n",
       "      <td>NaN</td>\n",
       "      <td>NaN</td>\n",
       "      <td>NaN</td>\n",
       "      <td>NaN</td>\n",
       "      <td>NaN</td>\n",
       "      <td>NaN</td>\n",
       "      <td>NaN</td>\n",
       "      <td>NaN</td>\n",
       "      <td>NaN</td>\n",
       "      <td>NaN</td>\n",
       "    </tr>\n",
       "    <tr>\n",
       "      <th>2017-10</th>\n",
       "      <td>484.0</td>\n",
       "      <td>92.0</td>\n",
       "      <td>36.0</td>\n",
       "      <td>NaN</td>\n",
       "      <td>NaN</td>\n",
       "      <td>NaN</td>\n",
       "      <td>NaN</td>\n",
       "      <td>NaN</td>\n",
       "      <td>NaN</td>\n",
       "      <td>NaN</td>\n",
       "      <td>NaN</td>\n",
       "      <td>NaN</td>\n",
       "      <td>NaN</td>\n",
       "      <td>NaN</td>\n",
       "    </tr>\n",
       "    <tr>\n",
       "      <th>2017-11</th>\n",
       "      <td>418.0</td>\n",
       "      <td>19.0</td>\n",
       "      <td>NaN</td>\n",
       "      <td>NaN</td>\n",
       "      <td>NaN</td>\n",
       "      <td>NaN</td>\n",
       "      <td>NaN</td>\n",
       "      <td>NaN</td>\n",
       "      <td>NaN</td>\n",
       "      <td>NaN</td>\n",
       "      <td>NaN</td>\n",
       "      <td>NaN</td>\n",
       "      <td>NaN</td>\n",
       "      <td>NaN</td>\n",
       "    </tr>\n",
       "    <tr>\n",
       "      <th>2017-12</th>\n",
       "      <td>62.0</td>\n",
       "      <td>NaN</td>\n",
       "      <td>NaN</td>\n",
       "      <td>NaN</td>\n",
       "      <td>NaN</td>\n",
       "      <td>NaN</td>\n",
       "      <td>NaN</td>\n",
       "      <td>NaN</td>\n",
       "      <td>NaN</td>\n",
       "      <td>NaN</td>\n",
       "      <td>NaN</td>\n",
       "      <td>NaN</td>\n",
       "      <td>NaN</td>\n",
       "      <td>NaN</td>\n",
       "    </tr>\n",
       "  </tbody>\n",
       "</table>\n",
       "</div>"
      ],
      "text/plain": [
       "period_number     0      1      2      3      4      5      6      7      8      9      10     11     12    13\n",
       "cohort                                                                                                        \n",
       "2016-11        199.0   71.0   68.0   62.0   68.0   69.0   74.0   71.0   62.0   69.0   74.0   72.0   91.0  33.0\n",
       "2016-12        842.0  267.0  220.0  268.0  237.0  278.0  243.0  245.0  247.0  263.0  279.0  363.0  150.0   NaN\n",
       "2017-01        580.0   94.0  126.0  107.0  152.0  132.0  121.0  119.0  136.0  150.0  172.0   38.0    NaN   NaN\n",
       "2017-02        464.0   62.0   63.0  107.0   95.0   86.0   85.0  100.0   95.0  111.0   17.0    NaN    NaN   NaN\n",
       "2017-03        553.0   61.0  112.0   83.0  101.0   75.0  107.0  107.0  112.0   32.0    NaN    NaN    NaN   NaN\n",
       "2017-04        375.0   60.0   57.0   59.0   57.0   63.0   63.0   77.0   15.0    NaN    NaN    NaN    NaN   NaN\n",
       "2017-05        433.0   59.0   49.0   49.0   61.0   71.0   84.0   15.0    NaN    NaN    NaN    NaN    NaN   NaN\n",
       "2017-06        355.0   43.0   38.0   58.0   57.0   74.0   15.0    NaN    NaN    NaN    NaN    NaN    NaN   NaN\n",
       "2017-07        328.0   34.0   38.0   45.0   53.0   18.0    NaN    NaN    NaN    NaN    NaN    NaN    NaN   NaN\n",
       "2017-08        241.0   27.0   43.0   48.0   13.0    NaN    NaN    NaN    NaN    NaN    NaN    NaN    NaN   NaN\n",
       "2017-09        359.0   68.0   91.0   31.0    NaN    NaN    NaN    NaN    NaN    NaN    NaN    NaN    NaN   NaN\n",
       "2017-10        484.0   92.0   36.0    NaN    NaN    NaN    NaN    NaN    NaN    NaN    NaN    NaN    NaN   NaN\n",
       "2017-11        418.0   19.0    NaN    NaN    NaN    NaN    NaN    NaN    NaN    NaN    NaN    NaN    NaN   NaN\n",
       "2017-12         62.0    NaN    NaN    NaN    NaN    NaN    NaN    NaN    NaN    NaN    NaN    NaN    NaN   NaN"
      ]
     },
     "execution_count": 413,
     "metadata": {},
     "output_type": "execute_result"
    }
   ],
   "source": [
    "# creating retention cohort table\n",
    "cohort_pivot_retention = df_cohort.pivot_table(index = 'cohort',\n",
    "                                     columns = 'period_number',\n",
    "                                     values = 'qty_customers')\n",
    "\n",
    "cohort_pivot_retention"
   ]
  },
  {
   "cell_type": "code",
   "execution_count": 414,
   "id": "15a827b1",
   "metadata": {
    "ExecuteTime": {
     "end_time": "2022-04-28T14:46:50.138883Z",
     "start_time": "2022-04-28T14:46:50.107591Z"
    }
   },
   "outputs": [
    {
     "data": {
      "text/html": [
       "<div>\n",
       "<style scoped>\n",
       "    .dataframe tbody tr th:only-of-type {\n",
       "        vertical-align: middle;\n",
       "    }\n",
       "\n",
       "    .dataframe tbody tr th {\n",
       "        vertical-align: top;\n",
       "    }\n",
       "\n",
       "    .dataframe thead th {\n",
       "        text-align: right;\n",
       "    }\n",
       "</style>\n",
       "<table border=\"1\" class=\"dataframe\">\n",
       "  <thead>\n",
       "    <tr style=\"text-align: right;\">\n",
       "      <th>period_number</th>\n",
       "      <th>0</th>\n",
       "      <th>1</th>\n",
       "      <th>2</th>\n",
       "      <th>3</th>\n",
       "      <th>4</th>\n",
       "      <th>5</th>\n",
       "      <th>6</th>\n",
       "      <th>7</th>\n",
       "      <th>8</th>\n",
       "      <th>9</th>\n",
       "      <th>10</th>\n",
       "      <th>11</th>\n",
       "      <th>12</th>\n",
       "      <th>13</th>\n",
       "    </tr>\n",
       "    <tr>\n",
       "      <th>cohort</th>\n",
       "      <th></th>\n",
       "      <th></th>\n",
       "      <th></th>\n",
       "      <th></th>\n",
       "      <th></th>\n",
       "      <th></th>\n",
       "      <th></th>\n",
       "      <th></th>\n",
       "      <th></th>\n",
       "      <th></th>\n",
       "      <th></th>\n",
       "      <th></th>\n",
       "      <th></th>\n",
       "      <th></th>\n",
       "    </tr>\n",
       "  </thead>\n",
       "  <tbody>\n",
       "    <tr>\n",
       "      <th>2016-11</th>\n",
       "      <td>1.0</td>\n",
       "      <td>0.356784</td>\n",
       "      <td>0.341709</td>\n",
       "      <td>0.311558</td>\n",
       "      <td>0.341709</td>\n",
       "      <td>0.346734</td>\n",
       "      <td>0.371859</td>\n",
       "      <td>0.356784</td>\n",
       "      <td>0.311558</td>\n",
       "      <td>0.346734</td>\n",
       "      <td>0.371859</td>\n",
       "      <td>0.361809</td>\n",
       "      <td>0.457286</td>\n",
       "      <td>0.165829</td>\n",
       "    </tr>\n",
       "    <tr>\n",
       "      <th>2016-12</th>\n",
       "      <td>1.0</td>\n",
       "      <td>0.317102</td>\n",
       "      <td>0.261283</td>\n",
       "      <td>0.318290</td>\n",
       "      <td>0.281473</td>\n",
       "      <td>0.330166</td>\n",
       "      <td>0.288599</td>\n",
       "      <td>0.290974</td>\n",
       "      <td>0.293349</td>\n",
       "      <td>0.312352</td>\n",
       "      <td>0.331354</td>\n",
       "      <td>0.431116</td>\n",
       "      <td>0.178147</td>\n",
       "      <td>NaN</td>\n",
       "    </tr>\n",
       "    <tr>\n",
       "      <th>2017-01</th>\n",
       "      <td>1.0</td>\n",
       "      <td>0.162069</td>\n",
       "      <td>0.217241</td>\n",
       "      <td>0.184483</td>\n",
       "      <td>0.262069</td>\n",
       "      <td>0.227586</td>\n",
       "      <td>0.208621</td>\n",
       "      <td>0.205172</td>\n",
       "      <td>0.234483</td>\n",
       "      <td>0.258621</td>\n",
       "      <td>0.296552</td>\n",
       "      <td>0.065517</td>\n",
       "      <td>NaN</td>\n",
       "      <td>NaN</td>\n",
       "    </tr>\n",
       "    <tr>\n",
       "      <th>2017-02</th>\n",
       "      <td>1.0</td>\n",
       "      <td>0.133621</td>\n",
       "      <td>0.135776</td>\n",
       "      <td>0.230603</td>\n",
       "      <td>0.204741</td>\n",
       "      <td>0.185345</td>\n",
       "      <td>0.183190</td>\n",
       "      <td>0.215517</td>\n",
       "      <td>0.204741</td>\n",
       "      <td>0.239224</td>\n",
       "      <td>0.036638</td>\n",
       "      <td>NaN</td>\n",
       "      <td>NaN</td>\n",
       "      <td>NaN</td>\n",
       "    </tr>\n",
       "    <tr>\n",
       "      <th>2017-03</th>\n",
       "      <td>1.0</td>\n",
       "      <td>0.110307</td>\n",
       "      <td>0.202532</td>\n",
       "      <td>0.150090</td>\n",
       "      <td>0.182640</td>\n",
       "      <td>0.135624</td>\n",
       "      <td>0.193490</td>\n",
       "      <td>0.193490</td>\n",
       "      <td>0.202532</td>\n",
       "      <td>0.057866</td>\n",
       "      <td>NaN</td>\n",
       "      <td>NaN</td>\n",
       "      <td>NaN</td>\n",
       "      <td>NaN</td>\n",
       "    </tr>\n",
       "    <tr>\n",
       "      <th>2017-04</th>\n",
       "      <td>1.0</td>\n",
       "      <td>0.160000</td>\n",
       "      <td>0.152000</td>\n",
       "      <td>0.157333</td>\n",
       "      <td>0.152000</td>\n",
       "      <td>0.168000</td>\n",
       "      <td>0.168000</td>\n",
       "      <td>0.205333</td>\n",
       "      <td>0.040000</td>\n",
       "      <td>NaN</td>\n",
       "      <td>NaN</td>\n",
       "      <td>NaN</td>\n",
       "      <td>NaN</td>\n",
       "      <td>NaN</td>\n",
       "    </tr>\n",
       "    <tr>\n",
       "      <th>2017-05</th>\n",
       "      <td>1.0</td>\n",
       "      <td>0.136259</td>\n",
       "      <td>0.113164</td>\n",
       "      <td>0.113164</td>\n",
       "      <td>0.140878</td>\n",
       "      <td>0.163972</td>\n",
       "      <td>0.193995</td>\n",
       "      <td>0.034642</td>\n",
       "      <td>NaN</td>\n",
       "      <td>NaN</td>\n",
       "      <td>NaN</td>\n",
       "      <td>NaN</td>\n",
       "      <td>NaN</td>\n",
       "      <td>NaN</td>\n",
       "    </tr>\n",
       "    <tr>\n",
       "      <th>2017-06</th>\n",
       "      <td>1.0</td>\n",
       "      <td>0.121127</td>\n",
       "      <td>0.107042</td>\n",
       "      <td>0.163380</td>\n",
       "      <td>0.160563</td>\n",
       "      <td>0.208451</td>\n",
       "      <td>0.042254</td>\n",
       "      <td>NaN</td>\n",
       "      <td>NaN</td>\n",
       "      <td>NaN</td>\n",
       "      <td>NaN</td>\n",
       "      <td>NaN</td>\n",
       "      <td>NaN</td>\n",
       "      <td>NaN</td>\n",
       "    </tr>\n",
       "    <tr>\n",
       "      <th>2017-07</th>\n",
       "      <td>1.0</td>\n",
       "      <td>0.103659</td>\n",
       "      <td>0.115854</td>\n",
       "      <td>0.137195</td>\n",
       "      <td>0.161585</td>\n",
       "      <td>0.054878</td>\n",
       "      <td>NaN</td>\n",
       "      <td>NaN</td>\n",
       "      <td>NaN</td>\n",
       "      <td>NaN</td>\n",
       "      <td>NaN</td>\n",
       "      <td>NaN</td>\n",
       "      <td>NaN</td>\n",
       "      <td>NaN</td>\n",
       "    </tr>\n",
       "    <tr>\n",
       "      <th>2017-08</th>\n",
       "      <td>1.0</td>\n",
       "      <td>0.112033</td>\n",
       "      <td>0.178423</td>\n",
       "      <td>0.199170</td>\n",
       "      <td>0.053942</td>\n",
       "      <td>NaN</td>\n",
       "      <td>NaN</td>\n",
       "      <td>NaN</td>\n",
       "      <td>NaN</td>\n",
       "      <td>NaN</td>\n",
       "      <td>NaN</td>\n",
       "      <td>NaN</td>\n",
       "      <td>NaN</td>\n",
       "      <td>NaN</td>\n",
       "    </tr>\n",
       "    <tr>\n",
       "      <th>2017-09</th>\n",
       "      <td>1.0</td>\n",
       "      <td>0.189415</td>\n",
       "      <td>0.253482</td>\n",
       "      <td>0.086351</td>\n",
       "      <td>NaN</td>\n",
       "      <td>NaN</td>\n",
       "      <td>NaN</td>\n",
       "      <td>NaN</td>\n",
       "      <td>NaN</td>\n",
       "      <td>NaN</td>\n",
       "      <td>NaN</td>\n",
       "      <td>NaN</td>\n",
       "      <td>NaN</td>\n",
       "      <td>NaN</td>\n",
       "    </tr>\n",
       "    <tr>\n",
       "      <th>2017-10</th>\n",
       "      <td>1.0</td>\n",
       "      <td>0.190083</td>\n",
       "      <td>0.074380</td>\n",
       "      <td>NaN</td>\n",
       "      <td>NaN</td>\n",
       "      <td>NaN</td>\n",
       "      <td>NaN</td>\n",
       "      <td>NaN</td>\n",
       "      <td>NaN</td>\n",
       "      <td>NaN</td>\n",
       "      <td>NaN</td>\n",
       "      <td>NaN</td>\n",
       "      <td>NaN</td>\n",
       "      <td>NaN</td>\n",
       "    </tr>\n",
       "    <tr>\n",
       "      <th>2017-11</th>\n",
       "      <td>1.0</td>\n",
       "      <td>0.045455</td>\n",
       "      <td>NaN</td>\n",
       "      <td>NaN</td>\n",
       "      <td>NaN</td>\n",
       "      <td>NaN</td>\n",
       "      <td>NaN</td>\n",
       "      <td>NaN</td>\n",
       "      <td>NaN</td>\n",
       "      <td>NaN</td>\n",
       "      <td>NaN</td>\n",
       "      <td>NaN</td>\n",
       "      <td>NaN</td>\n",
       "      <td>NaN</td>\n",
       "    </tr>\n",
       "    <tr>\n",
       "      <th>2017-12</th>\n",
       "      <td>1.0</td>\n",
       "      <td>NaN</td>\n",
       "      <td>NaN</td>\n",
       "      <td>NaN</td>\n",
       "      <td>NaN</td>\n",
       "      <td>NaN</td>\n",
       "      <td>NaN</td>\n",
       "      <td>NaN</td>\n",
       "      <td>NaN</td>\n",
       "      <td>NaN</td>\n",
       "      <td>NaN</td>\n",
       "      <td>NaN</td>\n",
       "      <td>NaN</td>\n",
       "      <td>NaN</td>\n",
       "    </tr>\n",
       "  </tbody>\n",
       "</table>\n",
       "</div>"
      ],
      "text/plain": [
       "period_number   0         1         2         3         4         5         6         7         8         9         10        11        12        13\n",
       "cohort                                                                                                                                              \n",
       "2016-11        1.0  0.356784  0.341709  0.311558  0.341709  0.346734  0.371859  0.356784  0.311558  0.346734  0.371859  0.361809  0.457286  0.165829\n",
       "2016-12        1.0  0.317102  0.261283  0.318290  0.281473  0.330166  0.288599  0.290974  0.293349  0.312352  0.331354  0.431116  0.178147       NaN\n",
       "2017-01        1.0  0.162069  0.217241  0.184483  0.262069  0.227586  0.208621  0.205172  0.234483  0.258621  0.296552  0.065517       NaN       NaN\n",
       "2017-02        1.0  0.133621  0.135776  0.230603  0.204741  0.185345  0.183190  0.215517  0.204741  0.239224  0.036638       NaN       NaN       NaN\n",
       "2017-03        1.0  0.110307  0.202532  0.150090  0.182640  0.135624  0.193490  0.193490  0.202532  0.057866       NaN       NaN       NaN       NaN\n",
       "2017-04        1.0  0.160000  0.152000  0.157333  0.152000  0.168000  0.168000  0.205333  0.040000       NaN       NaN       NaN       NaN       NaN\n",
       "2017-05        1.0  0.136259  0.113164  0.113164  0.140878  0.163972  0.193995  0.034642       NaN       NaN       NaN       NaN       NaN       NaN\n",
       "2017-06        1.0  0.121127  0.107042  0.163380  0.160563  0.208451  0.042254       NaN       NaN       NaN       NaN       NaN       NaN       NaN\n",
       "2017-07        1.0  0.103659  0.115854  0.137195  0.161585  0.054878       NaN       NaN       NaN       NaN       NaN       NaN       NaN       NaN\n",
       "2017-08        1.0  0.112033  0.178423  0.199170  0.053942       NaN       NaN       NaN       NaN       NaN       NaN       NaN       NaN       NaN\n",
       "2017-09        1.0  0.189415  0.253482  0.086351       NaN       NaN       NaN       NaN       NaN       NaN       NaN       NaN       NaN       NaN\n",
       "2017-10        1.0  0.190083  0.074380       NaN       NaN       NaN       NaN       NaN       NaN       NaN       NaN       NaN       NaN       NaN\n",
       "2017-11        1.0  0.045455       NaN       NaN       NaN       NaN       NaN       NaN       NaN       NaN       NaN       NaN       NaN       NaN\n",
       "2017-12        1.0       NaN       NaN       NaN       NaN       NaN       NaN       NaN       NaN       NaN       NaN       NaN       NaN       NaN"
      ]
     },
     "execution_count": 414,
     "metadata": {},
     "output_type": "execute_result"
    }
   ],
   "source": [
    "# getting percentage values\n",
    "cohort_size_retention = cohort_pivot_retention.iloc[:,0]\n",
    "retention_matrix = cohort_pivot.divide(cohort_size_retention, axis = 0)\n",
    "\n",
    "retention_matrix"
   ]
  },
  {
   "cell_type": "markdown",
   "id": "7df2c32a",
   "metadata": {},
   "source": [
    "### Cohort for Revenue"
   ]
  },
  {
   "cell_type": "code",
   "execution_count": 415,
   "id": "733b8eec",
   "metadata": {
    "ExecuteTime": {
     "end_time": "2022-04-28T14:47:22.120786Z",
     "start_time": "2022-04-28T14:47:22.074854Z"
    }
   },
   "outputs": [
    {
     "data": {
      "text/html": [
       "<div>\n",
       "<style scoped>\n",
       "    .dataframe tbody tr th:only-of-type {\n",
       "        vertical-align: middle;\n",
       "    }\n",
       "\n",
       "    .dataframe tbody tr th {\n",
       "        vertical-align: top;\n",
       "    }\n",
       "\n",
       "    .dataframe thead th {\n",
       "        text-align: right;\n",
       "    }\n",
       "</style>\n",
       "<table border=\"1\" class=\"dataframe\">\n",
       "  <thead>\n",
       "    <tr style=\"text-align: right;\">\n",
       "      <th>period_number</th>\n",
       "      <th>0</th>\n",
       "      <th>1</th>\n",
       "      <th>2</th>\n",
       "      <th>3</th>\n",
       "      <th>4</th>\n",
       "      <th>5</th>\n",
       "      <th>6</th>\n",
       "      <th>7</th>\n",
       "      <th>8</th>\n",
       "      <th>9</th>\n",
       "      <th>10</th>\n",
       "      <th>11</th>\n",
       "      <th>12</th>\n",
       "      <th>13</th>\n",
       "    </tr>\n",
       "    <tr>\n",
       "      <th>cohort</th>\n",
       "      <th></th>\n",
       "      <th></th>\n",
       "      <th></th>\n",
       "      <th></th>\n",
       "      <th></th>\n",
       "      <th></th>\n",
       "      <th></th>\n",
       "      <th></th>\n",
       "      <th></th>\n",
       "      <th></th>\n",
       "      <th></th>\n",
       "      <th></th>\n",
       "      <th></th>\n",
       "      <th></th>\n",
       "    </tr>\n",
       "  </thead>\n",
       "  <tbody>\n",
       "    <tr>\n",
       "      <th>2016-11</th>\n",
       "      <td>105406.71</td>\n",
       "      <td>85513.09</td>\n",
       "      <td>70762.53</td>\n",
       "      <td>51383.03</td>\n",
       "      <td>73834.40</td>\n",
       "      <td>46454.89</td>\n",
       "      <td>84965.09</td>\n",
       "      <td>69643.69</td>\n",
       "      <td>68411.52</td>\n",
       "      <td>87363.85</td>\n",
       "      <td>95958.92</td>\n",
       "      <td>124078.42</td>\n",
       "      <td>152474.32</td>\n",
       "      <td>41620.56</td>\n",
       "    </tr>\n",
       "    <tr>\n",
       "      <th>2016-12</th>\n",
       "      <td>587703.56</td>\n",
       "      <td>223913.89</td>\n",
       "      <td>176874.98</td>\n",
       "      <td>217293.77</td>\n",
       "      <td>149132.16</td>\n",
       "      <td>258303.12</td>\n",
       "      <td>229788.36</td>\n",
       "      <td>240500.89</td>\n",
       "      <td>274166.00</td>\n",
       "      <td>337653.49</td>\n",
       "      <td>352491.92</td>\n",
       "      <td>369677.00</td>\n",
       "      <td>99548.67</td>\n",
       "      <td>NaN</td>\n",
       "    </tr>\n",
       "    <tr>\n",
       "      <th>2017-01</th>\n",
       "      <td>349087.89</td>\n",
       "      <td>53053.78</td>\n",
       "      <td>69443.09</td>\n",
       "      <td>69355.97</td>\n",
       "      <td>96276.32</td>\n",
       "      <td>79841.19</td>\n",
       "      <td>78095.28</td>\n",
       "      <td>82382.68</td>\n",
       "      <td>73246.43</td>\n",
       "      <td>119511.44</td>\n",
       "      <td>130243.21</td>\n",
       "      <td>20770.00</td>\n",
       "      <td>NaN</td>\n",
       "      <td>NaN</td>\n",
       "    </tr>\n",
       "    <tr>\n",
       "      <th>2017-02</th>\n",
       "      <td>222129.74</td>\n",
       "      <td>26779.15</td>\n",
       "      <td>33211.46</td>\n",
       "      <td>47591.28</td>\n",
       "      <td>35631.65</td>\n",
       "      <td>35956.19</td>\n",
       "      <td>44839.81</td>\n",
       "      <td>56700.93</td>\n",
       "      <td>52282.50</td>\n",
       "      <td>63652.97</td>\n",
       "      <td>5368.57</td>\n",
       "      <td>NaN</td>\n",
       "      <td>NaN</td>\n",
       "      <td>NaN</td>\n",
       "    </tr>\n",
       "    <tr>\n",
       "      <th>2017-03</th>\n",
       "      <td>286419.35</td>\n",
       "      <td>25640.32</td>\n",
       "      <td>61235.79</td>\n",
       "      <td>38343.90</td>\n",
       "      <td>51106.60</td>\n",
       "      <td>43959.12</td>\n",
       "      <td>58104.63</td>\n",
       "      <td>72418.55</td>\n",
       "      <td>64918.83</td>\n",
       "      <td>8359.97</td>\n",
       "      <td>NaN</td>\n",
       "      <td>NaN</td>\n",
       "      <td>NaN</td>\n",
       "      <td>NaN</td>\n",
       "    </tr>\n",
       "    <tr>\n",
       "      <th>2017-04</th>\n",
       "      <td>174389.12</td>\n",
       "      <td>25017.57</td>\n",
       "      <td>21946.05</td>\n",
       "      <td>20350.68</td>\n",
       "      <td>21397.73</td>\n",
       "      <td>26524.54</td>\n",
       "      <td>28118.51</td>\n",
       "      <td>31745.60</td>\n",
       "      <td>4036.37</td>\n",
       "      <td>NaN</td>\n",
       "      <td>NaN</td>\n",
       "      <td>NaN</td>\n",
       "      <td>NaN</td>\n",
       "      <td>NaN</td>\n",
       "    </tr>\n",
       "    <tr>\n",
       "      <th>2017-05</th>\n",
       "      <td>212172.94</td>\n",
       "      <td>18922.26</td>\n",
       "      <td>21007.35</td>\n",
       "      <td>18238.01</td>\n",
       "      <td>28857.20</td>\n",
       "      <td>34910.68</td>\n",
       "      <td>39398.27</td>\n",
       "      <td>5105.48</td>\n",
       "      <td>NaN</td>\n",
       "      <td>NaN</td>\n",
       "      <td>NaN</td>\n",
       "      <td>NaN</td>\n",
       "      <td>NaN</td>\n",
       "      <td>NaN</td>\n",
       "    </tr>\n",
       "    <tr>\n",
       "      <th>2017-06</th>\n",
       "      <td>166194.24</td>\n",
       "      <td>15286.00</td>\n",
       "      <td>12523.26</td>\n",
       "      <td>28636.02</td>\n",
       "      <td>25866.51</td>\n",
       "      <td>38540.42</td>\n",
       "      <td>4466.28</td>\n",
       "      <td>NaN</td>\n",
       "      <td>NaN</td>\n",
       "      <td>NaN</td>\n",
       "      <td>NaN</td>\n",
       "      <td>NaN</td>\n",
       "      <td>NaN</td>\n",
       "      <td>NaN</td>\n",
       "    </tr>\n",
       "    <tr>\n",
       "      <th>2017-07</th>\n",
       "      <td>190987.22</td>\n",
       "      <td>11336.00</td>\n",
       "      <td>16463.78</td>\n",
       "      <td>19317.90</td>\n",
       "      <td>20534.76</td>\n",
       "      <td>4769.61</td>\n",
       "      <td>NaN</td>\n",
       "      <td>NaN</td>\n",
       "      <td>NaN</td>\n",
       "      <td>NaN</td>\n",
       "      <td>NaN</td>\n",
       "      <td>NaN</td>\n",
       "      <td>NaN</td>\n",
       "      <td>NaN</td>\n",
       "    </tr>\n",
       "    <tr>\n",
       "      <th>2017-08</th>\n",
       "      <td>158861.73</td>\n",
       "      <td>16195.59</td>\n",
       "      <td>32044.92</td>\n",
       "      <td>40714.56</td>\n",
       "      <td>10944.11</td>\n",
       "      <td>NaN</td>\n",
       "      <td>NaN</td>\n",
       "      <td>NaN</td>\n",
       "      <td>NaN</td>\n",
       "      <td>NaN</td>\n",
       "      <td>NaN</td>\n",
       "      <td>NaN</td>\n",
       "      <td>NaN</td>\n",
       "      <td>NaN</td>\n",
       "    </tr>\n",
       "    <tr>\n",
       "      <th>2017-09</th>\n",
       "      <td>227811.60</td>\n",
       "      <td>29302.19</td>\n",
       "      <td>34885.76</td>\n",
       "      <td>10728.48</td>\n",
       "      <td>NaN</td>\n",
       "      <td>NaN</td>\n",
       "      <td>NaN</td>\n",
       "      <td>NaN</td>\n",
       "      <td>NaN</td>\n",
       "      <td>NaN</td>\n",
       "      <td>NaN</td>\n",
       "      <td>NaN</td>\n",
       "      <td>NaN</td>\n",
       "      <td>NaN</td>\n",
       "    </tr>\n",
       "    <tr>\n",
       "      <th>2017-10</th>\n",
       "      <td>279374.95</td>\n",
       "      <td>47290.79</td>\n",
       "      <td>10081.98</td>\n",
       "      <td>NaN</td>\n",
       "      <td>NaN</td>\n",
       "      <td>NaN</td>\n",
       "      <td>NaN</td>\n",
       "      <td>NaN</td>\n",
       "      <td>NaN</td>\n",
       "      <td>NaN</td>\n",
       "      <td>NaN</td>\n",
       "      <td>NaN</td>\n",
       "      <td>NaN</td>\n",
       "      <td>NaN</td>\n",
       "    </tr>\n",
       "    <tr>\n",
       "      <th>2017-11</th>\n",
       "      <td>456925.42</td>\n",
       "      <td>5904.29</td>\n",
       "      <td>NaN</td>\n",
       "      <td>NaN</td>\n",
       "      <td>NaN</td>\n",
       "      <td>NaN</td>\n",
       "      <td>NaN</td>\n",
       "      <td>NaN</td>\n",
       "      <td>NaN</td>\n",
       "      <td>NaN</td>\n",
       "      <td>NaN</td>\n",
       "      <td>NaN</td>\n",
       "      <td>NaN</td>\n",
       "      <td>NaN</td>\n",
       "    </tr>\n",
       "    <tr>\n",
       "      <th>2017-12</th>\n",
       "      <td>108554.10</td>\n",
       "      <td>NaN</td>\n",
       "      <td>NaN</td>\n",
       "      <td>NaN</td>\n",
       "      <td>NaN</td>\n",
       "      <td>NaN</td>\n",
       "      <td>NaN</td>\n",
       "      <td>NaN</td>\n",
       "      <td>NaN</td>\n",
       "      <td>NaN</td>\n",
       "      <td>NaN</td>\n",
       "      <td>NaN</td>\n",
       "      <td>NaN</td>\n",
       "      <td>NaN</td>\n",
       "    </tr>\n",
       "  </tbody>\n",
       "</table>\n",
       "</div>"
      ],
      "text/plain": [
       "period_number         0          1          2          3          4          5          6          7          8          9          10         11         12        13\n",
       "cohort                                                                                                                                                                \n",
       "2016-11        105406.71   85513.09   70762.53   51383.03   73834.40   46454.89   84965.09   69643.69   68411.52   87363.85   95958.92  124078.42  152474.32  41620.56\n",
       "2016-12        587703.56  223913.89  176874.98  217293.77  149132.16  258303.12  229788.36  240500.89  274166.00  337653.49  352491.92  369677.00   99548.67       NaN\n",
       "2017-01        349087.89   53053.78   69443.09   69355.97   96276.32   79841.19   78095.28   82382.68   73246.43  119511.44  130243.21   20770.00        NaN       NaN\n",
       "2017-02        222129.74   26779.15   33211.46   47591.28   35631.65   35956.19   44839.81   56700.93   52282.50   63652.97    5368.57        NaN        NaN       NaN\n",
       "2017-03        286419.35   25640.32   61235.79   38343.90   51106.60   43959.12   58104.63   72418.55   64918.83    8359.97        NaN        NaN        NaN       NaN\n",
       "2017-04        174389.12   25017.57   21946.05   20350.68   21397.73   26524.54   28118.51   31745.60    4036.37        NaN        NaN        NaN        NaN       NaN\n",
       "2017-05        212172.94   18922.26   21007.35   18238.01   28857.20   34910.68   39398.27    5105.48        NaN        NaN        NaN        NaN        NaN       NaN\n",
       "2017-06        166194.24   15286.00   12523.26   28636.02   25866.51   38540.42    4466.28        NaN        NaN        NaN        NaN        NaN        NaN       NaN\n",
       "2017-07        190987.22   11336.00   16463.78   19317.90   20534.76    4769.61        NaN        NaN        NaN        NaN        NaN        NaN        NaN       NaN\n",
       "2017-08        158861.73   16195.59   32044.92   40714.56   10944.11        NaN        NaN        NaN        NaN        NaN        NaN        NaN        NaN       NaN\n",
       "2017-09        227811.60   29302.19   34885.76   10728.48        NaN        NaN        NaN        NaN        NaN        NaN        NaN        NaN        NaN       NaN\n",
       "2017-10        279374.95   47290.79   10081.98        NaN        NaN        NaN        NaN        NaN        NaN        NaN        NaN        NaN        NaN       NaN\n",
       "2017-11        456925.42    5904.29        NaN        NaN        NaN        NaN        NaN        NaN        NaN        NaN        NaN        NaN        NaN       NaN\n",
       "2017-12        108554.10        NaN        NaN        NaN        NaN        NaN        NaN        NaN        NaN        NaN        NaN        NaN        NaN       NaN"
      ]
     },
     "execution_count": 415,
     "metadata": {},
     "output_type": "execute_result"
    }
   ],
   "source": [
    "# creating Gross Revenue cohort table\n",
    "cohort_pivot_revenue = df_cohort.pivot_table(index = 'cohort',\n",
    "                                     columns = 'period_number',\n",
    "                                     values = 'gross_revenue')\n",
    "\n",
    "cohort_pivot_revenue"
   ]
  },
  {
   "cell_type": "code",
   "execution_count": 416,
   "id": "ae3fa865",
   "metadata": {
    "ExecuteTime": {
     "end_time": "2022-04-28T14:47:25.031025Z",
     "start_time": "2022-04-28T14:47:24.986164Z"
    }
   },
   "outputs": [
    {
     "data": {
      "text/html": [
       "<div>\n",
       "<style scoped>\n",
       "    .dataframe tbody tr th:only-of-type {\n",
       "        vertical-align: middle;\n",
       "    }\n",
       "\n",
       "    .dataframe tbody tr th {\n",
       "        vertical-align: top;\n",
       "    }\n",
       "\n",
       "    .dataframe thead th {\n",
       "        text-align: right;\n",
       "    }\n",
       "</style>\n",
       "<table border=\"1\" class=\"dataframe\">\n",
       "  <thead>\n",
       "    <tr style=\"text-align: right;\">\n",
       "      <th>period_number</th>\n",
       "      <th>0</th>\n",
       "      <th>1</th>\n",
       "      <th>2</th>\n",
       "      <th>3</th>\n",
       "      <th>4</th>\n",
       "      <th>5</th>\n",
       "      <th>6</th>\n",
       "      <th>7</th>\n",
       "      <th>8</th>\n",
       "      <th>9</th>\n",
       "      <th>10</th>\n",
       "      <th>11</th>\n",
       "      <th>12</th>\n",
       "      <th>13</th>\n",
       "    </tr>\n",
       "    <tr>\n",
       "      <th>cohort</th>\n",
       "      <th></th>\n",
       "      <th></th>\n",
       "      <th></th>\n",
       "      <th></th>\n",
       "      <th></th>\n",
       "      <th></th>\n",
       "      <th></th>\n",
       "      <th></th>\n",
       "      <th></th>\n",
       "      <th></th>\n",
       "      <th></th>\n",
       "      <th></th>\n",
       "      <th></th>\n",
       "      <th></th>\n",
       "    </tr>\n",
       "  </thead>\n",
       "  <tbody>\n",
       "    <tr>\n",
       "      <th>2016-11</th>\n",
       "      <td>1.0</td>\n",
       "      <td>0.811268</td>\n",
       "      <td>0.671329</td>\n",
       "      <td>0.487474</td>\n",
       "      <td>0.700472</td>\n",
       "      <td>0.440720</td>\n",
       "      <td>0.806069</td>\n",
       "      <td>0.660714</td>\n",
       "      <td>0.649024</td>\n",
       "      <td>0.828826</td>\n",
       "      <td>0.910368</td>\n",
       "      <td>1.177140</td>\n",
       "      <td>1.446533</td>\n",
       "      <td>0.394857</td>\n",
       "    </tr>\n",
       "    <tr>\n",
       "      <th>2016-12</th>\n",
       "      <td>1.0</td>\n",
       "      <td>0.380998</td>\n",
       "      <td>0.300960</td>\n",
       "      <td>0.369734</td>\n",
       "      <td>0.253754</td>\n",
       "      <td>0.439513</td>\n",
       "      <td>0.390994</td>\n",
       "      <td>0.409221</td>\n",
       "      <td>0.466504</td>\n",
       "      <td>0.574530</td>\n",
       "      <td>0.599778</td>\n",
       "      <td>0.629020</td>\n",
       "      <td>0.169386</td>\n",
       "      <td>NaN</td>\n",
       "    </tr>\n",
       "    <tr>\n",
       "      <th>2017-01</th>\n",
       "      <td>1.0</td>\n",
       "      <td>0.151978</td>\n",
       "      <td>0.198927</td>\n",
       "      <td>0.198678</td>\n",
       "      <td>0.275794</td>\n",
       "      <td>0.228714</td>\n",
       "      <td>0.223712</td>\n",
       "      <td>0.235994</td>\n",
       "      <td>0.209822</td>\n",
       "      <td>0.342353</td>\n",
       "      <td>0.373096</td>\n",
       "      <td>0.059498</td>\n",
       "      <td>NaN</td>\n",
       "      <td>NaN</td>\n",
       "    </tr>\n",
       "    <tr>\n",
       "      <th>2017-02</th>\n",
       "      <td>1.0</td>\n",
       "      <td>0.120556</td>\n",
       "      <td>0.149514</td>\n",
       "      <td>0.214250</td>\n",
       "      <td>0.160409</td>\n",
       "      <td>0.161870</td>\n",
       "      <td>0.201863</td>\n",
       "      <td>0.255260</td>\n",
       "      <td>0.235369</td>\n",
       "      <td>0.286558</td>\n",
       "      <td>0.024169</td>\n",
       "      <td>NaN</td>\n",
       "      <td>NaN</td>\n",
       "      <td>NaN</td>\n",
       "    </tr>\n",
       "    <tr>\n",
       "      <th>2017-03</th>\n",
       "      <td>1.0</td>\n",
       "      <td>0.089520</td>\n",
       "      <td>0.213798</td>\n",
       "      <td>0.133873</td>\n",
       "      <td>0.178433</td>\n",
       "      <td>0.153478</td>\n",
       "      <td>0.202866</td>\n",
       "      <td>0.252841</td>\n",
       "      <td>0.226657</td>\n",
       "      <td>0.029188</td>\n",
       "      <td>NaN</td>\n",
       "      <td>NaN</td>\n",
       "      <td>NaN</td>\n",
       "      <td>NaN</td>\n",
       "    </tr>\n",
       "    <tr>\n",
       "      <th>2017-04</th>\n",
       "      <td>1.0</td>\n",
       "      <td>0.143458</td>\n",
       "      <td>0.125845</td>\n",
       "      <td>0.116697</td>\n",
       "      <td>0.122701</td>\n",
       "      <td>0.152100</td>\n",
       "      <td>0.161240</td>\n",
       "      <td>0.182039</td>\n",
       "      <td>0.023146</td>\n",
       "      <td>NaN</td>\n",
       "      <td>NaN</td>\n",
       "      <td>NaN</td>\n",
       "      <td>NaN</td>\n",
       "      <td>NaN</td>\n",
       "    </tr>\n",
       "    <tr>\n",
       "      <th>2017-05</th>\n",
       "      <td>1.0</td>\n",
       "      <td>0.089183</td>\n",
       "      <td>0.099011</td>\n",
       "      <td>0.085958</td>\n",
       "      <td>0.136008</td>\n",
       "      <td>0.164539</td>\n",
       "      <td>0.185689</td>\n",
       "      <td>0.024063</td>\n",
       "      <td>NaN</td>\n",
       "      <td>NaN</td>\n",
       "      <td>NaN</td>\n",
       "      <td>NaN</td>\n",
       "      <td>NaN</td>\n",
       "      <td>NaN</td>\n",
       "    </tr>\n",
       "    <tr>\n",
       "      <th>2017-06</th>\n",
       "      <td>1.0</td>\n",
       "      <td>0.091977</td>\n",
       "      <td>0.075353</td>\n",
       "      <td>0.172305</td>\n",
       "      <td>0.155640</td>\n",
       "      <td>0.231900</td>\n",
       "      <td>0.026874</td>\n",
       "      <td>NaN</td>\n",
       "      <td>NaN</td>\n",
       "      <td>NaN</td>\n",
       "      <td>NaN</td>\n",
       "      <td>NaN</td>\n",
       "      <td>NaN</td>\n",
       "      <td>NaN</td>\n",
       "    </tr>\n",
       "    <tr>\n",
       "      <th>2017-07</th>\n",
       "      <td>1.0</td>\n",
       "      <td>0.059355</td>\n",
       "      <td>0.086204</td>\n",
       "      <td>0.101148</td>\n",
       "      <td>0.107519</td>\n",
       "      <td>0.024973</td>\n",
       "      <td>NaN</td>\n",
       "      <td>NaN</td>\n",
       "      <td>NaN</td>\n",
       "      <td>NaN</td>\n",
       "      <td>NaN</td>\n",
       "      <td>NaN</td>\n",
       "      <td>NaN</td>\n",
       "      <td>NaN</td>\n",
       "    </tr>\n",
       "    <tr>\n",
       "      <th>2017-08</th>\n",
       "      <td>1.0</td>\n",
       "      <td>0.101948</td>\n",
       "      <td>0.201716</td>\n",
       "      <td>0.256289</td>\n",
       "      <td>0.068891</td>\n",
       "      <td>NaN</td>\n",
       "      <td>NaN</td>\n",
       "      <td>NaN</td>\n",
       "      <td>NaN</td>\n",
       "      <td>NaN</td>\n",
       "      <td>NaN</td>\n",
       "      <td>NaN</td>\n",
       "      <td>NaN</td>\n",
       "      <td>NaN</td>\n",
       "    </tr>\n",
       "    <tr>\n",
       "      <th>2017-09</th>\n",
       "      <td>1.0</td>\n",
       "      <td>0.128625</td>\n",
       "      <td>0.153134</td>\n",
       "      <td>0.047094</td>\n",
       "      <td>NaN</td>\n",
       "      <td>NaN</td>\n",
       "      <td>NaN</td>\n",
       "      <td>NaN</td>\n",
       "      <td>NaN</td>\n",
       "      <td>NaN</td>\n",
       "      <td>NaN</td>\n",
       "      <td>NaN</td>\n",
       "      <td>NaN</td>\n",
       "      <td>NaN</td>\n",
       "    </tr>\n",
       "    <tr>\n",
       "      <th>2017-10</th>\n",
       "      <td>1.0</td>\n",
       "      <td>0.169274</td>\n",
       "      <td>0.036088</td>\n",
       "      <td>NaN</td>\n",
       "      <td>NaN</td>\n",
       "      <td>NaN</td>\n",
       "      <td>NaN</td>\n",
       "      <td>NaN</td>\n",
       "      <td>NaN</td>\n",
       "      <td>NaN</td>\n",
       "      <td>NaN</td>\n",
       "      <td>NaN</td>\n",
       "      <td>NaN</td>\n",
       "      <td>NaN</td>\n",
       "    </tr>\n",
       "    <tr>\n",
       "      <th>2017-11</th>\n",
       "      <td>1.0</td>\n",
       "      <td>0.012922</td>\n",
       "      <td>NaN</td>\n",
       "      <td>NaN</td>\n",
       "      <td>NaN</td>\n",
       "      <td>NaN</td>\n",
       "      <td>NaN</td>\n",
       "      <td>NaN</td>\n",
       "      <td>NaN</td>\n",
       "      <td>NaN</td>\n",
       "      <td>NaN</td>\n",
       "      <td>NaN</td>\n",
       "      <td>NaN</td>\n",
       "      <td>NaN</td>\n",
       "    </tr>\n",
       "    <tr>\n",
       "      <th>2017-12</th>\n",
       "      <td>1.0</td>\n",
       "      <td>NaN</td>\n",
       "      <td>NaN</td>\n",
       "      <td>NaN</td>\n",
       "      <td>NaN</td>\n",
       "      <td>NaN</td>\n",
       "      <td>NaN</td>\n",
       "      <td>NaN</td>\n",
       "      <td>NaN</td>\n",
       "      <td>NaN</td>\n",
       "      <td>NaN</td>\n",
       "      <td>NaN</td>\n",
       "      <td>NaN</td>\n",
       "      <td>NaN</td>\n",
       "    </tr>\n",
       "  </tbody>\n",
       "</table>\n",
       "</div>"
      ],
      "text/plain": [
       "period_number   0         1         2         3         4         5         6         7         8         9         10        11        12        13\n",
       "cohort                                                                                                                                              \n",
       "2016-11        1.0  0.811268  0.671329  0.487474  0.700472  0.440720  0.806069  0.660714  0.649024  0.828826  0.910368  1.177140  1.446533  0.394857\n",
       "2016-12        1.0  0.380998  0.300960  0.369734  0.253754  0.439513  0.390994  0.409221  0.466504  0.574530  0.599778  0.629020  0.169386       NaN\n",
       "2017-01        1.0  0.151978  0.198927  0.198678  0.275794  0.228714  0.223712  0.235994  0.209822  0.342353  0.373096  0.059498       NaN       NaN\n",
       "2017-02        1.0  0.120556  0.149514  0.214250  0.160409  0.161870  0.201863  0.255260  0.235369  0.286558  0.024169       NaN       NaN       NaN\n",
       "2017-03        1.0  0.089520  0.213798  0.133873  0.178433  0.153478  0.202866  0.252841  0.226657  0.029188       NaN       NaN       NaN       NaN\n",
       "2017-04        1.0  0.143458  0.125845  0.116697  0.122701  0.152100  0.161240  0.182039  0.023146       NaN       NaN       NaN       NaN       NaN\n",
       "2017-05        1.0  0.089183  0.099011  0.085958  0.136008  0.164539  0.185689  0.024063       NaN       NaN       NaN       NaN       NaN       NaN\n",
       "2017-06        1.0  0.091977  0.075353  0.172305  0.155640  0.231900  0.026874       NaN       NaN       NaN       NaN       NaN       NaN       NaN\n",
       "2017-07        1.0  0.059355  0.086204  0.101148  0.107519  0.024973       NaN       NaN       NaN       NaN       NaN       NaN       NaN       NaN\n",
       "2017-08        1.0  0.101948  0.201716  0.256289  0.068891       NaN       NaN       NaN       NaN       NaN       NaN       NaN       NaN       NaN\n",
       "2017-09        1.0  0.128625  0.153134  0.047094       NaN       NaN       NaN       NaN       NaN       NaN       NaN       NaN       NaN       NaN\n",
       "2017-10        1.0  0.169274  0.036088       NaN       NaN       NaN       NaN       NaN       NaN       NaN       NaN       NaN       NaN       NaN\n",
       "2017-11        1.0  0.012922       NaN       NaN       NaN       NaN       NaN       NaN       NaN       NaN       NaN       NaN       NaN       NaN\n",
       "2017-12        1.0       NaN       NaN       NaN       NaN       NaN       NaN       NaN       NaN       NaN       NaN       NaN       NaN       NaN"
      ]
     },
     "execution_count": 416,
     "metadata": {},
     "output_type": "execute_result"
    }
   ],
   "source": [
    "# getting percentage values\n",
    "cohort_size_revenue = cohort_pivot_revenue.iloc[:,0]\n",
    "revenue_matrix = cohort_pivot_revenue.divide(cohort_size_revenue, axis = 0)\n",
    "\n",
    "revenue_matrix"
   ]
  },
  {
   "cell_type": "markdown",
   "id": "b3dd37da",
   "metadata": {},
   "source": [
    "### Cohort Results"
   ]
  },
  {
   "cell_type": "code",
   "execution_count": 417,
   "id": "b22d26ac",
   "metadata": {
    "ExecuteTime": {
     "end_time": "2022-04-28T14:47:30.720593Z",
     "start_time": "2022-04-28T14:47:29.885547Z"
    },
    "cell_style": "center"
   },
   "outputs": [
    {
     "data": {
      "image/png": "[encoded data removed]",
      "text/plain": [
       "<Figure size 864x576 with 3 Axes>"
      ]
     },
     "metadata": {},
     "output_type": "display_data"
    }
   ],
   "source": [
    "# Cohort for Retention\n",
    "with sns.axes_style(\"white\"):\n",
    "    fig, ax = plt.subplots(1, 2, figsize=(12, 8), sharey=True, gridspec_kw={'width_ratios': [1, 11]})\n",
    "    \n",
    "    # retention matrix\n",
    "    sns.heatmap(retention_matrix, \n",
    "                mask=retention_matrix.isnull(), \n",
    "                annot=True, \n",
    "                fmt='.0%', \n",
    "                cmap='Blues', \n",
    "                ax=ax[1])\n",
    "    ax[1].set_title('Monthly Cohorts: User Retention', fontsize=16)\n",
    "    ax[1].set(xlabel='# of periods',\n",
    "              ylabel='')\n",
    "\n",
    "    # cohort size\n",
    "    cohort_size_df = pd.DataFrame(cohort_size_retention).rename(columns={0: 'cohort_size'})\n",
    "    white_cmap = mcolors.ListedColormap(['white'])\n",
    "    sns.heatmap(cohort_size_df, \n",
    "                annot=True, \n",
    "                cbar=False, \n",
    "                fmt='g', \n",
    "                cmap=white_cmap, \n",
    "                ax=ax[0])\n",
    "\n",
    "    fig.tight_layout()"
   ]
  },
  {
   "cell_type": "code",
   "execution_count": 418,
   "id": "86d7f2a6",
   "metadata": {
    "ExecuteTime": {
     "end_time": "2022-04-28T14:47:33.456026Z",
     "start_time": "2022-04-28T14:47:32.667761Z"
    }
   },
   "outputs": [
    {
     "data": {
      "image/png": "[encoded data removed]",
      "text/plain": [
       "<Figure size 864x576 with 3 Axes>"
      ]
     },
     "metadata": {},
     "output_type": "display_data"
    }
   ],
   "source": [
    "# Cohort for Gross Revenue\n",
    "with sns.axes_style(\"white\"):\n",
    "    fig, ax = plt.subplots(1, 2, figsize=(12, 8), sharey=True, gridspec_kw={'width_ratios': [1, 11]})\n",
    "    \n",
    "    # retention matrix\n",
    "    sns.heatmap(revenue_matrix, \n",
    "                mask=revenue_matrix.isnull(), \n",
    "                annot=True, \n",
    "                fmt='.0%', \n",
    "                cmap='Blues', \n",
    "                ax=ax[1])\n",
    "    ax[1].set_title('Monthly Cohorts: Gross Revenue', fontsize=16)\n",
    "    ax[1].set(xlabel='# of periods',\n",
    "              ylabel='')\n",
    "\n",
    "    # cohort size\n",
    "    cohort_size_df = pd.DataFrame(cohort_size_revenue).rename(columns={0: 'cohort_size'})\n",
    "    white_cmap = mcolors.ListedColormap(['white'])\n",
    "    sns.heatmap(cohort_size_df, \n",
    "                annot=True, \n",
    "                cbar=False, \n",
    "                fmt='g', \n",
    "                cmap=white_cmap, \n",
    "                ax=ax[0])\n",
    "\n",
    "    fig.tight_layout()"
   ]
  },
  {
   "cell_type": "markdown",
   "id": "8efd65f3",
   "metadata": {},
   "source": [
    "# Conclusion"
   ]
  },
  {
   "cell_type": "markdown",
   "id": "71e81399",
   "metadata": {},
   "source": [
    "- In the image, we can see that there is a sharp drop-off in the second month (indexed as 1) already, on average around 80% of customers do not make any purchase in the second month. \n",
    "\n",
    "- The first and second cohort (2016–11/12) seems to be an exception and performs surprisingly well as compared to the other ones. A year after the first purchase, there is a 46 and 43% retention, respectively. This might be a cohort of dedicated customers, who first joined the platform based on some already-existing connections with the retailer. However, from data alone, that is very hard to accurately explain.\n",
    "\n",
    "- Also we can see many customers coming back to buy in December, probably due to Christmas.\n",
    "\n",
    "- Throughout the matrix, we can see fluctuations in retention over time. This might be caused by the characteristics of the business, where clients do periodic purchases, followed by periods of inactivity."
   ]
  }
 ],
 "metadata": {
  "kernelspec": {
   "display_name": "Python 3 (ipykernel)",
   "language": "python",
   "name": "python3"
  },
  "language_info": {
   "codemirror_mode": {
    "name": "ipython",
    "version": 3
   },
   "file_extension": ".py",
   "mimetype": "text/x-python",
   "name": "python",
   "nbconvert_exporter": "python",
   "pygments_lexer": "ipython3",
   "version": "3.9.2"
  },
  "nbTranslate": {
   "displayLangs": [
    "*"
   ],
   "hotkey": "alt-t",
   "langInMainMenu": true,
   "sourceLang": "en",
   "targetLang": "fr",
   "useGoogleTranslate": true
  },
  "toc": {
   "base_numbering": 1,
   "nav_menu": {},
   "number_sections": true,
   "sideBar": true,
   "skip_h1_title": false,
   "title_cell": "Table of Contents",
   "title_sidebar": "Contents",
   "toc_cell": false,
   "toc_position": {},
   "toc_section_display": true,
   "toc_window_display": false
  }
 },
 "nbformat": 4,
 "nbformat_minor": 5
}
