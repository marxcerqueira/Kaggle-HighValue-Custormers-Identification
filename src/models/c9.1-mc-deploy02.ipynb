{
 "cells": [
  {
   "cell_type": "markdown",
   "id": "french-dollar",
   "metadata": {},
   "source": [
    "# High Value Customers Identification (Champions) #\n",
    "**By: Marx Cerqueira**"
   ]
  },
  {
   "cell_type": "markdown",
   "id": "homeless-heading",
   "metadata": {},
   "source": [
    "# IMPORTS"
   ]
  },
  {
   "cell_type": "code",
   "execution_count": 1,
   "id": "lovely-guess",
   "metadata": {
    "ExecuteTime": {
     "end_time": "2022-04-24T13:35:00.590414Z",
     "start_time": "2022-04-24T13:34:55.710811Z"
    },
    "scrolled": true
   },
   "outputs": [],
   "source": [
    "import re\n",
    "import os\n",
    "import s3fs\n",
    "import inflection\n",
    "import sqlite3\n",
    "import pickle\n",
    "\n",
    "import numpy   as np\n",
    "import pandas  as pd\n",
    "import seaborn as sns\n",
    "\n",
    "import umap.umap_ as umap\n",
    "\n",
    "from matplotlib import pyplot as plt\n",
    "\n",
    "from sklearn import metrics       as m\n",
    "from sklearn import preprocessing as pp\n",
    "from sklearn import decomposition as dd\n",
    "from sklearn import ensemble      as en\n",
    "from sklearn import manifold      as mn\n",
    "from sklearn import mixture       as mx\n",
    "from sklearn import cluster       as c\n",
    "\n",
    "from scipy.cluster import hierarchy as hc\n",
    "\n",
    "from plotly import express as px\n",
    "from sqlalchemy import create_engine"
   ]
  },
  {
   "cell_type": "markdown",
   "id": "satisfied-catholic",
   "metadata": {},
   "source": [
    "## Loading Data"
   ]
  },
  {
   "cell_type": "code",
   "execution_count": 2,
   "id": "9ef643ef",
   "metadata": {
    "ExecuteTime": {
     "end_time": "2022-04-24T13:35:00.593725Z",
     "start_time": "2022-04-24T13:35:00.591761Z"
    }
   },
   "outputs": [],
   "source": [
    "# get AWS environmnet access keys\n",
    "AWS_ACCESS_KEY_ID     = os.environ.get('AWS_ACCESS_KEY_ID')\n",
    "AWS_SECRET_ACCESS_KEY = os.environ.get('AWS_SECRET_ACCESS_KEY')"
   ]
  },
  {
   "cell_type": "code",
   "execution_count": 3,
   "id": "front-edinburgh",
   "metadata": {
    "ExecuteTime": {
     "end_time": "2022-04-24T13:35:23.993623Z",
     "start_time": "2022-04-24T13:35:00.595011Z"
    },
    "scrolled": true
   },
   "outputs": [],
   "source": [
    "# load data\n",
    "path_s3 = 's3://mc-insiders-dataset/'\n",
    "\n",
    "df_ecomm_raw = pd.read_csv(path_s3 + 'Ecommerce.csv',\n",
    "                           encoding='iso-8859-1',\n",
    "                           low_memory=False)\n",
    "\n",
    "#drop extra column\n",
    "df_ecomm_raw = df_ecomm_raw.drop(columns = ['Unnamed: 8'], axis = 1)"
   ]
  },
  {
   "cell_type": "markdown",
   "id": "respiratory-seattle",
   "metadata": {},
   "source": [
    "# DATA DISCRIPTION"
   ]
  },
  {
   "cell_type": "code",
   "execution_count": 4,
   "id": "italian-wayne",
   "metadata": {
    "ExecuteTime": {
     "end_time": "2022-04-24T13:35:24.014603Z",
     "start_time": "2022-04-24T13:35:23.995069Z"
    }
   },
   "outputs": [],
   "source": [
    "# Copy dataset\n",
    "df0 = df_ecomm_raw.copy()"
   ]
  },
  {
   "cell_type": "markdown",
   "id": "linear-haiti",
   "metadata": {},
   "source": [
    "## Rename Columns"
   ]
  },
  {
   "cell_type": "code",
   "execution_count": 5,
   "id": "compressed-sword",
   "metadata": {
    "ExecuteTime": {
     "end_time": "2022-04-24T13:35:24.031635Z",
     "start_time": "2022-04-24T13:35:24.015662Z"
    }
   },
   "outputs": [],
   "source": [
    "cols_old = ['InvoiceNo','StockCode','Description','Quantity', 'InvoiceDate','UnitPrice','CustomerID','Country']\n",
    "\n",
    "snakecase = lambda x: inflection.underscore(x)\n",
    "col_news = list(map(snakecase, cols_old))\n",
    "\n",
    "# Rename columns\n",
    "df0.columns = col_news"
   ]
  },
  {
   "cell_type": "markdown",
   "id": "growing-arrival",
   "metadata": {},
   "source": [
    "## Data Dimension"
   ]
  },
  {
   "cell_type": "code",
   "execution_count": 6,
   "id": "stone-immigration",
   "metadata": {
    "ExecuteTime": {
     "end_time": "2022-04-24T13:35:24.035451Z",
     "start_time": "2022-04-24T13:35:24.032730Z"
    }
   },
   "outputs": [
    {
     "name": "stdout",
     "output_type": "stream",
     "text": [
      "Number of rows: 541909.\n",
      "Number of cols: 8.\n"
     ]
    }
   ],
   "source": [
    "print('Number of rows: {}.'.format(df0.shape[0]))\n",
    "print('Number of cols: {}.'.format(df0.shape[1]))"
   ]
  },
  {
   "cell_type": "markdown",
   "id": "covered-offset",
   "metadata": {},
   "source": [
    "## Data Types"
   ]
  },
  {
   "cell_type": "code",
   "execution_count": 7,
   "id": "conditional-triangle",
   "metadata": {
    "ExecuteTime": {
     "end_time": "2022-04-24T13:35:24.289579Z",
     "start_time": "2022-04-24T13:35:24.036561Z"
    }
   },
   "outputs": [
    {
     "name": "stdout",
     "output_type": "stream",
     "text": [
      "<class 'pandas.core.frame.DataFrame'>\n",
      "RangeIndex: 541909 entries, 0 to 541908\n",
      "Data columns (total 8 columns):\n",
      " #   Column        Non-Null Count   Dtype  \n",
      "---  ------        --------------   -----  \n",
      " 0   invoice_no    541909 non-null  object \n",
      " 1   stock_code    541909 non-null  object \n",
      " 2   description   540455 non-null  object \n",
      " 3   quantity      541909 non-null  int64  \n",
      " 4   invoice_date  541909 non-null  object \n",
      " 5   unit_price    541909 non-null  float64\n",
      " 6   customer_id   406829 non-null  float64\n",
      " 7   country       541909 non-null  object \n",
      "dtypes: float64(2), int64(1), object(5)\n",
      "memory usage: 33.1+ MB\n"
     ]
    }
   ],
   "source": [
    "df0.info()"
   ]
  },
  {
   "cell_type": "markdown",
   "id": "naval-annual",
   "metadata": {},
   "source": [
    "## Check NA Values"
   ]
  },
  {
   "cell_type": "code",
   "execution_count": 8,
   "id": "important-appendix",
   "metadata": {
    "ExecuteTime": {
     "end_time": "2022-04-24T13:35:24.810685Z",
     "start_time": "2022-04-24T13:35:24.290690Z"
    }
   },
   "outputs": [
    {
     "data": {
      "text/html": [
       "<div>\n",
       "<style scoped>\n",
       "    .dataframe tbody tr th:only-of-type {\n",
       "        vertical-align: middle;\n",
       "    }\n",
       "\n",
       "    .dataframe tbody tr th {\n",
       "        vertical-align: top;\n",
       "    }\n",
       "\n",
       "    .dataframe thead th {\n",
       "        text-align: right;\n",
       "    }\n",
       "</style>\n",
       "<table border=\"1\" class=\"dataframe\">\n",
       "  <thead>\n",
       "    <tr style=\"text-align: right;\">\n",
       "      <th></th>\n",
       "      <th>missing value count</th>\n",
       "      <th>percentage</th>\n",
       "    </tr>\n",
       "  </thead>\n",
       "  <tbody>\n",
       "    <tr>\n",
       "      <th>invoice_no</th>\n",
       "      <td>0</td>\n",
       "      <td>0.00</td>\n",
       "    </tr>\n",
       "    <tr>\n",
       "      <th>stock_code</th>\n",
       "      <td>0</td>\n",
       "      <td>0.00</td>\n",
       "    </tr>\n",
       "    <tr>\n",
       "      <th>description</th>\n",
       "      <td>1454</td>\n",
       "      <td>0.27</td>\n",
       "    </tr>\n",
       "    <tr>\n",
       "      <th>quantity</th>\n",
       "      <td>0</td>\n",
       "      <td>0.00</td>\n",
       "    </tr>\n",
       "    <tr>\n",
       "      <th>invoice_date</th>\n",
       "      <td>0</td>\n",
       "      <td>0.00</td>\n",
       "    </tr>\n",
       "    <tr>\n",
       "      <th>unit_price</th>\n",
       "      <td>0</td>\n",
       "      <td>0.00</td>\n",
       "    </tr>\n",
       "    <tr>\n",
       "      <th>customer_id</th>\n",
       "      <td>135080</td>\n",
       "      <td>24.93</td>\n",
       "    </tr>\n",
       "    <tr>\n",
       "      <th>country</th>\n",
       "      <td>0</td>\n",
       "      <td>0.00</td>\n",
       "    </tr>\n",
       "  </tbody>\n",
       "</table>\n",
       "</div>"
      ],
      "text/plain": [
       "              missing value count  percentage\n",
       "invoice_no                      0        0.00\n",
       "stock_code                      0        0.00\n",
       "description                  1454        0.27\n",
       "quantity                        0        0.00\n",
       "invoice_date                    0        0.00\n",
       "unit_price                      0        0.00\n",
       "customer_id                135080       24.93\n",
       "country                         0        0.00"
      ]
     },
     "execution_count": 8,
     "metadata": {},
     "output_type": "execute_result"
    }
   ],
   "source": [
    "missing_count = df0.isnull().sum() # the count of missing values\n",
    "value_count = df0.isnull().count() # the total values count\n",
    "\n",
    "missing_percentage = round(missing_count/value_count*100,2) # the percentage of missing values\n",
    "missing_df = pd.DataFrame({'missing value count': missing_count, 'percentage': missing_percentage})\n",
    "missing_df"
   ]
  },
  {
   "cell_type": "code",
   "execution_count": 9,
   "id": "floral-transportation",
   "metadata": {
    "ExecuteTime": {
     "end_time": "2022-04-24T13:35:24.957127Z",
     "start_time": "2022-04-24T13:35:24.812267Z"
    }
   },
   "outputs": [
    {
     "data": {
      "image/png": "[encoded data removed]",
      "text/plain": [
       "<Figure size 432x288 with 1 Axes>"
      ]
     },
     "metadata": {
      "needs_background": "light"
     },
     "output_type": "display_data"
    }
   ],
   "source": [
    "barchart = missing_df.plot.bar(y='percentage')\n",
    "for index, percentage in enumerate( missing_percentage ):\n",
    "    barchart.text( index, percentage, str(percentage)+'%')"
   ]
  },
  {
   "cell_type": "markdown",
   "id": "unique-charlotte",
   "metadata": {},
   "source": [
    "## Fillout NA"
   ]
  },
  {
   "cell_type": "code",
   "execution_count": 10,
   "id": "coral-leone",
   "metadata": {
    "ExecuteTime": {
     "end_time": "2022-04-24T13:35:24.993016Z",
     "start_time": "2022-04-24T13:35:24.959641Z"
    }
   },
   "outputs": [],
   "source": [
    "# separate NA's in two different dataframe, one with NAs and other without it\n",
    "df_missing = df0.loc[df0['customer_id'].isna(), :]\n",
    "df_not_missing = df0.loc[~df0['customer_id'].isna(), :]"
   ]
  },
  {
   "cell_type": "code",
   "execution_count": 11,
   "id": "basic-invite",
   "metadata": {
    "ExecuteTime": {
     "end_time": "2022-04-24T13:35:25.180814Z",
     "start_time": "2022-04-24T13:35:24.994294Z"
    }
   },
   "outputs": [],
   "source": [
    "# create reference\n",
    "df_backup = pd.DataFrame( df_missing['invoice_no'].drop_duplicates().copy() )\n",
    "df_backup['customer_id'] = np.arange( 19000, 19000+len( df_backup ), 1) # Fillout NA stratety: creating customers_id to keep their behavior (25% of the database)\n",
    "\n",
    "# merge original with reference dataframe\n",
    "df0 = pd.merge( df0, df_backup, on='invoice_no', how='left' )\n",
    "\n",
    "# coalesce \n",
    "df0['customer_id'] = df0['customer_id_x'].combine_first( df0['customer_id_y'] )\n",
    "\n",
    "# drop extra columns\n",
    "df0 = df0.drop( columns=['customer_id_x', 'customer_id_y'], axis=1 )"
   ]
  },
  {
   "cell_type": "markdown",
   "id": "baking-paragraph",
   "metadata": {},
   "source": [
    "## Change Types"
   ]
  },
  {
   "cell_type": "code",
   "execution_count": 12,
   "id": "second-brunei",
   "metadata": {
    "ExecuteTime": {
     "end_time": "2022-04-24T13:35:25.236635Z",
     "start_time": "2022-04-24T13:35:25.181993Z"
    }
   },
   "outputs": [],
   "source": [
    "# Transforme datatype of variable invoice_date to datetime\n",
    "df0['invoice_date'] = pd.to_datetime(df0['invoice_date'])"
   ]
  },
  {
   "cell_type": "code",
   "execution_count": 13,
   "id": "cellular-jurisdiction",
   "metadata": {
    "ExecuteTime": {
     "end_time": "2022-04-24T13:35:25.242893Z",
     "start_time": "2022-04-24T13:35:25.237742Z"
    }
   },
   "outputs": [],
   "source": [
    "df0['customer_id'] = df0['customer_id'].astype('int64')"
   ]
  },
  {
   "cell_type": "markdown",
   "id": "severe-puppy",
   "metadata": {},
   "source": [
    "## Descriptive Statistics"
   ]
  },
  {
   "cell_type": "code",
   "execution_count": 14,
   "id": "wrong-nothing",
   "metadata": {
    "ExecuteTime": {
     "end_time": "2022-04-24T13:35:25.282745Z",
     "start_time": "2022-04-24T13:35:25.243957Z"
    },
    "scrolled": false
   },
   "outputs": [
    {
     "data": {
      "text/html": [
       "<div>\n",
       "<style scoped>\n",
       "    .dataframe tbody tr th:only-of-type {\n",
       "        vertical-align: middle;\n",
       "    }\n",
       "\n",
       "    .dataframe tbody tr th {\n",
       "        vertical-align: top;\n",
       "    }\n",
       "\n",
       "    .dataframe thead th {\n",
       "        text-align: right;\n",
       "    }\n",
       "</style>\n",
       "<table border=\"1\" class=\"dataframe\">\n",
       "  <thead>\n",
       "    <tr style=\"text-align: right;\">\n",
       "      <th></th>\n",
       "      <th>count</th>\n",
       "      <th>mean</th>\n",
       "      <th>std</th>\n",
       "      <th>min</th>\n",
       "      <th>25%</th>\n",
       "      <th>50%</th>\n",
       "      <th>75%</th>\n",
       "      <th>max</th>\n",
       "    </tr>\n",
       "  </thead>\n",
       "  <tbody>\n",
       "    <tr>\n",
       "      <th>quantity</th>\n",
       "      <td>541909.0</td>\n",
       "      <td>9.552250</td>\n",
       "      <td>218.081158</td>\n",
       "      <td>-80995.00</td>\n",
       "      <td>1.00</td>\n",
       "      <td>3.00</td>\n",
       "      <td>10.00</td>\n",
       "      <td>80995.0</td>\n",
       "    </tr>\n",
       "    <tr>\n",
       "      <th>unit_price</th>\n",
       "      <td>541909.0</td>\n",
       "      <td>4.611114</td>\n",
       "      <td>96.759853</td>\n",
       "      <td>-11062.06</td>\n",
       "      <td>1.25</td>\n",
       "      <td>2.08</td>\n",
       "      <td>4.13</td>\n",
       "      <td>38970.0</td>\n",
       "    </tr>\n",
       "    <tr>\n",
       "      <th>customer_id</th>\n",
       "      <td>541909.0</td>\n",
       "      <td>16688.840453</td>\n",
       "      <td>2911.411352</td>\n",
       "      <td>12346.00</td>\n",
       "      <td>14367.00</td>\n",
       "      <td>16249.00</td>\n",
       "      <td>18283.00</td>\n",
       "      <td>22709.0</td>\n",
       "    </tr>\n",
       "  </tbody>\n",
       "</table>\n",
       "</div>"
      ],
      "text/plain": [
       "                count          mean          std       min       25%  \\\n",
       "quantity     541909.0      9.552250   218.081158 -80995.00      1.00   \n",
       "unit_price   541909.0      4.611114    96.759853 -11062.06      1.25   \n",
       "customer_id  541909.0  16688.840453  2911.411352  12346.00  14367.00   \n",
       "\n",
       "                  50%       75%      max  \n",
       "quantity         3.00     10.00  80995.0  \n",
       "unit_price       2.08      4.13  38970.0  \n",
       "customer_id  16249.00  18283.00  22709.0  "
      ]
     },
     "execution_count": 14,
     "metadata": {},
     "output_type": "execute_result"
    }
   ],
   "source": [
    "df0.describe().T"
   ]
  },
  {
   "cell_type": "code",
   "execution_count": 15,
   "id": "f38213f9",
   "metadata": {
    "ExecuteTime": {
     "end_time": "2022-04-24T13:35:25.433506Z",
     "start_time": "2022-04-24T13:35:25.283811Z"
    }
   },
   "outputs": [
    {
     "data": {
      "text/html": [
       "<div>\n",
       "<style scoped>\n",
       "    .dataframe tbody tr th:only-of-type {\n",
       "        vertical-align: middle;\n",
       "    }\n",
       "\n",
       "    .dataframe tbody tr th {\n",
       "        vertical-align: top;\n",
       "    }\n",
       "\n",
       "    .dataframe thead th {\n",
       "        text-align: right;\n",
       "    }\n",
       "</style>\n",
       "<table border=\"1\" class=\"dataframe\">\n",
       "  <thead>\n",
       "    <tr style=\"text-align: right;\">\n",
       "      <th></th>\n",
       "      <th>count</th>\n",
       "      <th>unique</th>\n",
       "      <th>top</th>\n",
       "      <th>freq</th>\n",
       "    </tr>\n",
       "  </thead>\n",
       "  <tbody>\n",
       "    <tr>\n",
       "      <th>invoice_no</th>\n",
       "      <td>541909</td>\n",
       "      <td>25900</td>\n",
       "      <td>573585</td>\n",
       "      <td>1114</td>\n",
       "    </tr>\n",
       "    <tr>\n",
       "      <th>stock_code</th>\n",
       "      <td>541909</td>\n",
       "      <td>4070</td>\n",
       "      <td>85123A</td>\n",
       "      <td>2313</td>\n",
       "    </tr>\n",
       "    <tr>\n",
       "      <th>description</th>\n",
       "      <td>540455</td>\n",
       "      <td>4223</td>\n",
       "      <td>WHITE HANGING HEART T-LIGHT HOLDER</td>\n",
       "      <td>2369</td>\n",
       "    </tr>\n",
       "    <tr>\n",
       "      <th>country</th>\n",
       "      <td>541909</td>\n",
       "      <td>38</td>\n",
       "      <td>United Kingdom</td>\n",
       "      <td>495478</td>\n",
       "    </tr>\n",
       "  </tbody>\n",
       "</table>\n",
       "</div>"
      ],
      "text/plain": [
       "              count unique                                 top    freq\n",
       "invoice_no   541909  25900                              573585    1114\n",
       "stock_code   541909   4070                              85123A    2313\n",
       "description  540455   4223  WHITE HANGING HEART T-LIGHT HOLDER    2369\n",
       "country      541909     38                      United Kingdom  495478"
      ]
     },
     "execution_count": 15,
     "metadata": {},
     "output_type": "execute_result"
    }
   ],
   "source": [
    "df0.describe(include = object).T"
   ]
  },
  {
   "cell_type": "code",
   "execution_count": 16,
   "id": "heated-growing",
   "metadata": {
    "ExecuteTime": {
     "end_time": "2022-04-24T13:35:25.437166Z",
     "start_time": "2022-04-24T13:35:25.434631Z"
    }
   },
   "outputs": [],
   "source": [
    "num_attributes = df0.select_dtypes(include = np.number)\n",
    "cat_attributes = df0.select_dtypes(exclude = [np.number, np.datetime64])"
   ]
  },
  {
   "cell_type": "markdown",
   "id": "decimal-recipient",
   "metadata": {},
   "source": [
    "### Numerical Attributes"
   ]
  },
  {
   "cell_type": "code",
   "execution_count": 17,
   "id": "hungry-durham",
   "metadata": {
    "ExecuteTime": {
     "end_time": "2022-04-24T13:35:25.549530Z",
     "start_time": "2022-04-24T13:35:25.438279Z"
    },
    "scrolled": true
   },
   "outputs": [
    {
     "data": {
      "text/html": [
       "<div>\n",
       "<style scoped>\n",
       "    .dataframe tbody tr th:only-of-type {\n",
       "        vertical-align: middle;\n",
       "    }\n",
       "\n",
       "    .dataframe tbody tr th {\n",
       "        vertical-align: top;\n",
       "    }\n",
       "\n",
       "    .dataframe thead th {\n",
       "        text-align: right;\n",
       "    }\n",
       "</style>\n",
       "<table border=\"1\" class=\"dataframe\">\n",
       "  <thead>\n",
       "    <tr style=\"text-align: right;\">\n",
       "      <th></th>\n",
       "      <th>attributes</th>\n",
       "      <th>min</th>\n",
       "      <th>max</th>\n",
       "      <th>range</th>\n",
       "      <th>mean</th>\n",
       "      <th>mediana</th>\n",
       "      <th>std</th>\n",
       "      <th>skew</th>\n",
       "      <th>kurtosis</th>\n",
       "    </tr>\n",
       "  </thead>\n",
       "  <tbody>\n",
       "    <tr>\n",
       "      <th>0</th>\n",
       "      <td>quantity</td>\n",
       "      <td>-80995.00</td>\n",
       "      <td>80995.0</td>\n",
       "      <td>161990.00</td>\n",
       "      <td>9.552250</td>\n",
       "      <td>3.00</td>\n",
       "      <td>218.080957</td>\n",
       "      <td>-0.264076</td>\n",
       "      <td>119769.160031</td>\n",
       "    </tr>\n",
       "    <tr>\n",
       "      <th>1</th>\n",
       "      <td>unit_price</td>\n",
       "      <td>-11062.06</td>\n",
       "      <td>38970.0</td>\n",
       "      <td>50032.06</td>\n",
       "      <td>4.611114</td>\n",
       "      <td>2.08</td>\n",
       "      <td>96.759764</td>\n",
       "      <td>186.506972</td>\n",
       "      <td>59005.719097</td>\n",
       "    </tr>\n",
       "    <tr>\n",
       "      <th>2</th>\n",
       "      <td>customer_id</td>\n",
       "      <td>12346.00</td>\n",
       "      <td>22709.0</td>\n",
       "      <td>10363.00</td>\n",
       "      <td>16688.840453</td>\n",
       "      <td>16249.00</td>\n",
       "      <td>2911.408666</td>\n",
       "      <td>0.487449</td>\n",
       "      <td>-0.804287</td>\n",
       "    </tr>\n",
       "  </tbody>\n",
       "</table>\n",
       "</div>"
      ],
      "text/plain": [
       "    attributes       min      max      range          mean   mediana  \\\n",
       "0     quantity -80995.00  80995.0  161990.00      9.552250      3.00   \n",
       "1   unit_price -11062.06  38970.0   50032.06      4.611114      2.08   \n",
       "2  customer_id  12346.00  22709.0   10363.00  16688.840453  16249.00   \n",
       "\n",
       "           std        skew       kurtosis  \n",
       "0   218.080957   -0.264076  119769.160031  \n",
       "1    96.759764  186.506972   59005.719097  \n",
       "2  2911.408666    0.487449      -0.804287  "
      ]
     },
     "execution_count": 17,
     "metadata": {},
     "output_type": "execute_result"
    }
   ],
   "source": [
    "# central tendency - mean, median\n",
    "ct1 = pd.DataFrame(num_attributes.apply(np.mean)).T\n",
    "ct2 = pd.DataFrame(num_attributes.apply(np.median)).T\n",
    "\n",
    "# dispersion - desvio padrão, min, max, range, skew, kurtosis\n",
    "d1 = pd.DataFrame(num_attributes.apply(np.std)).T\n",
    "d2 = pd.DataFrame(num_attributes.apply(np.min)).T\n",
    "d3 = pd.DataFrame(num_attributes.apply(np.max)).T\n",
    "d4 = pd.DataFrame(num_attributes.apply(lambda x: x.max()-x.min())).T\n",
    "d5 = pd.DataFrame(num_attributes.apply(lambda x: x.skew())).T\n",
    "d6 = pd.DataFrame(num_attributes.apply(lambda x: x.kurtosis())).T\n",
    "\n",
    "#concatenate\n",
    "\n",
    "m1 = pd.concat([d2,d3,d4,ct1,ct2,d1,d5,d6]).T.reset_index()\n",
    "m1.columns = ['attributes', 'min', 'max', 'range', 'mean', 'mediana','std', 'skew','kurtosis']\n",
    "m1"
   ]
  },
  {
   "cell_type": "markdown",
   "id": "geological-incident",
   "metadata": {},
   "source": [
    "### Categorical Attributes"
   ]
  },
  {
   "cell_type": "markdown",
   "id": "seeing-louisville",
   "metadata": {},
   "source": [
    "#### Invoice_No"
   ]
  },
  {
   "cell_type": "code",
   "execution_count": 18,
   "id": "parental-syndicate",
   "metadata": {
    "ExecuteTime": {
     "end_time": "2022-04-24T13:35:25.978798Z",
     "start_time": "2022-04-24T13:35:25.550820Z"
    }
   },
   "outputs": [
    {
     "name": "stdout",
     "output_type": "stream",
     "text": [
      "Total number of invoices: 9291\n",
      "Total number of negative quantity: 9288\n"
     ]
    }
   ],
   "source": [
    "# problem: We got letters and numbers in invoice_no\n",
    "#df1['invoice_no'].astype( int )\n",
    "\n",
    "# identification: \n",
    "df_letter_invoices = df0.loc[df0['invoice_no'].apply( lambda x: bool( re.search( '[^0-9]+', x ) ) ), :]\n",
    "df_letter_invoices.head()\n",
    "\n",
    "print( 'Total number of invoices: {}'.format( len( df_letter_invoices ) ) )\n",
    "print( 'Total number of negative quantity: {}'.format( len( df_letter_invoices[ df_letter_invoices['quantity'] < 0 ] ) ) )"
   ]
  },
  {
   "cell_type": "markdown",
   "id": "official-monday",
   "metadata": {},
   "source": [
    "#### Stock_Code"
   ]
  },
  {
   "cell_type": "code",
   "execution_count": 19,
   "id": "stuck-proportion",
   "metadata": {
    "ExecuteTime": {
     "end_time": "2022-04-24T13:35:26.372157Z",
     "start_time": "2022-04-24T13:35:25.979935Z"
    }
   },
   "outputs": [
    {
     "data": {
      "text/plain": [
       "array(['POST', 'D', 'DOT', 'M', 'S', 'AMAZONFEE', 'm', 'DCGSSBOY',\n",
       "       'DCGSSGIRL', 'PADS', 'B', 'CRUK'], dtype=object)"
      ]
     },
     "execution_count": 19,
     "metadata": {},
     "output_type": "execute_result"
    }
   ],
   "source": [
    "# check stock codes only characters\n",
    "df0.loc[df0['stock_code'].apply( lambda x: bool( re.search( '^[a-zA-Z]+$', x ) ) ), 'stock_code'].unique()\n",
    "\n",
    "# Acão:\n",
    "## 1. Remove stock_code in ['POST', 'D', 'M', 'PADS', 'DOT', 'CRUK']"
   ]
  },
  {
   "cell_type": "markdown",
   "id": "prime-prior",
   "metadata": {},
   "source": [
    "# VARIABLE FILTERING"
   ]
  },
  {
   "cell_type": "code",
   "execution_count": 20,
   "id": "flying-palace",
   "metadata": {
    "ExecuteTime": {
     "end_time": "2022-04-24T13:35:26.384141Z",
     "start_time": "2022-04-24T13:35:26.373238Z"
    }
   },
   "outputs": [],
   "source": [
    "df1 = df0.copy()"
   ]
  },
  {
   "cell_type": "code",
   "execution_count": 21,
   "id": "backed-fortune",
   "metadata": {
    "ExecuteTime": {
     "end_time": "2022-04-24T13:35:26.596251Z",
     "start_time": "2022-04-24T13:35:26.385268Z"
    }
   },
   "outputs": [],
   "source": [
    " # === Numerical attributes ====\n",
    "df1 = df1.loc[df1['unit_price'] >= 0.04, :]\n",
    "\n",
    "# === Categorical attributes ====\n",
    "df1 = df1[~df1['stock_code'].isin( ['POST', 'D', 'DOT', 'M', 'S', 'AMAZONFEE', 'm', 'DCGSSBOY',\n",
    "                                    'DCGSSGIRL', 'PADS', 'B', 'CRUK'] )]\n",
    "\n",
    "# description\n",
    "df1 = df1.drop( columns='description', axis=1 )\n",
    "\n",
    "# country \n",
    "df1 = df1[~df1['country'].isin( ['European Community', 'Unspecified' ] ) ] #assuming this risk so we can use lat long parameters\n",
    "\n",
    "# bad customers\n",
    "df1 = df1[~df1['customer_id'].isin([16446, 12346, 15098])]\n",
    "\n",
    "# quantity \n",
    "df1_returns = df1.loc[df1['quantity'] < 0, :].copy()\n",
    "df1_purchases = df1.loc[df1['quantity'] >= 0, :].copy()"
   ]
  },
  {
   "cell_type": "markdown",
   "id": "coastal-pakistan",
   "metadata": {},
   "source": [
    "# FEATURE ENGINEERING"
   ]
  },
  {
   "cell_type": "code",
   "execution_count": 22,
   "id": "military-porcelain",
   "metadata": {
    "ExecuteTime": {
     "end_time": "2022-04-24T13:35:26.605990Z",
     "start_time": "2022-04-24T13:35:26.597614Z"
    }
   },
   "outputs": [],
   "source": [
    "df2 = df1.copy()"
   ]
  },
  {
   "cell_type": "markdown",
   "id": "happy-witness",
   "metadata": {},
   "source": [
    "## Feature Creation"
   ]
  },
  {
   "cell_type": "code",
   "execution_count": 23,
   "id": "intimate-convergence",
   "metadata": {
    "ExecuteTime": {
     "end_time": "2022-04-24T13:35:26.637917Z",
     "start_time": "2022-04-24T13:35:26.607085Z"
    },
    "scrolled": false
   },
   "outputs": [],
   "source": [
    "# data reference\n",
    "# RFM Model, creating feature for it\n",
    "\n",
    "df_ref = df2.drop(['invoice_no', 'stock_code',\n",
    "                   'quantity', 'invoice_date', 'unit_price',\n",
    "                   'country'], axis = 1).drop_duplicates(ignore_index = True).copy()"
   ]
  },
  {
   "cell_type": "markdown",
   "id": "graduate-score",
   "metadata": {},
   "source": [
    "### Gross Revenue"
   ]
  },
  {
   "cell_type": "code",
   "execution_count": 24,
   "id": "removed-collector",
   "metadata": {
    "ExecuteTime": {
     "end_time": "2022-04-24T13:35:26.662066Z",
     "start_time": "2022-04-24T13:35:26.639103Z"
    },
    "scrolled": true
   },
   "outputs": [
    {
     "data": {
      "text/plain": [
       "customer_id       0\n",
       "gross_revenue    91\n",
       "dtype: int64"
      ]
     },
     "execution_count": 24,
     "metadata": {},
     "output_type": "execute_result"
    }
   ],
   "source": [
    "# Gross Revenue ( Faturamento ) quantity * price\n",
    "df1_purchases.loc[:, 'gross_revenue'] = df1_purchases.loc[:,'quantity'] * df1_purchases.loc[:, 'unit_price']\n",
    "\n",
    "# Monetary (How much money a customer spends on purchases)\n",
    "df_monetary = df1_purchases.loc[:, ['customer_id', 'gross_revenue']].groupby( 'customer_id' ).sum().reset_index()\n",
    "df_ref = pd.merge( df_ref, df_monetary, on='customer_id', how='left' )\n",
    "df_ref.isna().sum()"
   ]
  },
  {
   "cell_type": "markdown",
   "id": "ideal-spencer",
   "metadata": {},
   "source": [
    "### Recency"
   ]
  },
  {
   "cell_type": "code",
   "execution_count": 25,
   "id": "minus-damage",
   "metadata": {
    "ExecuteTime": {
     "end_time": "2022-04-24T13:35:26.680885Z",
     "start_time": "2022-04-24T13:35:26.663152Z"
    },
    "scrolled": false
   },
   "outputs": [
    {
     "data": {
      "text/plain": [
       "customer_id       0\n",
       "gross_revenue    91\n",
       "recency_days     91\n",
       "dtype: int64"
      ]
     },
     "execution_count": 25,
     "metadata": {},
     "output_type": "execute_result"
    }
   ],
   "source": [
    "# Recency - Day from last purchase\n",
    "df_recency = df1_purchases.loc[:, ['customer_id', 'invoice_date']].groupby( 'customer_id' ).max().reset_index()\n",
    "df_recency['recency_days'] = ( df1['invoice_date'].max() - df_recency['invoice_date'] ).dt.days\n",
    "df_recency = df_recency[['customer_id', 'recency_days']].copy()\n",
    "\n",
    "df_ref = pd.merge( df_ref, df_recency, on='customer_id', how='left' )\n",
    "df_ref.isna().sum()"
   ]
  },
  {
   "cell_type": "markdown",
   "id": "51cca697",
   "metadata": {},
   "source": [
    "### Qty Invoice No"
   ]
  },
  {
   "cell_type": "code",
   "execution_count": 26,
   "id": "9b6d63d6",
   "metadata": {
    "ExecuteTime": {
     "end_time": "2022-04-24T13:35:26.728388Z",
     "start_time": "2022-04-24T13:35:26.682164Z"
    }
   },
   "outputs": [
    {
     "data": {
      "text/plain": [
       "customer_id        0\n",
       "gross_revenue     91\n",
       "recency_days      91\n",
       "qty_invoice_no    91\n",
       "dtype: int64"
      ]
     },
     "execution_count": 26,
     "metadata": {},
     "output_type": "execute_result"
    }
   ],
   "source": [
    "# Qty of invoice no per customer\n",
    "df_invoice_no = df1_purchases[['customer_id', 'invoice_no']].drop_duplicates().groupby('customer_id').count().reset_index().rename(columns = {'invoice_no': 'qty_invoice_no'})\n",
    "\n",
    "df_ref = pd.merge(df_ref, df_invoice_no, on = 'customer_id', how = 'left')\n",
    "df_ref.isna().sum()"
   ]
  },
  {
   "cell_type": "markdown",
   "id": "3d28ddbb",
   "metadata": {},
   "source": [
    "### Qty Items"
   ]
  },
  {
   "cell_type": "code",
   "execution_count": 27,
   "id": "bdb7c78b",
   "metadata": {
    "ExecuteTime": {
     "end_time": "2022-04-24T13:35:26.747518Z",
     "start_time": "2022-04-24T13:35:26.729315Z"
    }
   },
   "outputs": [
    {
     "data": {
      "text/plain": [
       "customer_id        0\n",
       "gross_revenue     91\n",
       "recency_days      91\n",
       "qty_invoice_no    91\n",
       "qty_items         91\n",
       "dtype: int64"
      ]
     },
     "execution_count": 27,
     "metadata": {},
     "output_type": "execute_result"
    }
   ],
   "source": [
    "# Quantity of items purchased by customer\n",
    "df_freq = (df1_purchases.loc[:, ['customer_id', 'quantity']].groupby( 'customer_id' ).sum()\n",
    "                                                           .reset_index()\n",
    "                                                           .rename( columns={'quantity': 'qty_items'} ) )\n",
    "df_ref = pd.merge( df_ref, df_freq, on='customer_id', how='left' )\n",
    "df_ref.isna().sum()"
   ]
  },
  {
   "cell_type": "markdown",
   "id": "according-pittsburgh",
   "metadata": {},
   "source": [
    "### Qty Products  (different stock codes by customer)"
   ]
  },
  {
   "cell_type": "code",
   "execution_count": 28,
   "id": "understanding-syria",
   "metadata": {
    "ExecuteTime": {
     "end_time": "2022-04-24T13:35:26.817158Z",
     "start_time": "2022-04-24T13:35:26.750862Z"
    }
   },
   "outputs": [
    {
     "data": {
      "text/plain": [
       "customer_id        0\n",
       "gross_revenue     91\n",
       "recency_days      91\n",
       "qty_invoice_no    91\n",
       "qty_items         91\n",
       "qty_products      91\n",
       "dtype: int64"
      ]
     },
     "execution_count": 28,
     "metadata": {},
     "output_type": "execute_result"
    }
   ],
   "source": [
    "# Quantity of unique products purchased (Frequency: qntd of products over time)\n",
    "\n",
    "# Number of products (different stock codes by customer)\n",
    "df_freq = (df1_purchases.loc[:, ['customer_id', 'stock_code']].groupby( 'customer_id' ).count()\n",
    "                                                           .reset_index()\n",
    "                                                           .rename( columns={'stock_code': 'qty_products'} ) )\n",
    "df_ref = pd.merge( df_ref, df_freq, on='customer_id', how='left' )\n",
    "df_ref.isna().sum()"
   ]
  },
  {
   "cell_type": "markdown",
   "id": "nuclear-virgin",
   "metadata": {},
   "source": [
    "### Frequency"
   ]
  },
  {
   "cell_type": "code",
   "execution_count": 29,
   "id": "convenient-contents",
   "metadata": {
    "ExecuteTime": {
     "end_time": "2022-04-24T13:35:27.754964Z",
     "start_time": "2022-04-24T13:35:26.818125Z"
    }
   },
   "outputs": [
    {
     "data": {
      "text/plain": [
       "customer_id        0\n",
       "gross_revenue     91\n",
       "recency_days      91\n",
       "qty_invoice_no    91\n",
       "qty_items         91\n",
       "qty_products      91\n",
       "frequency         91\n",
       "dtype: int64"
      ]
     },
     "execution_count": 29,
     "metadata": {},
     "output_type": "execute_result"
    }
   ],
   "source": [
    "#Frequency Purchase (rate: purchases by day)\n",
    "df_aux = ( df1_purchases[['customer_id', 'invoice_no', 'invoice_date']].drop_duplicates()\n",
    "                                                             .groupby( 'customer_id')\n",
    "                                                             .agg( max_ = ( 'invoice_date', 'max' ), \n",
    "                                                                   min_ = ( 'invoice_date', 'min' ),\n",
    "                                                                   days_= ( 'invoice_date', lambda x: ( ( x.max() - x.min() ).days ) + 1 ),\n",
    "                                                                   buy_ = ( 'invoice_no', 'count' ) ) ).reset_index()\n",
    "# Frequency\n",
    "df_aux['frequency'] = df_aux[['buy_', 'days_']].apply( lambda x: x['buy_'] / x['days_'] if  x['days_'] != 0 else 0, axis=1 )\n",
    "\n",
    "# Merge\n",
    "df_ref = pd.merge( df_ref, df_aux[['customer_id', 'frequency']], on='customer_id', how='left' )\n",
    "df_ref.isna().sum()"
   ]
  },
  {
   "cell_type": "markdown",
   "id": "improving-species",
   "metadata": {},
   "source": [
    "### Number of Returns"
   ]
  },
  {
   "cell_type": "code",
   "execution_count": 30,
   "id": "aquatic-symbol",
   "metadata": {
    "ExecuteTime": {
     "end_time": "2022-04-24T13:35:27.768512Z",
     "start_time": "2022-04-24T13:35:27.756253Z"
    },
    "scrolled": true
   },
   "outputs": [
    {
     "data": {
      "text/plain": [
       "customer_id        0\n",
       "gross_revenue     91\n",
       "recency_days      91\n",
       "qty_invoice_no    91\n",
       "qty_items         91\n",
       "qty_products      91\n",
       "frequency         91\n",
       "qty_returns        0\n",
       "dtype: int64"
      ]
     },
     "execution_count": 30,
     "metadata": {},
     "output_type": "execute_result"
    }
   ],
   "source": [
    "#Number of Returns\n",
    "df_returns = df1_returns[['customer_id', 'quantity']].groupby( 'customer_id' ).sum().reset_index().rename( columns={'quantity':'qty_returns'} )\n",
    "df_returns['qty_returns'] = df_returns['qty_returns'] * -1\n",
    "\n",
    "df_ref = pd.merge( df_ref, df_returns, how='left', on='customer_id' )\n",
    "df_ref.loc[df_ref['qty_returns'].isna(), 'qty_returns'] = 0 #customers with 0 returned items\n",
    "\n",
    "df_ref.isna().sum()"
   ]
  },
  {
   "cell_type": "markdown",
   "id": "collaborative-baker",
   "metadata": {},
   "source": [
    "# EXPLORATORY DATA ANALYSIS (EDA)"
   ]
  },
  {
   "cell_type": "code",
   "execution_count": 31,
   "id": "roman-spice",
   "metadata": {
    "ExecuteTime": {
     "end_time": "2022-04-24T13:35:27.781176Z",
     "start_time": "2022-04-24T13:35:27.769798Z"
    }
   },
   "outputs": [],
   "source": [
    "df3 = df_ref.dropna().copy()"
   ]
  },
  {
   "cell_type": "markdown",
   "id": "statistical-vietnamese",
   "metadata": {},
   "source": [
    "## Space Study"
   ]
  },
  {
   "cell_type": "code",
   "execution_count": 32,
   "id": "growing-platform",
   "metadata": {
    "ExecuteTime": {
     "end_time": "2022-04-24T13:35:27.786114Z",
     "start_time": "2022-04-24T13:35:27.782469Z"
    }
   },
   "outputs": [],
   "source": [
    "# Original dataset\n",
    "#df33 = df3.drop(columns = ['customer_id'], axis = '').copy()\n",
    "\n",
    "# dataset with selected columns due feature selection based on its importance\n",
    "cols_selected = ['customer_id', 'gross_revenue', 'recency_days', 'qty_invoice_no', 'qty_items' ,'qty_products', 'frequency', 'qty_returns']\n",
    "df33 = df3[cols_selected].drop(columns = 'customer_id', axis = 1)"
   ]
  },
  {
   "cell_type": "code",
   "execution_count": 33,
   "id": "changing-revelation",
   "metadata": {
    "ExecuteTime": {
     "end_time": "2022-04-24T13:35:30.956176Z",
     "start_time": "2022-04-24T13:35:27.787960Z"
    }
   },
   "outputs": [],
   "source": [
    "mm = pp.MinMaxScaler()\n",
    "fs = s3fs.S3FileSystem(anon = False, key = AWS_ACCESS_KEY_ID, secret = AWS_SECRET_ACCESS_KEY)\n",
    "\n",
    "# gross_revenue_scaler  = pickle.load(open('../features/gross_revenue_scaler.pkl', 'rb')) #reading from local\n",
    "gross_revenue_scaler  = pickle.load(fs.open('s3://mc-insiders-dataset/gross_revenue_scaler.pkl', 'rb')) #reading from S3\n",
    "df33['gross_revenue'] = gross_revenue_scaler.transform(df33[['gross_revenue']])\n",
    "\n",
    "# recency_days_scaler   = pickle.load(open('../features/recency_days_scaler.pkl', 'rb'))\n",
    "recency_days_scaler   = pickle.load(fs.open('s3://mc-insiders-dataset/recency_days_scaler.pkl', 'rb')) #reading from S3\n",
    "df33['recency_days']  = recency_days_scaler.transform(df33[['recency_days']])\n",
    "\n",
    "# qty_invoice_no_scaler = pickle.load(open('../features/qty_invoice_no_scaler.pkl', 'rb')) #reading from local\n",
    "qty_invoice_no_scaler   = pickle.load(fs.open('s3://mc-insiders-dataset/qty_invoice_no_scaler.pkl', 'rb')) #reading from S3\n",
    "df33['qty_invoice_no']  = qty_invoice_no_scaler.transform(df33[['qty_invoice_no']])\n",
    "\n",
    "# qty_items_scaler = pickle.load(open('../features/qty_items_scaler.pkl', 'rb')) #reading from local\n",
    "qty_items_scaler   = pickle.load(fs.open('s3://mc-insiders-dataset/qty_items_scaler.pkl', 'rb')) #reading from S3\n",
    "df33['qty_items']  = qty_items_scaler.fit_transform(df33[['qty_items']])\n",
    "\n",
    "# qty_products_scaler   = pickle.load(open('../features/qty_products_scaler.pkl', 'rb'))\n",
    "qty_products_scaler   = pickle.load(fs.open('s3://mc-insiders-dataset/qty_products_scaler.pkl', 'rb')) #reading from S3\n",
    "df33['qty_products']  = qty_products_scaler.transform(df33[['qty_products']])\n",
    "\n",
    "# frequency_scaler      = pickle.load(open('../features/frequency_scaler.pkl', 'rb'))\n",
    "frequency_scaler      = pickle.load(fs.open('s3://mc-insiders-dataset/frequency_scaler.pkl', 'rb')) #reading from S3\n",
    "df33['frequency']     = frequency_scaler.transform(df33[['frequency']])\n",
    "\n",
    "# qty_returns_scaler    = pickle.load(open('../features/qty_returns_scaler.pkl', 'rb'))\n",
    "qty_returns_scaler    = pickle.load(fs.open('s3://mc-insiders-dataset/qty_returns_scaler.pkl', 'rb')) #reading from S3\n",
    "df33['qty_returns']   = qty_returns_scaler.transform(df33[['qty_returns']])"
   ]
  },
  {
   "cell_type": "markdown",
   "id": "substantial-inquiry",
   "metadata": {},
   "source": [
    "#### Tree-Based Embedding"
   ]
  },
  {
   "cell_type": "code",
   "execution_count": 34,
   "id": "connected-wonder",
   "metadata": {
    "ExecuteTime": {
     "end_time": "2022-04-24T13:35:48.509348Z",
     "start_time": "2022-04-24T13:35:30.960007Z"
    }
   },
   "outputs": [],
   "source": [
    "# training dataset \n",
    "X = df33.drop(columns = ['gross_revenue'], axis = 1) #target variable\n",
    "y = df33['gross_revenue']\n",
    "\n",
    "# # model definition\n",
    "# rf_model = en.RandomForestRegressor(n_estimators = 100, random_state = 42)\n",
    "\n",
    "# # model training\n",
    "# rf_model.fit(X,y)\n",
    "\n",
    "# rf_model = pickle.load(open('../models/rf_model.pkl', 'rb')) \n",
    "rf_model = pickle.load(fs.open('s3://mc-insiders-dataset/rf_model.pkl', 'rb'))\n",
    "\n",
    "# leaf\n",
    "df_leaf = pd.DataFrame(rf_model.apply( X ))  # X will be the new clients that entered the base"
   ]
  },
  {
   "cell_type": "code",
   "execution_count": 35,
   "id": "fleet-ozone",
   "metadata": {
    "ExecuteTime": {
     "end_time": "2022-04-24T13:35:54.951755Z",
     "start_time": "2022-04-24T13:35:48.510909Z"
    },
    "scrolled": true
   },
   "outputs": [
    {
     "data": {
      "image/png": "[encoded data removed]",
      "text/plain": [
       "<Figure size 432x288 with 1 Axes>"
      ]
     },
     "metadata": {
      "needs_background": "light"
     },
     "output_type": "display_data"
    }
   ],
   "source": [
    "# using UMAP to reduce the space study from 100 to 2\n",
    "# reducer = umap.UMAP(random_state = 42)\n",
    "# embedding = reducer.fit_transform(df_leaf) #gera o espaço projetado - embedding é a projeção gerada em outro espaço\n",
    "\n",
    "# reducer = pickle.load(open('../features/umap_reducer.pkl', 'rb'))\n",
    "reducer = pickle.load(fs.open('s3://mc-insiders-dataset/umap_reducer.pkl', 'rb'))\n",
    "embedding = reducer.transform(df_leaf)\n",
    "\n",
    "#embedding\n",
    "df_tree = pd.DataFrame()\n",
    "df_tree['embedding_X'] = embedding[:, 0]\n",
    "df_tree['embedding_y'] = embedding[:, 1]\n",
    "\n",
    "#plot UMAP - cluster projetado de alta dimencionalidade\n",
    "sns.scatterplot(x = 'embedding_X', y = 'embedding_y',\n",
    "                data = df_tree);"
   ]
  },
  {
   "cell_type": "markdown",
   "id": "distributed-rebate",
   "metadata": {},
   "source": [
    "# DATA PREPARATION"
   ]
  },
  {
   "cell_type": "code",
   "execution_count": 36,
   "id": "single-camera",
   "metadata": {
    "ExecuteTime": {
     "end_time": "2022-04-24T13:35:54.955549Z",
     "start_time": "2022-04-24T13:35:54.953060Z"
    }
   },
   "outputs": [],
   "source": [
    "# Tree-Based Embbeding\n",
    "df4 = df_tree.copy()\n",
    "\n",
    "# # UMAP Embbeding\n",
    "# df4 = df_umap.copy()\n",
    "\n",
    "# # TSNE Embedding\n",
    "# df4 = df_tsne.copy()"
   ]
  },
  {
   "cell_type": "markdown",
   "id": "decimal-editing",
   "metadata": {},
   "source": [
    "# HYPERPARAMETER FINE-TUNNING"
   ]
  },
  {
   "cell_type": "code",
   "execution_count": 37,
   "id": "herbal-internet",
   "metadata": {
    "ExecuteTime": {
     "end_time": "2022-04-24T13:35:54.964294Z",
     "start_time": "2022-04-24T13:35:54.956710Z"
    }
   },
   "outputs": [],
   "source": [
    "X = df4.copy()"
   ]
  },
  {
   "cell_type": "code",
   "execution_count": 38,
   "id": "elect-looking",
   "metadata": {
    "ExecuteTime": {
     "end_time": "2022-04-24T13:35:54.970966Z",
     "start_time": "2022-04-24T13:35:54.965886Z"
    },
    "scrolled": true
   },
   "outputs": [
    {
     "data": {
      "text/html": [
       "<div>\n",
       "<style scoped>\n",
       "    .dataframe tbody tr th:only-of-type {\n",
       "        vertical-align: middle;\n",
       "    }\n",
       "\n",
       "    .dataframe tbody tr th {\n",
       "        vertical-align: top;\n",
       "    }\n",
       "\n",
       "    .dataframe thead th {\n",
       "        text-align: right;\n",
       "    }\n",
       "</style>\n",
       "<table border=\"1\" class=\"dataframe\">\n",
       "  <thead>\n",
       "    <tr style=\"text-align: right;\">\n",
       "      <th></th>\n",
       "      <th>embedding_X</th>\n",
       "      <th>embedding_y</th>\n",
       "    </tr>\n",
       "  </thead>\n",
       "  <tbody>\n",
       "    <tr>\n",
       "      <th>0</th>\n",
       "      <td>5.217471</td>\n",
       "      <td>9.462402</td>\n",
       "    </tr>\n",
       "    <tr>\n",
       "      <th>1</th>\n",
       "      <td>3.348260</td>\n",
       "      <td>8.671559</td>\n",
       "    </tr>\n",
       "    <tr>\n",
       "      <th>2</th>\n",
       "      <td>-0.171162</td>\n",
       "      <td>20.161715</td>\n",
       "    </tr>\n",
       "    <tr>\n",
       "      <th>3</th>\n",
       "      <td>8.738938</td>\n",
       "      <td>-8.936374</td>\n",
       "    </tr>\n",
       "    <tr>\n",
       "      <th>4</th>\n",
       "      <td>19.068232</td>\n",
       "      <td>9.256424</td>\n",
       "    </tr>\n",
       "  </tbody>\n",
       "</table>\n",
       "</div>"
      ],
      "text/plain": [
       "   embedding_X  embedding_y\n",
       "0     5.217471     9.462402\n",
       "1     3.348260     8.671559\n",
       "2    -0.171162    20.161715\n",
       "3     8.738938    -8.936374\n",
       "4    19.068232     9.256424"
      ]
     },
     "execution_count": 38,
     "metadata": {},
     "output_type": "execute_result"
    }
   ],
   "source": [
    "X.head()"
   ]
  },
  {
   "cell_type": "code",
   "execution_count": 39,
   "id": "missing-scholar",
   "metadata": {
    "ExecuteTime": {
     "end_time": "2022-04-24T13:35:54.978564Z",
     "start_time": "2022-04-24T13:35:54.971978Z"
    }
   },
   "outputs": [
    {
     "data": {
      "text/plain": [
       "array([ 2,  3,  4,  5,  6,  7,  8,  9, 10, 11, 12, 13, 14, 15, 16, 17, 18,\n",
       "       19, 20, 21, 22, 23, 24, 25, 26, 27, 28, 29, 30])"
      ]
     },
     "execution_count": 39,
     "metadata": {},
     "output_type": "execute_result"
    }
   ],
   "source": [
    "clusters = np.arange(2, 31, 1) #silhouette was increasing, so we put more k points\n",
    "clusters"
   ]
  },
  {
   "cell_type": "markdown",
   "id": "tired-sword",
   "metadata": {},
   "source": [
    "## K-Means"
   ]
  },
  {
   "cell_type": "code",
   "execution_count": 40,
   "id": "excited-registrar",
   "metadata": {
    "ExecuteTime": {
     "end_time": "2022-04-24T13:36:45.804291Z",
     "start_time": "2022-04-24T13:35:54.979761Z"
    }
   },
   "outputs": [],
   "source": [
    "kmeans_sil = []\n",
    "\n",
    "for k in clusters:\n",
    "    # model definition\n",
    "    kmeans_model = c.KMeans( n_clusters = k, n_init = 100, random_state = 42 )\n",
    "\n",
    "    # model training\n",
    "    kmeans_model.fit(X)\n",
    "\n",
    "    # model predict\n",
    "    labels = kmeans_model.predict(X)\n",
    "\n",
    "    # model performance\n",
    "    sil = m.silhouette_score( X, labels, metric = 'euclidean')\n",
    "    kmeans_sil.append(sil)  "
   ]
  },
  {
   "cell_type": "code",
   "execution_count": 41,
   "id": "stainless-stationery",
   "metadata": {
    "ExecuteTime": {
     "end_time": "2022-04-24T13:36:45.919954Z",
     "start_time": "2022-04-24T13:36:45.805695Z"
    }
   },
   "outputs": [
    {
     "data": {
      "image/png": "[encoded data removed]",
      "text/plain": [
       "<Figure size 432x288 with 1 Axes>"
      ]
     },
     "metadata": {
      "needs_background": "light"
     },
     "output_type": "display_data"
    }
   ],
   "source": [
    "plt.plot( clusters, kmeans_sil, linestyle = '--', marker = 'o', color = 'b' )\n",
    "plt.xlabel( 'K' );\n",
    "plt.ylabel('Silhouette Score');\n",
    "plt.title('KMeans Silhouette Score per K ');"
   ]
  },
  {
   "cell_type": "markdown",
   "id": "korean-black",
   "metadata": {},
   "source": [
    "## GMM"
   ]
  },
  {
   "cell_type": "code",
   "execution_count": 42,
   "id": "intelligent-confirmation",
   "metadata": {
    "ExecuteTime": {
     "end_time": "2022-04-24T13:46:45.075723Z",
     "start_time": "2022-04-24T13:36:45.921335Z"
    }
   },
   "outputs": [],
   "source": [
    "gmm_sil = []\n",
    "for k in clusters:\n",
    "    # model definition\n",
    "    gmm_model = mx.GaussianMixture(n_components = k, n_init = 100, random_state = 42)\n",
    "    \n",
    "    # model training\n",
    "    \n",
    "    gmm_model.fit(X)\n",
    "    \n",
    "    # model prediction\n",
    "    \n",
    "    labels = gmm_model.predict(X)\n",
    "    \n",
    "    # model performance\n",
    "    sil = m.silhouette_score(X, labels, metric = 'euclidean')\n",
    "    gmm_sil.append(sil)"
   ]
  },
  {
   "cell_type": "code",
   "execution_count": 43,
   "id": "unusual-landing",
   "metadata": {
    "ExecuteTime": {
     "end_time": "2022-04-24T13:46:45.177273Z",
     "start_time": "2022-04-24T13:46:45.076909Z"
    }
   },
   "outputs": [
    {
     "data": {
      "image/png": "[encoded data removed]",
      "text/plain": [
       "<Figure size 432x288 with 1 Axes>"
      ]
     },
     "metadata": {
      "needs_background": "light"
     },
     "output_type": "display_data"
    }
   ],
   "source": [
    "plt.plot(clusters, gmm_sil, linestyle = '--', marker = 'o', color = 'b')\n",
    "plt.xlabel( 'K' );\n",
    "plt.ylabel('Silhouette Score');\n",
    "plt.title('GMM Silhouette Score per K ');"
   ]
  },
  {
   "cell_type": "markdown",
   "id": "contrary-casino",
   "metadata": {},
   "source": [
    "## Hierarchical Clustering"
   ]
  },
  {
   "cell_type": "code",
   "execution_count": 44,
   "id": "incorrect-still",
   "metadata": {
    "ExecuteTime": {
     "end_time": "2022-04-24T13:46:45.883474Z",
     "start_time": "2022-04-24T13:46:45.179060Z"
    }
   },
   "outputs": [],
   "source": [
    "# model definition and training\n",
    "hc_model = hc.linkage(X, 'ward')"
   ]
  },
  {
   "cell_type": "markdown",
   "id": "lined-selection",
   "metadata": {},
   "source": [
    "### H-Clustering Silhouette Score"
   ]
  },
  {
   "cell_type": "code",
   "execution_count": 45,
   "id": "wound-hopkins",
   "metadata": {
    "ExecuteTime": {
     "end_time": "2022-04-24T13:47:17.504439Z",
     "start_time": "2022-04-24T13:46:45.884611Z"
    },
    "code_folding": []
   },
   "outputs": [],
   "source": [
    "hc_sil = []\n",
    "for k in clusters:\n",
    "    #model definition and training\n",
    "    hc_model = hc.linkage(X, 'ward')\n",
    "\n",
    "    # model predict\n",
    "    labels = hc.fcluster(hc_model, k, criterion = 'maxclust')\n",
    "\n",
    "    # metrics\n",
    "    sil = m.silhouette_score(X, labels, metric = 'euclidean')\n",
    "    hc_sil.append(sil)"
   ]
  },
  {
   "cell_type": "code",
   "execution_count": 46,
   "id": "modified-sapphire",
   "metadata": {
    "ExecuteTime": {
     "end_time": "2022-04-24T13:47:17.600652Z",
     "start_time": "2022-04-24T13:47:17.505663Z"
    }
   },
   "outputs": [
    {
     "data": {
      "text/plain": [
       "[<matplotlib.lines.Line2D at 0x7f78b4677c10>]"
      ]
     },
     "execution_count": 46,
     "metadata": {},
     "output_type": "execute_result"
    },
    {
     "data": {
      "image/png": "[encoded data removed]",
      "text/plain": [
       "<Figure size 432x288 with 1 Axes>"
      ]
     },
     "metadata": {
      "needs_background": "light"
     },
     "output_type": "display_data"
    }
   ],
   "source": [
    "plt.plot(clusters, hc_sil, linestyle = '--', marker = 'o', color = 'b')"
   ]
  },
  {
   "cell_type": "markdown",
   "id": "joined-eclipse",
   "metadata": {},
   "source": [
    "## Results"
   ]
  },
  {
   "cell_type": "code",
   "execution_count": 47,
   "id": "multiple-intro",
   "metadata": {
    "ExecuteTime": {
     "end_time": "2022-04-24T13:47:17.726375Z",
     "start_time": "2022-04-24T13:47:17.602401Z"
    },
    "cell_style": "center",
    "scrolled": true
   },
   "outputs": [
    {
     "data": {
      "text/html": [
       "<style type=\"text/css\">\n",
       "#T_5595c_row0_col27, #T_5595c_row1_col27, #T_5595c_row2_col26 {\n",
       "  background-color: lightgreen;\n",
       "}\n",
       "</style>\n",
       "<table id=\"T_5595c\">\n",
       "  <thead>\n",
       "    <tr>\n",
       "      <th class=\"blank level0\" >&nbsp;</th>\n",
       "      <th id=\"T_5595c_level0_col0\" class=\"col_heading level0 col0\" >2</th>\n",
       "      <th id=\"T_5595c_level0_col1\" class=\"col_heading level0 col1\" >3</th>\n",
       "      <th id=\"T_5595c_level0_col2\" class=\"col_heading level0 col2\" >4</th>\n",
       "      <th id=\"T_5595c_level0_col3\" class=\"col_heading level0 col3\" >5</th>\n",
       "      <th id=\"T_5595c_level0_col4\" class=\"col_heading level0 col4\" >6</th>\n",
       "      <th id=\"T_5595c_level0_col5\" class=\"col_heading level0 col5\" >7</th>\n",
       "      <th id=\"T_5595c_level0_col6\" class=\"col_heading level0 col6\" >8</th>\n",
       "      <th id=\"T_5595c_level0_col7\" class=\"col_heading level0 col7\" >9</th>\n",
       "      <th id=\"T_5595c_level0_col8\" class=\"col_heading level0 col8\" >10</th>\n",
       "      <th id=\"T_5595c_level0_col9\" class=\"col_heading level0 col9\" >11</th>\n",
       "      <th id=\"T_5595c_level0_col10\" class=\"col_heading level0 col10\" >12</th>\n",
       "      <th id=\"T_5595c_level0_col11\" class=\"col_heading level0 col11\" >13</th>\n",
       "      <th id=\"T_5595c_level0_col12\" class=\"col_heading level0 col12\" >14</th>\n",
       "      <th id=\"T_5595c_level0_col13\" class=\"col_heading level0 col13\" >15</th>\n",
       "      <th id=\"T_5595c_level0_col14\" class=\"col_heading level0 col14\" >16</th>\n",
       "      <th id=\"T_5595c_level0_col15\" class=\"col_heading level0 col15\" >17</th>\n",
       "      <th id=\"T_5595c_level0_col16\" class=\"col_heading level0 col16\" >18</th>\n",
       "      <th id=\"T_5595c_level0_col17\" class=\"col_heading level0 col17\" >19</th>\n",
       "      <th id=\"T_5595c_level0_col18\" class=\"col_heading level0 col18\" >20</th>\n",
       "      <th id=\"T_5595c_level0_col19\" class=\"col_heading level0 col19\" >21</th>\n",
       "      <th id=\"T_5595c_level0_col20\" class=\"col_heading level0 col20\" >22</th>\n",
       "      <th id=\"T_5595c_level0_col21\" class=\"col_heading level0 col21\" >23</th>\n",
       "      <th id=\"T_5595c_level0_col22\" class=\"col_heading level0 col22\" >24</th>\n",
       "      <th id=\"T_5595c_level0_col23\" class=\"col_heading level0 col23\" >25</th>\n",
       "      <th id=\"T_5595c_level0_col24\" class=\"col_heading level0 col24\" >26</th>\n",
       "      <th id=\"T_5595c_level0_col25\" class=\"col_heading level0 col25\" >27</th>\n",
       "      <th id=\"T_5595c_level0_col26\" class=\"col_heading level0 col26\" >28</th>\n",
       "      <th id=\"T_5595c_level0_col27\" class=\"col_heading level0 col27\" >29</th>\n",
       "      <th id=\"T_5595c_level0_col28\" class=\"col_heading level0 col28\" >30</th>\n",
       "    </tr>\n",
       "  </thead>\n",
       "  <tbody>\n",
       "    <tr>\n",
       "      <th id=\"T_5595c_level0_row0\" class=\"row_heading level0 row0\" >KMeans:</th>\n",
       "      <td id=\"T_5595c_row0_col0\" class=\"data row0 col0\" >0.382024</td>\n",
       "      <td id=\"T_5595c_row0_col1\" class=\"data row0 col1\" >0.437862</td>\n",
       "      <td id=\"T_5595c_row0_col2\" class=\"data row0 col2\" >0.441842</td>\n",
       "      <td id=\"T_5595c_row0_col3\" class=\"data row0 col3\" >0.468124</td>\n",
       "      <td id=\"T_5595c_row0_col4\" class=\"data row0 col4\" >0.491189</td>\n",
       "      <td id=\"T_5595c_row0_col5\" class=\"data row0 col5\" >0.516383</td>\n",
       "      <td id=\"T_5595c_row0_col6\" class=\"data row0 col6\" >0.511427</td>\n",
       "      <td id=\"T_5595c_row0_col7\" class=\"data row0 col7\" >0.522348</td>\n",
       "      <td id=\"T_5595c_row0_col8\" class=\"data row0 col8\" >0.529936</td>\n",
       "      <td id=\"T_5595c_row0_col9\" class=\"data row0 col9\" >0.525791</td>\n",
       "      <td id=\"T_5595c_row0_col10\" class=\"data row0 col10\" >0.521021</td>\n",
       "      <td id=\"T_5595c_row0_col11\" class=\"data row0 col11\" >0.525206</td>\n",
       "      <td id=\"T_5595c_row0_col12\" class=\"data row0 col12\" >0.514086</td>\n",
       "      <td id=\"T_5595c_row0_col13\" class=\"data row0 col13\" >0.526977</td>\n",
       "      <td id=\"T_5595c_row0_col14\" class=\"data row0 col14\" >0.539219</td>\n",
       "      <td id=\"T_5595c_row0_col15\" class=\"data row0 col15\" >0.551204</td>\n",
       "      <td id=\"T_5595c_row0_col16\" class=\"data row0 col16\" >0.542952</td>\n",
       "      <td id=\"T_5595c_row0_col17\" class=\"data row0 col17\" >0.547281</td>\n",
       "      <td id=\"T_5595c_row0_col18\" class=\"data row0 col18\" >0.556083</td>\n",
       "      <td id=\"T_5595c_row0_col19\" class=\"data row0 col19\" >0.564909</td>\n",
       "      <td id=\"T_5595c_row0_col20\" class=\"data row0 col20\" >0.568417</td>\n",
       "      <td id=\"T_5595c_row0_col21\" class=\"data row0 col21\" >0.581803</td>\n",
       "      <td id=\"T_5595c_row0_col22\" class=\"data row0 col22\" >0.584986</td>\n",
       "      <td id=\"T_5595c_row0_col23\" class=\"data row0 col23\" >0.592242</td>\n",
       "      <td id=\"T_5595c_row0_col24\" class=\"data row0 col24\" >0.585421</td>\n",
       "      <td id=\"T_5595c_row0_col25\" class=\"data row0 col25\" >0.572000</td>\n",
       "      <td id=\"T_5595c_row0_col26\" class=\"data row0 col26\" >0.579310</td>\n",
       "      <td id=\"T_5595c_row0_col27\" class=\"data row0 col27\" >0.597869</td>\n",
       "      <td id=\"T_5595c_row0_col28\" class=\"data row0 col28\" >0.582951</td>\n",
       "    </tr>\n",
       "    <tr>\n",
       "      <th id=\"T_5595c_level0_row1\" class=\"row_heading level0 row1\" >GMM</th>\n",
       "      <td id=\"T_5595c_row1_col0\" class=\"data row1 col0\" >0.344133</td>\n",
       "      <td id=\"T_5595c_row1_col1\" class=\"data row1 col1\" >0.408239</td>\n",
       "      <td id=\"T_5595c_row1_col2\" class=\"data row1 col2\" >0.383221</td>\n",
       "      <td id=\"T_5595c_row1_col3\" class=\"data row1 col3\" >0.397906</td>\n",
       "      <td id=\"T_5595c_row1_col4\" class=\"data row1 col4\" >0.439133</td>\n",
       "      <td id=\"T_5595c_row1_col5\" class=\"data row1 col5\" >0.453193</td>\n",
       "      <td id=\"T_5595c_row1_col6\" class=\"data row1 col6\" >0.408371</td>\n",
       "      <td id=\"T_5595c_row1_col7\" class=\"data row1 col7\" >0.412431</td>\n",
       "      <td id=\"T_5595c_row1_col8\" class=\"data row1 col8\" >0.495997</td>\n",
       "      <td id=\"T_5595c_row1_col9\" class=\"data row1 col9\" >0.487362</td>\n",
       "      <td id=\"T_5595c_row1_col10\" class=\"data row1 col10\" >0.426587</td>\n",
       "      <td id=\"T_5595c_row1_col11\" class=\"data row1 col11\" >0.456332</td>\n",
       "      <td id=\"T_5595c_row1_col12\" class=\"data row1 col12\" >0.453063</td>\n",
       "      <td id=\"T_5595c_row1_col13\" class=\"data row1 col13\" >0.475974</td>\n",
       "      <td id=\"T_5595c_row1_col14\" class=\"data row1 col14\" >0.442685</td>\n",
       "      <td id=\"T_5595c_row1_col15\" class=\"data row1 col15\" >0.437730</td>\n",
       "      <td id=\"T_5595c_row1_col16\" class=\"data row1 col16\" >0.450556</td>\n",
       "      <td id=\"T_5595c_row1_col17\" class=\"data row1 col17\" >0.489890</td>\n",
       "      <td id=\"T_5595c_row1_col18\" class=\"data row1 col18\" >0.475667</td>\n",
       "      <td id=\"T_5595c_row1_col19\" class=\"data row1 col19\" >0.512089</td>\n",
       "      <td id=\"T_5595c_row1_col20\" class=\"data row1 col20\" >0.515198</td>\n",
       "      <td id=\"T_5595c_row1_col21\" class=\"data row1 col21\" >0.518774</td>\n",
       "      <td id=\"T_5595c_row1_col22\" class=\"data row1 col22\" >0.534382</td>\n",
       "      <td id=\"T_5595c_row1_col23\" class=\"data row1 col23\" >0.546374</td>\n",
       "      <td id=\"T_5595c_row1_col24\" class=\"data row1 col24\" >0.554246</td>\n",
       "      <td id=\"T_5595c_row1_col25\" class=\"data row1 col25\" >0.506184</td>\n",
       "      <td id=\"T_5595c_row1_col26\" class=\"data row1 col26\" >0.564443</td>\n",
       "      <td id=\"T_5595c_row1_col27\" class=\"data row1 col27\" >0.569910</td>\n",
       "      <td id=\"T_5595c_row1_col28\" class=\"data row1 col28\" >0.527885</td>\n",
       "    </tr>\n",
       "    <tr>\n",
       "      <th id=\"T_5595c_level0_row2\" class=\"row_heading level0 row2\" >HC</th>\n",
       "      <td id=\"T_5595c_row2_col0\" class=\"data row2 col0\" >0.380203</td>\n",
       "      <td id=\"T_5595c_row2_col1\" class=\"data row2 col1\" >0.403636</td>\n",
       "      <td id=\"T_5595c_row2_col2\" class=\"data row2 col2\" >0.443598</td>\n",
       "      <td id=\"T_5595c_row2_col3\" class=\"data row2 col3\" >0.450081</td>\n",
       "      <td id=\"T_5595c_row2_col4\" class=\"data row2 col4\" >0.474936</td>\n",
       "      <td id=\"T_5595c_row2_col5\" class=\"data row2 col5\" >0.483351</td>\n",
       "      <td id=\"T_5595c_row2_col6\" class=\"data row2 col6\" >0.472340</td>\n",
       "      <td id=\"T_5595c_row2_col7\" class=\"data row2 col7\" >0.484496</td>\n",
       "      <td id=\"T_5595c_row2_col8\" class=\"data row2 col8\" >0.511369</td>\n",
       "      <td id=\"T_5595c_row2_col9\" class=\"data row2 col9\" >0.522224</td>\n",
       "      <td id=\"T_5595c_row2_col10\" class=\"data row2 col10\" >0.509800</td>\n",
       "      <td id=\"T_5595c_row2_col11\" class=\"data row2 col11\" >0.493302</td>\n",
       "      <td id=\"T_5595c_row2_col12\" class=\"data row2 col12\" >0.500512</td>\n",
       "      <td id=\"T_5595c_row2_col13\" class=\"data row2 col13\" >0.518540</td>\n",
       "      <td id=\"T_5595c_row2_col14\" class=\"data row2 col14\" >0.530405</td>\n",
       "      <td id=\"T_5595c_row2_col15\" class=\"data row2 col15\" >0.540374</td>\n",
       "      <td id=\"T_5595c_row2_col16\" class=\"data row2 col16\" >0.546310</td>\n",
       "      <td id=\"T_5595c_row2_col17\" class=\"data row2 col17\" >0.551858</td>\n",
       "      <td id=\"T_5595c_row2_col18\" class=\"data row2 col18\" >0.562549</td>\n",
       "      <td id=\"T_5595c_row2_col19\" class=\"data row2 col19\" >0.552073</td>\n",
       "      <td id=\"T_5595c_row2_col20\" class=\"data row2 col20\" >0.557595</td>\n",
       "      <td id=\"T_5595c_row2_col21\" class=\"data row2 col21\" >0.570773</td>\n",
       "      <td id=\"T_5595c_row2_col22\" class=\"data row2 col22\" >0.569033</td>\n",
       "      <td id=\"T_5595c_row2_col23\" class=\"data row2 col23\" >0.574820</td>\n",
       "      <td id=\"T_5595c_row2_col24\" class=\"data row2 col24\" >0.580765</td>\n",
       "      <td id=\"T_5595c_row2_col25\" class=\"data row2 col25\" >0.587373</td>\n",
       "      <td id=\"T_5595c_row2_col26\" class=\"data row2 col26\" >0.593393</td>\n",
       "      <td id=\"T_5595c_row2_col27\" class=\"data row2 col27\" >0.576684</td>\n",
       "      <td id=\"T_5595c_row2_col28\" class=\"data row2 col28\" >0.584593</td>\n",
       "    </tr>\n",
       "  </tbody>\n",
       "</table>\n"
      ],
      "text/plain": [
       "<pandas.io.formats.style.Styler at 0x7f78b465e970>"
      ]
     },
     "execution_count": 47,
     "metadata": {},
     "output_type": "execute_result"
    }
   ],
   "source": [
    "## Results - Tree Based Embedding\n",
    "df_results = pd.DataFrame({'KMeans:': kmeans_sil,\n",
    "                           'GMM': gmm_sil,\n",
    "                           'HC': hc_sil}\n",
    "                           ).T\n",
    "\n",
    "df_results.columns = clusters\n",
    "df_results.style.highlight_max(color = 'lightgreen', axis = 1)"
   ]
  },
  {
   "cell_type": "markdown",
   "id": "electronic-release",
   "metadata": {},
   "source": [
    "# MACHINE LEARNING MODEL TRAINING"
   ]
  },
  {
   "cell_type": "code",
   "execution_count": 48,
   "id": "40eb2c73",
   "metadata": {
    "ExecuteTime": {
     "end_time": "2022-04-24T13:47:17.730655Z",
     "start_time": "2022-04-24T13:47:17.728529Z"
    }
   },
   "outputs": [],
   "source": [
    "# definition of the number of clusters K\n",
    "k = 9;"
   ]
  },
  {
   "cell_type": "markdown",
   "id": "stuffed-rally",
   "metadata": {},
   "source": [
    "## K-Means"
   ]
  },
  {
   "cell_type": "code",
   "execution_count": 49,
   "id": "recreational-talent",
   "metadata": {
    "ExecuteTime": {
     "end_time": "2022-04-24T13:47:17.733768Z",
     "start_time": "2022-04-24T13:47:17.731906Z"
    }
   },
   "outputs": [],
   "source": [
    "# # model definition\n",
    "# kmeans = c.KMeans(init = 'random', n_clusters = k, n_init = 100, max_iter = 300, random_state = 42)\n",
    "\n",
    "# # model training\n",
    "# kmeans.fit(X)\n",
    "\n",
    "# # clustering\n",
    "# labels = kmeans.labels_"
   ]
  },
  {
   "cell_type": "markdown",
   "id": "ddbf3dfa",
   "metadata": {},
   "source": [
    "## GMM"
   ]
  },
  {
   "cell_type": "code",
   "execution_count": 50,
   "id": "photographic-space",
   "metadata": {
    "ExecuteTime": {
     "end_time": "2022-04-24T13:47:24.029428Z",
     "start_time": "2022-04-24T13:47:17.735088Z"
    }
   },
   "outputs": [],
   "source": [
    "# trying with GMM beacuse of its approach in the embedding space\n",
    "\n",
    "# model definition\n",
    "gmm_model = mx.GaussianMixture(n_components = k,n_init = 50, max_iter = 300 ,random_state=42)\n",
    "\n",
    "# model training\n",
    "gmm_model.fit(X)\n",
    "\n",
    "# model prediction\n",
    "labels = gmm_model.predict(X)"
   ]
  },
  {
   "cell_type": "markdown",
   "id": "veterinary-oxford",
   "metadata": {},
   "source": [
    "## Cluster Validation"
   ]
  },
  {
   "cell_type": "code",
   "execution_count": 51,
   "id": "recovered-algorithm",
   "metadata": {
    "ExecuteTime": {
     "end_time": "2022-04-24T13:47:24.598387Z",
     "start_time": "2022-04-24T13:47:24.030564Z"
    }
   },
   "outputs": [
    {
     "name": "stdout",
     "output_type": "stream",
     "text": [
      "SS score: 0.4598197638988495\n"
     ]
    }
   ],
   "source": [
    "# WSS (Within-cluster Sum of Square )\n",
    "# print('WSS score: {}'.format(kmeans.inertia_))\n",
    "\n",
    "# SS (Silhouette Score)\n",
    "print('SS score: {}'.format(m.silhouette_score(X, labels, metric = 'euclidean')))"
   ]
  },
  {
   "cell_type": "markdown",
   "id": "frequent-brooklyn",
   "metadata": {},
   "source": [
    "# CLUSTER ANALYSIS"
   ]
  },
  {
   "cell_type": "code",
   "execution_count": 52,
   "id": "2f06adc5",
   "metadata": {
    "ExecuteTime": {
     "end_time": "2022-04-24T13:47:24.602337Z",
     "start_time": "2022-04-24T13:47:24.599528Z"
    }
   },
   "outputs": [],
   "source": [
    "df9 = X.copy()\n",
    "df9['cluster'] = labels"
   ]
  },
  {
   "cell_type": "markdown",
   "id": "metric-genetics",
   "metadata": {},
   "source": [
    "## Visualization Inspection"
   ]
  },
  {
   "cell_type": "code",
   "execution_count": 53,
   "id": "2e4876a0",
   "metadata": {
    "ExecuteTime": {
     "end_time": "2022-04-24T13:47:25.106374Z",
     "start_time": "2022-04-24T13:47:24.603642Z"
    }
   },
   "outputs": [
    {
     "data": {
      "text/plain": [
       "<AxesSubplot:xlabel='embedding_X', ylabel='embedding_y'>"
      ]
     },
     "execution_count": 53,
     "metadata": {},
     "output_type": "execute_result"
    },
    {
     "data": {
      "image/png": "[encoded data removed]",
      "text/plain": [
       "<Figure size 432x288 with 1 Axes>"
      ]
     },
     "metadata": {
      "needs_background": "light"
     },
     "output_type": "display_data"
    }
   ],
   "source": [
    "# k = 9 for  KMeans\n",
    "sns.scatterplot(x = 'embedding_X', y = 'embedding_y', hue = 'cluster', data = df9, palette = 'deep')"
   ]
  },
  {
   "cell_type": "markdown",
   "id": "herbal-theology",
   "metadata": {},
   "source": [
    "## Cluster Profile"
   ]
  },
  {
   "cell_type": "code",
   "execution_count": 54,
   "id": "dental-nickname",
   "metadata": {
    "ExecuteTime": {
     "end_time": "2022-04-24T13:47:25.121129Z",
     "start_time": "2022-04-24T13:47:25.107874Z"
    }
   },
   "outputs": [
    {
     "data": {
      "text/html": [
       "<div>\n",
       "<style scoped>\n",
       "    .dataframe tbody tr th:only-of-type {\n",
       "        vertical-align: middle;\n",
       "    }\n",
       "\n",
       "    .dataframe tbody tr th {\n",
       "        vertical-align: top;\n",
       "    }\n",
       "\n",
       "    .dataframe thead th {\n",
       "        text-align: right;\n",
       "    }\n",
       "</style>\n",
       "<table border=\"1\" class=\"dataframe\">\n",
       "  <thead>\n",
       "    <tr style=\"text-align: right;\">\n",
       "      <th></th>\n",
       "      <th>customer_id</th>\n",
       "      <th>gross_revenue</th>\n",
       "      <th>recency_days</th>\n",
       "      <th>qty_invoice_no</th>\n",
       "      <th>qty_items</th>\n",
       "      <th>qty_products</th>\n",
       "      <th>frequency</th>\n",
       "      <th>qty_returns</th>\n",
       "      <th>cluster</th>\n",
       "    </tr>\n",
       "  </thead>\n",
       "  <tbody>\n",
       "    <tr>\n",
       "      <th>0</th>\n",
       "      <td>17850</td>\n",
       "      <td>5391.21</td>\n",
       "      <td>372.0</td>\n",
       "      <td>34.0</td>\n",
       "      <td>1733.0</td>\n",
       "      <td>297.0</td>\n",
       "      <td>17.000000</td>\n",
       "      <td>40.0</td>\n",
       "      <td>4</td>\n",
       "    </tr>\n",
       "    <tr>\n",
       "      <th>1</th>\n",
       "      <td>13047</td>\n",
       "      <td>3232.59</td>\n",
       "      <td>56.0</td>\n",
       "      <td>9.0</td>\n",
       "      <td>1390.0</td>\n",
       "      <td>171.0</td>\n",
       "      <td>0.028302</td>\n",
       "      <td>35.0</td>\n",
       "      <td>4</td>\n",
       "    </tr>\n",
       "    <tr>\n",
       "      <th>2</th>\n",
       "      <td>12583</td>\n",
       "      <td>6705.38</td>\n",
       "      <td>2.0</td>\n",
       "      <td>15.0</td>\n",
       "      <td>5028.0</td>\n",
       "      <td>232.0</td>\n",
       "      <td>0.040323</td>\n",
       "      <td>50.0</td>\n",
       "      <td>6</td>\n",
       "    </tr>\n",
       "    <tr>\n",
       "      <th>3</th>\n",
       "      <td>13748</td>\n",
       "      <td>948.25</td>\n",
       "      <td>95.0</td>\n",
       "      <td>5.0</td>\n",
       "      <td>439.0</td>\n",
       "      <td>28.0</td>\n",
       "      <td>0.017921</td>\n",
       "      <td>0.0</td>\n",
       "      <td>2</td>\n",
       "    </tr>\n",
       "    <tr>\n",
       "      <th>4</th>\n",
       "      <td>15100</td>\n",
       "      <td>876.00</td>\n",
       "      <td>333.0</td>\n",
       "      <td>3.0</td>\n",
       "      <td>80.0</td>\n",
       "      <td>3.0</td>\n",
       "      <td>0.073171</td>\n",
       "      <td>22.0</td>\n",
       "      <td>0</td>\n",
       "    </tr>\n",
       "  </tbody>\n",
       "</table>\n",
       "</div>"
      ],
      "text/plain": [
       "   customer_id  gross_revenue  recency_days  qty_invoice_no  qty_items  \\\n",
       "0        17850        5391.21         372.0            34.0     1733.0   \n",
       "1        13047        3232.59          56.0             9.0     1390.0   \n",
       "2        12583        6705.38           2.0            15.0     5028.0   \n",
       "3        13748         948.25          95.0             5.0      439.0   \n",
       "4        15100         876.00         333.0             3.0       80.0   \n",
       "\n",
       "   qty_products  frequency  qty_returns  cluster  \n",
       "0         297.0  17.000000         40.0        4  \n",
       "1         171.0   0.028302         35.0        4  \n",
       "2         232.0   0.040323         50.0        6  \n",
       "3          28.0   0.017921          0.0        2  \n",
       "4           3.0   0.073171         22.0        0  "
      ]
     },
     "execution_count": 54,
     "metadata": {},
     "output_type": "execute_result"
    }
   ],
   "source": [
    "df92 = df3[cols_selected].copy()\n",
    "df92['cluster'] = labels\n",
    "df92.head()"
   ]
  },
  {
   "cell_type": "code",
   "execution_count": 55,
   "id": "organizational-hawaii",
   "metadata": {
    "ExecuteTime": {
     "end_time": "2022-04-24T13:47:25.175331Z",
     "start_time": "2022-04-24T13:47:25.122613Z"
    },
    "scrolled": true
   },
   "outputs": [
    {
     "data": {
      "text/html": [
       "<div>\n",
       "<style scoped>\n",
       "    .dataframe tbody tr th:only-of-type {\n",
       "        vertical-align: middle;\n",
       "    }\n",
       "\n",
       "    .dataframe tbody tr th {\n",
       "        vertical-align: top;\n",
       "    }\n",
       "\n",
       "    .dataframe thead th {\n",
       "        text-align: right;\n",
       "    }\n",
       "</style>\n",
       "<table border=\"1\" class=\"dataframe\">\n",
       "  <thead>\n",
       "    <tr style=\"text-align: right;\">\n",
       "      <th></th>\n",
       "      <th>cluster</th>\n",
       "      <th>qty_customers</th>\n",
       "      <th>perc_customer</th>\n",
       "      <th>gross_revenue</th>\n",
       "      <th>recency_days</th>\n",
       "      <th>qty_invoice_no</th>\n",
       "      <th>qty_items</th>\n",
       "      <th>qty_products</th>\n",
       "      <th>frequency</th>\n",
       "      <th>qty_returns</th>\n",
       "    </tr>\n",
       "  </thead>\n",
       "  <tbody>\n",
       "    <tr>\n",
       "      <th>6</th>\n",
       "      <td>6</td>\n",
       "      <td>492</td>\n",
       "      <td>8.642192</td>\n",
       "      <td>10932.727561</td>\n",
       "      <td>29.932927</td>\n",
       "      <td>14.853659</td>\n",
       "      <td>6429.219512</td>\n",
       "      <td>354.298780</td>\n",
       "      <td>0.114133</td>\n",
       "      <td>147.386179</td>\n",
       "    </tr>\n",
       "    <tr>\n",
       "      <th>4</th>\n",
       "      <td>4</td>\n",
       "      <td>441</td>\n",
       "      <td>7.746355</td>\n",
       "      <td>2846.196893</td>\n",
       "      <td>57.585034</td>\n",
       "      <td>5.879819</td>\n",
       "      <td>1562.013605</td>\n",
       "      <td>201.986395</td>\n",
       "      <td>0.219047</td>\n",
       "      <td>18.981859</td>\n",
       "    </tr>\n",
       "    <tr>\n",
       "      <th>1</th>\n",
       "      <td>1</td>\n",
       "      <td>801</td>\n",
       "      <td>14.069910</td>\n",
       "      <td>1762.174370</td>\n",
       "      <td>66.725343</td>\n",
       "      <td>4.078652</td>\n",
       "      <td>890.731586</td>\n",
       "      <td>121.353308</td>\n",
       "      <td>0.235948</td>\n",
       "      <td>14.742821</td>\n",
       "    </tr>\n",
       "    <tr>\n",
       "      <th>7</th>\n",
       "      <td>7</td>\n",
       "      <td>540</td>\n",
       "      <td>9.485333</td>\n",
       "      <td>1046.922870</td>\n",
       "      <td>96.105556</td>\n",
       "      <td>2.822222</td>\n",
       "      <td>482.085185</td>\n",
       "      <td>101.818519</td>\n",
       "      <td>0.370125</td>\n",
       "      <td>8.801852</td>\n",
       "    </tr>\n",
       "    <tr>\n",
       "      <th>2</th>\n",
       "      <td>2</td>\n",
       "      <td>1015</td>\n",
       "      <td>17.828913</td>\n",
       "      <td>770.024266</td>\n",
       "      <td>123.681773</td>\n",
       "      <td>1.887685</td>\n",
       "      <td>340.243350</td>\n",
       "      <td>61.985222</td>\n",
       "      <td>0.570043</td>\n",
       "      <td>3.222660</td>\n",
       "    </tr>\n",
       "    <tr>\n",
       "      <th>8</th>\n",
       "      <td>8</td>\n",
       "      <td>549</td>\n",
       "      <td>9.643422</td>\n",
       "      <td>440.091548</td>\n",
       "      <td>132.185792</td>\n",
       "      <td>1.721311</td>\n",
       "      <td>180.863388</td>\n",
       "      <td>44.990893</td>\n",
       "      <td>0.629429</td>\n",
       "      <td>1.670310</td>\n",
       "    </tr>\n",
       "    <tr>\n",
       "      <th>0</th>\n",
       "      <td>0</td>\n",
       "      <td>574</td>\n",
       "      <td>10.082558</td>\n",
       "      <td>278.275401</td>\n",
       "      <td>146.479094</td>\n",
       "      <td>1.461672</td>\n",
       "      <td>124.428571</td>\n",
       "      <td>12.996516</td>\n",
       "      <td>0.691504</td>\n",
       "      <td>2.341463</td>\n",
       "    </tr>\n",
       "    <tr>\n",
       "      <th>5</th>\n",
       "      <td>5</td>\n",
       "      <td>574</td>\n",
       "      <td>10.082558</td>\n",
       "      <td>272.509495</td>\n",
       "      <td>177.909408</td>\n",
       "      <td>1.113240</td>\n",
       "      <td>116.247387</td>\n",
       "      <td>21.947735</td>\n",
       "      <td>0.961863</td>\n",
       "      <td>1.329268</td>\n",
       "    </tr>\n",
       "    <tr>\n",
       "      <th>3</th>\n",
       "      <td>3</td>\n",
       "      <td>707</td>\n",
       "      <td>12.418760</td>\n",
       "      <td>52.769477</td>\n",
       "      <td>191.830269</td>\n",
       "      <td>1.038190</td>\n",
       "      <td>13.371994</td>\n",
       "      <td>5.879774</td>\n",
       "      <td>0.987351</td>\n",
       "      <td>0.079208</td>\n",
       "    </tr>\n",
       "  </tbody>\n",
       "</table>\n",
       "</div>"
      ],
      "text/plain": [
       "   cluster  qty_customers  perc_customer  gross_revenue  recency_days  \\\n",
       "6        6            492       8.642192   10932.727561     29.932927   \n",
       "4        4            441       7.746355    2846.196893     57.585034   \n",
       "1        1            801      14.069910    1762.174370     66.725343   \n",
       "7        7            540       9.485333    1046.922870     96.105556   \n",
       "2        2           1015      17.828913     770.024266    123.681773   \n",
       "8        8            549       9.643422     440.091548    132.185792   \n",
       "0        0            574      10.082558     278.275401    146.479094   \n",
       "5        5            574      10.082558     272.509495    177.909408   \n",
       "3        3            707      12.418760      52.769477    191.830269   \n",
       "\n",
       "   qty_invoice_no    qty_items  qty_products  frequency  qty_returns  \n",
       "6       14.853659  6429.219512    354.298780   0.114133   147.386179  \n",
       "4        5.879819  1562.013605    201.986395   0.219047    18.981859  \n",
       "1        4.078652   890.731586    121.353308   0.235948    14.742821  \n",
       "7        2.822222   482.085185    101.818519   0.370125     8.801852  \n",
       "2        1.887685   340.243350     61.985222   0.570043     3.222660  \n",
       "8        1.721311   180.863388     44.990893   0.629429     1.670310  \n",
       "0        1.461672   124.428571     12.996516   0.691504     2.341463  \n",
       "5        1.113240   116.247387     21.947735   0.961863     1.329268  \n",
       "3        1.038190    13.371994      5.879774   0.987351     0.079208  "
      ]
     },
     "execution_count": 55,
     "metadata": {},
     "output_type": "execute_result"
    }
   ],
   "source": [
    "# Explaining clusters profile based on this averages\n",
    "# Number of customer\n",
    "df_cluster = df92[['customer_id', 'cluster']].groupby( 'cluster' ).count().reset_index().rename(columns = {'customer_id': 'qty_customers'})\n",
    "df_cluster['perc_customer'] = 100*( df_cluster['qty_customers'] / df_cluster['qty_customers'].sum() )\n",
    "\n",
    "# Avg Gross revenue\n",
    "df_avg_gross_revenue = df92[['gross_revenue', 'cluster']].groupby( 'cluster' ).mean().reset_index()\n",
    "df_cluster = pd.merge( df_cluster, df_avg_gross_revenue, how='inner', on='cluster' )\n",
    "\n",
    "# Avg recency days\n",
    "df_avg_recency_days = df92[['recency_days', 'cluster']].groupby( 'cluster' ).mean().reset_index()\n",
    "df_cluster = pd.merge( df_cluster, df_avg_recency_days, how='inner', on='cluster' )\n",
    "\n",
    "# Qty invoice number\n",
    "df_avg_invoice_no = df92[['qty_invoice_no', 'cluster']].groupby( 'cluster' ).mean().reset_index()\n",
    "df_cluster = pd.merge( df_cluster, df_avg_invoice_no, how='inner', on='cluster' )\n",
    "\n",
    "# Avg qty items\n",
    "df_avg_qty_items = df92[['qty_items', 'cluster']].groupby( 'cluster' ).mean().reset_index()\n",
    "df_cluster = pd.merge( df_cluster, df_avg_qty_items, how='inner', on='cluster' )\n",
    "\n",
    "# Avg qty products\n",
    "df_qty_products = df92[['qty_products', 'cluster']].groupby( 'cluster' ).mean().reset_index()\n",
    "df_cluster = pd.merge( df_cluster, df_qty_products, how='inner', on='cluster' )\n",
    "\n",
    "# Frequency\n",
    "df_frequency = df92[['frequency', 'cluster']].groupby( 'cluster' ).mean().reset_index()\n",
    "df_cluster = pd.merge( df_cluster, df_frequency, how='inner', on='cluster' )\n",
    "\n",
    "# Avg qty returns\n",
    "df_qty_returns = df92[['qty_returns', 'cluster']].groupby( 'cluster' ).mean().reset_index()\n",
    "df_cluster = pd.merge( df_cluster, df_qty_returns, how='inner', on='cluster' )\n",
    "\n",
    "df_cluster.sort_values('gross_revenue', ascending = False)"
   ]
  },
  {
   "cell_type": "code",
   "execution_count": 56,
   "id": "wireless-index",
   "metadata": {
    "ExecuteTime": {
     "end_time": "2022-04-24T13:47:25.178586Z",
     "start_time": "2022-04-24T13:47:25.176536Z"
    }
   },
   "outputs": [],
   "source": [
    "# during the new EDA we can do a analyse inside each cluster"
   ]
  },
  {
   "cell_type": "markdown",
   "id": "24e78ea5",
   "metadata": {},
   "source": [
    "* Cluster 6: Champions\n",
    "* Cluster 4: Almost Champions\n",
    "* Cluster 1: Must buy more frequently and more products\n",
    "* Cluster 7: Must buy more expensive products\n",
    "* Cluster 2: Must buy more items and different products\n",
    "* Cluster 8: Churn 1\n",
    "* Cluster 0: Churn 2\n",
    "* Cluster 5: Churn 3\n",
    "* Cluster 3: Churn 4"
   ]
  },
  {
   "cell_type": "markdown",
   "id": "6afc09e0",
   "metadata": {},
   "source": [
    "**High Value Customers Cluster(06):**\n",
    "\n",
    "- Number of customers: 492 (8.64% of costumers)\n",
    "- Avg Gross Revenue: **$10932.72**\n",
    "- Avg Recency Average: **29 days**\n",
    "- Avq of Qty of invoice no: **14.85**\n",
    "- Avg of Qty of Items: **6429**\n",
    "- Avg of Qty Products Purchased: **354 un**\n",
    "- Purchase Frequency: **0.114 products per day**\n",
    "- Avg of Qty of Retuned Items: **147 un**"
   ]
  },
  {
   "cell_type": "markdown",
   "id": "fifth-tooth",
   "metadata": {},
   "source": [
    "# MODEL DEPLOYMENT"
   ]
  },
  {
   "cell_type": "code",
   "execution_count": 58,
   "id": "330ad104",
   "metadata": {
    "ExecuteTime": {
     "end_time": "2022-04-24T15:55:30.818321Z",
     "start_time": "2022-04-24T15:55:30.800508Z"
    }
   },
   "outputs": [
    {
     "data": {
      "text/plain": [
       "customer_id         int64\n",
       "gross_revenue     float64\n",
       "recency_days      float64\n",
       "qty_invoice_no    float64\n",
       "qty_items         float64\n",
       "qty_products      float64\n",
       "frequency         float64\n",
       "qty_returns       float64\n",
       "cluster             int64\n",
       "dtype: object"
      ]
     },
     "execution_count": 58,
     "metadata": {},
     "output_type": "execute_result"
    }
   ],
   "source": [
    "df92.dtypes"
   ]
  },
  {
   "cell_type": "code",
   "execution_count": 59,
   "id": "cb5c4b15",
   "metadata": {
    "ExecuteTime": {
     "end_time": "2022-04-24T15:55:32.009122Z",
     "start_time": "2022-04-24T15:55:31.988594Z"
    }
   },
   "outputs": [],
   "source": [
    "df92['recency_days'] = df92['recency_days'].astype(int)\n",
    "df92['qty_invoice_no'] = df92['qty_invoice_no'].astype(int)\n",
    "df92['qty_items'] = df92['qty_items'].astype(int)\n",
    "df92['qty_products'] = df92['qty_products'].astype(int)\n",
    "df92['qty_returns'] = df92['qty_returns'].astype(int)"
   ]
  },
  {
   "cell_type": "markdown",
   "id": "39783c59",
   "metadata": {
    "heading_collapsed": true
   },
   "source": [
    "## Local"
   ]
  },
  {
   "cell_type": "code",
   "execution_count": null,
   "id": "a6971fe6",
   "metadata": {
    "ExecuteTime": {
     "end_time": "2022-04-24T13:47:25.819910Z",
     "start_time": "2022-04-24T13:47:25.819815Z"
    },
    "hidden": true
   },
   "outputs": [],
   "source": [
    "# # create database\n",
    "# conn = sqlite3.connect('insiders_db.sqlite')\n",
    "\n",
    "# # create table\n",
    "# query_create_insiders = \"\"\"\n",
    "#     CREATE TABLE insiders (\n",
    "#         custer_id     INTEGER,\n",
    "#         gross_revenue REAL,\n",
    "#         recency_days  INTEGER,\n",
    "#         qty_products  INTEGER,\n",
    "#         frequency     INTEGER,\n",
    "#         qty_returns   INTEGER,\n",
    "#         cluster       INTEGER\n",
    "#         )\n",
    "# \"\"\"\n",
    "\n",
    "# conn.execute(query_create_insiders)\n",
    "# conn.commit()\n",
    "# conn.close()"
   ]
  },
  {
   "cell_type": "code",
   "execution_count": null,
   "id": "d2f42ce3",
   "metadata": {
    "ExecuteTime": {
     "end_time": "2022-04-24T13:47:25.820800Z",
     "start_time": "2022-04-24T13:47:25.820790Z"
    },
    "hidden": true
   },
   "outputs": [],
   "source": [
    "# # database connection\n",
    "# conn = create_engine('sqlite:///insiders_db.sqlite')\n",
    "\n",
    "# # # drop table\n",
    "# # query_drop_insiders = \"\"\"\n",
    "# #     DROP TABLE insiders\n",
    "\n",
    "# # \"\"\"\n",
    "\n",
    "# #create table\n",
    "# query_create_insiders = \"\"\"\n",
    "#     CREATE TABLE insiders (\n",
    "#         customer_id   INTEGER,\n",
    "#         gross_revenue REAL,\n",
    "#         recency_days  INTEGER,\n",
    "#         qty_products  INTEGER,\n",
    "#         frequency     INTEGER,\n",
    "#         qty_returns   INTEGER,\n",
    "#         cluster       INTEGER\n",
    "#     )\n",
    "# \"\"\"\n",
    "\n",
    "# conn.execute(query_create_insiders)"
   ]
  },
  {
   "cell_type": "code",
   "execution_count": null,
   "id": "f9b3481a",
   "metadata": {
    "ExecuteTime": {
     "end_time": "2022-04-24T13:47:25.821705Z",
     "start_time": "2022-04-24T13:47:25.821694Z"
    },
    "hidden": true
   },
   "outputs": [],
   "source": [
    "# # insert into data\n",
    "# df92.to_sql('insiders', con = conn, if_exists = 'append', index = False)"
   ]
  },
  {
   "cell_type": "code",
   "execution_count": null,
   "id": "a9c1e5ec",
   "metadata": {
    "ExecuteTime": {
     "end_time": "2022-04-24T13:47:25.822673Z",
     "start_time": "2022-04-24T13:47:25.822660Z"
    },
    "hidden": true
   },
   "outputs": [],
   "source": [
    "# conn = sqlite3.connect('insiders_db.sqlite')"
   ]
  },
  {
   "cell_type": "code",
   "execution_count": null,
   "id": "9f0e4bf7",
   "metadata": {
    "ExecuteTime": {
     "end_time": "2022-04-24T13:47:25.823988Z",
     "start_time": "2022-04-24T13:47:25.823975Z"
    },
    "hidden": true,
    "scrolled": true
   },
   "outputs": [],
   "source": [
    "# # consulting database\n",
    "# # get query\n",
    "# query_collect = \"\"\"\n",
    "#     SELECT * from insiders\n",
    "# \"\"\"\n",
    "\n",
    "# df = pd.read_sql_query(query_collect, conn)\n",
    "# df.head()"
   ]
  },
  {
   "cell_type": "markdown",
   "id": "1dc6f484",
   "metadata": {},
   "source": [
    "## AWS S3 / RDS / EC2"
   ]
  },
  {
   "cell_type": "code",
   "execution_count": 60,
   "id": "54b38b28",
   "metadata": {
    "ExecuteTime": {
     "end_time": "2022-04-24T15:55:33.447411Z",
     "start_time": "2022-04-24T15:55:33.444894Z"
    }
   },
   "outputs": [],
   "source": [
    "# get postgres RDS environmnet access keys\n",
    "user     = os.environ.get('user')\n",
    "pwd      = os.environ.get('pwd')\n",
    "host     = os.environ.get('host')\n",
    "port     = os.environ.get('port')\n",
    "database = os.environ.get('database')"
   ]
  },
  {
   "cell_type": "code",
   "execution_count": 61,
   "id": "5d743068",
   "metadata": {
    "ExecuteTime": {
     "end_time": "2022-04-24T15:55:34.565614Z",
     "start_time": "2022-04-24T15:55:34.559210Z"
    }
   },
   "outputs": [],
   "source": [
    "endpoint = 'postgresql' + '://' + user + ':' + pwd + '@' + host + '/' + database"
   ]
  },
  {
   "cell_type": "code",
   "execution_count": 62,
   "id": "4dccdc00",
   "metadata": {
    "ExecuteTime": {
     "end_time": "2022-04-24T15:55:35.792763Z",
     "start_time": "2022-04-24T15:55:35.708606Z"
    }
   },
   "outputs": [],
   "source": [
    "# database connection\n",
    "conn = create_engine(endpoint)\n",
    "\n",
    "\n",
    "# # drop table\n",
    "# query_drop_champions = \"\"\"\n",
    "#     DROP TABLE champions\n",
    "\n",
    "# \"\"\"\n",
    "\n",
    "# #create table\n",
    "# query_create_champions = \"\"\"\n",
    "#     CREATE TABLE champions (\n",
    "#         customer_id      INTEGER,\n",
    "#         gross_revenue  REAL,\n",
    "#         recency_days   INTEGER,\n",
    "#         qty_invoice_no INTEGER,\n",
    "#         qty_items      INTEGER,\n",
    "#         qty_products   INTEGER,\n",
    "#         frequency      INTEGER,\n",
    "#         qty_returns    INTEGER,\n",
    "#         cluster        INTEGER\n",
    "#         )\n",
    "# \"\"\"\n",
    "\n",
    "# conn.execute(query_create_champions)"
   ]
  },
  {
   "cell_type": "code",
   "execution_count": null,
   "id": "334bcfcd",
   "metadata": {
    "ExecuteTime": {
     "end_time": "2022-04-24T13:47:25.826825Z",
     "start_time": "2022-04-24T13:47:25.826813Z"
    }
   },
   "outputs": [],
   "source": [
    "# insert into data\n",
    "df92.to_sql('champions', con = conn, if_exists = 'append', index = False)"
   ]
  },
  {
   "cell_type": "code",
   "execution_count": 63,
   "id": "902413fc",
   "metadata": {
    "ExecuteTime": {
     "end_time": "2022-04-24T15:55:43.128517Z",
     "start_time": "2022-04-24T15:55:40.188619Z"
    }
   },
   "outputs": [
    {
     "data": {
      "text/html": [
       "<div>\n",
       "<style scoped>\n",
       "    .dataframe tbody tr th:only-of-type {\n",
       "        vertical-align: middle;\n",
       "    }\n",
       "\n",
       "    .dataframe tbody tr th {\n",
       "        vertical-align: top;\n",
       "    }\n",
       "\n",
       "    .dataframe thead th {\n",
       "        text-align: right;\n",
       "    }\n",
       "</style>\n",
       "<table border=\"1\" class=\"dataframe\">\n",
       "  <thead>\n",
       "    <tr style=\"text-align: right;\">\n",
       "      <th></th>\n",
       "      <th>customer_id</th>\n",
       "      <th>gross_revenue</th>\n",
       "      <th>recency_days</th>\n",
       "      <th>qty_invoice_no</th>\n",
       "      <th>qty_items</th>\n",
       "      <th>qty_products</th>\n",
       "      <th>frequency</th>\n",
       "      <th>qty_returns</th>\n",
       "      <th>cluster</th>\n",
       "    </tr>\n",
       "  </thead>\n",
       "  <tbody>\n",
       "  </tbody>\n",
       "</table>\n",
       "</div>"
      ],
      "text/plain": [
       "Empty DataFrame\n",
       "Columns: [customer_id, gross_revenue, recency_days, qty_invoice_no, qty_items, qty_products, frequency, qty_returns, cluster]\n",
       "Index: []"
      ]
     },
     "execution_count": 63,
     "metadata": {},
     "output_type": "execute_result"
    }
   ],
   "source": [
    "# # get query\n",
    "# query_collect = \"\"\"\n",
    "#     SELECT * FROM champions\n",
    "# \"\"\"\n",
    "\n",
    "# df = pd.read_sql_query(query_collect, conn)\n",
    "# df.head()"
   ]
  }
 ],
 "metadata": {
  "kernelspec": {
   "display_name": "Python 3 (ipykernel)",
   "language": "python",
   "name": "python3"
  },
  "language_info": {
   "codemirror_mode": {
    "name": "ipython",
    "version": 3
   },
   "file_extension": ".py",
   "mimetype": "text/x-python",
   "name": "python",
   "nbconvert_exporter": "python",
   "pygments_lexer": "ipython3",
   "version": "3.9.2"
  },
  "nbTranslate": {
   "displayLangs": [
    "*"
   ],
   "hotkey": "alt-t",
   "langInMainMenu": true,
   "sourceLang": "en",
   "targetLang": "fr",
   "useGoogleTranslate": true
  },
  "toc": {
   "base_numbering": 1,
   "nav_menu": {},
   "number_sections": true,
   "sideBar": true,
   "skip_h1_title": false,
   "title_cell": "Table of Contents",
   "title_sidebar": "Contents",
   "toc_cell": false,
   "toc_position": {},
   "toc_section_display": true,
   "toc_window_display": false
  }
 },
 "nbformat": 4,
 "nbformat_minor": 5
}
