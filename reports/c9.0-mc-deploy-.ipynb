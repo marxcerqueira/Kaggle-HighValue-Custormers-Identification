{
 "cells": [
  {
   "cell_type": "markdown",
   "id": "french-dollar",
   "metadata": {
    "papermill": {
     "duration": 0.065724,
     "end_time": "2022-03-16T23:56:11.510402",
     "exception": false,
     "start_time": "2022-03-16T23:56:11.444678",
     "status": "completed"
    },
    "tags": []
   },
   "source": [
    "# High Value Customers Identification (Insiders) #\n",
    "**By: Marx Cerqueira**"
   ]
  },
  {
   "cell_type": "markdown",
   "id": "homeless-heading",
   "metadata": {
    "papermill": {
     "duration": 0.036363,
     "end_time": "2022-03-16T23:56:11.584083",
     "exception": false,
     "start_time": "2022-03-16T23:56:11.547720",
     "status": "completed"
    },
    "tags": []
   },
   "source": [
    "# IMPORTS"
   ]
  },
  {
   "cell_type": "code",
   "execution_count": 1,
   "id": "lovely-guess",
   "metadata": {
    "ExecuteTime": {
     "end_time": "2022-03-16T18:52:22.251366Z",
     "start_time": "2022-03-16T18:52:22.246832Z"
    },
    "execution": {
     "iopub.execute_input": "2022-03-16T23:56:11.659407Z",
     "iopub.status.busy": "2022-03-16T23:56:11.659247Z",
     "iopub.status.idle": "2022-03-16T23:56:16.326664Z",
     "shell.execute_reply": "2022-03-16T23:56:16.326199Z"
    },
    "papermill": {
     "duration": 4.706899,
     "end_time": "2022-03-16T23:56:16.327843",
     "exception": false,
     "start_time": "2022-03-16T23:56:11.620944",
     "status": "completed"
    },
    "scrolled": true,
    "tags": []
   },
   "outputs": [],
   "source": [
    "import re\n",
    "import os\n",
    "import inflection\n",
    "import sqlite3\n",
    "\n",
    "import numpy   as np\n",
    "import pandas  as pd\n",
    "import seaborn as sns\n",
    "\n",
    "import umap.umap_ as umap\n",
    "\n",
    "from matplotlib import pyplot as plt\n",
    "\n",
    "from sklearn import metrics       as m\n",
    "from sklearn import preprocessing as pp\n",
    "from sklearn import decomposition as dd\n",
    "from sklearn import ensemble      as en\n",
    "from sklearn import manifold      as mn\n",
    "from sklearn import mixture       as mx\n",
    "from sklearn import cluster       as c\n",
    "\n",
    "from scipy.cluster import hierarchy as hc\n",
    "\n",
    "from plotly import express as px\n",
    "from sqlalchemy import create_engine"
   ]
  },
  {
   "cell_type": "markdown",
   "id": "satisfied-catholic",
   "metadata": {
    "papermill": {
     "duration": 0.03706,
     "end_time": "2022-03-16T23:56:16.401850",
     "exception": false,
     "start_time": "2022-03-16T23:56:16.364790",
     "status": "completed"
    },
    "tags": []
   },
   "source": [
    "## Loading Data"
   ]
  },
  {
   "cell_type": "code",
   "execution_count": 2,
   "id": "front-edinburgh",
   "metadata": {
    "ExecuteTime": {
     "end_time": "2022-03-15T19:24:54.305668Z",
     "start_time": "2022-03-15T19:24:53.711782Z"
    },
    "execution": {
     "iopub.execute_input": "2022-03-16T23:56:16.475789Z",
     "iopub.status.busy": "2022-03-16T23:56:16.475641Z",
     "iopub.status.idle": "2022-03-16T23:56:17.195931Z",
     "shell.execute_reply": "2022-03-16T23:56:17.195508Z"
    },
    "papermill": {
     "duration": 0.758769,
     "end_time": "2022-03-16T23:56:17.197035",
     "exception": false,
     "start_time": "2022-03-16T23:56:16.438266",
     "status": "completed"
    },
    "scrolled": true,
    "tags": []
   },
   "outputs": [],
   "source": [
    "# load data\n",
    "df_ecomm_raw = pd.read_csv('/home/marxcerqueira/repos/Kaggle-HighValue-Custormers-Identification/data/raw/Ecommerce.csv',\n",
    "                           encoding='iso-8859-1',\n",
    "                           low_memory=False)\n",
    "\n",
    "#drop extra column\n",
    "df_ecomm_raw = df_ecomm_raw.drop(columns = ['Unnamed: 8'], axis = 1)"
   ]
  },
  {
   "cell_type": "markdown",
   "id": "respiratory-seattle",
   "metadata": {
    "papermill": {
     "duration": 0.037077,
     "end_time": "2022-03-16T23:56:17.271556",
     "exception": false,
     "start_time": "2022-03-16T23:56:17.234479",
     "status": "completed"
    },
    "tags": []
   },
   "source": [
    "# DATA DISCRIPTION"
   ]
  },
  {
   "cell_type": "code",
   "execution_count": 3,
   "id": "italian-wayne",
   "metadata": {
    "ExecuteTime": {
     "end_time": "2022-03-15T19:25:09.216449Z",
     "start_time": "2022-03-15T19:25:09.202400Z"
    },
    "execution": {
     "iopub.execute_input": "2022-03-16T23:56:17.346083Z",
     "iopub.status.busy": "2022-03-16T23:56:17.345914Z",
     "iopub.status.idle": "2022-03-16T23:56:17.359268Z",
     "shell.execute_reply": "2022-03-16T23:56:17.358819Z"
    },
    "papermill": {
     "duration": 0.052008,
     "end_time": "2022-03-16T23:56:17.360350",
     "exception": false,
     "start_time": "2022-03-16T23:56:17.308342",
     "status": "completed"
    },
    "tags": []
   },
   "outputs": [],
   "source": [
    "# Copy dataset\n",
    "df0 = df_ecomm_raw.copy()"
   ]
  },
  {
   "cell_type": "markdown",
   "id": "linear-haiti",
   "metadata": {
    "papermill": {
     "duration": 0.056201,
     "end_time": "2022-03-16T23:56:17.453099",
     "exception": false,
     "start_time": "2022-03-16T23:56:17.396898",
     "status": "completed"
    },
    "tags": []
   },
   "source": [
    "## Rename Columns"
   ]
  },
  {
   "cell_type": "code",
   "execution_count": null,
   "id": "compressed-sword",
   "metadata": {
    "ExecuteTime": {
     "end_time": "2022-03-15T19:25:15.658079Z",
     "start_time": "2022-03-15T19:25:15.653678Z"
    },
    "papermill": {
     "duration": 0.030417,
     "end_time": "2022-03-16T23:56:17.519159",
     "exception": false,
     "start_time": "2022-03-16T23:56:17.488742",
     "status": "completed"
    },
    "tags": []
   },
   "outputs": [],
   "source": [
    "cols_old = ['InvoiceNo','StockCode','Description','Quantity', 'InvoiceDate','UnitPrice','CustomerID','Country']\n",
    "\n",
    "snakecase = lambda x: inflection.underscore(x)\n",
    "col_news = list(map(snakecase, cols_old))\n",
    "\n",
    "# Rename columns\n",
    "df0.columns = col_news"
   ]
  },
  {
   "cell_type": "markdown",
   "id": "growing-arrival",
   "metadata": {
    "papermill": {
     "duration": null,
     "end_time": null,
     "exception": null,
     "start_time": null,
     "status": "completed"
    },
    "tags": []
   },
   "source": [
    "## Data Dimension"
   ]
  },
  {
   "cell_type": "code",
   "execution_count": null,
   "id": "stone-immigration",
   "metadata": {
    "ExecuteTime": {
     "end_time": "2022-03-15T19:25:20.859836Z",
     "start_time": "2022-03-15T19:25:20.851793Z"
    },
    "papermill": {
     "duration": null,
     "end_time": null,
     "exception": null,
     "start_time": null,
     "status": "completed"
    },
    "tags": []
   },
   "outputs": [],
   "source": [
    "print('Number of rows: {}.'.format(df0.shape[0]))\n",
    "print('Number of cols: {}.'.format(df0.shape[1]))"
   ]
  },
  {
   "cell_type": "markdown",
   "id": "covered-offset",
   "metadata": {
    "papermill": {
     "duration": null,
     "end_time": null,
     "exception": null,
     "start_time": null,
     "status": "completed"
    },
    "tags": []
   },
   "source": [
    "## Data Types"
   ]
  },
  {
   "cell_type": "code",
   "execution_count": null,
   "id": "conditional-triangle",
   "metadata": {
    "ExecuteTime": {
     "end_time": "2022-03-15T19:25:29.507377Z",
     "start_time": "2022-03-15T19:25:29.390727Z"
    },
    "papermill": {
     "duration": null,
     "end_time": null,
     "exception": null,
     "start_time": null,
     "status": "completed"
    },
    "tags": []
   },
   "outputs": [],
   "source": [
    "df0.info()"
   ]
  },
  {
   "cell_type": "markdown",
   "id": "naval-annual",
   "metadata": {
    "papermill": {
     "duration": null,
     "end_time": null,
     "exception": null,
     "start_time": null,
     "status": "completed"
    },
    "tags": []
   },
   "source": [
    "## Check NA Values"
   ]
  },
  {
   "cell_type": "code",
   "execution_count": null,
   "id": "important-appendix",
   "metadata": {
    "ExecuteTime": {
     "end_time": "2022-03-15T19:25:34.322243Z",
     "start_time": "2022-03-15T19:25:34.144506Z"
    },
    "papermill": {
     "duration": null,
     "end_time": null,
     "exception": null,
     "start_time": null,
     "status": "completed"
    },
    "tags": []
   },
   "outputs": [],
   "source": [
    "missing_count = df0.isnull().sum() # the count of missing values\n",
    "value_count = df0.isnull().count() # the total values count\n",
    "\n",
    "missing_percentage = round(missing_count/value_count*100,2) # the percentage of missing values\n",
    "missing_df = pd.DataFrame({'missing value count': missing_count, 'percentage': missing_percentage})\n",
    "missing_df"
   ]
  },
  {
   "cell_type": "code",
   "execution_count": null,
   "id": "floral-transportation",
   "metadata": {
    "ExecuteTime": {
     "end_time": "2022-03-15T19:25:42.538509Z",
     "start_time": "2022-03-15T19:25:42.392202Z"
    },
    "papermill": {
     "duration": null,
     "end_time": null,
     "exception": null,
     "start_time": null,
     "status": "completed"
    },
    "tags": []
   },
   "outputs": [],
   "source": [
    "barchart = missing_df.plot.bar(y='percentage')\n",
    "for index, percentage in enumerate( missing_percentage ):\n",
    "    barchart.text( index, percentage, str(percentage)+'%')"
   ]
  },
  {
   "cell_type": "markdown",
   "id": "unique-charlotte",
   "metadata": {
    "papermill": {
     "duration": null,
     "end_time": null,
     "exception": null,
     "start_time": null,
     "status": "completed"
    },
    "tags": []
   },
   "source": [
    "## Fillout NA"
   ]
  },
  {
   "cell_type": "code",
   "execution_count": null,
   "id": "coral-leone",
   "metadata": {
    "ExecuteTime": {
     "end_time": "2022-03-15T19:25:54.817698Z",
     "start_time": "2022-03-15T19:25:54.772409Z"
    },
    "papermill": {
     "duration": null,
     "end_time": null,
     "exception": null,
     "start_time": null,
     "status": "completed"
    },
    "tags": []
   },
   "outputs": [],
   "source": [
    "# separate NA's in two different dataframe, one with NAs and other without it\n",
    "df_missing = df0.loc[df0['customer_id'].isna(), :]\n",
    "df_not_missing = df0.loc[~df0['customer_id'].isna(), :]"
   ]
  },
  {
   "cell_type": "code",
   "execution_count": null,
   "id": "basic-invite",
   "metadata": {
    "ExecuteTime": {
     "end_time": "2022-03-15T19:26:01.570568Z",
     "start_time": "2022-03-15T19:26:01.365098Z"
    },
    "papermill": {
     "duration": null,
     "end_time": null,
     "exception": null,
     "start_time": null,
     "status": "completed"
    },
    "tags": []
   },
   "outputs": [],
   "source": [
    "# create reference\n",
    "df_backup = pd.DataFrame( df_missing['invoice_no'].drop_duplicates().copy() )\n",
    "df_backup['customer_id'] = np.arange( 19000, 19000+len( df_backup ), 1) # Fillout NA stratety: creating customers_id to keep their behavior (25% of the database)\n",
    "\n",
    "# merge original with reference dataframe\n",
    "df0 = pd.merge( df0, df_backup, on='invoice_no', how='left' )\n",
    "\n",
    "# coalesce \n",
    "df0['customer_id'] = df0['customer_id_x'].combine_first( df0['customer_id_y'] )\n",
    "\n",
    "# drop extra columns\n",
    "df0 = df0.drop( columns=['customer_id_x', 'customer_id_y'], axis=1 )"
   ]
  },
  {
   "cell_type": "code",
   "execution_count": null,
   "id": "critical-front",
   "metadata": {
    "ExecuteTime": {
     "end_time": "2022-03-15T19:26:04.493479Z",
     "start_time": "2022-03-15T19:26:04.393443Z"
    },
    "papermill": {
     "duration": null,
     "end_time": null,
     "exception": null,
     "start_time": null,
     "status": "completed"
    },
    "tags": []
   },
   "outputs": [],
   "source": [
    "df0.isna().sum()"
   ]
  },
  {
   "cell_type": "markdown",
   "id": "baking-paragraph",
   "metadata": {
    "papermill": {
     "duration": null,
     "end_time": null,
     "exception": null,
     "start_time": null,
     "status": "completed"
    },
    "tags": []
   },
   "source": [
    "## Change Types"
   ]
  },
  {
   "cell_type": "code",
   "execution_count": null,
   "id": "second-brunei",
   "metadata": {
    "ExecuteTime": {
     "end_time": "2022-03-15T19:26:12.560570Z",
     "start_time": "2022-03-15T19:26:12.471248Z"
    },
    "papermill": {
     "duration": null,
     "end_time": null,
     "exception": null,
     "start_time": null,
     "status": "completed"
    },
    "tags": []
   },
   "outputs": [],
   "source": [
    "# Transforme datatype of variable invoice_date to datetime\n",
    "df0['invoice_date'] = pd.to_datetime(df0['invoice_date'])"
   ]
  },
  {
   "cell_type": "code",
   "execution_count": null,
   "id": "cellular-jurisdiction",
   "metadata": {
    "ExecuteTime": {
     "end_time": "2022-03-15T19:26:17.549948Z",
     "start_time": "2022-03-15T19:26:17.543985Z"
    },
    "papermill": {
     "duration": null,
     "end_time": null,
     "exception": null,
     "start_time": null,
     "status": "completed"
    },
    "tags": []
   },
   "outputs": [],
   "source": [
    "df0['customer_id'] = df0['customer_id'].astype('int64')"
   ]
  },
  {
   "cell_type": "code",
   "execution_count": null,
   "id": "rotary-providence",
   "metadata": {
    "ExecuteTime": {
     "end_time": "2022-03-15T19:26:18.669518Z",
     "start_time": "2022-03-15T19:26:18.661353Z"
    },
    "papermill": {
     "duration": null,
     "end_time": null,
     "exception": null,
     "start_time": null,
     "status": "completed"
    },
    "tags": []
   },
   "outputs": [],
   "source": [
    "df0.dtypes"
   ]
  },
  {
   "cell_type": "markdown",
   "id": "severe-puppy",
   "metadata": {
    "papermill": {
     "duration": null,
     "end_time": null,
     "exception": null,
     "start_time": null,
     "status": "completed"
    },
    "tags": []
   },
   "source": [
    "## Descriptive Statistics"
   ]
  },
  {
   "cell_type": "code",
   "execution_count": null,
   "id": "wrong-nothing",
   "metadata": {
    "ExecuteTime": {
     "end_time": "2022-03-15T19:26:47.325183Z",
     "start_time": "2022-03-15T19:26:47.273141Z"
    },
    "papermill": {
     "duration": null,
     "end_time": null,
     "exception": null,
     "start_time": null,
     "status": "completed"
    },
    "scrolled": false,
    "tags": []
   },
   "outputs": [],
   "source": [
    "df0.describe().T"
   ]
  },
  {
   "cell_type": "code",
   "execution_count": null,
   "id": "f38213f9",
   "metadata": {
    "ExecuteTime": {
     "end_time": "2022-03-15T19:26:48.656166Z",
     "start_time": "2022-03-15T19:26:48.502134Z"
    },
    "papermill": {
     "duration": null,
     "end_time": null,
     "exception": null,
     "start_time": null,
     "status": "completed"
    },
    "tags": []
   },
   "outputs": [],
   "source": [
    "df0.describe(include = object).T"
   ]
  },
  {
   "cell_type": "code",
   "execution_count": null,
   "id": "heated-growing",
   "metadata": {
    "ExecuteTime": {
     "end_time": "2022-03-15T19:28:03.328994Z",
     "start_time": "2022-03-15T19:28:03.297342Z"
    },
    "papermill": {
     "duration": null,
     "end_time": null,
     "exception": null,
     "start_time": null,
     "status": "completed"
    },
    "tags": []
   },
   "outputs": [],
   "source": [
    "num_attributes = df0.select_dtypes(include = np.number)\n",
    "cat_attributes = df0.select_dtypes(exclude = [np.number, np.datetime64])"
   ]
  },
  {
   "cell_type": "markdown",
   "id": "decimal-recipient",
   "metadata": {
    "papermill": {
     "duration": null,
     "end_time": null,
     "exception": null,
     "start_time": null,
     "status": "completed"
    },
    "tags": []
   },
   "source": [
    "### Numerical Attributes"
   ]
  },
  {
   "cell_type": "code",
   "execution_count": null,
   "id": "hungry-durham",
   "metadata": {
    "ExecuteTime": {
     "end_time": "2022-03-15T19:28:08.192792Z",
     "start_time": "2022-03-15T19:28:08.104768Z"
    },
    "papermill": {
     "duration": null,
     "end_time": null,
     "exception": null,
     "start_time": null,
     "status": "completed"
    },
    "scrolled": true,
    "tags": []
   },
   "outputs": [],
   "source": [
    "# central tendency - mean, median\n",
    "ct1 = pd.DataFrame(num_attributes.apply(np.mean)).T\n",
    "ct2 = pd.DataFrame(num_attributes.apply(np.median)).T\n",
    "\n",
    "# dispersion - desvio padrão, min, max, range, skew, kurtosis\n",
    "d1 = pd.DataFrame(num_attributes.apply(np.std)).T\n",
    "d2 = pd.DataFrame(num_attributes.apply(np.min)).T\n",
    "d3 = pd.DataFrame(num_attributes.apply(np.max)).T\n",
    "d4 = pd.DataFrame(num_attributes.apply(lambda x: x.max()-x.min())).T\n",
    "d5 = pd.DataFrame(num_attributes.apply(lambda x: x.skew())).T\n",
    "d6 = pd.DataFrame(num_attributes.apply(lambda x: x.kurtosis())).T\n",
    "\n",
    "#concatenate\n",
    "\n",
    "m1 = pd.concat([d2,d3,d4,ct1,ct2,d1,d5,d6]).T.reset_index()\n",
    "m1.columns = ['attributes', 'min', 'max', 'range', 'mean', 'mediana','std', 'skew','kurtosis']\n",
    "m1"
   ]
  },
  {
   "cell_type": "markdown",
   "id": "geological-incident",
   "metadata": {
    "papermill": {
     "duration": null,
     "end_time": null,
     "exception": null,
     "start_time": null,
     "status": "completed"
    },
    "tags": []
   },
   "source": [
    "### Categorical Attributes"
   ]
  },
  {
   "cell_type": "markdown",
   "id": "seeing-louisville",
   "metadata": {
    "papermill": {
     "duration": null,
     "end_time": null,
     "exception": null,
     "start_time": null,
     "status": "completed"
    },
    "tags": []
   },
   "source": [
    "#### Invoice_No"
   ]
  },
  {
   "cell_type": "code",
   "execution_count": null,
   "id": "parental-syndicate",
   "metadata": {
    "ExecuteTime": {
     "end_time": "2022-03-15T19:28:46.511488Z",
     "start_time": "2022-03-15T19:28:46.165759Z"
    },
    "papermill": {
     "duration": null,
     "end_time": null,
     "exception": null,
     "start_time": null,
     "status": "completed"
    },
    "tags": []
   },
   "outputs": [],
   "source": [
    "# problem: We got letters and numbers in invoice_no\n",
    "#df1['invoice_no'].astype( int )\n",
    "\n",
    "# identification: \n",
    "df_letter_invoices = df0.loc[df0['invoice_no'].apply( lambda x: bool( re.search( '[^0-9]+', x ) ) ), :]\n",
    "df_letter_invoices.head()\n",
    "\n",
    "print( 'Total number of invoices: {}'.format( len( df_letter_invoices ) ) )\n",
    "print( 'Total number of negative quantity: {}'.format( len( df_letter_invoices[ df_letter_invoices['quantity'] < 0 ] ) ) )"
   ]
  },
  {
   "cell_type": "markdown",
   "id": "official-monday",
   "metadata": {
    "papermill": {
     "duration": null,
     "end_time": null,
     "exception": null,
     "start_time": null,
     "status": "completed"
    },
    "tags": []
   },
   "source": [
    "#### Stock_Code"
   ]
  },
  {
   "cell_type": "code",
   "execution_count": null,
   "id": "stuck-proportion",
   "metadata": {
    "ExecuteTime": {
     "end_time": "2022-03-15T19:28:48.145016Z",
     "start_time": "2022-03-15T19:28:47.827183Z"
    },
    "papermill": {
     "duration": null,
     "end_time": null,
     "exception": null,
     "start_time": null,
     "status": "completed"
    },
    "tags": []
   },
   "outputs": [],
   "source": [
    "# check stock codes only characters\n",
    "df0.loc[df0['stock_code'].apply( lambda x: bool( re.search( '^[a-zA-Z]+$', x ) ) ), 'stock_code'].unique()\n",
    "\n",
    "# Acão:\n",
    "## 1. Remove stock_code in ['POST', 'D', 'M', 'PADS', 'DOT', 'CRUK']"
   ]
  },
  {
   "cell_type": "markdown",
   "id": "prime-prior",
   "metadata": {
    "papermill": {
     "duration": null,
     "end_time": null,
     "exception": null,
     "start_time": null,
     "status": "completed"
    },
    "tags": []
   },
   "source": [
    "# VARIABLE FILTERING"
   ]
  },
  {
   "cell_type": "code",
   "execution_count": null,
   "id": "flying-palace",
   "metadata": {
    "ExecuteTime": {
     "end_time": "2022-03-15T19:29:12.981622Z",
     "start_time": "2022-03-15T19:29:12.964967Z"
    },
    "papermill": {
     "duration": null,
     "end_time": null,
     "exception": null,
     "start_time": null,
     "status": "completed"
    },
    "tags": []
   },
   "outputs": [],
   "source": [
    "df1 = df0.copy()"
   ]
  },
  {
   "cell_type": "code",
   "execution_count": null,
   "id": "backed-fortune",
   "metadata": {
    "ExecuteTime": {
     "end_time": "2022-03-15T19:29:27.637020Z",
     "start_time": "2022-03-15T19:29:27.437069Z"
    },
    "papermill": {
     "duration": null,
     "end_time": null,
     "exception": null,
     "start_time": null,
     "status": "completed"
    },
    "tags": []
   },
   "outputs": [],
   "source": [
    " # === Numerical attributes ====\n",
    "df1 = df1.loc[df1['unit_price'] >= 0.04, :]\n",
    "\n",
    "# === Categorical attributes ====\n",
    "df1 = df1[~df1['stock_code'].isin( ['POST', 'D', 'DOT', 'M', 'S', 'AMAZONFEE', 'm', 'DCGSSBOY',\n",
    "                                    'DCGSSGIRL', 'PADS', 'B', 'CRUK'] )]\n",
    "\n",
    "# description\n",
    "df1 = df1.drop( columns='description', axis=1 )\n",
    "\n",
    "# country \n",
    "df1 = df1[~df1['country'].isin( ['European Community', 'Unspecified' ] ) ] #assuming this risk so we can use lat long parameters\n",
    "\n",
    "# bad customers\n",
    "df1 = df1[~df1['customer_id'].isin([16446])]\n",
    "\n",
    "# quantity \n",
    "df1_returns = df1.loc[df1['quantity'] < 0, :].copy()\n",
    "df1_purchases = df1.loc[df1['quantity'] >= 0, :].copy()"
   ]
  },
  {
   "cell_type": "markdown",
   "id": "coastal-pakistan",
   "metadata": {
    "papermill": {
     "duration": null,
     "end_time": null,
     "exception": null,
     "start_time": null,
     "status": "completed"
    },
    "tags": []
   },
   "source": [
    "# FEATURE ENGINEERING"
   ]
  },
  {
   "cell_type": "code",
   "execution_count": null,
   "id": "military-porcelain",
   "metadata": {
    "ExecuteTime": {
     "end_time": "2022-03-15T19:37:27.585128Z",
     "start_time": "2022-03-15T19:37:27.570802Z"
    },
    "papermill": {
     "duration": null,
     "end_time": null,
     "exception": null,
     "start_time": null,
     "status": "completed"
    },
    "tags": []
   },
   "outputs": [],
   "source": [
    "df2 = df1.copy()"
   ]
  },
  {
   "cell_type": "markdown",
   "id": "happy-witness",
   "metadata": {
    "papermill": {
     "duration": null,
     "end_time": null,
     "exception": null,
     "start_time": null,
     "status": "completed"
    },
    "tags": []
   },
   "source": [
    "## Feature Creation"
   ]
  },
  {
   "cell_type": "code",
   "execution_count": null,
   "id": "intimate-convergence",
   "metadata": {
    "ExecuteTime": {
     "end_time": "2022-03-15T19:37:29.586496Z",
     "start_time": "2022-03-15T19:37:29.560894Z"
    },
    "papermill": {
     "duration": null,
     "end_time": null,
     "exception": null,
     "start_time": null,
     "status": "completed"
    },
    "scrolled": false,
    "tags": []
   },
   "outputs": [],
   "source": [
    "# data reference\n",
    "# RFM Model, creating feature for it\n",
    "\n",
    "df_ref = df2.drop(['invoice_no', 'stock_code',\n",
    "                   'quantity', 'invoice_date', 'unit_price',\n",
    "                   'country'], axis = 1).drop_duplicates(ignore_index = True).copy()"
   ]
  },
  {
   "cell_type": "markdown",
   "id": "graduate-score",
   "metadata": {
    "papermill": {
     "duration": null,
     "end_time": null,
     "exception": null,
     "start_time": null,
     "status": "completed"
    },
    "tags": []
   },
   "source": [
    "### Gross Revenue"
   ]
  },
  {
   "cell_type": "code",
   "execution_count": null,
   "id": "removed-collector",
   "metadata": {
    "ExecuteTime": {
     "end_time": "2022-03-15T19:37:32.486481Z",
     "start_time": "2022-03-15T19:37:32.450801Z"
    },
    "papermill": {
     "duration": null,
     "end_time": null,
     "exception": null,
     "start_time": null,
     "status": "completed"
    },
    "scrolled": true,
    "tags": []
   },
   "outputs": [],
   "source": [
    "# Gross Revenue ( Faturamento ) quantity * price\n",
    "df1_purchases.loc[:, 'gross_revenue'] = df1_purchases.loc[:,'quantity'] * df1_purchases.loc[:, 'unit_price']\n",
    "\n",
    "# Monetary (How much money a customer spends on purchases)\n",
    "df_monetary = df1_purchases.loc[:, ['customer_id', 'gross_revenue']].groupby( 'customer_id' ).sum().reset_index()\n",
    "df_ref = pd.merge( df_ref, df_monetary, on='customer_id', how='left' )\n",
    "df_ref.isna().sum()"
   ]
  },
  {
   "cell_type": "markdown",
   "id": "ideal-spencer",
   "metadata": {
    "papermill": {
     "duration": null,
     "end_time": null,
     "exception": null,
     "start_time": null,
     "status": "completed"
    },
    "tags": []
   },
   "source": [
    "### Recency"
   ]
  },
  {
   "cell_type": "code",
   "execution_count": null,
   "id": "minus-damage",
   "metadata": {
    "ExecuteTime": {
     "end_time": "2022-03-15T19:37:33.307038Z",
     "start_time": "2022-03-15T19:37:33.270948Z"
    },
    "papermill": {
     "duration": null,
     "end_time": null,
     "exception": null,
     "start_time": null,
     "status": "completed"
    },
    "scrolled": true,
    "tags": []
   },
   "outputs": [],
   "source": [
    "# Recency - Day from last purchase\n",
    "df_recency = df1_purchases.loc[:, ['customer_id', 'invoice_date']].groupby( 'customer_id' ).max().reset_index()\n",
    "df_recency['recency_days'] = ( df1['invoice_date'].max() - df_recency['invoice_date'] ).dt.days\n",
    "df_recency = df_recency[['customer_id', 'recency_days']].copy()\n",
    "\n",
    "df_ref = pd.merge( df_ref, df_recency, on='customer_id', how='left' )\n",
    "df_ref.isna().sum()"
   ]
  },
  {
   "cell_type": "markdown",
   "id": "according-pittsburgh",
   "metadata": {
    "papermill": {
     "duration": null,
     "end_time": null,
     "exception": null,
     "start_time": null,
     "status": "completed"
    },
    "tags": []
   },
   "source": [
    "### Qty Products  (different stock codes by customer)"
   ]
  },
  {
   "cell_type": "code",
   "execution_count": null,
   "id": "understanding-syria",
   "metadata": {
    "ExecuteTime": {
     "end_time": "2022-03-15T19:37:38.707346Z",
     "start_time": "2022-03-15T19:37:38.652378Z"
    },
    "papermill": {
     "duration": null,
     "end_time": null,
     "exception": null,
     "start_time": null,
     "status": "completed"
    },
    "tags": []
   },
   "outputs": [],
   "source": [
    "# Quantity of unique products purchased (Frequency: qntd of products over time)\n",
    "\n",
    "# Number of products (different stock codes by customer)\n",
    "df_freq = (df1_purchases.loc[:, ['customer_id', 'stock_code']].groupby( 'customer_id' ).count()\n",
    "                                                           .reset_index()\n",
    "                                                           .rename( columns={'stock_code': 'qty_products'} ) )\n",
    "df_ref = pd.merge( df_ref, df_freq, on='customer_id', how='left' )\n",
    "df_ref.isna().sum()"
   ]
  },
  {
   "cell_type": "markdown",
   "id": "nuclear-virgin",
   "metadata": {
    "papermill": {
     "duration": null,
     "end_time": null,
     "exception": null,
     "start_time": null,
     "status": "completed"
    },
    "tags": []
   },
   "source": [
    "### Frequency"
   ]
  },
  {
   "cell_type": "code",
   "execution_count": null,
   "id": "convenient-contents",
   "metadata": {
    "ExecuteTime": {
     "end_time": "2022-03-15T19:37:40.684429Z",
     "start_time": "2022-03-15T19:37:39.965223Z"
    },
    "papermill": {
     "duration": null,
     "end_time": null,
     "exception": null,
     "start_time": null,
     "status": "completed"
    },
    "tags": []
   },
   "outputs": [],
   "source": [
    "#Frequency Purchase (rate: purchases by day)\n",
    "df_aux = ( df1_purchases[['customer_id', 'invoice_no', 'invoice_date']].drop_duplicates()\n",
    "                                                             .groupby( 'customer_id')\n",
    "                                                             .agg( max_ = ( 'invoice_date', 'max' ), \n",
    "                                                                   min_ = ( 'invoice_date', 'min' ),\n",
    "                                                                   days_= ( 'invoice_date', lambda x: ( ( x.max() - x.min() ).days ) + 1 ),\n",
    "                                                                   buy_ = ( 'invoice_no', 'count' ) ) ).reset_index()\n",
    "# Frequency\n",
    "df_aux['frequency'] = df_aux[['buy_', 'days_']].apply( lambda x: x['buy_'] / x['days_'] if  x['days_'] != 0 else 0, axis=1 )\n",
    "\n",
    "# Merge\n",
    "df_ref = pd.merge( df_ref, df_aux[['customer_id', 'frequency']], on='customer_id', how='left' )\n",
    "df_ref.isna().sum()"
   ]
  },
  {
   "cell_type": "markdown",
   "id": "improving-species",
   "metadata": {
    "papermill": {
     "duration": null,
     "end_time": null,
     "exception": null,
     "start_time": null,
     "status": "completed"
    },
    "tags": []
   },
   "source": [
    "### Number of Returns"
   ]
  },
  {
   "cell_type": "code",
   "execution_count": null,
   "id": "aquatic-symbol",
   "metadata": {
    "ExecuteTime": {
     "end_time": "2022-03-15T19:37:42.733104Z",
     "start_time": "2022-03-15T19:37:42.712771Z"
    },
    "papermill": {
     "duration": null,
     "end_time": null,
     "exception": null,
     "start_time": null,
     "status": "completed"
    },
    "scrolled": true,
    "tags": []
   },
   "outputs": [],
   "source": [
    "#Number of Returns\n",
    "df_returns = df1_returns[['customer_id', 'quantity']].groupby( 'customer_id' ).sum().reset_index().rename( columns={'quantity':'qty_returns'} )\n",
    "df_returns['qty_returns'] = df_returns['qty_returns'] * -1\n",
    "\n",
    "df_ref = pd.merge( df_ref, df_returns, how='left', on='customer_id' )\n",
    "df_ref.loc[df_ref['qty_returns'].isna(), 'qty_returns'] = 0 #customers with 0 returned items\n",
    "\n",
    "df_ref.isna().sum()"
   ]
  },
  {
   "cell_type": "markdown",
   "id": "collaborative-baker",
   "metadata": {
    "papermill": {
     "duration": null,
     "end_time": null,
     "exception": null,
     "start_time": null,
     "status": "completed"
    },
    "tags": []
   },
   "source": [
    "# EXPLORATORY DATA ANALYSIS (EDA)"
   ]
  },
  {
   "cell_type": "code",
   "execution_count": null,
   "id": "roman-spice",
   "metadata": {
    "ExecuteTime": {
     "end_time": "2022-03-15T19:38:07.427429Z",
     "start_time": "2022-03-15T19:38:07.412772Z"
    },
    "papermill": {
     "duration": null,
     "end_time": null,
     "exception": null,
     "start_time": null,
     "status": "completed"
    },
    "tags": []
   },
   "outputs": [],
   "source": [
    "df3 = df_ref.dropna().copy()\n",
    "df3.isna().sum()"
   ]
  },
  {
   "cell_type": "markdown",
   "id": "statistical-vietnamese",
   "metadata": {
    "papermill": {
     "duration": null,
     "end_time": null,
     "exception": null,
     "start_time": null,
     "status": "completed"
    },
    "tags": []
   },
   "source": [
    "## Space Study"
   ]
  },
  {
   "cell_type": "code",
   "execution_count": null,
   "id": "growing-platform",
   "metadata": {
    "ExecuteTime": {
     "end_time": "2022-03-15T19:39:22.922386Z",
     "start_time": "2022-03-15T19:39:22.914397Z"
    },
    "papermill": {
     "duration": null,
     "end_time": null,
     "exception": null,
     "start_time": null,
     "status": "completed"
    },
    "tags": []
   },
   "outputs": [],
   "source": [
    "# Original dataset\n",
    "#df33 = df3.drop(columns = ['customer_id'], axis = '').copy()\n",
    "\n",
    "# dataset with selected columns due feature selection based on its importance\n",
    "cols_selected = ['customer_id', 'gross_revenue', 'recency_days', 'qty_products', 'frequency', 'qty_returns']\n",
    "df33 = df3[cols_selected].drop(columns = 'customer_id', axis = 1)"
   ]
  },
  {
   "cell_type": "code",
   "execution_count": null,
   "id": "israeli-congress",
   "metadata": {
    "ExecuteTime": {
     "end_time": "2022-03-15T19:39:30.141926Z",
     "start_time": "2022-03-15T19:39:30.123080Z"
    },
    "papermill": {
     "duration": null,
     "end_time": null,
     "exception": null,
     "start_time": null,
     "status": "completed"
    },
    "tags": []
   },
   "outputs": [],
   "source": [
    "df33.head()"
   ]
  },
  {
   "cell_type": "code",
   "execution_count": null,
   "id": "changing-revelation",
   "metadata": {
    "ExecuteTime": {
     "end_time": "2022-03-15T19:40:17.198414Z",
     "start_time": "2022-03-15T19:40:17.170376Z"
    },
    "papermill": {
     "duration": null,
     "end_time": null,
     "exception": null,
     "start_time": null,
     "status": "completed"
    },
    "tags": []
   },
   "outputs": [],
   "source": [
    "mm = pp.MinMaxScaler()\n",
    "\n",
    "df33['gross_revenue'] = mm.fit_transform(df33[['gross_revenue']])\n",
    "df33['recency_days']  = mm.fit_transform(df33[['recency_days']])\n",
    "df33['qty_products']  = mm.fit_transform(df33[['qty_products']])\n",
    "df33['frequency']     = mm.fit_transform(df33[['frequency']])\n",
    "df33['qty_returns']   = mm.fit_transform(df33[['qty_returns']])\n",
    "\n",
    "X = df33.copy()"
   ]
  },
  {
   "cell_type": "code",
   "execution_count": null,
   "id": "alternative-reynolds",
   "metadata": {
    "ExecuteTime": {
     "end_time": "2022-03-15T19:40:22.650580Z",
     "start_time": "2022-03-15T19:40:22.644164Z"
    },
    "papermill": {
     "duration": null,
     "end_time": null,
     "exception": null,
     "start_time": null,
     "status": "completed"
    },
    "tags": []
   },
   "outputs": [],
   "source": [
    "X.shape"
   ]
  },
  {
   "cell_type": "markdown",
   "id": "national-flooring",
   "metadata": {
    "papermill": {
     "duration": null,
     "end_time": null,
     "exception": null,
     "start_time": null,
     "status": "completed"
    },
    "tags": []
   },
   "source": [
    "#### PCA"
   ]
  },
  {
   "cell_type": "code",
   "execution_count": null,
   "id": "hired-jumping",
   "metadata": {
    "ExecuteTime": {
     "end_time": "2022-03-15T19:40:37.172210Z",
     "start_time": "2022-03-15T19:40:37.062455Z"
    },
    "papermill": {
     "duration": null,
     "end_time": null,
     "exception": null,
     "start_time": null,
     "status": "completed"
    },
    "scrolled": false,
    "tags": []
   },
   "outputs": [],
   "source": [
    "pca = dd.PCA( n_components = X.shape[1])\n",
    "\n",
    "\n",
    "principal_components = pca.fit_transform(X)\n",
    "\n",
    "# plot explained variables\n",
    "features = range(pca.n_components_)\n",
    "\n",
    "plt.bar(features, pca.explained_variance_ratio_, color = 'black') #quais componentes principais com a maior variação de dados\n",
    "\n",
    "# pca component\n",
    "df_pca = pd.DataFrame( principal_components )"
   ]
  },
  {
   "cell_type": "code",
   "execution_count": null,
   "id": "terminal-steps",
   "metadata": {
    "ExecuteTime": {
     "end_time": "2022-03-15T19:40:39.234703Z",
     "start_time": "2022-03-15T19:40:39.137766Z"
    },
    "papermill": {
     "duration": null,
     "end_time": null,
     "exception": null,
     "start_time": null,
     "status": "completed"
    },
    "tags": []
   },
   "outputs": [],
   "source": [
    "sns.scatterplot(x = 0, y = 1, data = df_pca);"
   ]
  },
  {
   "cell_type": "markdown",
   "id": "possible-teens",
   "metadata": {
    "papermill": {
     "duration": null,
     "end_time": null,
     "exception": null,
     "start_time": null,
     "status": "completed"
    },
    "tags": []
   },
   "source": [
    "#### UMAP"
   ]
  },
  {
   "cell_type": "code",
   "execution_count": null,
   "id": "southwest-blowing",
   "metadata": {
    "ExecuteTime": {
     "end_time": "2022-03-15T19:43:01.400578Z",
     "start_time": "2022-03-15T19:42:46.681414Z"
    },
    "papermill": {
     "duration": null,
     "end_time": null,
     "exception": null,
     "start_time": null,
     "status": "completed"
    },
    "tags": []
   },
   "outputs": [],
   "source": [
    "reducer = umap.UMAP(random_state = 42)\n",
    "embedding = reducer.fit_transform(X) #gera o espaço projetado - embedding é a projeção gerada em outro espaço\n",
    "\n",
    "#embedding\n",
    "df_umap = pd.DataFrame()\n",
    "df_umap['embedding_X'] = embedding[:, 0]\n",
    "df_umap['embedding_y'] = embedding[:, 1]\n",
    "\n",
    "#plot UMAP - cluster projetado de alta dimencionalidade\n",
    "sns.scatterplot(x = 'embedding_X', y = 'embedding_y',\n",
    "                data = df_umap);"
   ]
  },
  {
   "cell_type": "markdown",
   "id": "limited-degree",
   "metadata": {
    "papermill": {
     "duration": null,
     "end_time": null,
     "exception": null,
     "start_time": null,
     "status": "completed"
    },
    "tags": []
   },
   "source": [
    "#### t-SNE"
   ]
  },
  {
   "cell_type": "code",
   "execution_count": null,
   "id": "chubby-enlargement",
   "metadata": {
    "ExecuteTime": {
     "end_time": "2022-03-15T19:43:15.188703Z",
     "start_time": "2022-03-15T19:43:01.402115Z"
    },
    "papermill": {
     "duration": null,
     "end_time": null,
     "exception": null,
     "start_time": null,
     "status": "completed"
    },
    "scrolled": false,
    "tags": []
   },
   "outputs": [],
   "source": [
    "reducer = mn.TSNE( n_components = 2, n_jobs = -1, random_state = 42)\n",
    "embedding = reducer.fit_transform(X) #gera o espaço projetado - embedding é a projeção gerada em outro espaço\n",
    "\n",
    "#embedding\n",
    "df_tsne = pd.DataFrame()\n",
    "df_tsne['embedding_X'] = embedding[:, 0]\n",
    "df_tsne['embedding_y'] = embedding[:, 1]\n",
    "\n",
    "#plot UMAP - cluster projetado de alta dimencionalidade\n",
    "sns.scatterplot(x = 'embedding_X', y = 'embedding_y',\n",
    "                data = df_tsne);"
   ]
  },
  {
   "cell_type": "markdown",
   "id": "substantial-inquiry",
   "metadata": {
    "papermill": {
     "duration": null,
     "end_time": null,
     "exception": null,
     "start_time": null,
     "status": "completed"
    },
    "tags": []
   },
   "source": [
    "#### Tree-Based Embedding"
   ]
  },
  {
   "cell_type": "code",
   "execution_count": null,
   "id": "f378769f",
   "metadata": {
    "ExecuteTime": {
     "end_time": "2022-03-15T19:44:05.714294Z",
     "start_time": "2022-03-15T19:44:05.696743Z"
    },
    "papermill": {
     "duration": null,
     "end_time": null,
     "exception": null,
     "start_time": null,
     "status": "completed"
    },
    "tags": []
   },
   "outputs": [],
   "source": [
    "df3.head()"
   ]
  },
  {
   "cell_type": "code",
   "execution_count": null,
   "id": "connected-wonder",
   "metadata": {
    "ExecuteTime": {
     "end_time": "2022-03-15T19:46:56.890448Z",
     "start_time": "2022-03-15T19:46:55.889772Z"
    },
    "papermill": {
     "duration": null,
     "end_time": null,
     "exception": null,
     "start_time": null,
     "status": "completed"
    },
    "tags": []
   },
   "outputs": [],
   "source": [
    "# training dataset \n",
    "X = df33.drop(columns = ['gross_revenue'], axis = 1) #target variable\n",
    "y = df33['gross_revenue']\n",
    "\n",
    "# I could use boruta to select features to build a better embedding space\n",
    "\n",
    "# model definition\n",
    "rf_model = en.RandomForestRegressor(n_estimators = 100, random_state = 42)\n",
    "\n",
    "# model training\n",
    "rf_model.fit(X,y)\n",
    "\n",
    "# leaf\n",
    "df_leaf = pd.DataFrame(rf_model.apply( X ))"
   ]
  },
  {
   "cell_type": "code",
   "execution_count": null,
   "id": "fleet-ozone",
   "metadata": {
    "ExecuteTime": {
     "end_time": "2022-03-15T19:47:20.452976Z",
     "start_time": "2022-03-15T19:47:10.832825Z"
    },
    "papermill": {
     "duration": null,
     "end_time": null,
     "exception": null,
     "start_time": null,
     "status": "completed"
    },
    "scrolled": true,
    "tags": []
   },
   "outputs": [],
   "source": [
    "# using UMAP to reduce the space study from 100 to 2\n",
    "reducer = umap.UMAP(random_state = 42)\n",
    "embedding = reducer.fit_transform(df_leaf) #gera o espaço projetado - embedding é a projeção gerada em outro espaço\n",
    "\n",
    "#embedding\n",
    "df_tree = pd.DataFrame()\n",
    "df_tree['embedding_X'] = embedding[:, 0]\n",
    "df_tree['embedding_y'] = embedding[:, 1]\n",
    "\n",
    "#plot UMAP - cluster projetado de alta dimencionalidade\n",
    "sns.scatterplot(x = 'embedding_X', y = 'embedding_y',\n",
    "                data = df_tree);"
   ]
  },
  {
   "cell_type": "markdown",
   "id": "distributed-rebate",
   "metadata": {
    "papermill": {
     "duration": null,
     "end_time": null,
     "exception": null,
     "start_time": null,
     "status": "completed"
    },
    "tags": []
   },
   "source": [
    "# DATA PREPARATION"
   ]
  },
  {
   "cell_type": "code",
   "execution_count": null,
   "id": "single-camera",
   "metadata": {
    "ExecuteTime": {
     "end_time": "2022-03-15T21:51:35.741093Z",
     "start_time": "2022-03-15T21:51:35.724015Z"
    },
    "papermill": {
     "duration": null,
     "end_time": null,
     "exception": null,
     "start_time": null,
     "status": "completed"
    },
    "tags": []
   },
   "outputs": [],
   "source": [
    "# Tree-Based Embbeding\n",
    "df4 = df_tree.copy()\n",
    "\n",
    "# # UMAP Embbeding\n",
    "# df4 = df_umap.copy()\n",
    "\n",
    "# # TSNE Embedding\n",
    "# df4 = df_tsne.copy()"
   ]
  },
  {
   "cell_type": "markdown",
   "id": "decimal-editing",
   "metadata": {
    "papermill": {
     "duration": null,
     "end_time": null,
     "exception": null,
     "start_time": null,
     "status": "completed"
    },
    "tags": []
   },
   "source": [
    "# HYPERPARAMETER FINE-TUNNING"
   ]
  },
  {
   "cell_type": "code",
   "execution_count": null,
   "id": "herbal-internet",
   "metadata": {
    "ExecuteTime": {
     "end_time": "2022-03-15T20:59:09.411426Z",
     "start_time": "2022-03-15T20:59:09.405310Z"
    },
    "papermill": {
     "duration": null,
     "end_time": null,
     "exception": null,
     "start_time": null,
     "status": "completed"
    },
    "tags": []
   },
   "outputs": [],
   "source": [
    "X = df4.copy()"
   ]
  },
  {
   "cell_type": "code",
   "execution_count": null,
   "id": "elect-looking",
   "metadata": {
    "ExecuteTime": {
     "end_time": "2022-03-15T20:59:10.986447Z",
     "start_time": "2022-03-15T20:59:10.973806Z"
    },
    "papermill": {
     "duration": null,
     "end_time": null,
     "exception": null,
     "start_time": null,
     "status": "completed"
    },
    "scrolled": true,
    "tags": []
   },
   "outputs": [],
   "source": [
    "X.head()"
   ]
  },
  {
   "cell_type": "code",
   "execution_count": null,
   "id": "missing-scholar",
   "metadata": {
    "ExecuteTime": {
     "end_time": "2022-03-15T20:59:13.020279Z",
     "start_time": "2022-03-15T20:59:13.012946Z"
    },
    "papermill": {
     "duration": null,
     "end_time": null,
     "exception": null,
     "start_time": null,
     "status": "completed"
    },
    "tags": []
   },
   "outputs": [],
   "source": [
    "clusters = np.arange(2, 31, 1) #silhouette was increasing, so we put more k points\n",
    "clusters"
   ]
  },
  {
   "cell_type": "markdown",
   "id": "tired-sword",
   "metadata": {
    "papermill": {
     "duration": null,
     "end_time": null,
     "exception": null,
     "start_time": null,
     "status": "completed"
    },
    "tags": []
   },
   "source": [
    "## K-Means"
   ]
  },
  {
   "cell_type": "code",
   "execution_count": null,
   "id": "excited-registrar",
   "metadata": {
    "ExecuteTime": {
     "end_time": "2022-03-15T21:00:15.726282Z",
     "start_time": "2022-03-15T20:59:15.454431Z"
    },
    "papermill": {
     "duration": null,
     "end_time": null,
     "exception": null,
     "start_time": null,
     "status": "completed"
    },
    "tags": []
   },
   "outputs": [],
   "source": [
    "kmeans_sil = []\n",
    "\n",
    "for k in clusters:\n",
    "    # model definition\n",
    "    kmeans_model = c.KMeans( n_clusters = k, n_init = 100, random_state = 42 )\n",
    "\n",
    "    # model training\n",
    "    kmeans_model.fit(X)\n",
    "\n",
    "    # model predict\n",
    "    labels = kmeans_model.predict(X)\n",
    "\n",
    "    # model performance\n",
    "    sil = m.silhouette_score( X, labels, metric = 'euclidean')\n",
    "    kmeans_sil.append(sil)  "
   ]
  },
  {
   "cell_type": "code",
   "execution_count": null,
   "id": "stainless-stationery",
   "metadata": {
    "ExecuteTime": {
     "end_time": "2022-03-15T21:00:15.807840Z",
     "start_time": "2022-03-15T21:00:15.727678Z"
    },
    "papermill": {
     "duration": null,
     "end_time": null,
     "exception": null,
     "start_time": null,
     "status": "completed"
    },
    "tags": []
   },
   "outputs": [],
   "source": [
    "plt.plot( clusters, kmeans_sil, linestyle = '--', marker = 'o', color = 'b' )\n",
    "plt.xlabel( 'K' );\n",
    "plt.ylabel('Silhouette Score');\n",
    "plt.title('KMeans Silhouette Score per K ');"
   ]
  },
  {
   "cell_type": "markdown",
   "id": "korean-black",
   "metadata": {
    "papermill": {
     "duration": null,
     "end_time": null,
     "exception": null,
     "start_time": null,
     "status": "completed"
    },
    "tags": []
   },
   "source": [
    "## GMM"
   ]
  },
  {
   "cell_type": "code",
   "execution_count": null,
   "id": "intelligent-confirmation",
   "metadata": {
    "ExecuteTime": {
     "end_time": "2022-03-15T20:47:10.743157Z",
     "start_time": "2022-03-15T20:30:03.697606Z"
    },
    "papermill": {
     "duration": null,
     "end_time": null,
     "exception": null,
     "start_time": null,
     "status": "completed"
    },
    "tags": []
   },
   "outputs": [],
   "source": [
    "gmm_sil = []\n",
    "for k in clusters:\n",
    "    # model definition\n",
    "    gmm_model = mx.GaussianMixture(n_components = k, n_init = 100, random_state = 42)\n",
    "    \n",
    "    # model training\n",
    "    \n",
    "    gmm_model.fit(X)\n",
    "    \n",
    "    # model prediction\n",
    "    \n",
    "    labels = gmm_model.predict(X)\n",
    "    \n",
    "    # model performance\n",
    "    sil = m.silhouette_score(X, labels, metric = 'euclidean')\n",
    "    gmm_sil.append(sil)"
   ]
  },
  {
   "cell_type": "code",
   "execution_count": null,
   "id": "unusual-landing",
   "metadata": {
    "ExecuteTime": {
     "end_time": "2022-03-15T20:47:10.860990Z",
     "start_time": "2022-03-15T20:47:10.744777Z"
    },
    "papermill": {
     "duration": null,
     "end_time": null,
     "exception": null,
     "start_time": null,
     "status": "completed"
    },
    "tags": []
   },
   "outputs": [],
   "source": [
    "plt.plot(clusters, gmm_sil, linestyle = '--', marker = 'o', color = 'b')\n",
    "plt.xlabel( 'K' );\n",
    "plt.ylabel('Silhouette Score');\n",
    "plt.title('GMM Silhouette Score per K ');"
   ]
  },
  {
   "cell_type": "markdown",
   "id": "contrary-casino",
   "metadata": {
    "papermill": {
     "duration": null,
     "end_time": null,
     "exception": null,
     "start_time": null,
     "status": "completed"
    },
    "tags": []
   },
   "source": [
    "## Hierarchical Clustering"
   ]
  },
  {
   "cell_type": "code",
   "execution_count": null,
   "id": "incorrect-still",
   "metadata": {
    "ExecuteTime": {
     "end_time": "2022-03-15T20:47:11.487548Z",
     "start_time": "2022-03-15T20:47:10.862488Z"
    },
    "papermill": {
     "duration": null,
     "end_time": null,
     "exception": null,
     "start_time": null,
     "status": "completed"
    },
    "tags": []
   },
   "outputs": [],
   "source": [
    "# model definition and training\n",
    "hc_model = hc.linkage(X, 'ward')"
   ]
  },
  {
   "cell_type": "markdown",
   "id": "lined-selection",
   "metadata": {
    "papermill": {
     "duration": null,
     "end_time": null,
     "exception": null,
     "start_time": null,
     "status": "completed"
    },
    "tags": []
   },
   "source": [
    "### H-Clustering Silhouette Score"
   ]
  },
  {
   "cell_type": "code",
   "execution_count": null,
   "id": "wound-hopkins",
   "metadata": {
    "ExecuteTime": {
     "end_time": "2022-03-15T20:47:39.738935Z",
     "start_time": "2022-03-15T20:47:11.488737Z"
    },
    "code_folding": [],
    "papermill": {
     "duration": null,
     "end_time": null,
     "exception": null,
     "start_time": null,
     "status": "completed"
    },
    "tags": []
   },
   "outputs": [],
   "source": [
    "hc_sil = []\n",
    "for k in clusters:\n",
    "    #model definition and training\n",
    "    hc_model = hc.linkage(X, 'ward')\n",
    "\n",
    "    # model predict\n",
    "    labels = hc.fcluster(hc_model, k, criterion = 'maxclust')\n",
    "\n",
    "    # metrics\n",
    "    sil = m.silhouette_score(X, labels, metric = 'euclidean')\n",
    "    hc_sil.append(sil)"
   ]
  },
  {
   "cell_type": "code",
   "execution_count": null,
   "id": "modified-sapphire",
   "metadata": {
    "ExecuteTime": {
     "end_time": "2022-03-15T20:47:39.827544Z",
     "start_time": "2022-03-15T20:47:39.739912Z"
    },
    "papermill": {
     "duration": null,
     "end_time": null,
     "exception": null,
     "start_time": null,
     "status": "completed"
    },
    "tags": []
   },
   "outputs": [],
   "source": [
    "plt.plot(clusters, hc_sil, linestyle = '--', marker = 'o', color = 'b')"
   ]
  },
  {
   "cell_type": "markdown",
   "id": "joined-eclipse",
   "metadata": {
    "papermill": {
     "duration": null,
     "end_time": null,
     "exception": null,
     "start_time": null,
     "status": "completed"
    },
    "tags": []
   },
   "source": [
    "## Results"
   ]
  },
  {
   "cell_type": "code",
   "execution_count": null,
   "id": "multiple-intro",
   "metadata": {
    "ExecuteTime": {
     "end_time": "2022-03-15T20:12:34.731037Z",
     "start_time": "2022-03-15T20:12:34.665038Z"
    },
    "cell_style": "split",
    "papermill": {
     "duration": null,
     "end_time": null,
     "exception": null,
     "start_time": null,
     "status": "completed"
    },
    "scrolled": true,
    "tags": []
   },
   "outputs": [],
   "source": [
    "## Results - Tree Based Embedding\n",
    "df_results = pd.DataFrame({'KMeans:': kmeans_sil,\n",
    "                           'GMM': gmm_sil,\n",
    "                           'HC': hc_sil}\n",
    "                           ).T\n",
    "\n",
    "df_results.columns = clusters\n",
    "df_results.style.highlight_max(color = 'lightgreen', axis = 1)"
   ]
  },
  {
   "cell_type": "code",
   "execution_count": null,
   "id": "77a85a5a",
   "metadata": {
    "ExecuteTime": {
     "end_time": "2022-03-15T20:47:39.856410Z",
     "start_time": "2022-03-15T20:47:39.828674Z"
    },
    "cell_style": "split",
    "papermill": {
     "duration": null,
     "end_time": null,
     "exception": null,
     "start_time": null,
     "status": "completed"
    },
    "tags": []
   },
   "outputs": [],
   "source": [
    "## Results - UMAP Embedding\n",
    "df_results = pd.DataFrame({'KMeans:': kmeans_sil,\n",
    "                           'GMM': gmm_sil,\n",
    "                           'HC': hc_sil}\n",
    "                           ).T\n",
    "\n",
    "df_results.columns = clusters\n",
    "df_results.style.highlight_max(color = 'lightgreen', axis = 1)"
   ]
  },
  {
   "cell_type": "code",
   "execution_count": null,
   "id": "f32a7659",
   "metadata": {
    "ExecuteTime": {
     "end_time": "2022-03-15T20:47:39.856410Z",
     "start_time": "2022-03-15T20:47:39.828674Z"
    },
    "cell_style": "split",
    "papermill": {
     "duration": null,
     "end_time": null,
     "exception": null,
     "start_time": null,
     "status": "completed"
    },
    "tags": []
   },
   "outputs": [],
   "source": [
    "## Results - TSNE Embedding\n",
    "df_results = pd.DataFrame({'KMeans:': kmeans_sil,\n",
    "                           'GMM': gmm_sil,\n",
    "                           'HC': hc_sil}\n",
    "                           ).T\n",
    "\n",
    "df_results.columns = clusters\n",
    "df_results.style.highlight_max(color = 'lightgreen', axis = 1)"
   ]
  },
  {
   "cell_type": "markdown",
   "id": "electronic-release",
   "metadata": {
    "papermill": {
     "duration": null,
     "end_time": null,
     "exception": null,
     "start_time": null,
     "status": "completed"
    },
    "tags": []
   },
   "source": [
    "# MACHINE LEARNING MODEL TRAINING"
   ]
  },
  {
   "cell_type": "markdown",
   "id": "stuffed-rally",
   "metadata": {
    "papermill": {
     "duration": null,
     "end_time": null,
     "exception": null,
     "start_time": null,
     "status": "completed"
    },
    "tags": []
   },
   "source": [
    "## K-Means"
   ]
  },
  {
   "cell_type": "code",
   "execution_count": null,
   "id": "recreational-talent",
   "metadata": {
    "ExecuteTime": {
     "end_time": "2022-03-15T21:10:05.071592Z",
     "start_time": "2022-03-15T21:10:04.227205Z"
    },
    "papermill": {
     "duration": null,
     "end_time": null,
     "exception": null,
     "start_time": null,
     "status": "completed"
    },
    "tags": []
   },
   "outputs": [],
   "source": [
    "# model definition\n",
    "k = 8;\n",
    "kmeans = c.KMeans(init = 'random', n_clusters = k, n_init = 100, max_iter = 300, random_state = 42)\n",
    "\n",
    "# model training\n",
    "kmeans.fit(X)\n",
    "\n",
    "# clustering\n",
    "labels = kmeans.labels_"
   ]
  },
  {
   "cell_type": "code",
   "execution_count": null,
   "id": "photographic-space",
   "metadata": {
    "ExecuteTime": {
     "end_time": "2022-03-14T18:24:46.085489Z",
     "start_time": "2022-03-14T18:24:44.733942Z"
    },
    "papermill": {
     "duration": null,
     "end_time": null,
     "exception": null,
     "start_time": null,
     "status": "completed"
    },
    "tags": []
   },
   "outputs": [],
   "source": [
    "# # trying with GMM beacuse of its approach in the embedding space\n",
    "# # k=11 ;\n",
    "# # model definition\n",
    "# gmm_model = mx.GaussianMixture(n_components = k,n_init = 10 ,random_state=42)\n",
    "\n",
    "# # model training\n",
    "# gmm_model.fit(X)\n",
    "\n",
    "# # model prediction\n",
    "# labels = gmm_model.predict(X)"
   ]
  },
  {
   "cell_type": "markdown",
   "id": "veterinary-oxford",
   "metadata": {
    "papermill": {
     "duration": null,
     "end_time": null,
     "exception": null,
     "start_time": null,
     "status": "completed"
    },
    "tags": []
   },
   "source": [
    "## Cluster Validation"
   ]
  },
  {
   "cell_type": "code",
   "execution_count": null,
   "id": "recovered-algorithm",
   "metadata": {
    "ExecuteTime": {
     "end_time": "2022-03-15T21:10:08.145652Z",
     "start_time": "2022-03-15T21:10:07.766042Z"
    },
    "papermill": {
     "duration": null,
     "end_time": null,
     "exception": null,
     "start_time": null,
     "status": "completed"
    },
    "tags": []
   },
   "outputs": [],
   "source": [
    "# WSS (Within-cluster Sum of Square )\n",
    "# print('WSS score: {}'.format(kmeans.inertia_))\n",
    "\n",
    "# SS (Silhouette Score)\n",
    "print('SS score: {}'.format(m.silhouette_score(X, labels, metric = 'euclidean')))"
   ]
  },
  {
   "cell_type": "markdown",
   "id": "frequent-brooklyn",
   "metadata": {
    "papermill": {
     "duration": null,
     "end_time": null,
     "exception": null,
     "start_time": null,
     "status": "completed"
    },
    "tags": []
   },
   "source": [
    "# CLUSTER ANALYSIS"
   ]
  },
  {
   "cell_type": "code",
   "execution_count": null,
   "id": "2f06adc5",
   "metadata": {
    "ExecuteTime": {
     "end_time": "2022-03-15T21:52:13.910871Z",
     "start_time": "2022-03-15T21:52:13.902163Z"
    },
    "papermill": {
     "duration": null,
     "end_time": null,
     "exception": null,
     "start_time": null,
     "status": "completed"
    },
    "tags": []
   },
   "outputs": [],
   "source": [
    "df9 = X.copy()\n",
    "df9['cluster'] = labels"
   ]
  },
  {
   "cell_type": "markdown",
   "id": "metric-genetics",
   "metadata": {
    "papermill": {
     "duration": null,
     "end_time": null,
     "exception": null,
     "start_time": null,
     "status": "completed"
    },
    "tags": []
   },
   "source": [
    "## Visualization Inspection"
   ]
  },
  {
   "cell_type": "code",
   "execution_count": null,
   "id": "2e4876a0",
   "metadata": {
    "ExecuteTime": {
     "end_time": "2022-03-15T21:52:20.941973Z",
     "start_time": "2022-03-15T21:52:20.560552Z"
    },
    "papermill": {
     "duration": null,
     "end_time": null,
     "exception": null,
     "start_time": null,
     "status": "completed"
    },
    "tags": []
   },
   "outputs": [],
   "source": [
    "# k = 8 for  KMeans\n",
    "sns.scatterplot(x = 'embedding_X', y = 'embedding_y', hue = 'cluster', data = df9, palette = 'deep')"
   ]
  },
  {
   "cell_type": "markdown",
   "id": "herbal-theology",
   "metadata": {
    "papermill": {
     "duration": null,
     "end_time": null,
     "exception": null,
     "start_time": null,
     "status": "completed"
    },
    "tags": []
   },
   "source": [
    "## Cluster Profile"
   ]
  },
  {
   "cell_type": "code",
   "execution_count": null,
   "id": "dental-nickname",
   "metadata": {
    "ExecuteTime": {
     "end_time": "2022-03-15T21:53:04.304812Z",
     "start_time": "2022-03-15T21:53:04.280957Z"
    },
    "papermill": {
     "duration": null,
     "end_time": null,
     "exception": null,
     "start_time": null,
     "status": "completed"
    },
    "tags": []
   },
   "outputs": [],
   "source": [
    "df92 = df3[cols_selected].copy()\n",
    "df92['cluster'] = labels\n",
    "df92.head()"
   ]
  },
  {
   "cell_type": "code",
   "execution_count": null,
   "id": "organizational-hawaii",
   "metadata": {
    "ExecuteTime": {
     "end_time": "2022-03-15T21:53:08.618551Z",
     "start_time": "2022-03-15T21:53:08.562211Z"
    },
    "papermill": {
     "duration": null,
     "end_time": null,
     "exception": null,
     "start_time": null,
     "status": "completed"
    },
    "scrolled": true,
    "tags": []
   },
   "outputs": [],
   "source": [
    "# Explaining clusters profile based on this averages\n",
    "# Number of customer\n",
    "df_cluster = df92[['customer_id', 'cluster']].groupby( 'cluster' ).count().reset_index()\n",
    "df_cluster['perc_customer'] = 100*( df_cluster['customer_id'] / df_cluster['customer_id'].sum() )\n",
    "\n",
    "# Avg Gross revenue\n",
    "df_avg_gross_revenue = df92[['gross_revenue', 'cluster']].groupby( 'cluster' ).mean().reset_index()\n",
    "df_cluster = pd.merge( df_cluster, df_avg_gross_revenue, how='inner', on='cluster' )\n",
    "\n",
    "# Avg recency days\n",
    "df_avg_recency_days = df92[['recency_days', 'cluster']].groupby( 'cluster' ).mean().reset_index()\n",
    "df_cluster = pd.merge( df_cluster, df_avg_recency_days, how='inner', on='cluster' )\n",
    "\n",
    "# Avg qty products\n",
    "df_qty_products = df92[['qty_products', 'cluster']].groupby( 'cluster' ).mean().reset_index()\n",
    "df_cluster = pd.merge( df_cluster, df_qty_products, how='inner', on='cluster' )\n",
    "\n",
    "# Frequency\n",
    "df_frequency = df92[['frequency', 'cluster']].groupby( 'cluster' ).mean().reset_index()\n",
    "df_cluster = pd.merge( df_cluster, df_frequency, how='inner', on='cluster' )\n",
    "\n",
    "# Avg qty returns\n",
    "df_qty_returns = df92[['qty_returns', 'cluster']].groupby( 'cluster' ).mean().reset_index()\n",
    "df_cluster = pd.merge( df_cluster, df_qty_returns, how='inner', on='cluster' )\n",
    "\n",
    "df_cluster"
   ]
  },
  {
   "cell_type": "code",
   "execution_count": null,
   "id": "wireless-index",
   "metadata": {
    "ExecuteTime": {
     "end_time": "2022-03-13T19:05:52.836567Z",
     "start_time": "2022-03-13T19:05:52.832235Z"
    },
    "papermill": {
     "duration": null,
     "end_time": null,
     "exception": null,
     "start_time": null,
     "status": "completed"
    },
    "tags": []
   },
   "outputs": [],
   "source": [
    "# during the new EDA we can do a analyse inside each cluster"
   ]
  },
  {
   "cell_type": "markdown",
   "id": "abstract-painting",
   "metadata": {
    "papermill": {
     "duration": null,
     "end_time": null,
     "exception": null,
     "start_time": null,
     "status": "completed"
    },
    "tags": []
   },
   "source": [
    "Cluster Insiders (04):\n",
    "\n",
    "- Number of customers: 551 (9.67% of costumers)\n",
    "- Avg Gross Revenue: $10410,00\n",
    "- Recency Average: 45 days\n",
    "- Avg of Qty Products Purchased: 366 un\n",
    "- Purchase Frequency: 0.21 products per day"
   ]
  },
  {
   "cell_type": "markdown",
   "id": "ee05ffc7",
   "metadata": {
    "papermill": {
     "duration": null,
     "end_time": null,
     "exception": null,
     "start_time": null,
     "status": "completed"
    },
    "tags": []
   },
   "source": [
    "# Exploratory Dada Analysis"
   ]
  },
  {
   "cell_type": "code",
   "execution_count": null,
   "id": "0400833a",
   "metadata": {
    "ExecuteTime": {
     "end_time": "2022-03-15T21:53:16.040064Z",
     "start_time": "2022-03-15T21:53:16.035373Z"
    },
    "papermill": {
     "duration": null,
     "end_time": null,
     "exception": null,
     "start_time": null,
     "status": "completed"
    },
    "tags": []
   },
   "outputs": [],
   "source": [
    "df10 = df92.copy()"
   ]
  },
  {
   "cell_type": "code",
   "execution_count": null,
   "id": "71f4ecb4",
   "metadata": {
    "ExecuteTime": {
     "end_time": "2022-03-15T21:53:17.105471Z",
     "start_time": "2022-03-15T21:53:17.090721Z"
    },
    "papermill": {
     "duration": null,
     "end_time": null,
     "exception": null,
     "start_time": null,
     "status": "completed"
    },
    "tags": []
   },
   "outputs": [],
   "source": [
    "df10.head()"
   ]
  },
  {
   "cell_type": "markdown",
   "id": "fifth-tooth",
   "metadata": {
    "papermill": {
     "duration": null,
     "end_time": null,
     "exception": null,
     "start_time": null,
     "status": "completed"
    },
    "tags": []
   },
   "source": [
    "# MODEL DEPLOYMENT"
   ]
  },
  {
   "cell_type": "code",
   "execution_count": null,
   "id": "0ba1ca32",
   "metadata": {
    "ExecuteTime": {
     "end_time": "2022-03-15T21:53:20.444445Z",
     "start_time": "2022-03-15T21:53:20.438697Z"
    },
    "papermill": {
     "duration": null,
     "end_time": null,
     "exception": null,
     "start_time": null,
     "status": "completed"
    },
    "tags": []
   },
   "outputs": [],
   "source": [
    "df92.dtypes"
   ]
  },
  {
   "cell_type": "code",
   "execution_count": null,
   "id": "ee005f92",
   "metadata": {
    "ExecuteTime": {
     "end_time": "2022-03-15T21:53:24.927405Z",
     "start_time": "2022-03-15T21:53:24.919010Z"
    },
    "papermill": {
     "duration": null,
     "end_time": null,
     "exception": null,
     "start_time": null,
     "status": "completed"
    },
    "tags": []
   },
   "outputs": [],
   "source": [
    "df92['recency_days'] = df92['recency_days'].astype(int)\n",
    "df92['qty_products'] = df92['qty_products'].astype(int)\n",
    "df92['qty_returns'] = df92['qty_returns'].astype(int)"
   ]
  },
  {
   "cell_type": "code",
   "execution_count": null,
   "id": "f8463392",
   "metadata": {
    "ExecuteTime": {
     "end_time": "2022-03-16T18:54:02.500882Z",
     "start_time": "2022-03-16T18:54:02.487148Z"
    },
    "papermill": {
     "duration": null,
     "end_time": null,
     "exception": null,
     "start_time": null,
     "status": "completed"
    },
    "tags": []
   },
   "outputs": [],
   "source": [
    "# # create database\n",
    "# conn = sqlite3.connect('insiders_db.sqlite')\n",
    "\n",
    "# # create table\n",
    "# query_create_insiders = \"\"\"\n",
    "#     CREATE TABLE insiders (\n",
    "#         custer_id     INTEGER,\n",
    "#         gross_revenue REAL,\n",
    "#         recency_days  INTEGER,\n",
    "#         qty_products  INTEGER,\n",
    "#         frequency     INTEGER,\n",
    "#         qty_returns   INTEGER,\n",
    "#         cluster       INTEGER\n",
    "#         )\n",
    "# \"\"\"\n",
    "\n",
    "# conn.execute(query_create_insiders)\n",
    "# conn.commit()\n",
    "# conn.close()"
   ]
  },
  {
   "cell_type": "code",
   "execution_count": null,
   "id": "987fc3d7",
   "metadata": {
    "ExecuteTime": {
     "end_time": "2022-03-16T18:57:33.727304Z",
     "start_time": "2022-03-16T18:57:33.712364Z"
    },
    "papermill": {
     "duration": null,
     "end_time": null,
     "exception": null,
     "start_time": null,
     "status": "completed"
    },
    "tags": []
   },
   "outputs": [],
   "source": [
    "# database connection\n",
    "conn = create_engine('sqlite:///insiders_db.sqlite')\n",
    "\n",
    "# # drop table\n",
    "# query_drop_insiders = \"\"\"\n",
    "#     DROP TABLE insiders\n",
    "\n",
    "# \"\"\"\n",
    "\n",
    "#create table\n",
    "query_create_insiders = \"\"\"\n",
    "    CREATE TABLE insiders (\n",
    "        customer_id   INTEGER,\n",
    "        gross_revenue REAL,\n",
    "        recency_days  INTEGER,\n",
    "        qty_products  INTEGER,\n",
    "        frequency     INTEGER,\n",
    "        qty_returns   INTEGER,\n",
    "        cluster       INTEGER\n",
    "    )\n",
    "\"\"\"\n",
    "\n",
    "conn.execute(query_create_insiders)"
   ]
  },
  {
   "cell_type": "code",
   "execution_count": null,
   "id": "6cbd3716",
   "metadata": {
    "ExecuteTime": {
     "end_time": "2022-03-16T18:57:53.126299Z",
     "start_time": "2022-03-16T18:57:53.091413Z"
    },
    "papermill": {
     "duration": null,
     "end_time": null,
     "exception": null,
     "start_time": null,
     "status": "completed"
    },
    "tags": []
   },
   "outputs": [],
   "source": [
    "# insert into data\n",
    "df92.to_sql('insiders', con = conn, if_exists = 'append', index = False)"
   ]
  },
  {
   "cell_type": "code",
   "execution_count": null,
   "id": "89e7a1d6",
   "metadata": {
    "ExecuteTime": {
     "end_time": "2022-03-16T18:57:55.812306Z",
     "start_time": "2022-03-16T18:57:55.781571Z"
    },
    "papermill": {
     "duration": null,
     "end_time": null,
     "exception": null,
     "start_time": null,
     "status": "completed"
    },
    "tags": []
   },
   "outputs": [],
   "source": [
    "# consulting database\n",
    "# get query\n",
    "query_collect = \"\"\"\n",
    "    SELECT * from insiders\n",
    "\"\"\"\n",
    "\n",
    "df = pd.read_sql_query(query_collect, conn)\n",
    "df.head()"
   ]
  }
 ],
 "metadata": {
  "kernelspec": {
   "display_name": "Python 3 (ipykernel)",
   "language": "python",
   "name": "python3"
  },
  "language_info": {
   "codemirror_mode": {
    "name": "ipython",
    "version": 3
   },
   "file_extension": ".py",
   "mimetype": "text/x-python",
   "name": "python",
   "nbconvert_exporter": "python",
   "pygments_lexer": "ipython3",
   "version": "3.8.10"
  },
  "nbTranslate": {
   "displayLangs": [
    "*"
   ],
   "hotkey": "alt-t",
   "langInMainMenu": true,
   "sourceLang": "en",
   "targetLang": "fr",
   "useGoogleTranslate": true
  },
  "papermill": {
   "default_parameters": {},
   "duration": 7.588445,
   "end_time": "2022-03-16T23:56:17.971545",
   "environment_variables": {},
   "exception": null,
   "input_path": "/home/marxcerqueira/repos/Kaggle-HighValue-Custormers-Identification/src/models/c9.0-mc-deploy.ipynb",
   "output_path": "/home/marxcerqueira/repos/Kaggle-HighValue-Custormers-Identification/reports/c9.0-mc-deploy-.ipynb",
   "parameters": {},
   "start_time": "2022-03-16T23:56:10.383100",
   "version": "2.3.4"
  },
  "toc": {
   "base_numbering": 1,
   "nav_menu": {},
   "number_sections": true,
   "sideBar": true,
   "skip_h1_title": false,
   "title_cell": "Table of Contents",
   "title_sidebar": "Contents",
   "toc_cell": false,
   "toc_position": {},
   "toc_section_display": true,
   "toc_window_display": false
  }
 },
 "nbformat": 4,
 "nbformat_minor": 5
}